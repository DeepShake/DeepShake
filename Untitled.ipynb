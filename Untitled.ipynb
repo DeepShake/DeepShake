{
 "cells": [
  {
   "cell_type": "code",
   "execution_count": 1,
   "metadata": {},
   "outputs": [],
   "source": [
    "import json"
   ]
  },
  {
   "cell_type": "code",
   "execution_count": 10,
   "metadata": {},
   "outputs": [
    {
     "name": "stdout",
     "output_type": "stream",
     "text": [
      "2019-06-12.npy\n",
      "3\n",
      "2019-07-02.npy\n",
      "12\n",
      "2019-07-07.npy\n",
      "1235\n",
      "2019-06-10.npy\n",
      "10\n",
      "2019-06-26.npy\n",
      "11\n",
      "2019-06-29.npy\n",
      "7\n",
      "2019-06-08.npy\n",
      "11\n",
      "2019-06-04.npy\n",
      "4\n",
      "2019-06-03.npy\n",
      "2\n",
      "2019-06-30.npy\n",
      "5\n",
      "2019-06-19.npy\n",
      "6\n",
      "2019-06-06.npy\n",
      "15\n",
      "2019-06-27.npy\n",
      "6\n",
      "2019-07-06.npy\n",
      "1896\n",
      "2019-06-07.npy\n",
      "4\n",
      "2019-06-20.npy\n",
      "4\n",
      "2019-04-28.npy\n",
      "1\n",
      "2019-06-16.npy\n",
      "20\n",
      "2019-06-15.npy\n",
      "12\n",
      "2019-06-22.npy\n",
      "2\n",
      "2019-07-04.npy\n",
      "516\n",
      "2019-06-01.npy\n",
      "5\n",
      "2019-06-11.npy\n",
      "2\n",
      "2019-06-28.npy\n",
      "7\n",
      "2019-06-09.npy\n",
      "5\n",
      "2019-06-05.npy\n",
      "10\n",
      "2019-06-13.npy\n",
      "9\n",
      "2019-07-03.npy\n",
      "1\n",
      "2019-06-18.npy\n",
      "7\n",
      "2019-06-23.npy\n",
      "3\n",
      "2019-06-02.npy\n",
      "7\n",
      "2019-07-05.npy\n",
      "1224\n",
      "2019-06-24.npy\n",
      "6\n",
      "2019-06-21.npy\n",
      "10\n",
      "2019-07-01.npy\n",
      "8\n",
      "2019-06-25.npy\n",
      "7\n",
      "2019-06-14.npy\n",
      "5\n",
      "2019-06-17.npy\n",
      "5\n",
      "num_dates = 38\n",
      "num_events = 5103\n",
      "total_events = 35860\n",
      "0.14230340211935305\n"
     ]
    }
   ],
   "source": [
    "with open(\"./date_to_shape.json\") as f:\n",
    "    data = json.load(f)\n",
    "    num_dates = 0\n",
    "    num_events = 0\n",
    "    total_events = 0\n",
    "    for date in data:\n",
    "        total_events += data[date][1]\n",
    "        if data[date][0] < 20:\n",
    "            print(date)\n",
    "            print(data[date][1])\n",
    "            num_dates += 1\n",
    "            num_events += data[date][1]\n",
    "            \n",
    "    print(f\"num_dates = {num_dates}\")\n",
    "    print(f\"num_events = {num_events}\")\n",
    "    print(f\"total_events = {total_events}\")\n",
    "    print(num_events / total_events)"
   ]
  },
  {
   "cell_type": "code",
   "execution_count": 13,
   "metadata": {},
   "outputs": [
    {
     "name": "stdout",
     "output_type": "stream",
     "text": [
      "1224\n",
      "16\n"
     ]
    }
   ],
   "source": [
    "import pickle\n",
    "\n",
    "with open('./data/Ridgecrest/2019-07-05.pkl', 'rb') as pkl:\n",
    "    new_dict = pickle.load(pkl)\n",
    "    print(len(new_dict['events']))\n",
    "    print(len(new_dict['stations']))"
   ]
  },
  {
   "cell_type": "code",
   "execution_count": null,
   "metadata": {},
   "outputs": [],
   "source": []
  }
 ],
 "metadata": {
  "kernelspec": {
   "display_name": "Python 3",
   "language": "python",
   "name": "python3"
  },
  "language_info": {
   "codemirror_mode": {
    "name": "ipython",
    "version": 3
   },
   "file_extension": ".py",
   "mimetype": "text/x-python",
   "name": "python",
   "nbconvert_exporter": "python",
   "pygments_lexer": "ipython3",
   "version": "3.7.4"
  }
 },
 "nbformat": 4,
 "nbformat_minor": 4
}
