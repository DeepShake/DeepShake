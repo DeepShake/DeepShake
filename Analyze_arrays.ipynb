{
 "cells": [
  {
   "cell_type": "code",
   "execution_count": 2,
   "metadata": {},
   "outputs": [],
   "source": [
    "import numpy as np\n",
    "import matplotlib.pyplot as plt\n",
    "import seaborn as sns; sns.set()\n",
    "import os "
   ]
  },
  {
   "cell_type": "code",
   "execution_count": 3,
   "metadata": {},
   "outputs": [],
   "source": [
    "data_path = './arrays/'"
   ]
  },
  {
   "cell_type": "code",
   "execution_count": 12,
   "metadata": {},
   "outputs": [
    {
     "name": "stdout",
     "output_type": "stream",
     "text": [
      "2019-09-22.npy\n",
      "2019-06-12.npy\n",
      "2019-08-25.npy\n",
      "2019-07-31.npy\n",
      "2019-07-02.npy\n",
      "2019-07-07.npy\n",
      "2019-07-19.npy\n",
      "2019-07-17.npy\n",
      "2019-08-15.npy\n",
      "2019-08-04.npy\n",
      "2019-06-10.npy\n",
      "2019-08-10.npy\n",
      "2019-06-26.npy\n",
      "2019-09-30.npy\n",
      "2019-08-26.npy\n",
      "2019-09-13.npy\n",
      "2019-06-29.npy\n",
      "2019-08-13.npy\n",
      "2019-07-26.npy\n",
      "2019-07-21.npy\n",
      "2019-06-08.npy\n",
      "2019-07-15.npy\n",
      "2019-09-06.npy\n",
      "2019-09-11.npy\n",
      "2019-09-26.npy\n",
      "2019-06-04.npy\n",
      "2019-08-16.npy\n",
      "2019-07-18.npy\n",
      "2019-08-05.npy\n",
      "2019-07-08.npy\n",
      "2019-09-20.npy\n",
      "2019-08-12.npy\n",
      "2019-07-13.npy\n",
      "2019-09-16.npy\n",
      "2019-06-03.npy\n",
      "2019-06-30.npy\n",
      "2019-07-14.npy\n",
      "2019-07-22.npy\n",
      "2019-08-27.npy\n",
      "2019-07-25.npy\n",
      "2019-08-22.npy\n",
      "2019-06-19.npy\n",
      "2019-08-31.npy\n",
      "2019-08-11.npy\n",
      "2019-06-06.npy\n",
      "2019-06-27.npy\n",
      "2019-07-06.npy\n",
      "2019-06-07.npy\n",
      "2019-06-20.npy\n",
      "2019-08-24.npy\n",
      "2019-08-20.npy\n",
      "2019-09-23.npy\n",
      "2019-08-14.npy\n",
      "2019-04-28.npy\n",
      "2019-06-16.npy\n",
      "2019-08-28.npy\n",
      "2019-09-29.npy\n",
      "2019-06-15.npy\n",
      "2019-07-28.npy\n",
      "2019-09-17.npy\n",
      "2019-08-23.npy\n",
      "2019-08-01.npy\n",
      "2019-09-02.npy\n",
      "2019-06-22.npy\n",
      "2019-09-04.npy\n",
      "2019-09-25.npy\n",
      "2019-09-19.npy\n",
      "2019-07-04.npy\n",
      "2019-07-16.npy\n",
      "2019-07-27.npy\n",
      "2019-09-09.npy\n",
      "2019-09-28.npy\n",
      "2019-07-11.npy\n",
      "2019-06-01.npy\n",
      "2019-06-11.npy\n",
      "2019-09-15.npy\n",
      "2019-08-30.npy\n",
      "2019-06-28.npy\n",
      "2019-07-23.npy\n",
      "2019-07-12.npy\n",
      "2019-06-09.npy\n",
      "2019-06-05.npy\n",
      "2019-09-03.npy\n",
      "2019-06-13.npy\n",
      "2019-09-27.npy\n",
      "2019-08-08.npy\n",
      "2019-09-07.npy\n",
      "2019-08-21.npy\n",
      "2019-09-08.npy\n",
      "2019-09-18.npy\n",
      "2019-09-24.npy\n",
      "2019-07-03.npy\n",
      "2019-06-18.npy\n",
      "2019-08-18.npy\n",
      "2019-08-03.npy\n",
      "2019-06-23.npy\n",
      "2019-06-02.npy\n",
      "2019-08-17.npy\n",
      "2019-09-21.npy\n",
      "2019-09-10.npy\n",
      "2019-08-09.npy\n",
      "2019-08-06.npy\n",
      "2019-07-05.npy\n",
      "2019-06-24.npy\n",
      "2019-07-09.npy\n",
      "2019-07-20.npy\n",
      "2019-09-14.npy\n",
      "2019-09-05.npy\n",
      "2019-08-29.npy\n",
      "2019-07-24.npy\n",
      "2019-09-01.npy\n",
      "2019-06-21.npy\n",
      "2019-07-29.npy\n",
      "2019-08-07.npy\n",
      "2019-07-01.npy\n",
      "2019-08-19.npy\n",
      "2019-08-02.npy\n",
      "2019-07-10.npy\n",
      "2019-07-30.npy\n",
      "2019-06-25.npy\n",
      "2019-06-14.npy\n",
      "2019-06-17.npy\n",
      "2019-09-12.npy\n"
     ]
    }
   ],
   "source": [
    "files = []\n",
    "with os.scandir(data_path) as it:\n",
    "    for entry in it:\n",
    "        print(entry.name)\n",
    "        files.append(entry)\n",
    "#         if not entry.name.startswith('.') and entry.is_file():\n",
    "#             print(entry.name)"
   ]
  },
  {
   "cell_type": "code",
   "execution_count": 18,
   "metadata": {},
   "outputs": [
    {
     "name": "stdout",
     "output_type": "stream",
     "text": [
      "(23, 94, 3, 6000)\n",
      "(16, 3, 3, 6000)\n",
      "(31, 267, 3, 6000)\n",
      "(28, 250, 3, 6000)\n",
      "(16, 12, 3, 6000)\n",
      "(19, 1235, 3, 6000)\n",
      "(31, 559, 3, 6000)\n",
      "(30, 738, 3, 6000)\n",
      "(33, 243, 3, 6000)\n",
      "(27, 244, 3, 6000)\n",
      "(16, 10, 3, 6000)\n",
      "(29, 245, 3, 6000)\n",
      "(16, 11, 3, 6000)\n",
      "(26, 118, 3, 6000)\n",
      "(31, 275, 3, 6000)\n",
      "(25, 157, 3, 6000)\n",
      "(16, 7, 3, 6000)\n",
      "(32, 257, 3, 6000)\n",
      "(29, 644, 3, 6000)\n",
      "(34, 551, 3, 6000)\n",
      "(16, 11, 3, 6000)\n",
      "(29, 744, 3, 6000)\n",
      "(31, 134, 3, 6000)\n",
      "(24, 144, 3, 6000)\n",
      "(26, 123, 3, 6000)\n",
      "(16, 4, 3, 6000)\n",
      "(32, 229, 3, 6000)\n",
      "(29, 648, 3, 6000)\n",
      "(27, 271, 3, 6000)\n",
      "(21, 1335, 3, 6000)\n",
      "(25, 99, 3, 6000)\n",
      "(32, 316, 3, 6000)\n",
      "(32, 836, 3, 6000)\n",
      "(23, 83, 3, 6000)\n",
      "(16, 2, 3, 6000)\n",
      "(16, 5, 3, 6000)\n",
      "(32, 731, 3, 6000)\n",
      "(34, 545, 3, 6000)\n",
      "(30, 251, 3, 6000)\n",
      "(29, 463, 3, 6000)\n",
      "(31, 356, 3, 6000)\n",
      "(16, 6, 3, 6000)\n",
      "(31, 233, 3, 6000)\n",
      "(31, 290, 3, 6000)\n",
      "(16, 15, 3, 6000)\n",
      "(16, 6, 3, 6000)\n",
      "(17, 1896, 3, 6000)\n",
      "(16, 4, 3, 6000)\n",
      "(16, 4, 3, 6000)\n",
      "(31, 285, 3, 6000)\n",
      "(31, 228, 3, 6000)\n",
      "(24, 131, 3, 6000)\n",
      "(32, 294, 3, 6000)\n",
      "(15, 1, 3, 6000)\n",
      "(16, 20, 3, 6000)\n",
      "(30, 233, 3, 6000)\n",
      "(25, 81, 3, 6000)\n",
      "(16, 12, 3, 6000)\n",
      "(28, 567, 3, 6000)\n",
      "(24, 101, 3, 6000)\n",
      "(31, 423, 3, 6000)\n",
      "(27, 196, 3, 6000)\n",
      "(31, 238, 3, 6000)\n",
      "(16, 2, 3, 6000)\n",
      "(31, 165, 3, 6000)\n",
      "(25, 85, 3, 6000)\n",
      "(25, 70, 3, 6000)\n",
      "(16, 516, 3, 6000)\n",
      "(29, 694, 3, 6000)\n",
      "(28, 446, 3, 6000)\n",
      "(31, 144, 3, 6000)\n",
      "(25, 105, 3, 6000)\n",
      "(28, 1567, 3, 6000)\n",
      "(16, 5, 3, 6000)\n",
      "(16, 2, 3, 6000)\n",
      "(25, 114, 3, 6000)\n",
      "(31, 202, 3, 6000)\n",
      "(16, 7, 3, 6000)\n",
      "(34, 495, 3, 6000)\n",
      "(32, 1615, 3, 6000)\n",
      "(16, 5, 3, 6000)\n",
      "(16, 10, 3, 6000)\n",
      "(32, 207, 3, 6000)\n",
      "(16, 9, 3, 6000)\n",
      "(26, 104, 3, 6000)\n",
      "(27, 261, 3, 6000)\n",
      "(31, 165, 3, 6000)\n",
      "(31, 256, 3, 6000)\n",
      "(32, 191, 3, 6000)\n",
      "(24, 90, 3, 6000)\n",
      "(24, 68, 3, 6000)\n",
      "(16, 1, 3, 6000)\n",
      "(16, 7, 3, 6000)\n",
      "(31, 222, 3, 6000)\n",
      "(27, 222, 3, 6000)\n",
      "(16, 3, 3, 6000)\n",
      "(16, 7, 3, 6000)\n",
      "(32, 263, 3, 6000)\n",
      "(24, 85, 3, 6000)\n",
      "(31, 136, 3, 6000)\n",
      "(28, 240, 3, 6000)\n",
      "(27, 226, 3, 6000)\n",
      "(16, 1224, 3, 6000)\n",
      "(16, 6, 3, 6000)\n",
      "(23, 1823, 3, 6000)\n",
      "(34, 573, 3, 6000)\n",
      "(25, 170, 3, 6000)\n",
      "(31, 145, 3, 6000)\n",
      "(30, 212, 3, 6000)\n",
      "(34, 472, 3, 6000)\n",
      "(30, 239, 3, 6000)\n",
      "(16, 10, 3, 6000)\n",
      "(28, 370, 3, 6000)\n",
      "(27, 221, 3, 6000)\n",
      "(16, 8, 3, 6000)\n",
      "(31, 257, 3, 6000)\n",
      "(28, 185, 3, 6000)\n",
      "(26, 1831, 3, 6000)\n",
      "(28, 398, 3, 6000)\n",
      "(16, 7, 3, 6000)\n",
      "(16, 5, 3, 6000)\n",
      "(16, 5, 3, 6000)\n",
      "(24, 173, 3, 6000)\n"
     ]
    }
   ],
   "source": [
    "# print(files)\n",
    "stations, events = [], []\n",
    "for file in files:\n",
    "#     print(np.load(os.path.join(data_path, file)).shape)\n",
    "    temp = np.load(file)\n",
    "    print(temp.shape)\n",
    "    stations.append(temp.shape[0])\n",
    "    events.append(temp.shape[1])\n",
    "    del temp\n"
   ]
  },
  {
   "cell_type": "code",
   "execution_count": 22,
   "metadata": {},
   "outputs": [
    {
     "name": "stdout",
     "output_type": "stream",
     "text": [
      "{'2019-09-22.npy': (23, 94, 3, 6000), '2019-06-12.npy': (16, 3, 3, 6000), '2019-08-25.npy': (31, 267, 3, 6000), '2019-07-31.npy': (28, 250, 3, 6000), '2019-07-02.npy': (16, 12, 3, 6000), '2019-07-07.npy': (19, 1235, 3, 6000), '2019-07-19.npy': (31, 559, 3, 6000), '2019-07-17.npy': (30, 738, 3, 6000), '2019-08-15.npy': (33, 243, 3, 6000), '2019-08-04.npy': (27, 244, 3, 6000), '2019-06-10.npy': (16, 10, 3, 6000), '2019-08-10.npy': (29, 245, 3, 6000), '2019-06-26.npy': (16, 11, 3, 6000), '2019-09-30.npy': (26, 118, 3, 6000), '2019-08-26.npy': (31, 275, 3, 6000), '2019-09-13.npy': (25, 157, 3, 6000), '2019-06-29.npy': (16, 7, 3, 6000), '2019-08-13.npy': (32, 257, 3, 6000), '2019-07-26.npy': (29, 644, 3, 6000), '2019-07-21.npy': (34, 551, 3, 6000), '2019-06-08.npy': (16, 11, 3, 6000), '2019-07-15.npy': (29, 744, 3, 6000), '2019-09-06.npy': (31, 134, 3, 6000), '2019-09-11.npy': (24, 144, 3, 6000), '2019-09-26.npy': (26, 123, 3, 6000), '2019-06-04.npy': (16, 4, 3, 6000), '2019-08-16.npy': (32, 229, 3, 6000), '2019-07-18.npy': (29, 648, 3, 6000), '2019-08-05.npy': (27, 271, 3, 6000), '2019-07-08.npy': (21, 1335, 3, 6000), '2019-09-20.npy': (25, 99, 3, 6000), '2019-08-12.npy': (32, 316, 3, 6000), '2019-07-13.npy': (32, 836, 3, 6000), '2019-09-16.npy': (23, 83, 3, 6000), '2019-06-03.npy': (16, 2, 3, 6000), '2019-06-30.npy': (16, 5, 3, 6000), '2019-07-14.npy': (32, 731, 3, 6000), '2019-07-22.npy': (34, 545, 3, 6000), '2019-08-27.npy': (30, 251, 3, 6000), '2019-07-25.npy': (29, 463, 3, 6000), '2019-08-22.npy': (31, 356, 3, 6000), '2019-06-19.npy': (16, 6, 3, 6000), '2019-08-31.npy': (31, 233, 3, 6000), '2019-08-11.npy': (31, 290, 3, 6000), '2019-06-06.npy': (16, 15, 3, 6000), '2019-06-27.npy': (16, 6, 3, 6000), '2019-07-06.npy': (17, 1896, 3, 6000), '2019-06-07.npy': (16, 4, 3, 6000), '2019-06-20.npy': (16, 4, 3, 6000), '2019-08-24.npy': (31, 285, 3, 6000), '2019-08-20.npy': (31, 228, 3, 6000), '2019-09-23.npy': (24, 131, 3, 6000), '2019-08-14.npy': (32, 294, 3, 6000), '2019-04-28.npy': (15, 1, 3, 6000), '2019-06-16.npy': (16, 20, 3, 6000), '2019-08-28.npy': (30, 233, 3, 6000), '2019-09-29.npy': (25, 81, 3, 6000), '2019-06-15.npy': (16, 12, 3, 6000), '2019-07-28.npy': (28, 567, 3, 6000), '2019-09-17.npy': (24, 101, 3, 6000), '2019-08-23.npy': (31, 423, 3, 6000), '2019-08-01.npy': (27, 196, 3, 6000), '2019-09-02.npy': (31, 238, 3, 6000), '2019-06-22.npy': (16, 2, 3, 6000), '2019-09-04.npy': (31, 165, 3, 6000), '2019-09-25.npy': (25, 85, 3, 6000), '2019-09-19.npy': (25, 70, 3, 6000), '2019-07-04.npy': (16, 516, 3, 6000), '2019-07-16.npy': (29, 694, 3, 6000), '2019-07-27.npy': (28, 446, 3, 6000), '2019-09-09.npy': (31, 144, 3, 6000), '2019-09-28.npy': (25, 105, 3, 6000), '2019-07-11.npy': (28, 1567, 3, 6000), '2019-06-01.npy': (16, 5, 3, 6000), '2019-06-11.npy': (16, 2, 3, 6000), '2019-09-15.npy': (25, 114, 3, 6000), '2019-08-30.npy': (31, 202, 3, 6000), '2019-06-28.npy': (16, 7, 3, 6000), '2019-07-23.npy': (34, 495, 3, 6000), '2019-07-12.npy': (32, 1615, 3, 6000), '2019-06-09.npy': (16, 5, 3, 6000), '2019-06-05.npy': (16, 10, 3, 6000), '2019-09-03.npy': (32, 207, 3, 6000), '2019-06-13.npy': (16, 9, 3, 6000), '2019-09-27.npy': (26, 104, 3, 6000), '2019-08-08.npy': (27, 261, 3, 6000), '2019-09-07.npy': (31, 165, 3, 6000), '2019-08-21.npy': (31, 256, 3, 6000), '2019-09-08.npy': (32, 191, 3, 6000), '2019-09-18.npy': (24, 90, 3, 6000), '2019-09-24.npy': (24, 68, 3, 6000), '2019-07-03.npy': (16, 1, 3, 6000), '2019-06-18.npy': (16, 7, 3, 6000), '2019-08-18.npy': (31, 222, 3, 6000), '2019-08-03.npy': (27, 222, 3, 6000), '2019-06-23.npy': (16, 3, 3, 6000), '2019-06-02.npy': (16, 7, 3, 6000), '2019-08-17.npy': (32, 263, 3, 6000), '2019-09-21.npy': (24, 85, 3, 6000), '2019-09-10.npy': (31, 136, 3, 6000), '2019-08-09.npy': (28, 240, 3, 6000), '2019-08-06.npy': (27, 226, 3, 6000), '2019-07-05.npy': (16, 1224, 3, 6000), '2019-06-24.npy': (16, 6, 3, 6000), '2019-07-09.npy': (23, 1823, 3, 6000), '2019-07-20.npy': (34, 573, 3, 6000), '2019-09-14.npy': (25, 170, 3, 6000), '2019-09-05.npy': (31, 145, 3, 6000), '2019-08-29.npy': (30, 212, 3, 6000), '2019-07-24.npy': (34, 472, 3, 6000), '2019-09-01.npy': (30, 239, 3, 6000), '2019-06-21.npy': (16, 10, 3, 6000), '2019-07-29.npy': (28, 370, 3, 6000), '2019-08-07.npy': (27, 221, 3, 6000), '2019-07-01.npy': (16, 8, 3, 6000), '2019-08-19.npy': (31, 257, 3, 6000), '2019-08-02.npy': (28, 185, 3, 6000), '2019-07-10.npy': (26, 1831, 3, 6000), '2019-07-30.npy': (28, 398, 3, 6000), '2019-06-25.npy': (16, 7, 3, 6000), '2019-06-14.npy': (16, 5, 3, 6000), '2019-06-17.npy': (16, 5, 3, 6000), '2019-09-12.npy': (24, 173, 3, 6000)}\n"
     ]
    }
   ],
   "source": [
    "dates = [file.name for file in files]\n",
    "stat_evs = zip(stations, events)\n",
    "shapes = [(s, v, 3, 6000) for s, v in stat_evs]\n",
    "mapping = dict(zip(dates, shapes))\n",
    "print(mapping)"
   ]
  },
  {
   "cell_type": "code",
   "execution_count": 24,
   "metadata": {},
   "outputs": [],
   "source": [
    "import json\n",
    "with open('date_to_shape.json', 'w') as fp:\n",
    "    json.dump(mapping, fp)"
   ]
  },
  {
   "cell_type": "code",
   "execution_count": 31,
   "metadata": {},
   "outputs": [
    {
     "data": {
      "image/png": "[encoded data removed]",
      "text/plain": [
       "<Figure size 432x288 with 1 Axes>"
      ]
     },
     "metadata": {},
     "output_type": "display_data"
    },
    {
     "data": {
      "image/png": "[encoded data removed]",
      "text/plain": [
       "<Figure size 432x288 with 1 Axes>"
      ]
     },
     "metadata": {},
     "output_type": "display_data"
    }
   ],
   "source": [
    "plt.bar(dates, events)\n",
    "plt.ylabel(\"Events\")\n",
    "plt.show()\n",
    "\n",
    "plt.bar(dates, stations)\n",
    "plt.ylabel(\"Station counts\")\n",
    "plt.show()"
   ]
  },
  {
   "cell_type": "code",
   "execution_count": 32,
   "metadata": {},
   "outputs": [
    {
     "name": "stdout",
     "output_type": "stream",
     "text": [
      "35860\n"
     ]
    }
   ],
   "source": [
    "print(sum(events))"
   ]
  },
  {
   "cell_type": "code",
   "execution_count": 37,
   "metadata": {},
   "outputs": [
    {
     "name": "stdout",
     "output_type": "stream",
     "text": [
      "(16, 4, 3, 6000)\n"
     ]
    }
   ],
   "source": [
    "print(mapping['2019-06-07.npy'])"
   ]
  },
  {
   "cell_type": "code",
   "execution_count": 38,
   "metadata": {},
   "outputs": [],
   "source": [
    "rev_map = dict(zip(events, dates))"
   ]
  },
  {
   "cell_type": "code",
   "execution_count": 39,
   "metadata": {},
   "outputs": [
    {
     "name": "stdout",
     "output_type": "stream",
     "text": [
      "{94: '2019-09-22.npy', 3: '2019-06-23.npy', 267: '2019-08-25.npy', 250: '2019-07-31.npy', 12: '2019-06-15.npy', 1235: '2019-07-07.npy', 559: '2019-07-19.npy', 738: '2019-07-17.npy', 243: '2019-08-15.npy', 244: '2019-08-04.npy', 10: '2019-06-21.npy', 245: '2019-08-10.npy', 11: '2019-06-08.npy', 118: '2019-09-30.npy', 275: '2019-08-26.npy', 157: '2019-09-13.npy', 7: '2019-06-25.npy', 257: '2019-08-19.npy', 644: '2019-07-26.npy', 551: '2019-07-21.npy', 744: '2019-07-15.npy', 134: '2019-09-06.npy', 144: '2019-09-09.npy', 123: '2019-09-26.npy', 4: '2019-06-20.npy', 229: '2019-08-16.npy', 648: '2019-07-18.npy', 271: '2019-08-05.npy', 1335: '2019-07-08.npy', 99: '2019-09-20.npy', 316: '2019-08-12.npy', 836: '2019-07-13.npy', 83: '2019-09-16.npy', 2: '2019-06-11.npy', 5: '2019-06-17.npy', 731: '2019-07-14.npy', 545: '2019-07-22.npy', 251: '2019-08-27.npy', 463: '2019-07-25.npy', 356: '2019-08-22.npy', 6: '2019-06-24.npy', 233: '2019-08-28.npy', 290: '2019-08-11.npy', 15: '2019-06-06.npy', 1896: '2019-07-06.npy', 285: '2019-08-24.npy', 228: '2019-08-20.npy', 131: '2019-09-23.npy', 294: '2019-08-14.npy', 1: '2019-07-03.npy', 20: '2019-06-16.npy', 81: '2019-09-29.npy', 567: '2019-07-28.npy', 101: '2019-09-17.npy', 423: '2019-08-23.npy', 196: '2019-08-01.npy', 238: '2019-09-02.npy', 165: '2019-09-07.npy', 85: '2019-09-21.npy', 70: '2019-09-19.npy', 516: '2019-07-04.npy', 694: '2019-07-16.npy', 446: '2019-07-27.npy', 105: '2019-09-28.npy', 1567: '2019-07-11.npy', 114: '2019-09-15.npy', 202: '2019-08-30.npy', 495: '2019-07-23.npy', 1615: '2019-07-12.npy', 207: '2019-09-03.npy', 9: '2019-06-13.npy', 104: '2019-09-27.npy', 261: '2019-08-08.npy', 256: '2019-08-21.npy', 191: '2019-09-08.npy', 90: '2019-09-18.npy', 68: '2019-09-24.npy', 222: '2019-08-03.npy', 263: '2019-08-17.npy', 136: '2019-09-10.npy', 240: '2019-08-09.npy', 226: '2019-08-06.npy', 1224: '2019-07-05.npy', 1823: '2019-07-09.npy', 573: '2019-07-20.npy', 170: '2019-09-14.npy', 145: '2019-09-05.npy', 212: '2019-08-29.npy', 472: '2019-07-24.npy', 239: '2019-09-01.npy', 370: '2019-07-29.npy', 221: '2019-08-07.npy', 8: '2019-07-01.npy', 185: '2019-08-02.npy', 1831: '2019-07-10.npy', 398: '2019-07-30.npy', 173: '2019-09-12.npy'}\n"
     ]
    }
   ],
   "source": [
    "print(rev_map)"
   ]
  },
  {
   "cell_type": "code",
   "execution_count": null,
   "metadata": {},
   "outputs": [],
   "source": []
  }
 ],
 "metadata": {
  "kernelspec": {
   "display_name": "Python 3",
   "language": "python",
   "name": "python3"
  },
  "language_info": {
   "codemirror_mode": {
    "name": "ipython",
    "version": 3
   },
   "file_extension": ".py",
   "mimetype": "text/x-python",
   "name": "python",
   "nbconvert_exporter": "python",
   "pygments_lexer": "ipython3",
   "version": "3.7.4"
  }
 },
 "nbformat": 4,
 "nbformat_minor": 4
}
