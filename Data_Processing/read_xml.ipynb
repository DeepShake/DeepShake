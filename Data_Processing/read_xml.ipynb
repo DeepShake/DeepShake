{
 "cells": [
  {
   "cell_type": "code",
   "execution_count": 35,
   "metadata": {},
   "outputs": [],
   "source": [
    "from obspy import read_inventory\n",
    "import os\n",
    "import numpy as np\n",
    "import json"
   ]
  },
  {
   "cell_type": "code",
   "execution_count": 4,
   "metadata": {},
   "outputs": [
    {
     "data": {
      "text/plain": [
       "'/home/DeepTremor/Data_Processing'"
      ]
     },
     "execution_count": 4,
     "metadata": {},
     "output_type": "execute_result"
    }
   ],
   "source": [
    "os.getcwd()"
   ]
  },
  {
   "cell_type": "code",
   "execution_count": 32,
   "metadata": {},
   "outputs": [
    {
     "name": "stdout",
     "output_type": "stream",
     "text": [
      "['WVP2', 'WRV2', 'WRC2', 'WNM', 'WMF', 'WCS2', 'WBM', 'TOW2', 'SRT', 'SLA', 'MPM', 'LRL', 'DTP', 'CCC', 'JRC2']\n"
     ]
    }
   ],
   "source": [
    "home = \"/home/DeepTremor/\"\n",
    "stations_path = os.path.join(home, \"data/acc/relevant_stations/stations.npy\")\n",
    "xml_path = os.path.join(home, \"data/stations.xml\")\n",
    "save_path = os.path.join(home, \"data/acc/station_gains.json\")\n",
    "master_stations = [elem.split('.')[1] for elem in list(np.load(stations_path))]\n",
    "stations = read_inventory(xml_path)\n",
    "print(master_stations)"
   ]
  },
  {
   "cell_type": "code",
   "execution_count": 29,
   "metadata": {},
   "outputs": [
    {
     "name": "stdout",
     "output_type": "stream",
     "text": [
      "Network:  CI\n",
      "\tStation:  CCC\n",
      "213808.0\n",
      "\tStation:  DTP\n",
      "214484.0\n",
      "\tStation:  JRC2\n",
      "214185.0\n",
      "214184.0\n",
      "214184.0\n",
      "\tStation:  LRL\n",
      "213201.0\n",
      "213201.0\n",
      "\tStation:  MPM\n",
      "213911.0\n",
      "\tStation:  SLA\n",
      "213979.0\n",
      "\tStation:  SRT\n",
      "213842.0\n",
      "\tStation:  TOW2\n",
      "214356.0\n",
      "\tStation:  WBM\n",
      "213550.0\n",
      "213550.0\n",
      "\tStation:  WCS2\n",
      "213415.0\n",
      "\tStation:  WMF\n",
      "213842.0\n",
      "213842.0\n",
      "\tStation:  WNM\n",
      "214021.0\n",
      "214039.0\n",
      "\tStation:  WRC2\n",
      "214056.0\n",
      "\tStation:  WRV2\n",
      "235102.0\n",
      "235122.0\n",
      "\tStation:  WVP2\n",
      "213721.0\n",
      "213740.0\n",
      "Count:  []\n"
     ]
    }
   ],
   "source": [
    "gain_map = {}\n",
    "for network in stations: \n",
    "    print(\"Network: \", network.code) \n",
    "    counts = []\n",
    "    for stat_idx, station in enumerate(network): \n",
    "#         if stat_idx != 4: continue\n",
    "#         print(\"\\t\\t\")\n",
    "        if station.code not in master_stations: continue\n",
    "        print(\"\\tStation: \", station.code) \n",
    "        local_vals = []\n",
    "        for channel in station: \n",
    "            if (channel.code == \"HNZ\"): \n",
    "#                 print(channel.code)\n",
    "#                 print(channel) \n",
    "#                 print(channel.response) \n",
    "                print(channel.response.instrument_sensitivity.value) \n",
    "#                 break \n",
    "                local_vals.append(channel.response.instrument_sensitivity.value)\n",
    "        gain_map[station.code] = np.mean(local_vals)\n",
    "#     counts.append(local_ct)\n",
    "    print(\"Count: \", counts)\n",
    "    break"
   ]
  },
  {
   "cell_type": "code",
   "execution_count": 31,
   "metadata": {},
   "outputs": [
    {
     "name": "stdout",
     "output_type": "stream",
     "text": [
      "{'CCC': 213808.0, 'DTP': 214484.0, 'JRC2': 214184.33333333334, 'LRL': 213201.0, 'MPM': 213911.0, 'SLA': 213979.0, 'SRT': 213842.0, 'TOW2': 214356.0, 'WBM': 213550.0, 'WCS2': 213415.0, 'WMF': 213842.0, 'WNM': 214030.0, 'WRC2': 214056.0, 'WRV2': 235112.0, 'WVP2': 213730.5} 15\n"
     ]
    }
   ],
   "source": [
    "print(gain_map, len(gain_map))"
   ]
  },
  {
   "cell_type": "code",
   "execution_count": 36,
   "metadata": {},
   "outputs": [],
   "source": [
    "with open(save_path, 'w') as fp:\n",
    "    json.dump(gain_map, fp)  "
   ]
  },
  {
   "cell_type": "code",
   "execution_count": null,
   "metadata": {},
   "outputs": [],
   "source": []
  }
 ],
 "metadata": {
  "kernelspec": {
   "display_name": "Python 3",
   "language": "python",
   "name": "python3"
  },
  "language_info": {
   "codemirror_mode": {
    "name": "ipython",
    "version": 3
   },
   "file_extension": ".py",
   "mimetype": "text/x-python",
   "name": "python",
   "nbconvert_exporter": "python",
   "pygments_lexer": "ipython3",
   "version": "3.7.4"
  }
 },
 "nbformat": 4,
 "nbformat_minor": 4
}
