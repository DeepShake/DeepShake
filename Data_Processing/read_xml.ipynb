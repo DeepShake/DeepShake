{
 "cells": [
  {
   "cell_type": "code",
   "execution_count": 1,
   "metadata": {},
   "outputs": [],
   "source": [
    "from obspy import read_inventory\n",
    "import os\n",
    "import numpy as np\n",
    "import json"
   ]
  },
  {
   "cell_type": "code",
   "execution_count": 2,
   "metadata": {},
   "outputs": [
    {
     "data": {
      "text/plain": [
       "'/home/DeepTremor/Data_Processing'"
      ]
     },
     "execution_count": 2,
     "metadata": {},
     "output_type": "execute_result"
    }
   ],
   "source": [
    "os.getcwd()"
   ]
  },
  {
   "cell_type": "code",
   "execution_count": 3,
   "metadata": {},
   "outputs": [
    {
     "name": "stdout",
     "output_type": "stream",
     "text": [
      "['WVP2', 'WRV2', 'WRC2', 'WNM', 'WMF', 'WCS2', 'WBM', 'TOW2', 'SRT', 'SLA', 'MPM', 'LRL', 'DTP', 'CCC', 'JRC2']\n"
     ]
    }
   ],
   "source": [
    "home = \"/home/DeepTremor/\"\n",
    "stations_path = os.path.join(home, \"data/acc/relevant_stations/stations.npy\")\n",
    "xml_path = os.path.join(home, \"data/stations.xml\")\n",
    "save_path = os.path.join(home, \"data/acc/station_gains.json\")\n",
    "master_stations = [elem.split('.')[1] for elem in list(np.load(stations_path))]\n",
    "stations = read_inventory(xml_path)\n",
    "print(master_stations)"
   ]
  },
  {
   "cell_type": "code",
   "execution_count": 4,
   "metadata": {},
   "outputs": [
    {
     "name": "stdout",
     "output_type": "stream",
     "text": [
      "Network:  CI\n",
      "\tStation:  CCC\n",
      "[213979.0, 214322.0, 213808.0] [1, 1, 1]\n",
      "[213979.0, 214322.0, 213808.0]\n",
      "\tStation:  DTP\n",
      "[214399.0, 213971.0, 214484.0] [1, 1, 1]\n",
      "[214399.0, 213971.0, 214484.0]\n",
      "\tStation:  JRC2\n",
      "[641424.0, 641835.0, 642553.0] [3, 3, 3]\n",
      "[213808.0, 213945.0, 214184.33333333334]\n",
      "\tStation:  LRL\n",
      "[427514.0, 427342.0, 426402.0] [2, 2, 2]\n",
      "[213757.0, 213671.0, 213201.0]\n",
      "\tStation:  MPM\n",
      "[213911.0, 214219.0, 213911.0] [1, 1, 1]\n",
      "[213911.0, 214219.0, 213911.0]\n",
      "\tStation:  SLA\n",
      "[214253.0, 213671.0, 213979.0] [1, 1, 1]\n",
      "[214253.0, 213671.0, 213979.0]\n",
      "\tStation:  SRT\n",
      "[214056.0, 213628.0, 213842.0] [1, 1, 1]\n",
      "[214056.0, 213628.0, 213842.0]\n",
      "\tStation:  TOW2\n",
      "[213800.0, 214142.0, 214356.0] [1, 1, 1]\n",
      "[213800.0, 214142.0, 214356.0]\n",
      "\tStation:  WBM\n",
      "[427100.0, 428128.0, 427100.0] [2, 2, 2]\n",
      "[213550.0, 214064.0, 213550.0]\n",
      "\tStation:  WCS2\n",
      "[213757.0, 213329.0, 213415.0] [1, 1, 1]\n",
      "[213757.0, 213329.0, 213415.0]\n",
      "\tStation:  WMF\n",
      "[427684.0, 427684.0, 427684.0] [2, 2, 2]\n",
      "[213842.0, 213842.0, 213842.0]\n",
      "\tStation:  WNM\n",
      "[428060.0, 427803.0, 428060.0] [2, 2, 2]\n",
      "[214030.0, 213901.5, 214030.0]\n",
      "\tStation:  WRC2\n",
      "[214227.0, 213970.0, 214056.0] [1, 1, 1]\n",
      "[214227.0, 213970.0, 214056.0]\n",
      "\tStation:  WRV2\n",
      "[427718.0, 470396.0, 470224.0] [2, 2, 2]\n",
      "[213859.0, 235198.0, 235112.0]\n",
      "\tStation:  WVP2\n",
      "[427546.0, 427119.0, 427461.0] [2, 2, 2]\n",
      "[213773.0, 213559.5, 213730.5]\n",
      "Count:  [2, 2, 2]\n"
     ]
    }
   ],
   "source": [
    "gain_map = {}\n",
    "target_channels = [\"HNE\", \"HNN\", \"HNZ\"]\n",
    "for network in stations: \n",
    "    print(\"Network: \", network.code) \n",
    "    counts = []\n",
    "    for stat_idx, station in enumerate(network): \n",
    "#         if stat_idx != 4: continue\n",
    "#         print(\"\\t\\t\")\n",
    "        if station.code not in master_stations: continue\n",
    "        print(\"\\tStation: \", station.code) \n",
    "        local_vals, counts = [0, 0, 0], [0, 0, 0]\n",
    "        \n",
    "        for channel in station: \n",
    "            if channel.code in target_channels:\n",
    "                local_vals[target_channels.index(channel.code)] += channel.response.instrument_sensitivity.value\n",
    "                counts[target_channels.index(channel.code)] += 1\n",
    "#             if (channel.code == \"HNZ\"): \n",
    "# #                 print(channel.code)\n",
    "# #                 print(channel) \n",
    "# #                 print(channel.response) \n",
    "#                 print(channel.response.instrument_sensitivity.value) \n",
    "# #                 break \n",
    "#                 local_vals.append(channel.response.instrument_sensitivity.value)\n",
    "        stat_key = \"CI.\" + station.code + \".\"\n",
    "#         gain_map[stat_key] = np.mean(local_vals)\n",
    "        print(local_vals, counts)\n",
    "        gain_map[stat_key] = [val*1./counts[idx] for idx, val in enumerate(local_vals)]\n",
    "        print(gain_map[stat_key])\n",
    "#     counts.append(local_ct)\n",
    "    print(\"Count: \", counts)\n",
    "    break"
   ]
  },
  {
   "cell_type": "code",
   "execution_count": 5,
   "metadata": {},
   "outputs": [
    {
     "name": "stdout",
     "output_type": "stream",
     "text": [
      "{'CI.CCC.': [213979.0, 214322.0, 213808.0], 'CI.DTP.': [214399.0, 213971.0, 214484.0], 'CI.JRC2.': [213808.0, 213945.0, 214184.33333333334], 'CI.LRL.': [213757.0, 213671.0, 213201.0], 'CI.MPM.': [213911.0, 214219.0, 213911.0], 'CI.SLA.': [214253.0, 213671.0, 213979.0], 'CI.SRT.': [214056.0, 213628.0, 213842.0], 'CI.TOW2.': [213800.0, 214142.0, 214356.0], 'CI.WBM.': [213550.0, 214064.0, 213550.0], 'CI.WCS2.': [213757.0, 213329.0, 213415.0], 'CI.WMF.': [213842.0, 213842.0, 213842.0], 'CI.WNM.': [214030.0, 213901.5, 214030.0], 'CI.WRC2.': [214227.0, 213970.0, 214056.0], 'CI.WRV2.': [213859.0, 235198.0, 235112.0], 'CI.WVP2.': [213773.0, 213559.5, 213730.5]} 15\n"
     ]
    }
   ],
   "source": [
    "print(gain_map, len(gain_map))"
   ]
  },
  {
   "cell_type": "code",
   "execution_count": 6,
   "metadata": {},
   "outputs": [],
   "source": [
    "with open(save_path, 'w') as fp:\n",
    "    json.dump(gain_map, fp)  "
   ]
  },
  {
   "cell_type": "code",
   "execution_count": 8,
   "metadata": {},
   "outputs": [
    {
     "name": "stdout",
     "output_type": "stream",
     "text": [
      "[  6.22263424e-06   1.35875905e-05]\n",
      "[  7.35904959e-06  -1.86565945e-07]\n",
      "[ -3.74267182e-06   3.46283825e-06]\n"
     ]
    }
   ],
   "source": [
    "x = 213773.\n",
    "y = 213559.5\n",
    "z = 213730.5\n",
    "\n",
    "print(np.array([ 1.33023119,  2.90465999]) / x)\n",
    "print(np.array([1.57159495, -0.03984293]) / y)\n",
    "print(np.array([-0.79992312, 0.74011415]) / z)"
   ]
  },
  {
   "cell_type": "code",
   "execution_count": null,
   "metadata": {},
   "outputs": [],
   "source": []
  }
 ],
 "metadata": {
  "kernelspec": {
   "display_name": "Python 3",
   "language": "python",
   "name": "python3"
  },
  "language_info": {
   "codemirror_mode": {
    "name": "ipython",
    "version": 3
   },
   "file_extension": ".py",
   "mimetype": "text/x-python",
   "name": "python",
   "nbconvert_exporter": "python",
   "pygments_lexer": "ipython3",
   "version": "3.7.7"
  }
 },
 "nbformat": 4,
 "nbformat_minor": 4
}
