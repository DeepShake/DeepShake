{
 "cells": [
  {
   "cell_type": "code",
   "execution_count": 1,
   "metadata": {},
   "outputs": [],
   "source": [
    "import numpy as np\n",
    "from pathlib import Path\n",
    "import glob\n",
    "from tqdm import tqdm\n",
    "import os"
   ]
  },
  {
   "cell_type": "code",
   "execution_count": 2,
   "metadata": {},
   "outputs": [],
   "source": [
    "input_dir = Path(\"../data/acc/compressed\")\n",
    "compressed_files = sorted(input_dir.glob(\"*.npy\"))"
   ]
  },
  {
   "cell_type": "code",
   "execution_count": 3,
   "metadata": {},
   "outputs": [
    {
     "name": "stdout",
     "output_type": "stream",
     "text": [
      "[PosixPath('../data/acc/compressed/2019-06-01.npy'), PosixPath('../data/acc/compressed/2019-06-02.npy'), PosixPath('../data/acc/compressed/2019-06-03.npy'), PosixPath('../data/acc/compressed/2019-06-04.npy'), PosixPath('../data/acc/compressed/2019-06-05.npy'), PosixPath('../data/acc/compressed/2019-06-06.npy'), PosixPath('../data/acc/compressed/2019-06-07.npy'), PosixPath('../data/acc/compressed/2019-06-08.npy'), PosixPath('../data/acc/compressed/2019-06-09.npy'), PosixPath('../data/acc/compressed/2019-06-10.npy'), PosixPath('../data/acc/compressed/2019-06-11.npy'), PosixPath('../data/acc/compressed/2019-06-12.npy'), PosixPath('../data/acc/compressed/2019-06-13.npy'), PosixPath('../data/acc/compressed/2019-06-14.npy'), PosixPath('../data/acc/compressed/2019-06-15.npy'), PosixPath('../data/acc/compressed/2019-06-16.npy'), PosixPath('../data/acc/compressed/2019-06-17.npy'), PosixPath('../data/acc/compressed/2019-06-18.npy'), PosixPath('../data/acc/compressed/2019-06-19.npy'), PosixPath('../data/acc/compressed/2019-06-20.npy'), PosixPath('../data/acc/compressed/2019-06-21.npy'), PosixPath('../data/acc/compressed/2019-06-22.npy'), PosixPath('../data/acc/compressed/2019-06-23.npy'), PosixPath('../data/acc/compressed/2019-06-24.npy'), PosixPath('../data/acc/compressed/2019-06-25.npy'), PosixPath('../data/acc/compressed/2019-06-26.npy'), PosixPath('../data/acc/compressed/2019-06-27.npy'), PosixPath('../data/acc/compressed/2019-06-28.npy'), PosixPath('../data/acc/compressed/2019-06-29.npy'), PosixPath('../data/acc/compressed/2019-06-30.npy'), PosixPath('../data/acc/compressed/2019-07-01.npy'), PosixPath('../data/acc/compressed/2019-07-02.npy'), PosixPath('../data/acc/compressed/2019-07-03.npy'), PosixPath('../data/acc/compressed/2019-07-04.npy'), PosixPath('../data/acc/compressed/2019-07-05.npy'), PosixPath('../data/acc/compressed/2019-07-06.npy'), PosixPath('../data/acc/compressed/2019-07-07.npy'), PosixPath('../data/acc/compressed/2019-07-08.npy'), PosixPath('../data/acc/compressed/2019-07-09.npy'), PosixPath('../data/acc/compressed/2019-07-10.npy'), PosixPath('../data/acc/compressed/2019-07-11.npy'), PosixPath('../data/acc/compressed/2019-07-12.npy'), PosixPath('../data/acc/compressed/2019-07-13.npy'), PosixPath('../data/acc/compressed/2019-07-14.npy'), PosixPath('../data/acc/compressed/2019-07-15.npy'), PosixPath('../data/acc/compressed/2019-07-16.npy'), PosixPath('../data/acc/compressed/2019-07-17.npy'), PosixPath('../data/acc/compressed/2019-07-18.npy'), PosixPath('../data/acc/compressed/2019-07-19.npy'), PosixPath('../data/acc/compressed/2019-07-20.npy'), PosixPath('../data/acc/compressed/2019-07-21.npy'), PosixPath('../data/acc/compressed/2019-07-22.npy'), PosixPath('../data/acc/compressed/2019-07-23.npy'), PosixPath('../data/acc/compressed/2019-07-24.npy'), PosixPath('../data/acc/compressed/2019-07-25.npy'), PosixPath('../data/acc/compressed/2019-07-26.npy'), PosixPath('../data/acc/compressed/2019-07-27.npy'), PosixPath('../data/acc/compressed/2019-07-28.npy'), PosixPath('../data/acc/compressed/2019-07-29.npy'), PosixPath('../data/acc/compressed/2019-07-30.npy'), PosixPath('../data/acc/compressed/2019-07-31.npy'), PosixPath('../data/acc/compressed/2019-08-01.npy'), PosixPath('../data/acc/compressed/2019-08-02.npy'), PosixPath('../data/acc/compressed/2019-08-03.npy'), PosixPath('../data/acc/compressed/2019-08-04.npy'), PosixPath('../data/acc/compressed/2019-08-05.npy'), PosixPath('../data/acc/compressed/2019-08-06.npy'), PosixPath('../data/acc/compressed/2019-08-07.npy'), PosixPath('../data/acc/compressed/2019-08-08.npy'), PosixPath('../data/acc/compressed/2019-08-09.npy'), PosixPath('../data/acc/compressed/2019-08-10.npy'), PosixPath('../data/acc/compressed/2019-08-11.npy'), PosixPath('../data/acc/compressed/2019-08-12.npy'), PosixPath('../data/acc/compressed/2019-08-13.npy'), PosixPath('../data/acc/compressed/2019-08-14.npy'), PosixPath('../data/acc/compressed/2019-08-15.npy'), PosixPath('../data/acc/compressed/2019-08-16.npy'), PosixPath('../data/acc/compressed/2019-08-17.npy'), PosixPath('../data/acc/compressed/2019-08-18.npy'), PosixPath('../data/acc/compressed/2019-08-19.npy'), PosixPath('../data/acc/compressed/2019-08-20.npy'), PosixPath('../data/acc/compressed/2019-08-21.npy'), PosixPath('../data/acc/compressed/2019-08-22.npy'), PosixPath('../data/acc/compressed/2019-08-23.npy'), PosixPath('../data/acc/compressed/2019-08-24.npy'), PosixPath('../data/acc/compressed/2019-08-25.npy'), PosixPath('../data/acc/compressed/2019-08-26.npy'), PosixPath('../data/acc/compressed/2019-08-27.npy'), PosixPath('../data/acc/compressed/2019-08-28.npy'), PosixPath('../data/acc/compressed/2019-08-29.npy'), PosixPath('../data/acc/compressed/2019-08-30.npy'), PosixPath('../data/acc/compressed/2019-08-31.npy'), PosixPath('../data/acc/compressed/2019-09-01.npy'), PosixPath('../data/acc/compressed/2019-09-02.npy'), PosixPath('../data/acc/compressed/2019-09-03.npy'), PosixPath('../data/acc/compressed/2019-09-04.npy'), PosixPath('../data/acc/compressed/2019-09-05.npy'), PosixPath('../data/acc/compressed/2019-09-06.npy'), PosixPath('../data/acc/compressed/2019-09-07.npy'), PosixPath('../data/acc/compressed/2019-09-08.npy'), PosixPath('../data/acc/compressed/2019-09-09.npy'), PosixPath('../data/acc/compressed/2019-09-10.npy'), PosixPath('../data/acc/compressed/2019-09-11.npy'), PosixPath('../data/acc/compressed/2019-09-12.npy'), PosixPath('../data/acc/compressed/2019-09-13.npy'), PosixPath('../data/acc/compressed/2019-09-14.npy'), PosixPath('../data/acc/compressed/2019-09-15.npy'), PosixPath('../data/acc/compressed/2019-09-16.npy'), PosixPath('../data/acc/compressed/2019-09-17.npy'), PosixPath('../data/acc/compressed/2019-09-18.npy'), PosixPath('../data/acc/compressed/2019-09-19.npy'), PosixPath('../data/acc/compressed/2019-09-20.npy'), PosixPath('../data/acc/compressed/2019-09-23.npy'), PosixPath('../data/acc/compressed/2019-09-24.npy'), PosixPath('../data/acc/compressed/2019-09-25.npy'), PosixPath('../data/acc/compressed/2019-09-26.npy'), PosixPath('../data/acc/compressed/2019-09-27.npy'), PosixPath('../data/acc/compressed/2019-09-28.npy'), PosixPath('../data/acc/compressed/2019-09-29.npy'), PosixPath('../data/acc/compressed/2019-09-30.npy')]\n"
     ]
    }
   ],
   "source": [
    "print(compressed_files)"
   ]
  },
  {
   "cell_type": "code",
   "execution_count": 4,
   "metadata": {},
   "outputs": [
    {
     "name": "stderr",
     "output_type": "stream",
     "text": [
      "100%|██████████| 120/120 [00:00<00:00, 622.81it/s]\n"
     ]
    }
   ],
   "source": [
    "events = []\n",
    "for f in tqdm(compressed_files):\n",
    "    with open(f, 'rb') as fp:\n",
    "        events.append(np.load(fp))\n",
    "catted_events = np.concatenate(events)"
   ]
  },
  {
   "cell_type": "code",
   "execution_count": 5,
   "metadata": {},
   "outputs": [
    {
     "name": "stdout",
     "output_type": "stream",
     "text": [
      "(35679, 15, 60)\n"
     ]
    }
   ],
   "source": [
    "print(catted_events.shape)"
   ]
  },
  {
   "cell_type": "code",
   "execution_count": 8,
   "metadata": {},
   "outputs": [],
   "source": [
    "with open('../data/acc/compressed/full_data.npy','wb') as fd:\n",
    "    np.save(fd, catted_events)"
   ]
  },
  {
   "cell_type": "code",
   "execution_count": 9,
   "metadata": {},
   "outputs": [
    {
     "name": "stdout",
     "output_type": "stream",
     "text": [
      "(35679, 15, 60)\n"
     ]
    }
   ],
   "source": [
    "with open('../data/acc/compressed/full_data.npy','rb') as fd:\n",
    "    arr = np.load(fd)\n",
    "    print(arr.shape)"
   ]
  },
  {
   "cell_type": "code",
   "execution_count": null,
   "metadata": {},
   "outputs": [],
   "source": []
  }
 ],
 "metadata": {
  "kernelspec": {
   "display_name": "Python 3",
   "language": "python",
   "name": "python3"
  },
  "language_info": {
   "codemirror_mode": {
    "name": "ipython",
    "version": 3
   },
   "file_extension": ".py",
   "mimetype": "text/x-python",
   "name": "python",
   "nbconvert_exporter": "python",
   "pygments_lexer": "ipython3",
   "version": "3.7.4"
  }
 },
 "nbformat": 4,
 "nbformat_minor": 4
}
