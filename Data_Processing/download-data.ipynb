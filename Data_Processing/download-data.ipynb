{
 "cells": [
  {
   "cell_type": "code",
   "execution_count": 1,
   "metadata": {},
   "outputs": [],
   "source": [
    "import obspy\n",
    "import matplotlib.pyplot as plt\n",
    "import os\n",
    "import datetime\n",
    "import logging\n",
    "import time"
   ]
  },
  {
   "cell_type": "code",
   "execution_count": 2,
   "metadata": {},
   "outputs": [],
   "source": [
    "logger = logging.getLogger('Seismic data downloading')\n",
    "logger.setLevel(logging.DEBUG)\n",
    "fh = logging.FileHandler('downloading.log')\n",
    "# fh.setLevel(logging.DEBUG)\n",
    "logger.addHandler(fh)\n",
    "ch = logging.StreamHandler()\n",
    "# ch.setLevel(logging.DEBUG)\n",
    "logger.addHandler(ch)"
   ]
  },
  {
   "cell_type": "code",
   "execution_count": 3,
   "metadata": {},
   "outputs": [],
   "source": [
    "center = (35.705, -117.504)\n",
    "horizontal = 0.5\n",
    "vertical = 0.5"
   ]
  },
  {
   "cell_type": "code",
   "execution_count": 4,
   "metadata": {},
   "outputs": [],
   "source": [
    "starttime = obspy.UTCDateTime(\"2019-07-01\")\n",
    "endtime = obspy.UTCDateTime(\"2019-10-01\")\n",
    "# starttime = obspy.UTCDateTime(\"2019-04-01\")\n",
    "# endtime = obspy.UTCDateTime(\"2019-07-01\")"
   ]
  },
  {
   "cell_type": "code",
   "execution_count": 5,
   "metadata": {},
   "outputs": [],
   "source": [
    "from obspy.clients.fdsn import Client\n",
    "client = Client(\"SCEDC\")"
   ]
  },
  {
   "cell_type": "code",
   "execution_count": null,
   "metadata": {},
   "outputs": [],
   "source": [
    "output_dir = \"./mseed2\"\n",
    "if not os.path.exists(output_dir):\n",
    "  os.makedirs(output_dir)"
   ]
  },
  {
   "cell_type": "code",
   "execution_count": 64,
   "metadata": {},
   "outputs": [],
   "source": [
    "events = client.get_events(starttime=starttime, \n",
    "                           endtime=endtime, \n",
    "                           minlatitude=center[0]-vertical,\n",
    "                           maxlatitude=center[0]+vertical,\n",
    "                           minlongitude=center[1]-horizontal,\n",
    "                           maxlongitude=center[1]+horizontal,\n",
    "                           minmagnitude=3, \n",
    "                           catalog=\"SCEDC\", \n",
    "                           filename='events.xml')\n",
    "# events = obspy.read_events('events.xml')\n",
    "# events.plot('local', outfile=\"events.png\")\n",
    "# plt.savefig(\"events.png\")\n",
    "# logger.info(\"Number of events: {}\".format(len(events)))"
   ]
  },
  {
   "cell_type": "code",
   "execution_count": 15,
   "metadata": {},
   "outputs": [
    {
     "name": "stderr",
     "output_type": "stream",
     "text": [
      "Number of events: 984\n"
     ]
    }
   ],
   "source": [
    "events = obspy.read_events('events.xml')\n",
    "logger.info(\"Number of events: {}\".format(len(events)))"
   ]
  },
  {
   "cell_type": "code",
   "execution_count": null,
   "metadata": {},
   "outputs": [],
   "source": [
    "plt.figure(figsize=(15,15))\n",
    "fig = plt.subplot()\n",
    "# events.plot('local', outfile=\"events.png\", fig=fig)\n",
    "#fig = events.plot('local', fig=fig)\n",
    "# plt.savefig(\"events.png\")"
   ]
  },
  {
   "cell_type": "code",
   "execution_count": 63,
   "metadata": {},
   "outputs": [],
   "source": [
    "stations = client.get_stations(network = \"*\",\n",
    "                               station = \"*\",\n",
    "                               starttime=starttime, \n",
    "                               endtime=endtime, \n",
    "                               minlatitude=center[0]-vertical,\n",
    "                               maxlatitude=center[0]+vertical,\n",
    "                               minlongitude=center[1]-horizontal,\n",
    "                               maxlongitude=center[1]+horizontal,\n",
    "                               level=\"response\",\n",
    "                               filename='stations.xml')\n",
    "# stations = obspy.read_inventory('stations.xml')\n",
    "# stations.plot('local', outfile=\"station.png\")\n",
    "# # plt.savefig(\"station.png\")"
   ]
  },
  {
   "cell_type": "code",
   "execution_count": 65,
   "metadata": {},
   "outputs": [],
   "source": [
    "stations = obspy.read_inventory('stations.xml')"
   ]
  },
  {
   "cell_type": "code",
   "execution_count": null,
   "metadata": {},
   "outputs": [],
   "source": [
    "plt.figure(figsize=(15,15))\n",
    "# fig = plt.gcf()\n",
    "#stations.plot('local', outfile=\"station-event.png\", size=100, fig=fig)\n",
    "# plt.savefig(\"station.png\")"
   ]
  },
  {
   "cell_type": "code",
   "execution_count": null,
   "metadata": {},
   "outputs": [],
   "source": [
    "def download_all_stations(stations, starttime, endtime):\n",
    "  max_retry = 5\n",
    "  stream = obspy.Stream()\n",
    "  logger.info(\"#########{}#########\".format(starttime))\n",
    "  for network in stations:\n",
    "    for station in network:\n",
    "      logger.info(\"********{}.{}********\".format(network.code, station.code))\n",
    "      retry = 0\n",
    "      while retry < max_retry:\n",
    "        try:\n",
    "          tmp = client.get_waveforms(network.code, station.code, \"*\", \"HN*\", starttime, endtime)\n",
    "          stream += tmp\n",
    "          break\n",
    "        except Exception as e:\n",
    "#           logger.warning(\"Error {}.{}: {}\".format(network.code, station.code,e))\n",
    "          err = e\n",
    "          retry += 1\n",
    "          time.sleep(1)\n",
    "          continue\n",
    "      if retry == max_retry:\n",
    "        logger.warning(\"MAX retries reach at {}.{} with error: {}\".format(network.code, station.code, err))\n",
    "\n",
    "  return stream"
   ]
  },
  {
   "cell_type": "code",
   "execution_count": null,
   "metadata": {},
   "outputs": [],
   "source": [
    "tmp_start = starttime\n",
    "one_day = datetime.timedelta(days=1)\n",
    "while tmp_start < endtime:\n",
    "  stream = download_all_stations(stations, tmp_start, tmp_start+one_day)\n",
    "  stream.write(os.path.join(output_dir, \"{}.mseed\".format(tmp_start.datetime.strftime(\"%Y-%m-%d\"))), format=\"MSEED\")  \n",
    "  tmp_start += one_day"
   ]
  },
  {
   "cell_type": "code",
   "execution_count": null,
   "metadata": {},
   "outputs": [],
   "source": []
  }
 ],
 "metadata": {
  "jupytext": {
   "text_representation": {
    "extension": ".py",
    "format_name": "light",
    "format_version": "1.4",
    "jupytext_version": "1.2.4"
   }
  },
  "kernelspec": {
   "display_name": "Python 3",
   "language": "python",
   "name": "python3"
  },
  "language_info": {
   "codemirror_mode": {
    "name": "ipython",
    "version": 3
   },
   "file_extension": ".py",
   "mimetype": "text/x-python",
   "name": "python",
   "nbconvert_exporter": "python",
   "pygments_lexer": "ipython3",
   "version": "3.7.4"
  }
 },
 "nbformat": 4,
 "nbformat_minor": 2
}
