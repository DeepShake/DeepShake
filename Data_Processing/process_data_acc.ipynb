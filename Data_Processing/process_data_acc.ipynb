{
 "cells": [
  {
   "cell_type": "markdown",
   "metadata": {},
   "source": [
    "# Process Data\n",
    "\n",
    "This notebook goes through the steps to process raw .pkl files into a usable format by\n",
    "1. Extracting data for each earthquake as well as earthquake metadata\n",
    "2. Selecting a subset of stations out of all those with data to perform analysis\n",
    "3. Compress data via subsampling"
   ]
  },
  {
   "cell_type": "code",
   "execution_count": 1,
   "metadata": {},
   "outputs": [],
   "source": [
    "## Imports\n",
    "\n",
    "import pickle\n",
    "from pathlib import Path\n",
    "import datetime\n",
    "import os\n",
    "from tqdm import tqdm\n",
    "import matplotlib.pyplot as plt\n",
    "import matplotlib \n",
    "matplotlib.rc('font', **{'size': 18})\n",
    "import numpy as np\n",
    "import json"
   ]
  },
  {
   "cell_type": "code",
   "execution_count": 2,
   "metadata": {},
   "outputs": [],
   "source": [
    "load_path = '../data/Ridgecrest/'\n",
    "data_dir = \"../data/\"\n",
    "raw_path = os.path.join(data_dir, \"raw\")\n",
    "meta_path = os.path.join(data_dir, \"metadata\")\n",
    "relevant_path = os.path.join(data_dir, \"acc\", \"relevant_stations\")\n",
    "compressed_path = os.path.join(data_dir, \"acc\", \"compressed\")"
   ]
  },
  {
   "cell_type": "markdown",
   "metadata": {},
   "source": [
    "### Step-1: Extract data for earthquakes"
   ]
  },
  {
   "cell_type": "markdown",
   "metadata": {},
   "source": [
    "#### Part a: Extract accelerations"
   ]
  },
  {
   "cell_type": "code",
   "execution_count": 3,
   "metadata": {},
   "outputs": [],
   "source": [
    "def get_indices(station_start_time, earthquake_start_time, period = 6000, step=100, offset=15):\n",
    "    start_idx = int(100*(earthquake_start_time - station_start_time)) - offset*step\n",
    "    end_idx = start_idx + period\n",
    "    return (start_idx, end_idx)\n"
   ]
  },
  {
   "cell_type": "code",
   "execution_count": null,
   "metadata": {},
   "outputs": [],
   "source": [
    "input_dir = Path(load_path)\n",
    "\n",
    "output_dir = Path(raw_path)\n",
    "output_files = [os.path.split(f)[1].split('.')[0] for f in sorted(output_dir.glob(\"*.npy\"))]\n",
    "print(output_files)\n",
    "\n",
    "if not os.path.exists(raw_path):\n",
    "    os.mkdir(raw_path)\n",
    "\n",
    "def np_from_pkl(data_path, save_path, period = 6000):\n",
    "    input_dir = Path(data_path)\n",
    "    sorted(input_dir.glob(\"*.pkl\"))\n",
    "    for f in tqdm(sorted(input_dir.glob(\"*.pkl\"))):\n",
    "#         print(f)\n",
    "        day_id = os.path.split(f)[1].split('.')[0]\n",
    "#         if day_id in output_files: \n",
    "#             print(\"File found for date: {}\".format(day_id))\n",
    "#             continue\n",
    "        ## Iterating over pickles\n",
    "        stations = []\n",
    "        with open(f, 'rb') as fp:\n",
    "            try:\n",
    "                data = pickle.load(fp)\n",
    "            except:\n",
    "                print(\"Pickle Corrupted\")\n",
    "                print(\"Corrupted path: {}\".format(f))\n",
    "                continue\n",
    "            num_stations, num_events = len(data['stations']), len(data['events'])\n",
    "#             data_arr = np.zeros\n",
    "\n",
    "            for station in data['stations']:\n",
    "                events = []\n",
    "                for event in data['events']:\n",
    "                    start_idx, end_idx = get_indices(data['stations'][station]['starttime'], event['time'])\n",
    "                    if (end_idx > len(data['stations'][station]['data']) - 1) or (start_idx < 0):\n",
    "                        continue #skip event\n",
    "                    events.append(np.transpose(data['stations'][station]['data'][start_idx: end_idx], (1, 0)))\n",
    "                events = np.array(events)\n",
    "#                 print(\"events shape\", events.shape)\n",
    "                stations.append(events)\n",
    "        save_arr = np.array(stations) \n",
    "#         print(\"station shape: \", save_arr.shape)\n",
    "        filename = day_id + \".npy\"\n",
    "        np.save(os.path.join(save_path, filename), save_arr) \n",
    "        \n",
    "np_from_pkl(load_path, raw_path)\n"
   ]
  },
  {
   "cell_type": "markdown",
   "metadata": {},
   "source": [
    "#### Part b: Extract metadata"
   ]
  },
  {
   "cell_type": "code",
   "execution_count": null,
   "metadata": {},
   "outputs": [],
   "source": [
    "## Reads through pickles. Saves stations and events (w/o the big boy quake data)    \n",
    "\n",
    "if not os.path.exists(meta_path):\n",
    "    os.mkdir(meta_path)\n",
    "    \n",
    "def save_station_and_events(data_path, save_path):\n",
    "    dropped = []\n",
    "    input_dir = Path(data_path)\n",
    "    sorted(input_dir.glob(\"*.pkl\"))\n",
    "    for f in tqdm(sorted(input_dir.glob(\"*.pkl\"))):\n",
    "        print(f)\n",
    "        day_id = os.path.split(f)[1].split('.')[0]\n",
    "        ## Iterating over pickles\n",
    "#         stations = []\n",
    "        with open(f, 'rb') as fp:\n",
    "            try:\n",
    "                data = pickle.load(fp)\n",
    "            except:\n",
    "                print(\"Pickle Corrupted\")\n",
    "                print(\"Corrupted path: {}\".format(f))\n",
    "                continue\n",
    "                \n",
    "        first_stat = list(data['stations'].keys())[0]\n",
    "        filename = day_id + \"_meta.json\"\n",
    "                \n",
    "        ## Idxs to keep\n",
    "        idxs_to_keep = []\n",
    "        for e, event in enumerate(data['events']):\n",
    "            start_idx, end_idx = get_indices(data['stations'][first_stat]['starttime'], event['time'])\n",
    "            if (end_idx > len(data['stations'][first_stat]['data']) - 1) or (start_idx < 0):\n",
    "                ## Event was skipped\n",
    "                pass\n",
    "            else:\n",
    "                idxs_to_keep.append(e)\n",
    "        before = len(data['events'])\n",
    "        data['events'] = [data['events'][idx] for idx in idxs_to_keep]\n",
    "        after = len(data['events'])\n",
    "        print(\"Num events dropped from date {}: {}\".format(day_id, before - after))\n",
    "        dropped.append(before - after)\n",
    "        for station in data['stations']:\n",
    "#             print(data['stations'][station].keys())\n",
    "            for key in ['starttime', 'endtime', 'data']:\n",
    "                del data['stations'][station][key]            \n",
    "        for e, event in enumerate(data['events']):\n",
    "            del data['events'][e]['time']\n",
    "#         print(data)\n",
    "        stations = np.array([stat for stat in data['stations'].keys()])\n",
    "        print(stations)\n",
    "        np.save(os.path.join(save_path, \"{}_stations.npy\".format(day_id)), stations)\n",
    "        with open(os.path.join(save_path, filename), 'w') as fp:\n",
    "            json.dump(data, fp)      \n",
    "    with open(os.path.join(save_path, \"dropped_events.txt\"), 'w') as fp:\n",
    "        fp.write(str(sum(dropped)) + '\\n')\n",
    "        for d in dropped:\n",
    "            fp.write(str(d)+'\\n')\n",
    "        \n",
    "save_station_and_events(load_path, meta_path)"
   ]
  },
  {
   "cell_type": "markdown",
   "metadata": {},
   "source": [
    "#### Part c: Get shapes for all dates"
   ]
  },
  {
   "cell_type": "code",
   "execution_count": 14,
   "metadata": {},
   "outputs": [
    {
     "name": "stdout",
     "output_type": "stream",
     "text": [
      "122\n"
     ]
    }
   ],
   "source": [
    "files = [entry for entry in os.scandir(raw_path)]\n",
    "print(len(files))"
   ]
  },
  {
   "cell_type": "code",
   "execution_count": 37,
   "metadata": {
    "collapsed": true,
    "jupyter": {
     "outputs_hidden": true
    }
   },
   "outputs": [
    {
     "name": "stdout",
     "output_type": "stream",
     "text": [
      "(23, 94, 3, 6000)\n",
      "(16, 3, 3, 6000)\n",
      "(31, 267, 3, 6000)\n",
      "(28, 250, 3, 6000)\n",
      "(16, 12, 3, 6000)\n",
      "(19, 1235, 3, 6000)\n",
      "(31, 559, 3, 6000)\n",
      "(30, 739, 3, 6000)\n",
      "(33, 243, 3, 6000)\n",
      "(27, 244, 3, 6000)\n",
      "(16, 10, 3, 6000)\n",
      "(29, 245, 3, 6000)\n",
      "(16, 11, 3, 6000)\n",
      "(26, 118, 3, 6000)\n",
      "(31, 275, 3, 6000)\n",
      "(25, 158, 3, 6000)\n",
      "(16, 7, 3, 6000)\n",
      "(32, 257, 3, 6000)\n",
      "(29, 644, 3, 6000)\n",
      "(34, 551, 3, 6000)\n",
      "(16, 11, 3, 6000)\n",
      "(29, 744, 3, 6000)\n",
      "(31, 134, 3, 6000)\n",
      "(24, 144, 3, 6000)\n",
      "(26, 123, 3, 6000)\n",
      "(16, 4, 3, 6000)\n",
      "(32, 229, 3, 6000)\n",
      "(29, 647, 3, 6000)\n",
      "(27, 271, 3, 6000)\n",
      "(21, 1335, 3, 6000)\n",
      "(25, 99, 3, 6000)\n",
      "(32, 315, 3, 6000)\n",
      "(32, 836, 3, 6000)\n",
      "(23, 83, 3, 6000)\n",
      "(16, 2, 3, 6000)\n",
      "(16, 5, 3, 6000)\n",
      "(32, 731, 3, 6000)\n",
      "(34, 545, 3, 6000)\n",
      "(30, 251, 3, 6000)\n",
      "(29, 462, 3, 6000)\n",
      "(31, 357, 3, 6000)\n",
      "(16, 6, 3, 6000)\n",
      "(31, 233, 3, 6000)\n",
      "(31, 290, 3, 6000)\n",
      "(16, 15, 3, 6000)\n",
      "(16, 6, 3, 6000)\n",
      "(17, 1895, 3, 6000)\n",
      "(16, 4, 3, 6000)\n",
      "(16, 4, 3, 6000)\n",
      "(31, 285, 3, 6000)\n",
      "(31, 228, 3, 6000)\n",
      "(24, 131, 3, 6000)\n",
      "(32, 294, 3, 6000)\n",
      "(16, 20, 3, 6000)\n",
      "(30, 233, 3, 6000)\n",
      "(25, 81, 3, 6000)\n",
      "(16, 12, 3, 6000)\n",
      "(28, 567, 3, 6000)\n",
      "(24, 101, 3, 6000)\n",
      "(31, 424, 3, 6000)\n",
      "(27, 196, 3, 6000)\n",
      "(31, 238, 3, 6000)\n",
      "(16, 2, 3, 6000)\n",
      "(31, 165, 3, 6000)\n",
      "(25, 85, 3, 6000)\n",
      "(25, 70, 3, 6000)\n",
      "(16, 516, 3, 6000)\n",
      "(29, 694, 3, 6000)\n",
      "(28, 446, 3, 6000)\n",
      "(31, 144, 3, 6000)\n",
      "(25, 105, 3, 6000)\n",
      "(28, 1567, 3, 6000)\n",
      "(16, 5, 3, 6000)\n",
      "(16, 2, 3, 6000)\n",
      "(25, 114, 3, 6000)\n",
      "(31, 201, 3, 6000)\n",
      "(16, 7, 3, 6000)\n",
      "(34, 495, 3, 6000)\n",
      "(32, 1615, 3, 6000)\n",
      "(16, 5, 3, 6000)\n",
      "(16, 10, 3, 6000)\n",
      "(32, 207, 3, 6000)\n",
      "(16, 9, 3, 6000)\n",
      "(26, 104, 3, 6000)\n",
      "(27, 261, 3, 6000)\n",
      "(31, 165, 3, 6000)\n",
      "(31, 256, 3, 6000)\n",
      "(32, 191, 3, 6000)\n",
      "(24, 90, 3, 6000)\n",
      "(24, 68, 3, 6000)\n",
      "(16, 1, 3, 6000)\n",
      "(16, 7, 3, 6000)\n",
      "(31, 222, 3, 6000)\n",
      "(27, 221, 3, 6000)\n",
      "(16, 3, 3, 6000)\n",
      "(16, 7, 3, 6000)\n",
      "(32, 263, 3, 6000)\n",
      "(24, 85, 3, 6000)\n",
      "(31, 136, 3, 6000)\n",
      "(28, 240, 3, 6000)\n",
      "(27, 226, 3, 6000)\n",
      "(16, 1224, 3, 6000)\n",
      "(16, 6, 3, 6000)\n",
      "(23, 1822, 3, 6000)\n",
      "(34, 573, 3, 6000)\n",
      "(25, 170, 3, 6000)\n",
      "(31, 145, 3, 6000)\n",
      "(30, 213, 3, 6000)\n",
      "(34, 472, 3, 6000)\n",
      "(30, 239, 3, 6000)\n",
      "(16, 10, 3, 6000)\n",
      "(28, 371, 3, 6000)\n",
      "(27, 221, 3, 6000)\n",
      "(16, 8, 3, 6000)\n",
      "(31, 258, 3, 6000)\n",
      "(28, 185, 3, 6000)\n",
      "(26, 1830, 3, 6000)\n",
      "(28, 398, 3, 6000)\n",
      "(16, 7, 3, 6000)\n",
      "(16, 5, 3, 6000)\n",
      "(16, 5, 3, 6000)\n",
      "(24, 173, 3, 6000)\n"
     ]
    }
   ],
   "source": [
    "stations, events = [], []\n",
    "for file in files:\n",
    "#     print(np.load(os.path.join(data_path, file)).shape)\n",
    "    temp = np.load(file)\n",
    "    print(temp.shape)\n",
    "    stations.append(temp.shape[0])\n",
    "    events.append(temp.shape[1])\n",
    "    del temp\n"
   ]
  },
  {
   "cell_type": "code",
   "execution_count": 39,
   "metadata": {},
   "outputs": [
    {
     "name": "stdout",
     "output_type": "stream",
     "text": [
      "{'2019-09-22.npy': (23, 94, 3, 6000), '2019-06-12.npy': (16, 3, 3, 6000), '2019-08-25.npy': (31, 267, 3, 6000), '2019-07-31.npy': (28, 250, 3, 6000), '2019-07-02.npy': (16, 12, 3, 6000), '2019-07-07.npy': (19, 1235, 3, 6000), '2019-07-19.npy': (31, 559, 3, 6000), '2019-07-17.npy': (30, 739, 3, 6000), '2019-08-15.npy': (33, 243, 3, 6000), '2019-08-04.npy': (27, 244, 3, 6000), '2019-06-10.npy': (16, 10, 3, 6000), '2019-08-10.npy': (29, 245, 3, 6000), '2019-06-26.npy': (16, 11, 3, 6000), '2019-09-30.npy': (26, 118, 3, 6000), '2019-08-26.npy': (31, 275, 3, 6000), '2019-09-13.npy': (25, 158, 3, 6000), '2019-06-29.npy': (16, 7, 3, 6000), '2019-08-13.npy': (32, 257, 3, 6000), '2019-07-26.npy': (29, 644, 3, 6000), '2019-07-21.npy': (34, 551, 3, 6000), '2019-06-08.npy': (16, 11, 3, 6000), '2019-07-15.npy': (29, 744, 3, 6000), '2019-09-06.npy': (31, 134, 3, 6000), '2019-09-11.npy': (24, 144, 3, 6000), '2019-09-26.npy': (26, 123, 3, 6000), '2019-06-04.npy': (16, 4, 3, 6000), '2019-08-16.npy': (32, 229, 3, 6000), '2019-07-18.npy': (29, 647, 3, 6000), '2019-08-05.npy': (27, 271, 3, 6000), '2019-07-08.npy': (21, 1335, 3, 6000), '2019-09-20.npy': (25, 99, 3, 6000), '2019-08-12.npy': (32, 315, 3, 6000), '2019-07-13.npy': (32, 836, 3, 6000), '2019-09-16.npy': (23, 83, 3, 6000), '2019-06-03.npy': (16, 2, 3, 6000), '2019-06-30.npy': (16, 5, 3, 6000), '2019-07-14.npy': (32, 731, 3, 6000), '2019-07-22.npy': (34, 545, 3, 6000), '2019-08-27.npy': (30, 251, 3, 6000), '2019-07-25.npy': (29, 462, 3, 6000), '2019-08-22.npy': (31, 357, 3, 6000), '2019-06-19.npy': (16, 6, 3, 6000), '2019-08-31.npy': (31, 233, 3, 6000), '2019-08-11.npy': (31, 290, 3, 6000), '2019-06-06.npy': (16, 15, 3, 6000), '2019-06-27.npy': (16, 6, 3, 6000), '2019-07-06.npy': (17, 1895, 3, 6000), '2019-06-07.npy': (16, 4, 3, 6000), '2019-06-20.npy': (16, 4, 3, 6000), '2019-08-24.npy': (31, 285, 3, 6000), '2019-08-20.npy': (31, 228, 3, 6000), '2019-09-23.npy': (24, 131, 3, 6000), '2019-08-14.npy': (32, 294, 3, 6000), '2019-06-16.npy': (16, 20, 3, 6000), '2019-08-28.npy': (30, 233, 3, 6000), '2019-09-29.npy': (25, 81, 3, 6000), '2019-06-15.npy': (16, 12, 3, 6000), '2019-07-28.npy': (28, 567, 3, 6000), '2019-09-17.npy': (24, 101, 3, 6000), '2019-08-23.npy': (31, 424, 3, 6000), '2019-08-01.npy': (27, 196, 3, 6000), '2019-09-02.npy': (31, 238, 3, 6000), '2019-06-22.npy': (16, 2, 3, 6000), '2019-09-04.npy': (31, 165, 3, 6000), '2019-09-25.npy': (25, 85, 3, 6000), '2019-09-19.npy': (25, 70, 3, 6000), '2019-07-04.npy': (16, 516, 3, 6000), '2019-07-16.npy': (29, 694, 3, 6000), '2019-07-27.npy': (28, 446, 3, 6000), '2019-09-09.npy': (31, 144, 3, 6000), '2019-09-28.npy': (25, 105, 3, 6000), '2019-07-11.npy': (28, 1567, 3, 6000), '2019-06-01.npy': (16, 5, 3, 6000), '2019-06-11.npy': (16, 2, 3, 6000), '2019-09-15.npy': (25, 114, 3, 6000), '2019-08-30.npy': (31, 201, 3, 6000), '2019-06-28.npy': (16, 7, 3, 6000), '2019-07-23.npy': (34, 495, 3, 6000), '2019-07-12.npy': (32, 1615, 3, 6000), '2019-06-09.npy': (16, 5, 3, 6000), '2019-06-05.npy': (16, 10, 3, 6000), '2019-09-03.npy': (32, 207, 3, 6000), '2019-06-13.npy': (16, 9, 3, 6000), '2019-09-27.npy': (26, 104, 3, 6000), '2019-08-08.npy': (27, 261, 3, 6000), '2019-09-07.npy': (31, 165, 3, 6000), '2019-08-21.npy': (31, 256, 3, 6000), '2019-09-08.npy': (32, 191, 3, 6000), '2019-09-18.npy': (24, 90, 3, 6000), '2019-09-24.npy': (24, 68, 3, 6000), '2019-07-03.npy': (16, 1, 3, 6000), '2019-06-18.npy': (16, 7, 3, 6000), '2019-08-18.npy': (31, 222, 3, 6000), '2019-08-03.npy': (27, 221, 3, 6000), '2019-06-23.npy': (16, 3, 3, 6000), '2019-06-02.npy': (16, 7, 3, 6000), '2019-08-17.npy': (32, 263, 3, 6000), '2019-09-21.npy': (24, 85, 3, 6000), '2019-09-10.npy': (31, 136, 3, 6000), '2019-08-09.npy': (28, 240, 3, 6000), '2019-08-06.npy': (27, 226, 3, 6000), '2019-07-05.npy': (16, 1224, 3, 6000), '2019-06-24.npy': (16, 6, 3, 6000), '2019-07-09.npy': (23, 1822, 3, 6000), '2019-07-20.npy': (34, 573, 3, 6000), '2019-09-14.npy': (25, 170, 3, 6000), '2019-09-05.npy': (31, 145, 3, 6000), '2019-08-29.npy': (30, 213, 3, 6000), '2019-07-24.npy': (34, 472, 3, 6000), '2019-09-01.npy': (30, 239, 3, 6000), '2019-06-21.npy': (16, 10, 3, 6000), '2019-07-29.npy': (28, 371, 3, 6000), '2019-08-07.npy': (27, 221, 3, 6000), '2019-07-01.npy': (16, 8, 3, 6000), '2019-08-19.npy': (31, 258, 3, 6000), '2019-08-02.npy': (28, 185, 3, 6000), '2019-07-10.npy': (26, 1830, 3, 6000), '2019-07-30.npy': (28, 398, 3, 6000), '2019-06-25.npy': (16, 7, 3, 6000), '2019-06-14.npy': (16, 5, 3, 6000), '2019-06-17.npy': (16, 5, 3, 6000), '2019-09-12.npy': (24, 173, 3, 6000)}\n"
     ]
    }
   ],
   "source": [
    "dates = [file.name for file in files]\n",
    "stat_evs = zip(stations, events)\n",
    "\n",
    "shapes = [(s, v, 3, 6000) for s, v in stat_evs]\n",
    "mapping = dict(zip(dates, shapes))\n",
    "print(mapping)\n",
    "\n",
    "with open(os.path.join(meta_path, 'date_to_shape.json'), 'w') as fp:\n",
    "    json.dump(mapping, fp)"
   ]
  },
  {
   "cell_type": "markdown",
   "metadata": {},
   "source": [
    "#### Part d: Count number of quakes per station"
   ]
  },
  {
   "cell_type": "code",
   "execution_count": 40,
   "metadata": {},
   "outputs": [],
   "source": [
    "station_files = [entry.name for entry in Path(meta_path).glob(\"*.npy\")]\n",
    "# print(station_files)"
   ]
  },
  {
   "cell_type": "code",
   "execution_count": 52,
   "metadata": {
    "collapsed": true,
    "jupyter": {
     "outputs_hidden": true
    }
   },
   "outputs": [
    {
     "name": "stdout",
     "output_type": "stream",
     "text": [
      "[array(['CI.CCC.', 'CI.DTP.', 'CI.JRC2.', 'CI.LRL.', 'CI.MPM.', 'CI.SLA.',\n",
      "       'CI.SRT.', 'CI.TOW2.', 'CI.WBM.', 'CI.WCS2.', 'CI.WMF.', 'CI.WNM.',\n",
      "       'CI.WRC2.', 'CI.WRV2.', 'CI.WVP2.', 'GS.CA01.20', 'GS.CA03.20',\n",
      "       'GS.CA05.20', 'GS.CA06.20', 'GS.CA07.00', 'GS.CA08.00',\n",
      "       'GS.CA09.00', 'GS.CA10.00', 'NP.5419.10'], dtype='<U10'), array(['CI.CCC.', 'CI.DTP.', 'CI.JRC2.', 'CI.LRL.', 'CI.MPM.', 'CI.SLA.',\n",
      "       'CI.SRT.', 'CI.TOW2.', 'CI.WBM.', 'CI.WCS2.', 'CI.WMF.', 'CI.WNM.',\n",
      "       'CI.WRC2.', 'CI.WRV2.', 'CI.WVP2.', 'GS.CA01.20', 'GS.CA03.20',\n",
      "       'GS.CA05.20', 'GS.CA06.20', 'GS.CA07.00', 'GS.CA08.00',\n",
      "       'GS.CA09.00', 'GS.CA10.00', 'NP.5419.10'], dtype='<U10'), array(['CI.CCC.', 'CI.DTP.', 'CI.JRC2.', 'CI.LRL.', 'CI.MPM.', 'CI.SLA.',\n",
      "       'CI.SRT.', 'CI.TOW2.', 'CI.WBM.', 'CI.WCS2.', 'CI.WMF.', 'CI.WNM.',\n",
      "       'CI.WRC2.', 'CI.WRV2.', 'CI.WVP2.', 'GS.CA01.20', 'GS.CA03.20',\n",
      "       'GS.CA05.20', 'GS.CA06.20', 'GS.CA07.00', 'GS.CA08.00',\n",
      "       'GS.CA09.00', 'GS.CA10.00', 'NP.5419.10', 'ZY.SV01.', 'ZY.SV06.',\n",
      "       'ZY.SV08.'], dtype='<U10'), array(['CI.CCC.', 'CI.CLC.', 'CI.DTP.', 'CI.JRC2.', 'CI.LRL.', 'CI.MPM.',\n",
      "       'CI.SLA.', 'CI.SRT.', 'CI.TOW2.', 'CI.WBM.', 'CI.WCS2.', 'CI.WMF.',\n",
      "       'CI.WNM.', 'CI.WRC2.', 'CI.WRV2.', 'CI.WVP2.', 'GS.CA01.20',\n",
      "       'GS.CA03.20', 'GS.CA04.20', 'GS.CA05.20', 'GS.CA06.20',\n",
      "       'GS.CA07.00', 'GS.CA08.00', 'GS.CA09.00', 'GS.CA10.00', 'ZY.SV01.',\n",
      "       'ZY.SV02.', 'ZY.SV03.', 'ZY.SV04.', 'ZY.SV06.', 'ZY.SV08.'],\n",
      "      dtype='<U10'), array(['CI.CCC.', 'CI.CLC.', 'CI.DTP.', 'CI.JRC2.', 'CI.LRL.', 'CI.MPM.',\n",
      "       'CI.SLA.', 'CI.SRT.', 'CI.TOW2.', 'CI.WBM.', 'CI.WCS2.', 'CI.WMF.',\n",
      "       'CI.WNM.', 'CI.WRC2.', 'CI.WRV2.', 'CI.WVP2.', 'GS.CA01.20',\n",
      "       'GS.CA02.20', 'GS.CA03.20', 'GS.CA04.20', 'GS.CA05.20',\n",
      "       'GS.CA06.20', 'GS.CA07.00', 'GS.CA08.00', 'GS.CA09.00',\n",
      "       'NP.5419.10', 'ZY.SV01.', 'ZY.SV05.', 'ZY.SV07.', 'ZY.SV08.'],\n",
      "      dtype='<U10'), array(['CI.CCC.', 'CI.CLC.', 'CI.DTP.', 'CI.JRC2.', 'CI.LRL.', 'CI.MPM.',\n",
      "       'CI.SLA.', 'CI.SRT.', 'CI.TOW2.', 'CI.WBM.', 'CI.WCS2.', 'CI.WMF.',\n",
      "       'CI.WNM.', 'CI.WRC2.', 'CI.WRV2.', 'CI.WVP2.'], dtype='<U8'), array(['CI.CCC.', 'CI.CLC.', 'CI.DTP.', 'CI.JRC2.', 'CI.LRL.', 'CI.MPM.',\n",
      "       'CI.SLA.', 'CI.SRT.', 'CI.TOW2.', 'CI.WBM.', 'CI.WCS2.', 'CI.WMF.',\n",
      "       'CI.WNM.', 'CI.WRC2.', 'CI.WRV2.', 'CI.WVP2.'], dtype='<U8'), array(['CI.CCC.', 'CI.CLC.', 'CI.DTP.', 'CI.JRC2.', 'CI.LRL.', 'CI.MPM.',\n",
      "       'CI.SLA.', 'CI.SRT.', 'CI.TOW2.', 'CI.WBM.', 'CI.WCS2.', 'CI.WMF.',\n",
      "       'CI.WNM.', 'CI.WRC2.', 'CI.WRV2.', 'CI.WVP2.', 'GS.CA01.20',\n",
      "       'GS.CA02.20', 'GS.CA03.20', 'GS.CA04.20', 'GS.CA05.20',\n",
      "       'GS.CA06.20', 'GS.CA07.00', 'GS.CA08.00', 'NP.5419.10', 'ZY.SV01.',\n",
      "       'ZY.SV05.', 'ZY.SV07.', 'ZY.SV08.'], dtype='<U10'), array(['CI.CCC.', 'CI.CLC.', 'CI.DTP.', 'CI.JRC2.', 'CI.LRL.', 'CI.MPM.',\n",
      "       'CI.SLA.', 'CI.SRT.', 'CI.TOW2.', 'CI.WBM.', 'CI.WCS2.', 'CI.WMF.',\n",
      "       'CI.WNM.', 'CI.WRC2.', 'CI.WRV2.', 'CI.WVP2.', 'GS.CA01.20',\n",
      "       'GS.CA03.20', 'GS.CA05.20', 'GS.CA06.20', 'GS.CA07.00',\n",
      "       'GS.CA08.00', 'GS.CA09.00', 'GS.CA10.00', 'NP.5419.10'],\n",
      "      dtype='<U10'), array(['CI.CCC.', 'CI.CLC.', 'CI.DTP.', 'CI.JRC2.', 'CI.LRL.', 'CI.MPM.',\n",
      "       'CI.SLA.', 'CI.SRT.', 'CI.TOW2.', 'CI.WBM.', 'CI.WCS2.', 'CI.WMF.',\n",
      "       'CI.WNM.', 'CI.WRC2.', 'CI.WRV2.', 'CI.WVP2.'], dtype='<U8'), array(['CI.CCC.', 'CI.CLC.', 'CI.DTP.', 'CI.JRC2.', 'CI.LRL.', 'CI.MPM.',\n",
      "       'CI.SLA.', 'CI.SRT.', 'CI.TOW2.', 'CI.WBM.', 'CI.WCS2.', 'CI.WMF.',\n",
      "       'CI.WNM.', 'CI.WRC2.', 'CI.WRV2.', 'CI.WVP2.'], dtype='<U8'), array(['CI.CCC.', 'CI.CLC.', 'CI.DTP.', 'CI.JRC2.', 'CI.LRL.', 'CI.MPM.',\n",
      "       'CI.SLA.', 'CI.SRT.', 'CI.TOW2.', 'CI.WBM.', 'CI.WCS2.', 'CI.WMF.',\n",
      "       'CI.WNM.', 'CI.WRC2.', 'CI.WRV2.', 'CI.WVP2.', 'GS.CA01.20',\n",
      "       'GS.CA03.20', 'GS.CA05.20', 'GS.CA06.20', 'GS.CA07.00',\n",
      "       'GS.CA08.00', 'GS.CA09.00', 'GS.CA10.00', 'NP.5419.10'],\n",
      "      dtype='<U10'), array(['CI.CCC.', 'CI.CLC.', 'CI.DTP.', 'CI.JRC2.', 'CI.LRL.', 'CI.MPM.',\n",
      "       'CI.SLA.', 'CI.SRT.', 'CI.TOW2.', 'CI.WBM.', 'CI.WCS2.', 'CI.WMF.',\n",
      "       'CI.WNM.', 'CI.WRC2.', 'CI.WRV2.', 'CI.WVP2.'], dtype='<U8'), array(['CI.CCC.', 'CI.CLC.', 'CI.DTP.', 'CI.JRC2.', 'CI.LRL.', 'CI.MPM.',\n",
      "       'CI.SLA.', 'CI.SRT.', 'CI.TOW2.', 'CI.WBM.', 'CI.WCS2.', 'CI.WMF.',\n",
      "       'CI.WNM.', 'CI.WRC2.', 'CI.WRV2.', 'CI.WVP2.', 'GS.CA01.20',\n",
      "       'GS.CA03.20', 'GS.CA05.20', 'GS.CA06.20', 'GS.CA07.00',\n",
      "       'GS.CA08.00', 'GS.CA09.00', 'GS.CA10.00', 'NP.5419.10'],\n",
      "      dtype='<U10'), array(['CI.CCC.', 'CI.CLC.', 'CI.DTP.', 'CI.JRC2.', 'CI.LRL.', 'CI.MPM.',\n",
      "       'CI.SLA.', 'CI.SRT.', 'CI.TOW2.', 'CI.WBM.', 'CI.WCS2.', 'CI.WMF.',\n",
      "       'CI.WNM.', 'CI.WRC2.', 'CI.WRV2.', 'CI.WVP2.'], dtype='<U8'), array(['CI.CCC.', 'CI.CLC.', 'CI.DTP.', 'CI.JRC2.', 'CI.LRL.', 'CI.MPM.',\n",
      "       'CI.SLA.', 'CI.SRT.', 'CI.TOW2.', 'CI.WBM.', 'CI.WCS2.', 'CI.WMF.',\n",
      "       'CI.WNM.', 'CI.WRC2.', 'CI.WRV2.', 'CI.WVP2.'], dtype='<U8'), array(['CI.CCC.', 'CI.CLC.', 'CI.DTP.', 'CI.JRC2.', 'CI.LRL.', 'CI.MPM.',\n",
      "       'CI.SLA.', 'CI.SRT.', 'CI.TOW2.', 'CI.WBM.', 'CI.WCS2.', 'CI.WMF.',\n",
      "       'CI.WNM.', 'CI.WRC2.', 'CI.WRV2.', 'CI.WVP2.', 'GS.CA01.20',\n",
      "       'GS.CA03.20', 'GS.CA05.20', 'GS.CA06.20', 'GS.CA07.00',\n",
      "       'GS.CA08.00', 'GS.CA09.00', 'GS.CA10.00', 'ZY.SV01.', 'ZY.SV02.',\n",
      "       'ZY.SV03.', 'ZY.SV04.', 'ZY.SV05.', 'ZY.SV06.', 'ZY.SV07.'],\n",
      "      dtype='<U10'), array(['CI.CCC.', 'CI.CLC.', 'CI.DTP.', 'CI.JRC2.', 'CI.LRL.', 'CI.MPM.',\n",
      "       'CI.SLA.', 'CI.SRT.', 'CI.TOW2.', 'CI.WBM.', 'CI.WCS2.', 'CI.WMF.',\n",
      "       'CI.WNM.', 'CI.WRC2.', 'CI.WRV2.', 'CI.WVP2.', 'GS.CA01.20',\n",
      "       'GS.CA03.20', 'GS.CA04.20', 'GS.CA05.20', 'GS.CA06.20',\n",
      "       'GS.CA07.00', 'GS.CA08.00', 'GS.CA09.00', 'GS.CA10.00'],\n",
      "      dtype='<U10'), array(['CI.CCC.', 'CI.CLC.', 'CI.DTP.', 'CI.JRC2.', 'CI.LRL.', 'CI.MPM.',\n",
      "       'CI.SLA.', 'CI.SRT.', 'CI.TOW2.', 'CI.WBM.', 'CI.WCS2.', 'CI.WMF.',\n",
      "       'CI.WNM.', 'CI.WRC2.', 'CI.WRV2.', 'CI.WVP2.'], dtype='<U8'), array(['CI.CCC.', 'CI.CLC.', 'CI.DTP.', 'CI.JRC2.', 'CI.LRL.', 'CI.MPM.',\n",
      "       'CI.SLA.', 'CI.SRT.', 'CI.TOW2.', 'CI.WBM.', 'CI.WCS2.', 'CI.WMF.',\n",
      "       'CI.WNM.', 'CI.WRC2.', 'CI.WRV2.', 'CI.WVP2.'], dtype='<U8'), array(['CI.CCC.', 'CI.DTP.', 'CI.JRC2.', 'CI.LRL.', 'CI.MPM.', 'CI.SLA.',\n",
      "       'CI.SRT.', 'CI.TOW2.', 'CI.WBM.', 'CI.WCS2.', 'CI.WMF.', 'CI.WNM.',\n",
      "       'CI.WRC2.', 'CI.WRV2.', 'CI.WVP2.', 'GS.CA01.20', 'GS.CA03.20',\n",
      "       'GS.CA05.20', 'GS.CA06.20', 'GS.CA07.00', 'GS.CA08.00',\n",
      "       'GS.CA09.00', 'GS.CA10.00'], dtype='<U10'), array(['CI.CCC.', 'CI.DTP.', 'CI.JRC2.', 'CI.LRL.', 'CI.MPM.', 'CI.SLA.',\n",
      "       'CI.SRT.', 'CI.TOW2.', 'CI.WBM.', 'CI.WCS2.', 'CI.WMF.', 'CI.WNM.',\n",
      "       'CI.WRC2.', 'CI.WRV2.', 'CI.WVP2.', 'GS.CA01.20', 'GS.CA02.20',\n",
      "       'GS.CA03.20', 'GS.CA04.20', 'GS.CA05.20', 'GS.CA06.20',\n",
      "       'GS.CA07.00', 'GS.CA08.00', 'NP.5419.10', 'ZY.SV01.', 'ZY.SV02.',\n",
      "       'ZY.SV03.', 'ZY.SV04.', 'ZY.SV05.', 'ZY.SV06.', 'ZY.SV07.',\n",
      "       'ZY.SV08.'], dtype='<U10'), array(['CI.CCC.', 'CI.CLC.', 'CI.DTP.', 'CI.JRC2.', 'CI.LRL.', 'CI.MPM.',\n",
      "       'CI.SLA.', 'CI.SRT.', 'CI.TOW2.', 'CI.WBM.', 'CI.WCS2.', 'CI.WMF.',\n",
      "       'CI.WNM.', 'CI.WRC2.', 'CI.WRV2.', 'CI.WVP2.'], dtype='<U8'), array(['CI.CCC.', 'CI.CLC.', 'CI.DTP.', 'CI.JRC2.', 'CI.LRL.', 'CI.MPM.',\n",
      "       'CI.SLA.', 'CI.SRT.', 'CI.TOW2.', 'CI.WBM.', 'CI.WCS2.', 'CI.WMF.',\n",
      "       'CI.WNM.', 'CI.WRC2.', 'CI.WRV2.', 'CI.WVP2.', 'GS.CA01.20',\n",
      "       'GS.CA03.20', 'GS.CA05.20', 'GS.CA06.20', 'GS.CA07.00',\n",
      "       'GS.CA08.00', 'GS.CA09.00', 'GS.CA10.00', 'ZY.SV01.', 'ZY.SV02.',\n",
      "       'ZY.SV03.', 'ZY.SV04.', 'ZY.SV05.', 'ZY.SV06.', 'ZY.SV07.',\n",
      "       'ZY.SV08.'], dtype='<U10'), array(['CI.CCC.', 'CI.DTP.', 'CI.JRC2.', 'CI.LRL.', 'CI.MPM.', 'CI.SLA.',\n",
      "       'CI.SRT.', 'CI.TOW2.', 'CI.WBM.', 'CI.WCS2.', 'CI.WMF.', 'CI.WNM.',\n",
      "       'CI.WRC2.', 'CI.WRV2.', 'CI.WVP2.', 'GS.CA01.20', 'GS.CA03.20',\n",
      "       'GS.CA05.20', 'GS.CA06.20', 'GS.CA07.00', 'GS.CA08.00',\n",
      "       'GS.CA09.00', 'GS.CA10.00', 'NP.5419.10'], dtype='<U10'), array(['CI.CCC.', 'CI.CLC.', 'CI.DTP.', 'CI.JRC2.', 'CI.LRL.', 'CI.MPM.',\n",
      "       'CI.SLA.', 'CI.SRT.', 'CI.TOW2.', 'CI.WBM.', 'CI.WCS2.', 'CI.WMF.',\n",
      "       'CI.WNM.', 'CI.WRC2.', 'CI.WRV2.', 'CI.WVP2.', 'GS.CA01.20',\n",
      "       'GS.CA03.20', 'GS.CA04.20', 'GS.CA05.20', 'GS.CA06.20',\n",
      "       'GS.CA07.00', 'GS.CA08.00', 'GS.CA09.00', 'GS.CA10.00',\n",
      "       'NP.5419.10'], dtype='<U10'), array(['CI.CCC.', 'CI.DTP.', 'CI.JRC2.', 'CI.LRL.', 'CI.MPM.', 'CI.SLA.',\n",
      "       'CI.SRT.', 'CI.TOW2.', 'CI.WBM.', 'CI.WCS2.', 'CI.WMF.', 'CI.WNM.',\n",
      "       'CI.WRC2.', 'CI.WRV2.', 'CI.WVP2.', 'GS.CA01.20', 'GS.CA03.20',\n",
      "       'GS.CA05.20', 'GS.CA06.20', 'GS.CA07.00', 'GS.CA08.00',\n",
      "       'GS.CA09.00', 'GS.CA10.00', 'NP.5419.10', 'ZY.SV01.', 'ZY.SV06.',\n",
      "       'ZY.SV08.'], dtype='<U10'), array(['CI.CCC.', 'CI.DTP.', 'CI.LRL.', 'CI.MPM.', 'CI.SLA.', 'CI.SRT.',\n",
      "       'CI.TOW2.', 'CI.WBM.', 'CI.WCS2.', 'CI.WMF.', 'CI.WNM.',\n",
      "       'CI.WRC2.', 'CI.WRV2.', 'CI.WVP2.', 'GS.CA01.20', 'GS.CA03.20',\n",
      "       'GS.CA05.20', 'GS.CA06.20', 'GS.CA07.00', 'GS.CA08.00',\n",
      "       'GS.CA09.00', 'GS.CA10.00', 'NP.5419.10'], dtype='<U10'), array(['CI.CCC.', 'CI.CLC.', 'CI.DTP.', 'CI.JRC2.', 'CI.LRL.', 'CI.MPM.',\n",
      "       'CI.SLA.', 'CI.SRT.', 'CI.TOW2.', 'CI.WBM.', 'CI.WCS2.', 'CI.WMF.',\n",
      "       'CI.WNM.', 'CI.WRC2.', 'CI.WRV2.', 'CI.WVP2.', 'GS.CA01.20',\n",
      "       'GS.CA02.20', 'GS.CA03.20', 'GS.CA04.20', 'GS.CA05.20',\n",
      "       'GS.CA06.20', 'GS.CA07.00', 'GS.CA08.00', 'GS.CA09.00',\n",
      "       'NP.5419.10', 'ZY.SV01.', 'ZY.SV05.', 'ZY.SV07.'], dtype='<U10'), array(['CI.CCC.', 'CI.CLC.', 'CI.DTP.', 'CI.JRC2.', 'CI.LRL.', 'CI.MPM.',\n",
      "       'CI.SLA.', 'CI.SRT.', 'CI.TOW2.', 'CI.WBM.', 'CI.WCS2.', 'CI.WMF.',\n",
      "       'CI.WNM.', 'CI.WRC2.', 'CI.WRV2.', 'CI.WVP2.', 'GS.CA01.20',\n",
      "       'GS.CA03.20', 'GS.CA04.20', 'GS.CA05.20', 'GS.CA06.20',\n",
      "       'GS.CA07.00', 'GS.CA08.00', 'GS.CA09.00', 'NP.5419.10', 'ZY.SV01.',\n",
      "       'ZY.SV06.', 'ZY.SV08.'], dtype='<U10'), array(['CI.CCC.', 'CI.CLC.', 'CI.DTP.', 'CI.JRC2.', 'CI.LRL.', 'CI.MPM.',\n",
      "       'CI.SLA.', 'CI.SRT.', 'CI.TOW2.', 'CI.WBM.', 'CI.WCS2.', 'CI.WMF.',\n",
      "       'CI.WNM.', 'CI.WRC2.', 'CI.WRV2.', 'CI.WVP2.', 'GS.CA01.20',\n",
      "       'GS.CA03.20', 'GS.CA05.20', 'GS.CA06.20', 'GS.CA07.00',\n",
      "       'GS.CA08.00', 'GS.CA09.00', 'GS.CA10.00', 'ZY.SV01.', 'ZY.SV02.',\n",
      "       'ZY.SV03.', 'ZY.SV04.', 'ZY.SV06.', 'ZY.SV08.'], dtype='<U10'), array(['CI.CCC.', 'CI.CLC.', 'CI.DTP.', 'CI.JRC2.', 'CI.LRL.', 'CI.MPM.',\n",
      "       'CI.SLA.', 'CI.SRT.', 'CI.TOW2.', 'CI.WBM.', 'CI.WCS2.', 'CI.WMF.',\n",
      "       'CI.WNM.', 'CI.WRC2.', 'CI.WRV2.', 'CI.WVP2.', 'GS.CA01.20',\n",
      "       'GS.CA03.20', 'GS.CA04.20', 'GS.CA05.20', 'GS.CA06.20',\n",
      "       'GS.CA07.00', 'GS.CA08.00', 'GS.CA09.00', 'GS.CA10.00'],\n",
      "      dtype='<U10'), array(['CI.CCC.', 'CI.CLC.', 'CI.DTP.', 'CI.JRC2.', 'CI.LRL.', 'CI.MPM.',\n",
      "       'CI.SLA.', 'CI.SRT.', 'CI.TOW2.', 'CI.WBM.', 'CI.WCS2.', 'CI.WMF.',\n",
      "       'CI.WNM.', 'CI.WRC2.', 'CI.WRV2.', 'CI.WVP2.', 'GS.CA01.20',\n",
      "       'GS.CA03.20', 'GS.CA05.20', 'GS.CA06.20', 'GS.CA07.00',\n",
      "       'GS.CA08.00', 'GS.CA09.00', 'GS.CA10.00', 'ZY.SV01.', 'ZY.SV02.',\n",
      "       'ZY.SV03.', 'ZY.SV04.', 'ZY.SV05.', 'ZY.SV06.', 'ZY.SV07.'],\n",
      "      dtype='<U10'), array(['CI.CCC.', 'CI.CLC.', 'CI.DTP.', 'CI.JRC2.', 'CI.LRL.', 'CI.MPM.',\n",
      "       'CI.SLA.', 'CI.SRT.', 'CI.TOW2.', 'CI.WBM.', 'CI.WCS2.', 'CI.WMF.',\n",
      "       'CI.WNM.', 'CI.WRC2.', 'CI.WRV2.', 'CI.WVP2.'], dtype='<U8'), array(['CI.CCC.', 'CI.CLC.', 'CI.DTP.', 'CI.JRC2.', 'CI.LRL.', 'CI.MPM.',\n",
      "       'CI.SLA.', 'CI.SRT.', 'CI.TOW2.', 'CI.WBM.', 'CI.WCS2.', 'CI.WMF.',\n",
      "       'CI.WNM.', 'CI.WRC2.', 'CI.WRV2.', 'CI.WVP2.', 'GS.CA01.20',\n",
      "       'GS.CA03.20', 'GS.CA05.20', 'GS.CA06.20', 'GS.CA07.00',\n",
      "       'GS.CA08.00', 'GS.CA09.00', 'GS.CA10.00'], dtype='<U10'), array(['CI.CCC.', 'CI.DTP.', 'CI.LRL.', 'CI.MPM.', 'CI.SLA.', 'CI.SRT.',\n",
      "       'CI.TOW2.', 'CI.WBM.', 'CI.WCS2.', 'CI.WMF.', 'CI.WNM.',\n",
      "       'CI.WRC2.', 'CI.WRV2.', 'CI.WVP2.', 'GS.CA01.20', 'GS.CA03.20',\n",
      "       'GS.CA04.20', 'GS.CA05.20', 'GS.CA06.20', 'GS.CA07.00',\n",
      "       'GS.CA08.00', 'GS.CA09.00', 'GS.CA10.00', 'NP.5419.10'],\n",
      "      dtype='<U10'), array(['CI.CCC.', 'CI.CLC.', 'CI.DTP.', 'CI.JRC2.', 'CI.LRL.', 'CI.MPM.',\n",
      "       'CI.SLA.', 'CI.SRT.', 'CI.TOW2.', 'CI.WBM.', 'CI.WCS2.', 'CI.WMF.',\n",
      "       'CI.WNM.', 'CI.WRC2.', 'CI.WRV2.', 'CI.WVP2.'], dtype='<U8'), array(['CI.CCC.', 'CI.CLC.', 'CI.DTP.', 'CI.JRC2.', 'CI.LRL.', 'CI.MPM.',\n",
      "       'CI.SLA.', 'CI.SRT.', 'CI.TOW2.', 'CI.WBM.', 'CI.WCS2.', 'CI.WMF.',\n",
      "       'CI.WNM.', 'CI.WRC2.', 'CI.WRV2.', 'CI.WVP2.', 'GS.CA01.20',\n",
      "       'GS.CA02.20', 'GS.CA03.20', 'GS.CA04.20', 'GS.CA05.20',\n",
      "       'GS.CA06.20', 'GS.CA07.00', 'GS.CA08.00', 'GS.CA09.00',\n",
      "       'NP.5419.10', 'ZY.SV02.', 'ZY.SV03.', 'ZY.SV04.', 'ZY.SV05.',\n",
      "       'ZY.SV07.'], dtype='<U10'), array(['CI.CCC.', 'CI.CLC.', 'CI.DTP.', 'CI.JRC2.', 'CI.LRL.', 'CI.MPM.',\n",
      "       'CI.SLA.', 'CI.SRT.', 'CI.TOW2.', 'CI.WBM.', 'CI.WCS2.', 'CI.WMF.',\n",
      "       'CI.WNM.', 'CI.WRC2.', 'CI.WRV2.', 'CI.WVP2.', 'GS.CA01.20',\n",
      "       'GS.CA03.20', 'GS.CA04.20', 'GS.CA05.20', 'GS.CA06.20',\n",
      "       'GS.CA07.00', 'GS.CA08.00', 'GS.CA09.00', 'GS.CA10.00', 'ZY.SV01.',\n",
      "       'ZY.SV02.', 'ZY.SV03.', 'ZY.SV04.', 'ZY.SV06.', 'ZY.SV08.'],\n",
      "      dtype='<U10'), array(['CI.CCC.', 'CI.CLC.', 'CI.DTP.', 'CI.JRC2.', 'CI.LRL.', 'CI.MPM.',\n",
      "       'CI.SLA.', 'CI.SRT.', 'CI.TOW2.', 'CI.WBM.', 'CI.WCS2.', 'CI.WMF.',\n",
      "       'CI.WNM.', 'CI.WRC2.', 'CI.WRV2.', 'CI.WVP2.', 'GS.CA01.20',\n",
      "       'GS.CA03.20', 'GS.CA04.20', 'GS.CA05.20', 'GS.CA06.20',\n",
      "       'GS.CA07.00', 'GS.CA08.00', 'GS.CA09.00', 'GS.CA10.00', 'ZY.SV01.',\n",
      "       'ZY.SV03.', 'ZY.SV04.', 'ZY.SV05.', 'ZY.SV06.', 'ZY.SV08.'],\n",
      "      dtype='<U10'), array(['CI.CCC.', 'CI.CLC.', 'CI.DTP.', 'CI.JRC2.', 'CI.LRL.', 'CI.MPM.',\n",
      "       'CI.SLA.', 'CI.SRT.', 'CI.TOW2.', 'CI.WBM.', 'CI.WCS2.', 'CI.WMF.',\n",
      "       'CI.WNM.', 'CI.WRC2.', 'CI.WRV2.', 'CI.WVP2.'], dtype='<U8'), array(['CI.CCC.', 'CI.DTP.', 'CI.JRC2.', 'CI.LRL.', 'CI.MPM.', 'CI.SLA.',\n",
      "       'CI.SRT.', 'CI.TOW2.', 'CI.WBM.', 'CI.WCS2.', 'CI.WMF.', 'CI.WNM.',\n",
      "       'CI.WRC2.', 'CI.WRV2.', 'CI.WVP2.', 'GS.CA01.20', 'GS.CA03.20',\n",
      "       'GS.CA04.20', 'GS.CA05.20', 'GS.CA06.20', 'GS.CA07.00',\n",
      "       'GS.CA08.00', 'GS.CA09.00', 'GS.CA10.00', 'NP.5419.10'],\n",
      "      dtype='<U10'), array(['CI.CCC.', 'CI.CLC.', 'CI.DTP.', 'CI.JRC2.', 'CI.LRL.', 'CI.MPM.',\n",
      "       'CI.SLA.', 'CI.SRT.', 'CI.TOW2.', 'CI.WBM.', 'CI.WCS2.', 'CI.WMF.',\n",
      "       'CI.WNM.', 'CI.WRC2.', 'CI.WRV2.', 'CI.WVP2.', 'GS.CA01.20',\n",
      "       'GS.CA02.20', 'GS.CA03.20', 'GS.CA04.20', 'GS.CA05.20',\n",
      "       'GS.CA06.20', 'GS.CA07.00', 'GS.CA08.00', 'GS.CA09.00',\n",
      "       'NP.5419.10', 'ZY.SV01.', 'ZY.SV02.', 'ZY.SV03.', 'ZY.SV04.',\n",
      "       'ZY.SV05.', 'ZY.SV06.', 'ZY.SV07.', 'ZY.SV08.'], dtype='<U10'), array(['CI.CCC.', 'CI.CLC.', 'CI.DTP.', 'CI.JRC2.', 'CI.LRL.', 'CI.MPM.',\n",
      "       'CI.SLA.', 'CI.SRT.', 'CI.TOW2.', 'CI.WBM.', 'CI.WCS2.', 'CI.WMF.',\n",
      "       'CI.WNM.', 'CI.WRC2.', 'CI.WRV2.', 'CI.WVP2.', 'GS.CA01.20',\n",
      "       'GS.CA03.20', 'GS.CA04.20', 'GS.CA05.20', 'GS.CA06.20',\n",
      "       'GS.CA07.00', 'GS.CA08.00', 'GS.CA09.00', 'GS.CA10.00', 'ZY.SV01.',\n",
      "       'ZY.SV02.', 'ZY.SV03.', 'ZY.SV04.', 'ZY.SV06.', 'ZY.SV08.'],\n",
      "      dtype='<U10'), array(['CI.CCC.', 'CI.CLC.', 'CI.DTP.', 'CI.JRC2.', 'CI.LRL.', 'CI.MPM.',\n",
      "       'CI.SLA.', 'CI.SRT.', 'CI.TOW2.', 'CI.WBM.', 'CI.WCS2.', 'CI.WMF.',\n",
      "       'CI.WNM.', 'CI.WRC2.', 'CI.WRV2.', 'CI.WVP2.', 'GS.CA01.20',\n",
      "       'GS.CA03.20', 'GS.CA04.20', 'GS.CA05.20', 'GS.CA06.20',\n",
      "       'GS.CA07.00', 'GS.CA08.00', 'GS.CA09.00', 'GS.CA10.00', 'ZY.SV01.',\n",
      "       'ZY.SV03.', 'ZY.SV06.', 'ZY.SV08.'], dtype='<U10'), array(['CI.CCC.', 'CI.CLC.', 'CI.DTP.', 'CI.JRC2.', 'CI.LRL.', 'CI.MPM.',\n",
      "       'CI.SLA.', 'CI.SRT.', 'CI.TOW2.', 'CI.WBM.', 'CI.WCS2.', 'CI.WMF.',\n",
      "       'CI.WNM.', 'CI.WRC2.', 'CI.WRV2.', 'CI.WVP2.', 'GS.CA01.20',\n",
      "       'GS.CA02.20', 'GS.CA03.20', 'GS.CA04.20', 'GS.CA05.20',\n",
      "       'GS.CA06.20', 'GS.CA07.00', 'GS.CA08.00', 'GS.CA09.00',\n",
      "       'NP.5419.10', 'ZY.SV01.', 'ZY.SV02.', 'ZY.SV03.', 'ZY.SV04.',\n",
      "       'ZY.SV05.', 'ZY.SV06.', 'ZY.SV07.', 'ZY.SV08.'], dtype='<U10'), array(['CI.CCC.', 'CI.DTP.', 'CI.JRC2.', 'CI.LRL.', 'CI.MPM.', 'CI.SLA.',\n",
      "       'CI.SRT.', 'CI.TOW2.', 'CI.WBM.', 'CI.WCS2.', 'CI.WMF.', 'CI.WNM.',\n",
      "       'CI.WRC2.', 'CI.WRV2.', 'CI.WVP2.', 'GS.CA01.20', 'GS.CA03.20',\n",
      "       'GS.CA05.20', 'GS.CA06.20', 'GS.CA07.00', 'GS.CA08.00',\n",
      "       'GS.CA09.00', 'GS.CA10.00', 'NP.5419.10'], dtype='<U10'), array(['CI.CCC.', 'CI.CLC.', 'CI.DTP.', 'CI.JRC2.', 'CI.LRL.', 'CI.MPM.',\n",
      "       'CI.SLA.', 'CI.SRT.', 'CI.TOW2.', 'CI.WBM.', 'CI.WCS2.', 'CI.WMF.',\n",
      "       'CI.WNM.', 'CI.WRC2.', 'CI.WRV2.', 'CI.WVP2.', 'GS.CA01.20',\n",
      "       'GS.CA03.20', 'GS.CA04.20', 'GS.CA05.20', 'GS.CA06.20',\n",
      "       'GS.CA07.00', 'GS.CA08.00', 'GS.CA09.00', 'GS.CA10.00', 'ZY.SV01.',\n",
      "       'ZY.SV02.', 'ZY.SV03.', 'ZY.SV04.', 'ZY.SV05.', 'ZY.SV06.',\n",
      "       'ZY.SV08.'], dtype='<U10'), array(['CI.CCC.', 'CI.CLC.', 'CI.DTP.', 'CI.JRC2.', 'CI.LRL.', 'CI.MPM.',\n",
      "       'CI.SLA.', 'CI.SRT.', 'CI.TOW2.', 'CI.WBM.', 'CI.WCS2.', 'CI.WMF.',\n",
      "       'CI.WNM.', 'CI.WRC2.', 'CI.WRV2.', 'CI.WVP2.', 'GS.CA01.20',\n",
      "       'GS.CA02.20', 'GS.CA03.20', 'GS.CA04.20', 'GS.CA05.20',\n",
      "       'GS.CA06.20', 'GS.CA07.00', 'GS.CA08.00', 'GS.CA09.00',\n",
      "       'NP.5419.10', 'ZY.SV01.', 'ZY.SV02.', 'ZY.SV03.', 'ZY.SV04.',\n",
      "       'ZY.SV05.', 'ZY.SV06.', 'ZY.SV07.', 'ZY.SV08.'], dtype='<U10'), array(['CI.CCC.', 'CI.CLC.', 'CI.DTP.', 'CI.JRC2.', 'CI.LRL.', 'CI.MPM.',\n",
      "       'CI.SLA.', 'CI.SRT.', 'CI.TOW2.', 'CI.WBM.', 'CI.WCS2.', 'CI.WMF.',\n",
      "       'CI.WNM.', 'CI.WRC2.', 'CI.WRV2.', 'CI.WVP2.'], dtype='<U8'), array(['CI.CCC.', 'CI.CLC.', 'CI.DTP.', 'CI.JRC2.', 'CI.LRL.', 'CI.MPM.',\n",
      "       'CI.SLA.', 'CI.SRT.', 'CI.TOW2.', 'CI.WBM.', 'CI.WCS2.', 'CI.WMF.',\n",
      "       'CI.WNM.', 'CI.WRC2.', 'CI.WRV2.', 'CI.WVP2.', 'GS.CA01.20',\n",
      "       'GS.CA03.20', 'GS.CA04.20', 'GS.CA05.20', 'GS.CA06.20',\n",
      "       'GS.CA07.00', 'GS.CA08.00', 'GS.CA09.00', 'GS.CA10.00', 'ZY.SV01.',\n",
      "       'ZY.SV02.', 'ZY.SV03.', 'ZY.SV04.', 'ZY.SV06.', 'ZY.SV08.'],\n",
      "      dtype='<U10'), array(['CI.CCC.', 'CI.CLC.', 'CI.DTP.', 'CI.JRC2.', 'CI.LRL.', 'CI.MPM.',\n",
      "       'CI.SLA.', 'CI.SRT.', 'CI.TOW2.', 'CI.WBM.', 'CI.WCS2.', 'CI.WMF.',\n",
      "       'CI.WNM.', 'CI.WRC2.', 'CI.WRV2.', 'CI.WVP2.'], dtype='<U8'), array(['CI.CCC.', 'CI.CLC.', 'CI.DTP.', 'CI.JRC2.', 'CI.LRL.', 'CI.MPM.',\n",
      "       'CI.SLA.', 'CI.SRT.', 'CI.TOW2.', 'CI.WBM.', 'CI.WCS2.', 'CI.WMF.',\n",
      "       'CI.WNM.', 'CI.WRC2.', 'CI.WRV2.', 'CI.WVP2.', 'GS.CA01.20',\n",
      "       'GS.CA03.20', 'GS.CA04.20', 'GS.CA05.20', 'GS.CA06.20',\n",
      "       'GS.CA07.00', 'GS.CA08.00', 'GS.CA09.00', 'GS.CA10.00', 'ZY.SV01.',\n",
      "       'ZY.SV02.', 'ZY.SV03.', 'ZY.SV04.', 'ZY.SV06.', 'ZY.SV08.'],\n",
      "      dtype='<U10'), array(['CI.CCC.', 'CI.CLC.', 'CI.DTP.', 'CI.JRC2.', 'CI.LRL.', 'CI.MPM.',\n",
      "       'CI.SLA.', 'CI.SRT.', 'CI.TOW2.', 'CI.WBM.', 'CI.WCS2.', 'CI.WMF.',\n",
      "       'CI.WNM.', 'CI.WRC2.', 'CI.WRV2.', 'CI.WVP2.', 'GS.CA01.20',\n",
      "       'GS.CA03.20', 'GS.CA04.20', 'GS.CA05.20', 'GS.CA06.20',\n",
      "       'GS.CA07.00', 'GS.CA08.00', 'GS.CA09.00', 'GS.CA10.00', 'ZY.SV01.',\n",
      "       'ZY.SV02.', 'ZY.SV03.', 'ZY.SV04.', 'ZY.SV06.', 'ZY.SV08.'],\n",
      "      dtype='<U10'), array(['CI.CCC.', 'CI.CLC.', 'CI.DTP.', 'CI.JRC2.', 'CI.LRL.', 'CI.MPM.',\n",
      "       'CI.SLA.', 'CI.SRT.', 'CI.TOW2.', 'CI.WBM.', 'CI.WCS2.', 'CI.WMF.',\n",
      "       'CI.WNM.', 'CI.WRC2.', 'CI.WRV2.', 'CI.WVP2.', 'GS.CA01.20',\n",
      "       'GS.CA03.20', 'GS.CA04.20', 'GS.CA05.20', 'GS.CA06.20',\n",
      "       'GS.CA07.00', 'GS.CA08.00', 'GS.CA09.00', 'GS.CA10.00', 'ZY.SV01.',\n",
      "       'ZY.SV02.', 'ZY.SV03.', 'ZY.SV04.', 'ZY.SV05.', 'ZY.SV06.',\n",
      "       'ZY.SV07.', 'ZY.SV08.'], dtype='<U10'), array(['CI.CCC.', 'CI.CLC.', 'CI.DTP.', 'CI.JRC2.', 'CI.LRL.', 'CI.MPM.',\n",
      "       'CI.SLA.', 'CI.SRT.', 'CI.TOW2.', 'CI.WBM.', 'CI.WCS2.', 'CI.WMF.',\n",
      "       'CI.WNM.', 'CI.WRC2.', 'CI.WRV2.', 'CI.WVP2.', 'GS.CA01.20',\n",
      "       'GS.CA02.20', 'GS.CA03.20', 'NP.5419.10', 'ZY.SV03.', 'ZY.SV05.',\n",
      "       'ZY.SV07.'], dtype='<U10'), array(['CI.CCC.', 'CI.CLC.', 'CI.DTP.', 'CI.JRC2.', 'CI.LRL.', 'CI.MPM.',\n",
      "       'CI.SLA.', 'CI.SRT.', 'CI.TOW2.', 'CI.WBM.', 'CI.WCS2.', 'CI.WMF.',\n",
      "       'CI.WNM.', 'CI.WRC2.', 'CI.WRV2.', 'CI.WVP2.', 'GS.CA01.20',\n",
      "       'GS.CA03.20', 'GS.CA04.20', 'GS.CA05.20', 'GS.CA06.20',\n",
      "       'GS.CA07.00', 'GS.CA08.00', 'GS.CA09.00', 'GS.CA10.00', 'ZY.SV01.',\n",
      "       'ZY.SV02.', 'ZY.SV03.', 'ZY.SV04.', 'ZY.SV06.', 'ZY.SV07.',\n",
      "       'ZY.SV08.'], dtype='<U10'), array(['CI.CCC.', 'CI.CLC.', 'CI.DTP.', 'CI.JRC2.', 'CI.LRL.', 'CI.MPM.',\n",
      "       'CI.SLA.', 'CI.SRT.', 'CI.TOW2.', 'CI.WBM.', 'CI.WCS2.', 'CI.WMF.',\n",
      "       'CI.WNM.', 'CI.WRC2.', 'CI.WRV2.', 'CI.WVP2.', 'GS.CA01.20',\n",
      "       'GS.CA02.20', 'GS.CA03.20', 'GS.CA04.20', 'GS.CA05.20',\n",
      "       'GS.CA06.20', 'GS.CA07.00', 'GS.CA08.00', 'GS.CA09.00',\n",
      "       'NP.5419.10', 'ZY.SV01.', 'ZY.SV02.', 'ZY.SV03.', 'ZY.SV04.',\n",
      "       'ZY.SV05.', 'ZY.SV06.', 'ZY.SV07.', 'ZY.SV08.'], dtype='<U10'), array(['CI.CCC.', 'CI.CLC.', 'CI.DTP.', 'CI.JRC2.', 'CI.LRL.', 'CI.MPM.',\n",
      "       'CI.SLA.', 'CI.SRT.', 'CI.TOW2.', 'CI.WBM.', 'CI.WCS2.', 'CI.WMF.',\n",
      "       'CI.WNM.', 'CI.WRC2.', 'CI.WRV2.', 'CI.WVP2.', 'GS.CA01.20',\n",
      "       'GS.CA02.20', 'GS.CA03.20', 'GS.CA04.20', 'GS.CA05.20',\n",
      "       'GS.CA06.20', 'GS.CA07.00', 'GS.CA08.00', 'GS.CA09.00',\n",
      "       'NP.5419.10', 'ZY.SV01.', 'ZY.SV02.', 'ZY.SV03.', 'ZY.SV04.',\n",
      "       'ZY.SV05.', 'ZY.SV06.', 'ZY.SV07.', 'ZY.SV08.'], dtype='<U10'), array(['CI.CCC.', 'CI.CLC.', 'CI.DTP.', 'CI.JRC2.', 'CI.LRL.', 'CI.MPM.',\n",
      "       'CI.SLA.', 'CI.SRT.', 'CI.TOW2.', 'CI.WBM.', 'CI.WCS2.', 'CI.WMF.',\n",
      "       'CI.WNM.', 'CI.WRC2.', 'CI.WRV2.', 'CI.WVP2.', 'GS.CA01.20',\n",
      "       'GS.CA03.20', 'GS.CA05.20', 'GS.CA06.20', 'GS.CA07.00',\n",
      "       'GS.CA08.00', 'GS.CA09.00', 'GS.CA10.00', 'ZY.SV01.', 'ZY.SV06.',\n",
      "       'ZY.SV08.'], dtype='<U10'), array(['CI.CCC.', 'CI.CLC.', 'CI.DTP.', 'CI.JRC2.', 'CI.LRL.', 'CI.MPM.',\n",
      "       'CI.SLA.', 'CI.SRT.', 'CI.TOW2.', 'CI.WBM.', 'CI.WCS2.', 'CI.WMF.',\n",
      "       'CI.WNM.', 'CI.WRC2.', 'CI.WRV2.', 'CI.WVP2.'], dtype='<U8'), array(['CI.CCC.', 'CI.CLC.', 'CI.DTP.', 'CI.JRC2.', 'CI.LRL.', 'CI.MPM.',\n",
      "       'CI.SLA.', 'CI.SRT.', 'CI.TOW2.', 'CI.WBM.', 'CI.WCS2.', 'CI.WMF.',\n",
      "       'CI.WNM.', 'CI.WRC2.', 'CI.WRV2.', 'CI.WVP2.', 'GS.CA01.20',\n",
      "       'GS.CA02.20', 'GS.CA03.20', 'GS.CA04.20', 'GS.CA05.20',\n",
      "       'GS.CA06.20', 'GS.CA07.00', 'GS.CA08.00', 'GS.CA09.00',\n",
      "       'NP.5419.10', 'ZY.SV01.', 'ZY.SV06.', 'ZY.SV08.'], dtype='<U10'), array(['CI.CCC.', 'CI.CLC.', 'CI.DTP.', 'CI.JRC2.', 'CI.LRL.', 'CI.MPM.',\n",
      "       'CI.SLA.', 'CI.SRT.', 'CI.TOW2.', 'CI.WBM.', 'CI.WCS2.', 'CI.WMF.',\n",
      "       'CI.WNM.', 'CI.WRC2.', 'CI.WRV2.', 'CI.WVP2.'], dtype='<U8'), array(['CI.CCC.', 'CI.CLC.', 'CI.DTP.', 'CI.JRC2.', 'CI.LRL.', 'CI.MPM.',\n",
      "       'CI.SLA.', 'CI.SRT.', 'CI.TOW2.', 'CI.WBM.', 'CI.WCS2.', 'CI.WMF.',\n",
      "       'CI.WNM.', 'CI.WRC2.', 'CI.WRV2.', 'CI.WVP2.', 'GS.CA01.20',\n",
      "       'GS.CA03.20', 'GS.CA04.20', 'GS.CA05.20', 'GS.CA06.20',\n",
      "       'GS.CA07.00', 'GS.CA08.00', 'GS.CA09.00', 'GS.CA10.00', 'ZY.SV01.',\n",
      "       'ZY.SV02.', 'ZY.SV03.', 'ZY.SV04.', 'ZY.SV06.', 'ZY.SV08.'],\n",
      "      dtype='<U10'), array(['CI.CCC.', 'CI.CLC.', 'CI.DTP.', 'CI.JRC2.', 'CI.LRL.', 'CI.MPM.',\n",
      "       'CI.SLA.', 'CI.SRT.', 'CI.TOW2.', 'CI.WBM.', 'CI.WCS2.', 'CI.WMF.',\n",
      "       'CI.WNM.', 'CI.WRC2.', 'CI.WRV2.', 'CI.WVP2.', 'GS.CA02.20',\n",
      "       'ZY.SV03.', 'ZY.SV05.'], dtype='<U10'), array(['CI.CCC.', 'CI.CLC.', 'CI.DTP.', 'CI.JRC2.', 'CI.LRL.', 'CI.MPM.',\n",
      "       'CI.SLA.', 'CI.SRT.', 'CI.TOW2.', 'CI.WBM.', 'CI.WCS2.', 'CI.WMF.',\n",
      "       'CI.WNM.', 'CI.WRC2.', 'CI.WRV2.', 'CI.WVP2.', 'GS.CA01.20',\n",
      "       'GS.CA03.20', 'GS.CA05.20', 'GS.CA06.20', 'GS.CA07.00',\n",
      "       'GS.CA08.00', 'GS.CA09.00', 'GS.CA10.00', 'ZY.SV01.', 'ZY.SV02.',\n",
      "       'ZY.SV03.', 'ZY.SV04.', 'ZY.SV05.', 'ZY.SV06.', 'ZY.SV07.'],\n",
      "      dtype='<U10'), array(['CI.CCC.', 'CI.DTP.', 'CI.JRC2.', 'CI.LRL.', 'CI.MPM.', 'CI.SLA.',\n",
      "       'CI.SRT.', 'CI.TOW2.', 'CI.WBM.', 'CI.WCS2.', 'CI.WMF.', 'CI.WNM.',\n",
      "       'CI.WRC2.', 'CI.WRV2.', 'CI.WVP2.', 'GS.CA01.20', 'GS.CA03.20',\n",
      "       'GS.CA04.20', 'GS.CA05.20', 'GS.CA06.20', 'GS.CA07.00',\n",
      "       'GS.CA08.00', 'GS.CA09.00', 'GS.CA10.00', 'NP.5419.10', 'ZY.SV01.',\n",
      "       'ZY.SV06.', 'ZY.SV08.'], dtype='<U10'), array(['CI.CCC.', 'CI.CLC.', 'CI.DTP.', 'CI.JRC2.', 'CI.LRL.', 'CI.MPM.',\n",
      "       'CI.SLA.', 'CI.SRT.', 'CI.TOW2.', 'CI.WBM.', 'CI.WCS2.', 'CI.WMF.',\n",
      "       'CI.WNM.', 'CI.WRC2.', 'CI.WRV2.', 'CI.WVP2.', 'GS.CA01.20',\n",
      "       'GS.CA03.20', 'GS.CA04.20', 'GS.CA05.20', 'GS.CA06.20',\n",
      "       'GS.CA07.00', 'GS.CA08.00', 'GS.CA09.00', 'NP.5419.10', 'ZY.SV01.',\n",
      "       'ZY.SV06.', 'ZY.SV08.'], dtype='<U10'), array(['CI.CCC.', 'CI.CLC.', 'CI.DTP.', 'CI.JRC2.', 'CI.LRL.', 'CI.MPM.',\n",
      "       'CI.SLA.', 'CI.SRT.', 'CI.TOW2.', 'CI.WBM.', 'CI.WCS2.', 'CI.WMF.',\n",
      "       'CI.WNM.', 'CI.WRC2.', 'CI.WRV2.', 'CI.WVP2.'], dtype='<U8'), array(['CI.CCC.', 'CI.CLC.', 'CI.DTP.', 'CI.JRC2.', 'CI.LRL.', 'CI.MPM.',\n",
      "       'CI.SLA.', 'CI.SRT.', 'CI.TOW2.', 'CI.WBM.', 'CI.WCS2.', 'CI.WMF.',\n",
      "       'CI.WNM.', 'CI.WRC2.', 'CI.WRV2.', 'CI.WVP2.', 'GS.CA01.20',\n",
      "       'GS.CA03.20', 'GS.CA05.20', 'GS.CA06.20', 'GS.CA07.00',\n",
      "       'GS.CA08.00', 'GS.CA09.00', 'GS.CA10.00', 'ZY.SV01.', 'ZY.SV02.',\n",
      "       'ZY.SV03.', 'ZY.SV04.', 'ZY.SV05.', 'ZY.SV06.', 'ZY.SV08.'],\n",
      "      dtype='<U10'), array(['CI.CCC.', 'CI.CLC.', 'CI.DTP.', 'CI.JRC2.', 'CI.LRL.', 'CI.MPM.',\n",
      "       'CI.SLA.', 'CI.SRT.', 'CI.TOW2.', 'CI.WBM.', 'CI.WCS2.', 'CI.WMF.',\n",
      "       'CI.WNM.', 'CI.WRC2.', 'CI.WRV2.', 'CI.WVP2.', 'GS.CA01.20',\n",
      "       'GS.CA03.20', 'GS.CA05.20', 'GS.CA06.20', 'GS.CA07.00',\n",
      "       'GS.CA08.00', 'GS.CA09.00', 'GS.CA10.00', 'ZY.SV01.', 'ZY.SV02.',\n",
      "       'ZY.SV03.', 'ZY.SV04.', 'ZY.SV05.', 'ZY.SV06.', 'ZY.SV07.',\n",
      "       'ZY.SV08.'], dtype='<U10'), array(['CI.CCC.', 'CI.DTP.', 'CI.JRC2.', 'CI.LRL.', 'CI.MPM.', 'CI.SLA.',\n",
      "       'CI.SRT.', 'CI.TOW2.', 'CI.WBM.', 'CI.WCS2.', 'CI.WMF.', 'CI.WNM.',\n",
      "       'CI.WRC2.', 'CI.WRV2.', 'CI.WVP2.', 'GS.CA01.20', 'GS.CA03.20',\n",
      "       'GS.CA05.20', 'GS.CA06.20', 'GS.CA07.00', 'GS.CA08.00',\n",
      "       'GS.CA09.00', 'GS.CA10.00', 'NP.5419.10', 'ZY.SV01.', 'ZY.SV06.',\n",
      "       'ZY.SV08.'], dtype='<U10'), array(['CI.CCC.', 'CI.CLC.', 'CI.DTP.', 'CI.JRC2.', 'CI.LRL.', 'CI.MPM.',\n",
      "       'CI.SLA.', 'CI.SRT.', 'CI.TOW2.', 'CI.WBM.', 'CI.WCS2.', 'CI.WMF.',\n",
      "       'CI.WNM.', 'CI.WRC2.', 'CI.WRV2.', 'CI.WVP2.'], dtype='<U8'), array(['CI.CCC.', 'CI.CLC.', 'CI.DTP.', 'CI.JRC2.', 'CI.LRL.', 'CI.MPM.',\n",
      "       'CI.SLA.', 'CI.SRT.', 'CI.TOW2.', 'CI.WBM.', 'CI.WCS2.', 'CI.WMF.',\n",
      "       'CI.WNM.', 'CI.WRC2.', 'CI.WRV2.', 'CI.WVP2.'], dtype='<U8'), array(['CI.CCC.', 'CI.DTP.', 'CI.JRC2.', 'CI.LRL.', 'CI.MPM.', 'CI.SLA.',\n",
      "       'CI.SRT.', 'CI.TOW2.', 'CI.WBM.', 'CI.WCS2.', 'CI.WMF.', 'CI.WNM.',\n",
      "       'CI.WRC2.', 'CI.WRV2.', 'CI.WVP2.', 'GS.CA01.20', 'GS.CA02.20',\n",
      "       'GS.CA03.20', 'GS.CA04.20', 'GS.CA05.20', 'GS.CA06.20',\n",
      "       'NP.5419.10', 'ZY.SV01.', 'ZY.SV03.', 'ZY.SV05.', 'ZY.SV06.',\n",
      "       'ZY.SV07.', 'ZY.SV08.'], dtype='<U10'), array(['CI.CCC.', 'CI.CLC.', 'CI.DTP.', 'CI.JRC2.', 'CI.LRL.', 'CI.MPM.',\n",
      "       'CI.SLA.', 'CI.SRT.', 'CI.TOW2.', 'CI.WBM.', 'CI.WCS2.', 'CI.WMF.',\n",
      "       'CI.WNM.', 'CI.WRC2.', 'CI.WRV2.', 'CI.WVP2.'], dtype='<U8'), array(['CI.CCC.', 'CI.CLC.', 'CI.DTP.', 'CI.JRC2.', 'CI.LRL.', 'CI.MPM.',\n",
      "       'CI.SLA.', 'CI.SRT.', 'CI.TOW2.', 'CI.WBM.', 'CI.WCS2.', 'CI.WMF.',\n",
      "       'CI.WNM.', 'CI.WRC2.', 'CI.WRV2.', 'CI.WVP2.'], dtype='<U8'), array(['CI.CCC.', 'CI.CLC.', 'CI.DTP.', 'CI.JRC2.', 'CI.LRL.', 'CI.MPM.',\n",
      "       'CI.SLA.', 'CI.SRT.', 'CI.TOW2.', 'CI.WBM.', 'CI.WCS2.', 'CI.WMF.',\n",
      "       'CI.WNM.', 'CI.WRC2.', 'CI.WRV2.', 'CI.WVP2.'], dtype='<U8'), array(['CI.CCC.', 'CI.DTP.', 'CI.JRC2.', 'CI.LRL.', 'CI.MPM.', 'CI.SLA.',\n",
      "       'CI.SRT.', 'CI.TOW2.', 'CI.WBM.', 'CI.WCS2.', 'CI.WMF.', 'CI.WNM.',\n",
      "       'CI.WRC2.', 'CI.WRV2.', 'CI.WVP2.', 'GS.CA01.20', 'GS.CA03.20',\n",
      "       'GS.CA04.20', 'GS.CA05.20', 'GS.CA06.20', 'GS.CA07.00',\n",
      "       'GS.CA08.00', 'GS.CA09.00', 'GS.CA10.00', 'ZY.SV01.', 'ZY.SV06.',\n",
      "       'ZY.SV08.'], dtype='<U10'), array(['CI.CCC.', 'CI.CLC.', 'CI.DTP.', 'CI.JRC2.', 'CI.LRL.', 'CI.MPM.',\n",
      "       'CI.SLA.', 'CI.SRT.', 'CI.TOW2.', 'CI.WBM.', 'CI.WCS2.', 'CI.WMF.',\n",
      "       'CI.WNM.', 'CI.WRC2.', 'CI.WRV2.', 'CI.WVP2.'], dtype='<U8'), array(['CI.CCC.', 'CI.CLC.', 'CI.DTP.', 'CI.JRC2.', 'CI.LRL.', 'CI.MPM.',\n",
      "       'CI.SLA.', 'CI.SRT.', 'CI.TOW2.', 'CI.WBM.', 'CI.WCS2.', 'CI.WMF.',\n",
      "       'CI.WNM.', 'CI.WRC2.', 'CI.WRV2.', 'CI.WVP2.', 'GS.CA01.20',\n",
      "       'GS.CA03.20', 'GS.CA04.20', 'GS.CA05.20', 'GS.CA06.20',\n",
      "       'GS.CA07.00', 'GS.CA08.00', 'GS.CA09.00', 'GS.CA10.00',\n",
      "       'NP.5419.10'], dtype='<U10'), array(['CI.CCC.', 'CI.CLC.', 'CI.DTP.', 'CI.JRC2.', 'CI.LRL.', 'CI.MPM.',\n",
      "       'CI.SLA.', 'CI.SRT.', 'CI.TOW2.', 'CI.WBM.', 'CI.WCS2.', 'CI.WMF.',\n",
      "       'CI.WNM.', 'CI.WRC2.', 'CI.WRV2.', 'CI.WVP2.'], dtype='<U8'), array(['CI.CCC.', 'CI.CLC.', 'CI.DTP.', 'CI.JRC2.', 'CI.LRL.', 'CI.MPM.',\n",
      "       'CI.SLA.', 'CI.SRT.', 'CI.TOW2.', 'CI.WBM.', 'CI.WCS2.', 'CI.WMF.',\n",
      "       'CI.WNM.', 'CI.WRC2.', 'CI.WRV2.', 'CI.WVP2.', 'GS.CA01.20',\n",
      "       'GS.CA03.20', 'GS.CA04.20', 'GS.CA05.20', 'GS.CA06.20',\n",
      "       'GS.CA07.00', 'GS.CA08.00', 'GS.CA09.00', 'GS.CA10.00', 'ZY.SV01.',\n",
      "       'ZY.SV02.', 'ZY.SV03.', 'ZY.SV04.', 'ZY.SV06.', 'ZY.SV08.'],\n",
      "      dtype='<U10'), array(['CI.CCC.', 'CI.CLC.', 'CI.DTP.', 'CI.JRC2.', 'CI.LRL.', 'CI.MPM.',\n",
      "       'CI.SLA.', 'CI.SRT.', 'CI.TOW2.', 'CI.WBM.', 'CI.WCS2.', 'CI.WMF.',\n",
      "       'CI.WNM.', 'CI.WRC2.', 'CI.WRV2.', 'CI.WVP2.', 'GS.CA01.20',\n",
      "       'GS.CA03.20', 'GS.CA04.20', 'GS.CA05.20', 'GS.CA06.20',\n",
      "       'GS.CA07.00', 'GS.CA08.00', 'GS.CA09.00', 'GS.CA10.00', 'ZY.SV01.',\n",
      "       'ZY.SV06.', 'ZY.SV08.'], dtype='<U10'), array(['CI.CCC.', 'CI.CLC.', 'CI.DTP.', 'CI.JRC2.', 'CI.LRL.', 'CI.MPM.',\n",
      "       'CI.SLA.', 'CI.SRT.', 'CI.TOW2.', 'CI.WBM.', 'CI.WCS2.', 'CI.WMF.',\n",
      "       'CI.WNM.', 'CI.WRC2.', 'CI.WRV2.', 'CI.WVP2.', 'GS.CA01.20',\n",
      "       'GS.CA03.20', 'GS.CA04.20', 'GS.CA05.20', 'GS.CA06.20',\n",
      "       'GS.CA07.00', 'GS.CA08.00', 'GS.CA09.00', 'GS.CA10.00', 'ZY.SV01.',\n",
      "       'ZY.SV02.', 'ZY.SV03.', 'ZY.SV04.', 'ZY.SV06.', 'ZY.SV08.'],\n",
      "      dtype='<U10'), array(['CI.CCC.', 'CI.CLC.', 'CI.DTP.', 'CI.JRC2.', 'CI.LRL.', 'CI.MPM.',\n",
      "       'CI.SLA.', 'CI.SRT.', 'CI.TOW2.', 'CI.WBM.', 'CI.WCS2.', 'CI.WMF.',\n",
      "       'CI.WNM.', 'CI.WRC2.', 'CI.WRV2.', 'CI.WVP2.'], dtype='<U8'), array(['CI.CCC.', 'CI.CLC.', 'CI.DTP.', 'CI.JRC2.', 'CI.LRL.', 'CI.MPM.',\n",
      "       'CI.SLA.', 'CI.SRT.', 'CI.TOW2.', 'CI.WBM.', 'CI.WCS2.', 'CI.WMF.',\n",
      "       'CI.WNM.', 'CI.WRC2.', 'CI.WRV2.', 'CI.WVP2.', 'GS.CA01.20',\n",
      "       'GS.CA03.20', 'GS.CA06.20', 'GS.CA07.00', 'GS.CA08.00',\n",
      "       'GS.CA09.00', 'GS.CA10.00', 'ZY.SV01.'], dtype='<U10'), array(['CI.CCC.', 'CI.CLC.', 'CI.DTP.', 'CI.JRC2.', 'CI.LRL.', 'CI.MPM.',\n",
      "       'CI.SLA.', 'CI.SRT.', 'CI.TOW2.', 'CI.WBM.', 'CI.WCS2.', 'CI.WMF.',\n",
      "       'CI.WNM.', 'CI.WRC2.', 'CI.WRV2.', 'CI.WVP2.', 'GS.CA01.20',\n",
      "       'GS.CA03.20', 'GS.CA05.20', 'GS.CA06.20', 'GS.CA07.00',\n",
      "       'GS.CA08.00', 'GS.CA09.00', 'GS.CA10.00', 'ZY.SV01.', 'ZY.SV02.',\n",
      "       'ZY.SV03.', 'ZY.SV04.', 'ZY.SV05.', 'ZY.SV06.', 'ZY.SV07.',\n",
      "       'ZY.SV08.'], dtype='<U10'), array(['CI.CCC.', 'CI.DTP.', 'CI.JRC2.', 'CI.LRL.', 'CI.MPM.', 'CI.SLA.',\n",
      "       'CI.SRT.', 'CI.TOW2.', 'CI.WBM.', 'CI.WCS2.', 'CI.WMF.', 'CI.WNM.',\n",
      "       'CI.WRC2.', 'CI.WRV2.', 'CI.WVP2.', 'GS.CA01.20', 'GS.CA03.20',\n",
      "       'GS.CA04.20', 'GS.CA05.20', 'GS.CA06.20', 'GS.CA07.00',\n",
      "       'GS.CA08.00', 'GS.CA09.00', 'GS.CA10.00', 'NP.5419.10'],\n",
      "      dtype='<U10'), array(['CI.CCC.', 'CI.CLC.', 'CI.DTP.', 'CI.JRC2.', 'CI.LRL.', 'CI.MPM.',\n",
      "       'CI.SLA.', 'CI.SRT.', 'CI.TOW2.', 'CI.WBM.', 'CI.WCS2.', 'CI.WMF.',\n",
      "       'CI.WNM.', 'CI.WRC2.', 'CI.WRV2.', 'CI.WVP2.', 'GS.CA01.20',\n",
      "       'GS.CA02.20', 'GS.CA03.20', 'GS.CA04.20', 'GS.CA05.20',\n",
      "       'GS.CA06.20', 'GS.CA07.00', 'GS.CA08.00', 'GS.CA09.00',\n",
      "       'NP.5419.10', 'ZY.SV01.', 'ZY.SV06.', 'ZY.SV08.'], dtype='<U10'), array(['CI.CCC.', 'CI.DTP.', 'CI.JRC2.', 'CI.LRL.', 'CI.MPM.', 'CI.SLA.',\n",
      "       'CI.SRT.', 'CI.TOW2.', 'CI.WBM.', 'CI.WCS2.', 'CI.WMF.', 'CI.WNM.',\n",
      "       'CI.WRC2.', 'CI.WRV2.', 'CI.WVP2.', 'GS.CA01.20', 'GS.CA03.20',\n",
      "       'GS.CA05.20', 'GS.CA06.20', 'GS.CA07.00', 'GS.CA08.00',\n",
      "       'GS.CA09.00', 'GS.CA10.00', 'NP.5419.10', 'ZY.SV01.', 'ZY.SV06.',\n",
      "       'ZY.SV08.'], dtype='<U10'), array(['CI.CCC.', 'CI.CLC.', 'CI.DTP.', 'CI.JRC2.', 'CI.LRL.', 'CI.MPM.',\n",
      "       'CI.SLA.', 'CI.SRT.', 'CI.TOW2.', 'CI.WBM.', 'CI.WCS2.', 'CI.WMF.',\n",
      "       'CI.WNM.', 'CI.WRC2.', 'CI.WRV2.', 'CI.WVP2.', 'GS.CA01.20',\n",
      "       'GS.CA03.20', 'GS.CA05.20', 'GS.CA06.20', 'GS.CA07.00',\n",
      "       'GS.CA08.00', 'GS.CA09.00', 'GS.CA10.00', 'ZY.SV01.', 'ZY.SV02.',\n",
      "       'ZY.SV03.', 'ZY.SV04.', 'ZY.SV05.', 'ZY.SV06.', 'ZY.SV07.'],\n",
      "      dtype='<U10'), array(['CI.CCC.', 'CI.CLC.', 'CI.DTP.', 'CI.JRC2.', 'CI.LRL.', 'CI.MPM.',\n",
      "       'CI.SLA.', 'CI.SRT.', 'CI.TOW2.', 'CI.WBM.', 'CI.WCS2.', 'CI.WMF.',\n",
      "       'CI.WNM.', 'CI.WRC2.', 'CI.WRV2.', 'CI.WVP2.', 'GS.CA01.20',\n",
      "       'GS.CA03.20', 'GS.CA04.20', 'GS.CA05.20', 'GS.CA06.20',\n",
      "       'GS.CA07.00', 'GS.CA08.00', 'GS.CA09.00', 'GS.CA10.00', 'ZY.SV01.',\n",
      "       'ZY.SV02.', 'ZY.SV03.', 'ZY.SV04.', 'ZY.SV06.', 'ZY.SV07.',\n",
      "       'ZY.SV08.'], dtype='<U10'), array(['CI.CCC.', 'CI.CLC.', 'CI.DTP.', 'CI.JRC2.', 'CI.LRL.', 'CI.MPM.',\n",
      "       'CI.SLA.', 'CI.SRT.', 'CI.TOW2.', 'CI.WBM.', 'CI.WCS2.', 'CI.WMF.',\n",
      "       'CI.WNM.', 'CI.WRC2.', 'CI.WRV2.', 'CI.WVP2.', 'GS.CA01.20',\n",
      "       'GS.CA03.20', 'GS.CA04.20', 'GS.CA05.20', 'GS.CA06.20',\n",
      "       'GS.CA07.00', 'GS.CA08.00', 'GS.CA09.00', 'GS.CA10.00'],\n",
      "      dtype='<U10'), array(['CI.CCC.', 'CI.CLC.', 'CI.DTP.', 'CI.JRC2.', 'CI.LRL.', 'CI.MPM.',\n",
      "       'CI.SLA.', 'CI.SRT.', 'CI.TOW2.', 'CI.WBM.', 'CI.WCS2.', 'CI.WMF.',\n",
      "       'CI.WNM.', 'CI.WRC2.', 'CI.WRV2.', 'CI.WVP2.', 'GS.CA01.20',\n",
      "       'GS.CA03.20', 'GS.CA05.20', 'GS.CA06.20', 'GS.CA07.00',\n",
      "       'GS.CA08.00', 'GS.CA09.00', 'GS.CA10.00', 'ZY.SV01.', 'ZY.SV02.',\n",
      "       'ZY.SV03.', 'ZY.SV04.', 'ZY.SV05.', 'ZY.SV06.', 'ZY.SV07.'],\n",
      "      dtype='<U10'), array(['CI.CCC.', 'CI.CLC.', 'CI.DTP.', 'CI.JRC2.', 'CI.LRL.', 'CI.MPM.',\n",
      "       'CI.SLA.', 'CI.SRT.', 'CI.TOW2.', 'CI.WBM.', 'CI.WCS2.', 'CI.WMF.',\n",
      "       'CI.WNM.', 'CI.WRC2.', 'CI.WRV2.', 'CI.WVP2.', 'GS.CA01.20',\n",
      "       'GS.CA03.20', 'GS.CA04.20', 'GS.CA05.20', 'GS.CA06.20',\n",
      "       'GS.CA07.00', 'GS.CA08.00', 'GS.CA09.00', 'GS.CA10.00',\n",
      "       'NP.5419.10'], dtype='<U10'), array(['CI.CCC.', 'CI.CLC.', 'CI.DTP.', 'CI.JRC2.', 'CI.LRL.', 'CI.MPM.',\n",
      "       'CI.SLA.', 'CI.SRT.', 'CI.TOW2.', 'CI.WBM.', 'CI.WCS2.', 'CI.WMF.',\n",
      "       'CI.WNM.', 'CI.WRC2.', 'CI.WRV2.', 'CI.WVP2.'], dtype='<U8'), array(['CI.CCC.', 'CI.CLC.', 'CI.DTP.', 'CI.JRC2.', 'CI.LRL.', 'CI.MPM.',\n",
      "       'CI.SLA.', 'CI.SRT.', 'CI.TOW2.', 'CI.WBM.', 'CI.WCS2.', 'CI.WMF.',\n",
      "       'CI.WNM.', 'CI.WRC2.', 'CI.WRV2.', 'CI.WVP2.'], dtype='<U8'), array(['CI.CCC.', 'CI.CLC.', 'CI.DTP.', 'CI.JRC2.', 'CI.LRL.', 'CI.MPM.',\n",
      "       'CI.SLA.', 'CI.SRT.', 'CI.TOW2.', 'CI.WBM.', 'CI.WCS2.', 'CI.WMF.',\n",
      "       'CI.WNM.', 'CI.WRC2.', 'CI.WRV2.', 'CI.WVP2.', 'NP.5419.'],\n",
      "      dtype='<U8'), array(['CI.CCC.', 'CI.CLC.', 'CI.DTP.', 'CI.JRC2.', 'CI.LRL.', 'CI.MPM.',\n",
      "       'CI.SLA.', 'CI.SRT.', 'CI.TOW2.', 'CI.WBM.', 'CI.WCS2.', 'CI.WMF.',\n",
      "       'CI.WNM.', 'CI.WRC2.', 'CI.WRV2.', 'CI.WVP2.', 'GS.CA01.20',\n",
      "       'GS.CA02.20', 'ZY.SV03.', 'ZY.SV05.', 'ZY.SV07.'], dtype='<U10'), array(['CI.CCC.', 'CI.CLC.', 'CI.DTP.', 'CI.JRC2.', 'CI.LRL.', 'CI.MPM.',\n",
      "       'CI.SLA.', 'CI.SRT.', 'CI.TOW2.', 'CI.WBM.', 'CI.WCS2.', 'CI.WMF.',\n",
      "       'CI.WNM.', 'CI.WRC2.', 'CI.WRV2.', 'CI.WVP2.', 'GS.CA01.20',\n",
      "       'GS.CA03.20', 'GS.CA05.20', 'GS.CA06.20', 'GS.CA07.00',\n",
      "       'GS.CA08.00', 'GS.CA09.00', 'GS.CA10.00', 'ZY.SV01.', 'ZY.SV02.',\n",
      "       'ZY.SV03.', 'ZY.SV04.', 'ZY.SV06.', 'ZY.SV08.'], dtype='<U10'), array(['CI.CCC.', 'CI.CLC.', 'CI.DTP.', 'CI.JRC2.', 'CI.LRL.', 'CI.MPM.',\n",
      "       'CI.SLA.', 'CI.SRT.', 'CI.TOW2.', 'CI.WBM.', 'CI.WCS2.', 'CI.WMF.',\n",
      "       'CI.WNM.', 'CI.WRC2.', 'CI.WRV2.', 'CI.WVP2.'], dtype='<U8'), array(['CI.CCC.', 'CI.CLC.', 'CI.DTP.', 'CI.JRC2.', 'CI.LRL.', 'CI.MPM.',\n",
      "       'CI.SLA.', 'CI.SRT.', 'CI.TOW2.', 'CI.WBM.', 'CI.WCS2.', 'CI.WMF.',\n",
      "       'CI.WNM.', 'CI.WRC2.', 'CI.WRV2.', 'CI.WVP2.', 'GS.CA01.20',\n",
      "       'GS.CA03.20', 'GS.CA04.20', 'GS.CA05.20', 'GS.CA06.20',\n",
      "       'GS.CA07.00', 'GS.CA08.00', 'GS.CA09.00', 'NP.5419.10', 'ZY.SV01.',\n",
      "       'ZY.SV06.', 'ZY.SV08.'], dtype='<U10'), array(['CI.CCC.', 'CI.DTP.', 'CI.JRC2.', 'CI.LRL.', 'CI.MPM.', 'CI.SLA.',\n",
      "       'CI.SRT.', 'CI.TOW2.', 'CI.WBM.', 'CI.WCS2.', 'CI.WMF.', 'CI.WNM.',\n",
      "       'CI.WRC2.', 'CI.WRV2.', 'CI.WVP2.', 'GS.CA01.20', 'GS.CA02.20',\n",
      "       'GS.CA03.20', 'GS.CA04.20', 'GS.CA05.20', 'GS.CA06.20',\n",
      "       'GS.CA07.00', 'GS.CA08.00', 'NP.5419.10', 'ZY.SV01.', 'ZY.SV05.',\n",
      "       'ZY.SV06.', 'ZY.SV07.', 'ZY.SV08.'], dtype='<U10'), array(['CI.CCC.', 'CI.CLC.', 'CI.DTP.', 'CI.JRC2.', 'CI.LRL.', 'CI.MPM.',\n",
      "       'CI.SLA.', 'CI.SRT.', 'CI.TOW2.', 'CI.WBM.', 'CI.WCS2.', 'CI.WMF.',\n",
      "       'CI.WNM.', 'CI.WRC2.', 'CI.WRV2.', 'CI.WVP2.', 'GS.CA01.20',\n",
      "       'GS.CA03.20', 'GS.CA05.20', 'GS.CA06.20', 'GS.CA07.00',\n",
      "       'GS.CA08.00', 'GS.CA09.00', 'GS.CA10.00', 'ZY.SV01.', 'ZY.SV02.',\n",
      "       'ZY.SV03.', 'ZY.SV04.', 'ZY.SV06.', 'ZY.SV08.'], dtype='<U10'), array(['CI.CCC.', 'CI.CLC.', 'CI.DTP.', 'CI.JRC2.', 'CI.LRL.', 'CI.MPM.',\n",
      "       'CI.SLA.', 'CI.SRT.', 'CI.TOW2.', 'CI.WBM.', 'CI.WCS2.', 'CI.WMF.',\n",
      "       'CI.WNM.', 'CI.WRC2.', 'CI.WRV2.', 'CI.WVP2.', 'GS.CA01.20',\n",
      "       'GS.CA03.20', 'GS.CA05.20', 'GS.CA06.20', 'GS.CA07.00',\n",
      "       'GS.CA08.00', 'GS.CA09.00', 'GS.CA10.00', 'ZY.SV01.', 'ZY.SV06.',\n",
      "       'ZY.SV08.'], dtype='<U10'), array(['CI.CCC.', 'CI.CLC.', 'CI.DTP.', 'CI.JRC2.', 'CI.LRL.', 'CI.MPM.',\n",
      "       'CI.SLA.', 'CI.SRT.', 'CI.TOW2.', 'CI.WBM.', 'CI.WCS2.', 'CI.WMF.',\n",
      "       'CI.WNM.', 'CI.WRC2.', 'CI.WRV2.', 'CI.WVP2.'], dtype='<U8'), array(['CI.CCC.', 'CI.CLC.', 'CI.DTP.', 'CI.JRC2.', 'CI.LRL.', 'CI.MPM.',\n",
      "       'CI.SLA.', 'CI.SRT.', 'CI.TOW2.', 'CI.WBM.', 'CI.WCS2.', 'CI.WMF.',\n",
      "       'CI.WNM.', 'CI.WRC2.', 'CI.WRV2.', 'CI.WVP2.', 'GS.CA01.20',\n",
      "       'GS.CA03.20', 'GS.CA05.20', 'GS.CA06.20', 'GS.CA07.00',\n",
      "       'GS.CA08.00', 'GS.CA09.00', 'GS.CA10.00', 'NP.5419.10', 'ZY.SV01.',\n",
      "       'ZY.SV06.', 'ZY.SV08.'], dtype='<U10'), array(['CI.CCC.', 'CI.DTP.', 'CI.JRC2.', 'CI.LRL.', 'CI.MPM.', 'CI.SLA.',\n",
      "       'CI.SRT.', 'CI.TOW2.', 'CI.WBM.', 'CI.WCS2.', 'CI.WMF.', 'CI.WNM.',\n",
      "       'CI.WRC2.', 'CI.WRV2.', 'CI.WVP2.', 'GS.CA01.20', 'GS.CA02.20',\n",
      "       'GS.CA03.20', 'GS.CA04.20', 'GS.CA05.20', 'GS.CA06.20',\n",
      "       'GS.CA07.00', 'GS.CA08.00', 'NP.5419.10', 'ZY.SV01.', 'ZY.SV02.',\n",
      "       'ZY.SV03.', 'ZY.SV04.', 'ZY.SV05.', 'ZY.SV06.', 'ZY.SV07.',\n",
      "       'ZY.SV08.'], dtype='<U10'), array(['CI.CCC.', 'CI.CLC.', 'CI.DTP.', 'CI.JRC2.', 'CI.LRL.', 'CI.MPM.',\n",
      "       'CI.SLA.', 'CI.SRT.', 'CI.TOW2.', 'CI.WBM.', 'CI.WCS2.', 'CI.WMF.',\n",
      "       'CI.WNM.', 'CI.WRC2.', 'CI.WRV2.', 'CI.WVP2.'], dtype='<U8'), array(['CI.CCC.', 'CI.DTP.', 'CI.JRC2.', 'CI.LRL.', 'CI.MPM.', 'CI.SLA.',\n",
      "       'CI.SRT.', 'CI.TOW2.', 'CI.WBM.', 'CI.WCS2.', 'CI.WMF.', 'CI.WNM.',\n",
      "       'CI.WRC2.', 'CI.WRV2.', 'CI.WVP2.', 'GS.CA01.20', 'GS.CA02.20',\n",
      "       'GS.CA03.20', 'GS.CA04.20', 'GS.CA05.20', 'GS.CA06.20',\n",
      "       'GS.CA07.00', 'GS.CA08.00', 'NP.5419.10', 'ZY.SV01.', 'ZY.SV02.',\n",
      "       'ZY.SV03.', 'ZY.SV04.', 'ZY.SV05.', 'ZY.SV06.', 'ZY.SV07.',\n",
      "       'ZY.SV08.'], dtype='<U10'), array(['CI.CCC.', 'CI.CLC.', 'CI.DTP.', 'CI.JRC2.', 'CI.LRL.', 'CI.MPM.',\n",
      "       'CI.SLA.', 'CI.SRT.', 'CI.TOW2.', 'CI.WBM.', 'CI.WCS2.', 'CI.WMF.',\n",
      "       'CI.WNM.', 'CI.WRC2.', 'CI.WRV2.', 'CI.WVP2.'], dtype='<U8'), array(['CI.CCC.', 'CI.CLC.', 'CI.DTP.', 'CI.JRC2.', 'CI.LRL.', 'CI.MPM.',\n",
      "       'CI.SLA.', 'CI.SRT.', 'CI.TOW2.', 'CI.WBM.', 'CI.WCS2.', 'CI.WMF.',\n",
      "       'CI.WNM.', 'CI.WRC2.', 'CI.WRV2.', 'CI.WVP2.', 'GS.CA01.20',\n",
      "       'GS.CA03.20', 'GS.CA04.20', 'GS.CA05.20', 'GS.CA06.20',\n",
      "       'GS.CA07.00', 'GS.CA08.00', 'GS.CA09.00', 'GS.CA10.00', 'ZY.SV01.',\n",
      "       'ZY.SV02.', 'ZY.SV03.', 'ZY.SV04.', 'ZY.SV06.', 'ZY.SV08.'],\n",
      "      dtype='<U10'), array(['CI.CCC.', 'CI.CLC.', 'CI.DTP.', 'CI.JRC2.', 'CI.LRL.', 'CI.MPM.',\n",
      "       'CI.SLA.', 'CI.SRT.', 'CI.TOW2.', 'CI.WBM.', 'CI.WCS2.', 'CI.WMF.',\n",
      "       'CI.WNM.', 'CI.WRC2.', 'CI.WRV2.', 'CI.WVP2.', 'GS.CA01.20',\n",
      "       'GS.CA02.20', 'GS.CA03.20', 'GS.CA04.20', 'GS.CA05.20',\n",
      "       'NP.5419.10', 'ZY.SV01.', 'ZY.SV03.', 'ZY.SV05.', 'ZY.SV07.'],\n",
      "      dtype='<U10'), array(['CI.CCC.', 'CI.CLC.', 'CI.DTP.', 'CI.JRC2.', 'CI.LRL.', 'CI.MPM.',\n",
      "       'CI.SLA.', 'CI.SRT.', 'CI.TOW2.', 'CI.WBM.', 'CI.WCS2.', 'CI.WMF.',\n",
      "       'CI.WNM.', 'CI.WRC2.', 'CI.WRV2.', 'CI.WVP2.'], dtype='<U8'), array(['CI.CCC.', 'CI.CLC.', 'CI.DTP.', 'CI.JRC2.', 'CI.LRL.', 'CI.MPM.',\n",
      "       'CI.SLA.', 'CI.SRT.', 'CI.TOW2.', 'CI.WBM.', 'CI.WCS2.', 'CI.WMF.',\n",
      "       'CI.WNM.', 'CI.WRC2.', 'CI.WRV2.', 'CI.WVP2.', 'GS.CA01.20',\n",
      "       'GS.CA03.20', 'GS.CA04.20', 'GS.CA05.20', 'GS.CA06.20',\n",
      "       'GS.CA07.00', 'GS.CA08.00', 'GS.CA09.00', 'GS.CA10.00', 'ZY.SV01.',\n",
      "       'ZY.SV02.', 'ZY.SV03.', 'ZY.SV04.', 'ZY.SV06.', 'ZY.SV08.'],\n",
      "      dtype='<U10'), array(['CI.CCC.', 'CI.CLC.', 'CI.DTP.', 'CI.JRC2.', 'CI.LRL.', 'CI.MPM.',\n",
      "       'CI.SLA.', 'CI.SRT.', 'CI.TOW2.', 'CI.WBM.', 'CI.WCS2.', 'CI.WMF.',\n",
      "       'CI.WNM.', 'CI.WRC2.', 'CI.WRV2.', 'CI.WVP2.'], dtype='<U8'), array(['CI.CCC.', 'CI.CLC.', 'CI.DTP.', 'CI.JRC2.', 'CI.LRL.', 'CI.MPM.',\n",
      "       'CI.SLA.', 'CI.SRT.', 'CI.TOW2.', 'CI.WBM.', 'CI.WCS2.', 'CI.WMF.',\n",
      "       'CI.WNM.', 'CI.WRC2.', 'CI.WRV2.', 'CI.WVP2.', 'GS.CA01.20',\n",
      "       'GS.CA03.20', 'GS.CA04.20', 'GS.CA05.20', 'GS.CA06.20',\n",
      "       'GS.CA07.00', 'GS.CA08.00', 'GS.CA09.00', 'GS.CA10.00', 'ZY.SV01.',\n",
      "       'ZY.SV02.', 'ZY.SV03.', 'ZY.SV04.', 'ZY.SV06.', 'ZY.SV08.'],\n",
      "      dtype='<U10'), array(['CI.CCC.', 'CI.CLC.', 'CI.DTP.', 'CI.JRC2.', 'CI.LRL.', 'CI.MPM.',\n",
      "       'CI.SLA.', 'CI.SRT.', 'CI.TOW2.', 'CI.WBM.', 'CI.WCS2.', 'CI.WMF.',\n",
      "       'CI.WNM.', 'CI.WRC2.', 'CI.WRV2.', 'CI.WVP2.'], dtype='<U8'), array(['CI.CCC.', 'CI.CLC.', 'CI.DTP.', 'CI.JRC2.', 'CI.LRL.', 'CI.MPM.',\n",
      "       'CI.SLA.', 'CI.SRT.', 'CI.TOW2.', 'CI.WBM.', 'CI.WCS2.', 'CI.WMF.',\n",
      "       'CI.WNM.', 'CI.WRC2.', 'CI.WRV2.', 'CI.WVP2.', 'GS.CA01.20',\n",
      "       'GS.CA03.20', 'GS.CA04.20', 'GS.CA05.20', 'GS.CA06.20',\n",
      "       'GS.CA07.00', 'GS.CA08.00', 'GS.CA09.00', 'GS.CA10.00', 'ZY.SV01.',\n",
      "       'ZY.SV02.', 'ZY.SV03.', 'ZY.SV04.', 'ZY.SV05.', 'ZY.SV06.',\n",
      "       'ZY.SV07.'], dtype='<U10'), array(['CI.CCC.', 'CI.CLC.', 'CI.DTP.', 'CI.JRC2.', 'CI.LRL.', 'CI.MPM.',\n",
      "       'CI.SLA.', 'CI.SRT.', 'CI.TOW2.', 'CI.WBM.', 'CI.WCS2.', 'CI.WMF.',\n",
      "       'CI.WNM.', 'CI.WRC2.', 'CI.WRV2.', 'CI.WVP2.', 'GS.CA01.20',\n",
      "       'GS.CA03.20', 'GS.CA05.20', 'GS.CA06.20', 'GS.CA07.00',\n",
      "       'GS.CA08.00', 'GS.CA09.00', 'GS.CA10.00', 'ZY.SV01.', 'ZY.SV02.',\n",
      "       'ZY.SV03.', 'ZY.SV04.', 'ZY.SV06.', 'ZY.SV08.'], dtype='<U10'), array(['CI.CCC.', 'CI.CLC.', 'CI.DTP.', 'CI.JRC2.', 'CI.LRL.', 'CI.MPM.',\n",
      "       'CI.SLA.', 'CI.SRT.', 'CI.TOW2.', 'CI.WBM.', 'CI.WCS2.', 'CI.WMF.',\n",
      "       'CI.WNM.', 'CI.WRC2.', 'CI.WRV2.', 'CI.WVP2.', 'GS.CA01.20',\n",
      "       'GS.CA03.20', 'GS.CA04.20', 'GS.CA05.20', 'GS.CA06.20',\n",
      "       'GS.CA07.00', 'GS.CA08.00', 'GS.CA09.00', 'NP.5419.10', 'ZY.SV01.',\n",
      "       'ZY.SV06.', 'ZY.SV08.'], dtype='<U10')]\n"
     ]
    }
   ],
   "source": [
    "stations = []\n",
    "for file in station_files:\n",
    "    stations.append(np.load(os.path.join(meta_path, file)))\n",
    "    \n",
    "print(stations)"
   ]
  },
  {
   "cell_type": "code",
   "execution_count": 67,
   "metadata": {},
   "outputs": [
    {
     "name": "stdout",
     "output_type": "stream",
     "text": [
      "Stations:  {'CI.CCC.': 0, 'CI.DTP.': 0, 'CI.JRC2.': 0, 'CI.LRL.': 0, 'CI.MPM.': 0, 'CI.SLA.': 0, 'CI.SRT.': 0, 'CI.TOW2.': 0, 'CI.WBM.': 0, 'CI.WCS2.': 0, 'CI.WMF.': 0, 'CI.WNM.': 0, 'CI.WRC2.': 0, 'CI.WRV2.': 0, 'CI.WVP2.': 0, 'GS.CA01.20': 0, 'GS.CA03.20': 0, 'GS.CA05.20': 0, 'GS.CA06.20': 0, 'GS.CA07.00': 0, 'GS.CA08.00': 0, 'GS.CA09.00': 0, 'GS.CA10.00': 0, 'NP.5419.10': 0, 'ZY.SV01.': 0, 'ZY.SV06.': 0, 'ZY.SV08.': 0, 'CI.CLC.': 0, 'GS.CA04.20': 0, 'ZY.SV02.': 0, 'ZY.SV03.': 0, 'ZY.SV04.': 0, 'GS.CA02.20': 0, 'ZY.SV05.': 0, 'ZY.SV07.': 0, 'NP.5419.': 0}\n",
      "36\n"
     ]
    }
   ],
   "source": [
    "counts = {}\n",
    "for v in stations:\n",
    "    for stat in v:\n",
    "        if stat not in counts:\n",
    "            counts[stat] = 0\n",
    "print(\"Stations: \", counts)\n",
    "print(len(counts))"
   ]
  },
  {
   "cell_type": "code",
   "execution_count": 60,
   "metadata": {
    "collapsed": true,
    "jupyter": {
     "outputs_hidden": true
    }
   },
   "outputs": [
    {
     "name": "stdout",
     "output_type": "stream",
     "text": [
      "['2019-09-22.npy', '2019-06-12.npy', '2019-08-25.npy', '2019-07-31.npy', '2019-07-02.npy', '2019-07-07.npy', '2019-07-19.npy', '2019-07-17.npy', '2019-08-15.npy', '2019-08-04.npy', '2019-06-10.npy', '2019-08-10.npy', '2019-06-26.npy', '2019-09-30.npy', '2019-08-26.npy', '2019-09-13.npy', '2019-06-29.npy', '2019-08-13.npy', '2019-07-26.npy', '2019-07-21.npy', '2019-06-08.npy', '2019-07-15.npy', '2019-09-06.npy', '2019-09-11.npy', '2019-09-26.npy', '2019-06-04.npy', '2019-08-16.npy', '2019-07-18.npy', '2019-08-05.npy', '2019-07-08.npy', '2019-09-20.npy', '2019-08-12.npy', '2019-07-13.npy', '2019-09-16.npy', '2019-06-03.npy', '2019-06-30.npy', '2019-07-14.npy', '2019-07-22.npy', '2019-08-27.npy', '2019-07-25.npy', '2019-08-22.npy', '2019-06-19.npy', '2019-08-31.npy', '2019-08-11.npy', '2019-06-06.npy', '2019-06-27.npy', '2019-07-06.npy', '2019-06-07.npy', '2019-06-20.npy', '2019-08-24.npy', '2019-08-20.npy', '2019-09-23.npy', '2019-08-14.npy', '2019-06-16.npy', '2019-08-28.npy', '2019-09-29.npy', '2019-06-15.npy', '2019-07-28.npy', '2019-09-17.npy', '2019-08-23.npy', '2019-08-01.npy', '2019-09-02.npy', '2019-06-22.npy', '2019-09-04.npy', '2019-09-25.npy', '2019-09-19.npy', '2019-07-04.npy', '2019-07-16.npy', '2019-07-27.npy', '2019-09-09.npy', '2019-09-28.npy', '2019-07-11.npy', '2019-06-01.npy', '2019-06-11.npy', '2019-09-15.npy', '2019-08-30.npy', '2019-06-28.npy', '2019-07-23.npy', '2019-07-12.npy', '2019-06-09.npy', '2019-06-05.npy', '2019-09-03.npy', '2019-06-13.npy', '2019-09-27.npy', '2019-08-08.npy', '2019-09-07.npy', '2019-08-21.npy', '2019-09-08.npy', '2019-09-18.npy', '2019-09-24.npy', '2019-07-03.npy', '2019-06-18.npy', '2019-08-18.npy', '2019-08-03.npy', '2019-06-23.npy', '2019-06-02.npy', '2019-08-17.npy', '2019-09-21.npy', '2019-09-10.npy', '2019-08-09.npy', '2019-08-06.npy', '2019-07-05.npy', '2019-06-24.npy', '2019-07-09.npy', '2019-07-20.npy', '2019-09-14.npy', '2019-09-05.npy', '2019-08-29.npy', '2019-07-24.npy', '2019-09-01.npy', '2019-06-21.npy', '2019-07-29.npy', '2019-08-07.npy', '2019-07-01.npy', '2019-08-19.npy', '2019-08-02.npy', '2019-07-10.npy', '2019-07-30.npy', '2019-06-25.npy', '2019-06-14.npy', '2019-06-17.npy', '2019-09-12.npy']\n"
     ]
    }
   ],
   "source": [
    "date_to_shape = None\n",
    "with open(os.path.join(meta_path, 'date_to_shape.json'), 'r') as json_file:\n",
    "    date_to_shape = json.load(json_file)\n",
    "    dates, shapes = zip(*date_to_shape.items())\n",
    "    dates, shapes = list(dates), list(shapes)\n",
    "\n",
    "# dates = [dates[i].split('.')[0] for i in range(len(dates))]\n",
    "print(dates)"
   ]
  },
  {
   "cell_type": "code",
   "execution_count": 61,
   "metadata": {},
   "outputs": [
    {
     "name": "stdout",
     "output_type": "stream",
     "text": [
      "[23, 94, 3, 6000] ['CI.CCC.' 'CI.DTP.' 'CI.JRC2.' 'CI.LRL.' 'CI.MPM.' 'CI.SLA.' 'CI.SRT.'\n",
      " 'CI.TOW2.' 'CI.WBM.' 'CI.WCS2.' 'CI.WMF.' 'CI.WNM.' 'CI.WRC2.' 'CI.WRV2.'\n",
      " 'CI.WVP2.' 'GS.CA01.20' 'GS.CA03.20' 'GS.CA05.20' 'GS.CA06.20'\n",
      " 'GS.CA07.00' 'GS.CA08.00' 'GS.CA09.00' 'GS.CA10.00' 'NP.5419.10']\n"
     ]
    }
   ],
   "source": [
    "print(shapes[0], stations[0])"
   ]
  },
  {
   "cell_type": "code",
   "execution_count": 68,
   "metadata": {},
   "outputs": [
    {
     "name": "stdout",
     "output_type": "stream",
     "text": [
      "{'CI.CCC.': 35858, 'CI.DTP.': 35858, 'CI.JRC2.': 35206, 'CI.LRL.': 35858, 'CI.MPM.': 35858, 'CI.SLA.': 35858, 'CI.SRT.': 35858, 'CI.TOW2.': 35858, 'CI.WBM.': 35858, 'CI.WCS2.': 35858, 'CI.WMF.': 35858, 'CI.WNM.': 35858, 'CI.WRC2.': 35858, 'CI.WRV2.': 35858, 'CI.WVP2.': 35858, 'GS.CA01.20': 24076, 'GS.CA03.20': 23836, 'GS.CA05.20': 23499, 'GS.CA06.20': 23747, 'GS.CA07.00': 23633, 'GS.CA08.00': 23633, 'GS.CA09.00': 19846, 'GS.CA10.00': 15593, 'NP.5419.10': 14526, 'ZY.SV01.': 18914, 'ZY.SV06.': 17628, 'ZY.SV08.': 17451, 'CI.CLC.': 25627, 'GS.CA04.20': 14837, 'ZY.SV02.': 8140, 'ZY.SV03.': 9145, 'ZY.SV04.': 8602, 'GS.CA02.20': 6360, 'ZY.SV05.': 8265, 'ZY.SV07.': 7804, 'NP.5419.': 136}\n"
     ]
    }
   ],
   "source": [
    "for s_idx, s in enumerate(shapes):\n",
    "#     print(s[0])\n",
    "#     print(s[0], stations[dates[s_idx]])\n",
    "    num_events = s[1]\n",
    "#     print(s_idx)\n",
    "#     print(s[0], date_to_shape[dates[s_idx]][0])\n",
    "    assert s[0] == date_to_shape[dates[s_idx]][0]\n",
    "\n",
    "#     assert s[0] == stations[s_idx].shape[0]\n",
    "    for stat in stations[s_idx]:\n",
    "        counts[stat] += num_events\n",
    "print(counts)"
   ]
  },
  {
   "cell_type": "code",
   "execution_count": 69,
   "metadata": {},
   "outputs": [
    {
     "data": {
      "image/png": "[encoded data removed]",
      "text/plain": [
       "<Figure size 2880x720 with 1 Axes>"
      ]
     },
     "metadata": {
      "needs_background": "light"
     },
     "output_type": "display_data"
    }
   ],
   "source": [
    "sorted_dict = sorted(zip(list(counts.values()), list(counts.keys())))\n",
    "sorted_counts, sorted_stats = zip(*sorted_dict)\n",
    "sorted_counts, sorted_stats = sorted_counts[::-1], sorted_stats[::-1]\n",
    "plt.figure(figsize=(40,10))\n",
    "plt.bar(sorted_stats, sorted_counts)\n",
    "plt.xlabel('Stations'); plt.ylabel(\"Num events\")\n",
    "plt.show()"
   ]
  },
  {
   "cell_type": "code",
   "execution_count": 70,
   "metadata": {},
   "outputs": [],
   "source": [
    "with open(os.path.join(meta_path, 'all_station_counts.json'), 'w') as fp:\n",
    "    json.dump(counts, fp)  "
   ]
  },
  {
   "cell_type": "markdown",
   "metadata": {},
   "source": [
    "### Step-2: Filter relevant stations"
   ]
  },
  {
   "cell_type": "code",
   "execution_count": 72,
   "metadata": {},
   "outputs": [
    {
     "name": "stdout",
     "output_type": "stream",
     "text": [
      "{'CI.CCC.': 35858, 'CI.DTP.': 35858, 'CI.JRC2.': 35206, 'CI.LRL.': 35858, 'CI.MPM.': 35858, 'CI.SLA.': 35858, 'CI.SRT.': 35858, 'CI.TOW2.': 35858, 'CI.WBM.': 35858, 'CI.WCS2.': 35858, 'CI.WMF.': 35858, 'CI.WNM.': 35858, 'CI.WRC2.': 35858, 'CI.WRV2.': 35858, 'CI.WVP2.': 35858, 'GS.CA01.20': 24076, 'GS.CA03.20': 23836, 'GS.CA05.20': 23499, 'GS.CA06.20': 23747, 'GS.CA07.00': 23633, 'GS.CA08.00': 23633, 'GS.CA09.00': 19846, 'GS.CA10.00': 15593, 'NP.5419.10': 14526, 'ZY.SV01.': 18914, 'ZY.SV06.': 17628, 'ZY.SV08.': 17451, 'CI.CLC.': 25627, 'GS.CA04.20': 14837, 'ZY.SV02.': 8140, 'ZY.SV03.': 9145, 'ZY.SV04.': 8602, 'GS.CA02.20': 6360, 'ZY.SV05.': 8265, 'ZY.SV07.': 7804, 'NP.5419.': 136}\n"
     ]
    }
   ],
   "source": [
    "num_stations = 15\n",
    "\n",
    "with open(os.path.join(meta_path, 'all_station_counts.json')) as json_file:\n",
    "    stat_counts = json.load(json_file)\n",
    "\n",
    "print(stat_counts)"
   ]
  },
  {
   "cell_type": "code",
   "execution_count": 73,
   "metadata": {},
   "outputs": [
    {
     "data": {
      "image/png": "[encoded data removed]",
      "text/plain": [
       "<Figure size 432x288 with 1 Axes>"
      ]
     },
     "metadata": {
      "needs_background": "light"
     },
     "output_type": "display_data"
    },
    {
     "name": "stdout",
     "output_type": "stream",
     "text": [
      "('CI.WVP2.', 'CI.WRV2.', 'CI.WRC2.', 'CI.WNM.', 'CI.WMF.', 'CI.WCS2.', 'CI.WBM.', 'CI.TOW2.', 'CI.SRT.', 'CI.SLA.', 'CI.MPM.', 'CI.LRL.', 'CI.DTP.', 'CI.CCC.', 'CI.JRC2.')\n",
      "(35858, 35858, 35858, 35858, 35858, 35858, 35858, 35858, 35858, 35858, 35858, 35858, 35858, 35858, 35206)\n"
     ]
    }
   ],
   "source": [
    "sorted_dict = sorted(zip(list(stat_counts.values()), list(stat_counts.keys())))\n",
    "sorted_counts, sorted_stats = zip(*sorted_dict)\n",
    "sorted_counts, sorted_stats = sorted_counts[::-1], sorted_stats[::-1]\n",
    "plt.bar(sorted_stats, sorted_counts)\n",
    "plt.title(\"Station event counts\")\n",
    "plt.show()\n",
    "\n",
    "master_stations = sorted_stats[:num_stations]\n",
    "print(master_stations)\n",
    "print(sorted_counts[:num_stations])"
   ]
  },
  {
   "cell_type": "code",
   "execution_count": 74,
   "metadata": {},
   "outputs": [
    {
     "name": "stdout",
     "output_type": "stream",
     "text": [
      "['2019-06-01', '2019-06-02', '2019-06-03', '2019-06-04', '2019-06-05', '2019-06-06', '2019-06-07', '2019-06-08', '2019-06-09', '2019-06-10', '2019-06-11', '2019-06-12', '2019-06-13', '2019-06-14', '2019-06-15', '2019-06-16', '2019-06-17', '2019-06-18', '2019-06-19', '2019-06-20', '2019-06-21', '2019-06-22', '2019-06-23', '2019-06-24', '2019-06-25', '2019-06-26', '2019-06-27', '2019-06-28', '2019-06-29', '2019-06-30', '2019-07-01', '2019-07-02', '2019-07-03', '2019-07-04', '2019-07-05', '2019-07-06', '2019-07-07', '2019-07-08', '2019-07-09', '2019-07-10', '2019-07-11', '2019-07-12', '2019-07-13', '2019-07-14', '2019-07-15', '2019-07-16', '2019-07-17', '2019-07-18', '2019-07-19', '2019-07-20', '2019-07-21', '2019-07-22', '2019-07-23', '2019-07-24', '2019-07-25', '2019-07-26', '2019-07-27', '2019-07-28', '2019-07-29', '2019-07-30', '2019-07-31', '2019-08-01', '2019-08-02', '2019-08-03', '2019-08-04', '2019-08-05', '2019-08-06', '2019-08-07', '2019-08-08', '2019-08-09', '2019-08-10', '2019-08-11', '2019-08-12', '2019-08-13', '2019-08-14', '2019-08-15', '2019-08-16', '2019-08-17', '2019-08-18', '2019-08-19', '2019-08-20', '2019-08-21', '2019-08-22', '2019-08-23', '2019-08-24', '2019-08-25', '2019-08-26', '2019-08-27', '2019-08-28', '2019-08-29', '2019-08-30', '2019-08-31', '2019-09-01', '2019-09-02', '2019-09-03', '2019-09-04', '2019-09-05', '2019-09-06', '2019-09-07', '2019-09-08', '2019-09-09', '2019-09-10', '2019-09-11', '2019-09-12', '2019-09-13', '2019-09-14', '2019-09-15', '2019-09-16', '2019-09-17', '2019-09-18', '2019-09-19', '2019-09-20', '2019-09-21', '2019-09-22', '2019-09-23', '2019-09-24', '2019-09-25', '2019-09-26', '2019-09-27', '2019-09-28', '2019-09-29', '2019-09-30']\n",
      "122\n"
     ]
    }
   ],
   "source": [
    "## Create array of dates\n",
    "dates = sorted([entry.name.split(\".\")[0] for entry in list(os.scandir(raw_path)) if \"npy\" in entry.name])\n",
    "print(sorted(dates))\n",
    "print(len(dates))"
   ]
  },
  {
   "cell_type": "code",
   "execution_count": 75,
   "metadata": {
    "collapsed": true,
    "jupyter": {
     "outputs_hidden": true
    }
   },
   "outputs": [
    {
     "name": "stderr",
     "output_type": "stream",
     "text": [
      "  2%|▏         | 3/122 [00:00<00:04, 28.80it/s]"
     ]
    },
    {
     "name": "stdout",
     "output_type": "stream",
     "text": [
      "Extracting data for stations: ('CI.WVP2.', 'CI.WRV2.', 'CI.WRC2.', 'CI.WNM.', 'CI.WMF.', 'CI.WCS2.', 'CI.WBM.', 'CI.TOW2.', 'CI.SRT.', 'CI.SLA.', 'CI.MPM.', 'CI.LRL.', 'CI.DTP.', 'CI.CCC.', 'CI.JRC2.')\n",
      "\tStations for date 2019-06-01: ['CI.CCC.' 'CI.CLC.' 'CI.DTP.' 'CI.JRC2.' 'CI.LRL.' 'CI.MPM.' 'CI.SLA.'\n",
      " 'CI.SRT.' 'CI.TOW2.' 'CI.WBM.' 'CI.WCS2.' 'CI.WMF.' 'CI.WNM.' 'CI.WRC2.'\n",
      " 'CI.WRV2.' 'CI.WVP2.']\n",
      "\tStations for date 2019-06-02: ['CI.CCC.' 'CI.CLC.' 'CI.DTP.' 'CI.JRC2.' 'CI.LRL.' 'CI.MPM.' 'CI.SLA.'\n",
      " 'CI.SRT.' 'CI.TOW2.' 'CI.WBM.' 'CI.WCS2.' 'CI.WMF.' 'CI.WNM.' 'CI.WRC2.'\n",
      " 'CI.WRV2.' 'CI.WVP2.']\n",
      "\tStations for date 2019-06-03: ['CI.CCC.' 'CI.CLC.' 'CI.DTP.' 'CI.JRC2.' 'CI.LRL.' 'CI.MPM.' 'CI.SLA.'\n",
      " 'CI.SRT.' 'CI.TOW2.' 'CI.WBM.' 'CI.WCS2.' 'CI.WMF.' 'CI.WNM.' 'CI.WRC2.'\n",
      " 'CI.WRV2.' 'CI.WVP2.']\n"
     ]
    },
    {
     "name": "stderr",
     "output_type": "stream",
     "text": [
      "  3%|▎         | 4/122 [00:00<00:12,  9.28it/s]"
     ]
    },
    {
     "name": "stdout",
     "output_type": "stream",
     "text": [
      "\tStations for date 2019-06-04: ['CI.CCC.' 'CI.CLC.' 'CI.DTP.' 'CI.JRC2.' 'CI.LRL.' 'CI.MPM.' 'CI.SLA.'\n",
      " 'CI.SRT.' 'CI.TOW2.' 'CI.WBM.' 'CI.WCS2.' 'CI.WMF.' 'CI.WNM.' 'CI.WRC2.'\n",
      " 'CI.WRV2.' 'CI.WVP2.']\n",
      "\tStations for date 2019-06-05: ['CI.CCC.' 'CI.CLC.' 'CI.DTP.' 'CI.JRC2.' 'CI.LRL.' 'CI.MPM.' 'CI.SLA.'\n",
      " 'CI.SRT.' 'CI.TOW2.' 'CI.WBM.' 'CI.WCS2.' 'CI.WMF.' 'CI.WNM.' 'CI.WRC2.'\n",
      " 'CI.WRV2.' 'CI.WVP2.']\n",
      "\tStations for date 2019-06-06: ['CI.CCC.' 'CI.CLC.' 'CI.DTP.' 'CI.JRC2.' 'CI.LRL.' 'CI.MPM.' 'CI.SLA.'\n",
      " 'CI.SRT.' 'CI.TOW2.' 'CI.WBM.' 'CI.WCS2.' 'CI.WMF.' 'CI.WNM.' 'CI.WRC2.'\n",
      " 'CI.WRV2.' 'CI.WVP2.']\n"
     ]
    },
    {
     "name": "stderr",
     "output_type": "stream",
     "text": [
      "  5%|▍         | 6/122 [00:00<00:12,  9.65it/s]"
     ]
    },
    {
     "name": "stdout",
     "output_type": "stream",
     "text": [
      "\tStations for date 2019-06-07: ['CI.CCC.' 'CI.CLC.' 'CI.DTP.' 'CI.JRC2.' 'CI.LRL.' 'CI.MPM.' 'CI.SLA.'\n",
      " 'CI.SRT.' 'CI.TOW2.' 'CI.WBM.' 'CI.WCS2.' 'CI.WMF.' 'CI.WNM.' 'CI.WRC2.'\n",
      " 'CI.WRV2.' 'CI.WVP2.']\n"
     ]
    },
    {
     "name": "stderr",
     "output_type": "stream",
     "text": [
      "  7%|▋         | 8/122 [00:01<00:16,  7.02it/s]"
     ]
    },
    {
     "name": "stdout",
     "output_type": "stream",
     "text": [
      "\tStations for date 2019-06-08: ['CI.CCC.' 'CI.CLC.' 'CI.DTP.' 'CI.JRC2.' 'CI.LRL.' 'CI.MPM.' 'CI.SLA.'\n",
      " 'CI.SRT.' 'CI.TOW2.' 'CI.WBM.' 'CI.WCS2.' 'CI.WMF.' 'CI.WNM.' 'CI.WRC2.'\n",
      " 'CI.WRV2.' 'CI.WVP2.']\n",
      "\tStations for date 2019-06-09: ['CI.CCC.' 'CI.CLC.' 'CI.DTP.' 'CI.JRC2.' 'CI.LRL.' 'CI.MPM.' 'CI.SLA.'\n",
      " 'CI.SRT.' 'CI.TOW2.' 'CI.WBM.' 'CI.WCS2.' 'CI.WMF.' 'CI.WNM.' 'CI.WRC2.'\n",
      " 'CI.WRV2.' 'CI.WVP2.']\n"
     ]
    },
    {
     "name": "stderr",
     "output_type": "stream",
     "text": [
      " 10%|▉         | 12/122 [00:01<00:14,  7.41it/s]"
     ]
    },
    {
     "name": "stdout",
     "output_type": "stream",
     "text": [
      "\tStations for date 2019-06-10: ['CI.CCC.' 'CI.CLC.' 'CI.DTP.' 'CI.JRC2.' 'CI.LRL.' 'CI.MPM.' 'CI.SLA.'\n",
      " 'CI.SRT.' 'CI.TOW2.' 'CI.WBM.' 'CI.WCS2.' 'CI.WMF.' 'CI.WNM.' 'CI.WRC2.'\n",
      " 'CI.WRV2.' 'CI.WVP2.']\n",
      "\tStations for date 2019-06-11: ['CI.CCC.' 'CI.CLC.' 'CI.DTP.' 'CI.JRC2.' 'CI.LRL.' 'CI.MPM.' 'CI.SLA.'\n",
      " 'CI.SRT.' 'CI.TOW2.' 'CI.WBM.' 'CI.WCS2.' 'CI.WMF.' 'CI.WNM.' 'CI.WRC2.'\n",
      " 'CI.WRV2.' 'CI.WVP2.']\n",
      "\tStations for date 2019-06-12: ['CI.CCC.' 'CI.CLC.' 'CI.DTP.' 'CI.JRC2.' 'CI.LRL.' 'CI.MPM.' 'CI.SLA.'\n",
      " 'CI.SRT.' 'CI.TOW2.' 'CI.WBM.' 'CI.WCS2.' 'CI.WMF.' 'CI.WNM.' 'CI.WRC2.'\n",
      " 'CI.WRV2.' 'CI.WVP2.']\n",
      "\tStations for date 2019-06-13: ['CI.CCC.' 'CI.CLC.' 'CI.DTP.' 'CI.JRC2.' 'CI.LRL.' 'CI.MPM.' 'CI.SLA.'\n",
      " 'CI.SRT.' 'CI.TOW2.' 'CI.WBM.' 'CI.WCS2.' 'CI.WMF.' 'CI.WNM.' 'CI.WRC2.'\n",
      " 'CI.WRV2.' 'CI.WVP2.']\n"
     ]
    },
    {
     "name": "stderr",
     "output_type": "stream",
     "text": [
      " 12%|█▏        | 15/122 [00:01<00:11,  9.08it/s]"
     ]
    },
    {
     "name": "stdout",
     "output_type": "stream",
     "text": [
      "\tStations for date 2019-06-14: ['CI.CCC.' 'CI.CLC.' 'CI.DTP.' 'CI.JRC2.' 'CI.LRL.' 'CI.MPM.' 'CI.SLA.'\n",
      " 'CI.SRT.' 'CI.TOW2.' 'CI.WBM.' 'CI.WCS2.' 'CI.WMF.' 'CI.WNM.' 'CI.WRC2.'\n",
      " 'CI.WRV2.' 'CI.WVP2.']\n",
      "\tStations for date 2019-06-15: ['CI.CCC.' 'CI.CLC.' 'CI.DTP.' 'CI.JRC2.' 'CI.LRL.' 'CI.MPM.' 'CI.SLA.'\n",
      " 'CI.SRT.' 'CI.TOW2.' 'CI.WBM.' 'CI.WCS2.' 'CI.WMF.' 'CI.WNM.' 'CI.WRC2.'\n",
      " 'CI.WRV2.' 'CI.WVP2.']\n",
      "\tStations for date 2019-06-16: ['CI.CCC.' 'CI.CLC.' 'CI.DTP.' 'CI.JRC2.' 'CI.LRL.' 'CI.MPM.' 'CI.SLA.'\n",
      " 'CI.SRT.' 'CI.TOW2.' 'CI.WBM.' 'CI.WCS2.' 'CI.WMF.' 'CI.WNM.' 'CI.WRC2.'\n",
      " 'CI.WRV2.' 'CI.WVP2.']\n"
     ]
    },
    {
     "name": "stderr",
     "output_type": "stream",
     "text": [
      " 16%|█▋        | 20/122 [00:02<00:08, 12.57it/s]"
     ]
    },
    {
     "name": "stdout",
     "output_type": "stream",
     "text": [
      "\tStations for date 2019-06-17: ['CI.CCC.' 'CI.CLC.' 'CI.DTP.' 'CI.JRC2.' 'CI.LRL.' 'CI.MPM.' 'CI.SLA.'\n",
      " 'CI.SRT.' 'CI.TOW2.' 'CI.WBM.' 'CI.WCS2.' 'CI.WMF.' 'CI.WNM.' 'CI.WRC2.'\n",
      " 'CI.WRV2.' 'CI.WVP2.']\n",
      "\tStations for date 2019-06-18: ['CI.CCC.' 'CI.CLC.' 'CI.DTP.' 'CI.JRC2.' 'CI.LRL.' 'CI.MPM.' 'CI.SLA.'\n",
      " 'CI.SRT.' 'CI.TOW2.' 'CI.WBM.' 'CI.WCS2.' 'CI.WMF.' 'CI.WNM.' 'CI.WRC2.'\n",
      " 'CI.WRV2.' 'CI.WVP2.']\n",
      "\tStations for date 2019-06-19: ['CI.CCC.' 'CI.CLC.' 'CI.DTP.' 'CI.JRC2.' 'CI.LRL.' 'CI.MPM.' 'CI.SLA.'\n",
      " 'CI.SRT.' 'CI.TOW2.' 'CI.WBM.' 'CI.WCS2.' 'CI.WMF.' 'CI.WNM.' 'CI.WRC2.'\n",
      " 'CI.WRV2.' 'CI.WVP2.']\n",
      "\tStations for date 2019-06-20: ['CI.CCC.' 'CI.CLC.' 'CI.DTP.' 'CI.JRC2.' 'CI.LRL.' 'CI.MPM.' 'CI.SLA.'\n",
      " 'CI.SRT.' 'CI.TOW2.' 'CI.WBM.' 'CI.WCS2.' 'CI.WMF.' 'CI.WNM.' 'CI.WRC2.'\n",
      " 'CI.WRV2.' 'CI.WVP2.']\n",
      "\tStations for date 2019-06-21: ['CI.CCC.' 'CI.CLC.' 'CI.DTP.' 'CI.JRC2.' 'CI.LRL.' 'CI.MPM.' 'CI.SLA.'\n",
      " 'CI.SRT.' 'CI.TOW2.' 'CI.WBM.' 'CI.WCS2.' 'CI.WMF.' 'CI.WNM.' 'CI.WRC2.'\n",
      " 'CI.WRV2.' 'CI.WVP2.']\n",
      "\tStations for date 2019-06-22: ['CI.CCC.' 'CI.CLC.' 'CI.DTP.' 'CI.JRC2.' 'CI.LRL.' 'CI.MPM.' 'CI.SLA.'\n",
      " 'CI.SRT.' 'CI.TOW2.' 'CI.WBM.' 'CI.WCS2.' 'CI.WMF.' 'CI.WNM.' 'CI.WRC2.'\n",
      " 'CI.WRV2.' 'CI.WVP2.']\n"
     ]
    },
    {
     "name": "stderr",
     "output_type": "stream",
     "text": [
      " 20%|█▉        | 24/122 [00:02<00:06, 14.92it/s]"
     ]
    },
    {
     "name": "stdout",
     "output_type": "stream",
     "text": [
      "\tStations for date 2019-06-23: ['CI.CCC.' 'CI.CLC.' 'CI.DTP.' 'CI.JRC2.' 'CI.LRL.' 'CI.MPM.' 'CI.SLA.'\n",
      " 'CI.SRT.' 'CI.TOW2.' 'CI.WBM.' 'CI.WCS2.' 'CI.WMF.' 'CI.WNM.' 'CI.WRC2.'\n",
      " 'CI.WRV2.' 'CI.WVP2.']\n",
      "\tStations for date 2019-06-24: ['CI.CCC.' 'CI.CLC.' 'CI.DTP.' 'CI.JRC2.' 'CI.LRL.' 'CI.MPM.' 'CI.SLA.'\n",
      " 'CI.SRT.' 'CI.TOW2.' 'CI.WBM.' 'CI.WCS2.' 'CI.WMF.' 'CI.WNM.' 'CI.WRC2.'\n",
      " 'CI.WRV2.' 'CI.WVP2.']\n",
      "\tStations for date 2019-06-25: ['CI.CCC.' 'CI.CLC.' 'CI.DTP.' 'CI.JRC2.' 'CI.LRL.' 'CI.MPM.' 'CI.SLA.'\n",
      " 'CI.SRT.' 'CI.TOW2.' 'CI.WBM.' 'CI.WCS2.' 'CI.WMF.' 'CI.WNM.' 'CI.WRC2.'\n",
      " 'CI.WRV2.' 'CI.WVP2.']\n"
     ]
    },
    {
     "name": "stderr",
     "output_type": "stream",
     "text": [
      " 22%|██▏       | 27/122 [00:02<00:08, 10.69it/s]"
     ]
    },
    {
     "name": "stdout",
     "output_type": "stream",
     "text": [
      "\tStations for date 2019-06-26: ['CI.CCC.' 'CI.CLC.' 'CI.DTP.' 'CI.JRC2.' 'CI.LRL.' 'CI.MPM.' 'CI.SLA.'\n",
      " 'CI.SRT.' 'CI.TOW2.' 'CI.WBM.' 'CI.WCS2.' 'CI.WMF.' 'CI.WNM.' 'CI.WRC2.'\n",
      " 'CI.WRV2.' 'CI.WVP2.']\n",
      "\tStations for date 2019-06-27: ['CI.CCC.' 'CI.CLC.' 'CI.DTP.' 'CI.JRC2.' 'CI.LRL.' 'CI.MPM.' 'CI.SLA.'\n",
      " 'CI.SRT.' 'CI.TOW2.' 'CI.WBM.' 'CI.WCS2.' 'CI.WMF.' 'CI.WNM.' 'CI.WRC2.'\n",
      " 'CI.WRV2.' 'CI.WVP2.']\n",
      "\tStations for date 2019-06-28: ['CI.CCC.' 'CI.CLC.' 'CI.DTP.' 'CI.JRC2.' 'CI.LRL.' 'CI.MPM.' 'CI.SLA.'\n",
      " 'CI.SRT.' 'CI.TOW2.' 'CI.WBM.' 'CI.WCS2.' 'CI.WMF.' 'CI.WNM.' 'CI.WRC2.'\n",
      " 'CI.WRV2.' 'CI.WVP2.']\n"
     ]
    },
    {
     "name": "stderr",
     "output_type": "stream",
     "text": [
      " 24%|██▍       | 29/122 [00:02<00:09,  9.50it/s]"
     ]
    },
    {
     "name": "stdout",
     "output_type": "stream",
     "text": [
      "\tStations for date 2019-06-29: ['CI.CCC.' 'CI.CLC.' 'CI.DTP.' 'CI.JRC2.' 'CI.LRL.' 'CI.MPM.' 'CI.SLA.'\n",
      " 'CI.SRT.' 'CI.TOW2.' 'CI.WBM.' 'CI.WCS2.' 'CI.WMF.' 'CI.WNM.' 'CI.WRC2.'\n",
      " 'CI.WRV2.' 'CI.WVP2.']\n",
      "\tStations for date 2019-06-30: ['CI.CCC.' 'CI.CLC.' 'CI.DTP.' 'CI.JRC2.' 'CI.LRL.' 'CI.MPM.' 'CI.SLA.'\n",
      " 'CI.SRT.' 'CI.TOW2.' 'CI.WBM.' 'CI.WCS2.' 'CI.WMF.' 'CI.WNM.' 'CI.WRC2.'\n",
      " 'CI.WRV2.' 'CI.WVP2.']\n",
      "\tStations for date 2019-07-01: ['CI.CCC.' 'CI.CLC.' 'CI.DTP.' 'CI.JRC2.' 'CI.LRL.' 'CI.MPM.' 'CI.SLA.'\n",
      " 'CI.SRT.' 'CI.TOW2.' 'CI.WBM.' 'CI.WCS2.' 'CI.WMF.' 'CI.WNM.' 'CI.WRC2.'\n",
      " 'CI.WRV2.' 'CI.WVP2.']\n"
     ]
    },
    {
     "name": "stderr",
     "output_type": "stream",
     "text": [
      " 26%|██▌       | 32/122 [00:03<00:11,  8.05it/s]"
     ]
    },
    {
     "name": "stdout",
     "output_type": "stream",
     "text": [
      "\tStations for date 2019-07-02: ['CI.CCC.' 'CI.CLC.' 'CI.DTP.' 'CI.JRC2.' 'CI.LRL.' 'CI.MPM.' 'CI.SLA.'\n",
      " 'CI.SRT.' 'CI.TOW2.' 'CI.WBM.' 'CI.WCS2.' 'CI.WMF.' 'CI.WNM.' 'CI.WRC2.'\n",
      " 'CI.WRV2.' 'CI.WVP2.']\n",
      "\tStations for date 2019-07-03: ['CI.CCC.' 'CI.CLC.' 'CI.DTP.' 'CI.JRC2.' 'CI.LRL.' 'CI.MPM.' 'CI.SLA.'\n",
      " 'CI.SRT.' 'CI.TOW2.' 'CI.WBM.' 'CI.WCS2.' 'CI.WMF.' 'CI.WNM.' 'CI.WRC2.'\n",
      " 'CI.WRV2.' 'CI.WVP2.']\n",
      "\tStations for date 2019-07-04: ['CI.CCC.' 'CI.CLC.' 'CI.DTP.' 'CI.JRC2.' 'CI.LRL.' 'CI.MPM.' 'CI.SLA.'\n",
      " 'CI.SRT.' 'CI.TOW2.' 'CI.WBM.' 'CI.WCS2.' 'CI.WMF.' 'CI.WNM.' 'CI.WRC2.'\n",
      " 'CI.WRV2.' 'CI.WVP2.']\n"
     ]
    },
    {
     "name": "stderr",
     "output_type": "stream",
     "text": [
      " 28%|██▊       | 34/122 [00:07<01:02,  1.41it/s]"
     ]
    },
    {
     "name": "stdout",
     "output_type": "stream",
     "text": [
      "\tStations for date 2019-07-05: ['CI.CCC.' 'CI.CLC.' 'CI.DTP.' 'CI.JRC2.' 'CI.LRL.' 'CI.MPM.' 'CI.SLA.'\n",
      " 'CI.SRT.' 'CI.TOW2.' 'CI.WBM.' 'CI.WCS2.' 'CI.WMF.' 'CI.WNM.' 'CI.WRC2.'\n",
      " 'CI.WRV2.' 'CI.WVP2.']\n"
     ]
    },
    {
     "name": "stderr",
     "output_type": "stream",
     "text": [
      " 29%|██▊       | 35/122 [00:16<04:43,  3.26s/it]"
     ]
    },
    {
     "name": "stdout",
     "output_type": "stream",
     "text": [
      "\tStations for date 2019-07-06: ['CI.CCC.' 'CI.CLC.' 'CI.DTP.' 'CI.JRC2.' 'CI.LRL.' 'CI.MPM.' 'CI.SLA.'\n",
      " 'CI.SRT.' 'CI.TOW2.' 'CI.WBM.' 'CI.WCS2.' 'CI.WMF.' 'CI.WNM.' 'CI.WRC2.'\n",
      " 'CI.WRV2.' 'CI.WVP2.' 'NP.5419.']\n"
     ]
    },
    {
     "name": "stderr",
     "output_type": "stream",
     "text": [
      " 30%|██▉       | 36/122 [00:59<21:28, 14.98s/it]"
     ]
    },
    {
     "name": "stdout",
     "output_type": "stream",
     "text": [
      "\tStations for date 2019-07-07: ['CI.CCC.' 'CI.CLC.' 'CI.DTP.' 'CI.JRC2.' 'CI.LRL.' 'CI.MPM.' 'CI.SLA.'\n",
      " 'CI.SRT.' 'CI.TOW2.' 'CI.WBM.' 'CI.WCS2.' 'CI.WMF.' 'CI.WNM.' 'CI.WRC2.'\n",
      " 'CI.WRV2.' 'CI.WVP2.' 'GS.CA02.20' 'ZY.SV03.' 'ZY.SV05.']\n"
     ]
    },
    {
     "name": "stderr",
     "output_type": "stream",
     "text": [
      " 30%|███       | 37/122 [01:28<27:17, 19.27s/it]"
     ]
    },
    {
     "name": "stdout",
     "output_type": "stream",
     "text": [
      "\tStations for date 2019-07-08: ['CI.CCC.' 'CI.CLC.' 'CI.DTP.' 'CI.JRC2.' 'CI.LRL.' 'CI.MPM.' 'CI.SLA.'\n",
      " 'CI.SRT.' 'CI.TOW2.' 'CI.WBM.' 'CI.WCS2.' 'CI.WMF.' 'CI.WNM.' 'CI.WRC2.'\n",
      " 'CI.WRV2.' 'CI.WVP2.' 'GS.CA01.20' 'GS.CA02.20' 'ZY.SV03.' 'ZY.SV05.'\n",
      " 'ZY.SV07.']\n"
     ]
    },
    {
     "name": "stderr",
     "output_type": "stream",
     "text": [
      " 31%|███       | 38/122 [02:01<32:59, 23.57s/it]"
     ]
    },
    {
     "name": "stdout",
     "output_type": "stream",
     "text": [
      "\tStations for date 2019-07-09: ['CI.CCC.' 'CI.CLC.' 'CI.DTP.' 'CI.JRC2.' 'CI.LRL.' 'CI.MPM.' 'CI.SLA.'\n",
      " 'CI.SRT.' 'CI.TOW2.' 'CI.WBM.' 'CI.WCS2.' 'CI.WMF.' 'CI.WNM.' 'CI.WRC2.'\n",
      " 'CI.WRV2.' 'CI.WVP2.' 'GS.CA01.20' 'GS.CA02.20' 'GS.CA03.20' 'NP.5419.10'\n",
      " 'ZY.SV03.' 'ZY.SV05.' 'ZY.SV07.']\n"
     ]
    },
    {
     "name": "stderr",
     "output_type": "stream",
     "text": [
      " 32%|███▏      | 39/122 [02:17<29:14, 21.14s/it]"
     ]
    },
    {
     "name": "stdout",
     "output_type": "stream",
     "text": [
      "\tStations for date 2019-07-10: ['CI.CCC.' 'CI.CLC.' 'CI.DTP.' 'CI.JRC2.' 'CI.LRL.' 'CI.MPM.' 'CI.SLA.'\n",
      " 'CI.SRT.' 'CI.TOW2.' 'CI.WBM.' 'CI.WCS2.' 'CI.WMF.' 'CI.WNM.' 'CI.WRC2.'\n",
      " 'CI.WRV2.' 'CI.WVP2.' 'GS.CA01.20' 'GS.CA02.20' 'GS.CA03.20' 'GS.CA04.20'\n",
      " 'GS.CA05.20' 'NP.5419.10' 'ZY.SV01.' 'ZY.SV03.' 'ZY.SV05.' 'ZY.SV07.']\n"
     ]
    },
    {
     "name": "stderr",
     "output_type": "stream",
     "text": [
      " 33%|███▎      | 40/122 [02:35<27:31, 20.14s/it]"
     ]
    },
    {
     "name": "stdout",
     "output_type": "stream",
     "text": [
      "\tStations for date 2019-07-11: ['CI.CCC.' 'CI.DTP.' 'CI.JRC2.' 'CI.LRL.' 'CI.MPM.' 'CI.SLA.' 'CI.SRT.'\n",
      " 'CI.TOW2.' 'CI.WBM.' 'CI.WCS2.' 'CI.WMF.' 'CI.WNM.' 'CI.WRC2.' 'CI.WRV2.'\n",
      " 'CI.WVP2.' 'GS.CA01.20' 'GS.CA02.20' 'GS.CA03.20' 'GS.CA04.20'\n",
      " 'GS.CA05.20' 'GS.CA06.20' 'NP.5419.10' 'ZY.SV01.' 'ZY.SV03.' 'ZY.SV05.'\n",
      " 'ZY.SV06.' 'ZY.SV07.' 'ZY.SV08.']\n"
     ]
    },
    {
     "name": "stderr",
     "output_type": "stream",
     "text": [
      " 34%|███▎      | 41/122 [03:23<38:46, 28.72s/it]"
     ]
    },
    {
     "name": "stdout",
     "output_type": "stream",
     "text": [
      "\tStations for date 2019-07-12: ['CI.CCC.' 'CI.DTP.' 'CI.JRC2.' 'CI.LRL.' 'CI.MPM.' 'CI.SLA.' 'CI.SRT.'\n",
      " 'CI.TOW2.' 'CI.WBM.' 'CI.WCS2.' 'CI.WMF.' 'CI.WNM.' 'CI.WRC2.' 'CI.WRV2.'\n",
      " 'CI.WVP2.' 'GS.CA01.20' 'GS.CA02.20' 'GS.CA03.20' 'GS.CA04.20'\n",
      " 'GS.CA05.20' 'GS.CA06.20' 'GS.CA07.00' 'GS.CA08.00' 'NP.5419.10'\n",
      " 'ZY.SV01.' 'ZY.SV02.' 'ZY.SV03.' 'ZY.SV04.' 'ZY.SV05.' 'ZY.SV06.'\n",
      " 'ZY.SV07.' 'ZY.SV08.']\n"
     ]
    },
    {
     "name": "stderr",
     "output_type": "stream",
     "text": [
      " 34%|███▍      | 42/122 [04:19<49:12, 36.90s/it]"
     ]
    },
    {
     "name": "stdout",
     "output_type": "stream",
     "text": [
      "\tStations for date 2019-07-13: ['CI.CCC.' 'CI.DTP.' 'CI.JRC2.' 'CI.LRL.' 'CI.MPM.' 'CI.SLA.' 'CI.SRT.'\n",
      " 'CI.TOW2.' 'CI.WBM.' 'CI.WCS2.' 'CI.WMF.' 'CI.WNM.' 'CI.WRC2.' 'CI.WRV2.'\n",
      " 'CI.WVP2.' 'GS.CA01.20' 'GS.CA02.20' 'GS.CA03.20' 'GS.CA04.20'\n",
      " 'GS.CA05.20' 'GS.CA06.20' 'GS.CA07.00' 'GS.CA08.00' 'NP.5419.10'\n",
      " 'ZY.SV01.' 'ZY.SV02.' 'ZY.SV03.' 'ZY.SV04.' 'ZY.SV05.' 'ZY.SV06.'\n",
      " 'ZY.SV07.' 'ZY.SV08.']\n"
     ]
    },
    {
     "name": "stderr",
     "output_type": "stream",
     "text": [
      " 35%|███▌      | 43/122 [04:50<46:04, 35.00s/it]"
     ]
    },
    {
     "name": "stdout",
     "output_type": "stream",
     "text": [
      "\tStations for date 2019-07-14: ['CI.CCC.' 'CI.DTP.' 'CI.JRC2.' 'CI.LRL.' 'CI.MPM.' 'CI.SLA.' 'CI.SRT.'\n",
      " 'CI.TOW2.' 'CI.WBM.' 'CI.WCS2.' 'CI.WMF.' 'CI.WNM.' 'CI.WRC2.' 'CI.WRV2.'\n",
      " 'CI.WVP2.' 'GS.CA01.20' 'GS.CA02.20' 'GS.CA03.20' 'GS.CA04.20'\n",
      " 'GS.CA05.20' 'GS.CA06.20' 'GS.CA07.00' 'GS.CA08.00' 'NP.5419.10'\n",
      " 'ZY.SV01.' 'ZY.SV02.' 'ZY.SV03.' 'ZY.SV04.' 'ZY.SV05.' 'ZY.SV06.'\n",
      " 'ZY.SV07.' 'ZY.SV08.']\n"
     ]
    },
    {
     "name": "stderr",
     "output_type": "stream",
     "text": [
      " 36%|███▌      | 44/122 [05:15<41:35, 31.99s/it]"
     ]
    },
    {
     "name": "stdout",
     "output_type": "stream",
     "text": [
      "\tStations for date 2019-07-15: ['CI.CCC.' 'CI.DTP.' 'CI.JRC2.' 'CI.LRL.' 'CI.MPM.' 'CI.SLA.' 'CI.SRT.'\n",
      " 'CI.TOW2.' 'CI.WBM.' 'CI.WCS2.' 'CI.WMF.' 'CI.WNM.' 'CI.WRC2.' 'CI.WRV2.'\n",
      " 'CI.WVP2.' 'GS.CA01.20' 'GS.CA02.20' 'GS.CA03.20' 'GS.CA04.20'\n",
      " 'GS.CA05.20' 'GS.CA06.20' 'GS.CA07.00' 'GS.CA08.00' 'NP.5419.10'\n",
      " 'ZY.SV01.' 'ZY.SV05.' 'ZY.SV06.' 'ZY.SV07.' 'ZY.SV08.']\n"
     ]
    },
    {
     "name": "stderr",
     "output_type": "stream",
     "text": [
      " 37%|███▋      | 45/122 [05:39<37:55, 29.55s/it]"
     ]
    },
    {
     "name": "stdout",
     "output_type": "stream",
     "text": [
      "\tStations for date 2019-07-16: ['CI.CCC.' 'CI.CLC.' 'CI.DTP.' 'CI.JRC2.' 'CI.LRL.' 'CI.MPM.' 'CI.SLA.'\n",
      " 'CI.SRT.' 'CI.TOW2.' 'CI.WBM.' 'CI.WCS2.' 'CI.WMF.' 'CI.WNM.' 'CI.WRC2.'\n",
      " 'CI.WRV2.' 'CI.WVP2.' 'GS.CA01.20' 'GS.CA02.20' 'GS.CA03.20' 'GS.CA04.20'\n",
      " 'GS.CA05.20' 'GS.CA06.20' 'GS.CA07.00' 'GS.CA08.00' 'NP.5419.10'\n",
      " 'ZY.SV01.' 'ZY.SV05.' 'ZY.SV07.' 'ZY.SV08.']\n"
     ]
    },
    {
     "name": "stderr",
     "output_type": "stream",
     "text": [
      " 38%|███▊      | 46/122 [06:03<35:13, 27.80s/it]"
     ]
    },
    {
     "name": "stdout",
     "output_type": "stream",
     "text": [
      "\tStations for date 2019-07-17: ['CI.CCC.' 'CI.CLC.' 'CI.DTP.' 'CI.JRC2.' 'CI.LRL.' 'CI.MPM.' 'CI.SLA.'\n",
      " 'CI.SRT.' 'CI.TOW2.' 'CI.WBM.' 'CI.WCS2.' 'CI.WMF.' 'CI.WNM.' 'CI.WRC2.'\n",
      " 'CI.WRV2.' 'CI.WVP2.' 'GS.CA01.20' 'GS.CA02.20' 'GS.CA03.20' 'GS.CA04.20'\n",
      " 'GS.CA05.20' 'GS.CA06.20' 'GS.CA07.00' 'GS.CA08.00' 'GS.CA09.00'\n",
      " 'NP.5419.10' 'ZY.SV01.' 'ZY.SV05.' 'ZY.SV07.' 'ZY.SV08.']\n"
     ]
    },
    {
     "name": "stderr",
     "output_type": "stream",
     "text": [
      " 39%|███▊      | 47/122 [06:28<33:55, 27.14s/it]"
     ]
    },
    {
     "name": "stdout",
     "output_type": "stream",
     "text": [
      "\tStations for date 2019-07-18: ['CI.CCC.' 'CI.CLC.' 'CI.DTP.' 'CI.JRC2.' 'CI.LRL.' 'CI.MPM.' 'CI.SLA.'\n",
      " 'CI.SRT.' 'CI.TOW2.' 'CI.WBM.' 'CI.WCS2.' 'CI.WMF.' 'CI.WNM.' 'CI.WRC2.'\n",
      " 'CI.WRV2.' 'CI.WVP2.' 'GS.CA01.20' 'GS.CA02.20' 'GS.CA03.20' 'GS.CA04.20'\n",
      " 'GS.CA05.20' 'GS.CA06.20' 'GS.CA07.00' 'GS.CA08.00' 'GS.CA09.00'\n",
      " 'NP.5419.10' 'ZY.SV01.' 'ZY.SV05.' 'ZY.SV07.']\n"
     ]
    },
    {
     "name": "stderr",
     "output_type": "stream",
     "text": [
      " 39%|███▉      | 48/122 [06:49<31:16, 25.36s/it]"
     ]
    },
    {
     "name": "stdout",
     "output_type": "stream",
     "text": [
      "\tStations for date 2019-07-19: ['CI.CCC.' 'CI.CLC.' 'CI.DTP.' 'CI.JRC2.' 'CI.LRL.' 'CI.MPM.' 'CI.SLA.'\n",
      " 'CI.SRT.' 'CI.TOW2.' 'CI.WBM.' 'CI.WCS2.' 'CI.WMF.' 'CI.WNM.' 'CI.WRC2.'\n",
      " 'CI.WRV2.' 'CI.WVP2.' 'GS.CA01.20' 'GS.CA02.20' 'GS.CA03.20' 'GS.CA04.20'\n",
      " 'GS.CA05.20' 'GS.CA06.20' 'GS.CA07.00' 'GS.CA08.00' 'GS.CA09.00'\n",
      " 'NP.5419.10' 'ZY.SV02.' 'ZY.SV03.' 'ZY.SV04.' 'ZY.SV05.' 'ZY.SV07.']\n"
     ]
    },
    {
     "name": "stderr",
     "output_type": "stream",
     "text": [
      " 40%|████      | 49/122 [07:10<29:13, 24.03s/it]"
     ]
    },
    {
     "name": "stdout",
     "output_type": "stream",
     "text": [
      "\tStations for date 2019-07-20: ['CI.CCC.' 'CI.CLC.' 'CI.DTP.' 'CI.JRC2.' 'CI.LRL.' 'CI.MPM.' 'CI.SLA.'\n",
      " 'CI.SRT.' 'CI.TOW2.' 'CI.WBM.' 'CI.WCS2.' 'CI.WMF.' 'CI.WNM.' 'CI.WRC2.'\n",
      " 'CI.WRV2.' 'CI.WVP2.' 'GS.CA01.20' 'GS.CA02.20' 'GS.CA03.20' 'GS.CA04.20'\n",
      " 'GS.CA05.20' 'GS.CA06.20' 'GS.CA07.00' 'GS.CA08.00' 'GS.CA09.00'\n",
      " 'NP.5419.10' 'ZY.SV01.' 'ZY.SV02.' 'ZY.SV03.' 'ZY.SV04.' 'ZY.SV05.'\n",
      " 'ZY.SV06.' 'ZY.SV07.' 'ZY.SV08.']\n"
     ]
    },
    {
     "name": "stderr",
     "output_type": "stream",
     "text": [
      " 41%|████      | 50/122 [07:15<21:47, 18.16s/it]"
     ]
    },
    {
     "name": "stdout",
     "output_type": "stream",
     "text": [
      "\tStations for date 2019-07-21: ['CI.CCC.' 'CI.CLC.' 'CI.DTP.' 'CI.JRC2.' 'CI.LRL.' 'CI.MPM.' 'CI.SLA.'\n",
      " 'CI.SRT.' 'CI.TOW2.' 'CI.WBM.' 'CI.WCS2.' 'CI.WMF.' 'CI.WNM.' 'CI.WRC2.'\n",
      " 'CI.WRV2.' 'CI.WVP2.' 'GS.CA01.20' 'GS.CA02.20' 'GS.CA03.20' 'GS.CA04.20'\n",
      " 'GS.CA05.20' 'GS.CA06.20' 'GS.CA07.00' 'GS.CA08.00' 'GS.CA09.00'\n",
      " 'NP.5419.10' 'ZY.SV01.' 'ZY.SV02.' 'ZY.SV03.' 'ZY.SV04.' 'ZY.SV05.'\n",
      " 'ZY.SV06.' 'ZY.SV07.' 'ZY.SV08.']\n"
     ]
    },
    {
     "name": "stderr",
     "output_type": "stream",
     "text": [
      " 42%|████▏     | 51/122 [07:37<22:50, 19.30s/it]"
     ]
    },
    {
     "name": "stdout",
     "output_type": "stream",
     "text": [
      "\tStations for date 2019-07-22: ['CI.CCC.' 'CI.CLC.' 'CI.DTP.' 'CI.JRC2.' 'CI.LRL.' 'CI.MPM.' 'CI.SLA.'\n",
      " 'CI.SRT.' 'CI.TOW2.' 'CI.WBM.' 'CI.WCS2.' 'CI.WMF.' 'CI.WNM.' 'CI.WRC2.'\n",
      " 'CI.WRV2.' 'CI.WVP2.' 'GS.CA01.20' 'GS.CA02.20' 'GS.CA03.20' 'GS.CA04.20'\n",
      " 'GS.CA05.20' 'GS.CA06.20' 'GS.CA07.00' 'GS.CA08.00' 'GS.CA09.00'\n",
      " 'NP.5419.10' 'ZY.SV01.' 'ZY.SV02.' 'ZY.SV03.' 'ZY.SV04.' 'ZY.SV05.'\n",
      " 'ZY.SV06.' 'ZY.SV07.' 'ZY.SV08.']\n"
     ]
    },
    {
     "name": "stderr",
     "output_type": "stream",
     "text": [
      " 43%|████▎     | 52/122 [07:57<22:52, 19.60s/it]"
     ]
    },
    {
     "name": "stdout",
     "output_type": "stream",
     "text": [
      "\tStations for date 2019-07-23: ['CI.CCC.' 'CI.CLC.' 'CI.DTP.' 'CI.JRC2.' 'CI.LRL.' 'CI.MPM.' 'CI.SLA.'\n",
      " 'CI.SRT.' 'CI.TOW2.' 'CI.WBM.' 'CI.WCS2.' 'CI.WMF.' 'CI.WNM.' 'CI.WRC2.'\n",
      " 'CI.WRV2.' 'CI.WVP2.' 'GS.CA01.20' 'GS.CA02.20' 'GS.CA03.20' 'GS.CA04.20'\n",
      " 'GS.CA05.20' 'GS.CA06.20' 'GS.CA07.00' 'GS.CA08.00' 'GS.CA09.00'\n",
      " 'NP.5419.10' 'ZY.SV01.' 'ZY.SV02.' 'ZY.SV03.' 'ZY.SV04.' 'ZY.SV05.'\n",
      " 'ZY.SV06.' 'ZY.SV07.' 'ZY.SV08.']\n"
     ]
    },
    {
     "name": "stderr",
     "output_type": "stream",
     "text": [
      " 43%|████▎     | 53/122 [08:16<22:23, 19.48s/it]"
     ]
    },
    {
     "name": "stdout",
     "output_type": "stream",
     "text": [
      "\tStations for date 2019-07-24: ['CI.CCC.' 'CI.CLC.' 'CI.DTP.' 'CI.JRC2.' 'CI.LRL.' 'CI.MPM.' 'CI.SLA.'\n",
      " 'CI.SRT.' 'CI.TOW2.' 'CI.WBM.' 'CI.WCS2.' 'CI.WMF.' 'CI.WNM.' 'CI.WRC2.'\n",
      " 'CI.WRV2.' 'CI.WVP2.' 'GS.CA01.20' 'GS.CA02.20' 'GS.CA03.20' 'GS.CA04.20'\n",
      " 'GS.CA05.20' 'GS.CA06.20' 'GS.CA07.00' 'GS.CA08.00' 'GS.CA09.00'\n",
      " 'NP.5419.10' 'ZY.SV01.' 'ZY.SV02.' 'ZY.SV03.' 'ZY.SV04.' 'ZY.SV05.'\n",
      " 'ZY.SV06.' 'ZY.SV07.' 'ZY.SV08.']\n"
     ]
    },
    {
     "name": "stderr",
     "output_type": "stream",
     "text": [
      " 44%|████▍     | 54/122 [08:35<21:42, 19.16s/it]"
     ]
    },
    {
     "name": "stdout",
     "output_type": "stream",
     "text": [
      "\tStations for date 2019-07-25: ['CI.CCC.' 'CI.CLC.' 'CI.DTP.' 'CI.JRC2.' 'CI.LRL.' 'CI.MPM.' 'CI.SLA.'\n",
      " 'CI.SRT.' 'CI.TOW2.' 'CI.WBM.' 'CI.WCS2.' 'CI.WMF.' 'CI.WNM.' 'CI.WRC2.'\n",
      " 'CI.WRV2.' 'CI.WVP2.' 'GS.CA01.20' 'GS.CA02.20' 'GS.CA03.20' 'GS.CA04.20'\n",
      " 'GS.CA05.20' 'GS.CA06.20' 'GS.CA07.00' 'GS.CA08.00' 'GS.CA09.00'\n",
      " 'NP.5419.10' 'ZY.SV01.' 'ZY.SV06.' 'ZY.SV08.']\n"
     ]
    },
    {
     "name": "stderr",
     "output_type": "stream",
     "text": [
      " 45%|████▌     | 55/122 [08:49<19:45, 17.70s/it]"
     ]
    },
    {
     "name": "stdout",
     "output_type": "stream",
     "text": [
      "\tStations for date 2019-07-26: ['CI.CCC.' 'CI.CLC.' 'CI.DTP.' 'CI.JRC2.' 'CI.LRL.' 'CI.MPM.' 'CI.SLA.'\n",
      " 'CI.SRT.' 'CI.TOW2.' 'CI.WBM.' 'CI.WCS2.' 'CI.WMF.' 'CI.WNM.' 'CI.WRC2.'\n",
      " 'CI.WRV2.' 'CI.WVP2.' 'GS.CA01.20' 'GS.CA02.20' 'GS.CA03.20' 'GS.CA04.20'\n",
      " 'GS.CA05.20' 'GS.CA06.20' 'GS.CA07.00' 'GS.CA08.00' 'GS.CA09.00'\n",
      " 'NP.5419.10' 'ZY.SV01.' 'ZY.SV06.' 'ZY.SV08.']\n"
     ]
    },
    {
     "name": "stderr",
     "output_type": "stream",
     "text": [
      " 56%|█████▌    | 68/122 [11:04<06:53,  7.65s/it]"
     ]
    },
    {
     "name": "stdout",
     "output_type": "stream",
     "text": [
      "\tStations for date 2019-08-08: ['CI.CCC.' 'CI.CLC.' 'CI.DTP.' 'CI.JRC2.' 'CI.LRL.' 'CI.MPM.' 'CI.SLA.'\n",
      " 'CI.SRT.' 'CI.TOW2.' 'CI.WBM.' 'CI.WCS2.' 'CI.WMF.' 'CI.WNM.' 'CI.WRC2.'\n",
      " 'CI.WRV2.' 'CI.WVP2.' 'GS.CA01.20' 'GS.CA03.20' 'GS.CA05.20' 'GS.CA06.20'\n",
      " 'GS.CA07.00' 'GS.CA08.00' 'GS.CA09.00' 'GS.CA10.00' 'ZY.SV01.' 'ZY.SV06.'\n",
      " 'ZY.SV08.']\n"
     ]
    },
    {
     "name": "stderr",
     "output_type": "stream",
     "text": [
      " 57%|█████▋    | 69/122 [11:12<06:51,  7.77s/it]"
     ]
    },
    {
     "name": "stdout",
     "output_type": "stream",
     "text": [
      "\tStations for date 2019-08-09: ['CI.CCC.' 'CI.CLC.' 'CI.DTP.' 'CI.JRC2.' 'CI.LRL.' 'CI.MPM.' 'CI.SLA.'\n",
      " 'CI.SRT.' 'CI.TOW2.' 'CI.WBM.' 'CI.WCS2.' 'CI.WMF.' 'CI.WNM.' 'CI.WRC2.'\n",
      " 'CI.WRV2.' 'CI.WVP2.' 'GS.CA01.20' 'GS.CA03.20' 'GS.CA04.20' 'GS.CA05.20'\n",
      " 'GS.CA06.20' 'GS.CA07.00' 'GS.CA08.00' 'GS.CA09.00' 'GS.CA10.00'\n",
      " 'ZY.SV01.' 'ZY.SV06.' 'ZY.SV08.']\n"
     ]
    },
    {
     "name": "stderr",
     "output_type": "stream",
     "text": [
      " 57%|█████▋    | 70/122 [11:19<06:38,  7.66s/it]"
     ]
    },
    {
     "name": "stdout",
     "output_type": "stream",
     "text": [
      "\tStations for date 2019-08-10: ['CI.CCC.' 'CI.CLC.' 'CI.DTP.' 'CI.JRC2.' 'CI.LRL.' 'CI.MPM.' 'CI.SLA.'\n",
      " 'CI.SRT.' 'CI.TOW2.' 'CI.WBM.' 'CI.WCS2.' 'CI.WMF.' 'CI.WNM.' 'CI.WRC2.'\n",
      " 'CI.WRV2.' 'CI.WVP2.' 'GS.CA01.20' 'GS.CA03.20' 'GS.CA04.20' 'GS.CA05.20'\n",
      " 'GS.CA06.20' 'GS.CA07.00' 'GS.CA08.00' 'GS.CA09.00' 'GS.CA10.00'\n",
      " 'ZY.SV01.' 'ZY.SV03.' 'ZY.SV06.' 'ZY.SV08.']\n"
     ]
    },
    {
     "name": "stderr",
     "output_type": "stream",
     "text": [
      " 58%|█████▊    | 71/122 [11:27<06:34,  7.73s/it]"
     ]
    },
    {
     "name": "stdout",
     "output_type": "stream",
     "text": [
      "\tStations for date 2019-08-11: ['CI.CCC.' 'CI.CLC.' 'CI.DTP.' 'CI.JRC2.' 'CI.LRL.' 'CI.MPM.' 'CI.SLA.'\n",
      " 'CI.SRT.' 'CI.TOW2.' 'CI.WBM.' 'CI.WCS2.' 'CI.WMF.' 'CI.WNM.' 'CI.WRC2.'\n",
      " 'CI.WRV2.' 'CI.WVP2.' 'GS.CA01.20' 'GS.CA03.20' 'GS.CA04.20' 'GS.CA05.20'\n",
      " 'GS.CA06.20' 'GS.CA07.00' 'GS.CA08.00' 'GS.CA09.00' 'GS.CA10.00'\n",
      " 'ZY.SV01.' 'ZY.SV03.' 'ZY.SV04.' 'ZY.SV05.' 'ZY.SV06.' 'ZY.SV08.']\n"
     ]
    },
    {
     "name": "stderr",
     "output_type": "stream",
     "text": [
      " 59%|█████▉    | 72/122 [11:37<06:54,  8.29s/it]"
     ]
    },
    {
     "name": "stdout",
     "output_type": "stream",
     "text": [
      "\tStations for date 2019-08-12: ['CI.CCC.' 'CI.CLC.' 'CI.DTP.' 'CI.JRC2.' 'CI.LRL.' 'CI.MPM.' 'CI.SLA.'\n",
      " 'CI.SRT.' 'CI.TOW2.' 'CI.WBM.' 'CI.WCS2.' 'CI.WMF.' 'CI.WNM.' 'CI.WRC2.'\n",
      " 'CI.WRV2.' 'CI.WVP2.' 'GS.CA01.20' 'GS.CA03.20' 'GS.CA05.20' 'GS.CA06.20'\n",
      " 'GS.CA07.00' 'GS.CA08.00' 'GS.CA09.00' 'GS.CA10.00' 'ZY.SV01.' 'ZY.SV02.'\n",
      " 'ZY.SV03.' 'ZY.SV04.' 'ZY.SV05.' 'ZY.SV06.' 'ZY.SV07.' 'ZY.SV08.']\n"
     ]
    },
    {
     "name": "stderr",
     "output_type": "stream",
     "text": [
      " 60%|█████▉    | 73/122 [11:49<07:39,  9.38s/it]"
     ]
    },
    {
     "name": "stdout",
     "output_type": "stream",
     "text": [
      "\tStations for date 2019-08-13: ['CI.CCC.' 'CI.CLC.' 'CI.DTP.' 'CI.JRC2.' 'CI.LRL.' 'CI.MPM.' 'CI.SLA.'\n",
      " 'CI.SRT.' 'CI.TOW2.' 'CI.WBM.' 'CI.WCS2.' 'CI.WMF.' 'CI.WNM.' 'CI.WRC2.'\n",
      " 'CI.WRV2.' 'CI.WVP2.' 'GS.CA01.20' 'GS.CA03.20' 'GS.CA05.20' 'GS.CA06.20'\n",
      " 'GS.CA07.00' 'GS.CA08.00' 'GS.CA09.00' 'GS.CA10.00' 'ZY.SV01.' 'ZY.SV02.'\n",
      " 'ZY.SV03.' 'ZY.SV04.' 'ZY.SV05.' 'ZY.SV06.' 'ZY.SV07.' 'ZY.SV08.']\n"
     ]
    },
    {
     "name": "stderr",
     "output_type": "stream",
     "text": [
      " 61%|██████    | 74/122 [11:58<07:32,  9.44s/it]"
     ]
    },
    {
     "name": "stdout",
     "output_type": "stream",
     "text": [
      "\tStations for date 2019-08-14: ['CI.CCC.' 'CI.CLC.' 'CI.DTP.' 'CI.JRC2.' 'CI.LRL.' 'CI.MPM.' 'CI.SLA.'\n",
      " 'CI.SRT.' 'CI.TOW2.' 'CI.WBM.' 'CI.WCS2.' 'CI.WMF.' 'CI.WNM.' 'CI.WRC2.'\n",
      " 'CI.WRV2.' 'CI.WVP2.' 'GS.CA01.20' 'GS.CA03.20' 'GS.CA05.20' 'GS.CA06.20'\n",
      " 'GS.CA07.00' 'GS.CA08.00' 'GS.CA09.00' 'GS.CA10.00' 'ZY.SV01.' 'ZY.SV02.'\n",
      " 'ZY.SV03.' 'ZY.SV04.' 'ZY.SV05.' 'ZY.SV06.' 'ZY.SV07.' 'ZY.SV08.']\n"
     ]
    },
    {
     "name": "stderr",
     "output_type": "stream",
     "text": [
      " 61%|██████▏   | 75/122 [12:08<07:31,  9.60s/it]"
     ]
    },
    {
     "name": "stdout",
     "output_type": "stream",
     "text": [
      "\tStations for date 2019-08-15: ['CI.CCC.' 'CI.CLC.' 'CI.DTP.' 'CI.JRC2.' 'CI.LRL.' 'CI.MPM.' 'CI.SLA.'\n",
      " 'CI.SRT.' 'CI.TOW2.' 'CI.WBM.' 'CI.WCS2.' 'CI.WMF.' 'CI.WNM.' 'CI.WRC2.'\n",
      " 'CI.WRV2.' 'CI.WVP2.' 'GS.CA01.20' 'GS.CA03.20' 'GS.CA04.20' 'GS.CA05.20'\n",
      " 'GS.CA06.20' 'GS.CA07.00' 'GS.CA08.00' 'GS.CA09.00' 'GS.CA10.00'\n",
      " 'ZY.SV01.' 'ZY.SV02.' 'ZY.SV03.' 'ZY.SV04.' 'ZY.SV05.' 'ZY.SV06.'\n",
      " 'ZY.SV07.' 'ZY.SV08.']\n"
     ]
    },
    {
     "name": "stderr",
     "output_type": "stream",
     "text": [
      " 62%|██████▏   | 76/122 [12:18<07:16,  9.49s/it]"
     ]
    },
    {
     "name": "stdout",
     "output_type": "stream",
     "text": [
      "\tStations for date 2019-08-16: ['CI.CCC.' 'CI.CLC.' 'CI.DTP.' 'CI.JRC2.' 'CI.LRL.' 'CI.MPM.' 'CI.SLA.'\n",
      " 'CI.SRT.' 'CI.TOW2.' 'CI.WBM.' 'CI.WCS2.' 'CI.WMF.' 'CI.WNM.' 'CI.WRC2.'\n",
      " 'CI.WRV2.' 'CI.WVP2.' 'GS.CA01.20' 'GS.CA03.20' 'GS.CA04.20' 'GS.CA05.20'\n",
      " 'GS.CA06.20' 'GS.CA07.00' 'GS.CA08.00' 'GS.CA09.00' 'GS.CA10.00'\n",
      " 'ZY.SV01.' 'ZY.SV02.' 'ZY.SV03.' 'ZY.SV04.' 'ZY.SV06.' 'ZY.SV07.'\n",
      " 'ZY.SV08.']\n"
     ]
    },
    {
     "name": "stderr",
     "output_type": "stream",
     "text": [
      " 63%|██████▎   | 77/122 [12:26<06:52,  9.16s/it]"
     ]
    },
    {
     "name": "stdout",
     "output_type": "stream",
     "text": [
      "\tStations for date 2019-08-17: ['CI.CCC.' 'CI.CLC.' 'CI.DTP.' 'CI.JRC2.' 'CI.LRL.' 'CI.MPM.' 'CI.SLA.'\n",
      " 'CI.SRT.' 'CI.TOW2.' 'CI.WBM.' 'CI.WCS2.' 'CI.WMF.' 'CI.WNM.' 'CI.WRC2.'\n",
      " 'CI.WRV2.' 'CI.WVP2.' 'GS.CA01.20' 'GS.CA03.20' 'GS.CA04.20' 'GS.CA05.20'\n",
      " 'GS.CA06.20' 'GS.CA07.00' 'GS.CA08.00' 'GS.CA09.00' 'GS.CA10.00'\n",
      " 'ZY.SV01.' 'ZY.SV02.' 'ZY.SV03.' 'ZY.SV04.' 'ZY.SV06.' 'ZY.SV07.'\n",
      " 'ZY.SV08.']\n"
     ]
    },
    {
     "name": "stderr",
     "output_type": "stream",
     "text": [
      " 64%|██████▍   | 78/122 [12:35<06:42,  9.14s/it]"
     ]
    },
    {
     "name": "stdout",
     "output_type": "stream",
     "text": [
      "\tStations for date 2019-08-18: ['CI.CCC.' 'CI.CLC.' 'CI.DTP.' 'CI.JRC2.' 'CI.LRL.' 'CI.MPM.' 'CI.SLA.'\n",
      " 'CI.SRT.' 'CI.TOW2.' 'CI.WBM.' 'CI.WCS2.' 'CI.WMF.' 'CI.WNM.' 'CI.WRC2.'\n",
      " 'CI.WRV2.' 'CI.WVP2.' 'GS.CA01.20' 'GS.CA03.20' 'GS.CA04.20' 'GS.CA05.20'\n",
      " 'GS.CA06.20' 'GS.CA07.00' 'GS.CA08.00' 'GS.CA09.00' 'GS.CA10.00'\n",
      " 'ZY.SV01.' 'ZY.SV02.' 'ZY.SV03.' 'ZY.SV04.' 'ZY.SV06.' 'ZY.SV08.']\n"
     ]
    },
    {
     "name": "stderr",
     "output_type": "stream",
     "text": [
      " 65%|██████▍   | 79/122 [12:43<06:14,  8.70s/it]"
     ]
    },
    {
     "name": "stdout",
     "output_type": "stream",
     "text": [
      "\tStations for date 2019-08-19: ['CI.CCC.' 'CI.CLC.' 'CI.DTP.' 'CI.JRC2.' 'CI.LRL.' 'CI.MPM.' 'CI.SLA.'\n",
      " 'CI.SRT.' 'CI.TOW2.' 'CI.WBM.' 'CI.WCS2.' 'CI.WMF.' 'CI.WNM.' 'CI.WRC2.'\n",
      " 'CI.WRV2.' 'CI.WVP2.' 'GS.CA01.20' 'GS.CA03.20' 'GS.CA04.20' 'GS.CA05.20'\n",
      " 'GS.CA06.20' 'GS.CA07.00' 'GS.CA08.00' 'GS.CA09.00' 'GS.CA10.00'\n",
      " 'ZY.SV01.' 'ZY.SV02.' 'ZY.SV03.' 'ZY.SV04.' 'ZY.SV06.' 'ZY.SV08.']\n"
     ]
    },
    {
     "name": "stderr",
     "output_type": "stream",
     "text": [
      " 66%|██████▌   | 80/122 [12:51<06:02,  8.62s/it]"
     ]
    },
    {
     "name": "stdout",
     "output_type": "stream",
     "text": [
      "\tStations for date 2019-08-20: ['CI.CCC.' 'CI.CLC.' 'CI.DTP.' 'CI.JRC2.' 'CI.LRL.' 'CI.MPM.' 'CI.SLA.'\n",
      " 'CI.SRT.' 'CI.TOW2.' 'CI.WBM.' 'CI.WCS2.' 'CI.WMF.' 'CI.WNM.' 'CI.WRC2.'\n",
      " 'CI.WRV2.' 'CI.WVP2.' 'GS.CA01.20' 'GS.CA03.20' 'GS.CA04.20' 'GS.CA05.20'\n",
      " 'GS.CA06.20' 'GS.CA07.00' 'GS.CA08.00' 'GS.CA09.00' 'GS.CA10.00'\n",
      " 'ZY.SV01.' 'ZY.SV02.' 'ZY.SV03.' 'ZY.SV04.' 'ZY.SV06.' 'ZY.SV08.']\n"
     ]
    },
    {
     "name": "stderr",
     "output_type": "stream",
     "text": [
      " 66%|██████▋   | 81/122 [12:59<05:46,  8.45s/it]"
     ]
    },
    {
     "name": "stdout",
     "output_type": "stream",
     "text": [
      "\tStations for date 2019-08-21: ['CI.CCC.' 'CI.CLC.' 'CI.DTP.' 'CI.JRC2.' 'CI.LRL.' 'CI.MPM.' 'CI.SLA.'\n",
      " 'CI.SRT.' 'CI.TOW2.' 'CI.WBM.' 'CI.WCS2.' 'CI.WMF.' 'CI.WNM.' 'CI.WRC2.'\n",
      " 'CI.WRV2.' 'CI.WVP2.' 'GS.CA01.20' 'GS.CA03.20' 'GS.CA04.20' 'GS.CA05.20'\n",
      " 'GS.CA06.20' 'GS.CA07.00' 'GS.CA08.00' 'GS.CA09.00' 'GS.CA10.00'\n",
      " 'ZY.SV01.' 'ZY.SV02.' 'ZY.SV03.' 'ZY.SV04.' 'ZY.SV06.' 'ZY.SV08.']\n"
     ]
    },
    {
     "name": "stderr",
     "output_type": "stream",
     "text": [
      " 67%|██████▋   | 82/122 [13:08<05:43,  8.58s/it]"
     ]
    },
    {
     "name": "stdout",
     "output_type": "stream",
     "text": [
      "\tStations for date 2019-08-22: ['CI.CCC.' 'CI.CLC.' 'CI.DTP.' 'CI.JRC2.' 'CI.LRL.' 'CI.MPM.' 'CI.SLA.'\n",
      " 'CI.SRT.' 'CI.TOW2.' 'CI.WBM.' 'CI.WCS2.' 'CI.WMF.' 'CI.WNM.' 'CI.WRC2.'\n",
      " 'CI.WRV2.' 'CI.WVP2.' 'GS.CA01.20' 'GS.CA03.20' 'GS.CA04.20' 'GS.CA05.20'\n",
      " 'GS.CA06.20' 'GS.CA07.00' 'GS.CA08.00' 'GS.CA09.00' 'GS.CA10.00'\n",
      " 'ZY.SV01.' 'ZY.SV02.' 'ZY.SV03.' 'ZY.SV04.' 'ZY.SV06.' 'ZY.SV08.']\n"
     ]
    },
    {
     "name": "stderr",
     "output_type": "stream",
     "text": [
      " 68%|██████▊   | 83/122 [13:20<06:09,  9.47s/it]"
     ]
    },
    {
     "name": "stdout",
     "output_type": "stream",
     "text": [
      "\tStations for date 2019-08-23: ['CI.CCC.' 'CI.CLC.' 'CI.DTP.' 'CI.JRC2.' 'CI.LRL.' 'CI.MPM.' 'CI.SLA.'\n",
      " 'CI.SRT.' 'CI.TOW2.' 'CI.WBM.' 'CI.WCS2.' 'CI.WMF.' 'CI.WNM.' 'CI.WRC2.'\n",
      " 'CI.WRV2.' 'CI.WVP2.' 'GS.CA01.20' 'GS.CA03.20' 'GS.CA04.20' 'GS.CA05.20'\n",
      " 'GS.CA06.20' 'GS.CA07.00' 'GS.CA08.00' 'GS.CA09.00' 'GS.CA10.00'\n",
      " 'ZY.SV01.' 'ZY.SV02.' 'ZY.SV03.' 'ZY.SV04.' 'ZY.SV06.' 'ZY.SV08.']\n"
     ]
    },
    {
     "name": "stderr",
     "output_type": "stream",
     "text": [
      " 69%|██████▉   | 84/122 [13:34<06:53, 10.87s/it]"
     ]
    },
    {
     "name": "stdout",
     "output_type": "stream",
     "text": [
      "\tStations for date 2019-08-24: ['CI.CCC.' 'CI.CLC.' 'CI.DTP.' 'CI.JRC2.' 'CI.LRL.' 'CI.MPM.' 'CI.SLA.'\n",
      " 'CI.SRT.' 'CI.TOW2.' 'CI.WBM.' 'CI.WCS2.' 'CI.WMF.' 'CI.WNM.' 'CI.WRC2.'\n",
      " 'CI.WRV2.' 'CI.WVP2.' 'GS.CA01.20' 'GS.CA03.20' 'GS.CA04.20' 'GS.CA05.20'\n",
      " 'GS.CA06.20' 'GS.CA07.00' 'GS.CA08.00' 'GS.CA09.00' 'GS.CA10.00'\n",
      " 'ZY.SV01.' 'ZY.SV02.' 'ZY.SV03.' 'ZY.SV04.' 'ZY.SV06.' 'ZY.SV08.']\n"
     ]
    },
    {
     "name": "stderr",
     "output_type": "stream",
     "text": [
      " 70%|██████▉   | 85/122 [13:44<06:34, 10.65s/it]"
     ]
    },
    {
     "name": "stdout",
     "output_type": "stream",
     "text": [
      "\tStations for date 2019-08-25: ['CI.CCC.' 'CI.CLC.' 'CI.DTP.' 'CI.JRC2.' 'CI.LRL.' 'CI.MPM.' 'CI.SLA.'\n",
      " 'CI.SRT.' 'CI.TOW2.' 'CI.WBM.' 'CI.WCS2.' 'CI.WMF.' 'CI.WNM.' 'CI.WRC2.'\n",
      " 'CI.WRV2.' 'CI.WVP2.' 'GS.CA01.20' 'GS.CA03.20' 'GS.CA04.20' 'GS.CA05.20'\n",
      " 'GS.CA06.20' 'GS.CA07.00' 'GS.CA08.00' 'GS.CA09.00' 'GS.CA10.00'\n",
      " 'ZY.SV01.' 'ZY.SV02.' 'ZY.SV03.' 'ZY.SV04.' 'ZY.SV06.' 'ZY.SV08.']\n"
     ]
    },
    {
     "name": "stderr",
     "output_type": "stream",
     "text": [
      " 70%|███████   | 86/122 [13:53<06:07, 10.22s/it]"
     ]
    },
    {
     "name": "stdout",
     "output_type": "stream",
     "text": [
      "\tStations for date 2019-08-26: ['CI.CCC.' 'CI.CLC.' 'CI.DTP.' 'CI.JRC2.' 'CI.LRL.' 'CI.MPM.' 'CI.SLA.'\n",
      " 'CI.SRT.' 'CI.TOW2.' 'CI.WBM.' 'CI.WCS2.' 'CI.WMF.' 'CI.WNM.' 'CI.WRC2.'\n",
      " 'CI.WRV2.' 'CI.WVP2.' 'GS.CA01.20' 'GS.CA03.20' 'GS.CA04.20' 'GS.CA05.20'\n",
      " 'GS.CA06.20' 'GS.CA07.00' 'GS.CA08.00' 'GS.CA09.00' 'GS.CA10.00'\n",
      " 'ZY.SV01.' 'ZY.SV02.' 'ZY.SV03.' 'ZY.SV04.' 'ZY.SV06.' 'ZY.SV08.']\n"
     ]
    },
    {
     "name": "stderr",
     "output_type": "stream",
     "text": [
      " 71%|███████▏  | 87/122 [14:02<05:45,  9.88s/it]"
     ]
    },
    {
     "name": "stdout",
     "output_type": "stream",
     "text": [
      "\tStations for date 2019-08-27: ['CI.CCC.' 'CI.CLC.' 'CI.DTP.' 'CI.JRC2.' 'CI.LRL.' 'CI.MPM.' 'CI.SLA.'\n",
      " 'CI.SRT.' 'CI.TOW2.' 'CI.WBM.' 'CI.WCS2.' 'CI.WMF.' 'CI.WNM.' 'CI.WRC2.'\n",
      " 'CI.WRV2.' 'CI.WVP2.' 'GS.CA01.20' 'GS.CA03.20' 'GS.CA05.20' 'GS.CA06.20'\n",
      " 'GS.CA07.00' 'GS.CA08.00' 'GS.CA09.00' 'GS.CA10.00' 'ZY.SV01.' 'ZY.SV02.'\n",
      " 'ZY.SV03.' 'ZY.SV04.' 'ZY.SV06.' 'ZY.SV08.']\n"
     ]
    },
    {
     "name": "stderr",
     "output_type": "stream",
     "text": [
      " 72%|███████▏  | 88/122 [14:11<05:20,  9.42s/it]"
     ]
    },
    {
     "name": "stdout",
     "output_type": "stream",
     "text": [
      "\tStations for date 2019-08-28: ['CI.CCC.' 'CI.CLC.' 'CI.DTP.' 'CI.JRC2.' 'CI.LRL.' 'CI.MPM.' 'CI.SLA.'\n",
      " 'CI.SRT.' 'CI.TOW2.' 'CI.WBM.' 'CI.WCS2.' 'CI.WMF.' 'CI.WNM.' 'CI.WRC2.'\n",
      " 'CI.WRV2.' 'CI.WVP2.' 'GS.CA01.20' 'GS.CA03.20' 'GS.CA05.20' 'GS.CA06.20'\n",
      " 'GS.CA07.00' 'GS.CA08.00' 'GS.CA09.00' 'GS.CA10.00' 'ZY.SV01.' 'ZY.SV02.'\n",
      " 'ZY.SV03.' 'ZY.SV04.' 'ZY.SV06.' 'ZY.SV08.']\n"
     ]
    },
    {
     "name": "stderr",
     "output_type": "stream",
     "text": [
      " 73%|███████▎  | 89/122 [14:18<04:56,  8.99s/it]"
     ]
    },
    {
     "name": "stdout",
     "output_type": "stream",
     "text": [
      "\tStations for date 2019-08-29: ['CI.CCC.' 'CI.CLC.' 'CI.DTP.' 'CI.JRC2.' 'CI.LRL.' 'CI.MPM.' 'CI.SLA.'\n",
      " 'CI.SRT.' 'CI.TOW2.' 'CI.WBM.' 'CI.WCS2.' 'CI.WMF.' 'CI.WNM.' 'CI.WRC2.'\n",
      " 'CI.WRV2.' 'CI.WVP2.' 'GS.CA01.20' 'GS.CA03.20' 'GS.CA05.20' 'GS.CA06.20'\n",
      " 'GS.CA07.00' 'GS.CA08.00' 'GS.CA09.00' 'GS.CA10.00' 'ZY.SV01.' 'ZY.SV02.'\n",
      " 'ZY.SV03.' 'ZY.SV04.' 'ZY.SV06.' 'ZY.SV08.']\n"
     ]
    },
    {
     "name": "stderr",
     "output_type": "stream",
     "text": [
      " 74%|███████▍  | 90/122 [14:25<04:23,  8.24s/it]"
     ]
    },
    {
     "name": "stdout",
     "output_type": "stream",
     "text": [
      "\tStations for date 2019-08-30: ['CI.CCC.' 'CI.CLC.' 'CI.DTP.' 'CI.JRC2.' 'CI.LRL.' 'CI.MPM.' 'CI.SLA.'\n",
      " 'CI.SRT.' 'CI.TOW2.' 'CI.WBM.' 'CI.WCS2.' 'CI.WMF.' 'CI.WNM.' 'CI.WRC2.'\n",
      " 'CI.WRV2.' 'CI.WVP2.' 'GS.CA01.20' 'GS.CA03.20' 'GS.CA04.20' 'GS.CA05.20'\n",
      " 'GS.CA06.20' 'GS.CA07.00' 'GS.CA08.00' 'GS.CA09.00' 'GS.CA10.00'\n",
      " 'ZY.SV01.' 'ZY.SV02.' 'ZY.SV03.' 'ZY.SV04.' 'ZY.SV06.' 'ZY.SV08.']\n"
     ]
    },
    {
     "name": "stderr",
     "output_type": "stream",
     "text": [
      " 75%|███████▍  | 91/122 [14:32<04:02,  7.81s/it]"
     ]
    },
    {
     "name": "stdout",
     "output_type": "stream",
     "text": [
      "\tStations for date 2019-08-31: ['CI.CCC.' 'CI.CLC.' 'CI.DTP.' 'CI.JRC2.' 'CI.LRL.' 'CI.MPM.' 'CI.SLA.'\n",
      " 'CI.SRT.' 'CI.TOW2.' 'CI.WBM.' 'CI.WCS2.' 'CI.WMF.' 'CI.WNM.' 'CI.WRC2.'\n",
      " 'CI.WRV2.' 'CI.WVP2.' 'GS.CA01.20' 'GS.CA03.20' 'GS.CA04.20' 'GS.CA05.20'\n",
      " 'GS.CA06.20' 'GS.CA07.00' 'GS.CA08.00' 'GS.CA09.00' 'GS.CA10.00'\n",
      " 'ZY.SV01.' 'ZY.SV02.' 'ZY.SV03.' 'ZY.SV04.' 'ZY.SV06.' 'ZY.SV08.']\n"
     ]
    },
    {
     "name": "stderr",
     "output_type": "stream",
     "text": [
      " 75%|███████▌  | 92/122 [14:40<03:55,  7.83s/it]"
     ]
    },
    {
     "name": "stdout",
     "output_type": "stream",
     "text": [
      "\tStations for date 2019-09-01: ['CI.CCC.' 'CI.CLC.' 'CI.DTP.' 'CI.JRC2.' 'CI.LRL.' 'CI.MPM.' 'CI.SLA.'\n",
      " 'CI.SRT.' 'CI.TOW2.' 'CI.WBM.' 'CI.WCS2.' 'CI.WMF.' 'CI.WNM.' 'CI.WRC2.'\n",
      " 'CI.WRV2.' 'CI.WVP2.' 'GS.CA01.20' 'GS.CA03.20' 'GS.CA05.20' 'GS.CA06.20'\n",
      " 'GS.CA07.00' 'GS.CA08.00' 'GS.CA09.00' 'GS.CA10.00' 'ZY.SV01.' 'ZY.SV02.'\n",
      " 'ZY.SV03.' 'ZY.SV04.' 'ZY.SV06.' 'ZY.SV08.']\n"
     ]
    },
    {
     "name": "stderr",
     "output_type": "stream",
     "text": [
      " 76%|███████▌  | 93/122 [14:48<03:51,  7.99s/it]"
     ]
    },
    {
     "name": "stdout",
     "output_type": "stream",
     "text": [
      "\tStations for date 2019-09-02: ['CI.CCC.' 'CI.CLC.' 'CI.DTP.' 'CI.JRC2.' 'CI.LRL.' 'CI.MPM.' 'CI.SLA.'\n",
      " 'CI.SRT.' 'CI.TOW2.' 'CI.WBM.' 'CI.WCS2.' 'CI.WMF.' 'CI.WNM.' 'CI.WRC2.'\n",
      " 'CI.WRV2.' 'CI.WVP2.' 'GS.CA01.20' 'GS.CA03.20' 'GS.CA04.20' 'GS.CA05.20'\n",
      " 'GS.CA06.20' 'GS.CA07.00' 'GS.CA08.00' 'GS.CA09.00' 'GS.CA10.00'\n",
      " 'ZY.SV01.' 'ZY.SV02.' 'ZY.SV03.' 'ZY.SV04.' 'ZY.SV06.' 'ZY.SV08.']\n"
     ]
    },
    {
     "name": "stderr",
     "output_type": "stream",
     "text": [
      " 77%|███████▋  | 94/122 [14:56<03:42,  7.93s/it]"
     ]
    },
    {
     "name": "stdout",
     "output_type": "stream",
     "text": [
      "\tStations for date 2019-09-03: ['CI.CCC.' 'CI.CLC.' 'CI.DTP.' 'CI.JRC2.' 'CI.LRL.' 'CI.MPM.' 'CI.SLA.'\n",
      " 'CI.SRT.' 'CI.TOW2.' 'CI.WBM.' 'CI.WCS2.' 'CI.WMF.' 'CI.WNM.' 'CI.WRC2.'\n",
      " 'CI.WRV2.' 'CI.WVP2.' 'GS.CA01.20' 'GS.CA03.20' 'GS.CA04.20' 'GS.CA05.20'\n",
      " 'GS.CA06.20' 'GS.CA07.00' 'GS.CA08.00' 'GS.CA09.00' 'GS.CA10.00'\n",
      " 'ZY.SV01.' 'ZY.SV02.' 'ZY.SV03.' 'ZY.SV04.' 'ZY.SV05.' 'ZY.SV06.'\n",
      " 'ZY.SV08.']\n"
     ]
    },
    {
     "name": "stderr",
     "output_type": "stream",
     "text": [
      " 78%|███████▊  | 95/122 [15:03<03:27,  7.70s/it]"
     ]
    },
    {
     "name": "stdout",
     "output_type": "stream",
     "text": [
      "\tStations for date 2019-09-04: ['CI.CCC.' 'CI.CLC.' 'CI.DTP.' 'CI.JRC2.' 'CI.LRL.' 'CI.MPM.' 'CI.SLA.'\n",
      " 'CI.SRT.' 'CI.TOW2.' 'CI.WBM.' 'CI.WCS2.' 'CI.WMF.' 'CI.WNM.' 'CI.WRC2.'\n",
      " 'CI.WRV2.' 'CI.WVP2.' 'GS.CA01.20' 'GS.CA03.20' 'GS.CA05.20' 'GS.CA06.20'\n",
      " 'GS.CA07.00' 'GS.CA08.00' 'GS.CA09.00' 'GS.CA10.00' 'ZY.SV01.' 'ZY.SV02.'\n",
      " 'ZY.SV03.' 'ZY.SV04.' 'ZY.SV05.' 'ZY.SV06.' 'ZY.SV08.']\n"
     ]
    },
    {
     "name": "stderr",
     "output_type": "stream",
     "text": [
      " 79%|███████▊  | 96/122 [15:08<03:02,  7.00s/it]"
     ]
    },
    {
     "name": "stdout",
     "output_type": "stream",
     "text": [
      "\tStations for date 2019-09-05: ['CI.CCC.' 'CI.CLC.' 'CI.DTP.' 'CI.JRC2.' 'CI.LRL.' 'CI.MPM.' 'CI.SLA.'\n",
      " 'CI.SRT.' 'CI.TOW2.' 'CI.WBM.' 'CI.WCS2.' 'CI.WMF.' 'CI.WNM.' 'CI.WRC2.'\n",
      " 'CI.WRV2.' 'CI.WVP2.' 'GS.CA01.20' 'GS.CA03.20' 'GS.CA05.20' 'GS.CA06.20'\n",
      " 'GS.CA07.00' 'GS.CA08.00' 'GS.CA09.00' 'GS.CA10.00' 'ZY.SV01.' 'ZY.SV02.'\n",
      " 'ZY.SV03.' 'ZY.SV04.' 'ZY.SV05.' 'ZY.SV06.' 'ZY.SV07.']\n"
     ]
    },
    {
     "name": "stderr",
     "output_type": "stream",
     "text": [
      " 80%|███████▉  | 97/122 [15:13<02:40,  6.44s/it]"
     ]
    },
    {
     "name": "stdout",
     "output_type": "stream",
     "text": [
      "\tStations for date 2019-09-06: ['CI.CCC.' 'CI.CLC.' 'CI.DTP.' 'CI.JRC2.' 'CI.LRL.' 'CI.MPM.' 'CI.SLA.'\n",
      " 'CI.SRT.' 'CI.TOW2.' 'CI.WBM.' 'CI.WCS2.' 'CI.WMF.' 'CI.WNM.' 'CI.WRC2.'\n",
      " 'CI.WRV2.' 'CI.WVP2.' 'GS.CA01.20' 'GS.CA03.20' 'GS.CA05.20' 'GS.CA06.20'\n",
      " 'GS.CA07.00' 'GS.CA08.00' 'GS.CA09.00' 'GS.CA10.00' 'ZY.SV01.' 'ZY.SV02.'\n",
      " 'ZY.SV03.' 'ZY.SV04.' 'ZY.SV05.' 'ZY.SV06.' 'ZY.SV07.']\n"
     ]
    },
    {
     "name": "stderr",
     "output_type": "stream",
     "text": [
      " 80%|████████  | 98/122 [15:18<02:22,  5.92s/it]"
     ]
    },
    {
     "name": "stdout",
     "output_type": "stream",
     "text": [
      "\tStations for date 2019-09-07: ['CI.CCC.' 'CI.CLC.' 'CI.DTP.' 'CI.JRC2.' 'CI.LRL.' 'CI.MPM.' 'CI.SLA.'\n",
      " 'CI.SRT.' 'CI.TOW2.' 'CI.WBM.' 'CI.WCS2.' 'CI.WMF.' 'CI.WNM.' 'CI.WRC2.'\n",
      " 'CI.WRV2.' 'CI.WVP2.' 'GS.CA01.20' 'GS.CA03.20' 'GS.CA05.20' 'GS.CA06.20'\n",
      " 'GS.CA07.00' 'GS.CA08.00' 'GS.CA09.00' 'GS.CA10.00' 'ZY.SV01.' 'ZY.SV02.'\n",
      " 'ZY.SV03.' 'ZY.SV04.' 'ZY.SV05.' 'ZY.SV06.' 'ZY.SV07.']\n"
     ]
    },
    {
     "name": "stderr",
     "output_type": "stream",
     "text": [
      " 81%|████████  | 99/122 [15:24<02:13,  5.78s/it]"
     ]
    },
    {
     "name": "stdout",
     "output_type": "stream",
     "text": [
      "\tStations for date 2019-09-08: ['CI.CCC.' 'CI.CLC.' 'CI.DTP.' 'CI.JRC2.' 'CI.LRL.' 'CI.MPM.' 'CI.SLA.'\n",
      " 'CI.SRT.' 'CI.TOW2.' 'CI.WBM.' 'CI.WCS2.' 'CI.WMF.' 'CI.WNM.' 'CI.WRC2.'\n",
      " 'CI.WRV2.' 'CI.WVP2.' 'GS.CA01.20' 'GS.CA03.20' 'GS.CA04.20' 'GS.CA05.20'\n",
      " 'GS.CA06.20' 'GS.CA07.00' 'GS.CA08.00' 'GS.CA09.00' 'GS.CA10.00'\n",
      " 'ZY.SV01.' 'ZY.SV02.' 'ZY.SV03.' 'ZY.SV04.' 'ZY.SV05.' 'ZY.SV06.'\n",
      " 'ZY.SV07.']\n"
     ]
    },
    {
     "name": "stderr",
     "output_type": "stream",
     "text": [
      " 82%|████████▏ | 100/122 [15:30<02:12,  6.00s/it]"
     ]
    },
    {
     "name": "stdout",
     "output_type": "stream",
     "text": [
      "\tStations for date 2019-09-09: ['CI.CCC.' 'CI.CLC.' 'CI.DTP.' 'CI.JRC2.' 'CI.LRL.' 'CI.MPM.' 'CI.SLA.'\n",
      " 'CI.SRT.' 'CI.TOW2.' 'CI.WBM.' 'CI.WCS2.' 'CI.WMF.' 'CI.WNM.' 'CI.WRC2.'\n",
      " 'CI.WRV2.' 'CI.WVP2.' 'GS.CA01.20' 'GS.CA03.20' 'GS.CA05.20' 'GS.CA06.20'\n",
      " 'GS.CA07.00' 'GS.CA08.00' 'GS.CA09.00' 'GS.CA10.00' 'ZY.SV01.' 'ZY.SV02.'\n",
      " 'ZY.SV03.' 'ZY.SV04.' 'ZY.SV05.' 'ZY.SV06.' 'ZY.SV07.']\n"
     ]
    },
    {
     "name": "stderr",
     "output_type": "stream",
     "text": [
      " 83%|████████▎ | 101/122 [15:35<02:00,  5.74s/it]"
     ]
    },
    {
     "name": "stdout",
     "output_type": "stream",
     "text": [
      "\tStations for date 2019-09-10: ['CI.CCC.' 'CI.CLC.' 'CI.DTP.' 'CI.JRC2.' 'CI.LRL.' 'CI.MPM.' 'CI.SLA.'\n",
      " 'CI.SRT.' 'CI.TOW2.' 'CI.WBM.' 'CI.WCS2.' 'CI.WMF.' 'CI.WNM.' 'CI.WRC2.'\n",
      " 'CI.WRV2.' 'CI.WVP2.' 'GS.CA01.20' 'GS.CA03.20' 'GS.CA05.20' 'GS.CA06.20'\n",
      " 'GS.CA07.00' 'GS.CA08.00' 'GS.CA09.00' 'GS.CA10.00' 'ZY.SV01.' 'ZY.SV02.'\n",
      " 'ZY.SV03.' 'ZY.SV04.' 'ZY.SV05.' 'ZY.SV06.' 'ZY.SV07.']\n"
     ]
    },
    {
     "name": "stderr",
     "output_type": "stream",
     "text": [
      " 84%|████████▎ | 102/122 [15:40<01:48,  5.40s/it]"
     ]
    },
    {
     "name": "stdout",
     "output_type": "stream",
     "text": [
      "\tStations for date 2019-09-11: ['CI.CCC.' 'CI.CLC.' 'CI.DTP.' 'CI.JRC2.' 'CI.LRL.' 'CI.MPM.' 'CI.SLA.'\n",
      " 'CI.SRT.' 'CI.TOW2.' 'CI.WBM.' 'CI.WCS2.' 'CI.WMF.' 'CI.WNM.' 'CI.WRC2.'\n",
      " 'CI.WRV2.' 'CI.WVP2.' 'GS.CA01.20' 'GS.CA03.20' 'GS.CA06.20' 'GS.CA07.00'\n",
      " 'GS.CA08.00' 'GS.CA09.00' 'GS.CA10.00' 'ZY.SV01.']\n"
     ]
    },
    {
     "name": "stderr",
     "output_type": "stream",
     "text": [
      " 84%|████████▍ | 103/122 [15:44<01:35,  5.00s/it]"
     ]
    },
    {
     "name": "stdout",
     "output_type": "stream",
     "text": [
      "\tStations for date 2019-09-12: ['CI.CCC.' 'CI.CLC.' 'CI.DTP.' 'CI.JRC2.' 'CI.LRL.' 'CI.MPM.' 'CI.SLA.'\n",
      " 'CI.SRT.' 'CI.TOW2.' 'CI.WBM.' 'CI.WCS2.' 'CI.WMF.' 'CI.WNM.' 'CI.WRC2.'\n",
      " 'CI.WRV2.' 'CI.WVP2.' 'GS.CA01.20' 'GS.CA03.20' 'GS.CA05.20' 'GS.CA06.20'\n",
      " 'GS.CA07.00' 'GS.CA08.00' 'GS.CA09.00' 'GS.CA10.00']\n"
     ]
    },
    {
     "name": "stderr",
     "output_type": "stream",
     "text": [
      " 85%|████████▌ | 104/122 [15:49<01:28,  4.94s/it]"
     ]
    },
    {
     "name": "stdout",
     "output_type": "stream",
     "text": [
      "\tStations for date 2019-09-13: ['CI.CCC.' 'CI.CLC.' 'CI.DTP.' 'CI.JRC2.' 'CI.LRL.' 'CI.MPM.' 'CI.SLA.'\n",
      " 'CI.SRT.' 'CI.TOW2.' 'CI.WBM.' 'CI.WCS2.' 'CI.WMF.' 'CI.WNM.' 'CI.WRC2.'\n",
      " 'CI.WRV2.' 'CI.WVP2.' 'GS.CA01.20' 'GS.CA03.20' 'GS.CA04.20' 'GS.CA05.20'\n",
      " 'GS.CA06.20' 'GS.CA07.00' 'GS.CA08.00' 'GS.CA09.00' 'GS.CA10.00']\n"
     ]
    },
    {
     "name": "stderr",
     "output_type": "stream",
     "text": [
      " 86%|████████▌ | 105/122 [15:53<01:20,  4.75s/it]"
     ]
    },
    {
     "name": "stdout",
     "output_type": "stream",
     "text": [
      "\tStations for date 2019-09-14: ['CI.CCC.' 'CI.CLC.' 'CI.DTP.' 'CI.JRC2.' 'CI.LRL.' 'CI.MPM.' 'CI.SLA.'\n",
      " 'CI.SRT.' 'CI.TOW2.' 'CI.WBM.' 'CI.WCS2.' 'CI.WMF.' 'CI.WNM.' 'CI.WRC2.'\n",
      " 'CI.WRV2.' 'CI.WVP2.' 'GS.CA01.20' 'GS.CA03.20' 'GS.CA04.20' 'GS.CA05.20'\n",
      " 'GS.CA06.20' 'GS.CA07.00' 'GS.CA08.00' 'GS.CA09.00' 'GS.CA10.00']\n"
     ]
    },
    {
     "name": "stderr",
     "output_type": "stream",
     "text": [
      " 87%|████████▋ | 106/122 [15:58<01:16,  4.76s/it]"
     ]
    },
    {
     "name": "stdout",
     "output_type": "stream",
     "text": [
      "\tStations for date 2019-09-15: ['CI.CCC.' 'CI.CLC.' 'CI.DTP.' 'CI.JRC2.' 'CI.LRL.' 'CI.MPM.' 'CI.SLA.'\n",
      " 'CI.SRT.' 'CI.TOW2.' 'CI.WBM.' 'CI.WCS2.' 'CI.WMF.' 'CI.WNM.' 'CI.WRC2.'\n",
      " 'CI.WRV2.' 'CI.WVP2.' 'GS.CA01.20' 'GS.CA03.20' 'GS.CA04.20' 'GS.CA05.20'\n",
      " 'GS.CA06.20' 'GS.CA07.00' 'GS.CA08.00' 'GS.CA09.00' 'GS.CA10.00']\n"
     ]
    },
    {
     "name": "stderr",
     "output_type": "stream",
     "text": [
      " 88%|████████▊ | 107/122 [16:02<01:06,  4.43s/it]"
     ]
    },
    {
     "name": "stdout",
     "output_type": "stream",
     "text": [
      "\tStations for date 2019-09-16: ['CI.CCC.' 'CI.DTP.' 'CI.JRC2.' 'CI.LRL.' 'CI.MPM.' 'CI.SLA.' 'CI.SRT.'\n",
      " 'CI.TOW2.' 'CI.WBM.' 'CI.WCS2.' 'CI.WMF.' 'CI.WNM.' 'CI.WRC2.' 'CI.WRV2.'\n",
      " 'CI.WVP2.' 'GS.CA01.20' 'GS.CA03.20' 'GS.CA05.20' 'GS.CA06.20'\n",
      " 'GS.CA07.00' 'GS.CA08.00' 'GS.CA09.00' 'GS.CA10.00']\n"
     ]
    },
    {
     "name": "stderr",
     "output_type": "stream",
     "text": [
      " 89%|████████▊ | 108/122 [16:04<00:55,  3.99s/it]"
     ]
    },
    {
     "name": "stdout",
     "output_type": "stream",
     "text": [
      "\tStations for date 2019-09-17: ['CI.CCC.' 'CI.DTP.' 'CI.JRC2.' 'CI.LRL.' 'CI.MPM.' 'CI.SLA.' 'CI.SRT.'\n",
      " 'CI.TOW2.' 'CI.WBM.' 'CI.WCS2.' 'CI.WMF.' 'CI.WNM.' 'CI.WRC2.' 'CI.WRV2.'\n",
      " 'CI.WVP2.' 'GS.CA01.20' 'GS.CA03.20' 'GS.CA05.20' 'GS.CA06.20'\n",
      " 'GS.CA07.00' 'GS.CA08.00' 'GS.CA09.00' 'GS.CA10.00' 'NP.5419.10']\n"
     ]
    },
    {
     "name": "stderr",
     "output_type": "stream",
     "text": [
      " 89%|████████▉ | 109/122 [16:07<00:47,  3.66s/it]"
     ]
    },
    {
     "name": "stdout",
     "output_type": "stream",
     "text": [
      "\tStations for date 2019-09-18: ['CI.CCC.' 'CI.DTP.' 'CI.JRC2.' 'CI.LRL.' 'CI.MPM.' 'CI.SLA.' 'CI.SRT.'\n",
      " 'CI.TOW2.' 'CI.WBM.' 'CI.WCS2.' 'CI.WMF.' 'CI.WNM.' 'CI.WRC2.' 'CI.WRV2.'\n",
      " 'CI.WVP2.' 'GS.CA01.20' 'GS.CA03.20' 'GS.CA05.20' 'GS.CA06.20'\n",
      " 'GS.CA07.00' 'GS.CA08.00' 'GS.CA09.00' 'GS.CA10.00' 'NP.5419.10']\n"
     ]
    },
    {
     "name": "stderr",
     "output_type": "stream",
     "text": [
      " 90%|█████████ | 110/122 [16:10<00:40,  3.38s/it]"
     ]
    },
    {
     "name": "stdout",
     "output_type": "stream",
     "text": [
      "\tStations for date 2019-09-19: ['CI.CCC.' 'CI.DTP.' 'CI.JRC2.' 'CI.LRL.' 'CI.MPM.' 'CI.SLA.' 'CI.SRT.'\n",
      " 'CI.TOW2.' 'CI.WBM.' 'CI.WCS2.' 'CI.WMF.' 'CI.WNM.' 'CI.WRC2.' 'CI.WRV2.'\n",
      " 'CI.WVP2.' 'GS.CA01.20' 'GS.CA03.20' 'GS.CA04.20' 'GS.CA05.20'\n",
      " 'GS.CA06.20' 'GS.CA07.00' 'GS.CA08.00' 'GS.CA09.00' 'GS.CA10.00'\n",
      " 'NP.5419.10']\n"
     ]
    },
    {
     "name": "stderr",
     "output_type": "stream",
     "text": [
      " 91%|█████████ | 111/122 [16:12<00:33,  3.04s/it]"
     ]
    },
    {
     "name": "stdout",
     "output_type": "stream",
     "text": [
      "\tStations for date 2019-09-20: ['CI.CCC.' 'CI.DTP.' 'CI.JRC2.' 'CI.LRL.' 'CI.MPM.' 'CI.SLA.' 'CI.SRT.'\n",
      " 'CI.TOW2.' 'CI.WBM.' 'CI.WCS2.' 'CI.WMF.' 'CI.WNM.' 'CI.WRC2.' 'CI.WRV2.'\n",
      " 'CI.WVP2.' 'GS.CA01.20' 'GS.CA03.20' 'GS.CA04.20' 'GS.CA05.20'\n",
      " 'GS.CA06.20' 'GS.CA07.00' 'GS.CA08.00' 'GS.CA09.00' 'GS.CA10.00'\n",
      " 'NP.5419.10']\n"
     ]
    },
    {
     "name": "stderr",
     "output_type": "stream",
     "text": [
      " 93%|█████████▎| 113/122 [16:17<00:24,  2.73s/it]"
     ]
    },
    {
     "name": "stdout",
     "output_type": "stream",
     "text": [
      "\tStations for date 2019-09-21: ['CI.CCC.' 'CI.DTP.' 'CI.LRL.' 'CI.MPM.' 'CI.SLA.' 'CI.SRT.' 'CI.TOW2.'\n",
      " 'CI.WBM.' 'CI.WCS2.' 'CI.WMF.' 'CI.WNM.' 'CI.WRC2.' 'CI.WRV2.' 'CI.WVP2.'\n",
      " 'GS.CA01.20' 'GS.CA03.20' 'GS.CA04.20' 'GS.CA05.20' 'GS.CA06.20'\n",
      " 'GS.CA07.00' 'GS.CA08.00' 'GS.CA09.00' 'GS.CA10.00' 'NP.5419.10']\n",
      "\tDeleting date 2019-09-21\n"
     ]
    },
    {
     "name": "stderr",
     "output_type": "stream",
     "text": [
      " 93%|█████████▎| 114/122 [16:19<00:19,  2.41s/it]"
     ]
    },
    {
     "name": "stdout",
     "output_type": "stream",
     "text": [
      "\tStations for date 2019-09-22: ['CI.CCC.' 'CI.DTP.' 'CI.LRL.' 'CI.MPM.' 'CI.SLA.' 'CI.SRT.' 'CI.TOW2.'\n",
      " 'CI.WBM.' 'CI.WCS2.' 'CI.WMF.' 'CI.WNM.' 'CI.WRC2.' 'CI.WRV2.' 'CI.WVP2.'\n",
      " 'GS.CA01.20' 'GS.CA03.20' 'GS.CA05.20' 'GS.CA06.20' 'GS.CA07.00'\n",
      " 'GS.CA08.00' 'GS.CA09.00' 'GS.CA10.00' 'NP.5419.10']\n",
      "\tDeleting date 2019-09-22\n",
      "\tStations for date 2019-09-23: ['CI.CCC.' 'CI.DTP.' 'CI.JRC2.' 'CI.LRL.' 'CI.MPM.' 'CI.SLA.' 'CI.SRT.'\n",
      " 'CI.TOW2.' 'CI.WBM.' 'CI.WCS2.' 'CI.WMF.' 'CI.WNM.' 'CI.WRC2.' 'CI.WRV2.'\n",
      " 'CI.WVP2.' 'GS.CA01.20' 'GS.CA03.20' 'GS.CA05.20' 'GS.CA06.20'\n",
      " 'GS.CA07.00' 'GS.CA08.00' 'GS.CA09.00' 'GS.CA10.00' 'NP.5419.10']\n"
     ]
    },
    {
     "name": "stderr",
     "output_type": "stream",
     "text": [
      " 94%|█████████▍| 115/122 [16:22<00:18,  2.64s/it]"
     ]
    },
    {
     "name": "stdout",
     "output_type": "stream",
     "text": [
      "\tStations for date 2019-09-24: ['CI.CCC.' 'CI.DTP.' 'CI.JRC2.' 'CI.LRL.' 'CI.MPM.' 'CI.SLA.' 'CI.SRT.'\n",
      " 'CI.TOW2.' 'CI.WBM.' 'CI.WCS2.' 'CI.WMF.' 'CI.WNM.' 'CI.WRC2.' 'CI.WRV2.'\n",
      " 'CI.WVP2.' 'GS.CA01.20' 'GS.CA03.20' 'GS.CA05.20' 'GS.CA06.20'\n",
      " 'GS.CA07.00' 'GS.CA08.00' 'GS.CA09.00' 'GS.CA10.00' 'NP.5419.10']\n"
     ]
    },
    {
     "name": "stderr",
     "output_type": "stream",
     "text": [
      " 95%|█████████▌| 116/122 [16:24<00:14,  2.47s/it]"
     ]
    },
    {
     "name": "stdout",
     "output_type": "stream",
     "text": [
      "\tStations for date 2019-09-25: ['CI.CCC.' 'CI.CLC.' 'CI.DTP.' 'CI.JRC2.' 'CI.LRL.' 'CI.MPM.' 'CI.SLA.'\n",
      " 'CI.SRT.' 'CI.TOW2.' 'CI.WBM.' 'CI.WCS2.' 'CI.WMF.' 'CI.WNM.' 'CI.WRC2.'\n",
      " 'CI.WRV2.' 'CI.WVP2.' 'GS.CA01.20' 'GS.CA03.20' 'GS.CA05.20' 'GS.CA06.20'\n",
      " 'GS.CA07.00' 'GS.CA08.00' 'GS.CA09.00' 'GS.CA10.00' 'NP.5419.10']\n"
     ]
    },
    {
     "name": "stderr",
     "output_type": "stream",
     "text": [
      " 96%|█████████▌| 117/122 [16:27<00:12,  2.49s/it]"
     ]
    },
    {
     "name": "stdout",
     "output_type": "stream",
     "text": [
      "\tStations for date 2019-09-26: ['CI.CCC.' 'CI.CLC.' 'CI.DTP.' 'CI.JRC2.' 'CI.LRL.' 'CI.MPM.' 'CI.SLA.'\n",
      " 'CI.SRT.' 'CI.TOW2.' 'CI.WBM.' 'CI.WCS2.' 'CI.WMF.' 'CI.WNM.' 'CI.WRC2.'\n",
      " 'CI.WRV2.' 'CI.WVP2.' 'GS.CA01.20' 'GS.CA03.20' 'GS.CA04.20' 'GS.CA05.20'\n",
      " 'GS.CA06.20' 'GS.CA07.00' 'GS.CA08.00' 'GS.CA09.00' 'GS.CA10.00'\n",
      " 'NP.5419.10']\n"
     ]
    },
    {
     "name": "stderr",
     "output_type": "stream",
     "text": [
      " 97%|█████████▋| 118/122 [16:31<00:11,  2.88s/it]"
     ]
    },
    {
     "name": "stdout",
     "output_type": "stream",
     "text": [
      "\tStations for date 2019-09-27: ['CI.CCC.' 'CI.CLC.' 'CI.DTP.' 'CI.JRC2.' 'CI.LRL.' 'CI.MPM.' 'CI.SLA.'\n",
      " 'CI.SRT.' 'CI.TOW2.' 'CI.WBM.' 'CI.WCS2.' 'CI.WMF.' 'CI.WNM.' 'CI.WRC2.'\n",
      " 'CI.WRV2.' 'CI.WVP2.' 'GS.CA01.20' 'GS.CA03.20' 'GS.CA04.20' 'GS.CA05.20'\n",
      " 'GS.CA06.20' 'GS.CA07.00' 'GS.CA08.00' 'GS.CA09.00' 'GS.CA10.00'\n",
      " 'NP.5419.10']\n"
     ]
    },
    {
     "name": "stderr",
     "output_type": "stream",
     "text": [
      " 98%|█████████▊| 119/122 [16:34<00:09,  3.00s/it]"
     ]
    },
    {
     "name": "stdout",
     "output_type": "stream",
     "text": [
      "\tStations for date 2019-09-28: ['CI.CCC.' 'CI.CLC.' 'CI.DTP.' 'CI.JRC2.' 'CI.LRL.' 'CI.MPM.' 'CI.SLA.'\n",
      " 'CI.SRT.' 'CI.TOW2.' 'CI.WBM.' 'CI.WCS2.' 'CI.WMF.' 'CI.WNM.' 'CI.WRC2.'\n",
      " 'CI.WRV2.' 'CI.WVP2.' 'GS.CA01.20' 'GS.CA03.20' 'GS.CA05.20' 'GS.CA06.20'\n",
      " 'GS.CA07.00' 'GS.CA08.00' 'GS.CA09.00' 'GS.CA10.00' 'NP.5419.10']\n"
     ]
    },
    {
     "name": "stderr",
     "output_type": "stream",
     "text": [
      " 98%|█████████▊| 120/122 [16:37<00:06,  3.01s/it]"
     ]
    },
    {
     "name": "stdout",
     "output_type": "stream",
     "text": [
      "\tStations for date 2019-09-29: ['CI.CCC.' 'CI.CLC.' 'CI.DTP.' 'CI.JRC2.' 'CI.LRL.' 'CI.MPM.' 'CI.SLA.'\n",
      " 'CI.SRT.' 'CI.TOW2.' 'CI.WBM.' 'CI.WCS2.' 'CI.WMF.' 'CI.WNM.' 'CI.WRC2.'\n",
      " 'CI.WRV2.' 'CI.WVP2.' 'GS.CA01.20' 'GS.CA03.20' 'GS.CA05.20' 'GS.CA06.20'\n",
      " 'GS.CA07.00' 'GS.CA08.00' 'GS.CA09.00' 'GS.CA10.00' 'NP.5419.10']\n"
     ]
    },
    {
     "name": "stderr",
     "output_type": "stream",
     "text": [
      " 99%|█████████▉| 121/122 [16:39<00:02,  2.86s/it]"
     ]
    },
    {
     "name": "stdout",
     "output_type": "stream",
     "text": [
      "\tStations for date 2019-09-30: ['CI.CCC.' 'CI.CLC.' 'CI.DTP.' 'CI.JRC2.' 'CI.LRL.' 'CI.MPM.' 'CI.SLA.'\n",
      " 'CI.SRT.' 'CI.TOW2.' 'CI.WBM.' 'CI.WCS2.' 'CI.WMF.' 'CI.WNM.' 'CI.WRC2.'\n",
      " 'CI.WRV2.' 'CI.WVP2.' 'GS.CA01.20' 'GS.CA03.20' 'GS.CA04.20' 'GS.CA05.20'\n",
      " 'GS.CA06.20' 'GS.CA07.00' 'GS.CA08.00' 'GS.CA09.00' 'GS.CA10.00'\n",
      " 'NP.5419.10']\n"
     ]
    },
    {
     "name": "stderr",
     "output_type": "stream",
     "text": [
      "100%|██████████| 122/122 [16:43<00:00,  8.23s/it]\n"
     ]
    }
   ],
   "source": [
    "if not os.path.exists(relevant_path):\n",
    "    os.mkdir(relevant_path)\n",
    "\n",
    "print(\"Extracting data for stations: {}\".format(master_stations))\n",
    "np.save(os.path.join(relevant_path, \"stations.npy\"), master_stations)\n",
    "\n",
    "\n",
    "for date in tqdm(dates):\n",
    "    date_data = os.path.join(raw_path, date+\".npy\")\n",
    "#     print(\"Loading data from date {}\".format(date))\n",
    "    date_arr = np.load(date_data)\n",
    "    \n",
    "    ## look for stations for that day (metadata)\n",
    "    station_meta = os.path.join(meta_path, date+\"_stations.npy\")\n",
    "#     print(\"\\tLoading metadata from {}\".format(station_meta))\n",
    "    date_stations = np.load(station_meta)\n",
    "    delete_date = False\n",
    "    stats_for_date = []\n",
    "    print(\"\\tStations for date {}: {}\".format(date, date_stations))\n",
    "\n",
    "    for master in master_stations: \n",
    "        if master not in date_stations: \n",
    "            delete_date = True\n",
    "            break            \n",
    "        idx_date = date_arr[date_stations == master]\n",
    "#         print(idx)\n",
    "#         stats_for_date.append(date_arr[idx, :, :,])\n",
    "        stats_for_date.append(idx_date)\n",
    "\n",
    "    if delete_date is True: \n",
    "        print(\"\\tDeleting date {}\".format(date))\n",
    "        continue\n",
    "    stats_for_date = np.concatenate(stats_for_date, 0)\n",
    "    assert stats_for_date.shape[0] == len(master_stations)\n",
    "    date_save = os.path.join(relevant_path, \"{}.npy\".format(date))\n",
    "    stats_for_date = np.transpose(stats_for_date, [1, 0, 2, 3]) #(num_evs, stats, dim, time)\n",
    "    stats_for_date = np.linalg.norm(stats_for_date, ord=2, axis=2)\n",
    "#     print(stats_for_date.shape)\n",
    "    np.save(date_save, stats_for_date)\n"
   ]
  },
  {
   "cell_type": "markdown",
   "metadata": {},
   "source": [
    "### Step-3: Compress via subsampling"
   ]
  },
  {
   "cell_type": "code",
   "execution_count": 78,
   "metadata": {},
   "outputs": [
    {
     "name": "stdout",
     "output_type": "stream",
     "text": [
      "['2019-06-12.npy', '2019-08-25.npy', '2019-07-31.npy', '2019-07-02.npy', '2019-07-07.npy', '2019-07-19.npy', '2019-07-17.npy', '2019-08-15.npy', '2019-08-04.npy', '2019-06-10.npy', '2019-08-10.npy', '2019-06-26.npy', '2019-09-30.npy', '2019-08-26.npy', '2019-09-13.npy', '2019-06-29.npy', '2019-08-13.npy', '2019-07-26.npy', '2019-07-21.npy', '2019-06-08.npy', '2019-07-15.npy', '2019-09-06.npy', '2019-09-11.npy', '2019-09-26.npy', '2019-06-04.npy', '2019-08-16.npy', '2019-07-18.npy', '2019-08-05.npy', '2019-07-08.npy', '2019-09-20.npy', '2019-08-12.npy', '2019-07-13.npy', '2019-09-16.npy', '2019-06-03.npy', '2019-06-30.npy', '2019-07-14.npy', '2019-07-22.npy', '2019-08-27.npy', '2019-07-25.npy', '2019-08-22.npy', '2019-06-19.npy', '2019-08-31.npy', '2019-08-11.npy', '2019-06-06.npy', '2019-06-27.npy', '2019-07-06.npy', '2019-06-07.npy', '2019-06-20.npy', '2019-08-24.npy', '2019-08-20.npy', '2019-09-23.npy', '2019-08-14.npy', '2019-06-16.npy', '2019-08-28.npy', '2019-09-29.npy', '2019-06-15.npy', '2019-07-28.npy', '2019-09-17.npy', '2019-08-23.npy', '2019-08-01.npy', '2019-09-02.npy', '2019-06-22.npy', '2019-09-04.npy', '2019-09-25.npy', '2019-09-19.npy', '2019-07-04.npy', '2019-07-16.npy', '2019-07-27.npy', '2019-09-09.npy', '2019-09-28.npy', '2019-07-11.npy', '2019-06-01.npy', '2019-06-11.npy', '2019-09-15.npy', '2019-08-30.npy', '2019-06-28.npy', '2019-07-23.npy', '2019-07-12.npy', '2019-06-09.npy', '2019-06-05.npy', '2019-09-03.npy', '2019-06-13.npy', '2019-09-27.npy', '2019-08-08.npy', '2019-09-07.npy', '2019-08-21.npy', '2019-09-08.npy', '2019-09-18.npy', '2019-09-24.npy', '2019-07-03.npy', '2019-06-18.npy', '2019-08-18.npy', '2019-08-03.npy', '2019-06-23.npy', '2019-06-02.npy', '2019-08-17.npy', '2019-09-10.npy', '2019-08-09.npy', '2019-08-06.npy', '2019-07-05.npy', '2019-06-24.npy', '2019-07-09.npy', '2019-07-20.npy', '2019-09-14.npy', '2019-09-05.npy', '2019-08-29.npy', '2019-07-24.npy', '2019-09-01.npy', '2019-06-21.npy', '2019-07-29.npy', '2019-08-07.npy', '2019-07-01.npy', '2019-08-19.npy', '2019-08-02.npy', '2019-07-10.npy', '2019-07-30.npy', '2019-06-25.npy', '2019-06-14.npy', '2019-06-17.npy', '2019-09-12.npy']\n",
      "120\n",
      "Processing file: 2019-06-12.npy\n",
      "\tBefore:  (3, 15, 6000)\n",
      "\tAfter:  (3, 15, 60)\n",
      "Processing file: 2019-08-25.npy\n",
      "\tBefore:  (267, 15, 6000)\n",
      "\tAfter:  (267, 15, 60)\n",
      "Processing file: 2019-07-31.npy\n",
      "\tBefore:  (250, 15, 6000)\n",
      "\tAfter:  (250, 15, 60)\n",
      "Processing file: 2019-07-02.npy\n",
      "\tBefore:  (12, 15, 6000)\n",
      "\tAfter:  (12, 15, 60)\n",
      "Processing file: 2019-07-07.npy\n",
      "\tBefore:  (1235, 15, 6000)\n",
      "\tAfter:  (1235, 15, 60)\n",
      "Processing file: 2019-07-19.npy\n",
      "\tBefore:  (559, 15, 6000)\n",
      "\tAfter:  (559, 15, 60)\n",
      "Processing file: 2019-07-17.npy\n",
      "\tBefore:  (739, 15, 6000)\n",
      "\tAfter:  (739, 15, 60)\n",
      "Processing file: 2019-08-15.npy\n",
      "\tBefore:  (243, 15, 6000)\n",
      "\tAfter:  (243, 15, 60)\n",
      "Processing file: 2019-08-04.npy\n",
      "\tBefore:  (244, 15, 6000)\n",
      "\tAfter:  (244, 15, 60)\n",
      "Processing file: 2019-06-10.npy\n",
      "\tBefore:  (10, 15, 6000)\n",
      "\tAfter:  (10, 15, 60)\n",
      "Processing file: 2019-08-10.npy\n",
      "\tBefore:  (245, 15, 6000)\n",
      "\tAfter:  (245, 15, 60)\n",
      "Processing file: 2019-06-26.npy\n",
      "\tBefore:  (11, 15, 6000)\n",
      "\tAfter:  (11, 15, 60)\n",
      "Processing file: 2019-09-30.npy\n",
      "\tBefore:  (118, 15, 6000)\n",
      "\tAfter:  (118, 15, 60)\n",
      "Processing file: 2019-08-26.npy\n",
      "\tBefore:  (275, 15, 6000)\n",
      "\tAfter:  (275, 15, 60)\n",
      "Processing file: 2019-09-13.npy\n",
      "\tBefore:  (158, 15, 6000)\n",
      "\tAfter:  (158, 15, 60)\n",
      "Processing file: 2019-06-29.npy\n",
      "\tBefore:  (7, 15, 6000)\n",
      "\tAfter:  (7, 15, 60)\n",
      "Processing file: 2019-08-13.npy\n",
      "\tBefore:  (257, 15, 6000)\n",
      "\tAfter:  (257, 15, 60)\n",
      "Processing file: 2019-07-26.npy\n",
      "\tBefore:  (644, 15, 6000)\n",
      "\tAfter:  (644, 15, 60)\n",
      "Processing file: 2019-07-21.npy\n",
      "\tBefore:  (551, 15, 6000)\n",
      "\tAfter:  (551, 15, 60)\n",
      "Processing file: 2019-06-08.npy\n",
      "\tBefore:  (11, 15, 6000)\n",
      "\tAfter:  (11, 15, 60)\n",
      "Processing file: 2019-07-15.npy\n",
      "\tBefore:  (744, 15, 6000)\n",
      "\tAfter:  (744, 15, 60)\n",
      "Processing file: 2019-09-06.npy\n",
      "\tBefore:  (134, 15, 6000)\n",
      "\tAfter:  (134, 15, 60)\n",
      "Processing file: 2019-09-11.npy\n",
      "\tBefore:  (144, 15, 6000)\n",
      "\tAfter:  (144, 15, 60)\n",
      "Processing file: 2019-09-26.npy\n",
      "\tBefore:  (123, 15, 6000)\n",
      "\tAfter:  (123, 15, 60)\n",
      "Processing file: 2019-06-04.npy\n",
      "\tBefore:  (4, 15, 6000)\n",
      "\tAfter:  (4, 15, 60)\n",
      "Processing file: 2019-08-16.npy\n",
      "\tBefore:  (229, 15, 6000)\n",
      "\tAfter:  (229, 15, 60)\n",
      "Processing file: 2019-07-18.npy\n",
      "\tBefore:  (647, 15, 6000)\n",
      "\tAfter:  (647, 15, 60)\n",
      "Processing file: 2019-08-05.npy\n",
      "\tBefore:  (271, 15, 6000)\n",
      "\tAfter:  (271, 15, 60)\n",
      "Processing file: 2019-07-08.npy\n",
      "\tBefore:  (1335, 15, 6000)\n",
      "\tAfter:  (1335, 15, 60)\n",
      "Processing file: 2019-09-20.npy\n",
      "\tBefore:  (99, 15, 6000)\n",
      "\tAfter:  (99, 15, 60)\n",
      "Processing file: 2019-08-12.npy\n",
      "\tBefore:  (315, 15, 6000)\n",
      "\tAfter:  (315, 15, 60)\n",
      "Processing file: 2019-07-13.npy\n",
      "\tBefore:  (836, 15, 6000)\n",
      "\tAfter:  (836, 15, 60)\n",
      "Processing file: 2019-09-16.npy\n",
      "\tBefore:  (83, 15, 6000)\n",
      "\tAfter:  (83, 15, 60)\n",
      "Processing file: 2019-06-03.npy\n",
      "\tBefore:  (2, 15, 6000)\n",
      "\tAfter:  (2, 15, 60)\n",
      "Processing file: 2019-06-30.npy\n",
      "\tBefore:  (5, 15, 6000)\n",
      "\tAfter:  (5, 15, 60)\n",
      "Processing file: 2019-07-14.npy\n",
      "\tBefore:  (731, 15, 6000)\n",
      "\tAfter:  (731, 15, 60)\n",
      "Processing file: 2019-07-22.npy\n",
      "\tBefore:  (545, 15, 6000)\n",
      "\tAfter:  (545, 15, 60)\n",
      "Processing file: 2019-08-27.npy\n",
      "\tBefore:  (251, 15, 6000)\n",
      "\tAfter:  (251, 15, 60)\n",
      "Processing file: 2019-07-25.npy\n",
      "\tBefore:  (462, 15, 6000)\n",
      "\tAfter:  (462, 15, 60)\n",
      "Processing file: 2019-08-22.npy\n",
      "\tBefore:  (357, 15, 6000)\n",
      "\tAfter:  (357, 15, 60)\n",
      "Processing file: 2019-06-19.npy\n",
      "\tBefore:  (6, 15, 6000)\n",
      "\tAfter:  (6, 15, 60)\n",
      "Processing file: 2019-08-31.npy\n",
      "\tBefore:  (233, 15, 6000)\n",
      "\tAfter:  (233, 15, 60)\n",
      "Processing file: 2019-08-11.npy\n",
      "\tBefore:  (290, 15, 6000)\n",
      "\tAfter:  (290, 15, 60)\n",
      "Processing file: 2019-06-06.npy\n",
      "\tBefore:  (15, 15, 6000)\n",
      "\tAfter:  (15, 15, 60)\n",
      "Processing file: 2019-06-27.npy\n",
      "\tBefore:  (6, 15, 6000)\n",
      "\tAfter:  (6, 15, 60)\n",
      "Processing file: 2019-07-06.npy\n",
      "\tBefore:  (1895, 15, 6000)\n",
      "\tAfter:  (1895, 15, 60)\n",
      "Processing file: 2019-06-07.npy\n",
      "\tBefore:  (4, 15, 6000)\n",
      "\tAfter:  (4, 15, 60)\n",
      "Processing file: 2019-06-20.npy\n",
      "\tBefore:  (4, 15, 6000)\n",
      "\tAfter:  (4, 15, 60)\n",
      "Processing file: 2019-08-24.npy\n",
      "\tBefore:  (285, 15, 6000)\n",
      "\tAfter:  (285, 15, 60)\n",
      "Processing file: 2019-08-20.npy\n",
      "\tBefore:  (228, 15, 6000)\n",
      "\tAfter:  (228, 15, 60)\n",
      "Processing file: 2019-09-23.npy\n",
      "\tBefore:  (131, 15, 6000)\n",
      "\tAfter:  (131, 15, 60)\n",
      "Processing file: 2019-08-14.npy\n",
      "\tBefore:  (294, 15, 6000)\n",
      "\tAfter:  (294, 15, 60)\n",
      "Processing file: 2019-06-16.npy\n",
      "\tBefore:  (20, 15, 6000)\n",
      "\tAfter:  (20, 15, 60)\n",
      "Processing file: 2019-08-28.npy\n",
      "\tBefore:  (233, 15, 6000)\n",
      "\tAfter:  (233, 15, 60)\n",
      "Processing file: 2019-09-29.npy\n",
      "\tBefore:  (81, 15, 6000)\n",
      "\tAfter:  (81, 15, 60)\n",
      "Processing file: 2019-06-15.npy\n",
      "\tBefore:  (12, 15, 6000)\n",
      "\tAfter:  (12, 15, 60)\n",
      "Processing file: 2019-07-28.npy\n",
      "\tBefore:  (567, 15, 6000)\n",
      "\tAfter:  (567, 15, 60)\n",
      "Processing file: 2019-09-17.npy\n",
      "\tBefore:  (101, 15, 6000)\n",
      "\tAfter:  (101, 15, 60)\n",
      "Processing file: 2019-08-23.npy\n",
      "\tBefore:  (424, 15, 6000)\n",
      "\tAfter:  (424, 15, 60)\n",
      "Processing file: 2019-08-01.npy\n",
      "\tBefore:  (196, 15, 6000)\n",
      "\tAfter:  (196, 15, 60)\n",
      "Processing file: 2019-09-02.npy\n",
      "\tBefore:  (238, 15, 6000)\n",
      "\tAfter:  (238, 15, 60)\n",
      "Processing file: 2019-06-22.npy\n",
      "\tBefore:  (2, 15, 6000)\n",
      "\tAfter:  (2, 15, 60)\n",
      "Processing file: 2019-09-04.npy\n",
      "\tBefore:  (165, 15, 6000)\n",
      "\tAfter:  (165, 15, 60)\n",
      "Processing file: 2019-09-25.npy\n",
      "\tBefore:  (85, 15, 6000)\n",
      "\tAfter:  (85, 15, 60)\n",
      "Processing file: 2019-09-19.npy\n",
      "\tBefore:  (70, 15, 6000)\n",
      "\tAfter:  (70, 15, 60)\n",
      "Processing file: 2019-07-04.npy\n",
      "\tBefore:  (516, 15, 6000)\n",
      "\tAfter:  (516, 15, 60)\n",
      "Processing file: 2019-07-16.npy\n",
      "\tBefore:  (694, 15, 6000)\n",
      "\tAfter:  (694, 15, 60)\n",
      "Processing file: 2019-07-27.npy\n",
      "\tBefore:  (446, 15, 6000)\n",
      "\tAfter:  (446, 15, 60)\n",
      "Processing file: 2019-09-09.npy\n",
      "\tBefore:  (144, 15, 6000)\n",
      "\tAfter:  (144, 15, 60)\n",
      "Processing file: 2019-09-28.npy\n",
      "\tBefore:  (105, 15, 6000)\n",
      "\tAfter:  (105, 15, 60)\n",
      "Processing file: 2019-07-11.npy\n",
      "\tBefore:  (1567, 15, 6000)\n",
      "\tAfter:  (1567, 15, 60)\n",
      "Processing file: 2019-06-01.npy\n",
      "\tBefore:  (5, 15, 6000)\n",
      "\tAfter:  (5, 15, 60)\n",
      "Processing file: 2019-06-11.npy\n",
      "\tBefore:  (2, 15, 6000)\n",
      "\tAfter:  (2, 15, 60)\n",
      "Processing file: 2019-09-15.npy\n",
      "\tBefore:  (114, 15, 6000)\n",
      "\tAfter:  (114, 15, 60)\n",
      "Processing file: 2019-08-30.npy\n",
      "\tBefore:  (201, 15, 6000)\n",
      "\tAfter:  (201, 15, 60)\n",
      "Processing file: 2019-06-28.npy\n",
      "\tBefore:  (7, 15, 6000)\n",
      "\tAfter:  (7, 15, 60)\n",
      "Processing file: 2019-07-23.npy\n",
      "\tBefore:  (495, 15, 6000)\n",
      "\tAfter:  (495, 15, 60)\n",
      "Processing file: 2019-07-12.npy\n",
      "\tBefore:  (1615, 15, 6000)\n",
      "\tAfter:  (1615, 15, 60)\n",
      "Processing file: 2019-06-09.npy\n",
      "\tBefore:  (5, 15, 6000)\n",
      "\tAfter:  (5, 15, 60)\n",
      "Processing file: 2019-06-05.npy\n",
      "\tBefore:  (10, 15, 6000)\n",
      "\tAfter:  (10, 15, 60)\n",
      "Processing file: 2019-09-03.npy\n",
      "\tBefore:  (207, 15, 6000)\n",
      "\tAfter:  (207, 15, 60)\n",
      "Processing file: 2019-06-13.npy\n",
      "\tBefore:  (9, 15, 6000)\n",
      "\tAfter:  (9, 15, 60)\n",
      "Processing file: 2019-09-27.npy\n",
      "\tBefore:  (104, 15, 6000)\n",
      "\tAfter:  (104, 15, 60)\n",
      "Processing file: 2019-08-08.npy\n",
      "\tBefore:  (261, 15, 6000)\n",
      "\tAfter:  (261, 15, 60)\n",
      "Processing file: 2019-09-07.npy\n",
      "\tBefore:  (165, 15, 6000)\n",
      "\tAfter:  (165, 15, 60)\n",
      "Processing file: 2019-08-21.npy\n",
      "\tBefore:  (256, 15, 6000)\n",
      "\tAfter:  (256, 15, 60)\n",
      "Processing file: 2019-09-08.npy\n",
      "\tBefore:  (191, 15, 6000)\n",
      "\tAfter:  (191, 15, 60)\n",
      "Processing file: 2019-09-18.npy\n",
      "\tBefore:  (90, 15, 6000)\n",
      "\tAfter:  (90, 15, 60)\n",
      "Processing file: 2019-09-24.npy\n",
      "\tBefore:  (68, 15, 6000)\n",
      "\tAfter:  (68, 15, 60)\n",
      "Processing file: 2019-07-03.npy\n",
      "\tBefore:  (1, 15, 6000)\n",
      "\tAfter:  (1, 15, 60)\n",
      "Processing file: 2019-06-18.npy\n",
      "\tBefore:  (7, 15, 6000)\n",
      "\tAfter:  (7, 15, 60)\n",
      "Processing file: 2019-08-18.npy\n",
      "\tBefore:  (222, 15, 6000)\n",
      "\tAfter:  (222, 15, 60)\n",
      "Processing file: 2019-08-03.npy\n",
      "\tBefore:  (221, 15, 6000)\n",
      "\tAfter:  (221, 15, 60)\n",
      "Processing file: 2019-06-23.npy\n",
      "\tBefore:  (3, 15, 6000)\n",
      "\tAfter:  (3, 15, 60)\n",
      "Processing file: 2019-06-02.npy\n",
      "\tBefore:  (7, 15, 6000)\n",
      "\tAfter:  (7, 15, 60)\n",
      "Processing file: 2019-08-17.npy\n",
      "\tBefore:  (263, 15, 6000)\n",
      "\tAfter:  (263, 15, 60)\n",
      "Processing file: 2019-09-10.npy\n",
      "\tBefore:  (136, 15, 6000)\n",
      "\tAfter:  (136, 15, 60)\n",
      "Processing file: 2019-08-09.npy\n",
      "\tBefore:  (240, 15, 6000)\n",
      "\tAfter:  (240, 15, 60)\n",
      "Processing file: 2019-08-06.npy\n",
      "\tBefore:  (226, 15, 6000)\n",
      "\tAfter:  (226, 15, 60)\n",
      "Processing file: 2019-07-05.npy\n",
      "\tBefore:  (1224, 15, 6000)\n",
      "\tAfter:  (1224, 15, 60)\n",
      "Processing file: 2019-06-24.npy\n",
      "\tBefore:  (6, 15, 6000)\n",
      "\tAfter:  (6, 15, 60)\n",
      "Processing file: 2019-07-09.npy\n",
      "\tBefore:  (1822, 15, 6000)\n",
      "\tAfter:  (1822, 15, 60)\n",
      "Processing file: 2019-07-20.npy\n",
      "\tBefore:  (573, 15, 6000)\n",
      "\tAfter:  (573, 15, 60)\n",
      "Processing file: 2019-09-14.npy\n",
      "\tBefore:  (170, 15, 6000)\n",
      "\tAfter:  (170, 15, 60)\n",
      "Processing file: 2019-09-05.npy\n",
      "\tBefore:  (145, 15, 6000)\n",
      "\tAfter:  (145, 15, 60)\n",
      "Processing file: 2019-08-29.npy\n",
      "\tBefore:  (213, 15, 6000)\n",
      "\tAfter:  (213, 15, 60)\n",
      "Processing file: 2019-07-24.npy\n",
      "\tBefore:  (472, 15, 6000)\n",
      "\tAfter:  (472, 15, 60)\n",
      "Processing file: 2019-09-01.npy\n",
      "\tBefore:  (239, 15, 6000)\n",
      "\tAfter:  (239, 15, 60)\n",
      "Processing file: 2019-06-21.npy\n",
      "\tBefore:  (10, 15, 6000)\n",
      "\tAfter:  (10, 15, 60)\n",
      "Processing file: 2019-07-29.npy\n",
      "\tBefore:  (371, 15, 6000)\n",
      "\tAfter:  (371, 15, 60)\n",
      "Processing file: 2019-08-07.npy\n",
      "\tBefore:  (221, 15, 6000)\n",
      "\tAfter:  (221, 15, 60)\n",
      "Processing file: 2019-07-01.npy\n",
      "\tBefore:  (8, 15, 6000)\n",
      "\tAfter:  (8, 15, 60)\n",
      "Processing file: 2019-08-19.npy\n",
      "\tBefore:  (258, 15, 6000)\n",
      "\tAfter:  (258, 15, 60)\n",
      "Processing file: 2019-08-02.npy\n",
      "\tBefore:  (185, 15, 6000)\n",
      "\tAfter:  (185, 15, 60)\n",
      "Processing file: 2019-07-10.npy\n",
      "\tBefore:  (1830, 15, 6000)\n",
      "\tAfter:  (1830, 15, 60)\n",
      "Processing file: 2019-07-30.npy\n",
      "\tBefore:  (398, 15, 6000)\n",
      "\tAfter:  (398, 15, 60)\n",
      "Processing file: 2019-06-25.npy\n",
      "\tBefore:  (7, 15, 6000)\n",
      "\tAfter:  (7, 15, 60)\n",
      "Processing file: 2019-06-14.npy\n",
      "\tBefore:  (5, 15, 6000)\n",
      "\tAfter:  (5, 15, 60)\n",
      "Processing file: 2019-06-17.npy\n",
      "\tBefore:  (5, 15, 6000)\n",
      "\tAfter:  (5, 15, 60)\n",
      "Processing file: 2019-09-12.npy\n",
      "\tBefore:  (173, 15, 6000)\n",
      "\tAfter:  (173, 15, 60)\n"
     ]
    }
   ],
   "source": [
    "if not os.path.exists(compressed_path):\n",
    "    os.mkdir(compressed_path)\n",
    "    \n",
    "files = [entry.name for entry in os.scandir(relevant_path) if \"2019\" in entry.name]\n",
    "print(files)\n",
    "print(len(files))\n",
    "\n",
    "WIDTH = 100\n",
    "for file in files:\n",
    "    print(\"Processing file: {}\".format(file))\n",
    "    large = np.load(os.path.join(relevant_path, file))\n",
    "    print(\"\\tBefore: \", large.shape)\n",
    "    comp_shape = (large.shape[0], large.shape[1], large.shape[2] // WIDTH)\n",
    "    compressed = np.zeros(comp_shape)\n",
    "    for i in range(comp_shape[2]):\n",
    "        compressed[:, :, i] = np.mean(large[:, :, WIDTH*i: WIDTH*(i+1)], 2)\n",
    "    print(\"\\tAfter: \", compressed.shape)\n",
    "    np.save(os.path.join(compressed_path, file), compressed)\n",
    "    "
   ]
  },
  {
   "cell_type": "code",
   "execution_count": 80,
   "metadata": {},
   "outputs": [
    {
     "data": {
      "image/png": "[encoded data removed]",
      "text/plain": [
       "<Figure size 432x288 with 1 Axes>"
      ]
     },
     "metadata": {
      "needs_background": "light"
     },
     "output_type": "display_data"
    },
    {
     "data": {
      "image/png": "[encoded data removed]",
      "text/plain": [
       "<Figure size 432x288 with 1 Axes>"
      ]
     },
     "metadata": {
      "needs_background": "light"
     },
     "output_type": "display_data"
    }
   ],
   "source": [
    "test_date = \"2019-07-06.npy\"\n",
    "test_original = np.load(os.path.join(relevant_path, test_date))\n",
    "test_compressed = np.load(os.path.join(compressed_path, test_date))\n",
    "\n",
    "plt.plot(test_original[0, 0, :], alpha=0.25)\n",
    "plt.show()\n",
    "plt.plot(test_compressed[0, 0, :])\n",
    "plt.show()"
   ]
  },
  {
   "cell_type": "code",
   "execution_count": null,
   "metadata": {},
   "outputs": [],
   "source": []
  }
 ],
 "metadata": {
  "kernelspec": {
   "display_name": "Python 3",
   "language": "python",
   "name": "python3"
  },
  "language_info": {
   "codemirror_mode": {
    "name": "ipython",
    "version": 3
   },
   "file_extension": ".py",
   "mimetype": "text/x-python",
   "name": "python",
   "nbconvert_exporter": "python",
   "pygments_lexer": "ipython3",
   "version": "3.7.4"
  }
 },
 "nbformat": 4,
 "nbformat_minor": 4
}
