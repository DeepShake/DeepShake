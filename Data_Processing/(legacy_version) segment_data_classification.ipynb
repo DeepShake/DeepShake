{
 "cells": [
  {
   "cell_type": "markdown",
   "metadata": {
    "colab_type": "text",
    "id": "pa49bUnKyRgF"
   },
   "source": [
    "## Segment earthquake + no-quake data into 15s windows for classification\n",
    "\n",
    "Segment data into richter classes. \n",
    "\n",
    "Normalize across *both* time and stations\n",
    "\n",
    "Convert accelerations to log(accelerations)"
   ]
  },
  {
   "cell_type": "code",
   "execution_count": 1,
   "metadata": {},
   "outputs": [],
   "source": [
    "import sys\n",
    "sys.path.append(\"../utils/.\")"
   ]
  },
  {
   "cell_type": "code",
   "execution_count": 2,
   "metadata": {
    "colab": {},
    "colab_type": "code",
    "id": "7rZnJaGTWQw0"
   },
   "outputs": [],
   "source": [
    "from __future__ import absolute_import, division, print_function, unicode_literals\n",
    "\n",
    "import matplotlib as mpl\n",
    "import matplotlib.pyplot as plt\n",
    "import numpy as np\n",
    "import os\n",
    "import pandas as pd\n",
    "\n",
    "mpl.rcParams['figure.figsize'] = (8, 6)\n",
    "mpl.rcParams['axes.grid'] = False\n",
    "\n",
    "# tf.random.set_random_seed(13)\n",
    "\n",
    "from utils import *\n",
    "import copy \n"
   ]
  },
  {
   "cell_type": "code",
   "execution_count": 3,
   "metadata": {},
   "outputs": [],
   "source": [
    "data_path = '../data/acc/compressed/full_data.npy'\n",
    "save_path = \"../data/histStat_norm_class/\"\n",
    "\n",
    "if not os.path.exists(save_path):\n",
    "    os.makedirs(save_path)\n",
    "\n",
    "STEP = 1\n",
    "future_target = 10\n",
    "past_history = 15\n"
   ]
  },
  {
   "cell_type": "markdown",
   "metadata": {
    "colab_type": "text",
    "id": "TokBlnUhWFw9"
   },
   "source": [
    "## The Ridgecrest Dataset\n",
    "This notebook uses a earthquake dataset from Ridgecrest, collected from July to September of 2019.\n",
    "There are several thousand earthquakes during this time period, which were collected at anywhere from 16-30 stations."
   ]
  },
  {
   "cell_type": "code",
   "execution_count": 4,
   "metadata": {},
   "outputs": [
    {
     "name": "stdout",
     "output_type": "stream",
     "text": [
      "35679\n",
      "-0.49 7.1\n",
      "0 5\n"
     ]
    },
    {
     "data": {
      "image/png": "[encoded data removed]",
      "text/plain": [
       "<Figure size 576x432 with 1 Axes>"
      ]
     },
     "metadata": {
      "needs_background": "light"
     },
     "output_type": "display_data"
    }
   ],
   "source": [
    "from sklearn.utils.class_weight import compute_class_weight\n",
    "\n",
    "richters_path = \"../data/metadata/richters.npy\"\n",
    "richters = np.load(richters_path)\n",
    "print(len(richters))\n",
    "print(min(richters), max(richters))\n",
    "\n",
    "classes = [0, 1, 2, 3]\n",
    "richters_classes = np.floor(richters).astype(int) \n",
    "richters_classes[richters_classes >= 5] = 5\n",
    "richters_classes[richters_classes <= 0] = 0\n",
    "\n",
    "print(richters_classes.min(), richters_classes.max())\n",
    "\n",
    "unique, counts = np.unique(richters_classes, return_counts=True)\n",
    "plt.bar(unique, counts)\n",
    "plt.show()"
   ]
  },
  {
   "cell_type": "code",
   "execution_count": 5,
   "metadata": {},
   "outputs": [
    {
     "name": "stdout",
     "output_type": "stream",
     "text": [
      "Before:  (35679, 15, 60)\n",
      "After:  (35679, 60, 15)\n"
     ]
    }
   ],
   "source": [
    "#Swap axes\n",
    "dataset = np.load(data_path)\n",
    "print(\"Before: \", dataset.shape)\n",
    "dataset = dataset.swapaxes(1, -1)\n",
    "print(\"After: \", dataset.shape)\n",
    "\n",
    "\n",
    "TRAIN_SPLIT_IDX = int(dataset.shape[0]*0.8)\n",
    "\n",
    "## Shuffle dataset and richter classes\n",
    "dataset, richters_classes = shuffle_together(dataset, richters_classes, seed=10)"
   ]
  },
  {
   "cell_type": "markdown",
   "metadata": {},
   "source": [
    "### Important: Convert to logarithms\n",
    "\n",
    "Richter scale maps log(mag) $\\to$ scale numbers \n",
    "\n",
    "Due to random seed, freeze order of dataset and richter_classes"
   ]
  },
  {
   "cell_type": "code",
   "execution_count": 6,
   "metadata": {},
   "outputs": [],
   "source": [
    "log_data = np.log(dataset + 1e-6) #const to prevent div by 0 bugs"
   ]
  },
  {
   "cell_type": "code",
   "execution_count": 7,
   "metadata": {},
   "outputs": [
    {
     "name": "stdout",
     "output_type": "stream",
     "text": [
      "(array([11660, 13108, 19117, 24685]),) (array([5385, 6250]),)\n"
     ]
    }
   ],
   "source": [
    "largest_idxs_train = np.where(richters_classes[:TRAIN_SPLIT_IDX] >= unique[-1])\n",
    "largest_idxs_val = np.where(richters_classes[TRAIN_SPLIT_IDX:] >= unique[-1])\n",
    "\n",
    "print(largest_idxs_train, largest_idxs_val)"
   ]
  },
  {
   "cell_type": "code",
   "execution_count": 8,
   "metadata": {},
   "outputs": [
    {
     "data": {
      "text/plain": [
       "5"
      ]
     },
     "execution_count": 8,
     "metadata": {},
     "output_type": "execute_result"
    }
   ],
   "source": [
    "richters_classes[:TRAIN_SPLIT_IDX].max()"
   ]
  },
  {
   "cell_type": "code",
   "execution_count": 9,
   "metadata": {},
   "outputs": [
    {
     "name": "stdout",
     "output_type": "stream",
     "text": [
      "<class 'numpy.ndarray'> <class 'numpy.ndarray'>\n",
      "[(0.8902501394608775, 0.06663559279150762), (0.88376576414023, 0.0375788290841515)]\n"
     ]
    }
   ],
   "source": [
    "## Normalization over 60-sec intervals\n",
    "# dataset dims are (N, T, dim)\n",
    "data_mean = np.mean(log_data, axis = (1, 2), keepdims=True) #(N, 1, 1)\n",
    "\n",
    "data_var = np.linalg.norm(log_data - data_mean, axis = (1, 2), keepdims=True) # (N,1,1) \n",
    "\n",
    "#Add some epsilon to make the divide by zero var work\n",
    "data_var[data_var == 0] = 1\n",
    "\n",
    "dataset_normalized = (dataset - data_mean)/data_var #(N, T, dim)\n",
    "\n",
    "train_data = copy.deepcopy(dataset_normalized[:TRAIN_SPLIT_IDX])\n",
    "val_data = copy.deepcopy(dataset_normalized[TRAIN_SPLIT_IDX:])\n",
    "train_labels = richters_classes[:TRAIN_SPLIT_IDX]\n",
    "val_labels = richters_classes[TRAIN_SPLIT_IDX:]\n",
    "\n",
    "x_train_norm, _, q_idxs_train = multivariate_data(train_data, past_history,\n",
    "                                               future_target, STEP,\n",
    "                                               single_step=False,\n",
    "                                                 return_indices=True\n",
    "                                                 )\n",
    "x_val_norm, _, q_idxs_val = multivariate_data(val_data, past_history,\n",
    "                                               future_target, STEP,\n",
    "                                               single_step=False,\n",
    "                                            return_indices=True\n",
    "                                             )\n",
    "\n",
    "\n",
    "\n",
    "print([(tensor.max(), tensor.min()) for tensor in [x_train_norm, x_val_norm]])\n",
    "\n",
    "\n",
    "np.save(os.path.join(save_path, \"X_train_norm60.npy\"), x_train_norm)\n",
    "np.save(os.path.join(save_path, \"X_val_norm60.npy\"), x_val_norm)"
   ]
  },
  {
   "cell_type": "code",
   "execution_count": 13,
   "metadata": {},
   "outputs": [
    {
     "name": "stdout",
     "output_type": "stream",
     "text": [
      "0.9675964175391135 -11.93486834939728\n",
      "70\n"
     ]
    }
   ],
   "source": [
    "## Save Richter 5-7 earthquakes FROM VAL SET\n",
    "\n",
    "large_tensors = log_data[TRAIN_SPLIT_IDX:][largest_idxs_val]\n",
    "\n",
    "x_val_norm_large, y_val_norm_large = multivariate_data(copy.deepcopy(large_tensors), past_history,\n",
    "                                               future_target, STEP,\n",
    "                                               single_step=False)\n",
    "\n",
    "print(x_val_norm_large.max(), x_val_norm_large.min())\n",
    "np.save(os.path.join(save_path, \"large_X_val_norm.npy\"), x_val_norm_large)\n",
    "np.save(os.path.join(save_path, \"large_y_val_norm.npy\"), y_val_norm_large)\n",
    "print(len(x_val_norm_large))"
   ]
  },
  {
   "cell_type": "code",
   "execution_count": 25,
   "metadata": {},
   "outputs": [
    {
     "name": "stdout",
     "output_type": "stream",
     "text": [
      "(999005, 15, 15) (249760, 15, 15)\n"
     ]
    }
   ],
   "source": [
    "x_train_single, _, q_idxs_train = multivariate_data(log_data[:TRAIN_SPLIT_IDX],past_history,\n",
    "                                                   future_target, STEP,\n",
    "                                                   single_step=False,\n",
    "                                                  return_indices=True\n",
    "                                                          )\n",
    "x_val_single, _, q_idxs_val = multivariate_data(log_data[TRAIN_SPLIT_IDX:], past_history,\n",
    "                                               future_target, STEP,\n",
    "                                               single_step=False,\n",
    "                                                return_indices=True\n",
    "                                                      )\n",
    "\n",
    "y_train_labels = np.take(train_labels, q_idxs_train)\n",
    "y_val_labels = np.take(val_labels, q_idxs_val)\n",
    "\n",
    "# print(y_single.shape, x_single.shape)\n",
    "# x_train_single, x_val_single, y_train_single, y_val_single = train_test_split(x_single, y_single, test_size=.2, random_state=13)\n",
    "print(x_train_single.shape, x_val_single.shape)"
   ]
  },
  {
   "cell_type": "code",
   "execution_count": 26,
   "metadata": {},
   "outputs": [],
   "source": [
    "np.save(os.path.join(save_path, \"y_train_labels.npy\"), y_train_labels)\n",
    "np.save(os.path.join(save_path, \"y_val_labels\"), y_val_labels)"
   ]
  },
  {
   "cell_type": "code",
   "execution_count": 27,
   "metadata": {},
   "outputs": [
    {
     "name": "stdout",
     "output_type": "stream",
     "text": [
      "-13.815510557964274 -0.06506396520283543\n",
      "-13.815510557964274 0.9675964175391135\n"
     ]
    }
   ],
   "source": [
    "print(x_train_single.min(), x_train_single.max())\n",
    "\n",
    "print(x_val_single.min(), x_val_single.max())\n"
   ]
  },
  {
   "cell_type": "code",
   "execution_count": 28,
   "metadata": {},
   "outputs": [],
   "source": [
    "np.save(os.path.join(save_path, \"X_train_unnorm.npy\"), x_train_single)\n",
    "np.save(os.path.join(save_path, \"X_val_unnorm.npy\"), x_val_single)\n"
   ]
  },
  {
   "cell_type": "markdown",
   "metadata": {},
   "source": [
    "# Normalization over 15-sec history"
   ]
  },
  {
   "cell_type": "code",
   "execution_count": 57,
   "metadata": {},
   "outputs": [],
   "source": [
    "# \"\"\"\n",
    "# Effect of different eps values\n",
    "# \"\"\"\n",
    "\n",
    "# train_means, train_vars = [], []\n",
    "# val_means, val_vars = [], []\n",
    "\n",
    "# for i in range(1, 15):\n",
    "#     eps = 10**(-i)\n",
    "#     x_train_single_clone = copy.deepcopy(x_train_single)\n",
    "#     x_val_single_clone = copy.deepcopy(x_val_single)\n",
    "#     y_train_single_clone = copy.deepcopy(y_train_single)\n",
    "#     y_val_single_clone = copy.deepcopy(y_val_single)\n",
    "\n",
    "#     data_mean_train = np.mean(x_train_single_clone, axis = 1, keepdims=True)\n",
    "\n",
    "#     # print(data_mean_train.max(), data_mean_train.min())\n",
    "#     data_var_train = np.linalg.norm(x_train_single_clone - data_mean_train, axis=1, keepdims=True)\n",
    "#     data_var_train[data_var_train < eps] = 1\n",
    "\n",
    "#     # print(data_var_train.max(), data_var_train.min())\n",
    "#     x_train_single_clone = (x_train_single_clone - data_mean_train)/data_var_train\n",
    "#     y_train_single_clone = (y_train_single_clone - data_mean_train)/data_var_train\n",
    "\n",
    "\n",
    "#     data_mean_val = np.mean(x_val_single_clone, axis = 1, keepdims=True)\n",
    "#     data_var_val = np.linalg.norm(x_val_single_clone - data_mean_val, axis=1, keepdims=True)\n",
    "#     data_var_val[data_var_val < eps] = 1\n",
    "\n",
    "#     x_val_single_clone = (x_val_single_clone - data_mean_val)/data_var_val\n",
    "#     y_val_single_clone = (y_val_single_clone - data_mean_val)/data_var_val\n",
    "    \n",
    "#     train_means.append(x_train_single_clone.mean())\n",
    "#     train_vars.append(x_train_single_clone.std()**2)\n",
    "#     val_means.append(x_val_single_clone.mean())\n",
    "#     val_vars.append(x_val_single_clone.std()**2)\n",
    "\n",
    "# plt.plot([i for i in range(1, 15)], train_means)\n",
    "# plt.plot([i for i in range(1, 15)], val_means)\n",
    "# plt.title(\"Means\")\n",
    "# plt.show()\n",
    "\n",
    "# plt.plot([i for i in range(1, 15)], train_vars)\n",
    "# plt.plot([i for i in range(1, 15)], val_vars)\n",
    "# plt.title(\"Vars\")\n",
    "# plt.show()"
   ]
  },
  {
   "cell_type": "code",
   "execution_count": 13,
   "metadata": {
    "scrolled": true
   },
   "outputs": [
    {
     "name": "stdout",
     "output_type": "stream",
     "text": [
      "(999005, 1, 15)\n",
      "0.9675964175391135 -13.815510557964274\n",
      "5.196847680528816 0.0\n"
     ]
    }
   ],
   "source": [
    "eps = 1e-7\n",
    "\"\"\"\n",
    "Normalizing using 15-sec history across TIME ONLY\n",
    "\"\"\"\n",
    "data_mean_train = np.mean(x_train_single, axis = 1, keepdims=True)\n",
    "data_std_train = x_train_single.std(axis=1, keepdims=True)\n",
    "print(data_std_train.shape)\n",
    "data_std_train[data_std_train < eps] = 1\n",
    "\n",
    "x_train_single = (x_train_single - data_mean_train)/data_std_train\n",
    "\n",
    "print(x_val_single.max(), x_val_single.min())\n",
    "\n",
    "data_mean_val = np.mean(x_val_single, axis = 1, keepdims=True)\n",
    "data_std_val = x_val_single.std(axis=1 , keepdims=True)\n",
    "print(data_std_val.max(), data_std_val.min())\n",
    "data_std_val[data_std_val < eps] = 1\n",
    "\n",
    "x_val_single = (x_val_single - data_mean_val)/data_std_val\n",
    "\n",
    "\n"
   ]
  },
  {
   "cell_type": "code",
   "execution_count": 16,
   "metadata": {},
   "outputs": [
    {
     "name": "stdout",
     "output_type": "stream",
     "text": [
      "3.741657386774012 -3.740367715081277\n",
      "3.741657386773947 -3.7297080085035246\n"
     ]
    }
   ],
   "source": [
    "print(x_train_single.max(), x_train_single.min())\n",
    "print(x_val_single.max(), x_val_single.min())"
   ]
  },
  {
   "cell_type": "code",
   "execution_count": 17,
   "metadata": {
    "scrolled": true
   },
   "outputs": [
    {
     "data": {
      "image/png": "[encoded data removed]",
      "text/plain": [
       "<Figure size 576x432 with 1 Axes>"
      ]
     },
     "metadata": {
      "needs_background": "light"
     },
     "output_type": "display_data"
    },
    {
     "data": {
      "image/png": "[encoded data removed]",
      "text/plain": [
       "<Figure size 576x432 with 1 Axes>"
      ]
     },
     "metadata": {
      "needs_background": "light"
     },
     "output_type": "display_data"
    }
   ],
   "source": [
    "plt.hist(x_val_single.flatten(), bins=50)\n",
    "plt.show()\n",
    "\n",
    "plt.hist(x_train_single.flatten(), bins=50)\n",
    "plt.show()"
   ]
  },
  {
   "cell_type": "code",
   "execution_count": 18,
   "metadata": {},
   "outputs": [
    {
     "data": {
      "image/png": "[encoded data removed]",
      "text/plain": [
       "<Figure size 576x432 with 1 Axes>"
      ]
     },
     "metadata": {
      "needs_background": "light"
     },
     "output_type": "display_data"
    },
    {
     "data": {
      "image/png": "[encoded data removed]",
      "text/plain": [
       "<Figure size 576x432 with 1 Axes>"
      ]
     },
     "metadata": {
      "needs_background": "light"
     },
     "output_type": "display_data"
    }
   ],
   "source": [
    "plt.hist(data_std_train.flatten(), bins=50)\n",
    "plt.show()\n",
    "\n",
    "plt.hist(data_std_val.flatten(), bins=50)\n",
    "plt.show()"
   ]
  },
  {
   "cell_type": "code",
   "execution_count": 19,
   "metadata": {},
   "outputs": [
    {
     "data": {
      "text/plain": [
       "((999005, 15, 15), (249760, 15, 15))"
      ]
     },
     "execution_count": 19,
     "metadata": {},
     "output_type": "execute_result"
    }
   ],
   "source": [
    "x_train_single.shape, x_val_single.shape, "
   ]
  },
  {
   "cell_type": "code",
   "execution_count": 20,
   "metadata": {},
   "outputs": [],
   "source": [
    "np.save(os.path.join(save_path, \"X_train_histnorm.npy\"), x_train_single)\n",
    "np.save(os.path.join(save_path, \"X_val_histnorm.npy\"), x_val_single)\n",
    "\n",
    "np.save(os.path.join(save_path, \"mean_train_histnorm.npy\"), data_mean_train)\n",
    "np.save(os.path.join(save_path, \"std_train_histnorm.npy\"), data_std_train)\n",
    "np.save(os.path.join(save_path, \"mean_val_histnorm.npy\"), data_mean_val)\n",
    "np.save(os.path.join(save_path, \"std_val_histnorm.npy\"), data_std_val)"
   ]
  },
  {
   "cell_type": "code",
   "execution_count": 30,
   "metadata": {},
   "outputs": [],
   "source": [
    "import json\n",
    "\n",
    "config = dict(zip([\"data_path\", \"past_history\", \"STEP\", \"future_target\"], \\\n",
    "                  [data_path, past_history, STEP, future_target]))\n",
    "\n",
    "with open(os.path.join(save_path, \"config.json\"), 'w') as json_file:\n",
    "    json.dump(config, json_file)"
   ]
  },
  {
   "cell_type": "code",
   "execution_count": null,
   "metadata": {},
   "outputs": [],
   "source": [
    "print(x_train_single.max())"
   ]
  }
 ],
 "metadata": {
  "accelerator": "GPU",
  "colab": {
   "collapsed_sections": [],
   "name": "time_series.ipynb",
   "private_outputs": true,
   "toc_visible": true
  },
  "kernelspec": {
   "display_name": "Python 3",
   "language": "python",
   "name": "python3"
  },
  "language_info": {
   "codemirror_mode": {
    "name": "ipython",
    "version": 3
   },
   "file_extension": ".py",
   "mimetype": "text/x-python",
   "name": "python",
   "nbconvert_exporter": "python",
   "pygments_lexer": "ipython3",
   "version": "3.7.7"
  }
 },
 "nbformat": 4,
 "nbformat_minor": 4
}
