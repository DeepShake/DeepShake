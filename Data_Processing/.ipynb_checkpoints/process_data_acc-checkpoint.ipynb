{
 "cells": [
  {
   "cell_type": "markdown",
   "metadata": {},
   "source": [
    "# Process Data\n",
    "\n",
    "This notebook goes through the steps to process raw .pkl files into a usable format by\n",
    "1. Extracting data for each earthquake as well as earthquake metadata\n",
    "2. Selecting a subset of stations out of all those with data to perform analysis\n",
    "3. Compress data via subsampling\n"
   ]
  },
  {
   "cell_type": "code",
   "execution_count": 2,
   "metadata": {},
   "outputs": [],
   "source": [
    "## Imports\n",
    "\n",
    "import pickle\n",
    "from pathlib import Path\n",
    "import datetime\n",
    "import os\n",
    "from tqdm import tqdm\n",
    "import matplotlib.pyplot as plt\n",
    "import matplotlib \n",
    "import seaborn as sns; sns.set()\n",
    "# matplotlib.rc('font', **{'size': 18})\n",
    "import numpy as np\n",
    "import json"
   ]
  },
  {
   "cell_type": "code",
   "execution_count": 3,
   "metadata": {},
   "outputs": [],
   "source": [
    "load_path = '../data/Ridgecrest/'\n",
    "data_dir = \"../data/\"\n",
    "raw_path = os.path.join(data_dir, \"raw\")\n",
    "meta_path = os.path.join(data_dir, \"metadata\")\n",
    "relevant_path = os.path.join(data_dir, \"acc\", \"relevant_stations\")\n",
    "compressed_path = os.path.join(data_dir, \"acc\", \"compressed\")"
   ]
  },
  {
   "cell_type": "markdown",
   "metadata": {},
   "source": [
    "### Step-1: Extract data for earthquakes"
   ]
  },
  {
   "cell_type": "markdown",
   "metadata": {},
   "source": [
    "#### Part a: Extract accelerations"
   ]
  },
  {
   "cell_type": "code",
   "execution_count": 3,
   "metadata": {},
   "outputs": [],
   "source": [
    "def get_indices(station_start_time, earthquake_start_time, period = 6000, step=100, offset=15):\n",
    "    start_idx = int(100*(earthquake_start_time - station_start_time)) - offset*step\n",
    "    end_idx = start_idx + period\n",
    "    return (start_idx, end_idx)\n"
   ]
  },
  {
   "cell_type": "code",
   "execution_count": null,
   "metadata": {},
   "outputs": [],
   "source": [
    "input_dir = Path(load_path)\n",
    "\n",
    "output_dir = Path(raw_path)\n",
    "output_files = [os.path.split(f)[1].split('.')[0] for f in sorted(output_dir.glob(\"*.npy\"))]\n",
    "print(output_files)\n",
    "\n",
    "if not os.path.exists(raw_path):\n",
    "    os.mkdir(raw_path)\n",
    "\n",
    "def np_from_pkl(data_path, save_path, period = 6000):\n",
    "    input_dir = Path(data_path)\n",
    "    sorted(input_dir.glob(\"*.pkl\"))\n",
    "    for f in tqdm(sorted(input_dir.glob(\"*.pkl\"))):\n",
    "#         print(f)\n",
    "        day_id = os.path.split(f)[1].split('.')[0]\n",
    "#         if day_id in output_files: \n",
    "#             print(\"File found for date: {}\".format(day_id))\n",
    "#             continue\n",
    "        ## Iterating over pickles\n",
    "        stations = []\n",
    "        with open(f, 'rb') as fp:\n",
    "            try:\n",
    "                data = pickle.load(fp)\n",
    "            except:\n",
    "                print(\"Pickle Corrupted\")\n",
    "                print(\"Corrupted path: {}\".format(f))\n",
    "                continue\n",
    "            num_stations, num_events = len(data['stations']), len(data['events'])\n",
    "#             data_arr = np.zeros\n",
    "\n",
    "            for station in data['stations']:\n",
    "                events = []\n",
    "                for event in data['events']:\n",
    "                    start_idx, end_idx = get_indices(data['stations'][station]['starttime'], event['time'])\n",
    "                    if (end_idx > len(data['stations'][station]['data']) - 1) or (start_idx < 0):\n",
    "                        continue #skip event\n",
    "                    events.append(np.transpose(data['stations'][station]['data'][start_idx: end_idx], (1, 0)))\n",
    "                events = np.array(events)\n",
    "#                 print(\"events shape\", events.shape)\n",
    "                stations.append(events)\n",
    "        save_arr = np.array(stations) \n",
    "#         print(\"station shape: \", save_arr.shape)\n",
    "        filename = day_id + \".npy\"\n",
    "        np.save(os.path.join(save_path, filename), save_arr) \n",
    "        \n",
    "np_from_pkl(load_path, raw_path)\n"
   ]
  },
  {
   "cell_type": "markdown",
   "metadata": {},
   "source": [
    "#### Part b: Extract metadata"
   ]
  },
  {
   "cell_type": "code",
   "execution_count": null,
   "metadata": {},
   "outputs": [],
   "source": [
    "## Reads through pickles. Saves stations and events (w/o the big boy quake data)    \n",
    "\n",
    "if not os.path.exists(meta_path):\n",
    "    os.mkdir(meta_path)\n",
    "    \n",
    "def save_station_and_events(data_path, save_path):\n",
    "    dropped = []\n",
    "    input_dir = Path(data_path)\n",
    "    sorted(input_dir.glob(\"*.pkl\"))\n",
    "    for f in tqdm(sorted(input_dir.glob(\"*.pkl\"))):\n",
    "        print(f)\n",
    "        day_id = os.path.split(f)[1].split('.')[0]\n",
    "        ## Iterating over pickles\n",
    "#         stations = []\n",
    "        with open(f, 'rb') as fp:\n",
    "            try:\n",
    "                data = pickle.load(fp)\n",
    "            except:\n",
    "                print(\"Pickle Corrupted\")\n",
    "                print(\"Corrupted path: {}\".format(f))\n",
    "                continue\n",
    "                \n",
    "        first_stat = list(data['stations'].keys())[0]\n",
    "        filename = day_id + \"_meta.json\"\n",
    "                \n",
    "        ## Idxs to keep\n",
    "        idxs_to_keep = []\n",
    "        for e, event in enumerate(data['events']):\n",
    "            start_idx, end_idx = get_indices(data['stations'][first_stat]['starttime'], event['time'])\n",
    "            if (end_idx > len(data['stations'][first_stat]['data']) - 1) or (start_idx < 0):\n",
    "                ## Event was skipped\n",
    "                pass\n",
    "            else:\n",
    "                idxs_to_keep.append(e)\n",
    "        before = len(data['events'])\n",
    "        data['events'] = [data['events'][idx] for idx in idxs_to_keep]\n",
    "        after = len(data['events'])\n",
    "        print(\"Num events dropped from date {}: {}\".format(day_id, before - after))\n",
    "        dropped.append(before - after)\n",
    "        for station in data['stations']:\n",
    "#             print(data['stations'][station].keys())\n",
    "            for key in ['starttime', 'endtime', 'data']:\n",
    "                del data['stations'][station][key]            \n",
    "        for e, event in enumerate(data['events']):\n",
    "            del data['events'][e]['time']\n",
    "#         print(data)\n",
    "        stations = np.array([stat for stat in data['stations'].keys()])\n",
    "        print(stations)\n",
    "        np.save(os.path.join(save_path, \"{}_stations.npy\".format(day_id)), stations)\n",
    "        with open(os.path.join(save_path, filename), 'w') as fp:\n",
    "            json.dump(data, fp)      \n",
    "    with open(os.path.join(save_path, \"dropped_events.txt\"), 'w') as fp:\n",
    "        fp.write(str(sum(dropped)) + '\\n')\n",
    "        for d in dropped:\n",
    "            fp.write(str(d)+'\\n')\n",
    "        \n",
    "save_station_and_events(load_path, meta_path)"
   ]
  },
  {
   "cell_type": "markdown",
   "metadata": {},
   "source": [
    "#### Part c: Get shapes for all dates"
   ]
  },
  {
   "cell_type": "code",
   "execution_count": 14,
   "metadata": {},
   "outputs": [
    {
     "name": "stdout",
     "output_type": "stream",
     "text": [
      "122\n"
     ]
    }
   ],
   "source": [
    "files = [entry for entry in os.scandir(raw_path)]\n",
    "print(len(files))"
   ]
  },
  {
   "cell_type": "code",
   "execution_count": 37,
   "metadata": {
    "collapsed": true,
    "jupyter": {
     "outputs_hidden": true
    }
   },
   "outputs": [
    {
     "name": "stdout",
     "output_type": "stream",
     "text": [
      "(23, 94, 3, 6000)\n",
      "(16, 3, 3, 6000)\n",
      "(31, 267, 3, 6000)\n",
      "(28, 250, 3, 6000)\n",
      "(16, 12, 3, 6000)\n",
      "(19, 1235, 3, 6000)\n",
      "(31, 559, 3, 6000)\n",
      "(30, 739, 3, 6000)\n",
      "(33, 243, 3, 6000)\n",
      "(27, 244, 3, 6000)\n",
      "(16, 10, 3, 6000)\n",
      "(29, 245, 3, 6000)\n",
      "(16, 11, 3, 6000)\n",
      "(26, 118, 3, 6000)\n",
      "(31, 275, 3, 6000)\n",
      "(25, 158, 3, 6000)\n",
      "(16, 7, 3, 6000)\n",
      "(32, 257, 3, 6000)\n",
      "(29, 644, 3, 6000)\n",
      "(34, 551, 3, 6000)\n",
      "(16, 11, 3, 6000)\n",
      "(29, 744, 3, 6000)\n",
      "(31, 134, 3, 6000)\n",
      "(24, 144, 3, 6000)\n",
      "(26, 123, 3, 6000)\n",
      "(16, 4, 3, 6000)\n",
      "(32, 229, 3, 6000)\n",
      "(29, 647, 3, 6000)\n",
      "(27, 271, 3, 6000)\n",
      "(21, 1335, 3, 6000)\n",
      "(25, 99, 3, 6000)\n",
      "(32, 315, 3, 6000)\n",
      "(32, 836, 3, 6000)\n",
      "(23, 83, 3, 6000)\n",
      "(16, 2, 3, 6000)\n",
      "(16, 5, 3, 6000)\n",
      "(32, 731, 3, 6000)\n",
      "(34, 545, 3, 6000)\n",
      "(30, 251, 3, 6000)\n",
      "(29, 462, 3, 6000)\n",
      "(31, 357, 3, 6000)\n",
      "(16, 6, 3, 6000)\n",
      "(31, 233, 3, 6000)\n",
      "(31, 290, 3, 6000)\n",
      "(16, 15, 3, 6000)\n",
      "(16, 6, 3, 6000)\n",
      "(17, 1895, 3, 6000)\n",
      "(16, 4, 3, 6000)\n",
      "(16, 4, 3, 6000)\n",
      "(31, 285, 3, 6000)\n",
      "(31, 228, 3, 6000)\n",
      "(24, 131, 3, 6000)\n",
      "(32, 294, 3, 6000)\n",
      "(16, 20, 3, 6000)\n",
      "(30, 233, 3, 6000)\n",
      "(25, 81, 3, 6000)\n",
      "(16, 12, 3, 6000)\n",
      "(28, 567, 3, 6000)\n",
      "(24, 101, 3, 6000)\n",
      "(31, 424, 3, 6000)\n",
      "(27, 196, 3, 6000)\n",
      "(31, 238, 3, 6000)\n",
      "(16, 2, 3, 6000)\n",
      "(31, 165, 3, 6000)\n",
      "(25, 85, 3, 6000)\n",
      "(25, 70, 3, 6000)\n",
      "(16, 516, 3, 6000)\n",
      "(29, 694, 3, 6000)\n",
      "(28, 446, 3, 6000)\n",
      "(31, 144, 3, 6000)\n",
      "(25, 105, 3, 6000)\n",
      "(28, 1567, 3, 6000)\n",
      "(16, 5, 3, 6000)\n",
      "(16, 2, 3, 6000)\n",
      "(25, 114, 3, 6000)\n",
      "(31, 201, 3, 6000)\n",
      "(16, 7, 3, 6000)\n",
      "(34, 495, 3, 6000)\n",
      "(32, 1615, 3, 6000)\n",
      "(16, 5, 3, 6000)\n",
      "(16, 10, 3, 6000)\n",
      "(32, 207, 3, 6000)\n",
      "(16, 9, 3, 6000)\n",
      "(26, 104, 3, 6000)\n",
      "(27, 261, 3, 6000)\n",
      "(31, 165, 3, 6000)\n",
      "(31, 256, 3, 6000)\n",
      "(32, 191, 3, 6000)\n",
      "(24, 90, 3, 6000)\n",
      "(24, 68, 3, 6000)\n",
      "(16, 1, 3, 6000)\n",
      "(16, 7, 3, 6000)\n",
      "(31, 222, 3, 6000)\n",
      "(27, 221, 3, 6000)\n",
      "(16, 3, 3, 6000)\n",
      "(16, 7, 3, 6000)\n",
      "(32, 263, 3, 6000)\n",
      "(24, 85, 3, 6000)\n",
      "(31, 136, 3, 6000)\n",
      "(28, 240, 3, 6000)\n",
      "(27, 226, 3, 6000)\n",
      "(16, 1224, 3, 6000)\n",
      "(16, 6, 3, 6000)\n",
      "(23, 1822, 3, 6000)\n",
      "(34, 573, 3, 6000)\n",
      "(25, 170, 3, 6000)\n",
      "(31, 145, 3, 6000)\n",
      "(30, 213, 3, 6000)\n",
      "(34, 472, 3, 6000)\n",
      "(30, 239, 3, 6000)\n",
      "(16, 10, 3, 6000)\n",
      "(28, 371, 3, 6000)\n",
      "(27, 221, 3, 6000)\n",
      "(16, 8, 3, 6000)\n",
      "(31, 258, 3, 6000)\n",
      "(28, 185, 3, 6000)\n",
      "(26, 1830, 3, 6000)\n",
      "(28, 398, 3, 6000)\n",
      "(16, 7, 3, 6000)\n",
      "(16, 5, 3, 6000)\n",
      "(16, 5, 3, 6000)\n",
      "(24, 173, 3, 6000)\n"
     ]
    }
   ],
   "source": [
    "stations, events = [], []\n",
    "for file in files:\n",
    "#     print(np.load(os.path.join(data_path, file)).shape)\n",
    "    temp = np.load(file)\n",
    "    print(temp.shape)\n",
    "    stations.append(temp.shape[0])\n",
    "    events.append(temp.shape[1])\n",
    "    del temp\n"
   ]
  },
  {
   "cell_type": "code",
   "execution_count": 39,
   "metadata": {},
   "outputs": [
    {
     "name": "stdout",
     "output_type": "stream",
     "text": [
      "{'2019-09-22.npy': (23, 94, 3, 6000), '2019-06-12.npy': (16, 3, 3, 6000), '2019-08-25.npy': (31, 267, 3, 6000), '2019-07-31.npy': (28, 250, 3, 6000), '2019-07-02.npy': (16, 12, 3, 6000), '2019-07-07.npy': (19, 1235, 3, 6000), '2019-07-19.npy': (31, 559, 3, 6000), '2019-07-17.npy': (30, 739, 3, 6000), '2019-08-15.npy': (33, 243, 3, 6000), '2019-08-04.npy': (27, 244, 3, 6000), '2019-06-10.npy': (16, 10, 3, 6000), '2019-08-10.npy': (29, 245, 3, 6000), '2019-06-26.npy': (16, 11, 3, 6000), '2019-09-30.npy': (26, 118, 3, 6000), '2019-08-26.npy': (31, 275, 3, 6000), '2019-09-13.npy': (25, 158, 3, 6000), '2019-06-29.npy': (16, 7, 3, 6000), '2019-08-13.npy': (32, 257, 3, 6000), '2019-07-26.npy': (29, 644, 3, 6000), '2019-07-21.npy': (34, 551, 3, 6000), '2019-06-08.npy': (16, 11, 3, 6000), '2019-07-15.npy': (29, 744, 3, 6000), '2019-09-06.npy': (31, 134, 3, 6000), '2019-09-11.npy': (24, 144, 3, 6000), '2019-09-26.npy': (26, 123, 3, 6000), '2019-06-04.npy': (16, 4, 3, 6000), '2019-08-16.npy': (32, 229, 3, 6000), '2019-07-18.npy': (29, 647, 3, 6000), '2019-08-05.npy': (27, 271, 3, 6000), '2019-07-08.npy': (21, 1335, 3, 6000), '2019-09-20.npy': (25, 99, 3, 6000), '2019-08-12.npy': (32, 315, 3, 6000), '2019-07-13.npy': (32, 836, 3, 6000), '2019-09-16.npy': (23, 83, 3, 6000), '2019-06-03.npy': (16, 2, 3, 6000), '2019-06-30.npy': (16, 5, 3, 6000), '2019-07-14.npy': (32, 731, 3, 6000), '2019-07-22.npy': (34, 545, 3, 6000), '2019-08-27.npy': (30, 251, 3, 6000), '2019-07-25.npy': (29, 462, 3, 6000), '2019-08-22.npy': (31, 357, 3, 6000), '2019-06-19.npy': (16, 6, 3, 6000), '2019-08-31.npy': (31, 233, 3, 6000), '2019-08-11.npy': (31, 290, 3, 6000), '2019-06-06.npy': (16, 15, 3, 6000), '2019-06-27.npy': (16, 6, 3, 6000), '2019-07-06.npy': (17, 1895, 3, 6000), '2019-06-07.npy': (16, 4, 3, 6000), '2019-06-20.npy': (16, 4, 3, 6000), '2019-08-24.npy': (31, 285, 3, 6000), '2019-08-20.npy': (31, 228, 3, 6000), '2019-09-23.npy': (24, 131, 3, 6000), '2019-08-14.npy': (32, 294, 3, 6000), '2019-06-16.npy': (16, 20, 3, 6000), '2019-08-28.npy': (30, 233, 3, 6000), '2019-09-29.npy': (25, 81, 3, 6000), '2019-06-15.npy': (16, 12, 3, 6000), '2019-07-28.npy': (28, 567, 3, 6000), '2019-09-17.npy': (24, 101, 3, 6000), '2019-08-23.npy': (31, 424, 3, 6000), '2019-08-01.npy': (27, 196, 3, 6000), '2019-09-02.npy': (31, 238, 3, 6000), '2019-06-22.npy': (16, 2, 3, 6000), '2019-09-04.npy': (31, 165, 3, 6000), '2019-09-25.npy': (25, 85, 3, 6000), '2019-09-19.npy': (25, 70, 3, 6000), '2019-07-04.npy': (16, 516, 3, 6000), '2019-07-16.npy': (29, 694, 3, 6000), '2019-07-27.npy': (28, 446, 3, 6000), '2019-09-09.npy': (31, 144, 3, 6000), '2019-09-28.npy': (25, 105, 3, 6000), '2019-07-11.npy': (28, 1567, 3, 6000), '2019-06-01.npy': (16, 5, 3, 6000), '2019-06-11.npy': (16, 2, 3, 6000), '2019-09-15.npy': (25, 114, 3, 6000), '2019-08-30.npy': (31, 201, 3, 6000), '2019-06-28.npy': (16, 7, 3, 6000), '2019-07-23.npy': (34, 495, 3, 6000), '2019-07-12.npy': (32, 1615, 3, 6000), '2019-06-09.npy': (16, 5, 3, 6000), '2019-06-05.npy': (16, 10, 3, 6000), '2019-09-03.npy': (32, 207, 3, 6000), '2019-06-13.npy': (16, 9, 3, 6000), '2019-09-27.npy': (26, 104, 3, 6000), '2019-08-08.npy': (27, 261, 3, 6000), '2019-09-07.npy': (31, 165, 3, 6000), '2019-08-21.npy': (31, 256, 3, 6000), '2019-09-08.npy': (32, 191, 3, 6000), '2019-09-18.npy': (24, 90, 3, 6000), '2019-09-24.npy': (24, 68, 3, 6000), '2019-07-03.npy': (16, 1, 3, 6000), '2019-06-18.npy': (16, 7, 3, 6000), '2019-08-18.npy': (31, 222, 3, 6000), '2019-08-03.npy': (27, 221, 3, 6000), '2019-06-23.npy': (16, 3, 3, 6000), '2019-06-02.npy': (16, 7, 3, 6000), '2019-08-17.npy': (32, 263, 3, 6000), '2019-09-21.npy': (24, 85, 3, 6000), '2019-09-10.npy': (31, 136, 3, 6000), '2019-08-09.npy': (28, 240, 3, 6000), '2019-08-06.npy': (27, 226, 3, 6000), '2019-07-05.npy': (16, 1224, 3, 6000), '2019-06-24.npy': (16, 6, 3, 6000), '2019-07-09.npy': (23, 1822, 3, 6000), '2019-07-20.npy': (34, 573, 3, 6000), '2019-09-14.npy': (25, 170, 3, 6000), '2019-09-05.npy': (31, 145, 3, 6000), '2019-08-29.npy': (30, 213, 3, 6000), '2019-07-24.npy': (34, 472, 3, 6000), '2019-09-01.npy': (30, 239, 3, 6000), '2019-06-21.npy': (16, 10, 3, 6000), '2019-07-29.npy': (28, 371, 3, 6000), '2019-08-07.npy': (27, 221, 3, 6000), '2019-07-01.npy': (16, 8, 3, 6000), '2019-08-19.npy': (31, 258, 3, 6000), '2019-08-02.npy': (28, 185, 3, 6000), '2019-07-10.npy': (26, 1830, 3, 6000), '2019-07-30.npy': (28, 398, 3, 6000), '2019-06-25.npy': (16, 7, 3, 6000), '2019-06-14.npy': (16, 5, 3, 6000), '2019-06-17.npy': (16, 5, 3, 6000), '2019-09-12.npy': (24, 173, 3, 6000)}\n"
     ]
    }
   ],
   "source": [
    "dates = [file.name for file in files]\n",
    "stat_evs = zip(stations, events)\n",
    "\n",
    "shapes = [(s, v, 3, 6000) for s, v in stat_evs]\n",
    "mapping = dict(zip(dates, shapes))\n",
    "print(mapping)\n",
    "\n",
    "with open(os.path.join(meta_path, 'date_to_shape.json'), 'w') as fp:\n",
    "    json.dump(mapping, fp)"
   ]
  },
  {
   "cell_type": "markdown",
   "metadata": {},
   "source": [
    "#### Part d: Count number of quakes per station"
   ]
  },
  {
   "cell_type": "code",
   "execution_count": 11,
   "metadata": {},
   "outputs": [
    {
     "name": "stdout",
     "output_type": "stream",
     "text": [
      "['2019-09-18_stations.npy', '2019-09-23_stations.npy', '2019-08-03_stations.npy', '2019-08-31_stations.npy', '2019-07-17_stations.npy', '2019-06-03_stations.npy', '2019-06-26_stations.npy', '2019-07-16_stations.npy', '2019-09-29_stations.npy', '2019-06-17_stations.npy', '2019-06-04_stations.npy', '2019-09-28_stations.npy', '2019-07-02_stations.npy', '2019-09-25_stations.npy', '2019-06-29_stations.npy', '2019-06-08_stations.npy', '2019-09-06_stations.npy', '2019-09-14_stations.npy', '2019-06-01_stations.npy', '2019-07-05_stations.npy', '2019-09-16_stations.npy', '2019-07-14_stations.npy', '2019-06-13_stations.npy', '2019-08-14_stations.npy', '2019-09-17_stations.npy', '2019-09-27_stations.npy', '2019-08-04_stations.npy', '2019-09-22_stations.npy', '2019-07-18_stations.npy', '2019-07-30_stations.npy', '2019-08-27_stations.npy', '2019-09-15_stations.npy', '2019-09-05_stations.npy', '2019-06-06_stations.npy', '2019-09-12_stations.npy', '2019-09-21_stations.npy', '2019-06-09_stations.npy', '2019-07-19_stations.npy', '2019-08-19_stations.npy', '2019-08-11_stations.npy', '2019-06-21_stations.npy', '2019-09-19_stations.npy', '2019-07-21_stations.npy', '2019-08-25_stations.npy', '2019-08-10_stations.npy', '2019-07-23_stations.npy', '2019-09-24_stations.npy', '2019-09-03_stations.npy', '2019-07-24_stations.npy', '2019-06-11_stations.npy', '2019-08-18_stations.npy', '2019-06-15_stations.npy', '2019-08-30_stations.npy', '2019-08-21_stations.npy', '2019-08-15_stations.npy', '2019-07-09_stations.npy', '2019-08-16_stations.npy', '2019-07-22_stations.npy', '2019-07-20_stations.npy', '2019-08-07_stations.npy', '2019-06-27_stations.npy', '2019-07-26_stations.npy', '2019-06-02_stations.npy', '2019-08-26_stations.npy', '2019-07-07_stations.npy', '2019-09-09_stations.npy', '2019-08-02_stations.npy', '2019-07-29_stations.npy', '2019-06-12_stations.npy', '2019-09-04_stations.npy', '2019-08-12_stations.npy', '2019-08-01_stations.npy', '2019-06-07_stations.npy', '2019-06-16_stations.npy', '2019-07-11_stations.npy', '2019-07-03_stations.npy', '2019-06-18_stations.npy', '2019-06-19_stations.npy', '2019-08-06_stations.npy', '2019-07-04_stations.npy', '2019-09-30_stations.npy', '2019-07-01_stations.npy', '2019-08-24_stations.npy', '2019-08-09_stations.npy', '2019-08-22_stations.npy', '2019-06-10_stations.npy', '2019-09-11_stations.npy', '2019-08-13_stations.npy', '2019-09-20_stations.npy', '2019-07-25_stations.npy', '2019-08-05_stations.npy', '2019-09-10_stations.npy', '2019-08-17_stations.npy', '2019-09-13_stations.npy', '2019-09-07_stations.npy', '2019-09-26_stations.npy', '2019-06-30_stations.npy', '2019-06-25_stations.npy', '2019-07-06_stations.npy', '2019-07-08_stations.npy', '2019-09-01_stations.npy', '2019-06-05_stations.npy', '2019-07-27_stations.npy', '2019-07-15_stations.npy', '2019-08-28_stations.npy', '2019-08-08_stations.npy', '2019-06-23_stations.npy', '2019-07-31_stations.npy', '2019-07-13_stations.npy', '2019-06-22_stations.npy', '2019-07-12_stations.npy', '2019-06-14_stations.npy', '2019-09-02_stations.npy', '2019-07-10_stations.npy', '2019-06-24_stations.npy', '2019-08-20_stations.npy', '2019-06-20_stations.npy', '2019-08-23_stations.npy', '2019-06-28_stations.npy', '2019-09-08_stations.npy', '2019-08-29_stations.npy', '2019-07-28_stations.npy']\n"
     ]
    }
   ],
   "source": [
    "station_files = [entry.name for entry in Path(meta_path).glob(\"*.npy\") if \"stations\" in entry.name]\n",
    "print(station_files)"
   ]
  },
  {
   "cell_type": "code",
   "execution_count": 12,
   "metadata": {},
   "outputs": [],
   "source": [
    "stations = []\n",
    "for file in station_files:\n",
    "    stations.append(np.load(os.path.join(meta_path, file)))\n",
    "    \n",
    "# print(stations)"
   ]
  },
  {
   "cell_type": "code",
   "execution_count": 28,
   "metadata": {},
   "outputs": [
    {
     "name": "stdout",
     "output_type": "stream",
     "text": [
      "Stations:  {'CI.CCC.': 0, 'CI.DTP.': 0, 'CI.JRC2.': 0, 'CI.LRL.': 0, 'CI.MPM.': 0, 'CI.SLA.': 0, 'CI.SRT.': 0, 'CI.TOW2.': 0, 'CI.WBM.': 0, 'CI.WCS2.': 0, 'CI.WMF.': 0, 'CI.WNM.': 0, 'CI.WRC2.': 0, 'CI.WRV2.': 0, 'CI.WVP2.': 0, 'GS.CA01.20': 0, 'GS.CA03.20': 0, 'GS.CA05.20': 0, 'GS.CA06.20': 0, 'GS.CA07.00': 0, 'GS.CA08.00': 0, 'GS.CA09.00': 0, 'GS.CA10.00': 0, 'NP.5419.10': 0, 'ZY.SV01.': 0, 'ZY.SV06.': 0, 'ZY.SV08.': 0, 'CI.CLC.': 0, 'GS.CA04.20': 0, 'ZY.SV02.': 0, 'ZY.SV03.': 0, 'ZY.SV04.': 0, 'GS.CA02.20': 0, 'ZY.SV05.': 0, 'ZY.SV07.': 0, 'NP.5419.': 0}\n",
      "36\n"
     ]
    }
   ],
   "source": [
    "counts = {}\n",
    "for v in stations:\n",
    "    for stat in v:\n",
    "        if stat not in counts:\n",
    "            counts[stat] = 0\n",
    "print(\"Stations: \", counts)\n",
    "print(len(counts))"
   ]
  },
  {
   "cell_type": "code",
   "execution_count": 29,
   "metadata": {},
   "outputs": [
    {
     "name": "stdout",
     "output_type": "stream",
     "text": [
      "['2019-09-22.npy', '2019-06-12.npy', '2019-08-25.npy', '2019-07-31.npy', '2019-07-02.npy', '2019-07-07.npy', '2019-07-19.npy', '2019-07-17.npy', '2019-08-15.npy', '2019-08-04.npy', '2019-06-10.npy', '2019-08-10.npy', '2019-06-26.npy', '2019-09-30.npy', '2019-08-26.npy', '2019-09-13.npy', '2019-06-29.npy', '2019-08-13.npy', '2019-07-26.npy', '2019-07-21.npy', '2019-06-08.npy', '2019-07-15.npy', '2019-09-06.npy', '2019-09-11.npy', '2019-09-26.npy', '2019-06-04.npy', '2019-08-16.npy', '2019-07-18.npy', '2019-08-05.npy', '2019-07-08.npy', '2019-09-20.npy', '2019-08-12.npy', '2019-07-13.npy', '2019-09-16.npy', '2019-06-03.npy', '2019-06-30.npy', '2019-07-14.npy', '2019-07-22.npy', '2019-08-27.npy', '2019-07-25.npy', '2019-08-22.npy', '2019-06-19.npy', '2019-08-31.npy', '2019-08-11.npy', '2019-06-06.npy', '2019-06-27.npy', '2019-07-06.npy', '2019-06-07.npy', '2019-06-20.npy', '2019-08-24.npy', '2019-08-20.npy', '2019-09-23.npy', '2019-08-14.npy', '2019-06-16.npy', '2019-08-28.npy', '2019-09-29.npy', '2019-06-15.npy', '2019-07-28.npy', '2019-09-17.npy', '2019-08-23.npy', '2019-08-01.npy', '2019-09-02.npy', '2019-06-22.npy', '2019-09-04.npy', '2019-09-25.npy', '2019-09-19.npy', '2019-07-04.npy', '2019-07-16.npy', '2019-07-27.npy', '2019-09-09.npy', '2019-09-28.npy', '2019-07-11.npy', '2019-06-01.npy', '2019-06-11.npy', '2019-09-15.npy', '2019-08-30.npy', '2019-06-28.npy', '2019-07-23.npy', '2019-07-12.npy', '2019-06-09.npy', '2019-06-05.npy', '2019-09-03.npy', '2019-06-13.npy', '2019-09-27.npy', '2019-08-08.npy', '2019-09-07.npy', '2019-08-21.npy', '2019-09-08.npy', '2019-09-18.npy', '2019-09-24.npy', '2019-07-03.npy', '2019-06-18.npy', '2019-08-18.npy', '2019-08-03.npy', '2019-06-23.npy', '2019-06-02.npy', '2019-08-17.npy', '2019-09-21.npy', '2019-09-10.npy', '2019-08-09.npy', '2019-08-06.npy', '2019-07-05.npy', '2019-06-24.npy', '2019-07-09.npy', '2019-07-20.npy', '2019-09-14.npy', '2019-09-05.npy', '2019-08-29.npy', '2019-07-24.npy', '2019-09-01.npy', '2019-06-21.npy', '2019-07-29.npy', '2019-08-07.npy', '2019-07-01.npy', '2019-08-19.npy', '2019-08-02.npy', '2019-07-10.npy', '2019-07-30.npy', '2019-06-25.npy', '2019-06-14.npy', '2019-06-17.npy', '2019-09-12.npy']\n"
     ]
    }
   ],
   "source": [
    "date_to_shape = None\n",
    "with open(os.path.join(meta_path, 'date_to_shape.json'), 'r') as json_file:\n",
    "    date_to_shape = json.load(json_file)\n",
    "    dates, shapes = zip(*date_to_shape.items())\n",
    "    dates, shapes = list(dates), list(shapes)\n",
    "\n",
    "# dates = [dates[i].split('.')[0] for i in range(len(dates))]\n",
    "print(dates)"
   ]
  },
  {
   "cell_type": "code",
   "execution_count": 30,
   "metadata": {},
   "outputs": [
    {
     "name": "stdout",
     "output_type": "stream",
     "text": [
      "[23, 94, 3, 6000] ['CI.CCC.' 'CI.DTP.' 'CI.JRC2.' 'CI.LRL.' 'CI.MPM.' 'CI.SLA.' 'CI.SRT.'\n",
      " 'CI.TOW2.' 'CI.WBM.' 'CI.WCS2.' 'CI.WMF.' 'CI.WNM.' 'CI.WRC2.' 'CI.WRV2.'\n",
      " 'CI.WVP2.' 'GS.CA01.20' 'GS.CA03.20' 'GS.CA05.20' 'GS.CA06.20'\n",
      " 'GS.CA07.00' 'GS.CA08.00' 'GS.CA09.00' 'GS.CA10.00' 'NP.5419.10']\n"
     ]
    }
   ],
   "source": [
    "print(shapes[0], stations[0])"
   ]
  },
  {
   "cell_type": "code",
   "execution_count": 31,
   "metadata": {},
   "outputs": [
    {
     "name": "stdout",
     "output_type": "stream",
     "text": [
      "{'CI.CCC.': 35858, 'CI.DTP.': 35858, 'CI.JRC2.': 35206, 'CI.LRL.': 35858, 'CI.MPM.': 35858, 'CI.SLA.': 35858, 'CI.SRT.': 35858, 'CI.TOW2.': 35858, 'CI.WBM.': 35858, 'CI.WCS2.': 35858, 'CI.WMF.': 35858, 'CI.WNM.': 35858, 'CI.WRC2.': 35858, 'CI.WRV2.': 35858, 'CI.WVP2.': 35858, 'GS.CA01.20': 24076, 'GS.CA03.20': 23836, 'GS.CA05.20': 23499, 'GS.CA06.20': 23747, 'GS.CA07.00': 23633, 'GS.CA08.00': 23633, 'GS.CA09.00': 19846, 'GS.CA10.00': 15593, 'NP.5419.10': 14526, 'ZY.SV01.': 18914, 'ZY.SV06.': 17628, 'ZY.SV08.': 17451, 'CI.CLC.': 25627, 'GS.CA04.20': 14837, 'ZY.SV02.': 8140, 'ZY.SV03.': 9145, 'ZY.SV04.': 8602, 'GS.CA02.20': 6360, 'ZY.SV05.': 8265, 'ZY.SV07.': 7804, 'NP.5419.': 136}\n"
     ]
    }
   ],
   "source": [
    "for s_idx, s in enumerate(shapes):\n",
    "#     print(s[0])\n",
    "#     print(s[0], stations[dates[s_idx]])\n",
    "    num_events = s[1]\n",
    "#     print(s_idx)\n",
    "#     print(s[0], date_to_shape[dates[s_idx]][0])\n",
    "    assert s[0] == date_to_shape[dates[s_idx]][0]\n",
    "\n",
    "#     assert s[0] == stations[s_idx].shape[0]\n",
    "    for stat in stations[s_idx]:\n",
    "        counts[stat] += num_events\n",
    "print(counts)"
   ]
  },
  {
   "cell_type": "code",
   "execution_count": 32,
   "metadata": {},
   "outputs": [
    {
     "name": "stdout",
     "output_type": "stream",
     "text": [
      "35206\n"
     ]
    }
   ],
   "source": [
    "print(counts['CI.JRC2.'])"
   ]
  },
  {
   "cell_type": "code",
   "execution_count": 33,
   "metadata": {},
   "outputs": [
    {
     "data": {
      "image/png": "[encoded data removed]",
      "text/plain": [
       "<Figure size 2880x720 with 1 Axes>"
      ]
     },
     "metadata": {
      "needs_background": "light"
     },
     "output_type": "display_data"
    }
   ],
   "source": [
    "sorted_dict = sorted(zip(list(counts.values()), list(counts.keys())))\n",
    "sorted_counts, sorted_stats = zip(*sorted_dict)\n",
    "sorted_counts, sorted_stats = sorted_counts[::-1], sorted_stats[::-1]\n",
    "plt.figure(figsize=(40,10))\n",
    "plt.bar(sorted_stats, sorted_counts)\n",
    "plt.xlabel('Stations'); plt.ylabel(\"Num events\")\n",
    "plt.show()"
   ]
  },
  {
   "cell_type": "code",
   "execution_count": 34,
   "metadata": {},
   "outputs": [],
   "source": [
    "with open(os.path.join(meta_path, 'all_station_counts.json'), 'w') as fp:\n",
    "    json.dump(counts, fp)  "
   ]
  },
  {
   "cell_type": "markdown",
   "metadata": {},
   "source": [
    "### Step-2: Filter relevant stations"
   ]
  },
  {
   "cell_type": "code",
   "execution_count": 4,
   "metadata": {},
   "outputs": [
    {
     "name": "stdout",
     "output_type": "stream",
     "text": [
      "{'CI.CCC.': 35858, 'CI.DTP.': 35858, 'CI.JRC2.': 35206, 'CI.LRL.': 35858, 'CI.MPM.': 35858, 'CI.SLA.': 35858, 'CI.SRT.': 35858, 'CI.TOW2.': 35858, 'CI.WBM.': 35858, 'CI.WCS2.': 35858, 'CI.WMF.': 35858, 'CI.WNM.': 35858, 'CI.WRC2.': 35858, 'CI.WRV2.': 35858, 'CI.WVP2.': 35858, 'GS.CA01.20': 24076, 'GS.CA03.20': 23836, 'GS.CA05.20': 23499, 'GS.CA06.20': 23747, 'GS.CA07.00': 23633, 'GS.CA08.00': 23633, 'GS.CA09.00': 19846, 'GS.CA10.00': 15593, 'NP.5419.10': 14526, 'ZY.SV01.': 18914, 'ZY.SV06.': 17628, 'ZY.SV08.': 17451, 'CI.CLC.': 25627, 'GS.CA04.20': 14837, 'ZY.SV02.': 8140, 'ZY.SV03.': 9145, 'ZY.SV04.': 8602, 'GS.CA02.20': 6360, 'ZY.SV05.': 8265, 'ZY.SV07.': 7804, 'NP.5419.': 136}\n"
     ]
    }
   ],
   "source": [
    "num_stations = 15\n",
    "\n",
    "with open(os.path.join(meta_path, 'all_station_counts.json')) as json_file:\n",
    "    stat_counts = json.load(json_file)\n",
    "\n",
    "print(stat_counts)"
   ]
  },
  {
   "cell_type": "code",
   "execution_count": 5,
   "metadata": {},
   "outputs": [
    {
     "name": "stdout",
     "output_type": "stream",
     "text": [
      "('CI.WVP2.', 'CI.WRV2.', 'CI.WRC2.', 'CI.WNM.', 'CI.WMF.', 'CI.WCS2.', 'CI.WBM.', 'CI.TOW2.', 'CI.SRT.', 'CI.SLA.', 'CI.MPM.', 'CI.LRL.', 'CI.DTP.', 'CI.CCC.', 'CI.JRC2.')\n",
      "(35858, 35858, 35858, 35858, 35858, 35858, 35858, 35858, 35858, 35858, 35858, 35858, 35858, 35858, 35206)\n"
     ]
    },
    {
     "data": {
      "image/png": "[encoded data removed]",
      "text/plain": [
       "<Figure size 576x864 with 1 Axes>"
      ]
     },
     "metadata": {
      "needs_background": "light"
     },
     "output_type": "display_data"
    }
   ],
   "source": [
    "sorted_dict = sorted(zip(list(stat_counts.values()), list(stat_counts.keys())))\n",
    "sorted_counts, sorted_stats = zip(*sorted_dict)\n",
    "sorted_counts, sorted_stats = sorted_counts[::-1], sorted_stats[::-1]\n",
    "# plt.bar(sorted_stats, sorted_counts)\n",
    "# plt.title(\"Station event counts\")\n",
    "# plt.show()\n",
    "\n",
    "master_stations = sorted_stats[:num_stations]\n",
    "print(master_stations)\n",
    "print(sorted_counts[:num_stations])\n",
    "\n",
    "fig, ax = plt.subplots(figsize=(8,12))\n",
    "# Example data\n",
    "stats = sorted_stats\n",
    "station_counts = sorted_counts\n",
    "\n",
    "y_pos = np.arange(len(stats))\n",
    "\n",
    "ax.barh(stats, station_counts, align='center')\n",
    "ax.set_yticks(y_pos)\n",
    "ax.set_yticklabels(stats)\n",
    "ax.invert_yaxis()  # labels read top-to-bottom\n",
    "ax.set_xlabel('Earthquake counts')\n",
    "ax.set_ylabel('Stations')\n",
    "ax.set_title('Distribution of earthquakes across stations')\n",
    "\n",
    "plt.show()"
   ]
  },
  {
   "cell_type": "code",
   "execution_count": 6,
   "metadata": {},
   "outputs": [
    {
     "name": "stdout",
     "output_type": "stream",
     "text": [
      "122\n"
     ]
    }
   ],
   "source": [
    "## Create array of dates\n",
    "dates = sorted([entry.name.split(\".\")[0] for entry in list(os.scandir(raw_path)) if \"npy\" in entry.name])\n",
    "# print(sorted(dates))\n",
    "print(len(dates))"
   ]
  },
  {
   "cell_type": "code",
   "execution_count": null,
   "metadata": {},
   "outputs": [
    {
     "name": "stderr",
     "output_type": "stream",
     "text": [
      "  4%|▍         | 5/122 [00:00<00:02, 45.68it/s]"
     ]
    },
    {
     "name": "stdout",
     "output_type": "stream",
     "text": [
      "Extracting data for stations: ('CI.WVP2.', 'CI.WRV2.', 'CI.WRC2.', 'CI.WNM.', 'CI.WMF.', 'CI.WCS2.', 'CI.WBM.', 'CI.TOW2.', 'CI.SRT.', 'CI.SLA.', 'CI.MPM.', 'CI.LRL.', 'CI.DTP.', 'CI.CCC.', 'CI.JRC2.')\n"
     ]
    },
    {
     "name": "stderr",
     "output_type": "stream",
     "text": [
      " 34%|███▎      | 41/122 [03:46<44:56, 33.28s/it]"
     ]
    }
   ],
   "source": [
    "if not os.path.exists(relevant_path):\n",
    "    os.mkdir(relevant_path)\n",
    "\n",
    "print(\"Extracting data for stations: {}\".format(master_stations))\n",
    "np.save(os.path.join(relevant_path, \"stations.npy\"), master_stations)\n",
    "\n",
    "dropped_dates = []\n",
    "ev_count = 0\n",
    "for date in tqdm(dates):\n",
    "    date_data = os.path.join(raw_path, date+\".npy\")\n",
    "#     print(\"Loading data from date {}\".format(date))\n",
    "    date_arr = np.load(date_data)\n",
    "    \n",
    "    ## look for stations for that day (metadata)\n",
    "    station_meta = os.path.join(meta_path, date+\"_stations.npy\")\n",
    "#     print(\"\\tLoading metadata from {}\".format(station_meta))\n",
    "    date_stations = np.load(station_meta)\n",
    "#     print(\"testing\", date_stations, master_stations, date_arr)\n",
    "    delete_date = False\n",
    "    stats_for_date = []\n",
    "#     print(\"\\tStations for date {}: {}\".format(date, date_stations))\n",
    "\n",
    "    for master in master_stations: \n",
    "        if master not in date_stations: \n",
    "            delete_date = True\n",
    "            break     \n",
    "#         print(date_stations, master)\n",
    "        \n",
    "        # Index date_arr using indices that match master in date_stations\n",
    "        idx_date = date_arr[date_stations == master]\n",
    "#         print(idx_date.shape)\n",
    "#         print(idx)\n",
    "#         stats_for_date.append(date_arr[idx, :, :,])\n",
    "        stats_for_date.append(idx_date)\n",
    "\n",
    "    if delete_date is True: \n",
    "        print(\"\\tDeleting date {}\".format(date))\n",
    "        dropped_dates.append(date)\n",
    "        continue\n",
    "    stats_for_date = np.concatenate(stats_for_date, 0)\n",
    "    assert stats_for_date.shape[0] == len(master_stations)\n",
    "    date_save = os.path.join(relevant_path, \"{}.npy\".format(date))\n",
    "    stats_for_date = np.transpose(stats_for_date, [1, 0, 2, 3]) #(num_evs, stats, dim, time)\n",
    "    stats_for_date = np.linalg.norm(stats_for_date, ord=2, axis=2)\n",
    "    ev_count += stats_for_date.shape[0]\n",
    "#     print(stats_for_date.shape)\n",
    "#     np.save(date_save, stats_for_date)\n",
    "#     print(stats_for_date.shape)\n",
    "#     break\n",
    "print(\"Dropped dates: \", dropped_dates)\n",
    "print(ev_count)"
   ]
  },
  {
   "cell_type": "markdown",
   "metadata": {},
   "source": [
    "### Step-3: Compress via subsampling"
   ]
  },
  {
   "cell_type": "code",
   "execution_count": 38,
   "metadata": {},
   "outputs": [
    {
     "name": "stdout",
     "output_type": "stream",
     "text": [
      "['2019-06-12.npy', '2019-08-25.npy', '2019-07-31.npy', '2019-07-02.npy', '2019-07-07.npy', '2019-07-19.npy', '2019-07-17.npy', '2019-08-15.npy', '2019-08-04.npy', '2019-06-10.npy', '2019-08-10.npy', '2019-06-26.npy', '2019-09-30.npy', '2019-08-26.npy', '2019-09-13.npy', '2019-06-29.npy', '2019-08-13.npy', '2019-07-26.npy', '2019-07-21.npy', '2019-06-08.npy', '2019-07-15.npy', '2019-09-06.npy', '2019-09-11.npy', '2019-09-26.npy', '2019-06-04.npy', '2019-08-16.npy', '2019-07-18.npy', '2019-08-05.npy', '2019-07-08.npy', '2019-09-20.npy', '2019-08-12.npy', '2019-07-13.npy', '2019-09-16.npy', '2019-06-03.npy', '2019-06-30.npy', '2019-07-14.npy', '2019-07-22.npy', '2019-08-27.npy', '2019-07-25.npy', '2019-08-22.npy', '2019-06-19.npy', '2019-08-31.npy', '2019-08-11.npy', '2019-06-06.npy', '2019-06-27.npy', '2019-07-06.npy', '2019-06-07.npy', '2019-06-20.npy', '2019-08-24.npy', '2019-08-20.npy', '2019-09-23.npy', '2019-08-14.npy', '2019-06-16.npy', '2019-08-28.npy', '2019-09-29.npy', '2019-06-15.npy', '2019-07-28.npy', '2019-09-17.npy', '2019-08-23.npy', '2019-08-01.npy', '2019-09-02.npy', '2019-06-22.npy', '2019-09-04.npy', '2019-09-25.npy', '2019-09-19.npy', '2019-07-04.npy', '2019-07-16.npy', '2019-07-27.npy', '2019-09-09.npy', '2019-09-28.npy', '2019-07-11.npy', '2019-06-01.npy', '2019-06-11.npy', '2019-09-15.npy', '2019-08-30.npy', '2019-06-28.npy', '2019-07-23.npy', '2019-07-12.npy', '2019-06-09.npy', '2019-06-05.npy', '2019-09-03.npy', '2019-06-13.npy', '2019-09-27.npy', '2019-08-08.npy', '2019-09-07.npy', '2019-08-21.npy', '2019-09-08.npy', '2019-09-18.npy', '2019-09-24.npy', '2019-07-03.npy', '2019-06-18.npy', '2019-08-18.npy', '2019-08-03.npy', '2019-06-23.npy', '2019-06-02.npy', '2019-08-17.npy', '2019-09-10.npy', '2019-08-09.npy', '2019-08-06.npy', '2019-07-05.npy', '2019-06-24.npy', '2019-07-09.npy', '2019-07-20.npy', '2019-09-14.npy', '2019-09-05.npy', '2019-08-29.npy', '2019-07-24.npy', '2019-09-01.npy', '2019-06-21.npy', '2019-07-29.npy', '2019-08-07.npy', '2019-07-01.npy', '2019-08-19.npy', '2019-08-02.npy', '2019-07-10.npy', '2019-07-30.npy', '2019-06-25.npy', '2019-06-14.npy', '2019-06-17.npy', '2019-09-12.npy']\n",
      "120\n",
      "Processing file: 2019-06-12.npy\n",
      "Processing file: 2019-08-25.npy\n",
      "Processing file: 2019-07-31.npy\n",
      "Processing file: 2019-07-02.npy\n",
      "Processing file: 2019-07-07.npy\n",
      "Processing file: 2019-07-19.npy\n",
      "Processing file: 2019-07-17.npy\n",
      "Processing file: 2019-08-15.npy\n",
      "Processing file: 2019-08-04.npy\n",
      "Processing file: 2019-06-10.npy\n",
      "Processing file: 2019-08-10.npy\n",
      "Processing file: 2019-06-26.npy\n",
      "Processing file: 2019-09-30.npy\n",
      "Processing file: 2019-08-26.npy\n",
      "Processing file: 2019-09-13.npy\n",
      "Processing file: 2019-06-29.npy\n",
      "Processing file: 2019-08-13.npy\n",
      "Processing file: 2019-07-26.npy\n",
      "Processing file: 2019-07-21.npy\n",
      "Processing file: 2019-06-08.npy\n",
      "Processing file: 2019-07-15.npy\n",
      "Processing file: 2019-09-06.npy\n",
      "Processing file: 2019-09-11.npy\n",
      "Processing file: 2019-09-26.npy\n",
      "Processing file: 2019-06-04.npy\n",
      "Processing file: 2019-08-16.npy\n",
      "Processing file: 2019-07-18.npy\n",
      "Processing file: 2019-08-05.npy\n",
      "Processing file: 2019-07-08.npy\n",
      "Processing file: 2019-09-20.npy\n",
      "Processing file: 2019-08-12.npy\n",
      "Processing file: 2019-07-13.npy\n",
      "Processing file: 2019-09-16.npy\n",
      "Processing file: 2019-06-03.npy\n",
      "Processing file: 2019-06-30.npy\n",
      "Processing file: 2019-07-14.npy\n",
      "Processing file: 2019-07-22.npy\n",
      "Processing file: 2019-08-27.npy\n",
      "Processing file: 2019-07-25.npy\n",
      "Processing file: 2019-08-22.npy\n",
      "Processing file: 2019-06-19.npy\n",
      "Processing file: 2019-08-31.npy\n",
      "Processing file: 2019-08-11.npy\n",
      "Processing file: 2019-06-06.npy\n",
      "Processing file: 2019-06-27.npy\n",
      "Processing file: 2019-07-06.npy\n",
      "Processing file: 2019-06-07.npy\n",
      "Processing file: 2019-06-20.npy\n",
      "Processing file: 2019-08-24.npy\n",
      "Processing file: 2019-08-20.npy\n",
      "Processing file: 2019-09-23.npy\n",
      "Processing file: 2019-08-14.npy\n",
      "Processing file: 2019-06-16.npy\n",
      "Processing file: 2019-08-28.npy\n",
      "Processing file: 2019-09-29.npy\n",
      "Processing file: 2019-06-15.npy\n",
      "Processing file: 2019-07-28.npy\n",
      "Processing file: 2019-09-17.npy\n",
      "Processing file: 2019-08-23.npy\n",
      "Processing file: 2019-08-01.npy\n",
      "Processing file: 2019-09-02.npy\n",
      "Processing file: 2019-06-22.npy\n",
      "Processing file: 2019-09-04.npy\n",
      "Processing file: 2019-09-25.npy\n",
      "Processing file: 2019-09-19.npy\n",
      "Processing file: 2019-07-04.npy\n",
      "Processing file: 2019-07-16.npy\n",
      "Processing file: 2019-07-27.npy\n",
      "Processing file: 2019-09-09.npy\n",
      "Processing file: 2019-09-28.npy\n",
      "Processing file: 2019-07-11.npy\n",
      "Processing file: 2019-06-01.npy\n",
      "Processing file: 2019-06-11.npy\n",
      "Processing file: 2019-09-15.npy\n",
      "Processing file: 2019-08-30.npy\n",
      "Processing file: 2019-06-28.npy\n",
      "Processing file: 2019-07-23.npy\n",
      "Processing file: 2019-07-12.npy\n",
      "Processing file: 2019-06-09.npy\n",
      "Processing file: 2019-06-05.npy\n",
      "Processing file: 2019-09-03.npy\n",
      "Processing file: 2019-06-13.npy\n",
      "Processing file: 2019-09-27.npy\n",
      "Processing file: 2019-08-08.npy\n",
      "Processing file: 2019-09-07.npy\n",
      "Processing file: 2019-08-21.npy\n",
      "Processing file: 2019-09-08.npy\n",
      "Processing file: 2019-09-18.npy\n",
      "Processing file: 2019-09-24.npy\n",
      "Processing file: 2019-07-03.npy\n",
      "Processing file: 2019-06-18.npy\n",
      "Processing file: 2019-08-18.npy\n",
      "Processing file: 2019-08-03.npy\n",
      "Processing file: 2019-06-23.npy\n",
      "Processing file: 2019-06-02.npy\n",
      "Processing file: 2019-08-17.npy\n",
      "Processing file: 2019-09-10.npy\n",
      "Processing file: 2019-08-09.npy\n",
      "Processing file: 2019-08-06.npy\n",
      "Processing file: 2019-07-05.npy\n",
      "Processing file: 2019-06-24.npy\n",
      "Processing file: 2019-07-09.npy\n",
      "Processing file: 2019-07-20.npy\n",
      "Processing file: 2019-09-14.npy\n",
      "Processing file: 2019-09-05.npy\n",
      "Processing file: 2019-08-29.npy\n",
      "Processing file: 2019-07-24.npy\n",
      "Processing file: 2019-09-01.npy\n",
      "Processing file: 2019-06-21.npy\n",
      "Processing file: 2019-07-29.npy\n",
      "Processing file: 2019-08-07.npy\n",
      "Processing file: 2019-07-01.npy\n",
      "Processing file: 2019-08-19.npy\n",
      "Processing file: 2019-08-02.npy\n",
      "Processing file: 2019-07-10.npy\n",
      "Processing file: 2019-07-30.npy\n",
      "Processing file: 2019-06-25.npy\n",
      "Processing file: 2019-06-14.npy\n",
      "Processing file: 2019-06-17.npy\n",
      "Processing file: 2019-09-12.npy\n"
     ]
    }
   ],
   "source": [
    "if not os.path.exists(compressed_path):\n",
    "    os.mkdir(compressed_path)\n",
    "    \n",
    "files = [entry.name for entry in os.scandir(relevant_path) if \"2019\" in entry.name]\n",
    "print(files)\n",
    "print(len(files))\n",
    "\n",
    "WIDTH = 100\n",
    "quake_counts = 0\n",
    "for file in files:\n",
    "    print(\"Processing file: {}\".format(file))\n",
    "    large = np.load(os.path.join(relevant_path, file))\n",
    "    print(\"\\tBefore: \", large.shape)\n",
    "    comp_shape = (large.shape[0], large.shape[1], large.shape[2] // WIDTH)\n",
    "    compressed = np.zeros(comp_shape)\n",
    "    for i in range(comp_shape[2]):\n",
    "        compressed[:, :, i] = np.mean(large[:, :, WIDTH*i: WIDTH*(i+1)], 2)\n",
    "    print(\"\\tAfter: \", compressed.shape)\n",
    "    quake_counts += large.shape[0]\n",
    "#     np.save(os.path.join(compressed_path, file), compressed)\n",
    "    "
   ]
  },
  {
   "cell_type": "code",
   "execution_count": 39,
   "metadata": {},
   "outputs": [
    {
     "name": "stdout",
     "output_type": "stream",
     "text": [
      "35679\n"
     ]
    }
   ],
   "source": [
    "print(quake_counts)"
   ]
  },
  {
   "cell_type": "code",
   "execution_count": 80,
   "metadata": {},
   "outputs": [
    {
     "data": {
      "image/png": "[encoded data removed]",
      "text/plain": [
       "<Figure size 432x288 with 1 Axes>"
      ]
     },
     "metadata": {
      "needs_background": "light"
     },
     "output_type": "display_data"
    },
    {
     "data": {
      "image/png": "[encoded data removed]",
      "text/plain": [
       "<Figure size 432x288 with 1 Axes>"
      ]
     },
     "metadata": {
      "needs_background": "light"
     },
     "output_type": "display_data"
    }
   ],
   "source": [
    "test_date = \"2019-07-06.npy\"\n",
    "test_original = np.load(os.path.join(relevant_path, test_date))\n",
    "test_compressed = np.load(os.path.join(compressed_path, test_date))\n",
    "\n",
    "plt.plot(test_original[0, 0, :], alpha=0.25)\n",
    "plt.show()\n",
    "plt.plot(test_compressed[0, 0, :])\n",
    "plt.show()"
   ]
  },
  {
   "cell_type": "code",
   "execution_count": null,
   "metadata": {},
   "outputs": [],
   "source": []
  }
 ],
 "metadata": {
  "kernelspec": {
   "display_name": "Python 3",
   "language": "python",
   "name": "python3"
  },
  "language_info": {
   "codemirror_mode": {
    "name": "ipython",
    "version": 3
   },
   "file_extension": ".py",
   "mimetype": "text/x-python",
   "name": "python",
   "nbconvert_exporter": "python",
   "pygments_lexer": "ipython3",
   "version": "3.7.4"
  }
 },
 "nbformat": 4,
 "nbformat_minor": 4
}
