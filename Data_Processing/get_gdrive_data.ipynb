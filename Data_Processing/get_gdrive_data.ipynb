{
 "cells": [
  {
   "cell_type": "markdown",
   "metadata": {},
   "source": [
    "# Get the data"
   ]
  },
  {
   "cell_type": "code",
   "execution_count": 11,
   "metadata": {},
   "outputs": [],
   "source": [
    "import gdown\n",
    "import os"
   ]
  },
  {
   "cell_type": "code",
   "execution_count": 10,
   "metadata": {},
   "outputs": [],
   "source": [
    "s = \" PosixPath('data/2019-04-01.pkl'), PosixPath('data/2019-04-02.pkl'), PosixPath('data/2019-04-03.pkl'), PosixPath('data/2019-04-04.pkl'), PosixPath('data/2019-04-05.pkl'), PosixPath('data/2019-04-06.pkl'), PosixPath('data/2019-04-07.pkl'), PosixPath('data/2019-04-08.pkl'), PosixPath('data/2019-04-09.pkl'), PosixPath('data/2019-04-10.pkl'), PosixPath('data/2019-04-11.pkl'), PosixPath('data/2019-04-12.pkl'), PosixPath('data/2019-04-13.pkl'), PosixPath('data/2019-04-14.pkl'), PosixPath('data/2019-04-15.pkl'), PosixPath('data/2019-04-16.pkl'), PosixPath('data/2019-04-17.pkl'), PosixPath('data/2019-04-18.pkl'), PosixPath('data/2019-04-19.pkl'), PosixPath('data/2019-04-20.pkl'), PosixPath('data/2019-04-21.pkl'), PosixPath('data/2019-04-22.pkl'), PosixPath('data/2019-04-23.pkl'), PosixPath('data/2019-04-24.pkl'), PosixPath('data/2019-04-25.pkl'), PosixPath('data/2019-04-26.pkl'), PosixPath('data/2019-04-27.pkl'), PosixPath('data/2019-04-28.pkl'), PosixPath('data/2019-04-29.pkl'), PosixPath('data/2019-04-30.pkl'), PosixPath('data/2019-05-01.pkl'), PosixPath('data/2019-05-02.pkl'), PosixPath('data/2019-05-03.pkl'), PosixPath('data/2019-05-04.pkl'), PosixPath('data/2019-05-05.pkl'), PosixPath('data/2019-05-06.pkl'), PosixPath('data/2019-05-07.pkl'), PosixPath('data/2019-05-08.pkl'), PosixPath('data/2019-05-09.pkl'), PosixPath('data/2019-05-10.pkl'), PosixPath('data/2019-05-11.pkl'), PosixPath('data/2019-05-12.pkl'), PosixPath('data/2019-05-13.pkl'), PosixPath('data/2019-05-14.pkl'), PosixPath('data/2019-05-15.pkl'), PosixPath('data/2019-05-16.pkl'), PosixPath('data/2019-05-17.pkl'), PosixPath('data/2019-05-18.pkl'), PosixPath('data/2019-05-19.pkl'), PosixPath('data/2019-05-20.pkl'), PosixPath('data/2019-05-21.pkl'), PosixPath('data/2019-05-22.pkl'), PosixPath('data/2019-05-23.pkl'), PosixPath('data/2019-05-24.pkl'), PosixPath('data/2019-05-25.pkl'), PosixPath('data/2019-05-26.pkl'), PosixPath('data/2019-05-27.pkl'), PosixPath('data/2019-05-28.pkl'), PosixPath('data/2019-05-29.pkl'), PosixPath('data/2019-05-30.pkl'), PosixPath('data/2019-05-31.pkl'), PosixPath('data/2019-06-01.pkl'), PosixPath('data/2019-06-02.pkl'), PosixPath('data/2019-06-03.pkl'), PosixPath('data/2019-06-04.pkl'), PosixPath('data/2019-06-05.pkl'), PosixPath('data/2019-06-06.pkl'), PosixPath('data/2019-06-07.pkl'), PosixPath('data/2019-06-08.pkl'), PosixPath('data/2019-06-09.pkl'), PosixPath('data/2019-06-10.pkl'), PosixPath('data/2019-06-11.pkl'), PosixPath('data/2019-06-12.pkl'), PosixPath('data/2019-06-13.pkl'), PosixPath('data/2019-06-14.pkl'), PosixPath('data/2019-06-15.pkl'), PosixPath('data/2019-06-16.pkl'), PosixPath('data/2019-06-17.pkl'), PosixPath('data/2019-06-18.pkl'), PosixPath('data/2019-06-19.pkl'), PosixPath('data/2019-06-20.pkl'), PosixPath('data/2019-06-21.pkl'), PosixPath('data/2019-06-22.pkl'), PosixPath('data/2019-06-23.pkl'), PosixPath('data/2019-06-24.pkl'), PosixPath('data/2019-06-25.pkl'), PosixPath('data/2019-06-26.pkl'), PosixPath('data/2019-06-27.pkl'), PosixPath('data/2019-06-28.pkl'), PosixPath('data/2019-06-29.pkl'), PosixPath('data/2019-06-30.pkl'), PosixPath('data/2019-07-01.pkl'), PosixPath('data/2019-07-02.pkl'), PosixPath('data/2019-07-03.pkl'), PosixPath('data/2019-07-04.pkl'), PosixPath('data/2019-07-05.pkl'), PosixPath('data/2019-07-06.pkl'), PosixPath('data/2019-07-07.pkl'), PosixPath('data/2019-07-16.pkl'), PosixPath('data/2019-07-17.pkl'), PosixPath('data/2019-07-20.pkl'), PosixPath('data/2019-07-21.pkl'), PosixPath('data/2019-07-22.pkl'), PosixPath('data/2019-07-23.pkl'), PosixPath('data/2019-07-24.pkl'), PosixPath('data/2019-07-25.pkl'), PosixPath('data/2019-07-26.pkl'), PosixPath('data/2019-07-28.pkl'), PosixPath('data/2019-07-29.pkl'), PosixPath('data/2019-07-30.pkl'), PosixPath('data/2019-07-31.pkl'), PosixPath('data/2019-08-01.pkl'), PosixPath('data/2019-08-02.pkl'), PosixPath('data/2019-08-03.pkl'), PosixPath('data/2019-08-04.pkl'), PosixPath('data/2019-08-05.pkl'), PosixPath('data/2019-08-06.pkl'), PosixPath('data/2019-08-07.pkl'), PosixPath('data/2019-08-08.pkl'), PosixPath('data/2019-08-09.pkl'), PosixPath('data/2019-08-10.pkl'), PosixPath('data/2019-08-13.pkl'), PosixPath('data/2019-08-14.pkl'), PosixPath('data/2019-08-15.pkl'), PosixPath('data/2019-08-16.pkl'), PosixPath('data/2019-08-17.pkl'), PosixPath('data/2019-08-18.pkl'), PosixPath('data/2019-08-19.pkl'), PosixPath('data/2019-08-20.pkl'), PosixPath('data/2019-08-21.pkl'), PosixPath('data/2019-08-22.pkl'), PosixPath('data/2019-08-23.pkl'), PosixPath('data/2019-08-24.pkl'), PosixPath('data/2019-08-25.pkl'), PosixPath('data/2019-08-26.pkl'), PosixPath('data/2019-08-27.pkl'), PosixPath('data/2019-08-28.pkl'), PosixPath('data/2019-08-29.pkl'), PosixPath('data/2019-08-31.pkl'), PosixPath('data/2019-09-01.pkl'), PosixPath('data/2019-09-02.pkl'), PosixPath('data/2019-09-03.pkl'), PosixPath('data/2019-09-04.pkl'), PosixPath('data/2019-09-05.pkl'), PosixPath('data/2019-09-06.pkl'), PosixPath('data/2019-09-07.pkl'), PosixPath('data/2019-09-08.pkl'), PosixPath('data/2019-09-09.pkl'), PosixPath('data/2019-09-12.pkl'), PosixPath('data/2019-09-13.pkl'), PosixPath('data/2019-09-14.pkl'), PosixPath('data/2019-09-15.pkl'), PosixPath('data/2019-09-16.pkl'), PosixPath('data/2019-09-17.pkl'), PosixPath('data/2019-09-18.pkl'), PosixPath('data/2019-09-20.pkl'), PosixPath('data/2019-09-21.pkl'), PosixPath('data/2019-09-22.pkl'), PosixPath('data/2019-09-23.pkl'), PosixPath('data/2019-09-24.pkl'), PosixPath('data/2019-09-25.pkl'), PosixPath('data/2019-09-26.pkl'), PosixPath('data/2019-09-27.pkl'), PosixPath('data/2019-09-28.pkl'), PosixPath('data/2019-09-29.pkl'), PosixPath('data/2019-09-30.pkl')\"\n",
    "s = s.split(',')\n",
    "filenames = [item[17:-2] for item in s]"
   ]
  },
  {
   "cell_type": "code",
   "execution_count": 9,
   "metadata": {},
   "outputs": [
    {
     "name": "stdout",
     "output_type": "stream",
     "text": [
      "['2019-04-01.pkl', '2019-04-02.pkl', '2019-04-03.pkl', '2019-04-04.pkl', '2019-04-05.pkl', '2019-04-06.pkl', '2019-04-07.pkl', '2019-04-08.pkl', '2019-04-09.pkl', '2019-04-10.pkl', '2019-04-11.pkl', '2019-04-12.pkl', '2019-04-13.pkl', '2019-04-14.pkl', '2019-04-15.pkl', '2019-04-16.pkl', '2019-04-17.pkl', '2019-04-18.pkl', '2019-04-19.pkl', '2019-04-20.pkl', '2019-04-21.pkl', '2019-04-22.pkl', '2019-04-23.pkl', '2019-04-24.pkl', '2019-04-25.pkl', '2019-04-26.pkl', '2019-04-27.pkl', '2019-04-28.pkl', '2019-04-29.pkl', '2019-04-30.pkl', '2019-05-01.pkl', '2019-05-02.pkl', '2019-05-03.pkl', '2019-05-04.pkl', '2019-05-05.pkl', '2019-05-06.pkl', '2019-05-07.pkl', '2019-05-08.pkl', '2019-05-09.pkl', '2019-05-10.pkl', '2019-05-11.pkl', '2019-05-12.pkl', '2019-05-13.pkl', '2019-05-14.pkl', '2019-05-15.pkl', '2019-05-16.pkl', '2019-05-17.pkl', '2019-05-18.pkl', '2019-05-19.pkl', '2019-05-20.pkl', '2019-05-21.pkl', '2019-05-22.pkl', '2019-05-23.pkl', '2019-05-24.pkl', '2019-05-25.pkl', '2019-05-26.pkl', '2019-05-27.pkl', '2019-05-28.pkl', '2019-05-29.pkl', '2019-05-30.pkl', '2019-05-31.pkl', '2019-06-01.pkl', '2019-06-02.pkl', '2019-06-03.pkl', '2019-06-04.pkl', '2019-06-05.pkl', '2019-06-06.pkl', '2019-06-07.pkl', '2019-06-08.pkl', '2019-06-09.pkl', '2019-06-10.pkl', '2019-06-11.pkl', '2019-06-12.pkl', '2019-06-13.pkl', '2019-06-14.pkl', '2019-06-15.pkl', '2019-06-16.pkl', '2019-06-17.pkl', '2019-06-18.pkl', '2019-06-19.pkl', '2019-06-20.pkl', '2019-06-21.pkl', '2019-06-22.pkl', '2019-06-23.pkl', '2019-06-24.pkl', '2019-06-25.pkl', '2019-06-26.pkl', '2019-06-27.pkl', '2019-06-28.pkl', '2019-06-29.pkl', '2019-06-30.pkl', '2019-07-01.pkl', '2019-07-02.pkl', '2019-07-03.pkl', '2019-07-04.pkl', '2019-07-05.pkl', '2019-07-06.pkl', '2019-07-07.pkl', '2019-07-16.pkl', '2019-07-17.pkl', '2019-07-20.pkl', '2019-07-21.pkl', '2019-07-22.pkl', '2019-07-23.pkl', '2019-07-24.pkl', '2019-07-25.pkl', '2019-07-26.pkl', '2019-07-28.pkl', '2019-07-29.pkl', '2019-07-30.pkl', '2019-07-31.pkl', '2019-08-01.pkl', '2019-08-02.pkl', '2019-08-03.pkl', '2019-08-04.pkl', '2019-08-05.pkl', '2019-08-06.pkl', '2019-08-07.pkl', '2019-08-08.pkl', '2019-08-09.pkl', '2019-08-10.pkl', '2019-08-13.pkl', '2019-08-14.pkl', '2019-08-15.pkl', '2019-08-16.pkl', '2019-08-17.pkl', '2019-08-18.pkl', '2019-08-19.pkl', '2019-08-20.pkl', '2019-08-21.pkl', '2019-08-22.pkl', '2019-08-23.pkl', '2019-08-24.pkl', '2019-08-25.pkl', '2019-08-26.pkl', '2019-08-27.pkl', '2019-08-28.pkl', '2019-08-29.pkl', '2019-08-31.pkl', '2019-09-01.pkl', '2019-09-02.pkl', '2019-09-03.pkl', '2019-09-04.pkl', '2019-09-05.pkl', '2019-09-06.pkl', '2019-09-07.pkl', '2019-09-08.pkl', '2019-09-09.pkl', '2019-09-12.pkl', '2019-09-13.pkl', '2019-09-14.pkl', '2019-09-15.pkl', '2019-09-16.pkl', '2019-09-17.pkl', '2019-09-18.pkl', '2019-09-20.pkl', '2019-09-21.pkl', '2019-09-22.pkl', '2019-09-23.pkl', '2019-09-24.pkl', '2019-09-25.pkl', '2019-09-26.pkl', '2019-09-27.pkl', '2019-09-28.pkl', '2019-09-29.pkl', '2019-09-30.pkl']\n"
     ]
    }
   ],
   "source": [
    "data_folder = \"../data\"\n",
    "for filename in filenames:\n",
    "    path = os.path.join(data_folder, filename)\n",
    "    gdown.download()"
   ]
  },
  {
   "cell_type": "code",
   "execution_count": null,
   "metadata": {},
   "outputs": [],
   "source": []
  }
 ],
 "metadata": {
  "kernelspec": {
   "display_name": "Python 3",
   "language": "python",
   "name": "python3"
  },
  "language_info": {
   "codemirror_mode": {
    "name": "ipython",
    "version": 3
   },
   "file_extension": ".py",
   "mimetype": "text/x-python",
   "name": "python",
   "nbconvert_exporter": "python",
   "pygments_lexer": "ipython3",
   "version": "3.7.4"
  }
 },
 "nbformat": 4,
 "nbformat_minor": 4
}
