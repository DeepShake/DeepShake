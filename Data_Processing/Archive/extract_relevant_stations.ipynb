{
 "cells": [
  {
   "cell_type": "code",
   "execution_count": 1,
   "metadata": {},
   "outputs": [],
   "source": [
    "import pickle\n",
    "from pathlib import Path\n",
    "import datetime\n",
    "import os\n",
    "from tqdm import tqdm\n",
    "import matplotlib.pyplot as plt\n",
    "import matplotlib\n",
    "import seaborn as sns; sns.set() \n",
    "matplotlib.rc('font', **{'size': 18})\n",
    "import numpy as np\n",
    "import json\n",
    "from pprint import pprint\n",
    "import numpy as np"
   ]
  },
  {
   "cell_type": "code",
   "execution_count": 2,
   "metadata": {},
   "outputs": [],
   "source": [
    "num_stations = 15"
   ]
  },
  {
   "cell_type": "code",
   "execution_count": 3,
   "metadata": {},
   "outputs": [],
   "source": [
    "with open('./all_station_counts.json') as json_file:\n",
    "    stat_counts = json.load(json_file)"
   ]
  },
  {
   "cell_type": "code",
   "execution_count": 4,
   "metadata": {},
   "outputs": [
    {
     "name": "stdout",
     "output_type": "stream",
     "text": [
      "{'CI.CCC.': 35858,\n",
      " 'CI.CLC.': 28201,\n",
      " 'CI.DTP.': 35858,\n",
      " 'CI.JRC2.': 35679,\n",
      " 'CI.LRL.': 35858,\n",
      " 'CI.MPM.': 35858,\n",
      " 'CI.SLA.': 35858,\n",
      " 'CI.SRT.': 35858,\n",
      " 'CI.TOW2.': 35858,\n",
      " 'CI.WBM.': 35858,\n",
      " 'CI.WCS2.': 35858,\n",
      " 'CI.WMF.': 35858,\n",
      " 'CI.WNM.': 35858,\n",
      " 'CI.WRC2.': 35858,\n",
      " 'CI.WRV2.': 35858,\n",
      " 'CI.WVP2.': 35858,\n",
      " 'GS.CA01.20': 30757,\n",
      " 'GS.CA02.20': 18096,\n",
      " 'GS.CA03.20': 29422,\n",
      " 'GS.CA04.20': 22090,\n",
      " 'GS.CA05.20': 27456,\n",
      " 'GS.CA06.20': 25770,\n",
      " 'GS.CA07.00': 24203,\n",
      " 'GS.CA08.00': 24203,\n",
      " 'GS.CA09.00': 19583,\n",
      " 'GS.CA10.00': 12114,\n",
      " 'NP.5419.': 1895,\n",
      " 'NP.5419.10': 20029,\n",
      " 'ZY.SV01.': 24989,\n",
      " 'ZY.SV02.': 13445,\n",
      " 'ZY.SV03.': 21769,\n",
      " 'ZY.SV04.': 13735,\n",
      " 'ZY.SV05.': 19676,\n",
      " 'ZY.SV06.': 20935,\n",
      " 'ZY.SV07.': 18271,\n",
      " 'ZY.SV08.': 21453}\n"
     ]
    }
   ],
   "source": [
    "pprint(stat_counts)"
   ]
  },
  {
   "cell_type": "code",
   "execution_count": 5,
   "metadata": {},
   "outputs": [
    {
     "data": {
      "image/png": "[encoded data removed]",
      "text/plain": [
       "<Figure size 432x288 with 1 Axes>"
      ]
     },
     "metadata": {
      "needs_background": "light"
     },
     "output_type": "display_data"
    },
    {
     "name": "stdout",
     "output_type": "stream",
     "text": [
      "('CI.WVP2.', 'CI.WRV2.', 'CI.WRC2.', 'CI.WNM.', 'CI.WMF.', 'CI.WCS2.', 'CI.WBM.', 'CI.TOW2.', 'CI.SRT.', 'CI.SLA.', 'CI.MPM.', 'CI.LRL.', 'CI.DTP.', 'CI.CCC.', 'CI.JRC2.')\n",
      "(35858, 35858, 35858, 35858, 35858, 35858, 35858, 35858, 35858, 35858, 35858, 35858, 35858, 35858, 35679)\n"
     ]
    }
   ],
   "source": [
    "sorted_dict = sorted(zip(list(stat_counts.values()), list(stat_counts.keys())))\n",
    "sorted_counts, sorted_stats = zip(*sorted_dict)\n",
    "sorted_counts, sorted_stats = sorted_counts[::-1], sorted_stats[::-1]\n",
    "plt.bar(sorted_stats, sorted_counts)\n",
    "plt.title(\"Station event counts\")\n",
    "plt.show()\n",
    "\n",
    "master_stations = sorted_stats[:num_stations]\n",
    "print(master_stations)\n",
    "print(sorted_counts[:num_stations])"
   ]
  },
  {
   "cell_type": "raw",
   "metadata": {},
   "source": [
    "data_path = '../data/arrays/'\n",
    "meta_path = '../data/metadata/'\n",
    "save_path =  \"../data/relevant_stations/\""
   ]
  },
  {
   "cell_type": "code",
   "execution_count": 10,
   "metadata": {},
   "outputs": [
    {
     "name": "stdout",
     "output_type": "stream",
     "text": [
      "['2019-06-01', '2019-06-02', '2019-06-03', '2019-06-04', '2019-06-05', '2019-06-06', '2019-06-07', '2019-06-08', '2019-06-09', '2019-06-10', '2019-06-11', '2019-06-12', '2019-06-13', '2019-06-14', '2019-06-15', '2019-06-16', '2019-06-17', '2019-06-18', '2019-06-19', '2019-06-20', '2019-06-21', '2019-06-22', '2019-06-23', '2019-06-24', '2019-06-25', '2019-06-26', '2019-06-27', '2019-06-28', '2019-06-29', '2019-06-30', '2019-07-01', '2019-07-02', '2019-07-03', '2019-07-04', '2019-07-05', '2019-07-06', '2019-07-07', '2019-07-08', '2019-07-09', '2019-07-10', '2019-07-11', '2019-07-12', '2019-07-13', '2019-07-14', '2019-07-15', '2019-07-16', '2019-07-17', '2019-07-18', '2019-07-19', '2019-07-20', '2019-07-21', '2019-07-22', '2019-07-23', '2019-07-24', '2019-07-25', '2019-07-26', '2019-07-27', '2019-07-28', '2019-07-29', '2019-07-30', '2019-07-31', '2019-08-01', '2019-08-02', '2019-08-03', '2019-08-04', '2019-08-05', '2019-08-06', '2019-08-07', '2019-08-08', '2019-08-09', '2019-08-10', '2019-08-11', '2019-08-12', '2019-08-13', '2019-08-14', '2019-08-15', '2019-08-16', '2019-08-17', '2019-08-18', '2019-08-19', '2019-08-20', '2019-08-21', '2019-08-22', '2019-08-23', '2019-08-24', '2019-08-25', '2019-08-26', '2019-08-27', '2019-08-28', '2019-08-29', '2019-08-30', '2019-08-31', '2019-09-01', '2019-09-02', '2019-09-03', '2019-09-04', '2019-09-05', '2019-09-06', '2019-09-07', '2019-09-08', '2019-09-09', '2019-09-10', '2019-09-11', '2019-09-12', '2019-09-13', '2019-09-14', '2019-09-15', '2019-09-16', '2019-09-17', '2019-09-18', '2019-09-19', '2019-09-20', '2019-09-21', '2019-09-22', '2019-09-23', '2019-09-24', '2019-09-25', '2019-09-26', '2019-09-27', '2019-09-28', '2019-09-29', '2019-09-30']\n",
      "122\n"
     ]
    }
   ],
   "source": [
    "## Create array of dates\n",
    "dates = sorted([entry.name.split(\".\")[0] for entry in list(os.scandir(data_path)) if \"npy\" in entry.name])\n",
    "print(sorted(dates))\n",
    "print(len(dates))"
   ]
  },
  {
   "cell_type": "code",
   "execution_count": 14,
   "metadata": {},
   "outputs": [
    {
     "name": "stderr",
     "output_type": "stream",
     "text": [
      "  0%|          | 0/122 [00:00<?, ?it/s]"
     ]
    },
    {
     "name": "stdout",
     "output_type": "stream",
     "text": [
      "Extracting data for stations: ('CI.WVP2.', 'CI.WRV2.', 'CI.WRC2.', 'CI.WNM.', 'CI.WMF.', 'CI.WCS2.', 'CI.WBM.', 'CI.TOW2.', 'CI.SRT.', 'CI.SLA.', 'CI.MPM.', 'CI.LRL.', 'CI.DTP.', 'CI.CCC.', 'CI.JRC2.')\n",
      "Loading data from date 2019-06-01\n"
     ]
    },
    {
     "name": "stderr",
     "output_type": "stream",
     "text": [
      "  1%|          | 1/122 [00:00<00:37,  3.21it/s]"
     ]
    },
    {
     "name": "stdout",
     "output_type": "stream",
     "text": [
      "\tLoading metadata from ../metadata_2/2019-06-01_stations.npy\n",
      "\tStations for date 2019-06-01: ['CI.CCC.' 'CI.CLC.' 'CI.DTP.' 'CI.JRC2.' 'CI.LRL.' 'CI.MPM.' 'CI.SLA.'\n",
      " 'CI.SRT.' 'CI.TOW2.' 'CI.WBM.' 'CI.WCS2.' 'CI.WMF.' 'CI.WNM.' 'CI.WRC2.'\n",
      " 'CI.WRV2.' 'CI.WVP2.']\n",
      "(5, 15, 6000)\n",
      "Loading data from date 2019-06-02\n"
     ]
    },
    {
     "name": "stderr",
     "output_type": "stream",
     "text": [
      "  2%|▏         | 2/122 [00:00<00:34,  3.51it/s]"
     ]
    },
    {
     "name": "stdout",
     "output_type": "stream",
     "text": [
      "\tLoading metadata from ../metadata_2/2019-06-02_stations.npy\n",
      "\tStations for date 2019-06-02: ['CI.CCC.' 'CI.CLC.' 'CI.DTP.' 'CI.JRC2.' 'CI.LRL.' 'CI.MPM.' 'CI.SLA.'\n",
      " 'CI.SRT.' 'CI.TOW2.' 'CI.WBM.' 'CI.WCS2.' 'CI.WMF.' 'CI.WNM.' 'CI.WRC2.'\n",
      " 'CI.WRV2.' 'CI.WVP2.']\n",
      "(7, 15, 6000)\n",
      "Loading data from date 2019-06-03\n",
      "\tLoading metadata from ../metadata_2/2019-06-03_stations.npy\n",
      "\tStations for date 2019-06-03: ['CI.CCC.' 'CI.CLC.' 'CI.DTP.' 'CI.JRC2.' 'CI.LRL.' 'CI.MPM.' 'CI.SLA.'\n",
      " 'CI.SRT.' 'CI.TOW2.' 'CI.WBM.' 'CI.WCS2.' 'CI.WMF.' 'CI.WNM.' 'CI.WRC2.'\n",
      " 'CI.WRV2.' 'CI.WVP2.']\n",
      "(2, 15, 6000)\n",
      "Loading data from date 2019-06-04\n",
      "\tLoading metadata from ../metadata_2/2019-06-04_stations.npy\n",
      "\tStations for date 2019-06-04: ['CI.CCC.' 'CI.CLC.' 'CI.DTP.' 'CI.JRC2.' 'CI.LRL.' 'CI.MPM.' 'CI.SLA.'\n",
      " 'CI.SRT.' 'CI.TOW2.' 'CI.WBM.' 'CI.WCS2.' 'CI.WMF.' 'CI.WNM.' 'CI.WRC2.'\n",
      " 'CI.WRV2.' 'CI.WVP2.']\n"
     ]
    },
    {
     "name": "stderr",
     "output_type": "stream",
     "text": [
      "  3%|▎         | 4/122 [00:00<00:26,  4.42it/s]"
     ]
    },
    {
     "name": "stdout",
     "output_type": "stream",
     "text": [
      "(4, 15, 6000)\n",
      "Loading data from date 2019-06-05\n"
     ]
    },
    {
     "name": "stderr",
     "output_type": "stream",
     "text": [
      "  4%|▍         | 5/122 [00:00<00:27,  4.20it/s]"
     ]
    },
    {
     "name": "stdout",
     "output_type": "stream",
     "text": [
      "\tLoading metadata from ../metadata_2/2019-06-05_stations.npy\n",
      "\tStations for date 2019-06-05: ['CI.CCC.' 'CI.CLC.' 'CI.DTP.' 'CI.JRC2.' 'CI.LRL.' 'CI.MPM.' 'CI.SLA.'\n",
      " 'CI.SRT.' 'CI.TOW2.' 'CI.WBM.' 'CI.WCS2.' 'CI.WMF.' 'CI.WNM.' 'CI.WRC2.'\n",
      " 'CI.WRV2.' 'CI.WVP2.']\n",
      "(10, 15, 6000)\n",
      "Loading data from date 2019-06-06\n"
     ]
    },
    {
     "name": "stderr",
     "output_type": "stream",
     "text": [
      "  5%|▍         | 6/122 [00:01<00:28,  4.08it/s]"
     ]
    },
    {
     "name": "stdout",
     "output_type": "stream",
     "text": [
      "\tLoading metadata from ../metadata_2/2019-06-06_stations.npy\n",
      "\tStations for date 2019-06-06: ['CI.CCC.' 'CI.CLC.' 'CI.DTP.' 'CI.JRC2.' 'CI.LRL.' 'CI.MPM.' 'CI.SLA.'\n",
      " 'CI.SRT.' 'CI.TOW2.' 'CI.WBM.' 'CI.WCS2.' 'CI.WMF.' 'CI.WNM.' 'CI.WRC2.'\n",
      " 'CI.WRV2.' 'CI.WVP2.']\n",
      "(15, 15, 6000)\n",
      "Loading data from date 2019-06-07\n",
      "\tLoading metadata from ../metadata_2/2019-06-07_stations.npy\n",
      "\tStations for date 2019-06-07: ['CI.CCC.' 'CI.CLC.' 'CI.DTP.' 'CI.JRC2.' 'CI.LRL.' 'CI.MPM.' 'CI.SLA.'\n",
      " 'CI.SRT.' 'CI.TOW2.' 'CI.WBM.' 'CI.WCS2.' 'CI.WMF.' 'CI.WNM.' 'CI.WRC2.'\n",
      " 'CI.WRV2.' 'CI.WVP2.']\n",
      "(4, 15, 6000)\n",
      "Loading data from date 2019-06-08\n"
     ]
    },
    {
     "name": "stderr",
     "output_type": "stream",
     "text": [
      "  7%|▋         | 8/122 [00:01<00:24,  4.62it/s]"
     ]
    },
    {
     "name": "stdout",
     "output_type": "stream",
     "text": [
      "\tLoading metadata from ../metadata_2/2019-06-08_stations.npy\n",
      "\tStations for date 2019-06-08: ['CI.CCC.' 'CI.CLC.' 'CI.DTP.' 'CI.JRC2.' 'CI.LRL.' 'CI.MPM.' 'CI.SLA.'\n",
      " 'CI.SRT.' 'CI.TOW2.' 'CI.WBM.' 'CI.WCS2.' 'CI.WMF.' 'CI.WNM.' 'CI.WRC2.'\n",
      " 'CI.WRV2.' 'CI.WVP2.']\n",
      "(11, 15, 6000)\n",
      "Loading data from date 2019-06-09\n",
      "\tLoading metadata from ../metadata_2/2019-06-09_stations.npy\n",
      "\tStations for date 2019-06-09: ['CI.CCC.' 'CI.CLC.' 'CI.DTP.' 'CI.JRC2.' 'CI.LRL.' 'CI.MPM.' 'CI.SLA.'\n",
      " 'CI.SRT.' 'CI.TOW2.' 'CI.WBM.' 'CI.WCS2.' 'CI.WMF.' 'CI.WNM.' 'CI.WRC2.'\n",
      " 'CI.WRV2.' 'CI.WVP2.']\n",
      "(5, 15, 6000)\n"
     ]
    },
    {
     "name": "stderr",
     "output_type": "stream",
     "text": [
      "  7%|▋         | 9/122 [00:01<00:21,  5.14it/s]"
     ]
    },
    {
     "name": "stdout",
     "output_type": "stream",
     "text": [
      "Loading data from date 2019-06-10\n",
      "\tLoading metadata from ../metadata_2/2019-06-10_stations.npy\n",
      "\tStations for date 2019-06-10: ['CI.CCC.' 'CI.CLC.' 'CI.DTP.' 'CI.JRC2.' 'CI.LRL.' 'CI.MPM.' 'CI.SLA.'\n",
      " 'CI.SRT.' 'CI.TOW2.' 'CI.WBM.' 'CI.WCS2.' 'CI.WMF.' 'CI.WNM.' 'CI.WRC2.'\n",
      " 'CI.WRV2.' 'CI.WVP2.']\n",
      "(10, 15, 6000)\n"
     ]
    },
    {
     "name": "stderr",
     "output_type": "stream",
     "text": [
      "  8%|▊         | 10/122 [00:01<00:22,  4.95it/s]"
     ]
    },
    {
     "name": "stdout",
     "output_type": "stream",
     "text": [
      "Loading data from date 2019-06-11\n",
      "\tLoading metadata from ../metadata_2/2019-06-11_stations.npy\n",
      "\tStations for date 2019-06-11: ['CI.CCC.' 'CI.CLC.' 'CI.DTP.' 'CI.JRC2.' 'CI.LRL.' 'CI.MPM.' 'CI.SLA.'\n",
      " 'CI.SRT.' 'CI.TOW2.' 'CI.WBM.' 'CI.WCS2.' 'CI.WMF.' 'CI.WNM.' 'CI.WRC2.'\n",
      " 'CI.WRV2.' 'CI.WVP2.']\n",
      "(2, 15, 6000)\n",
      "Loading data from date 2019-06-12\n",
      "\tLoading metadata from ../metadata_2/2019-06-12_stations.npy\n",
      "\tStations for date 2019-06-12: ['CI.CCC.' 'CI.CLC.' 'CI.DTP.' 'CI.JRC2.' 'CI.LRL.' 'CI.MPM.' 'CI.SLA.'\n",
      " 'CI.SRT.' 'CI.TOW2.' 'CI.WBM.' 'CI.WCS2.' 'CI.WMF.' 'CI.WNM.' 'CI.WRC2.'\n",
      " 'CI.WRV2.' 'CI.WVP2.']\n",
      "(3, 15, 6000)\n",
      "Loading data from date 2019-06-13\n"
     ]
    },
    {
     "name": "stderr",
     "output_type": "stream",
     "text": [
      " 11%|█         | 13/122 [00:02<00:18,  5.74it/s]"
     ]
    },
    {
     "name": "stdout",
     "output_type": "stream",
     "text": [
      "\tLoading metadata from ../metadata_2/2019-06-13_stations.npy\n",
      "\tStations for date 2019-06-13: ['CI.CCC.' 'CI.CLC.' 'CI.DTP.' 'CI.JRC2.' 'CI.LRL.' 'CI.MPM.' 'CI.SLA.'\n",
      " 'CI.SRT.' 'CI.TOW2.' 'CI.WBM.' 'CI.WCS2.' 'CI.WMF.' 'CI.WNM.' 'CI.WRC2.'\n",
      " 'CI.WRV2.' 'CI.WVP2.']\n",
      "(9, 15, 6000)\n",
      "Loading data from date 2019-06-14\n",
      "\tLoading metadata from ../metadata_2/2019-06-14_stations.npy\n",
      "\tStations for date 2019-06-14: ['CI.CCC.' 'CI.CLC.' 'CI.DTP.' 'CI.JRC2.' 'CI.LRL.' 'CI.MPM.' 'CI.SLA.'\n",
      " 'CI.SRT.' 'CI.TOW2.' 'CI.WBM.' 'CI.WCS2.' 'CI.WMF.' 'CI.WNM.' 'CI.WRC2.'\n",
      " 'CI.WRV2.' 'CI.WVP2.']\n",
      "(5, 15, 6000)\n",
      "Loading data from date 2019-06-15\n"
     ]
    },
    {
     "name": "stderr",
     "output_type": "stream",
     "text": [
      " 12%|█▏        | 15/122 [00:02<00:18,  5.84it/s]"
     ]
    },
    {
     "name": "stdout",
     "output_type": "stream",
     "text": [
      "\tLoading metadata from ../metadata_2/2019-06-15_stations.npy\n",
      "\tStations for date 2019-06-15: ['CI.CCC.' 'CI.CLC.' 'CI.DTP.' 'CI.JRC2.' 'CI.LRL.' 'CI.MPM.' 'CI.SLA.'\n",
      " 'CI.SRT.' 'CI.TOW2.' 'CI.WBM.' 'CI.WCS2.' 'CI.WMF.' 'CI.WNM.' 'CI.WRC2.'\n",
      " 'CI.WRV2.' 'CI.WVP2.']\n",
      "(12, 15, 6000)\n",
      "Loading data from date 2019-06-16\n"
     ]
    },
    {
     "name": "stderr",
     "output_type": "stream",
     "text": [
      " 13%|█▎        | 16/122 [00:02<00:22,  4.80it/s]"
     ]
    },
    {
     "name": "stdout",
     "output_type": "stream",
     "text": [
      "\tLoading metadata from ../metadata_2/2019-06-16_stations.npy\n",
      "\tStations for date 2019-06-16: ['CI.CCC.' 'CI.CLC.' 'CI.DTP.' 'CI.JRC2.' 'CI.LRL.' 'CI.MPM.' 'CI.SLA.'\n",
      " 'CI.SRT.' 'CI.TOW2.' 'CI.WBM.' 'CI.WCS2.' 'CI.WMF.' 'CI.WNM.' 'CI.WRC2.'\n",
      " 'CI.WRV2.' 'CI.WVP2.']\n",
      "(20, 15, 6000)\n",
      "Loading data from date 2019-06-17\n",
      "\tLoading metadata from ../metadata_2/2019-06-17_stations.npy\n",
      "\tStations for date 2019-06-17: ['CI.CCC.' 'CI.CLC.' 'CI.DTP.' 'CI.JRC2.' 'CI.LRL.' 'CI.MPM.' 'CI.SLA.'\n",
      " 'CI.SRT.' 'CI.TOW2.' 'CI.WBM.' 'CI.WCS2.' 'CI.WMF.' 'CI.WNM.' 'CI.WRC2.'\n",
      " 'CI.WRV2.' 'CI.WVP2.']\n",
      "(5, 15, 6000)\n",
      "Loading data from date 2019-06-18\n"
     ]
    },
    {
     "name": "stderr",
     "output_type": "stream",
     "text": [
      " 16%|█▌        | 19/122 [00:03<00:16,  6.35it/s]"
     ]
    },
    {
     "name": "stdout",
     "output_type": "stream",
     "text": [
      "\tLoading metadata from ../metadata_2/2019-06-18_stations.npy\n",
      "\tStations for date 2019-06-18: ['CI.CCC.' 'CI.CLC.' 'CI.DTP.' 'CI.JRC2.' 'CI.LRL.' 'CI.MPM.' 'CI.SLA.'\n",
      " 'CI.SRT.' 'CI.TOW2.' 'CI.WBM.' 'CI.WCS2.' 'CI.WMF.' 'CI.WNM.' 'CI.WRC2.'\n",
      " 'CI.WRV2.' 'CI.WVP2.']\n",
      "(7, 15, 6000)\n",
      "Loading data from date 2019-06-19\n",
      "\tLoading metadata from ../metadata_2/2019-06-19_stations.npy\n",
      "\tStations for date 2019-06-19: ['CI.CCC.' 'CI.CLC.' 'CI.DTP.' 'CI.JRC2.' 'CI.LRL.' 'CI.MPM.' 'CI.SLA.'\n",
      " 'CI.SRT.' 'CI.TOW2.' 'CI.WBM.' 'CI.WCS2.' 'CI.WMF.' 'CI.WNM.' 'CI.WRC2.'\n",
      " 'CI.WRV2.' 'CI.WVP2.']\n",
      "(6, 15, 6000)\n",
      "Loading data from date 2019-06-20\n",
      "\tLoading metadata from ../metadata_2/2019-06-20_stations.npy\n",
      "\tStations for date 2019-06-20: ['CI.CCC.' 'CI.CLC.' 'CI.DTP.' 'CI.JRC2.' 'CI.LRL.' 'CI.MPM.' 'CI.SLA.'\n",
      " 'CI.SRT.' 'CI.TOW2.' 'CI.WBM.' 'CI.WCS2.' 'CI.WMF.' 'CI.WNM.' 'CI.WRC2.'\n",
      " 'CI.WRV2.' 'CI.WVP2.']\n",
      "(4, 15, 6000)\n"
     ]
    },
    {
     "name": "stderr",
     "output_type": "stream",
     "text": [
      " 17%|█▋        | 21/122 [00:03<00:12,  7.78it/s]"
     ]
    },
    {
     "name": "stdout",
     "output_type": "stream",
     "text": [
      "Loading data from date 2019-06-21\n",
      "\tLoading metadata from ../metadata_2/2019-06-21_stations.npy\n",
      "\tStations for date 2019-06-21: ['CI.CCC.' 'CI.CLC.' 'CI.DTP.' 'CI.JRC2.' 'CI.LRL.' 'CI.MPM.' 'CI.SLA.'\n",
      " 'CI.SRT.' 'CI.TOW2.' 'CI.WBM.' 'CI.WCS2.' 'CI.WMF.' 'CI.WNM.' 'CI.WRC2.'\n",
      " 'CI.WRV2.' 'CI.WVP2.']\n",
      "(10, 15, 6000)\n",
      "Loading data from date 2019-06-22\n"
     ]
    },
    {
     "name": "stderr",
     "output_type": "stream",
     "text": [
      " 19%|█▉        | 23/122 [00:03<00:12,  7.64it/s]"
     ]
    },
    {
     "name": "stdout",
     "output_type": "stream",
     "text": [
      "\tLoading metadata from ../metadata_2/2019-06-22_stations.npy\n",
      "\tStations for date 2019-06-22: ['CI.CCC.' 'CI.CLC.' 'CI.DTP.' 'CI.JRC2.' 'CI.LRL.' 'CI.MPM.' 'CI.SLA.'\n",
      " 'CI.SRT.' 'CI.TOW2.' 'CI.WBM.' 'CI.WCS2.' 'CI.WMF.' 'CI.WNM.' 'CI.WRC2.'\n",
      " 'CI.WRV2.' 'CI.WVP2.']\n",
      "(2, 15, 6000)\n",
      "Loading data from date 2019-06-23\n",
      "\tLoading metadata from ../metadata_2/2019-06-23_stations.npy\n",
      "\tStations for date 2019-06-23: ['CI.CCC.' 'CI.CLC.' 'CI.DTP.' 'CI.JRC2.' 'CI.LRL.' 'CI.MPM.' 'CI.SLA.'\n",
      " 'CI.SRT.' 'CI.TOW2.' 'CI.WBM.' 'CI.WCS2.' 'CI.WMF.' 'CI.WNM.' 'CI.WRC2.'\n",
      " 'CI.WRV2.' 'CI.WVP2.']\n",
      "(3, 15, 6000)\n",
      "Loading data from date 2019-06-24\n"
     ]
    },
    {
     "name": "stderr",
     "output_type": "stream",
     "text": [
      " 20%|█▉        | 24/122 [00:03<00:13,  7.25it/s]"
     ]
    },
    {
     "name": "stdout",
     "output_type": "stream",
     "text": [
      "\tLoading metadata from ../metadata_2/2019-06-24_stations.npy\n",
      "\tStations for date 2019-06-24: ['CI.CCC.' 'CI.CLC.' 'CI.DTP.' 'CI.JRC2.' 'CI.LRL.' 'CI.MPM.' 'CI.SLA.'\n",
      " 'CI.SRT.' 'CI.TOW2.' 'CI.WBM.' 'CI.WCS2.' 'CI.WMF.' 'CI.WNM.' 'CI.WRC2.'\n",
      " 'CI.WRV2.' 'CI.WVP2.']\n",
      "(6, 15, 6000)\n",
      "Loading data from date 2019-06-25\n",
      "\tLoading metadata from ../metadata_2/2019-06-25_stations.npy\n",
      "\tStations for date 2019-06-25: ['CI.CCC.' 'CI.CLC.' 'CI.DTP.' 'CI.JRC2.' 'CI.LRL.' 'CI.MPM.' 'CI.SLA.'\n",
      " 'CI.SRT.' 'CI.TOW2.' 'CI.WBM.' 'CI.WCS2.' 'CI.WMF.' 'CI.WNM.' 'CI.WRC2.'\n",
      " 'CI.WRV2.' 'CI.WVP2.']\n",
      "(7, 15, 6000)\n",
      "Loading data from date 2019-06-26\n"
     ]
    },
    {
     "name": "stderr",
     "output_type": "stream",
     "text": [
      " 21%|██▏       | 26/122 [00:04<00:13,  6.91it/s]"
     ]
    },
    {
     "name": "stdout",
     "output_type": "stream",
     "text": [
      "\tLoading metadata from ../metadata_2/2019-06-26_stations.npy\n",
      "\tStations for date 2019-06-26: ['CI.CCC.' 'CI.CLC.' 'CI.DTP.' 'CI.JRC2.' 'CI.LRL.' 'CI.MPM.' 'CI.SLA.'\n",
      " 'CI.SRT.' 'CI.TOW2.' 'CI.WBM.' 'CI.WCS2.' 'CI.WMF.' 'CI.WNM.' 'CI.WRC2.'\n",
      " 'CI.WRV2.' 'CI.WVP2.']\n",
      "(11, 15, 6000)\n",
      "Loading data from date 2019-06-27\n"
     ]
    },
    {
     "name": "stderr",
     "output_type": "stream",
     "text": [
      " 23%|██▎       | 28/122 [00:04<00:13,  6.78it/s]"
     ]
    },
    {
     "name": "stdout",
     "output_type": "stream",
     "text": [
      "\tLoading metadata from ../metadata_2/2019-06-27_stations.npy\n",
      "\tStations for date 2019-06-27: ['CI.CCC.' 'CI.CLC.' 'CI.DTP.' 'CI.JRC2.' 'CI.LRL.' 'CI.MPM.' 'CI.SLA.'\n",
      " 'CI.SRT.' 'CI.TOW2.' 'CI.WBM.' 'CI.WCS2.' 'CI.WMF.' 'CI.WNM.' 'CI.WRC2.'\n",
      " 'CI.WRV2.' 'CI.WVP2.']\n",
      "(6, 15, 6000)\n",
      "Loading data from date 2019-06-28\n",
      "\tLoading metadata from ../metadata_2/2019-06-28_stations.npy\n",
      "\tStations for date 2019-06-28: ['CI.CCC.' 'CI.CLC.' 'CI.DTP.' 'CI.JRC2.' 'CI.LRL.' 'CI.MPM.' 'CI.SLA.'\n",
      " 'CI.SRT.' 'CI.TOW2.' 'CI.WBM.' 'CI.WCS2.' 'CI.WMF.' 'CI.WNM.' 'CI.WRC2.'\n",
      " 'CI.WRV2.' 'CI.WVP2.']\n",
      "(7, 15, 6000)\n",
      "Loading data from date 2019-06-29\n"
     ]
    },
    {
     "name": "stderr",
     "output_type": "stream",
     "text": [
      " 25%|██▍       | 30/122 [00:04<00:11,  7.77it/s]"
     ]
    },
    {
     "name": "stdout",
     "output_type": "stream",
     "text": [
      "\tLoading metadata from ../metadata_2/2019-06-29_stations.npy\n",
      "\tStations for date 2019-06-29: ['CI.CCC.' 'CI.CLC.' 'CI.DTP.' 'CI.JRC2.' 'CI.LRL.' 'CI.MPM.' 'CI.SLA.'\n",
      " 'CI.SRT.' 'CI.TOW2.' 'CI.WBM.' 'CI.WCS2.' 'CI.WMF.' 'CI.WNM.' 'CI.WRC2.'\n",
      " 'CI.WRV2.' 'CI.WVP2.']\n",
      "(7, 15, 6000)\n",
      "Loading data from date 2019-06-30\n",
      "\tLoading metadata from ../metadata_2/2019-06-30_stations.npy\n",
      "\tStations for date 2019-06-30: ['CI.CCC.' 'CI.CLC.' 'CI.DTP.' 'CI.JRC2.' 'CI.LRL.' 'CI.MPM.' 'CI.SLA.'\n",
      " 'CI.SRT.' 'CI.TOW2.' 'CI.WBM.' 'CI.WCS2.' 'CI.WMF.' 'CI.WNM.' 'CI.WRC2.'\n",
      " 'CI.WRV2.' 'CI.WVP2.']\n",
      "(5, 15, 6000)\n",
      "Loading data from date 2019-07-01\n",
      "\tLoading metadata from ../metadata_2/2019-07-01_stations.npy\n",
      "\tStations for date 2019-07-01: ['CI.CCC.' 'CI.CLC.' 'CI.DTP.' 'CI.JRC2.' 'CI.LRL.' 'CI.MPM.' 'CI.SLA.'\n",
      " 'CI.SRT.' 'CI.TOW2.' 'CI.WBM.' 'CI.WCS2.' 'CI.WMF.' 'CI.WNM.' 'CI.WRC2.'\n",
      " 'CI.WRV2.' 'CI.WVP2.']\n",
      "(8, 15, 6000)\n",
      "Loading data from date 2019-07-02\n"
     ]
    },
    {
     "name": "stderr",
     "output_type": "stream",
     "text": [
      " 27%|██▋       | 33/122 [00:05<00:11,  7.55it/s]"
     ]
    },
    {
     "name": "stdout",
     "output_type": "stream",
     "text": [
      "\tLoading metadata from ../metadata_2/2019-07-02_stations.npy\n",
      "\tStations for date 2019-07-02: ['CI.CCC.' 'CI.CLC.' 'CI.DTP.' 'CI.JRC2.' 'CI.LRL.' 'CI.MPM.' 'CI.SLA.'\n",
      " 'CI.SRT.' 'CI.TOW2.' 'CI.WBM.' 'CI.WCS2.' 'CI.WMF.' 'CI.WNM.' 'CI.WRC2.'\n",
      " 'CI.WRV2.' 'CI.WVP2.']\n",
      "(12, 15, 6000)\n",
      "Loading data from date 2019-07-03\n",
      "\tLoading metadata from ../metadata_2/2019-07-03_stations.npy\n",
      "\tStations for date 2019-07-03: ['CI.CCC.' 'CI.CLC.' 'CI.DTP.' 'CI.JRC2.' 'CI.LRL.' 'CI.MPM.' 'CI.SLA.'\n",
      " 'CI.SRT.' 'CI.TOW2.' 'CI.WBM.' 'CI.WCS2.' 'CI.WMF.' 'CI.WNM.' 'CI.WRC2.'\n",
      " 'CI.WRV2.' 'CI.WVP2.']\n",
      "(1, 15, 6000)\n",
      "Loading data from date 2019-07-04\n",
      "\tLoading metadata from ../metadata_2/2019-07-04_stations.npy\n",
      "\tStations for date 2019-07-04: ['CI.CCC.' 'CI.CLC.' 'CI.DTP.' 'CI.JRC2.' 'CI.LRL.' 'CI.MPM.' 'CI.SLA.'\n",
      " 'CI.SRT.' 'CI.TOW2.' 'CI.WBM.' 'CI.WCS2.' 'CI.WMF.' 'CI.WNM.' 'CI.WRC2.'\n",
      " 'CI.WRV2.' 'CI.WVP2.']\n",
      "(516, 15, 6000)\n"
     ]
    },
    {
     "name": "stderr",
     "output_type": "stream",
     "text": [
      " 28%|██▊       | 34/122 [00:14<04:15,  2.91s/it]"
     ]
    },
    {
     "name": "stdout",
     "output_type": "stream",
     "text": [
      "Loading data from date 2019-07-05\n",
      "\tLoading metadata from ../metadata_2/2019-07-05_stations.npy\n",
      "\tStations for date 2019-07-05: ['CI.CCC.' 'CI.CLC.' 'CI.DTP.' 'CI.JRC2.' 'CI.LRL.' 'CI.MPM.' 'CI.SLA.'\n",
      " 'CI.SRT.' 'CI.TOW2.' 'CI.WBM.' 'CI.WCS2.' 'CI.WMF.' 'CI.WNM.' 'CI.WRC2.'\n",
      " 'CI.WRV2.' 'CI.WVP2.']\n",
      "(1224, 15, 6000)\n"
     ]
    },
    {
     "name": "stderr",
     "output_type": "stream",
     "text": [
      " 29%|██▊       | 35/122 [00:36<12:32,  8.65s/it]"
     ]
    },
    {
     "name": "stdout",
     "output_type": "stream",
     "text": [
      "Loading data from date 2019-07-06\n",
      "\tLoading metadata from ../metadata_2/2019-07-06_stations.npy\n",
      "\tStations for date 2019-07-06: ['CI.CCC.' 'CI.CLC.' 'CI.DTP.' 'CI.JRC2.' 'CI.LRL.' 'CI.MPM.' 'CI.SLA.'\n",
      " 'CI.SRT.' 'CI.TOW2.' 'CI.WBM.' 'CI.WCS2.' 'CI.WMF.' 'CI.WNM.' 'CI.WRC2.'\n",
      " 'CI.WRV2.' 'CI.WVP2.' 'NP.5419.']\n",
      "(1895, 15, 6000)\n"
     ]
    },
    {
     "name": "stderr",
     "output_type": "stream",
     "text": [
      " 30%|██▉       | 36/122 [01:16<26:01, 18.16s/it]"
     ]
    },
    {
     "name": "stdout",
     "output_type": "stream",
     "text": [
      "Loading data from date 2019-07-07\n",
      "\tLoading metadata from ../metadata_2/2019-07-07_stations.npy\n",
      "\tStations for date 2019-07-07: ['CI.CCC.' 'CI.CLC.' 'CI.DTP.' 'CI.JRC2.' 'CI.LRL.' 'CI.MPM.' 'CI.SLA.'\n",
      " 'CI.SRT.' 'CI.TOW2.' 'CI.WBM.' 'CI.WCS2.' 'CI.WMF.' 'CI.WNM.' 'CI.WRC2.'\n",
      " 'CI.WRV2.' 'CI.WVP2.' 'GS.CA02.20' 'ZY.SV03.' 'ZY.SV05.']\n",
      "(1235, 15, 6000)\n"
     ]
    },
    {
     "name": "stderr",
     "output_type": "stream",
     "text": [
      " 30%|███       | 37/122 [01:40<28:16, 19.96s/it]"
     ]
    },
    {
     "name": "stdout",
     "output_type": "stream",
     "text": [
      "Loading data from date 2019-07-08\n",
      "\tLoading metadata from ../metadata_2/2019-07-08_stations.npy\n",
      "\tStations for date 2019-07-08: ['CI.CCC.' 'CI.CLC.' 'CI.DTP.' 'CI.JRC2.' 'CI.LRL.' 'CI.MPM.' 'CI.SLA.'\n",
      " 'CI.SRT.' 'CI.TOW2.' 'CI.WBM.' 'CI.WCS2.' 'CI.WMF.' 'CI.WNM.' 'CI.WRC2.'\n",
      " 'CI.WRV2.' 'CI.WVP2.' 'GS.CA01.20' 'GS.CA02.20' 'ZY.SV03.' 'ZY.SV05.'\n",
      " 'ZY.SV07.']\n",
      "(1335, 15, 6000)\n"
     ]
    },
    {
     "name": "stderr",
     "output_type": "stream",
     "text": [
      " 31%|███       | 38/122 [02:14<33:37, 24.02s/it]"
     ]
    },
    {
     "name": "stdout",
     "output_type": "stream",
     "text": [
      "Loading data from date 2019-07-09\n",
      "\tLoading metadata from ../metadata_2/2019-07-09_stations.npy\n",
      "\tStations for date 2019-07-09: ['CI.CCC.' 'CI.CLC.' 'CI.DTP.' 'CI.JRC2.' 'CI.LRL.' 'CI.MPM.' 'CI.SLA.'\n",
      " 'CI.SRT.' 'CI.TOW2.' 'CI.WBM.' 'CI.WCS2.' 'CI.WMF.' 'CI.WNM.' 'CI.WRC2.'\n",
      " 'CI.WRV2.' 'CI.WVP2.' 'GS.CA01.20' 'GS.CA02.20' 'GS.CA03.20' 'NP.5419.10'\n",
      " 'ZY.SV03.' 'ZY.SV05.' 'ZY.SV07.']\n",
      "(1822, 15, 6000)\n"
     ]
    },
    {
     "name": "stderr",
     "output_type": "stream",
     "text": [
      " 32%|███▏      | 39/122 [02:59<41:49, 30.23s/it]"
     ]
    },
    {
     "name": "stdout",
     "output_type": "stream",
     "text": [
      "Loading data from date 2019-07-10\n",
      "\tLoading metadata from ../metadata_2/2019-07-10_stations.npy\n",
      "\tStations for date 2019-07-10: ['CI.CCC.' 'CI.CLC.' 'CI.DTP.' 'CI.JRC2.' 'CI.LRL.' 'CI.MPM.' 'CI.SLA.'\n",
      " 'CI.SRT.' 'CI.TOW2.' 'CI.WBM.' 'CI.WCS2.' 'CI.WMF.' 'CI.WNM.' 'CI.WRC2.'\n",
      " 'CI.WRV2.' 'CI.WVP2.' 'GS.CA01.20' 'GS.CA02.20' 'GS.CA03.20' 'GS.CA04.20'\n",
      " 'GS.CA05.20' 'NP.5419.10' 'ZY.SV01.' 'ZY.SV03.' 'ZY.SV05.' 'ZY.SV07.']\n",
      "(1830, 15, 6000)\n"
     ]
    },
    {
     "name": "stderr",
     "output_type": "stream",
     "text": [
      " 33%|███▎      | 40/122 [03:52<50:46, 37.15s/it]"
     ]
    },
    {
     "name": "stdout",
     "output_type": "stream",
     "text": [
      "Loading data from date 2019-07-11\n",
      "\tLoading metadata from ../metadata_2/2019-07-11_stations.npy\n",
      "\tStations for date 2019-07-11: ['CI.CCC.' 'CI.DTP.' 'CI.JRC2.' 'CI.LRL.' 'CI.MPM.' 'CI.SLA.' 'CI.SRT.'\n",
      " 'CI.TOW2.' 'CI.WBM.' 'CI.WCS2.' 'CI.WMF.' 'CI.WNM.' 'CI.WRC2.' 'CI.WRV2.'\n",
      " 'CI.WVP2.' 'GS.CA01.20' 'GS.CA02.20' 'GS.CA03.20' 'GS.CA04.20'\n",
      " 'GS.CA05.20' 'GS.CA06.20' 'NP.5419.10' 'ZY.SV01.' 'ZY.SV03.' 'ZY.SV05.'\n",
      " 'ZY.SV06.' 'ZY.SV07.' 'ZY.SV08.']\n",
      "(1567, 15, 6000)\n"
     ]
    },
    {
     "name": "stderr",
     "output_type": "stream",
     "text": [
      " 34%|███▎      | 41/122 [04:39<54:10, 40.13s/it]"
     ]
    },
    {
     "name": "stdout",
     "output_type": "stream",
     "text": [
      "Loading data from date 2019-07-12\n",
      "\tLoading metadata from ../metadata_2/2019-07-12_stations.npy\n",
      "\tStations for date 2019-07-12: ['CI.CCC.' 'CI.DTP.' 'CI.JRC2.' 'CI.LRL.' 'CI.MPM.' 'CI.SLA.' 'CI.SRT.'\n",
      " 'CI.TOW2.' 'CI.WBM.' 'CI.WCS2.' 'CI.WMF.' 'CI.WNM.' 'CI.WRC2.' 'CI.WRV2.'\n",
      " 'CI.WVP2.' 'GS.CA01.20' 'GS.CA02.20' 'GS.CA03.20' 'GS.CA04.20'\n",
      " 'GS.CA05.20' 'GS.CA06.20' 'GS.CA07.00' 'GS.CA08.00' 'NP.5419.10'\n",
      " 'ZY.SV01.' 'ZY.SV02.' 'ZY.SV03.' 'ZY.SV04.' 'ZY.SV05.' 'ZY.SV06.'\n",
      " 'ZY.SV07.' 'ZY.SV08.']\n",
      "(1615, 15, 6000)\n"
     ]
    },
    {
     "name": "stderr",
     "output_type": "stream",
     "text": [
      " 34%|███▍      | 42/122 [05:32<58:46, 44.08s/it]"
     ]
    },
    {
     "name": "stdout",
     "output_type": "stream",
     "text": [
      "Loading data from date 2019-07-13\n",
      "\tLoading metadata from ../metadata_2/2019-07-13_stations.npy\n",
      "\tStations for date 2019-07-13: ['CI.CCC.' 'CI.DTP.' 'CI.JRC2.' 'CI.LRL.' 'CI.MPM.' 'CI.SLA.' 'CI.SRT.'\n",
      " 'CI.TOW2.' 'CI.WBM.' 'CI.WCS2.' 'CI.WMF.' 'CI.WNM.' 'CI.WRC2.' 'CI.WRV2.'\n",
      " 'CI.WVP2.' 'GS.CA01.20' 'GS.CA02.20' 'GS.CA03.20' 'GS.CA04.20'\n",
      " 'GS.CA05.20' 'GS.CA06.20' 'GS.CA07.00' 'GS.CA08.00' 'NP.5419.10'\n",
      " 'ZY.SV01.' 'ZY.SV02.' 'ZY.SV03.' 'ZY.SV04.' 'ZY.SV05.' 'ZY.SV06.'\n",
      " 'ZY.SV07.' 'ZY.SV08.']\n",
      "(836, 15, 6000)\n"
     ]
    },
    {
     "name": "stderr",
     "output_type": "stream",
     "text": [
      " 35%|███▌      | 43/122 [05:58<50:51, 38.63s/it]"
     ]
    },
    {
     "name": "stdout",
     "output_type": "stream",
     "text": [
      "Loading data from date 2019-07-14\n",
      "\tLoading metadata from ../metadata_2/2019-07-14_stations.npy\n",
      "\tStations for date 2019-07-14: ['CI.CCC.' 'CI.DTP.' 'CI.JRC2.' 'CI.LRL.' 'CI.MPM.' 'CI.SLA.' 'CI.SRT.'\n",
      " 'CI.TOW2.' 'CI.WBM.' 'CI.WCS2.' 'CI.WMF.' 'CI.WNM.' 'CI.WRC2.' 'CI.WRV2.'\n",
      " 'CI.WVP2.' 'GS.CA01.20' 'GS.CA02.20' 'GS.CA03.20' 'GS.CA04.20'\n",
      " 'GS.CA05.20' 'GS.CA06.20' 'GS.CA07.00' 'GS.CA08.00' 'NP.5419.10'\n",
      " 'ZY.SV01.' 'ZY.SV02.' 'ZY.SV03.' 'ZY.SV04.' 'ZY.SV05.' 'ZY.SV06.'\n",
      " 'ZY.SV07.' 'ZY.SV08.']\n",
      "(731, 15, 6000)\n"
     ]
    },
    {
     "name": "stderr",
     "output_type": "stream",
     "text": [
      " 36%|███▌      | 44/122 [06:25<45:23, 34.92s/it]"
     ]
    },
    {
     "name": "stdout",
     "output_type": "stream",
     "text": [
      "Loading data from date 2019-07-15\n",
      "\tLoading metadata from ../metadata_2/2019-07-15_stations.npy\n",
      "\tStations for date 2019-07-15: ['CI.CCC.' 'CI.DTP.' 'CI.JRC2.' 'CI.LRL.' 'CI.MPM.' 'CI.SLA.' 'CI.SRT.'\n",
      " 'CI.TOW2.' 'CI.WBM.' 'CI.WCS2.' 'CI.WMF.' 'CI.WNM.' 'CI.WRC2.' 'CI.WRV2.'\n",
      " 'CI.WVP2.' 'GS.CA01.20' 'GS.CA02.20' 'GS.CA03.20' 'GS.CA04.20'\n",
      " 'GS.CA05.20' 'GS.CA06.20' 'GS.CA07.00' 'GS.CA08.00' 'NP.5419.10'\n",
      " 'ZY.SV01.' 'ZY.SV05.' 'ZY.SV06.' 'ZY.SV07.' 'ZY.SV08.']\n",
      "(744, 15, 6000)\n"
     ]
    },
    {
     "name": "stderr",
     "output_type": "stream",
     "text": [
      " 37%|███▋      | 45/122 [06:47<40:00, 31.18s/it]"
     ]
    },
    {
     "name": "stdout",
     "output_type": "stream",
     "text": [
      "Loading data from date 2019-07-16\n",
      "\tLoading metadata from ../metadata_2/2019-07-16_stations.npy\n",
      "\tStations for date 2019-07-16: ['CI.CCC.' 'CI.CLC.' 'CI.DTP.' 'CI.JRC2.' 'CI.LRL.' 'CI.MPM.' 'CI.SLA.'\n",
      " 'CI.SRT.' 'CI.TOW2.' 'CI.WBM.' 'CI.WCS2.' 'CI.WMF.' 'CI.WNM.' 'CI.WRC2.'\n",
      " 'CI.WRV2.' 'CI.WVP2.' 'GS.CA01.20' 'GS.CA02.20' 'GS.CA03.20' 'GS.CA04.20'\n",
      " 'GS.CA05.20' 'GS.CA06.20' 'GS.CA07.00' 'GS.CA08.00' 'NP.5419.10'\n",
      " 'ZY.SV01.' 'ZY.SV05.' 'ZY.SV07.' 'ZY.SV08.']\n",
      "(694, 15, 6000)\n"
     ]
    },
    {
     "name": "stderr",
     "output_type": "stream",
     "text": [
      " 38%|███▊      | 46/122 [07:08<35:31, 28.04s/it]"
     ]
    },
    {
     "name": "stdout",
     "output_type": "stream",
     "text": [
      "Loading data from date 2019-07-17\n",
      "\tLoading metadata from ../metadata_2/2019-07-17_stations.npy\n",
      "\tStations for date 2019-07-17: ['CI.CCC.' 'CI.CLC.' 'CI.DTP.' 'CI.JRC2.' 'CI.LRL.' 'CI.MPM.' 'CI.SLA.'\n",
      " 'CI.SRT.' 'CI.TOW2.' 'CI.WBM.' 'CI.WCS2.' 'CI.WMF.' 'CI.WNM.' 'CI.WRC2.'\n",
      " 'CI.WRV2.' 'CI.WVP2.' 'GS.CA01.20' 'GS.CA02.20' 'GS.CA03.20' 'GS.CA04.20'\n",
      " 'GS.CA05.20' 'GS.CA06.20' 'GS.CA07.00' 'GS.CA08.00' 'GS.CA09.00'\n",
      " 'NP.5419.10' 'ZY.SV01.' 'ZY.SV05.' 'ZY.SV07.' 'ZY.SV08.']\n",
      "(739, 15, 6000)\n"
     ]
    },
    {
     "name": "stderr",
     "output_type": "stream",
     "text": [
      " 39%|███▊      | 47/122 [07:30<33:02, 26.43s/it]"
     ]
    },
    {
     "name": "stdout",
     "output_type": "stream",
     "text": [
      "Loading data from date 2019-07-18\n",
      "\tLoading metadata from ../metadata_2/2019-07-18_stations.npy\n",
      "\tStations for date 2019-07-18: ['CI.CCC.' 'CI.CLC.' 'CI.DTP.' 'CI.JRC2.' 'CI.LRL.' 'CI.MPM.' 'CI.SLA.'\n",
      " 'CI.SRT.' 'CI.TOW2.' 'CI.WBM.' 'CI.WCS2.' 'CI.WMF.' 'CI.WNM.' 'CI.WRC2.'\n",
      " 'CI.WRV2.' 'CI.WVP2.' 'GS.CA01.20' 'GS.CA02.20' 'GS.CA03.20' 'GS.CA04.20'\n",
      " 'GS.CA05.20' 'GS.CA06.20' 'GS.CA07.00' 'GS.CA08.00' 'GS.CA09.00'\n",
      " 'NP.5419.10' 'ZY.SV01.' 'ZY.SV05.' 'ZY.SV07.']\n",
      "(647, 15, 6000)\n"
     ]
    },
    {
     "name": "stderr",
     "output_type": "stream",
     "text": [
      " 39%|███▉      | 48/122 [07:50<30:09, 24.46s/it]"
     ]
    },
    {
     "name": "stdout",
     "output_type": "stream",
     "text": [
      "Loading data from date 2019-07-19\n",
      "\tLoading metadata from ../metadata_2/2019-07-19_stations.npy\n",
      "\tStations for date 2019-07-19: ['CI.CCC.' 'CI.CLC.' 'CI.DTP.' 'CI.JRC2.' 'CI.LRL.' 'CI.MPM.' 'CI.SLA.'\n",
      " 'CI.SRT.' 'CI.TOW2.' 'CI.WBM.' 'CI.WCS2.' 'CI.WMF.' 'CI.WNM.' 'CI.WRC2.'\n",
      " 'CI.WRV2.' 'CI.WVP2.' 'GS.CA01.20' 'GS.CA02.20' 'GS.CA03.20' 'GS.CA04.20'\n",
      " 'GS.CA05.20' 'GS.CA06.20' 'GS.CA07.00' 'GS.CA08.00' 'GS.CA09.00'\n",
      " 'NP.5419.10' 'ZY.SV02.' 'ZY.SV03.' 'ZY.SV04.' 'ZY.SV05.' 'ZY.SV07.']\n",
      "(559, 15, 6000)\n"
     ]
    },
    {
     "name": "stderr",
     "output_type": "stream",
     "text": [
      " 40%|████      | 49/122 [08:09<27:39, 22.73s/it]"
     ]
    },
    {
     "name": "stdout",
     "output_type": "stream",
     "text": [
      "Loading data from date 2019-07-20\n",
      "\tLoading metadata from ../metadata_2/2019-07-20_stations.npy\n",
      "\tStations for date 2019-07-20: ['CI.CCC.' 'CI.CLC.' 'CI.DTP.' 'CI.JRC2.' 'CI.LRL.' 'CI.MPM.' 'CI.SLA.'\n",
      " 'CI.SRT.' 'CI.TOW2.' 'CI.WBM.' 'CI.WCS2.' 'CI.WMF.' 'CI.WNM.' 'CI.WRC2.'\n",
      " 'CI.WRV2.' 'CI.WVP2.' 'GS.CA01.20' 'GS.CA02.20' 'GS.CA03.20' 'GS.CA04.20'\n",
      " 'GS.CA05.20' 'GS.CA06.20' 'GS.CA07.00' 'GS.CA08.00' 'GS.CA09.00'\n",
      " 'NP.5419.10' 'ZY.SV01.' 'ZY.SV02.' 'ZY.SV03.' 'ZY.SV04.' 'ZY.SV05.'\n",
      " 'ZY.SV06.' 'ZY.SV07.' 'ZY.SV08.']\n",
      "(573, 15, 6000)\n"
     ]
    },
    {
     "name": "stderr",
     "output_type": "stream",
     "text": [
      " 41%|████      | 50/122 [08:28<26:07, 21.77s/it]"
     ]
    },
    {
     "name": "stdout",
     "output_type": "stream",
     "text": [
      "Loading data from date 2019-07-21\n",
      "\tLoading metadata from ../metadata_2/2019-07-21_stations.npy\n",
      "\tStations for date 2019-07-21: ['CI.CCC.' 'CI.CLC.' 'CI.DTP.' 'CI.JRC2.' 'CI.LRL.' 'CI.MPM.' 'CI.SLA.'\n",
      " 'CI.SRT.' 'CI.TOW2.' 'CI.WBM.' 'CI.WCS2.' 'CI.WMF.' 'CI.WNM.' 'CI.WRC2.'\n",
      " 'CI.WRV2.' 'CI.WVP2.' 'GS.CA01.20' 'GS.CA02.20' 'GS.CA03.20' 'GS.CA04.20'\n",
      " 'GS.CA05.20' 'GS.CA06.20' 'GS.CA07.00' 'GS.CA08.00' 'GS.CA09.00'\n",
      " 'NP.5419.10' 'ZY.SV01.' 'ZY.SV02.' 'ZY.SV03.' 'ZY.SV04.' 'ZY.SV05.'\n",
      " 'ZY.SV06.' 'ZY.SV07.' 'ZY.SV08.']\n",
      "(551, 15, 6000)\n"
     ]
    },
    {
     "name": "stderr",
     "output_type": "stream",
     "text": [
      " 42%|████▏     | 51/122 [08:48<24:49, 20.98s/it]"
     ]
    },
    {
     "name": "stdout",
     "output_type": "stream",
     "text": [
      "Loading data from date 2019-07-22\n",
      "\tLoading metadata from ../metadata_2/2019-07-22_stations.npy\n",
      "\tStations for date 2019-07-22: ['CI.CCC.' 'CI.CLC.' 'CI.DTP.' 'CI.JRC2.' 'CI.LRL.' 'CI.MPM.' 'CI.SLA.'\n",
      " 'CI.SRT.' 'CI.TOW2.' 'CI.WBM.' 'CI.WCS2.' 'CI.WMF.' 'CI.WNM.' 'CI.WRC2.'\n",
      " 'CI.WRV2.' 'CI.WVP2.' 'GS.CA01.20' 'GS.CA02.20' 'GS.CA03.20' 'GS.CA04.20'\n",
      " 'GS.CA05.20' 'GS.CA06.20' 'GS.CA07.00' 'GS.CA08.00' 'GS.CA09.00'\n",
      " 'NP.5419.10' 'ZY.SV01.' 'ZY.SV02.' 'ZY.SV03.' 'ZY.SV04.' 'ZY.SV05.'\n",
      " 'ZY.SV06.' 'ZY.SV07.' 'ZY.SV08.']\n",
      "(545, 15, 6000)\n"
     ]
    },
    {
     "name": "stderr",
     "output_type": "stream",
     "text": [
      " 43%|████▎     | 52/122 [09:07<23:46, 20.38s/it]"
     ]
    },
    {
     "name": "stdout",
     "output_type": "stream",
     "text": [
      "Loading data from date 2019-07-23\n",
      "\tLoading metadata from ../metadata_2/2019-07-23_stations.npy\n",
      "\tStations for date 2019-07-23: ['CI.CCC.' 'CI.CLC.' 'CI.DTP.' 'CI.JRC2.' 'CI.LRL.' 'CI.MPM.' 'CI.SLA.'\n",
      " 'CI.SRT.' 'CI.TOW2.' 'CI.WBM.' 'CI.WCS2.' 'CI.WMF.' 'CI.WNM.' 'CI.WRC2.'\n",
      " 'CI.WRV2.' 'CI.WVP2.' 'GS.CA01.20' 'GS.CA02.20' 'GS.CA03.20' 'GS.CA04.20'\n",
      " 'GS.CA05.20' 'GS.CA06.20' 'GS.CA07.00' 'GS.CA08.00' 'GS.CA09.00'\n",
      " 'NP.5419.10' 'ZY.SV01.' 'ZY.SV02.' 'ZY.SV03.' 'ZY.SV04.' 'ZY.SV05.'\n",
      " 'ZY.SV06.' 'ZY.SV07.' 'ZY.SV08.']\n",
      "(495, 15, 6000)\n"
     ]
    },
    {
     "name": "stderr",
     "output_type": "stream",
     "text": [
      " 43%|████▎     | 53/122 [09:24<22:22, 19.45s/it]"
     ]
    },
    {
     "name": "stdout",
     "output_type": "stream",
     "text": [
      "Loading data from date 2019-07-24\n",
      "\tLoading metadata from ../metadata_2/2019-07-24_stations.npy\n",
      "\tStations for date 2019-07-24: ['CI.CCC.' 'CI.CLC.' 'CI.DTP.' 'CI.JRC2.' 'CI.LRL.' 'CI.MPM.' 'CI.SLA.'\n",
      " 'CI.SRT.' 'CI.TOW2.' 'CI.WBM.' 'CI.WCS2.' 'CI.WMF.' 'CI.WNM.' 'CI.WRC2.'\n",
      " 'CI.WRV2.' 'CI.WVP2.' 'GS.CA01.20' 'GS.CA02.20' 'GS.CA03.20' 'GS.CA04.20'\n",
      " 'GS.CA05.20' 'GS.CA06.20' 'GS.CA07.00' 'GS.CA08.00' 'GS.CA09.00'\n",
      " 'NP.5419.10' 'ZY.SV01.' 'ZY.SV02.' 'ZY.SV03.' 'ZY.SV04.' 'ZY.SV05.'\n",
      " 'ZY.SV06.' 'ZY.SV07.' 'ZY.SV08.']\n",
      "(472, 15, 6000)\n"
     ]
    },
    {
     "name": "stderr",
     "output_type": "stream",
     "text": [
      " 44%|████▍     | 54/122 [09:39<20:31, 18.10s/it]"
     ]
    },
    {
     "name": "stdout",
     "output_type": "stream",
     "text": [
      "Loading data from date 2019-07-25\n",
      "\tLoading metadata from ../metadata_2/2019-07-25_stations.npy\n",
      "\tStations for date 2019-07-25: ['CI.CCC.' 'CI.CLC.' 'CI.DTP.' 'CI.JRC2.' 'CI.LRL.' 'CI.MPM.' 'CI.SLA.'\n",
      " 'CI.SRT.' 'CI.TOW2.' 'CI.WBM.' 'CI.WCS2.' 'CI.WMF.' 'CI.WNM.' 'CI.WRC2.'\n",
      " 'CI.WRV2.' 'CI.WVP2.' 'GS.CA01.20' 'GS.CA02.20' 'GS.CA03.20' 'GS.CA04.20'\n",
      " 'GS.CA05.20' 'GS.CA06.20' 'GS.CA07.00' 'GS.CA08.00' 'GS.CA09.00'\n",
      " 'NP.5419.10' 'ZY.SV01.' 'ZY.SV06.' 'ZY.SV08.']\n",
      "(462, 15, 6000)\n"
     ]
    },
    {
     "name": "stderr",
     "output_type": "stream",
     "text": [
      " 45%|████▌     | 55/122 [09:53<18:55, 16.95s/it]"
     ]
    },
    {
     "name": "stdout",
     "output_type": "stream",
     "text": [
      "Loading data from date 2019-07-26\n",
      "\tLoading metadata from ../metadata_2/2019-07-26_stations.npy\n",
      "\tStations for date 2019-07-26: ['CI.CCC.' 'CI.CLC.' 'CI.DTP.' 'CI.JRC2.' 'CI.LRL.' 'CI.MPM.' 'CI.SLA.'\n",
      " 'CI.SRT.' 'CI.TOW2.' 'CI.WBM.' 'CI.WCS2.' 'CI.WMF.' 'CI.WNM.' 'CI.WRC2.'\n",
      " 'CI.WRV2.' 'CI.WVP2.' 'GS.CA01.20' 'GS.CA02.20' 'GS.CA03.20' 'GS.CA04.20'\n",
      " 'GS.CA05.20' 'GS.CA06.20' 'GS.CA07.00' 'GS.CA08.00' 'GS.CA09.00'\n",
      " 'NP.5419.10' 'ZY.SV01.' 'ZY.SV06.' 'ZY.SV08.']\n",
      "(644, 15, 6000)\n"
     ]
    },
    {
     "name": "stderr",
     "output_type": "stream",
     "text": [
      " 46%|████▌     | 56/122 [10:12<19:20, 17.58s/it]"
     ]
    },
    {
     "name": "stdout",
     "output_type": "stream",
     "text": [
      "Loading data from date 2019-07-27\n",
      "\tLoading metadata from ../metadata_2/2019-07-27_stations.npy\n",
      "\tStations for date 2019-07-27: ['CI.CCC.' 'CI.CLC.' 'CI.DTP.' 'CI.JRC2.' 'CI.LRL.' 'CI.MPM.' 'CI.SLA.'\n",
      " 'CI.SRT.' 'CI.TOW2.' 'CI.WBM.' 'CI.WCS2.' 'CI.WMF.' 'CI.WNM.' 'CI.WRC2.'\n",
      " 'CI.WRV2.' 'CI.WVP2.' 'GS.CA01.20' 'GS.CA03.20' 'GS.CA04.20' 'GS.CA05.20'\n",
      " 'GS.CA06.20' 'GS.CA07.00' 'GS.CA08.00' 'GS.CA09.00' 'NP.5419.10'\n",
      " 'ZY.SV01.' 'ZY.SV06.' 'ZY.SV08.']\n",
      "(446, 15, 6000)\n"
     ]
    },
    {
     "name": "stderr",
     "output_type": "stream",
     "text": [
      " 47%|████▋     | 57/122 [10:25<17:32, 16.20s/it]"
     ]
    },
    {
     "name": "stdout",
     "output_type": "stream",
     "text": [
      "Loading data from date 2019-07-28\n",
      "\tLoading metadata from ../metadata_2/2019-07-28_stations.npy\n",
      "\tStations for date 2019-07-28: ['CI.CCC.' 'CI.CLC.' 'CI.DTP.' 'CI.JRC2.' 'CI.LRL.' 'CI.MPM.' 'CI.SLA.'\n",
      " 'CI.SRT.' 'CI.TOW2.' 'CI.WBM.' 'CI.WCS2.' 'CI.WMF.' 'CI.WNM.' 'CI.WRC2.'\n",
      " 'CI.WRV2.' 'CI.WVP2.' 'GS.CA01.20' 'GS.CA03.20' 'GS.CA04.20' 'GS.CA05.20'\n",
      " 'GS.CA06.20' 'GS.CA07.00' 'GS.CA08.00' 'GS.CA09.00' 'NP.5419.10'\n",
      " 'ZY.SV01.' 'ZY.SV06.' 'ZY.SV08.']\n",
      "(567, 15, 6000)\n"
     ]
    },
    {
     "name": "stderr",
     "output_type": "stream",
     "text": [
      " 48%|████▊     | 58/122 [10:42<17:35, 16.48s/it]"
     ]
    },
    {
     "name": "stdout",
     "output_type": "stream",
     "text": [
      "Loading data from date 2019-07-29\n",
      "\tLoading metadata from ../metadata_2/2019-07-29_stations.npy\n",
      "\tStations for date 2019-07-29: ['CI.CCC.' 'CI.CLC.' 'CI.DTP.' 'CI.JRC2.' 'CI.LRL.' 'CI.MPM.' 'CI.SLA.'\n",
      " 'CI.SRT.' 'CI.TOW2.' 'CI.WBM.' 'CI.WCS2.' 'CI.WMF.' 'CI.WNM.' 'CI.WRC2.'\n",
      " 'CI.WRV2.' 'CI.WVP2.' 'GS.CA01.20' 'GS.CA03.20' 'GS.CA04.20' 'GS.CA05.20'\n",
      " 'GS.CA06.20' 'GS.CA07.00' 'GS.CA08.00' 'GS.CA09.00' 'NP.5419.10'\n",
      " 'ZY.SV01.' 'ZY.SV06.' 'ZY.SV08.']\n",
      "(371, 15, 6000)\n"
     ]
    },
    {
     "name": "stderr",
     "output_type": "stream",
     "text": [
      " 48%|████▊     | 59/122 [10:54<15:46, 15.02s/it]"
     ]
    },
    {
     "name": "stdout",
     "output_type": "stream",
     "text": [
      "Loading data from date 2019-07-30\n",
      "\tLoading metadata from ../metadata_2/2019-07-30_stations.npy\n",
      "\tStations for date 2019-07-30: ['CI.CCC.' 'CI.CLC.' 'CI.DTP.' 'CI.JRC2.' 'CI.LRL.' 'CI.MPM.' 'CI.SLA.'\n",
      " 'CI.SRT.' 'CI.TOW2.' 'CI.WBM.' 'CI.WCS2.' 'CI.WMF.' 'CI.WNM.' 'CI.WRC2.'\n",
      " 'CI.WRV2.' 'CI.WVP2.' 'GS.CA01.20' 'GS.CA03.20' 'GS.CA04.20' 'GS.CA05.20'\n",
      " 'GS.CA06.20' 'GS.CA07.00' 'GS.CA08.00' 'GS.CA09.00' 'NP.5419.10'\n",
      " 'ZY.SV01.' 'ZY.SV06.' 'ZY.SV08.']\n",
      "(398, 15, 6000)\n"
     ]
    },
    {
     "name": "stderr",
     "output_type": "stream",
     "text": [
      " 49%|████▉     | 60/122 [11:06<14:34, 14.10s/it]"
     ]
    },
    {
     "name": "stdout",
     "output_type": "stream",
     "text": [
      "Loading data from date 2019-07-31\n",
      "\tLoading metadata from ../metadata_2/2019-07-31_stations.npy\n",
      "\tStations for date 2019-07-31: ['CI.CCC.' 'CI.CLC.' 'CI.DTP.' 'CI.JRC2.' 'CI.LRL.' 'CI.MPM.' 'CI.SLA.'\n",
      " 'CI.SRT.' 'CI.TOW2.' 'CI.WBM.' 'CI.WCS2.' 'CI.WMF.' 'CI.WNM.' 'CI.WRC2.'\n",
      " 'CI.WRV2.' 'CI.WVP2.' 'GS.CA01.20' 'GS.CA03.20' 'GS.CA05.20' 'GS.CA06.20'\n",
      " 'GS.CA07.00' 'GS.CA08.00' 'GS.CA09.00' 'GS.CA10.00' 'NP.5419.10'\n",
      " 'ZY.SV01.' 'ZY.SV06.' 'ZY.SV08.']\n",
      "(250, 15, 6000)\n"
     ]
    },
    {
     "name": "stderr",
     "output_type": "stream",
     "text": [
      " 50%|█████     | 61/122 [11:13<12:05, 11.89s/it]"
     ]
    },
    {
     "name": "stdout",
     "output_type": "stream",
     "text": [
      "Loading data from date 2019-08-01\n",
      "\tLoading metadata from ../metadata_2/2019-08-01_stations.npy\n",
      "\tStations for date 2019-08-01: ['CI.CCC.' 'CI.DTP.' 'CI.JRC2.' 'CI.LRL.' 'CI.MPM.' 'CI.SLA.' 'CI.SRT.'\n",
      " 'CI.TOW2.' 'CI.WBM.' 'CI.WCS2.' 'CI.WMF.' 'CI.WNM.' 'CI.WRC2.' 'CI.WRV2.'\n",
      " 'CI.WVP2.' 'GS.CA01.20' 'GS.CA03.20' 'GS.CA05.20' 'GS.CA06.20'\n",
      " 'GS.CA07.00' 'GS.CA08.00' 'GS.CA09.00' 'GS.CA10.00' 'NP.5419.10'\n",
      " 'ZY.SV01.' 'ZY.SV06.' 'ZY.SV08.']\n",
      "(196, 15, 6000)\n"
     ]
    },
    {
     "name": "stderr",
     "output_type": "stream",
     "text": [
      " 51%|█████     | 62/122 [11:19<10:20, 10.34s/it]"
     ]
    },
    {
     "name": "stdout",
     "output_type": "stream",
     "text": [
      "Loading data from date 2019-08-02\n",
      "\tLoading metadata from ../metadata_2/2019-08-02_stations.npy\n",
      "\tStations for date 2019-08-02: ['CI.CCC.' 'CI.DTP.' 'CI.JRC2.' 'CI.LRL.' 'CI.MPM.' 'CI.SLA.' 'CI.SRT.'\n",
      " 'CI.TOW2.' 'CI.WBM.' 'CI.WCS2.' 'CI.WMF.' 'CI.WNM.' 'CI.WRC2.' 'CI.WRV2.'\n",
      " 'CI.WVP2.' 'GS.CA01.20' 'GS.CA03.20' 'GS.CA04.20' 'GS.CA05.20'\n",
      " 'GS.CA06.20' 'GS.CA07.00' 'GS.CA08.00' 'GS.CA09.00' 'GS.CA10.00'\n",
      " 'NP.5419.10' 'ZY.SV01.' 'ZY.SV06.' 'ZY.SV08.']\n"
     ]
    },
    {
     "name": "stderr",
     "output_type": "stream",
     "text": [
      " 52%|█████▏    | 63/122 [11:24<08:33,  8.70s/it]"
     ]
    },
    {
     "name": "stdout",
     "output_type": "stream",
     "text": [
      "(185, 15, 6000)\n",
      "Loading data from date 2019-08-03\n",
      "\tLoading metadata from ../metadata_2/2019-08-03_stations.npy\n",
      "\tStations for date 2019-08-03: ['CI.CCC.' 'CI.DTP.' 'CI.JRC2.' 'CI.LRL.' 'CI.MPM.' 'CI.SLA.' 'CI.SRT.'\n",
      " 'CI.TOW2.' 'CI.WBM.' 'CI.WCS2.' 'CI.WMF.' 'CI.WNM.' 'CI.WRC2.' 'CI.WRV2.'\n",
      " 'CI.WVP2.' 'GS.CA01.20' 'GS.CA03.20' 'GS.CA05.20' 'GS.CA06.20'\n",
      " 'GS.CA07.00' 'GS.CA08.00' 'GS.CA09.00' 'GS.CA10.00' 'NP.5419.10'\n",
      " 'ZY.SV01.' 'ZY.SV06.' 'ZY.SV08.']\n",
      "(221, 15, 6000)\n"
     ]
    },
    {
     "name": "stderr",
     "output_type": "stream",
     "text": [
      " 52%|█████▏    | 64/122 [11:31<07:55,  8.20s/it]"
     ]
    },
    {
     "name": "stdout",
     "output_type": "stream",
     "text": [
      "Loading data from date 2019-08-04\n",
      "\tLoading metadata from ../metadata_2/2019-08-04_stations.npy\n",
      "\tStations for date 2019-08-04: ['CI.CCC.' 'CI.DTP.' 'CI.JRC2.' 'CI.LRL.' 'CI.MPM.' 'CI.SLA.' 'CI.SRT.'\n",
      " 'CI.TOW2.' 'CI.WBM.' 'CI.WCS2.' 'CI.WMF.' 'CI.WNM.' 'CI.WRC2.' 'CI.WRV2.'\n",
      " 'CI.WVP2.' 'GS.CA01.20' 'GS.CA03.20' 'GS.CA05.20' 'GS.CA06.20'\n",
      " 'GS.CA07.00' 'GS.CA08.00' 'GS.CA09.00' 'GS.CA10.00' 'NP.5419.10'\n",
      " 'ZY.SV01.' 'ZY.SV06.' 'ZY.SV08.']\n",
      "(244, 15, 6000)\n"
     ]
    },
    {
     "name": "stderr",
     "output_type": "stream",
     "text": [
      " 53%|█████▎    | 65/122 [11:39<07:36,  8.00s/it]"
     ]
    },
    {
     "name": "stdout",
     "output_type": "stream",
     "text": [
      "Loading data from date 2019-08-05\n",
      "\tLoading metadata from ../metadata_2/2019-08-05_stations.npy\n",
      "\tStations for date 2019-08-05: ['CI.CCC.' 'CI.DTP.' 'CI.JRC2.' 'CI.LRL.' 'CI.MPM.' 'CI.SLA.' 'CI.SRT.'\n",
      " 'CI.TOW2.' 'CI.WBM.' 'CI.WCS2.' 'CI.WMF.' 'CI.WNM.' 'CI.WRC2.' 'CI.WRV2.'\n",
      " 'CI.WVP2.' 'GS.CA01.20' 'GS.CA03.20' 'GS.CA05.20' 'GS.CA06.20'\n",
      " 'GS.CA07.00' 'GS.CA08.00' 'GS.CA09.00' 'GS.CA10.00' 'NP.5419.10'\n",
      " 'ZY.SV01.' 'ZY.SV06.' 'ZY.SV08.']\n",
      "(271, 15, 6000)\n"
     ]
    },
    {
     "name": "stderr",
     "output_type": "stream",
     "text": [
      " 54%|█████▍    | 66/122 [11:46<07:21,  7.89s/it]"
     ]
    },
    {
     "name": "stdout",
     "output_type": "stream",
     "text": [
      "Loading data from date 2019-08-06\n",
      "\tLoading metadata from ../metadata_2/2019-08-06_stations.npy\n",
      "\tStations for date 2019-08-06: ['CI.CCC.' 'CI.DTP.' 'CI.JRC2.' 'CI.LRL.' 'CI.MPM.' 'CI.SLA.' 'CI.SRT.'\n",
      " 'CI.TOW2.' 'CI.WBM.' 'CI.WCS2.' 'CI.WMF.' 'CI.WNM.' 'CI.WRC2.' 'CI.WRV2.'\n",
      " 'CI.WVP2.' 'GS.CA01.20' 'GS.CA03.20' 'GS.CA04.20' 'GS.CA05.20'\n",
      " 'GS.CA06.20' 'GS.CA07.00' 'GS.CA08.00' 'GS.CA09.00' 'GS.CA10.00'\n",
      " 'ZY.SV01.' 'ZY.SV06.' 'ZY.SV08.']\n",
      "(226, 15, 6000)\n"
     ]
    },
    {
     "name": "stderr",
     "output_type": "stream",
     "text": [
      " 55%|█████▍    | 67/122 [11:53<06:49,  7.45s/it]"
     ]
    },
    {
     "name": "stdout",
     "output_type": "stream",
     "text": [
      "Loading data from date 2019-08-07\n",
      "\tLoading metadata from ../metadata_2/2019-08-07_stations.npy\n",
      "\tStations for date 2019-08-07: ['CI.CCC.' 'CI.CLC.' 'CI.DTP.' 'CI.JRC2.' 'CI.LRL.' 'CI.MPM.' 'CI.SLA.'\n",
      " 'CI.SRT.' 'CI.TOW2.' 'CI.WBM.' 'CI.WCS2.' 'CI.WMF.' 'CI.WNM.' 'CI.WRC2.'\n",
      " 'CI.WRV2.' 'CI.WVP2.' 'GS.CA01.20' 'GS.CA03.20' 'GS.CA05.20' 'GS.CA06.20'\n",
      " 'GS.CA07.00' 'GS.CA08.00' 'GS.CA09.00' 'GS.CA10.00' 'ZY.SV01.' 'ZY.SV06.'\n",
      " 'ZY.SV08.']\n",
      "(221, 15, 6000)\n"
     ]
    },
    {
     "name": "stderr",
     "output_type": "stream",
     "text": [
      " 56%|█████▌    | 68/122 [11:59<06:23,  7.11s/it]"
     ]
    },
    {
     "name": "stdout",
     "output_type": "stream",
     "text": [
      "Loading data from date 2019-08-08\n",
      "\tLoading metadata from ../metadata_2/2019-08-08_stations.npy\n",
      "\tStations for date 2019-08-08: ['CI.CCC.' 'CI.CLC.' 'CI.DTP.' 'CI.JRC2.' 'CI.LRL.' 'CI.MPM.' 'CI.SLA.'\n",
      " 'CI.SRT.' 'CI.TOW2.' 'CI.WBM.' 'CI.WCS2.' 'CI.WMF.' 'CI.WNM.' 'CI.WRC2.'\n",
      " 'CI.WRV2.' 'CI.WVP2.' 'GS.CA01.20' 'GS.CA03.20' 'GS.CA05.20' 'GS.CA06.20'\n",
      " 'GS.CA07.00' 'GS.CA08.00' 'GS.CA09.00' 'GS.CA10.00' 'ZY.SV01.' 'ZY.SV06.'\n",
      " 'ZY.SV08.']\n",
      "(261, 15, 6000)\n"
     ]
    },
    {
     "name": "stderr",
     "output_type": "stream",
     "text": [
      " 57%|█████▋    | 69/122 [12:07<06:22,  7.22s/it]"
     ]
    },
    {
     "name": "stdout",
     "output_type": "stream",
     "text": [
      "Loading data from date 2019-08-09\n",
      "\tLoading metadata from ../metadata_2/2019-08-09_stations.npy\n",
      "\tStations for date 2019-08-09: ['CI.CCC.' 'CI.CLC.' 'CI.DTP.' 'CI.JRC2.' 'CI.LRL.' 'CI.MPM.' 'CI.SLA.'\n",
      " 'CI.SRT.' 'CI.TOW2.' 'CI.WBM.' 'CI.WCS2.' 'CI.WMF.' 'CI.WNM.' 'CI.WRC2.'\n",
      " 'CI.WRV2.' 'CI.WVP2.' 'GS.CA01.20' 'GS.CA03.20' 'GS.CA04.20' 'GS.CA05.20'\n",
      " 'GS.CA06.20' 'GS.CA07.00' 'GS.CA08.00' 'GS.CA09.00' 'GS.CA10.00'\n",
      " 'ZY.SV01.' 'ZY.SV06.' 'ZY.SV08.']\n",
      "(240, 15, 6000)\n"
     ]
    },
    {
     "name": "stderr",
     "output_type": "stream",
     "text": [
      " 57%|█████▋    | 70/122 [12:14<06:19,  7.29s/it]"
     ]
    },
    {
     "name": "stdout",
     "output_type": "stream",
     "text": [
      "Loading data from date 2019-08-10\n",
      "\tLoading metadata from ../metadata_2/2019-08-10_stations.npy\n",
      "\tStations for date 2019-08-10: ['CI.CCC.' 'CI.CLC.' 'CI.DTP.' 'CI.JRC2.' 'CI.LRL.' 'CI.MPM.' 'CI.SLA.'\n",
      " 'CI.SRT.' 'CI.TOW2.' 'CI.WBM.' 'CI.WCS2.' 'CI.WMF.' 'CI.WNM.' 'CI.WRC2.'\n",
      " 'CI.WRV2.' 'CI.WVP2.' 'GS.CA01.20' 'GS.CA03.20' 'GS.CA04.20' 'GS.CA05.20'\n",
      " 'GS.CA06.20' 'GS.CA07.00' 'GS.CA08.00' 'GS.CA09.00' 'GS.CA10.00'\n",
      " 'ZY.SV01.' 'ZY.SV03.' 'ZY.SV06.' 'ZY.SV08.']\n",
      "(245, 15, 6000)\n"
     ]
    },
    {
     "name": "stderr",
     "output_type": "stream",
     "text": [
      " 58%|█████▊    | 71/122 [12:22<06:25,  7.56s/it]"
     ]
    },
    {
     "name": "stdout",
     "output_type": "stream",
     "text": [
      "Loading data from date 2019-08-11\n",
      "\tLoading metadata from ../metadata_2/2019-08-11_stations.npy\n",
      "\tStations for date 2019-08-11: ['CI.CCC.' 'CI.CLC.' 'CI.DTP.' 'CI.JRC2.' 'CI.LRL.' 'CI.MPM.' 'CI.SLA.'\n",
      " 'CI.SRT.' 'CI.TOW2.' 'CI.WBM.' 'CI.WCS2.' 'CI.WMF.' 'CI.WNM.' 'CI.WRC2.'\n",
      " 'CI.WRV2.' 'CI.WVP2.' 'GS.CA01.20' 'GS.CA03.20' 'GS.CA04.20' 'GS.CA05.20'\n",
      " 'GS.CA06.20' 'GS.CA07.00' 'GS.CA08.00' 'GS.CA09.00' 'GS.CA10.00'\n",
      " 'ZY.SV01.' 'ZY.SV03.' 'ZY.SV04.' 'ZY.SV05.' 'ZY.SV06.' 'ZY.SV08.']\n",
      "(290, 15, 6000)\n"
     ]
    },
    {
     "name": "stderr",
     "output_type": "stream",
     "text": [
      " 59%|█████▉    | 72/122 [12:32<06:44,  8.09s/it]"
     ]
    },
    {
     "name": "stdout",
     "output_type": "stream",
     "text": [
      "Loading data from date 2019-08-12\n",
      "\tLoading metadata from ../metadata_2/2019-08-12_stations.npy\n",
      "\tStations for date 2019-08-12: ['CI.CCC.' 'CI.CLC.' 'CI.DTP.' 'CI.JRC2.' 'CI.LRL.' 'CI.MPM.' 'CI.SLA.'\n",
      " 'CI.SRT.' 'CI.TOW2.' 'CI.WBM.' 'CI.WCS2.' 'CI.WMF.' 'CI.WNM.' 'CI.WRC2.'\n",
      " 'CI.WRV2.' 'CI.WVP2.' 'GS.CA01.20' 'GS.CA03.20' 'GS.CA05.20' 'GS.CA06.20'\n",
      " 'GS.CA07.00' 'GS.CA08.00' 'GS.CA09.00' 'GS.CA10.00' 'ZY.SV01.' 'ZY.SV02.'\n",
      " 'ZY.SV03.' 'ZY.SV04.' 'ZY.SV05.' 'ZY.SV06.' 'ZY.SV07.' 'ZY.SV08.']\n",
      "(315, 15, 6000)\n"
     ]
    },
    {
     "name": "stderr",
     "output_type": "stream",
     "text": [
      " 60%|█████▉    | 73/122 [12:42<07:16,  8.91s/it]"
     ]
    },
    {
     "name": "stdout",
     "output_type": "stream",
     "text": [
      "Loading data from date 2019-08-13\n",
      "\tLoading metadata from ../metadata_2/2019-08-13_stations.npy\n",
      "\tStations for date 2019-08-13: ['CI.CCC.' 'CI.CLC.' 'CI.DTP.' 'CI.JRC2.' 'CI.LRL.' 'CI.MPM.' 'CI.SLA.'\n",
      " 'CI.SRT.' 'CI.TOW2.' 'CI.WBM.' 'CI.WCS2.' 'CI.WMF.' 'CI.WNM.' 'CI.WRC2.'\n",
      " 'CI.WRV2.' 'CI.WVP2.' 'GS.CA01.20' 'GS.CA03.20' 'GS.CA05.20' 'GS.CA06.20'\n",
      " 'GS.CA07.00' 'GS.CA08.00' 'GS.CA09.00' 'GS.CA10.00' 'ZY.SV01.' 'ZY.SV02.'\n",
      " 'ZY.SV03.' 'ZY.SV04.' 'ZY.SV05.' 'ZY.SV06.' 'ZY.SV07.' 'ZY.SV08.']\n",
      "(257, 15, 6000)\n"
     ]
    },
    {
     "name": "stderr",
     "output_type": "stream",
     "text": [
      " 61%|██████    | 74/122 [12:51<07:07,  8.90s/it]"
     ]
    },
    {
     "name": "stdout",
     "output_type": "stream",
     "text": [
      "Loading data from date 2019-08-14\n",
      "\tLoading metadata from ../metadata_2/2019-08-14_stations.npy\n",
      "\tStations for date 2019-08-14: ['CI.CCC.' 'CI.CLC.' 'CI.DTP.' 'CI.JRC2.' 'CI.LRL.' 'CI.MPM.' 'CI.SLA.'\n",
      " 'CI.SRT.' 'CI.TOW2.' 'CI.WBM.' 'CI.WCS2.' 'CI.WMF.' 'CI.WNM.' 'CI.WRC2.'\n",
      " 'CI.WRV2.' 'CI.WVP2.' 'GS.CA01.20' 'GS.CA03.20' 'GS.CA05.20' 'GS.CA06.20'\n",
      " 'GS.CA07.00' 'GS.CA08.00' 'GS.CA09.00' 'GS.CA10.00' 'ZY.SV01.' 'ZY.SV02.'\n",
      " 'ZY.SV03.' 'ZY.SV04.' 'ZY.SV05.' 'ZY.SV06.' 'ZY.SV07.' 'ZY.SV08.']\n",
      "(294, 15, 6000)\n"
     ]
    },
    {
     "name": "stderr",
     "output_type": "stream",
     "text": [
      " 61%|██████▏   | 75/122 [13:01<07:08,  9.12s/it]"
     ]
    },
    {
     "name": "stdout",
     "output_type": "stream",
     "text": [
      "Loading data from date 2019-08-15\n",
      "\tLoading metadata from ../metadata_2/2019-08-15_stations.npy\n",
      "\tStations for date 2019-08-15: ['CI.CCC.' 'CI.CLC.' 'CI.DTP.' 'CI.JRC2.' 'CI.LRL.' 'CI.MPM.' 'CI.SLA.'\n",
      " 'CI.SRT.' 'CI.TOW2.' 'CI.WBM.' 'CI.WCS2.' 'CI.WMF.' 'CI.WNM.' 'CI.WRC2.'\n",
      " 'CI.WRV2.' 'CI.WVP2.' 'GS.CA01.20' 'GS.CA03.20' 'GS.CA04.20' 'GS.CA05.20'\n",
      " 'GS.CA06.20' 'GS.CA07.00' 'GS.CA08.00' 'GS.CA09.00' 'GS.CA10.00'\n",
      " 'ZY.SV01.' 'ZY.SV02.' 'ZY.SV03.' 'ZY.SV04.' 'ZY.SV05.' 'ZY.SV06.'\n",
      " 'ZY.SV07.' 'ZY.SV08.']\n",
      "(243, 15, 6000)\n"
     ]
    },
    {
     "name": "stderr",
     "output_type": "stream",
     "text": [
      " 62%|██████▏   | 76/122 [13:09<06:49,  8.90s/it]"
     ]
    },
    {
     "name": "stdout",
     "output_type": "stream",
     "text": [
      "Loading data from date 2019-08-16\n",
      "\tLoading metadata from ../metadata_2/2019-08-16_stations.npy\n",
      "\tStations for date 2019-08-16: ['CI.CCC.' 'CI.CLC.' 'CI.DTP.' 'CI.JRC2.' 'CI.LRL.' 'CI.MPM.' 'CI.SLA.'\n",
      " 'CI.SRT.' 'CI.TOW2.' 'CI.WBM.' 'CI.WCS2.' 'CI.WMF.' 'CI.WNM.' 'CI.WRC2.'\n",
      " 'CI.WRV2.' 'CI.WVP2.' 'GS.CA01.20' 'GS.CA03.20' 'GS.CA04.20' 'GS.CA05.20'\n",
      " 'GS.CA06.20' 'GS.CA07.00' 'GS.CA08.00' 'GS.CA09.00' 'GS.CA10.00'\n",
      " 'ZY.SV01.' 'ZY.SV02.' 'ZY.SV03.' 'ZY.SV04.' 'ZY.SV06.' 'ZY.SV07.'\n",
      " 'ZY.SV08.']\n",
      "(229, 15, 6000)\n"
     ]
    },
    {
     "name": "stderr",
     "output_type": "stream",
     "text": [
      " 63%|██████▎   | 77/122 [13:17<06:22,  8.50s/it]"
     ]
    },
    {
     "name": "stdout",
     "output_type": "stream",
     "text": [
      "Loading data from date 2019-08-17\n",
      "\tLoading metadata from ../metadata_2/2019-08-17_stations.npy\n",
      "\tStations for date 2019-08-17: ['CI.CCC.' 'CI.CLC.' 'CI.DTP.' 'CI.JRC2.' 'CI.LRL.' 'CI.MPM.' 'CI.SLA.'\n",
      " 'CI.SRT.' 'CI.TOW2.' 'CI.WBM.' 'CI.WCS2.' 'CI.WMF.' 'CI.WNM.' 'CI.WRC2.'\n",
      " 'CI.WRV2.' 'CI.WVP2.' 'GS.CA01.20' 'GS.CA03.20' 'GS.CA04.20' 'GS.CA05.20'\n",
      " 'GS.CA06.20' 'GS.CA07.00' 'GS.CA08.00' 'GS.CA09.00' 'GS.CA10.00'\n",
      " 'ZY.SV01.' 'ZY.SV02.' 'ZY.SV03.' 'ZY.SV04.' 'ZY.SV06.' 'ZY.SV07.'\n",
      " 'ZY.SV08.']\n",
      "(263, 15, 6000)\n"
     ]
    },
    {
     "name": "stderr",
     "output_type": "stream",
     "text": [
      " 64%|██████▍   | 78/122 [13:26<06:18,  8.60s/it]"
     ]
    },
    {
     "name": "stdout",
     "output_type": "stream",
     "text": [
      "Loading data from date 2019-08-18\n",
      "\tLoading metadata from ../metadata_2/2019-08-18_stations.npy\n",
      "\tStations for date 2019-08-18: ['CI.CCC.' 'CI.CLC.' 'CI.DTP.' 'CI.JRC2.' 'CI.LRL.' 'CI.MPM.' 'CI.SLA.'\n",
      " 'CI.SRT.' 'CI.TOW2.' 'CI.WBM.' 'CI.WCS2.' 'CI.WMF.' 'CI.WNM.' 'CI.WRC2.'\n",
      " 'CI.WRV2.' 'CI.WVP2.' 'GS.CA01.20' 'GS.CA03.20' 'GS.CA04.20' 'GS.CA05.20'\n",
      " 'GS.CA06.20' 'GS.CA07.00' 'GS.CA08.00' 'GS.CA09.00' 'GS.CA10.00'\n",
      " 'ZY.SV01.' 'ZY.SV02.' 'ZY.SV03.' 'ZY.SV04.' 'ZY.SV06.' 'ZY.SV08.']\n",
      "(222, 15, 6000)\n"
     ]
    },
    {
     "name": "stderr",
     "output_type": "stream",
     "text": [
      " 65%|██████▍   | 79/122 [13:32<05:42,  7.95s/it]"
     ]
    },
    {
     "name": "stdout",
     "output_type": "stream",
     "text": [
      "Loading data from date 2019-08-19\n",
      "\tLoading metadata from ../metadata_2/2019-08-19_stations.npy\n",
      "\tStations for date 2019-08-19: ['CI.CCC.' 'CI.CLC.' 'CI.DTP.' 'CI.JRC2.' 'CI.LRL.' 'CI.MPM.' 'CI.SLA.'\n",
      " 'CI.SRT.' 'CI.TOW2.' 'CI.WBM.' 'CI.WCS2.' 'CI.WMF.' 'CI.WNM.' 'CI.WRC2.'\n",
      " 'CI.WRV2.' 'CI.WVP2.' 'GS.CA01.20' 'GS.CA03.20' 'GS.CA04.20' 'GS.CA05.20'\n",
      " 'GS.CA06.20' 'GS.CA07.00' 'GS.CA08.00' 'GS.CA09.00' 'GS.CA10.00'\n",
      " 'ZY.SV01.' 'ZY.SV02.' 'ZY.SV03.' 'ZY.SV04.' 'ZY.SV06.' 'ZY.SV08.']\n",
      "(258, 15, 6000)\n"
     ]
    },
    {
     "name": "stderr",
     "output_type": "stream",
     "text": [
      " 66%|██████▌   | 80/122 [13:41<05:45,  8.24s/it]"
     ]
    },
    {
     "name": "stdout",
     "output_type": "stream",
     "text": [
      "Loading data from date 2019-08-20\n",
      "\tLoading metadata from ../metadata_2/2019-08-20_stations.npy\n",
      "\tStations for date 2019-08-20: ['CI.CCC.' 'CI.CLC.' 'CI.DTP.' 'CI.JRC2.' 'CI.LRL.' 'CI.MPM.' 'CI.SLA.'\n",
      " 'CI.SRT.' 'CI.TOW2.' 'CI.WBM.' 'CI.WCS2.' 'CI.WMF.' 'CI.WNM.' 'CI.WRC2.'\n",
      " 'CI.WRV2.' 'CI.WVP2.' 'GS.CA01.20' 'GS.CA03.20' 'GS.CA04.20' 'GS.CA05.20'\n",
      " 'GS.CA06.20' 'GS.CA07.00' 'GS.CA08.00' 'GS.CA09.00' 'GS.CA10.00'\n",
      " 'ZY.SV01.' 'ZY.SV02.' 'ZY.SV03.' 'ZY.SV04.' 'ZY.SV06.' 'ZY.SV08.']\n",
      "(228, 15, 6000)\n"
     ]
    },
    {
     "name": "stderr",
     "output_type": "stream",
     "text": [
      " 66%|██████▋   | 81/122 [13:49<05:31,  8.09s/it]"
     ]
    },
    {
     "name": "stdout",
     "output_type": "stream",
     "text": [
      "Loading data from date 2019-08-21\n",
      "\tLoading metadata from ../metadata_2/2019-08-21_stations.npy\n",
      "\tStations for date 2019-08-21: ['CI.CCC.' 'CI.CLC.' 'CI.DTP.' 'CI.JRC2.' 'CI.LRL.' 'CI.MPM.' 'CI.SLA.'\n",
      " 'CI.SRT.' 'CI.TOW2.' 'CI.WBM.' 'CI.WCS2.' 'CI.WMF.' 'CI.WNM.' 'CI.WRC2.'\n",
      " 'CI.WRV2.' 'CI.WVP2.' 'GS.CA01.20' 'GS.CA03.20' 'GS.CA04.20' 'GS.CA05.20'\n",
      " 'GS.CA06.20' 'GS.CA07.00' 'GS.CA08.00' 'GS.CA09.00' 'GS.CA10.00'\n",
      " 'ZY.SV01.' 'ZY.SV02.' 'ZY.SV03.' 'ZY.SV04.' 'ZY.SV06.' 'ZY.SV08.']\n",
      "(256, 15, 6000)\n"
     ]
    },
    {
     "name": "stderr",
     "output_type": "stream",
     "text": [
      " 67%|██████▋   | 82/122 [13:56<05:18,  7.95s/it]"
     ]
    },
    {
     "name": "stdout",
     "output_type": "stream",
     "text": [
      "Loading data from date 2019-08-22\n",
      "\tLoading metadata from ../metadata_2/2019-08-22_stations.npy\n",
      "\tStations for date 2019-08-22: ['CI.CCC.' 'CI.CLC.' 'CI.DTP.' 'CI.JRC2.' 'CI.LRL.' 'CI.MPM.' 'CI.SLA.'\n",
      " 'CI.SRT.' 'CI.TOW2.' 'CI.WBM.' 'CI.WCS2.' 'CI.WMF.' 'CI.WNM.' 'CI.WRC2.'\n",
      " 'CI.WRV2.' 'CI.WVP2.' 'GS.CA01.20' 'GS.CA03.20' 'GS.CA04.20' 'GS.CA05.20'\n",
      " 'GS.CA06.20' 'GS.CA07.00' 'GS.CA08.00' 'GS.CA09.00' 'GS.CA10.00'\n",
      " 'ZY.SV01.' 'ZY.SV02.' 'ZY.SV03.' 'ZY.SV04.' 'ZY.SV06.' 'ZY.SV08.']\n",
      "(357, 15, 6000)\n"
     ]
    },
    {
     "name": "stderr",
     "output_type": "stream",
     "text": [
      " 68%|██████▊   | 83/122 [14:09<06:02,  9.30s/it]"
     ]
    },
    {
     "name": "stdout",
     "output_type": "stream",
     "text": [
      "Loading data from date 2019-08-23\n",
      "\tLoading metadata from ../metadata_2/2019-08-23_stations.npy\n",
      "\tStations for date 2019-08-23: ['CI.CCC.' 'CI.CLC.' 'CI.DTP.' 'CI.JRC2.' 'CI.LRL.' 'CI.MPM.' 'CI.SLA.'\n",
      " 'CI.SRT.' 'CI.TOW2.' 'CI.WBM.' 'CI.WCS2.' 'CI.WMF.' 'CI.WNM.' 'CI.WRC2.'\n",
      " 'CI.WRV2.' 'CI.WVP2.' 'GS.CA01.20' 'GS.CA03.20' 'GS.CA04.20' 'GS.CA05.20'\n",
      " 'GS.CA06.20' 'GS.CA07.00' 'GS.CA08.00' 'GS.CA09.00' 'GS.CA10.00'\n",
      " 'ZY.SV01.' 'ZY.SV02.' 'ZY.SV03.' 'ZY.SV04.' 'ZY.SV06.' 'ZY.SV08.']\n",
      "(424, 15, 6000)\n"
     ]
    },
    {
     "name": "stderr",
     "output_type": "stream",
     "text": [
      " 69%|██████▉   | 84/122 [14:23<06:48, 10.74s/it]"
     ]
    },
    {
     "name": "stdout",
     "output_type": "stream",
     "text": [
      "Loading data from date 2019-08-24\n",
      "\tLoading metadata from ../metadata_2/2019-08-24_stations.npy\n",
      "\tStations for date 2019-08-24: ['CI.CCC.' 'CI.CLC.' 'CI.DTP.' 'CI.JRC2.' 'CI.LRL.' 'CI.MPM.' 'CI.SLA.'\n",
      " 'CI.SRT.' 'CI.TOW2.' 'CI.WBM.' 'CI.WCS2.' 'CI.WMF.' 'CI.WNM.' 'CI.WRC2.'\n",
      " 'CI.WRV2.' 'CI.WVP2.' 'GS.CA01.20' 'GS.CA03.20' 'GS.CA04.20' 'GS.CA05.20'\n",
      " 'GS.CA06.20' 'GS.CA07.00' 'GS.CA08.00' 'GS.CA09.00' 'GS.CA10.00'\n",
      " 'ZY.SV01.' 'ZY.SV02.' 'ZY.SV03.' 'ZY.SV04.' 'ZY.SV06.' 'ZY.SV08.']\n",
      "(285, 15, 6000)\n"
     ]
    },
    {
     "name": "stderr",
     "output_type": "stream",
     "text": [
      " 70%|██████▉   | 85/122 [14:32<06:20, 10.29s/it]"
     ]
    },
    {
     "name": "stdout",
     "output_type": "stream",
     "text": [
      "Loading data from date 2019-08-25\n",
      "\tLoading metadata from ../metadata_2/2019-08-25_stations.npy\n",
      "\tStations for date 2019-08-25: ['CI.CCC.' 'CI.CLC.' 'CI.DTP.' 'CI.JRC2.' 'CI.LRL.' 'CI.MPM.' 'CI.SLA.'\n",
      " 'CI.SRT.' 'CI.TOW2.' 'CI.WBM.' 'CI.WCS2.' 'CI.WMF.' 'CI.WNM.' 'CI.WRC2.'\n",
      " 'CI.WRV2.' 'CI.WVP2.' 'GS.CA01.20' 'GS.CA03.20' 'GS.CA04.20' 'GS.CA05.20'\n",
      " 'GS.CA06.20' 'GS.CA07.00' 'GS.CA08.00' 'GS.CA09.00' 'GS.CA10.00'\n",
      " 'ZY.SV01.' 'ZY.SV02.' 'ZY.SV03.' 'ZY.SV04.' 'ZY.SV06.' 'ZY.SV08.']\n",
      "(267, 15, 6000)\n"
     ]
    },
    {
     "name": "stderr",
     "output_type": "stream",
     "text": [
      " 70%|███████   | 86/122 [14:40<05:46,  9.63s/it]"
     ]
    },
    {
     "name": "stdout",
     "output_type": "stream",
     "text": [
      "Loading data from date 2019-08-26\n",
      "\tLoading metadata from ../metadata_2/2019-08-26_stations.npy\n",
      "\tStations for date 2019-08-26: ['CI.CCC.' 'CI.CLC.' 'CI.DTP.' 'CI.JRC2.' 'CI.LRL.' 'CI.MPM.' 'CI.SLA.'\n",
      " 'CI.SRT.' 'CI.TOW2.' 'CI.WBM.' 'CI.WCS2.' 'CI.WMF.' 'CI.WNM.' 'CI.WRC2.'\n",
      " 'CI.WRV2.' 'CI.WVP2.' 'GS.CA01.20' 'GS.CA03.20' 'GS.CA04.20' 'GS.CA05.20'\n",
      " 'GS.CA06.20' 'GS.CA07.00' 'GS.CA08.00' 'GS.CA09.00' 'GS.CA10.00'\n",
      " 'ZY.SV01.' 'ZY.SV02.' 'ZY.SV03.' 'ZY.SV04.' 'ZY.SV06.' 'ZY.SV08.']\n",
      "(275, 15, 6000)\n"
     ]
    },
    {
     "name": "stderr",
     "output_type": "stream",
     "text": [
      " 71%|███████▏  | 87/122 [14:49<05:29,  9.41s/it]"
     ]
    },
    {
     "name": "stdout",
     "output_type": "stream",
     "text": [
      "Loading data from date 2019-08-27\n",
      "\tLoading metadata from ../metadata_2/2019-08-27_stations.npy\n",
      "\tStations for date 2019-08-27: ['CI.CCC.' 'CI.CLC.' 'CI.DTP.' 'CI.JRC2.' 'CI.LRL.' 'CI.MPM.' 'CI.SLA.'\n",
      " 'CI.SRT.' 'CI.TOW2.' 'CI.WBM.' 'CI.WCS2.' 'CI.WMF.' 'CI.WNM.' 'CI.WRC2.'\n",
      " 'CI.WRV2.' 'CI.WVP2.' 'GS.CA01.20' 'GS.CA03.20' 'GS.CA05.20' 'GS.CA06.20'\n",
      " 'GS.CA07.00' 'GS.CA08.00' 'GS.CA09.00' 'GS.CA10.00' 'ZY.SV01.' 'ZY.SV02.'\n",
      " 'ZY.SV03.' 'ZY.SV04.' 'ZY.SV06.' 'ZY.SV08.']\n",
      "(251, 15, 6000)\n"
     ]
    },
    {
     "name": "stderr",
     "output_type": "stream",
     "text": [
      " 72%|███████▏  | 88/122 [14:57<05:08,  9.07s/it]"
     ]
    },
    {
     "name": "stdout",
     "output_type": "stream",
     "text": [
      "Loading data from date 2019-08-28\n",
      "\tLoading metadata from ../metadata_2/2019-08-28_stations.npy\n",
      "\tStations for date 2019-08-28: ['CI.CCC.' 'CI.CLC.' 'CI.DTP.' 'CI.JRC2.' 'CI.LRL.' 'CI.MPM.' 'CI.SLA.'\n",
      " 'CI.SRT.' 'CI.TOW2.' 'CI.WBM.' 'CI.WCS2.' 'CI.WMF.' 'CI.WNM.' 'CI.WRC2.'\n",
      " 'CI.WRV2.' 'CI.WVP2.' 'GS.CA01.20' 'GS.CA03.20' 'GS.CA05.20' 'GS.CA06.20'\n",
      " 'GS.CA07.00' 'GS.CA08.00' 'GS.CA09.00' 'GS.CA10.00' 'ZY.SV01.' 'ZY.SV02.'\n",
      " 'ZY.SV03.' 'ZY.SV04.' 'ZY.SV06.' 'ZY.SV08.']\n",
      "(233, 15, 6000)\n"
     ]
    },
    {
     "name": "stderr",
     "output_type": "stream",
     "text": [
      " 73%|███████▎  | 89/122 [15:04<04:34,  8.33s/it]"
     ]
    },
    {
     "name": "stdout",
     "output_type": "stream",
     "text": [
      "Loading data from date 2019-08-29\n",
      "\tLoading metadata from ../metadata_2/2019-08-29_stations.npy\n",
      "\tStations for date 2019-08-29: ['CI.CCC.' 'CI.CLC.' 'CI.DTP.' 'CI.JRC2.' 'CI.LRL.' 'CI.MPM.' 'CI.SLA.'\n",
      " 'CI.SRT.' 'CI.TOW2.' 'CI.WBM.' 'CI.WCS2.' 'CI.WMF.' 'CI.WNM.' 'CI.WRC2.'\n",
      " 'CI.WRV2.' 'CI.WVP2.' 'GS.CA01.20' 'GS.CA03.20' 'GS.CA05.20' 'GS.CA06.20'\n",
      " 'GS.CA07.00' 'GS.CA08.00' 'GS.CA09.00' 'GS.CA10.00' 'ZY.SV01.' 'ZY.SV02.'\n",
      " 'ZY.SV03.' 'ZY.SV04.' 'ZY.SV06.' 'ZY.SV08.']\n",
      "(213, 15, 6000)\n"
     ]
    },
    {
     "name": "stderr",
     "output_type": "stream",
     "text": [
      " 74%|███████▍  | 90/122 [15:11<04:15,  7.98s/it]"
     ]
    },
    {
     "name": "stdout",
     "output_type": "stream",
     "text": [
      "Loading data from date 2019-08-30\n",
      "\tLoading metadata from ../metadata_2/2019-08-30_stations.npy\n",
      "\tStations for date 2019-08-30: ['CI.CCC.' 'CI.CLC.' 'CI.DTP.' 'CI.JRC2.' 'CI.LRL.' 'CI.MPM.' 'CI.SLA.'\n",
      " 'CI.SRT.' 'CI.TOW2.' 'CI.WBM.' 'CI.WCS2.' 'CI.WMF.' 'CI.WNM.' 'CI.WRC2.'\n",
      " 'CI.WRV2.' 'CI.WVP2.' 'GS.CA01.20' 'GS.CA03.20' 'GS.CA04.20' 'GS.CA05.20'\n",
      " 'GS.CA06.20' 'GS.CA07.00' 'GS.CA08.00' 'GS.CA09.00' 'GS.CA10.00'\n",
      " 'ZY.SV01.' 'ZY.SV02.' 'ZY.SV03.' 'ZY.SV04.' 'ZY.SV06.' 'ZY.SV08.']\n",
      "(201, 15, 6000)\n"
     ]
    },
    {
     "name": "stderr",
     "output_type": "stream",
     "text": [
      " 75%|███████▍  | 91/122 [15:17<03:46,  7.32s/it]"
     ]
    },
    {
     "name": "stdout",
     "output_type": "stream",
     "text": [
      "Loading data from date 2019-08-31\n",
      "\tLoading metadata from ../metadata_2/2019-08-31_stations.npy\n",
      "\tStations for date 2019-08-31: ['CI.CCC.' 'CI.CLC.' 'CI.DTP.' 'CI.JRC2.' 'CI.LRL.' 'CI.MPM.' 'CI.SLA.'\n",
      " 'CI.SRT.' 'CI.TOW2.' 'CI.WBM.' 'CI.WCS2.' 'CI.WMF.' 'CI.WNM.' 'CI.WRC2.'\n",
      " 'CI.WRV2.' 'CI.WVP2.' 'GS.CA01.20' 'GS.CA03.20' 'GS.CA04.20' 'GS.CA05.20'\n",
      " 'GS.CA06.20' 'GS.CA07.00' 'GS.CA08.00' 'GS.CA09.00' 'GS.CA10.00'\n",
      " 'ZY.SV01.' 'ZY.SV02.' 'ZY.SV03.' 'ZY.SV04.' 'ZY.SV06.' 'ZY.SV08.']\n",
      "(233, 15, 6000)\n"
     ]
    },
    {
     "name": "stderr",
     "output_type": "stream",
     "text": [
      " 75%|███████▌  | 92/122 [15:26<03:54,  7.81s/it]"
     ]
    },
    {
     "name": "stdout",
     "output_type": "stream",
     "text": [
      "Loading data from date 2019-09-01\n",
      "\tLoading metadata from ../metadata_2/2019-09-01_stations.npy\n",
      "\tStations for date 2019-09-01: ['CI.CCC.' 'CI.CLC.' 'CI.DTP.' 'CI.JRC2.' 'CI.LRL.' 'CI.MPM.' 'CI.SLA.'\n",
      " 'CI.SRT.' 'CI.TOW2.' 'CI.WBM.' 'CI.WCS2.' 'CI.WMF.' 'CI.WNM.' 'CI.WRC2.'\n",
      " 'CI.WRV2.' 'CI.WVP2.' 'GS.CA01.20' 'GS.CA03.20' 'GS.CA05.20' 'GS.CA06.20'\n",
      " 'GS.CA07.00' 'GS.CA08.00' 'GS.CA09.00' 'GS.CA10.00' 'ZY.SV01.' 'ZY.SV02.'\n",
      " 'ZY.SV03.' 'ZY.SV04.' 'ZY.SV06.' 'ZY.SV08.']\n",
      "(239, 15, 6000)\n"
     ]
    },
    {
     "name": "stderr",
     "output_type": "stream",
     "text": [
      " 76%|███████▌  | 93/122 [15:33<03:42,  7.66s/it]"
     ]
    },
    {
     "name": "stdout",
     "output_type": "stream",
     "text": [
      "Loading data from date 2019-09-02\n",
      "\tLoading metadata from ../metadata_2/2019-09-02_stations.npy\n",
      "\tStations for date 2019-09-02: ['CI.CCC.' 'CI.CLC.' 'CI.DTP.' 'CI.JRC2.' 'CI.LRL.' 'CI.MPM.' 'CI.SLA.'\n",
      " 'CI.SRT.' 'CI.TOW2.' 'CI.WBM.' 'CI.WCS2.' 'CI.WMF.' 'CI.WNM.' 'CI.WRC2.'\n",
      " 'CI.WRV2.' 'CI.WVP2.' 'GS.CA01.20' 'GS.CA03.20' 'GS.CA04.20' 'GS.CA05.20'\n",
      " 'GS.CA06.20' 'GS.CA07.00' 'GS.CA08.00' 'GS.CA09.00' 'GS.CA10.00'\n",
      " 'ZY.SV01.' 'ZY.SV02.' 'ZY.SV03.' 'ZY.SV04.' 'ZY.SV06.' 'ZY.SV08.']\n",
      "(238, 15, 6000)\n"
     ]
    },
    {
     "name": "stderr",
     "output_type": "stream",
     "text": [
      " 77%|███████▋  | 94/122 [15:41<03:36,  7.73s/it]"
     ]
    },
    {
     "name": "stdout",
     "output_type": "stream",
     "text": [
      "Loading data from date 2019-09-03\n",
      "\tLoading metadata from ../metadata_2/2019-09-03_stations.npy\n",
      "\tStations for date 2019-09-03: ['CI.CCC.' 'CI.CLC.' 'CI.DTP.' 'CI.JRC2.' 'CI.LRL.' 'CI.MPM.' 'CI.SLA.'\n",
      " 'CI.SRT.' 'CI.TOW2.' 'CI.WBM.' 'CI.WCS2.' 'CI.WMF.' 'CI.WNM.' 'CI.WRC2.'\n",
      " 'CI.WRV2.' 'CI.WVP2.' 'GS.CA01.20' 'GS.CA03.20' 'GS.CA04.20' 'GS.CA05.20'\n",
      " 'GS.CA06.20' 'GS.CA07.00' 'GS.CA08.00' 'GS.CA09.00' 'GS.CA10.00'\n",
      " 'ZY.SV01.' 'ZY.SV02.' 'ZY.SV03.' 'ZY.SV04.' 'ZY.SV05.' 'ZY.SV06.'\n",
      " 'ZY.SV08.']\n",
      "(207, 15, 6000)\n"
     ]
    },
    {
     "name": "stderr",
     "output_type": "stream",
     "text": [
      " 78%|███████▊  | 95/122 [15:47<03:17,  7.32s/it]"
     ]
    },
    {
     "name": "stdout",
     "output_type": "stream",
     "text": [
      "Loading data from date 2019-09-04\n",
      "\tLoading metadata from ../metadata_2/2019-09-04_stations.npy\n",
      "\tStations for date 2019-09-04: ['CI.CCC.' 'CI.CLC.' 'CI.DTP.' 'CI.JRC2.' 'CI.LRL.' 'CI.MPM.' 'CI.SLA.'\n",
      " 'CI.SRT.' 'CI.TOW2.' 'CI.WBM.' 'CI.WCS2.' 'CI.WMF.' 'CI.WNM.' 'CI.WRC2.'\n",
      " 'CI.WRV2.' 'CI.WVP2.' 'GS.CA01.20' 'GS.CA03.20' 'GS.CA05.20' 'GS.CA06.20'\n",
      " 'GS.CA07.00' 'GS.CA08.00' 'GS.CA09.00' 'GS.CA10.00' 'ZY.SV01.' 'ZY.SV02.'\n",
      " 'ZY.SV03.' 'ZY.SV04.' 'ZY.SV05.' 'ZY.SV06.' 'ZY.SV08.']\n",
      "(165, 15, 6000)\n"
     ]
    },
    {
     "name": "stderr",
     "output_type": "stream",
     "text": [
      " 79%|███████▊  | 96/122 [15:53<02:55,  6.77s/it]"
     ]
    },
    {
     "name": "stdout",
     "output_type": "stream",
     "text": [
      "Loading data from date 2019-09-05\n",
      "\tLoading metadata from ../metadata_2/2019-09-05_stations.npy\n",
      "\tStations for date 2019-09-05: ['CI.CCC.' 'CI.CLC.' 'CI.DTP.' 'CI.JRC2.' 'CI.LRL.' 'CI.MPM.' 'CI.SLA.'\n",
      " 'CI.SRT.' 'CI.TOW2.' 'CI.WBM.' 'CI.WCS2.' 'CI.WMF.' 'CI.WNM.' 'CI.WRC2.'\n",
      " 'CI.WRV2.' 'CI.WVP2.' 'GS.CA01.20' 'GS.CA03.20' 'GS.CA05.20' 'GS.CA06.20'\n",
      " 'GS.CA07.00' 'GS.CA08.00' 'GS.CA09.00' 'GS.CA10.00' 'ZY.SV01.' 'ZY.SV02.'\n",
      " 'ZY.SV03.' 'ZY.SV04.' 'ZY.SV05.' 'ZY.SV06.' 'ZY.SV07.']\n",
      "(145, 15, 6000)\n"
     ]
    },
    {
     "name": "stderr",
     "output_type": "stream",
     "text": [
      " 80%|███████▉  | 97/122 [15:58<02:36,  6.25s/it]"
     ]
    },
    {
     "name": "stdout",
     "output_type": "stream",
     "text": [
      "Loading data from date 2019-09-06\n",
      "\tLoading metadata from ../metadata_2/2019-09-06_stations.npy\n",
      "\tStations for date 2019-09-06: ['CI.CCC.' 'CI.CLC.' 'CI.DTP.' 'CI.JRC2.' 'CI.LRL.' 'CI.MPM.' 'CI.SLA.'\n",
      " 'CI.SRT.' 'CI.TOW2.' 'CI.WBM.' 'CI.WCS2.' 'CI.WMF.' 'CI.WNM.' 'CI.WRC2.'\n",
      " 'CI.WRV2.' 'CI.WVP2.' 'GS.CA01.20' 'GS.CA03.20' 'GS.CA05.20' 'GS.CA06.20'\n",
      " 'GS.CA07.00' 'GS.CA08.00' 'GS.CA09.00' 'GS.CA10.00' 'ZY.SV01.' 'ZY.SV02.'\n",
      " 'ZY.SV03.' 'ZY.SV04.' 'ZY.SV05.' 'ZY.SV06.' 'ZY.SV07.']\n",
      "(134, 15, 6000)\n"
     ]
    },
    {
     "name": "stderr",
     "output_type": "stream",
     "text": [
      " 80%|████████  | 98/122 [16:02<02:15,  5.65s/it]"
     ]
    },
    {
     "name": "stdout",
     "output_type": "stream",
     "text": [
      "Loading data from date 2019-09-07\n",
      "\tLoading metadata from ../metadata_2/2019-09-07_stations.npy\n",
      "\tStations for date 2019-09-07: ['CI.CCC.' 'CI.CLC.' 'CI.DTP.' 'CI.JRC2.' 'CI.LRL.' 'CI.MPM.' 'CI.SLA.'\n",
      " 'CI.SRT.' 'CI.TOW2.' 'CI.WBM.' 'CI.WCS2.' 'CI.WMF.' 'CI.WNM.' 'CI.WRC2.'\n",
      " 'CI.WRV2.' 'CI.WVP2.' 'GS.CA01.20' 'GS.CA03.20' 'GS.CA05.20' 'GS.CA06.20'\n",
      " 'GS.CA07.00' 'GS.CA08.00' 'GS.CA09.00' 'GS.CA10.00' 'ZY.SV01.' 'ZY.SV02.'\n",
      " 'ZY.SV03.' 'ZY.SV04.' 'ZY.SV05.' 'ZY.SV06.' 'ZY.SV07.']\n",
      "(165, 15, 6000)\n"
     ]
    },
    {
     "name": "stderr",
     "output_type": "stream",
     "text": [
      " 81%|████████  | 99/122 [16:08<02:12,  5.75s/it]"
     ]
    },
    {
     "name": "stdout",
     "output_type": "stream",
     "text": [
      "Loading data from date 2019-09-08\n",
      "\tLoading metadata from ../metadata_2/2019-09-08_stations.npy\n",
      "\tStations for date 2019-09-08: ['CI.CCC.' 'CI.CLC.' 'CI.DTP.' 'CI.JRC2.' 'CI.LRL.' 'CI.MPM.' 'CI.SLA.'\n",
      " 'CI.SRT.' 'CI.TOW2.' 'CI.WBM.' 'CI.WCS2.' 'CI.WMF.' 'CI.WNM.' 'CI.WRC2.'\n",
      " 'CI.WRV2.' 'CI.WVP2.' 'GS.CA01.20' 'GS.CA03.20' 'GS.CA04.20' 'GS.CA05.20'\n",
      " 'GS.CA06.20' 'GS.CA07.00' 'GS.CA08.00' 'GS.CA09.00' 'GS.CA10.00'\n",
      " 'ZY.SV01.' 'ZY.SV02.' 'ZY.SV03.' 'ZY.SV04.' 'ZY.SV05.' 'ZY.SV06.'\n",
      " 'ZY.SV07.']\n",
      "(191, 15, 6000)\n"
     ]
    },
    {
     "name": "stderr",
     "output_type": "stream",
     "text": [
      " 82%|████████▏ | 100/122 [16:15<02:12,  6.02s/it]"
     ]
    },
    {
     "name": "stdout",
     "output_type": "stream",
     "text": [
      "Loading data from date 2019-09-09\n",
      "\tLoading metadata from ../metadata_2/2019-09-09_stations.npy\n",
      "\tStations for date 2019-09-09: ['CI.CCC.' 'CI.CLC.' 'CI.DTP.' 'CI.JRC2.' 'CI.LRL.' 'CI.MPM.' 'CI.SLA.'\n",
      " 'CI.SRT.' 'CI.TOW2.' 'CI.WBM.' 'CI.WCS2.' 'CI.WMF.' 'CI.WNM.' 'CI.WRC2.'\n",
      " 'CI.WRV2.' 'CI.WVP2.' 'GS.CA01.20' 'GS.CA03.20' 'GS.CA05.20' 'GS.CA06.20'\n",
      " 'GS.CA07.00' 'GS.CA08.00' 'GS.CA09.00' 'GS.CA10.00' 'ZY.SV01.' 'ZY.SV02.'\n",
      " 'ZY.SV03.' 'ZY.SV04.' 'ZY.SV05.' 'ZY.SV06.' 'ZY.SV07.']\n",
      "(144, 15, 6000)\n"
     ]
    },
    {
     "name": "stderr",
     "output_type": "stream",
     "text": [
      " 83%|████████▎ | 101/122 [16:19<01:55,  5.51s/it]"
     ]
    },
    {
     "name": "stdout",
     "output_type": "stream",
     "text": [
      "Loading data from date 2019-09-10\n",
      "\tLoading metadata from ../metadata_2/2019-09-10_stations.npy\n",
      "\tStations for date 2019-09-10: ['CI.CCC.' 'CI.CLC.' 'CI.DTP.' 'CI.JRC2.' 'CI.LRL.' 'CI.MPM.' 'CI.SLA.'\n",
      " 'CI.SRT.' 'CI.TOW2.' 'CI.WBM.' 'CI.WCS2.' 'CI.WMF.' 'CI.WNM.' 'CI.WRC2.'\n",
      " 'CI.WRV2.' 'CI.WVP2.' 'GS.CA01.20' 'GS.CA03.20' 'GS.CA05.20' 'GS.CA06.20'\n",
      " 'GS.CA07.00' 'GS.CA08.00' 'GS.CA09.00' 'GS.CA10.00' 'ZY.SV01.' 'ZY.SV02.'\n",
      " 'ZY.SV03.' 'ZY.SV04.' 'ZY.SV05.' 'ZY.SV06.' 'ZY.SV07.']\n",
      "(136, 15, 6000)\n"
     ]
    },
    {
     "name": "stderr",
     "output_type": "stream",
     "text": [
      " 84%|████████▎ | 102/122 [16:24<01:43,  5.18s/it]"
     ]
    },
    {
     "name": "stdout",
     "output_type": "stream",
     "text": [
      "Loading data from date 2019-09-11\n",
      "\tLoading metadata from ../metadata_2/2019-09-11_stations.npy\n",
      "\tStations for date 2019-09-11: ['CI.CCC.' 'CI.CLC.' 'CI.DTP.' 'CI.JRC2.' 'CI.LRL.' 'CI.MPM.' 'CI.SLA.'\n",
      " 'CI.SRT.' 'CI.TOW2.' 'CI.WBM.' 'CI.WCS2.' 'CI.WMF.' 'CI.WNM.' 'CI.WRC2.'\n",
      " 'CI.WRV2.' 'CI.WVP2.' 'GS.CA01.20' 'GS.CA03.20' 'GS.CA06.20' 'GS.CA07.00'\n",
      " 'GS.CA08.00' 'GS.CA09.00' 'GS.CA10.00' 'ZY.SV01.']\n",
      "(144, 15, 6000)\n"
     ]
    },
    {
     "name": "stderr",
     "output_type": "stream",
     "text": [
      " 84%|████████▍ | 103/122 [16:27<01:28,  4.63s/it]"
     ]
    },
    {
     "name": "stdout",
     "output_type": "stream",
     "text": [
      "Loading data from date 2019-09-12\n",
      "\tLoading metadata from ../metadata_2/2019-09-12_stations.npy\n",
      "\tStations for date 2019-09-12: ['CI.CCC.' 'CI.CLC.' 'CI.DTP.' 'CI.JRC2.' 'CI.LRL.' 'CI.MPM.' 'CI.SLA.'\n",
      " 'CI.SRT.' 'CI.TOW2.' 'CI.WBM.' 'CI.WCS2.' 'CI.WMF.' 'CI.WNM.' 'CI.WRC2.'\n",
      " 'CI.WRV2.' 'CI.WVP2.' 'GS.CA01.20' 'GS.CA03.20' 'GS.CA05.20' 'GS.CA06.20'\n",
      " 'GS.CA07.00' 'GS.CA08.00' 'GS.CA09.00' 'GS.CA10.00']\n",
      "(173, 15, 6000)\n"
     ]
    },
    {
     "name": "stderr",
     "output_type": "stream",
     "text": [
      " 85%|████████▌ | 104/122 [16:32<01:23,  4.66s/it]"
     ]
    },
    {
     "name": "stdout",
     "output_type": "stream",
     "text": [
      "Loading data from date 2019-09-13\n",
      "\tLoading metadata from ../metadata_2/2019-09-13_stations.npy\n",
      "\tStations for date 2019-09-13: ['CI.CCC.' 'CI.CLC.' 'CI.DTP.' 'CI.JRC2.' 'CI.LRL.' 'CI.MPM.' 'CI.SLA.'\n",
      " 'CI.SRT.' 'CI.TOW2.' 'CI.WBM.' 'CI.WCS2.' 'CI.WMF.' 'CI.WNM.' 'CI.WRC2.'\n",
      " 'CI.WRV2.' 'CI.WVP2.' 'GS.CA01.20' 'GS.CA03.20' 'GS.CA04.20' 'GS.CA05.20'\n",
      " 'GS.CA06.20' 'GS.CA07.00' 'GS.CA08.00' 'GS.CA09.00' 'GS.CA10.00']\n",
      "(158, 15, 6000)\n"
     ]
    },
    {
     "name": "stderr",
     "output_type": "stream",
     "text": [
      " 86%|████████▌ | 105/122 [16:37<01:19,  4.70s/it]"
     ]
    },
    {
     "name": "stdout",
     "output_type": "stream",
     "text": [
      "Loading data from date 2019-09-14\n",
      "\tLoading metadata from ../metadata_2/2019-09-14_stations.npy\n",
      "\tStations for date 2019-09-14: ['CI.CCC.' 'CI.CLC.' 'CI.DTP.' 'CI.JRC2.' 'CI.LRL.' 'CI.MPM.' 'CI.SLA.'\n",
      " 'CI.SRT.' 'CI.TOW2.' 'CI.WBM.' 'CI.WCS2.' 'CI.WMF.' 'CI.WNM.' 'CI.WRC2.'\n",
      " 'CI.WRV2.' 'CI.WVP2.' 'GS.CA01.20' 'GS.CA03.20' 'GS.CA04.20' 'GS.CA05.20'\n",
      " 'GS.CA06.20' 'GS.CA07.00' 'GS.CA08.00' 'GS.CA09.00' 'GS.CA10.00']\n",
      "(170, 15, 6000)\n"
     ]
    },
    {
     "name": "stderr",
     "output_type": "stream",
     "text": [
      " 87%|████████▋ | 106/122 [16:41<01:14,  4.67s/it]"
     ]
    },
    {
     "name": "stdout",
     "output_type": "stream",
     "text": [
      "Loading data from date 2019-09-15\n",
      "\tLoading metadata from ../metadata_2/2019-09-15_stations.npy\n",
      "\tStations for date 2019-09-15: ['CI.CCC.' 'CI.CLC.' 'CI.DTP.' 'CI.JRC2.' 'CI.LRL.' 'CI.MPM.' 'CI.SLA.'\n",
      " 'CI.SRT.' 'CI.TOW2.' 'CI.WBM.' 'CI.WCS2.' 'CI.WMF.' 'CI.WNM.' 'CI.WRC2.'\n",
      " 'CI.WRV2.' 'CI.WVP2.' 'GS.CA01.20' 'GS.CA03.20' 'GS.CA04.20' 'GS.CA05.20'\n",
      " 'GS.CA06.20' 'GS.CA07.00' 'GS.CA08.00' 'GS.CA09.00' 'GS.CA10.00']\n",
      "(114, 15, 6000)\n"
     ]
    },
    {
     "name": "stderr",
     "output_type": "stream",
     "text": [
      " 88%|████████▊ | 107/122 [16:44<01:03,  4.23s/it]"
     ]
    },
    {
     "name": "stdout",
     "output_type": "stream",
     "text": [
      "Loading data from date 2019-09-16\n",
      "\tLoading metadata from ../metadata_2/2019-09-16_stations.npy\n",
      "\tStations for date 2019-09-16: ['CI.CCC.' 'CI.DTP.' 'CI.JRC2.' 'CI.LRL.' 'CI.MPM.' 'CI.SLA.' 'CI.SRT.'\n",
      " 'CI.TOW2.' 'CI.WBM.' 'CI.WCS2.' 'CI.WMF.' 'CI.WNM.' 'CI.WRC2.' 'CI.WRV2.'\n",
      " 'CI.WVP2.' 'GS.CA01.20' 'GS.CA03.20' 'GS.CA05.20' 'GS.CA06.20'\n",
      " 'GS.CA07.00' 'GS.CA08.00' 'GS.CA09.00' 'GS.CA10.00']\n",
      "(83, 15, 6000)\n"
     ]
    },
    {
     "name": "stderr",
     "output_type": "stream",
     "text": [
      " 89%|████████▊ | 108/122 [16:46<00:50,  3.58s/it]"
     ]
    },
    {
     "name": "stdout",
     "output_type": "stream",
     "text": [
      "Loading data from date 2019-09-17\n",
      "\tLoading metadata from ../metadata_2/2019-09-17_stations.npy\n",
      "\tStations for date 2019-09-17: ['CI.CCC.' 'CI.DTP.' 'CI.JRC2.' 'CI.LRL.' 'CI.MPM.' 'CI.SLA.' 'CI.SRT.'\n",
      " 'CI.TOW2.' 'CI.WBM.' 'CI.WCS2.' 'CI.WMF.' 'CI.WNM.' 'CI.WRC2.' 'CI.WRV2.'\n",
      " 'CI.WVP2.' 'GS.CA01.20' 'GS.CA03.20' 'GS.CA05.20' 'GS.CA06.20'\n",
      " 'GS.CA07.00' 'GS.CA08.00' 'GS.CA09.00' 'GS.CA10.00' 'NP.5419.10']\n",
      "(101, 15, 6000)\n"
     ]
    },
    {
     "name": "stderr",
     "output_type": "stream",
     "text": [
      " 89%|████████▉ | 109/122 [16:49<00:43,  3.34s/it]"
     ]
    },
    {
     "name": "stdout",
     "output_type": "stream",
     "text": [
      "Loading data from date 2019-09-18\n",
      "\tLoading metadata from ../metadata_2/2019-09-18_stations.npy\n",
      "\tStations for date 2019-09-18: ['CI.CCC.' 'CI.DTP.' 'CI.JRC2.' 'CI.LRL.' 'CI.MPM.' 'CI.SLA.' 'CI.SRT.'\n",
      " 'CI.TOW2.' 'CI.WBM.' 'CI.WCS2.' 'CI.WMF.' 'CI.WNM.' 'CI.WRC2.' 'CI.WRV2.'\n",
      " 'CI.WVP2.' 'GS.CA01.20' 'GS.CA03.20' 'GS.CA05.20' 'GS.CA06.20'\n",
      " 'GS.CA07.00' 'GS.CA08.00' 'GS.CA09.00' 'GS.CA10.00' 'NP.5419.10']\n",
      "(90, 15, 6000)\n"
     ]
    },
    {
     "name": "stderr",
     "output_type": "stream",
     "text": [
      " 90%|█████████ | 110/122 [16:52<00:36,  3.05s/it]"
     ]
    },
    {
     "name": "stdout",
     "output_type": "stream",
     "text": [
      "Loading data from date 2019-09-19\n",
      "\tLoading metadata from ../metadata_2/2019-09-19_stations.npy\n",
      "\tStations for date 2019-09-19: ['CI.CCC.' 'CI.DTP.' 'CI.JRC2.' 'CI.LRL.' 'CI.MPM.' 'CI.SLA.' 'CI.SRT.'\n",
      " 'CI.TOW2.' 'CI.WBM.' 'CI.WCS2.' 'CI.WMF.' 'CI.WNM.' 'CI.WRC2.' 'CI.WRV2.'\n",
      " 'CI.WVP2.' 'GS.CA01.20' 'GS.CA03.20' 'GS.CA04.20' 'GS.CA05.20'\n",
      " 'GS.CA06.20' 'GS.CA07.00' 'GS.CA08.00' 'GS.CA09.00' 'GS.CA10.00'\n",
      " 'NP.5419.10']\n",
      "(70, 15, 6000)\n"
     ]
    },
    {
     "name": "stderr",
     "output_type": "stream",
     "text": [
      " 91%|█████████ | 111/122 [16:54<00:30,  2.82s/it]"
     ]
    },
    {
     "name": "stdout",
     "output_type": "stream",
     "text": [
      "Loading data from date 2019-09-20\n",
      "\tLoading metadata from ../metadata_2/2019-09-20_stations.npy\n",
      "\tStations for date 2019-09-20: ['CI.CCC.' 'CI.DTP.' 'CI.JRC2.' 'CI.LRL.' 'CI.MPM.' 'CI.SLA.' 'CI.SRT.'\n",
      " 'CI.TOW2.' 'CI.WBM.' 'CI.WCS2.' 'CI.WMF.' 'CI.WNM.' 'CI.WRC2.' 'CI.WRV2.'\n",
      " 'CI.WVP2.' 'GS.CA01.20' 'GS.CA03.20' 'GS.CA04.20' 'GS.CA05.20'\n",
      " 'GS.CA06.20' 'GS.CA07.00' 'GS.CA08.00' 'GS.CA09.00' 'GS.CA10.00'\n",
      " 'NP.5419.10']\n",
      "(99, 15, 6000)\n"
     ]
    },
    {
     "name": "stderr",
     "output_type": "stream",
     "text": [
      " 92%|█████████▏| 112/122 [16:57<00:28,  2.83s/it]"
     ]
    },
    {
     "name": "stdout",
     "output_type": "stream",
     "text": [
      "Loading data from date 2019-09-21\n"
     ]
    },
    {
     "name": "stderr",
     "output_type": "stream",
     "text": [
      " 93%|█████████▎| 113/122 [16:59<00:24,  2.74s/it]"
     ]
    },
    {
     "name": "stdout",
     "output_type": "stream",
     "text": [
      "\tLoading metadata from ../metadata_2/2019-09-21_stations.npy\n",
      "\tStations for date 2019-09-21: ['CI.CCC.' 'CI.DTP.' 'CI.LRL.' 'CI.MPM.' 'CI.SLA.' 'CI.SRT.' 'CI.TOW2.'\n",
      " 'CI.WBM.' 'CI.WCS2.' 'CI.WMF.' 'CI.WNM.' 'CI.WRC2.' 'CI.WRV2.' 'CI.WVP2.'\n",
      " 'GS.CA01.20' 'GS.CA03.20' 'GS.CA04.20' 'GS.CA05.20' 'GS.CA06.20'\n",
      " 'GS.CA07.00' 'GS.CA08.00' 'GS.CA09.00' 'GS.CA10.00' 'NP.5419.10']\n",
      "\tDeleting date 2019-09-21\n",
      "Loading data from date 2019-09-22\n"
     ]
    },
    {
     "name": "stderr",
     "output_type": "stream",
     "text": [
      " 93%|█████████▎| 114/122 [17:01<00:19,  2.44s/it]"
     ]
    },
    {
     "name": "stdout",
     "output_type": "stream",
     "text": [
      "\tLoading metadata from ../metadata_2/2019-09-22_stations.npy\n",
      "\tStations for date 2019-09-22: ['CI.CCC.' 'CI.DTP.' 'CI.LRL.' 'CI.MPM.' 'CI.SLA.' 'CI.SRT.' 'CI.TOW2.'\n",
      " 'CI.WBM.' 'CI.WCS2.' 'CI.WMF.' 'CI.WNM.' 'CI.WRC2.' 'CI.WRV2.' 'CI.WVP2.'\n",
      " 'GS.CA01.20' 'GS.CA03.20' 'GS.CA05.20' 'GS.CA06.20' 'GS.CA07.00'\n",
      " 'GS.CA08.00' 'GS.CA09.00' 'GS.CA10.00' 'NP.5419.10']\n",
      "\tDeleting date 2019-09-22\n",
      "Loading data from date 2019-09-23\n",
      "\tLoading metadata from ../metadata_2/2019-09-23_stations.npy\n",
      "\tStations for date 2019-09-23: ['CI.CCC.' 'CI.DTP.' 'CI.JRC2.' 'CI.LRL.' 'CI.MPM.' 'CI.SLA.' 'CI.SRT.'\n",
      " 'CI.TOW2.' 'CI.WBM.' 'CI.WCS2.' 'CI.WMF.' 'CI.WNM.' 'CI.WRC2.' 'CI.WRV2.'\n",
      " 'CI.WVP2.' 'GS.CA01.20' 'GS.CA03.20' 'GS.CA05.20' 'GS.CA06.20'\n",
      " 'GS.CA07.00' 'GS.CA08.00' 'GS.CA09.00' 'GS.CA10.00' 'NP.5419.10']\n",
      "(131, 15, 6000)\n"
     ]
    },
    {
     "name": "stderr",
     "output_type": "stream",
     "text": [
      " 94%|█████████▍| 115/122 [17:05<00:20,  2.92s/it]"
     ]
    },
    {
     "name": "stdout",
     "output_type": "stream",
     "text": [
      "Loading data from date 2019-09-24\n",
      "\tLoading metadata from ../metadata_2/2019-09-24_stations.npy\n",
      "\tStations for date 2019-09-24: ['CI.CCC.' 'CI.DTP.' 'CI.JRC2.' 'CI.LRL.' 'CI.MPM.' 'CI.SLA.' 'CI.SRT.'\n",
      " 'CI.TOW2.' 'CI.WBM.' 'CI.WCS2.' 'CI.WMF.' 'CI.WNM.' 'CI.WRC2.' 'CI.WRV2.'\n",
      " 'CI.WVP2.' 'GS.CA01.20' 'GS.CA03.20' 'GS.CA05.20' 'GS.CA06.20'\n",
      " 'GS.CA07.00' 'GS.CA08.00' 'GS.CA09.00' 'GS.CA10.00' 'NP.5419.10']\n",
      "(68, 15, 6000)\n"
     ]
    },
    {
     "name": "stderr",
     "output_type": "stream",
     "text": [
      " 95%|█████████▌| 116/122 [17:07<00:15,  2.56s/it]"
     ]
    },
    {
     "name": "stdout",
     "output_type": "stream",
     "text": [
      "Loading data from date 2019-09-25\n",
      "\tLoading metadata from ../metadata_2/2019-09-25_stations.npy\n",
      "\tStations for date 2019-09-25: ['CI.CCC.' 'CI.CLC.' 'CI.DTP.' 'CI.JRC2.' 'CI.LRL.' 'CI.MPM.' 'CI.SLA.'\n",
      " 'CI.SRT.' 'CI.TOW2.' 'CI.WBM.' 'CI.WCS2.' 'CI.WMF.' 'CI.WNM.' 'CI.WRC2.'\n",
      " 'CI.WRV2.' 'CI.WVP2.' 'GS.CA01.20' 'GS.CA03.20' 'GS.CA05.20' 'GS.CA06.20'\n",
      " 'GS.CA07.00' 'GS.CA08.00' 'GS.CA09.00' 'GS.CA10.00' 'NP.5419.10']\n",
      "(85, 15, 6000)\n"
     ]
    },
    {
     "name": "stderr",
     "output_type": "stream",
     "text": [
      " 96%|█████████▌| 117/122 [17:10<00:13,  2.66s/it]"
     ]
    },
    {
     "name": "stdout",
     "output_type": "stream",
     "text": [
      "Loading data from date 2019-09-26\n",
      "\tLoading metadata from ../metadata_2/2019-09-26_stations.npy\n",
      "\tStations for date 2019-09-26: ['CI.CCC.' 'CI.CLC.' 'CI.DTP.' 'CI.JRC2.' 'CI.LRL.' 'CI.MPM.' 'CI.SLA.'\n",
      " 'CI.SRT.' 'CI.TOW2.' 'CI.WBM.' 'CI.WCS2.' 'CI.WMF.' 'CI.WNM.' 'CI.WRC2.'\n",
      " 'CI.WRV2.' 'CI.WVP2.' 'GS.CA01.20' 'GS.CA03.20' 'GS.CA04.20' 'GS.CA05.20'\n",
      " 'GS.CA06.20' 'GS.CA07.00' 'GS.CA08.00' 'GS.CA09.00' 'GS.CA10.00'\n",
      " 'NP.5419.10']\n",
      "(123, 15, 6000)\n"
     ]
    },
    {
     "name": "stderr",
     "output_type": "stream",
     "text": [
      " 97%|█████████▋| 118/122 [17:13<00:11,  2.86s/it]"
     ]
    },
    {
     "name": "stdout",
     "output_type": "stream",
     "text": [
      "Loading data from date 2019-09-27\n",
      "\tLoading metadata from ../metadata_2/2019-09-27_stations.npy\n",
      "\tStations for date 2019-09-27: ['CI.CCC.' 'CI.CLC.' 'CI.DTP.' 'CI.JRC2.' 'CI.LRL.' 'CI.MPM.' 'CI.SLA.'\n",
      " 'CI.SRT.' 'CI.TOW2.' 'CI.WBM.' 'CI.WCS2.' 'CI.WMF.' 'CI.WNM.' 'CI.WRC2.'\n",
      " 'CI.WRV2.' 'CI.WVP2.' 'GS.CA01.20' 'GS.CA03.20' 'GS.CA04.20' 'GS.CA05.20'\n",
      " 'GS.CA06.20' 'GS.CA07.00' 'GS.CA08.00' 'GS.CA09.00' 'GS.CA10.00'\n",
      " 'NP.5419.10']\n",
      "(104, 15, 6000)\n"
     ]
    },
    {
     "name": "stderr",
     "output_type": "stream",
     "text": [
      " 98%|█████████▊| 119/122 [17:16<00:08,  2.88s/it]"
     ]
    },
    {
     "name": "stdout",
     "output_type": "stream",
     "text": [
      "Loading data from date 2019-09-28\n",
      "\tLoading metadata from ../metadata_2/2019-09-28_stations.npy\n",
      "\tStations for date 2019-09-28: ['CI.CCC.' 'CI.CLC.' 'CI.DTP.' 'CI.JRC2.' 'CI.LRL.' 'CI.MPM.' 'CI.SLA.'\n",
      " 'CI.SRT.' 'CI.TOW2.' 'CI.WBM.' 'CI.WCS2.' 'CI.WMF.' 'CI.WNM.' 'CI.WRC2.'\n",
      " 'CI.WRV2.' 'CI.WVP2.' 'GS.CA01.20' 'GS.CA03.20' 'GS.CA05.20' 'GS.CA06.20'\n",
      " 'GS.CA07.00' 'GS.CA08.00' 'GS.CA09.00' 'GS.CA10.00' 'NP.5419.10']\n",
      "(105, 15, 6000)\n"
     ]
    },
    {
     "name": "stderr",
     "output_type": "stream",
     "text": [
      " 98%|█████████▊| 120/122 [17:18<00:05,  2.79s/it]"
     ]
    },
    {
     "name": "stdout",
     "output_type": "stream",
     "text": [
      "Loading data from date 2019-09-29\n",
      "\tLoading metadata from ../metadata_2/2019-09-29_stations.npy\n",
      "\tStations for date 2019-09-29: ['CI.CCC.' 'CI.CLC.' 'CI.DTP.' 'CI.JRC2.' 'CI.LRL.' 'CI.MPM.' 'CI.SLA.'\n",
      " 'CI.SRT.' 'CI.TOW2.' 'CI.WBM.' 'CI.WCS2.' 'CI.WMF.' 'CI.WNM.' 'CI.WRC2.'\n",
      " 'CI.WRV2.' 'CI.WVP2.' 'GS.CA01.20' 'GS.CA03.20' 'GS.CA05.20' 'GS.CA06.20'\n",
      " 'GS.CA07.00' 'GS.CA08.00' 'GS.CA09.00' 'GS.CA10.00' 'NP.5419.10']\n",
      "(81, 15, 6000)\n"
     ]
    },
    {
     "name": "stderr",
     "output_type": "stream",
     "text": [
      " 99%|█████████▉| 121/122 [17:21<00:02,  2.66s/it]"
     ]
    },
    {
     "name": "stdout",
     "output_type": "stream",
     "text": [
      "Loading data from date 2019-09-30\n",
      "\tLoading metadata from ../metadata_2/2019-09-30_stations.npy\n",
      "\tStations for date 2019-09-30: ['CI.CCC.' 'CI.CLC.' 'CI.DTP.' 'CI.JRC2.' 'CI.LRL.' 'CI.MPM.' 'CI.SLA.'\n",
      " 'CI.SRT.' 'CI.TOW2.' 'CI.WBM.' 'CI.WCS2.' 'CI.WMF.' 'CI.WNM.' 'CI.WRC2.'\n",
      " 'CI.WRV2.' 'CI.WVP2.' 'GS.CA01.20' 'GS.CA03.20' 'GS.CA04.20' 'GS.CA05.20'\n",
      " 'GS.CA06.20' 'GS.CA07.00' 'GS.CA08.00' 'GS.CA09.00' 'GS.CA10.00'\n",
      " 'NP.5419.10']\n",
      "(118, 15, 6000)\n"
     ]
    },
    {
     "name": "stderr",
     "output_type": "stream",
     "text": [
      "100%|██████████| 122/122 [17:25<00:00,  8.57s/it]\n"
     ]
    }
   ],
   "source": [
    "## For each date:\n",
    "from tqdm import tqdm\n",
    "if not os.path.exists(save_path):\n",
    "    os.mkdir(save_path)\n",
    "\n",
    "print(\"Extracting data for stations: {}\".format(master_stations))\n",
    "np.save(os.path.join(save_path, \"stations.npy\"), master_stations)\n",
    "\n",
    "\n",
    "for date in tqdm(dates):\n",
    "    date_data = os.path.join(data_path, date+\".npy\")\n",
    "#     print(\"Loading data from date {}\".format(date))\n",
    "    date_arr = np.load(date_data)\n",
    "    \n",
    "    ## look for stations for that day (metadata)\n",
    "    station_meta = os.path.join(meta_path, date+\"_stations.npy\")\n",
    "#     print(\"\\tLoading metadata from {}\".format(station_meta))\n",
    "    date_stations = np.load(station_meta)\n",
    "    delete_date = False\n",
    "    stats_for_date = []\n",
    "#     print(\"\\tStations for date {}: {}\".format(date, date_stations))\n",
    "\n",
    "    for master in master_stations: \n",
    "        if master not in date_stations: \n",
    "            delete_date = True\n",
    "            break            \n",
    "        idx_date = date_arr[date_stations == master]\n",
    "#         print(idx)\n",
    "#         stats_for_date.append(date_arr[idx, :, :,])\n",
    "        stats_for_date.append(idx_date)\n",
    "\n",
    "    if delete_date is True: \n",
    "        print(\"\\tDeleting date {}\".format(date))\n",
    "        continue\n",
    "    stats_for_date = np.concatenate(stats_for_date, 0)\n",
    "    assert stats_for_date.shape[0] == len(master_stations)\n",
    "    date_save = os.path.join(save_path, \"{}.npy\".format(date))\n",
    "    stats_for_date = np.transpose(stats_for_date, [1, 0, 2, 3]) #(num_evs, stats, dim, time)\n",
    "    stats_for_date = np.linalg.norm(stats_for_date, ord=2, axis=2)\n",
    "#     print(stats_for_date.shape)\n",
    "    np.save(date_save, stats_for_date)\n"
   ]
  },
  {
   "cell_type": "code",
   "execution_count": null,
   "metadata": {},
   "outputs": [],
   "source": []
  }
 ],
 "metadata": {
  "kernelspec": {
   "display_name": "Python 3",
   "language": "python",
   "name": "python3"
  },
  "language_info": {
   "codemirror_mode": {
    "name": "ipython",
    "version": 3
   },
   "file_extension": ".py",
   "mimetype": "text/x-python",
   "name": "python",
   "nbconvert_exporter": "python",
   "pygments_lexer": "ipython3",
   "version": "3.7.4"
  }
 },
 "nbformat": 4,
 "nbformat_minor": 4
}
