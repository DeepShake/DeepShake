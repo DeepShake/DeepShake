{
 "cells": [
  {
   "cell_type": "markdown",
   "metadata": {
    "colab_type": "text",
    "id": "pa49bUnKyRgF"
   },
   "source": [
    "## Load data, balance classes and save\n",
    "\n",
    "Normalize across *both* time and stations"
   ]
  },
  {
   "cell_type": "code",
   "execution_count": 1,
   "metadata": {},
   "outputs": [],
   "source": [
    "import sys\n",
    "sys.path.append(\"../utils/.\")"
   ]
  },
  {
   "cell_type": "code",
   "execution_count": 2,
   "metadata": {
    "colab": {},
    "colab_type": "code",
    "id": "7rZnJaGTWQw0"
   },
   "outputs": [],
   "source": [
    "from __future__ import absolute_import, division, print_function, unicode_literals\n",
    "\n",
    "import matplotlib as mpl\n",
    "import matplotlib.pyplot as plt\n",
    "import numpy as np\n",
    "import os\n",
    "import pandas as pd\n",
    "\n",
    "mpl.rcParams['figure.figsize'] = (8, 6)\n",
    "mpl.rcParams['axes.grid'] = False\n",
    "\n",
    "# tf.random.set_random_seed(13)\n",
    "\n",
    "from utils import *\n",
    "import copy \n"
   ]
  },
  {
   "cell_type": "code",
   "execution_count": 4,
   "metadata": {},
   "outputs": [],
   "source": [
    "data_path = '../data/acc/compressed/full_data.npy'\n",
    "save_path = \"../data/histStat_norm_acc/\"\n",
    "\n",
    "if not os.path.exists(save_path):\n",
    "    os.makedirs(save_path)\n",
    "\n",
    "STEP = 1\n",
    "future_target = 10\n",
    "past_history = 15\n"
   ]
  },
  {
   "cell_type": "markdown",
   "metadata": {
    "colab_type": "text",
    "id": "TokBlnUhWFw9"
   },
   "source": [
    "## The Ridgecrest Dataset\n",
    "This notebook uses a earthquake dataset from Ridgecrest, collected from July to September of 2019.\n",
    "There are several thousand earthquakes during this time period, which were collected at anywhere from 16-30 stations."
   ]
  },
  {
   "cell_type": "code",
   "execution_count": 11,
   "metadata": {},
   "outputs": [
    {
     "name": "stdout",
     "output_type": "stream",
     "text": [
      "Before:  (35679, 15, 60)\n",
      "After:  (35679, 60, 15)\n"
     ]
    }
   ],
   "source": [
    "#Swap axes\n",
    "dataset = np.load(data_path)\n",
    "print(\"Before: \", dataset.shape)\n",
    "\n",
    "dataset = dataset.swapaxes(1, -1)\n",
    "\n",
    "TRAIN_SPLIT_IDX = int(dataset.shape[0]*0.8)\n",
    "\n",
    "\n",
    "#Combine station and xyz\n",
    "#dataset = dataset.reshape(dataset.shape[0], dataset.shape[1], -1)\n",
    "print(\"After: \", dataset.shape)"
   ]
  },
  {
   "cell_type": "code",
   "execution_count": 12,
   "metadata": {},
   "outputs": [
    {
     "data": {
      "text/plain": [
       "2.6316105561952106"
      ]
     },
     "execution_count": 12,
     "metadata": {},
     "output_type": "execute_result"
    }
   ],
   "source": [
    "dataset.max() "
   ]
  },
  {
   "cell_type": "code",
   "execution_count": 13,
   "metadata": {},
   "outputs": [
    {
     "name": "stdout",
     "output_type": "stream",
     "text": [
      "35679\n",
      "-0.49 7.1\n",
      "35679\n",
      "0.0 3.0\n",
      "[8.31445749e-01 3.72105878e-01 9.15785421e+00 1.48662500e+03]\n",
      "[2.000e+00 1.000e+00 1.000e+01 1.488e+03]\n"
     ]
    },
    {
     "data": {
      "image/png": "[encoded data removed]",
      "text/plain": [
       "<Figure size 576x432 with 1 Axes>"
      ]
     },
     "metadata": {
      "needs_background": "light"
     },
     "output_type": "display_data"
    }
   ],
   "source": [
    "from sklearn.utils.class_weight import compute_class_weight\n",
    "\n",
    "richters_path = \"../data/metadata/richters.npy\"\n",
    "richters = np.load(richters_path)\n",
    "print(len(richters))\n",
    "print(min(richters), max(richters))\n",
    "\n",
    "classes = [0, 1, 2, 3]\n",
    "richters_discrete = np.zeros_like(richters)\n",
    "richters_discrete += np.where(richters >= 5., np.ones_like(richters), np.zeros_like(richters))\n",
    "richters_discrete += np.where(richters >= 3., np.ones_like(richters), np.zeros_like(richters))\n",
    "richters_discrete += np.where(richters >= 1., np.ones_like(richters), np.zeros_like(richters))\n",
    "\n",
    "print(len(richters_discrete))\n",
    "print(min(richters_discrete), max(richters_discrete))\n",
    "\n",
    "\n",
    "class_weights = compute_class_weight('balanced', np.array(classes), richters_discrete)\n",
    "print(class_weights)\n",
    "# num_copies = np.round(class_weights, 0) + 1 #Add constant to ensure minimum num copies for smallest class\n",
    "num_copies = np.round(class_weights, 0) + 1 #Add constant to ensure minimum num copies for smallest class\n",
    "\n",
    "print(num_copies)\n",
    "plt.hist(richters_discrete, bins=[0, 1, 2, 3])\n",
    "plt.show()"
   ]
  },
  {
   "cell_type": "code",
   "execution_count": 14,
   "metadata": {},
   "outputs": [],
   "source": [
    "from sklearn.model_selection import train_test_split\n",
    "\n",
    "dataset, richters_discrete = shuffle_together(dataset, richters_discrete, seed=10)"
   ]
  },
  {
   "cell_type": "code",
   "execution_count": 21,
   "metadata": {},
   "outputs": [
    {
     "name": "stdout",
     "output_type": "stream",
     "text": [
      "(array([11660, 13108, 19117, 24685]),) (array([5385, 6250]),)\n"
     ]
    }
   ],
   "source": [
    "largest_idxs_train = np.where(richters_discrete[:TRAIN_SPLIT_IDX] == classes[-1])\n",
    "largest_idxs_val = np.where(richters_discrete[TRAIN_SPLIT_IDX:] == classes[-1])\n",
    "\n",
    "print(largest_idxs_train, largest_idxs_val)"
   ]
  },
  {
   "cell_type": "code",
   "execution_count": 23,
   "metadata": {},
   "outputs": [
    {
     "name": "stdout",
     "output_type": "stream",
     "text": [
      "[(0.9613582287103106, -0.049161971351137305), (0.9638939532466916, -0.049161971351137305), (0.946945358178671, -0.04031726959350601), (0.946945358178671, -0.04031726959350601)]\n"
     ]
    }
   ],
   "source": [
    "## Normalization over 60-sec intervals\n",
    "# dataset dims are (N, T, dim)\n",
    "data_mean = np.mean(dataset, axis = (1, 2), keepdims=True) #(N, 1, 1)\n",
    "\n",
    "data_var = np.linalg.norm(dataset - data_mean, axis = (1, 2), keepdims=True) # (N,1,1) \n",
    "\n",
    "#Add some epsilon to make the divide by zero var work\n",
    "data_var[data_var == 0] = 1\n",
    "\n",
    "dataset_normalized = (dataset - data_mean)/data_var #(N, T, dim)\n",
    "\n",
    "x_train_norm, y_train_norm = multivariate_data_balanced(dataset_normalized[:TRAIN_SPLIT_IDX],past_history,\n",
    "                                                   future_target, STEP,\n",
    "                                               richters_discrete[:TRAIN_SPLIT_IDX], num_copies,\n",
    "                                                   single_step=False)\n",
    "x_val_norm, y_val_norm = multivariate_data(dataset_normalized[TRAIN_SPLIT_IDX:], past_history,\n",
    "                                               future_target, STEP,\n",
    "                                               single_step=False)\n",
    "\n",
    "print([(tensor.max(), tensor.min()) for tensor in [x_train_norm, y_train_norm, x_val_norm, y_val_norm]])\n",
    "\n",
    "\n",
    "np.save(os.path.join(save_path, \"X_train_norm60.npy\"), x_train_norm)\n",
    "np.save(os.path.join(save_path, \"y_train_norm60.npy\"), y_train_norm)\n",
    "np.save(os.path.join(save_path, \"X_val_norm60.npy\"), x_val_norm)\n",
    "np.save(os.path.join(save_path, \"y_val_norm60.npy\"), y_val_norm)"
   ]
  },
  {
   "cell_type": "code",
   "execution_count": 30,
   "metadata": {},
   "outputs": [
    {
     "name": "stdout",
     "output_type": "stream",
     "text": [
      "2.6316105561952106 5.55771493088387e-06\n",
      "70\n"
     ]
    }
   ],
   "source": [
    "## Save Richter 5-7 earthquakes FROM VAL SET\n",
    "\n",
    "large_tensors = dataset[TRAIN_SPLIT_IDX:][largest_idxs_val]\n",
    "\n",
    "x_val_norm_large, y_val_norm_large = multivariate_data(large_tensors, past_history,\n",
    "                                               future_target, STEP,\n",
    "                                               single_step=False)\n",
    "\n",
    "print(x_val_norm_large.max(), x_val_norm_large.min())\n",
    "np.save(os.path.join(save_path, \"large_X_val_norm.npy\"), x_val_norm_large)\n",
    "np.save(os.path.join(save_path, \"large_y_val_norm.npy\"), y_val_norm_large)\n",
    "print(len(x_val_norm_large))"
   ]
  },
  {
   "cell_type": "code",
   "execution_count": 9,
   "metadata": {},
   "outputs": [
    {
     "name": "stdout",
     "output_type": "stream",
     "text": [
      "Distribution of discrete richter magnitudes (<1, 1-3, 3-5, >=5):\n",
      "Train set:  [8560, 19193, 786, 4]\n",
      "Val set:  [2168, 4778, 188, 2]\n"
     ]
    }
   ],
   "source": [
    "train_distrib = list([int(np.sum(richters_discrete[:TRAIN_SPLIT_IDX] == i)) for i in range(4)])\n",
    "val_distrib = list([int(np.sum(richters_discrete[TRAIN_SPLIT_IDX:] == i)) for i in range(4)])\n",
    "print(\"Distribution of discrete richter magnitudes (<1, 1-3, 3-5, >=5):\")\n",
    "print(\"Train set: \", train_distrib)\n",
    "print(\"Val set: \", val_distrib)\n"
   ]
  },
  {
   "cell_type": "code",
   "execution_count": 10,
   "metadata": {},
   "outputs": [
    {
     "name": "stdout",
     "output_type": "stream",
     "text": [
      "(1754375, 15, 15) (249760, 15, 15) (1754375, 10, 15) (249760, 10, 15)\n"
     ]
    }
   ],
   "source": [
    "x_train_single, y_train_single = multivariate_data_balanced(dataset[:TRAIN_SPLIT_IDX],past_history,\n",
    "                                                   future_target, STEP,\n",
    "                                               richters_discrete[:TRAIN_SPLIT_IDX], num_copies,\n",
    "                                                   single_step=False)\n",
    "x_val_single, y_val_single = multivariate_data(dataset[TRAIN_SPLIT_IDX:], past_history,\n",
    "                                               future_target, STEP,\n",
    "                                               single_step=False)\n",
    "\n",
    "\n",
    "# print(y_single.shape, x_single.shape)\n",
    "# x_train_single, x_val_single, y_train_single, y_val_single = train_test_split(x_single, y_single, test_size=.2, random_state=13)\n",
    "print(x_train_single.shape, x_val_single.shape, y_train_single.shape, y_val_single.shape)"
   ]
  },
  {
   "cell_type": "code",
   "execution_count": 11,
   "metadata": {},
   "outputs": [
    {
     "name": "stdout",
     "output_type": "stream",
     "text": [
      "0.0 0.937006525584025\n",
      "0.0 0.937006525584025\n",
      "0.0 2.6316105561952106\n",
      "0.0 2.6316105561952106\n"
     ]
    }
   ],
   "source": [
    "print(x_train_single.min(), x_train_single.max())\n",
    "print(y_train_single.min(), y_train_single.max())\n",
    "\n",
    "print(x_val_single.min(), x_val_single.max())\n",
    "print(y_val_single.min(), y_val_single.max())"
   ]
  },
  {
   "cell_type": "code",
   "execution_count": 12,
   "metadata": {},
   "outputs": [],
   "source": [
    "np.save(os.path.join(save_path, \"X_train_unnorm.npy\"), x_train_single)\n",
    "np.save(os.path.join(save_path, \"y_train_unnorm.npy\"), y_train_single)\n",
    "np.save(os.path.join(save_path, \"X_val_unnorm.npy\"), x_val_single)\n",
    "np.save(os.path.join(save_path, \"y_val_unnorm.npy\"), y_val_single)"
   ]
  },
  {
   "cell_type": "markdown",
   "metadata": {},
   "source": [
    "# Normalization over 15-sec history"
   ]
  },
  {
   "cell_type": "code",
   "execution_count": 13,
   "metadata": {},
   "outputs": [
    {
     "ename": "KeyboardInterrupt",
     "evalue": "",
     "output_type": "error",
     "traceback": [
      "\u001b[0;31m---------------------------------------------------------------------------\u001b[0m",
      "\u001b[0;31mKeyboardInterrupt\u001b[0m                         Traceback (most recent call last)",
      "\u001b[0;32m<ipython-input-13-eccc7c221a6c>\u001b[0m in \u001b[0;36m<module>\u001b[0;34m\u001b[0m\n\u001b[1;32m     16\u001b[0m \u001b[0;34m\u001b[0m\u001b[0m\n\u001b[1;32m     17\u001b[0m     \u001b[0;31m# print(data_mean_train.max(), data_mean_train.min())\u001b[0m\u001b[0;34m\u001b[0m\u001b[0;34m\u001b[0m\u001b[0;34m\u001b[0m\u001b[0m\n\u001b[0;32m---> 18\u001b[0;31m     \u001b[0mdata_var_train\u001b[0m \u001b[0;34m=\u001b[0m \u001b[0mnp\u001b[0m\u001b[0;34m.\u001b[0m\u001b[0mlinalg\u001b[0m\u001b[0;34m.\u001b[0m\u001b[0mnorm\u001b[0m\u001b[0;34m(\u001b[0m\u001b[0mx_train_single_clone\u001b[0m \u001b[0;34m-\u001b[0m \u001b[0mdata_mean_train\u001b[0m\u001b[0;34m,\u001b[0m \u001b[0maxis\u001b[0m\u001b[0;34m=\u001b[0m\u001b[0;36m1\u001b[0m\u001b[0;34m,\u001b[0m \u001b[0mkeepdims\u001b[0m\u001b[0;34m=\u001b[0m\u001b[0;32mTrue\u001b[0m\u001b[0;34m)\u001b[0m\u001b[0;34m\u001b[0m\u001b[0;34m\u001b[0m\u001b[0m\n\u001b[0m\u001b[1;32m     19\u001b[0m     \u001b[0mdata_var_train\u001b[0m\u001b[0;34m[\u001b[0m\u001b[0mdata_var_train\u001b[0m \u001b[0;34m<\u001b[0m \u001b[0meps\u001b[0m\u001b[0;34m]\u001b[0m \u001b[0;34m=\u001b[0m \u001b[0;36m1\u001b[0m\u001b[0;34m\u001b[0m\u001b[0;34m\u001b[0m\u001b[0m\n\u001b[1;32m     20\u001b[0m \u001b[0;34m\u001b[0m\u001b[0m\n",
      "\u001b[0;32m<__array_function__ internals>\u001b[0m in \u001b[0;36mnorm\u001b[0;34m(*args, **kwargs)\u001b[0m\n",
      "\u001b[0;32m~/anaconda3/envs/tf_gpu/lib/python3.7/site-packages/numpy/linalg/linalg.py\u001b[0m in \u001b[0;36mnorm\u001b[0;34m(x, ord, axis, keepdims)\u001b[0m\n\u001b[1;32m   2505\u001b[0m             \u001b[0;31m# special case for speedup\u001b[0m\u001b[0;34m\u001b[0m\u001b[0;34m\u001b[0m\u001b[0;34m\u001b[0m\u001b[0m\n\u001b[1;32m   2506\u001b[0m             \u001b[0ms\u001b[0m \u001b[0;34m=\u001b[0m \u001b[0;34m(\u001b[0m\u001b[0mx\u001b[0m\u001b[0;34m.\u001b[0m\u001b[0mconj\u001b[0m\u001b[0;34m(\u001b[0m\u001b[0;34m)\u001b[0m \u001b[0;34m*\u001b[0m \u001b[0mx\u001b[0m\u001b[0;34m)\u001b[0m\u001b[0;34m.\u001b[0m\u001b[0mreal\u001b[0m\u001b[0;34m\u001b[0m\u001b[0;34m\u001b[0m\u001b[0m\n\u001b[0;32m-> 2507\u001b[0;31m             \u001b[0;32mreturn\u001b[0m \u001b[0msqrt\u001b[0m\u001b[0;34m(\u001b[0m\u001b[0madd\u001b[0m\u001b[0;34m.\u001b[0m\u001b[0mreduce\u001b[0m\u001b[0;34m(\u001b[0m\u001b[0ms\u001b[0m\u001b[0;34m,\u001b[0m \u001b[0maxis\u001b[0m\u001b[0;34m=\u001b[0m\u001b[0maxis\u001b[0m\u001b[0;34m,\u001b[0m \u001b[0mkeepdims\u001b[0m\u001b[0;34m=\u001b[0m\u001b[0mkeepdims\u001b[0m\u001b[0;34m)\u001b[0m\u001b[0;34m)\u001b[0m\u001b[0;34m\u001b[0m\u001b[0;34m\u001b[0m\u001b[0m\n\u001b[0m\u001b[1;32m   2508\u001b[0m         \u001b[0;32melse\u001b[0m\u001b[0;34m:\u001b[0m\u001b[0;34m\u001b[0m\u001b[0;34m\u001b[0m\u001b[0m\n\u001b[1;32m   2509\u001b[0m             \u001b[0;32mtry\u001b[0m\u001b[0;34m:\u001b[0m\u001b[0;34m\u001b[0m\u001b[0;34m\u001b[0m\u001b[0m\n",
      "\u001b[0;31mKeyboardInterrupt\u001b[0m: "
     ]
    }
   ],
   "source": [
    "\"\"\"\n",
    "Effect of different eps values\n",
    "\"\"\"\n",
    "\n",
    "train_means, train_vars = [], []\n",
    "val_means, val_vars = [], []\n",
    "\n",
    "for i in range(1, 15):\n",
    "    eps = 10**(-i)\n",
    "    x_train_single_clone = copy.deepcopy(x_train_single)\n",
    "    x_val_single_clone = copy.deepcopy(x_val_single)\n",
    "    y_train_single_clone = copy.deepcopy(y_train_single)\n",
    "    y_val_single_clone = copy.deepcopy(y_val_single)\n",
    "\n",
    "    data_mean_train = np.mean(x_train_single_clone, axis = 1, keepdims=True)\n",
    "\n",
    "    # print(data_mean_train.max(), data_mean_train.min())\n",
    "    data_var_train = np.linalg.norm(x_train_single_clone - data_mean_train, axis=1, keepdims=True)\n",
    "    data_var_train[data_var_train < eps] = 1\n",
    "\n",
    "    # print(data_var_train.max(), data_var_train.min())\n",
    "    x_train_single_clone = (x_train_single_clone - data_mean_train)/data_var_train\n",
    "    y_train_single_clone = (y_train_single_clone - data_mean_train)/data_var_train\n",
    "\n",
    "\n",
    "    data_mean_val = np.mean(x_val_single_clone, axis = 1, keepdims=True)\n",
    "    data_var_val = np.linalg.norm(x_val_single_clone - data_mean_val, axis=1, keepdims=True)\n",
    "    data_var_val[data_var_val < eps] = 1\n",
    "\n",
    "    x_val_single_clone = (x_val_single_clone - data_mean_val)/data_var_val\n",
    "    y_val_single_clone = (y_val_single_clone - data_mean_val)/data_var_val\n",
    "    \n",
    "    train_means.append(x_train_single_clone.mean())\n",
    "    train_vars.append(x_train_single_clone.std()**2)\n",
    "    val_means.append(x_val_single_clone.mean())\n",
    "    val_vars.append(x_val_single_clone.std()**2)"
   ]
  },
  {
   "cell_type": "code",
   "execution_count": null,
   "metadata": {
    "scrolled": true
   },
   "outputs": [],
   "source": [
    "plt.plot([i for i in range(1, 15)], train_means)\n",
    "plt.plot([i for i in range(1, 15)], val_means)\n",
    "plt.title(\"Means\")\n",
    "plt.show()\n",
    "\n",
    "plt.plot([i for i in range(1, 15)], train_vars)\n",
    "plt.plot([i for i in range(1, 15)], val_vars)\n",
    "plt.title(\"Vars\")\n",
    "plt.show()"
   ]
  },
  {
   "cell_type": "code",
   "execution_count": 14,
   "metadata": {},
   "outputs": [],
   "source": [
    "eps = 1e-7\n",
    "\"\"\"\n",
    "Normalizing using 15-sec history across TIME and STATIONS\n",
    "\"\"\"\n",
    "# for i in range(x_train_single.shape[0]):\n",
    "data_mean_train = np.mean(x_train_single, axis = (1, 2), keepdims=True)\n",
    "\n",
    "# print(data_mean_train.max(), data_mean_train.min())\n",
    "data_var_train = np.linalg.norm(x_train_single - data_mean_train, axis=(1, 2), keepdims=True)\n",
    "data_var_train[data_var_train < eps] = 1\n",
    "\n",
    "# print(data_var_train.max(), data_var_train.min())\n",
    "x_train_single = (x_train_single - data_mean_train)/data_var_train\n",
    "y_train_single = (y_train_single - data_mean_train)/data_var_train\n",
    "\n",
    "\n",
    "data_mean_val = np.mean(x_val_single, axis = (1, 2), keepdims=True)\n",
    "data_var_val = np.linalg.norm(x_val_single - data_mean_val, axis=(1,2), keepdims=True)\n",
    "data_var_val[data_var_val < eps] = 1\n",
    "\n",
    "x_val_single = (x_val_single - data_mean_val)/data_var_val\n",
    "y_val_single = (y_val_single - data_mean_val)/data_var_val"
   ]
  },
  {
   "cell_type": "code",
   "execution_count": 15,
   "metadata": {},
   "outputs": [
    {
     "name": "stdout",
     "output_type": "stream",
     "text": [
      "8406.308890708404 2914.7723996078616\n"
     ]
    }
   ],
   "source": [
    "print(y_val_single.max(), y_train_single.max())"
   ]
  },
  {
   "cell_type": "code",
   "execution_count": 16,
   "metadata": {
    "scrolled": true
   },
   "outputs": [
    {
     "data": {
      "image/png": "[encoded data removed]",
      "text/plain": [
       "<Figure size 576x432 with 1 Axes>"
      ]
     },
     "metadata": {
      "needs_background": "light"
     },
     "output_type": "display_data"
    },
    {
     "data": {
      "image/png": "[encoded data removed]",
      "text/plain": [
       "<Figure size 576x432 with 1 Axes>"
      ]
     },
     "metadata": {
      "needs_background": "light"
     },
     "output_type": "display_data"
    }
   ],
   "source": [
    "plt.hist(y_val_single.flatten(), bins=50)\n",
    "plt.show()\n",
    "\n",
    "plt.hist(y_train_single.flatten(), bins=50)\n",
    "plt.show()"
   ]
  },
  {
   "cell_type": "code",
   "execution_count": 17,
   "metadata": {},
   "outputs": [
    {
     "name": "stdout",
     "output_type": "stream",
     "text": [
      "0.00031077834721332477\n"
     ]
    }
   ],
   "source": [
    "print(sum(y_val_single.flatten() > 10) / len(y_val_single.flatten()))"
   ]
  },
  {
   "cell_type": "code",
   "execution_count": 18,
   "metadata": {},
   "outputs": [
    {
     "name": "stdout",
     "output_type": "stream",
     "text": [
      "0.9977698130146953 -0.11858546177948899\n",
      "0.9977431495494686 -0.11782828706996022\n"
     ]
    }
   ],
   "source": [
    "print(x_train_single.max(), x_train_single.min())\n",
    "print(x_val_single.max(), x_val_single.min())"
   ]
  },
  {
   "cell_type": "code",
   "execution_count": 19,
   "metadata": {},
   "outputs": [
    {
     "name": "stdout",
     "output_type": "stream",
     "text": [
      "2914.7723996078616 -0.11858409248741932\n",
      "8406.308890708404 -0.11782828706996021\n"
     ]
    }
   ],
   "source": [
    "print(y_train_single.max(), y_train_single.min())\n",
    "print(y_val_single.max(), y_val_single.min())"
   ]
  },
  {
   "cell_type": "code",
   "execution_count": 20,
   "metadata": {},
   "outputs": [
    {
     "data": {
      "text/plain": [
       "((1754375, 15, 15), (1754375, 10, 15), (249760, 15, 15), (249760, 10, 15))"
      ]
     },
     "execution_count": 20,
     "metadata": {},
     "output_type": "execute_result"
    }
   ],
   "source": [
    "x_train_single.shape, y_train_single.shape, x_val_single.shape, y_val_single.shape"
   ]
  },
  {
   "cell_type": "code",
   "execution_count": 21,
   "metadata": {},
   "outputs": [],
   "source": [
    "np.save(os.path.join(save_path, \"X_train_histnorm.npy\"), x_train_single)\n",
    "np.save(os.path.join(save_path, \"y_train_histnorm.npy\"), y_train_single)\n",
    "np.save(os.path.join(save_path, \"X_val_histnorm.npy\"), x_val_single)\n",
    "np.save(os.path.join(save_path, \"y_val_histnorm.npy\"), y_val_single)\n",
    "\n",
    "np.save(os.path.join(save_path, \"richters_discrete.npy\"), richters_discrete)\n",
    "\n",
    "np.save(os.path.join(save_path, \"mean_train_histnorm.npy\"), data_mean_train)\n",
    "np.save(os.path.join(save_path, \"var_train_histnorm.npy\"), data_var_train)\n",
    "np.save(os.path.join(save_path, \"mean_val_histnorm.npy\"), data_mean_val)\n",
    "np.save(os.path.join(save_path, \"var_val_histnorm.npy\"), data_var_val)"
   ]
  },
  {
   "cell_type": "code",
   "execution_count": 22,
   "metadata": {},
   "outputs": [],
   "source": [
    "import json\n",
    "\n",
    "config = dict(zip([\"data_path\", \"past_history\", \"STEP\", \"future_target\", \"train_distrib\", \"val_distrib\", ], \\\n",
    "                  [data_path, past_history, STEP, future_target, train_distrib, val_distrib]))\n",
    "\n",
    "with open(os.path.join(save_path, \"config.json\"), 'w') as json_file:\n",
    "    json.dump(config, json_file)"
   ]
  },
  {
   "cell_type": "code",
   "execution_count": null,
   "metadata": {},
   "outputs": [],
   "source": [
    "print(x_train_single.max())"
   ]
  },
  {
   "cell_type": "code",
   "execution_count": null,
   "metadata": {},
   "outputs": [],
   "source": []
  }
 ],
 "metadata": {
  "accelerator": "GPU",
  "colab": {
   "collapsed_sections": [],
   "name": "time_series.ipynb",
   "private_outputs": true,
   "toc_visible": true
  },
  "kernelspec": {
   "display_name": "Python 3",
   "language": "python",
   "name": "python3"
  },
  "language_info": {
   "codemirror_mode": {
    "name": "ipython",
    "version": 3
   },
   "file_extension": ".py",
   "mimetype": "text/x-python",
   "name": "python",
   "nbconvert_exporter": "python",
   "pygments_lexer": "ipython3",
   "version": "3.7.7"
  }
 },
 "nbformat": 4,
 "nbformat_minor": 4
}
