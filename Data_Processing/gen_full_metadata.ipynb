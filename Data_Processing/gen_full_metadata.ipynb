{
 "cells": [
  {
   "cell_type": "code",
   "execution_count": 1,
   "metadata": {},
   "outputs": [],
   "source": [
    "import numpy as np\n",
    "from pathlib import Path\n",
    "import glob\n",
    "from tqdm import tqdm\n",
    "import json\n",
    "import os"
   ]
  },
  {
   "cell_type": "code",
   "execution_count": 8,
   "metadata": {},
   "outputs": [],
   "source": [
    "input_dir = Path(\"../data/metadata\")\n",
    "metadata_files = sorted(input_dir.glob(\"*_meta.json\"))"
   ]
  },
  {
   "cell_type": "code",
   "execution_count": 9,
   "metadata": {},
   "outputs": [
    {
     "name": "stdout",
     "output_type": "stream",
     "text": [
      "[PosixPath('../data/metadata/2019-06-01_meta.json'), PosixPath('../data/metadata/2019-06-02_meta.json'), PosixPath('../data/metadata/2019-06-03_meta.json'), PosixPath('../data/metadata/2019-06-04_meta.json'), PosixPath('../data/metadata/2019-06-05_meta.json'), PosixPath('../data/metadata/2019-06-06_meta.json'), PosixPath('../data/metadata/2019-06-07_meta.json'), PosixPath('../data/metadata/2019-06-08_meta.json'), PosixPath('../data/metadata/2019-06-09_meta.json'), PosixPath('../data/metadata/2019-06-10_meta.json'), PosixPath('../data/metadata/2019-06-11_meta.json'), PosixPath('../data/metadata/2019-06-12_meta.json'), PosixPath('../data/metadata/2019-06-13_meta.json'), PosixPath('../data/metadata/2019-06-14_meta.json'), PosixPath('../data/metadata/2019-06-15_meta.json'), PosixPath('../data/metadata/2019-06-16_meta.json'), PosixPath('../data/metadata/2019-06-17_meta.json'), PosixPath('../data/metadata/2019-06-18_meta.json'), PosixPath('../data/metadata/2019-06-19_meta.json'), PosixPath('../data/metadata/2019-06-20_meta.json'), PosixPath('../data/metadata/2019-06-21_meta.json'), PosixPath('../data/metadata/2019-06-22_meta.json'), PosixPath('../data/metadata/2019-06-23_meta.json'), PosixPath('../data/metadata/2019-06-24_meta.json'), PosixPath('../data/metadata/2019-06-25_meta.json'), PosixPath('../data/metadata/2019-06-26_meta.json'), PosixPath('../data/metadata/2019-06-27_meta.json'), PosixPath('../data/metadata/2019-06-28_meta.json'), PosixPath('../data/metadata/2019-06-29_meta.json'), PosixPath('../data/metadata/2019-06-30_meta.json'), PosixPath('../data/metadata/2019-07-01_meta.json'), PosixPath('../data/metadata/2019-07-02_meta.json'), PosixPath('../data/metadata/2019-07-03_meta.json'), PosixPath('../data/metadata/2019-07-04_meta.json'), PosixPath('../data/metadata/2019-07-05_meta.json'), PosixPath('../data/metadata/2019-07-06_meta.json'), PosixPath('../data/metadata/2019-07-07_meta.json'), PosixPath('../data/metadata/2019-07-08_meta.json'), PosixPath('../data/metadata/2019-07-09_meta.json'), PosixPath('../data/metadata/2019-07-10_meta.json'), PosixPath('../data/metadata/2019-07-11_meta.json'), PosixPath('../data/metadata/2019-07-12_meta.json'), PosixPath('../data/metadata/2019-07-13_meta.json'), PosixPath('../data/metadata/2019-07-14_meta.json'), PosixPath('../data/metadata/2019-07-15_meta.json'), PosixPath('../data/metadata/2019-07-16_meta.json'), PosixPath('../data/metadata/2019-07-17_meta.json'), PosixPath('../data/metadata/2019-07-18_meta.json'), PosixPath('../data/metadata/2019-07-19_meta.json'), PosixPath('../data/metadata/2019-07-20_meta.json'), PosixPath('../data/metadata/2019-07-21_meta.json'), PosixPath('../data/metadata/2019-07-22_meta.json'), PosixPath('../data/metadata/2019-07-23_meta.json'), PosixPath('../data/metadata/2019-07-24_meta.json'), PosixPath('../data/metadata/2019-07-25_meta.json'), PosixPath('../data/metadata/2019-07-26_meta.json'), PosixPath('../data/metadata/2019-07-27_meta.json'), PosixPath('../data/metadata/2019-07-28_meta.json'), PosixPath('../data/metadata/2019-07-29_meta.json'), PosixPath('../data/metadata/2019-07-30_meta.json'), PosixPath('../data/metadata/2019-07-31_meta.json'), PosixPath('../data/metadata/2019-08-01_meta.json'), PosixPath('../data/metadata/2019-08-02_meta.json'), PosixPath('../data/metadata/2019-08-03_meta.json'), PosixPath('../data/metadata/2019-08-04_meta.json'), PosixPath('../data/metadata/2019-08-05_meta.json'), PosixPath('../data/metadata/2019-08-06_meta.json'), PosixPath('../data/metadata/2019-08-07_meta.json'), PosixPath('../data/metadata/2019-08-08_meta.json'), PosixPath('../data/metadata/2019-08-09_meta.json'), PosixPath('../data/metadata/2019-08-10_meta.json'), PosixPath('../data/metadata/2019-08-11_meta.json'), PosixPath('../data/metadata/2019-08-12_meta.json'), PosixPath('../data/metadata/2019-08-13_meta.json'), PosixPath('../data/metadata/2019-08-14_meta.json'), PosixPath('../data/metadata/2019-08-15_meta.json'), PosixPath('../data/metadata/2019-08-16_meta.json'), PosixPath('../data/metadata/2019-08-17_meta.json'), PosixPath('../data/metadata/2019-08-18_meta.json'), PosixPath('../data/metadata/2019-08-19_meta.json'), PosixPath('../data/metadata/2019-08-20_meta.json'), PosixPath('../data/metadata/2019-08-21_meta.json'), PosixPath('../data/metadata/2019-08-22_meta.json'), PosixPath('../data/metadata/2019-08-23_meta.json'), PosixPath('../data/metadata/2019-08-24_meta.json'), PosixPath('../data/metadata/2019-08-25_meta.json'), PosixPath('../data/metadata/2019-08-26_meta.json'), PosixPath('../data/metadata/2019-08-27_meta.json'), PosixPath('../data/metadata/2019-08-28_meta.json'), PosixPath('../data/metadata/2019-08-29_meta.json'), PosixPath('../data/metadata/2019-08-30_meta.json'), PosixPath('../data/metadata/2019-08-31_meta.json'), PosixPath('../data/metadata/2019-09-01_meta.json'), PosixPath('../data/metadata/2019-09-02_meta.json'), PosixPath('../data/metadata/2019-09-03_meta.json'), PosixPath('../data/metadata/2019-09-04_meta.json'), PosixPath('../data/metadata/2019-09-05_meta.json'), PosixPath('../data/metadata/2019-09-06_meta.json'), PosixPath('../data/metadata/2019-09-07_meta.json'), PosixPath('../data/metadata/2019-09-08_meta.json'), PosixPath('../data/metadata/2019-09-09_meta.json'), PosixPath('../data/metadata/2019-09-10_meta.json'), PosixPath('../data/metadata/2019-09-11_meta.json'), PosixPath('../data/metadata/2019-09-12_meta.json'), PosixPath('../data/metadata/2019-09-13_meta.json'), PosixPath('../data/metadata/2019-09-14_meta.json'), PosixPath('../data/metadata/2019-09-15_meta.json'), PosixPath('../data/metadata/2019-09-16_meta.json'), PosixPath('../data/metadata/2019-09-17_meta.json'), PosixPath('../data/metadata/2019-09-18_meta.json'), PosixPath('../data/metadata/2019-09-19_meta.json'), PosixPath('../data/metadata/2019-09-20_meta.json'), PosixPath('../data/metadata/2019-09-21_meta.json'), PosixPath('../data/metadata/2019-09-22_meta.json'), PosixPath('../data/metadata/2019-09-23_meta.json'), PosixPath('../data/metadata/2019-09-24_meta.json'), PosixPath('../data/metadata/2019-09-25_meta.json'), PosixPath('../data/metadata/2019-09-26_meta.json'), PosixPath('../data/metadata/2019-09-27_meta.json'), PosixPath('../data/metadata/2019-09-28_meta.json'), PosixPath('../data/metadata/2019-09-29_meta.json'), PosixPath('../data/metadata/2019-09-30_meta.json')]\n"
     ]
    }
   ],
   "source": [
    "print(metadata_files)"
   ]
  },
  {
   "cell_type": "code",
   "execution_count": 15,
   "metadata": {},
   "outputs": [
    {
     "name": "stderr",
     "output_type": "stream",
     "text": [
      "100%|██████████| 122/122 [00:00<00:00, 1059.82it/s]\n"
     ]
    }
   ],
   "source": [
    "events = []\n",
    "input_dir = Path(\"../data/compressed\")\n",
    "event_files = sorted(input_dir.glob(\"*-*-*.npy\"))\n",
    "event_file_shapes = []\n",
    "for f in event_files:\n",
    "    with open(f, 'rb') as fp:\n",
    "        event_file_shapes.append(np.load(fp).shape[0])\n",
    "            \n",
    "event_i = 0\n",
    "for f in tqdm(metadata_files):\n",
    "    if f.as_posix() in ['../data/metadata/2019-09-22_meta.json', '../data/metadata/2019-09-21_meta.json']:\n",
    "        continue\n",
    "    with open(f, 'rb') as fp:\n",
    "        new_events = json.load(fp).get('events', [])\n",
    "        date = f.as_posix()[17:27]\n",
    "        for i in range(len(new_events)):\n",
    "            new_events[i]['date'] = date\n",
    "        #diff_events_num = abs(event_file_shapes[event_i] - len(new_events))\n",
    "        \n",
    "        #if diff_events_num != 0:\n",
    "        #    new_events = new_events[:-diff_events_num]\n",
    "            \n",
    "        events.extend(new_events)\n",
    "    event_i += 1"
   ]
  },
  {
   "cell_type": "code",
   "execution_count": 16,
   "metadata": {},
   "outputs": [
    {
     "name": "stdout",
     "output_type": "stream",
     "text": [
      "35679\n",
      "{'mag': 0.79, 'mag_type': 'Ml', 'lat': 36.1131667, 'lng': -117.672, 'depth': 2.25, 'x': 36.91671564599437, 'y': 100.98352958753125, 'z': 2.25, 'date': '2019-06-10'}\n"
     ]
    }
   ],
   "source": [
    "print(len(events))\n",
    "print(events[69])"
   ]
  },
  {
   "cell_type": "code",
   "execution_count": 18,
   "metadata": {},
   "outputs": [],
   "source": [
    "with open('../data/acc/compressed/event_metadata.json','w') as fd:\n",
    "    json.dump(events, fd)"
   ]
  },
  {
   "cell_type": "code",
   "execution_count": 12,
   "metadata": {},
   "outputs": [],
   "source": [
    "input_dir = Path(\"./data/compressed\")\n",
    "event_files = sorted(input_dir.glob(\"*-*-*.npy\"))"
   ]
  },
  {
   "cell_type": "code",
   "execution_count": 13,
   "metadata": {},
   "outputs": [
    {
     "name": "stdout",
     "output_type": "stream",
     "text": [
      "[PosixPath('2019-06-01.npy'), PosixPath('2019-06-02.npy'), PosixPath('2019-06-03.npy'), PosixPath('2019-06-04.npy'), PosixPath('2019-06-05.npy'), PosixPath('2019-06-06.npy'), PosixPath('2019-06-07.npy'), PosixPath('2019-06-08.npy'), PosixPath('2019-06-09.npy'), PosixPath('2019-06-10.npy'), PosixPath('2019-06-11.npy'), PosixPath('2019-06-12.npy'), PosixPath('2019-06-13.npy'), PosixPath('2019-06-14.npy'), PosixPath('2019-06-15.npy'), PosixPath('2019-06-16.npy'), PosixPath('2019-06-17.npy'), PosixPath('2019-06-18.npy'), PosixPath('2019-06-19.npy'), PosixPath('2019-06-20.npy'), PosixPath('2019-06-21.npy'), PosixPath('2019-06-22.npy'), PosixPath('2019-06-23.npy'), PosixPath('2019-06-24.npy'), PosixPath('2019-06-25.npy'), PosixPath('2019-06-26.npy'), PosixPath('2019-06-27.npy'), PosixPath('2019-06-28.npy'), PosixPath('2019-06-29.npy'), PosixPath('2019-06-30.npy'), PosixPath('2019-07-01.npy'), PosixPath('2019-07-02.npy'), PosixPath('2019-07-03.npy'), PosixPath('2019-07-04.npy'), PosixPath('2019-07-05.npy'), PosixPath('2019-07-06.npy'), PosixPath('2019-07-07.npy'), PosixPath('2019-07-08.npy'), PosixPath('2019-07-09.npy'), PosixPath('2019-07-10.npy'), PosixPath('2019-07-11.npy'), PosixPath('2019-07-12.npy'), PosixPath('2019-07-13.npy'), PosixPath('2019-07-14.npy'), PosixPath('2019-07-15.npy'), PosixPath('2019-07-16.npy'), PosixPath('2019-07-17.npy'), PosixPath('2019-07-18.npy'), PosixPath('2019-07-19.npy'), PosixPath('2019-07-20.npy'), PosixPath('2019-07-21.npy'), PosixPath('2019-07-22.npy'), PosixPath('2019-07-23.npy'), PosixPath('2019-07-24.npy'), PosixPath('2019-07-25.npy'), PosixPath('2019-07-26.npy'), PosixPath('2019-07-27.npy'), PosixPath('2019-07-28.npy'), PosixPath('2019-07-29.npy'), PosixPath('2019-07-30.npy'), PosixPath('2019-07-31.npy'), PosixPath('2019-08-01.npy'), PosixPath('2019-08-02.npy'), PosixPath('2019-08-03.npy'), PosixPath('2019-08-04.npy'), PosixPath('2019-08-05.npy'), PosixPath('2019-08-06.npy'), PosixPath('2019-08-07.npy'), PosixPath('2019-08-08.npy'), PosixPath('2019-08-09.npy'), PosixPath('2019-08-10.npy'), PosixPath('2019-08-11.npy'), PosixPath('2019-08-12.npy'), PosixPath('2019-08-13.npy'), PosixPath('2019-08-14.npy'), PosixPath('2019-08-15.npy'), PosixPath('2019-08-16.npy'), PosixPath('2019-08-17.npy'), PosixPath('2019-08-18.npy'), PosixPath('2019-08-19.npy'), PosixPath('2019-08-20.npy'), PosixPath('2019-08-21.npy'), PosixPath('2019-08-22.npy'), PosixPath('2019-08-23.npy'), PosixPath('2019-08-24.npy'), PosixPath('2019-08-25.npy'), PosixPath('2019-08-26.npy'), PosixPath('2019-08-27.npy'), PosixPath('2019-08-28.npy'), PosixPath('2019-08-29.npy'), PosixPath('2019-08-30.npy'), PosixPath('2019-08-31.npy'), PosixPath('2019-09-01.npy'), PosixPath('2019-09-02.npy'), PosixPath('2019-09-03.npy'), PosixPath('2019-09-04.npy'), PosixPath('2019-09-05.npy'), PosixPath('2019-09-06.npy'), PosixPath('2019-09-07.npy'), PosixPath('2019-09-08.npy'), PosixPath('2019-09-09.npy'), PosixPath('2019-09-10.npy'), PosixPath('2019-09-11.npy'), PosixPath('2019-09-12.npy'), PosixPath('2019-09-13.npy'), PosixPath('2019-09-14.npy'), PosixPath('2019-09-15.npy'), PosixPath('2019-09-16.npy'), PosixPath('2019-09-17.npy'), PosixPath('2019-09-18.npy'), PosixPath('2019-09-19.npy'), PosixPath('2019-09-20.npy'), PosixPath('2019-09-23.npy'), PosixPath('2019-09-24.npy'), PosixPath('2019-09-25.npy'), PosixPath('2019-09-26.npy'), PosixPath('2019-09-27.npy'), PosixPath('2019-09-28.npy'), PosixPath('2019-09-29.npy'), PosixPath('2019-09-30.npy')]\n"
     ]
    }
   ],
   "source": [
    "print(event_files)"
   ]
  },
  {
   "cell_type": "code",
   "execution_count": 14,
   "metadata": {},
   "outputs": [
    {
     "name": "stdout",
     "output_type": "stream",
     "text": [
      "2/2019-06-\n",
      "2/2019-06-\n",
      "2/2019-06-\n",
      "2/2019-06-\n",
      "2/2019-06-\n",
      "2/2019-06-\n",
      "2/2019-06-\n",
      "2/2019-06-\n",
      "2/2019-06-\n",
      "2/2019-06-\n",
      "2/2019-06-\n",
      "2/2019-06-\n",
      "2/2019-06-\n",
      "2/2019-06-\n",
      "2/2019-06-\n",
      "2/2019-06-\n",
      "2/2019-06-\n",
      "2/2019-06-\n",
      "2/2019-06-\n",
      "2/2019-06-\n",
      "2/2019-06-\n",
      "2/2019-06-\n",
      "2/2019-06-\n",
      "2/2019-06-\n",
      "2/2019-06-\n",
      "2/2019-06-\n",
      "2/2019-06-\n",
      "2/2019-06-\n",
      "2/2019-06-\n",
      "2/2019-06-\n",
      "2/2019-07-\n",
      "2/2019-07-\n",
      "2/2019-07-\n",
      "2/2019-07-\n",
      "2/2019-07-\n",
      "2/2019-07-\n",
      "2/2019-07-\n",
      "2/2019-07-\n",
      "2/2019-07-\n",
      "2/2019-07-\n",
      "2/2019-07-\n",
      "2/2019-07-\n",
      "2/2019-07-\n",
      "2/2019-07-\n",
      "2/2019-07-\n",
      "2/2019-07-\n",
      "2/2019-07-\n",
      "2/2019-07-\n",
      "2/2019-07-\n",
      "2/2019-07-\n",
      "2/2019-07-\n",
      "2/2019-07-\n",
      "2/2019-07-\n",
      "2/2019-07-\n",
      "2/2019-07-\n",
      "2/2019-07-\n",
      "2/2019-07-\n",
      "2/2019-07-\n",
      "2/2019-07-\n",
      "2/2019-07-\n",
      "2/2019-07-\n",
      "2/2019-08-\n",
      "2/2019-08-\n",
      "2/2019-08-\n",
      "2/2019-08-\n",
      "2/2019-08-\n",
      "2/2019-08-\n",
      "2/2019-08-\n",
      "2/2019-08-\n",
      "2/2019-08-\n",
      "2/2019-08-\n",
      "2/2019-08-\n",
      "2/2019-08-\n",
      "2/2019-08-\n",
      "2/2019-08-\n",
      "2/2019-08-\n",
      "2/2019-08-\n",
      "2/2019-08-\n",
      "2/2019-08-\n",
      "2/2019-08-\n",
      "2/2019-08-\n",
      "2/2019-08-\n",
      "2/2019-08-\n",
      "2/2019-08-\n",
      "2/2019-08-\n",
      "2/2019-08-\n",
      "2/2019-08-\n",
      "2/2019-08-\n",
      "2/2019-08-\n",
      "2/2019-08-\n",
      "2/2019-08-\n",
      "2/2019-08-\n",
      "2/2019-09-\n",
      "2/2019-09-\n",
      "2/2019-09-\n",
      "2/2019-09-\n",
      "2/2019-09-\n",
      "2/2019-09-\n",
      "2/2019-09-\n",
      "2/2019-09-\n",
      "2/2019-09-\n",
      "2/2019-09-\n",
      "2/2019-09-\n",
      "2/2019-09-\n",
      "2/2019-09-\n",
      "2/2019-09-\n",
      "2/2019-09-\n",
      "2/2019-09-\n",
      "2/2019-09-\n",
      "2/2019-09-\n",
      "2/2019-09-\n",
      "2/2019-09-\n",
      "2/2019-09-\n",
      "2/2019-09-\n",
      "2/2019-09-\n",
      "2/2019-09-\n",
      "2/2019-09-\n",
      "2/2019-09-\n",
      "2/2019-09-\n",
      "2/2019-09-\n",
      "2/2019-09-\n",
      "2/2019-09-\n"
     ]
    }
   ],
   "source": [
    "for file in metadata_files:\n",
    "    date = file.as_posix()[12:22]\n",
    "    nonposix_event_files = [f.as_posix() for f in event_files]\n",
    "    if f\"{date}.npy\" not in nonposix_event_files:\n",
    "        print(date)"
   ]
  },
  {
   "cell_type": "code",
   "execution_count": 15,
   "metadata": {},
   "outputs": [
    {
     "name": "stdout",
     "output_type": "stream",
     "text": [
      "[{'mag': 0.96, 'mag_type': 'Ml', 'lat': 35.6931667, 'lng': -117.5996667, 'depth': 3.26, 'x': 44.95981163345288, 'y': 54.28166039681639, 'z': 3.26}, {'mag': 1.15, 'mag_type': 'Ml', 'lat': 36.0923333, 'lng': -117.8946667, 'depth': 4.04, 'x': 12.157308273307864, 'y': 98.66696120277442, 'z': 4.04}, {'mag': 0.77, 'mag_type': 'Ml', 'lat': 35.8965, 'lng': -117.6805, 'depth': 2.24, 'x': 35.97155876951585, 'y': 76.89129177471291, 'z': 2.24}, {'mag': 1.29, 'mag_type': 'Ml', 'lat': 36.0968333, 'lng': -117.8996667, 'depth': 3.52, 'x': 11.601333640085574, 'y': 99.16733837267495, 'z': 3.52}, {'mag': 1.27, 'mag_type': 'Ml', 'lat': 36.0923333, 'lng': -117.9036667, 'depth': 3.63, 'x': 11.156553933506796, 'y': 98.66696120277442, 'z': 3.63}, {'mag': 1.04, 'mag_type': 'Ml', 'lat': 35.595, 'lng': -117.5795, 'depth': 4.15, 'x': 47.20224636061618, 'y': 43.36602139137797, 'z': 4.15}, {'mag': 0.67, 'mag_type': 'Ml', 'lat': 35.9261667, 'lng': -117.7603333, 'depth': 7.6, 'x': 27.09450083222233, 'y': 80.19007830499903, 'z': 7.6}, {'mag': 1.15, 'mag_type': 'Ml', 'lat': 35.6431667, 'lng': -117.4463333, 'depth': 2.36, 'x': 62.009707798612986, 'y': 48.72191406458877, 'z': 2.36}, {'mag': 1.11, 'mag_type': 'Ml', 'lat': 35.746, 'lng': -117.58, 'depth': 2.1, 'x': 47.14664889729364, 'y': 60.15645531470671, 'z': 2.1}, {'mag': 0.77, 'mag_type': 'Ml', 'lat': 35.7153333, 'lng': -117.5803333, 'depth': 7.06, 'x': 47.10958762824208, 'y': 56.7464738577755, 'z': 7.06}, {'mag': 1.14, 'mag_type': 'Ml', 'lat': 36.0725, 'lng': -117.3355, 'depth': 1.9, 'x': 74.33380846188848, 'y': 96.46159886415467, 'z': 1.9}, {'mag': 0.46, 'mag_type': 'Ml', 'lat': 35.8996667, 'lng': -117.673, 'depth': 4.57, 'x': 36.80552071934928, 'y': 77.24341274891759, 'z': 4.57}, {'mag': 0.81, 'mag_type': 'Ml', 'lat': 35.7228333, 'lng': -117.5136667, 'depth': 1.14, 'x': 54.52257532488477, 'y': 57.58043580760972, 'z': 1.14}, {'mag': 1.44, 'mag_type': 'Ml', 'lat': 35.6488333, 'lng': -117.4996667, 'depth': 4.58, 'x': 56.07930429790812, 'y': 49.35201123591259, 'z': 4.58}, {'mag': 0.99, 'mag_type': 'Ml', 'lat': 35.6646667, 'lng': -117.4811667, 'depth': 2.6, 'x': 58.1364104408328, 'y': 51.112604987446346, 'z': 2.6}, {'mag': 0.83, 'mag_type': 'Ml', 'lat': 35.7265, 'lng': -117.5533333, 'depth': 3.34, 'x': 50.111850647645284, 'y': 57.988154245137736, 'z': 3.34}, {'mag': 0.9, 'mag_type': 'Ml', 'lat': 35.6285, 'lng': -117.4351667, 'depth': 6.65, 'x': 63.25137706648322, 'y': 47.09105143397109, 'z': 6.65}, {'mag': 0.85, 'mag_type': 'Ml', 'lat': 35.6423333, 'lng': -117.5481667, 'depth': 10.56, 'x': 50.68635035564814, 'y': 48.62924421272267, 'z': 10.56}, {'mag': 0.81, 'mag_type': 'Ml', 'lat': 35.7186667, 'lng': -117.5508333, 'depth': 7.21, 'x': 50.38983796425801, 'y': 57.11713102625275, 'z': 7.21}, {'mag': 1.88, 'mag_type': 'Ml', 'lat': 36.0745, 'lng': -117.3335, 'depth': 2.21, 'x': 74.55619831517708, 'y': 96.68398871744407, 'z': 2.21}, {'mag': 1.64, 'mag_type': 'Ml', 'lat': 36.0973333, 'lng': -117.899, 'depth': 4.02, 'x': 11.67546729767911, 'y': 99.22293583599749, 'z': 4.02}, {'mag': 1.02, 'mag_type': 'Ml', 'lat': 35.8816667, 'lng': -117.6955, 'depth': 2.18, 'x': 34.30363486984741, 'y': 75.24190406931545, 'z': 2.18}, {'mag': 0.98, 'mag_type': 'Ml', 'lat': 35.6495, 'lng': -117.444, 'depth': 5.03, 'x': 62.269158920953146, 'y': 49.426144893506915, 'z': 5.03}, {'mag': 2.08, 'mag_type': 'Ml', 'lat': 35.7901667, 'lng': -117.6335, 'depth': 1.16, 'x': 41.19772032180978, 'y': 65.06756828133874, 'z': 1.16}, {'mag': 1.15, 'mag_type': 'Ml', 'lat': 35.6513333, 'lng': -117.4521667, 'depth': 7.49, 'x': 61.361063313524596, 'y': 49.62999855252373, 'z': 7.49}, {'mag': 0.84, 'mag_type': 'Ml', 'lat': 35.9673333, 'lng': -117.5073333, 'depth': 1.15, 'x': 55.2268172732957, 'y': 84.76759537220457, 'z': 1.15}, {'mag': 1.85, 'mag_type': 'Ml', 'lat': 35.9191667, 'lng': -117.7131667, 'depth': 2.02, 'x': 32.339187459295246, 'y': 79.41171381848656, 'z': 2.02}, {'mag': 1.26, 'mag_type': 'Ml', 'lat': 35.6823333, 'lng': -117.5525, 'depth': 1.53, 'x': 50.20450938001938, 'y': 53.07704127850571, 'z': 1.53}, {'mag': 1.08, 'mag_type': 'Ml', 'lat': 35.5475, 'lng': -117.3435, 'depth': 7.28, 'x': 73.44424904873092, 'y': 38.08426237576149, 'z': 7.28}, {'mag': 1.02, 'mag_type': 'Ml', 'lat': 35.664, 'lng': -117.49, 'depth': 4.39, 'x': 57.1541922953043, 'y': 51.03847132985281, 'z': 4.39}, {'mag': 0.98, 'mag_type': 'Ml', 'lat': 35.8545, 'lng': -117.6773333, 'depth': 2.03, 'x': 36.323679743720525, 'y': 72.22110485564126, 'z': 2.03}, {'mag': 0.95, 'mag_type': 'Ml', 'lat': 35.9185, 'lng': -117.7146667, 'depth': 1.43, 'x': 32.17239506932919, 'y': 79.33758016089303, 'z': 1.43}, {'mag': 0.7, 'mag_type': 'Ml', 'lat': 35.7066667, 'lng': -117.5275, 'depth': 6.93, 'x': 52.9843825461324, 'y': 55.78279190651799, 'z': 6.93}, {'mag': 0.75, 'mag_type': 'Ml', 'lat': 35.9206667, 'lng': -117.7126667, 'depth': 2.02, 'x': 32.394784922617795, 'y': 79.5785062084534, 'z': 2.02}, {'mag': 0.33, 'mag_type': 'Ml', 'lat': 35.6838333, 'lng': -117.5068333, 'depth': 4.97, 'x': 55.28241473661825, 'y': 53.243833668472554, 'z': 4.97}, {'mag': 0.62, 'mag_type': 'Ml', 'lat': 35.744, 'lng': -117.5515, 'depth': 2.12, 'x': 50.31570430666289, 'y': 59.93406546141732, 'z': 2.12}, {'mag': 1.03, 'mag_type': 'Ml', 'lat': 35.8813333, 'lng': -117.7046667, 'depth': 11.78, 'x': 33.28434433577377, 'y': 75.20483168077268, 'z': 11.78}, {'mag': 0.6, 'mag_type': 'Ml', 'lat': 35.953, 'lng': -117.473, 'depth': 3.53, 'x': 59.04450604826135, 'y': 83.17380513013045, 'z': 3.53}, {'mag': 0.8, 'mag_type': 'Ml', 'lat': 35.9221667, 'lng': -117.7155, 'depth': 1.22, 'x': 32.079736336955094, 'y': 79.74529859842025, 'z': 1.22}, {'mag': 0.51, 'mag_type': 'Ml', 'lat': 35.699, 'lng': -117.5378333, 'depth': 1.76, 'x': 51.83537201063627, 'y': 54.93029376241199, 'z': 1.76}, {'mag': 1.13, 'mag_type': 'Ml', 'lat': 35.8876667, 'lng': -117.6848333, 'depth': 1.77, 'x': 35.489717793887095, 'y': 75.90907362918283, 'z': 1.77}, {'mag': 2.04, 'mag_type': 'Ml', 'lat': 35.9026667, 'lng': -117.6808333, 'depth': 1.92, 'x': 35.934497500464296, 'y': 77.57699752885128, 'z': 1.92}, {'mag': 1.26, 'mag_type': 'Ml', 'lat': 35.4016667, 'lng': -117.2068333, 'depth': 0.56, 'x': 88.64089272998555, 'y': 21.86833927992761, 'z': 0.56}, {'mag': 1.22, 'mag_type': 'Ml', 'lat': 35.6961667, 'lng': -117.5331667, 'depth': 6.8, 'x': 52.354274255316575, 'y': 54.61524517675008, 'z': 6.8}, {'mag': 0.85, 'mag_type': 'Ml', 'lat': 35.6218333, 'lng': -117.382, 'depth': 10.07, 'x': 69.16324437291551, 'y': 46.34974821650939, 'z': 10.07}, {'mag': 1.48, 'mag_type': 'Ml', 'lat': 35.6496667, 'lng': -117.4723333, 'depth': 6.63, 'x': 59.11863970585488, 'y': 49.4446810877779, 'z': 6.63}, {'mag': 1.33, 'mag_type': 'Ml', 'lat': 35.8798333, 'lng': -117.6925, 'depth': 7.7, 'x': 34.637219649781095, 'y': 75.03803929080584, 'z': 7.7}, {'mag': 0.99, 'mag_type': 'Ml', 'lat': 35.7063333, 'lng': -117.5308333, 'depth': 8.97, 'x': 52.613736497148736, 'y': 55.74571951797443, 'z': 8.97}, {'mag': 0.84, 'mag_type': 'Ml', 'lat': 35.9021667, 'lng': -117.6895, 'depth': 1.97, 'x': 34.97080442971478, 'y': 77.52140006552952, 'z': 1.97}, {'mag': 1.81, 'mag_type': 'Ml', 'lat': 35.5385, 'lng': -117.3606667, 'depth': 8.29, 'x': 71.5353991015029, 'y': 37.08350803596043, 'z': 8.29}, {'mag': 0.93, 'mag_type': 'Ml', 'lat': 35.7026667, 'lng': -117.4931667, 'depth': 2.66, 'x': 56.80207132109804, 'y': 55.33801219994, 'z': 2.66}, {'mag': 0.64, 'mag_type': 'Ml', 'lat': 35.8958333, 'lng': -117.738, 'depth': 8.23, 'x': 29.57785048745322, 'y': 76.81715811711858, 'z': 8.23}, {'mag': 1.57, 'mag_type': 'Ml', 'lat': 35.6496667, 'lng': -117.4531667, 'depth': 4.2, 'x': 61.24986838688109, 'y': 49.4446810877779, 'z': 4.2}, {'mag': 0.61, 'mag_type': 'Ml', 'lat': 35.8926667, 'lng': -117.7211667, 'depth': 7.31, 'x': 31.44962804613927, 'y': 76.46504826240592, 'z': 7.31}, {'mag': 1.16, 'mag_type': 'Ml', 'lat': 35.673, 'lng': -117.4856667, 'depth': 4.79, 'x': 57.636033270933055, 'y': 52.03922566965388, 'z': 4.79}, {'mag': 1.49, 'mag_type': 'Ml', 'lat': 35.5905, 'lng': -117.4156667, 'depth': 7.07, 'x': 65.4196781360514, 'y': 42.86564422147744, 'z': 7.07}, {'mag': 0.98, 'mag_type': 'Ml', 'lat': 35.8396683, 'lng': -117.6728363, 'depth': 7.9, 'x': 36.82372332884118, 'y': 70.57189506212694, 'z': 7.9}, {'mag': 1.01, 'mag_type': 'Ml', 'lat': 35.9246667, 'lng': -117.7195, 'depth': 1.66, 'x': 31.634956630377896, 'y': 80.02328591503219, 'z': 1.66}, {'mag': 0.94, 'mag_type': 'Ml', 'lat': 35.61, 'lng': -117.4211667, 'depth': 2.46, 'x': 64.80810603950657, 'y': 45.033945291046415, 'z': 2.46}, {'mag': 1.71, 'mag_type': 'Ml', 'lat': 35.7631667, 'lng': -117.587, 'depth': 2.19, 'x': 46.36828441078117, 'y': 62.065305261935535, 'z': 2.19}, {'mag': 1.11, 'mag_type': 'Ml', 'lat': 35.6458333, 'lng': -117.4681667, 'depth': 3.05, 'x': 59.581944487212645, 'y': 49.0184264559789, 'z': 3.05}, {'mag': 0.36, 'mag_type': 'Ml', 'lat': 35.8843333, 'lng': -117.6765, 'depth': 5.34, 'x': 36.416338476093046, 'y': 75.53841646070637, 'z': 5.34}, {'mag': 0.62, 'mag_type': 'Ml', 'lat': 35.904, 'lng': -117.7033333, 'depth': 1.45, 'x': 33.43261165096242, 'y': 77.72525372454713, 'z': 1.45}, {'mag': 1.01, 'mag_type': 'Ml', 'lat': 35.5611667, 'lng': -117.5298333, 'depth': 9.6, 'x': 52.72493142379225, 'y': 39.60393007973487, 'z': 9.6}, {'mag': 0.45, 'mag_type': 'Ml', 'lat': 35.8326667, 'lng': -117.6408333, 'depth': 6.58, 'x': 40.38229456624734, 'y': 69.79335266373214, 'z': 6.58}, {'mag': 1.25, 'mag_type': 'Ml', 'lat': 35.5891667, 'lng': -117.4948333, 'depth': 8.49, 'x': 56.616753856353, 'y': 42.71738802578237, 'z': 8.49}, {'mag': -0.17, 'mag_type': 'Ml', 'lat': 35.693, 'lng': -117.5025, 'depth': 10.35, 'x': 55.764255712247, 'y': 54.26312420254461, 'z': 10.35}, {'mag': 0.96, 'mag_type': 'Ml', 'lat': 36.0803333, 'lng': -117.8678333, 'depth': 2.35, 'x': 15.141046217932077, 'y': 97.33262208303965, 'z': 2.35}, {'mag': 2.05, 'mag_type': 'Ml', 'lat': 35.525, 'lng': -117.3813333, 'depth': 8.53, 'x': 69.23737803051064, 'y': 35.58237652625883, 'z': 8.53}, {'mag': 0.98, 'mag_type': 'Ml', 'lat': 35.7691667, 'lng': -117.546, 'depth': 12.76, 'x': 50.92727640320772, 'y': 62.73247482180291, 'z': 12.76}, {'mag': 1.35, 'mag_type': 'Ml', 'lat': 35.5325, 'lng': -117.3961667, 'depth': 8.41, 'x': 67.58797920562118, 'y': 36.416338476093046, 'z': 8.41}, {'mag': 0.89, 'mag_type': 'Ml', 'lat': 35.9088333, 'lng': -117.6971667, 'depth': 2.64, 'x': 34.11830628560878, 'y': 78.26269216349763, 'z': 2.64}, {'mag': 1.65, 'mag_type': 'Ml', 'lat': 35.9811667, 'lng': -117.7736667, 'depth': 5.55, 'x': 25.611894397298926, 'y': 86.30579927044973, 'z': 5.55}, {'mag': 1.59, 'mag_type': 'Ml', 'lat': 35.9833333, 'lng': -117.7746667, 'depth': 5.57, 'x': 25.500699470655416, 'y': 86.54671419851732, 'z': 5.57}, {'mag': 1.36, 'mag_type': 'Ml', 'lat': 36.0971667, 'lng': -117.9048333, 'depth': 3.36, 'x': 11.026833932082722, 'y': 99.20441076121851, 'z': 3.36}, {'mag': 1.05, 'mag_type': 'Ml', 'lat': 35.6743333, 'lng': -117.4811667, 'depth': 4.81, 'x': 58.1364104408328, 'y': 52.18748186534894, 'z': 4.81}, {'mag': 0.65, 'mag_type': 'Ml', 'lat': 35.7473333, 'lng': -117.545, 'depth': 0.73, 'x': 51.03847132985281, 'y': 60.30471151040177, 'z': 0.73}, {'mag': 0.88, 'mag_type': 'Ml', 'lat': 35.6376667, 'lng': -117.4356667, 'depth': 4.38, 'x': 63.19577960316067, 'y': 48.110341968043144, 'z': 4.38}, {'mag': 0.76, 'mag_type': 'Ml', 'lat': 35.922, 'lng': -117.7131667, 'depth': 3.42, 'x': 32.339187459295246, 'y': 79.72676240414847, 'z': 3.42}, {'mag': 0.77, 'mag_type': 'Ml', 'lat': 35.8563333, 'lng': -117.692, 'depth': 2.34, 'x': 34.69281711310364, 'y': 72.42495851465887, 'z': 2.34}, {'mag': 1.66, 'mag_type': 'Ml', 'lat': 35.795, 'lng': -117.6261667, 'depth': 2.99, 'x': 42.01314607737223, 'y': 65.60500672029004, 'z': 2.99}, {'mag': 1.96, 'mag_type': 'Ml', 'lat': 35.8776667, 'lng': -117.6898333, 'depth': 6.57, 'x': 34.93374316066323, 'y': 74.79712436273746, 'z': 6.57}, {'mag': 0.93, 'mag_type': 'Ml', 'lat': 35.6285, 'lng': -117.4458333, 'depth': 7.99, 'x': 62.065305261935535, 'y': 47.09105143397109, 'z': 7.99}, {'mag': 0.97, 'mag_type': 'Ml', 'lat': 35.3333333, 'lng': -117.8855, 'depth': 4.77, 'x': 13.176598807381499, 'y': 14.270011879554296, 'z': 4.77}, {'mag': 0.78, 'mag_type': 'Ml', 'lat': 35.8885, 'lng': -117.6898333, 'depth': 2.87, 'x': 34.93374316066323, 'y': 76.00173236155614, 'z': 2.87}, {'mag': 1.02, 'mag_type': 'Ml', 'lat': 35.7213333, 'lng': -117.5705, 'depth': 7.01, 'x': 48.20300070041725, 'y': 57.413643417642874, 'z': 7.01}, {'mag': 0.76, 'mag_type': 'Ml', 'lat': 35.9058333, 'lng': -117.6915, 'depth': 2.5, 'x': 34.74841457642461, 'y': 77.92910738356395, 'z': 2.5}, {'mag': 1.57, 'mag_type': 'Ml', 'lat': 35.975, 'lng': -117.3485, 'depth': 3.62, 'x': 72.88827441550865, 'y': 85.62009351631058, 'z': 3.62}, {'mag': 1.14, 'mag_type': 'Ml', 'lat': 35.9646667, 'lng': -117.3725, 'depth': 2.74, 'x': 70.21959617603913, 'y': 84.47108298081444, 'z': 2.74}, {'mag': 0.94, 'mag_type': 'Ml', 'lat': 35.8121667, 'lng': -117.6286667, 'depth': 2.21, 'x': 41.73515876076108, 'y': 67.51385666751885, 'z': 2.21}, {'mag': 1.16, 'mag_type': 'Ml', 'lat': 36.0938333, 'lng': -117.8853333, 'depth': 3.16, 'x': 13.195135001652488, 'y': 98.83375359274126, 'z': 3.16}, {'mag': 1.24, 'mag_type': 'Ml', 'lat': 35.9068333, 'lng': -117.6943333, 'depth': 2.25, 'x': 34.433365990763484, 'y': 78.04030231020904, 'z': 2.25}, {'mag': 0.74, 'mag_type': 'Ml', 'lat': 35.8255, 'lng': -117.7173333, 'depth': 7.18, 'x': 31.875882677937483, 'y': 68.99645198294867, 'z': 7.18}, {'mag': 2.18, 'mag_type': 'Ml', 'lat': 35.6533333, 'lng': -117.4511667, 'depth': 2.41, 'x': 61.47225824016969, 'y': 49.85238840581312, 'z': 2.41}]\n",
      "[{'mag': 0.71, 'mag_type': 'Ml', 'lat': 35.6558333, 'lng': -117.5063333, 'depth': 4.55, 'x': 55.33801219994079, 'y': 50.13037572242427, 'z': 4.55}, {'mag': 1.22, 'mag_type': 'Ml', 'lat': 35.6803333, 'lng': -117.5045, 'depth': 10.15, 'x': 55.5418658589584, 'y': 52.854651425216325, 'z': 10.15}, {'mag': 1.34, 'mag_type': 'Ml', 'lat': 35.643, 'lng': -117.4501667, 'depth': 3.82, 'x': 61.58345316681478, 'y': 48.70337787031699, 'z': 3.82}, {'mag': 0.79, 'mag_type': 'Ml', 'lat': 35.8765, 'lng': -117.7015, 'depth': 7.62, 'x': 33.636465309980025, 'y': 74.66739324182139, 'z': 7.62}, {'mag': 0.77, 'mag_type': 'Ml', 'lat': 35.895, 'lng': -117.746, 'depth': 1.44, 'x': 28.68829107429724, 'y': 76.72449938474607, 'z': 1.44}, {'mag': 1.5, 'mag_type': 'Ml', 'lat': 35.6055, 'lng': -117.4781667, 'depth': 7.94, 'x': 58.469995220766485, 'y': 44.53356812114588, 'z': 7.94}, {'mag': 1.02, 'mag_type': 'Ml', 'lat': 35.7388333, 'lng': -117.5601667, 'depth': 7.56, 'x': 49.35201123591338, 'y': 59.35955463392325, 'z': 7.56}, {'mag': 1.18, 'mag_type': 'Ml', 'lat': 36.1071667, 'lng': -117.85, 'depth': 3.88, 'x': 17.12401870326322, 'y': 100.31636002766388, 'z': 3.88}, {'mag': 0.47, 'mag_type': 'Ml', 'lat': 35.684, 'lng': -117.4771667, 'depth': 3.71, 'x': 58.581190147411576, 'y': 53.26236986274355, 'z': 3.71}, {'mag': 0.93, 'mag_type': 'Ml', 'lat': 35.7773333, 'lng': -117.5828333, 'depth': 1.3, 'x': 46.831600311630936, 'y': 63.64055930973866, 'z': 1.3}, {'mag': 0.86, 'mag_type': 'Ml', 'lat': 35.8445, 'lng': -117.651, 'depth': 5.57, 'x': 39.25180910553019, 'y': 71.10915558919511, 'z': 5.57}, {'mag': 0.55, 'mag_type': 'Ml', 'lat': 35.9276667, 'lng': -117.717, 'depth': 6.88, 'x': 31.91294394698904, 'y': 80.35687069496588, 'z': 6.88}, {'mag': 0.96, 'mag_type': 'Ml', 'lat': 35.6716667, 'lng': -117.529, 'depth': 10.77, 'x': 52.81759015616635, 'y': 51.89096947395881, 'z': 10.77}, {'mag': 0.51, 'mag_type': 'Ml', 'lat': 35.9461667, 'lng': -117.666, 'depth': 2.56, 'x': 37.58388520586175, 'y': 82.41397683788976, 'z': 2.56}, {'mag': 0.77, 'mag_type': 'Ml', 'lat': 35.6641667, 'lng': -117.4836667, 'depth': 6.04, 'x': 57.85842312422165, 'y': 51.05700752412459, 'z': 6.04}, {'mag': 1.53, 'mag_type': 'Ml', 'lat': 35.6381667, 'lng': -117.4686667, 'depth': 4.75, 'x': 59.5263470238901, 'y': 48.16593943136569, 'z': 4.75}, {'mag': 1.92, 'mag_type': 'Ml', 'lat': 35.9061667, 'lng': -117.6801667, 'depth': 3.52, 'x': 36.00862003856582, 'y': 77.96617977210751, 'z': 3.52}, {'mag': 0.74, 'mag_type': 'Ml', 'lat': 35.8171667, 'lng': -117.6418333, 'depth': 6.75, 'x': 40.27109963960225, 'y': 68.06983130074194, 'z': 6.75}, {'mag': 1.49, 'mag_type': 'Ml', 'lat': 35.7816667, 'lng': -117.5946667, 'depth': 1.68, 'x': 45.515786266675164, 'y': 64.12241140486022, 'z': 1.68}, {'mag': 1.45, 'mag_type': 'Ml', 'lat': 35.9883333, 'lng': -117.357, 'depth': 0.92, 'x': 71.94311753903013, 'y': 87.1026888317404, 'z': 0.92}, {'mag': 0.54, 'mag_type': 'Ml', 'lat': 35.9328333, 'lng': -117.6913333, 'depth': 4.39, 'x': 34.76695077069717, 'y': 80.93137040296715, 'z': 4.39}, {'mag': 2.54, 'mag_type': 'Ml', 'lat': 36.0196667, 'lng': -117.3611667, 'depth': 4.15, 'x': 71.47980163818035, 'y': 90.58680394626514, 'z': 4.15}, {'mag': 1.07, 'mag_type': 'Ml', 'lat': 36.0643333, 'lng': -117.8533333, 'depth': 2.19, 'x': 16.753372654277978, 'y': 95.55350325672691, 'z': 2.19}, {'mag': 1.22, 'mag_type': 'Ml', 'lat': 35.8906667, 'lng': -117.7241667, 'depth': 6.68, 'x': 31.116043266205583, 'y': 76.24265840911652, 'z': 6.68}, {'mag': 0.91, 'mag_type': 'Ml', 'lat': 35.645, 'lng': -117.6045, 'depth': 9.25, 'x': 44.42237319450158, 'y': 48.92576772360638, 'z': 9.25}, {'mag': 0.98, 'mag_type': 'Ml', 'lat': 35.6345, 'lng': -117.4308333, 'depth': 2.78, 'x': 63.73322916160398, 'y': 47.75822099383847, 'z': 2.78}, {'mag': 0.8, 'mag_type': 'Ml', 'lat': 35.9613333, 'lng': -117.5115, 'depth': 2.5, 'x': 54.76350137244594, 'y': 84.10042581233719, 'z': 2.5}, {'mag': 0.97, 'mag_type': 'Ml', 'lat': 36.1141667, 'lng': -117.8805, 'depth': 4.87, 'x': 13.732573440603787, 'y': 101.09472451417555, 'z': 4.87}, {'mag': -0.06, 'mag_type': 'Ml', 'lat': 35.617, 'lng': -117.489, 'depth': 6.14, 'x': 57.26538722194781, 'y': 45.81230977755809, 'z': 6.14}, {'mag': 1.0, 'mag_type': 'Ml', 'lat': 35.7001667, 'lng': -117.552, 'depth': 9.37, 'x': 50.260106843340346, 'y': 55.06002488332807, 'z': 9.37}, {'mag': 1.35, 'mag_type': 'Ml', 'lat': 36.0683333, 'lng': -117.8578333, 'depth': 2.18, 'x': 16.252995484378232, 'y': 95.9982829633049, 'z': 2.18}, {'mag': 0.94, 'mag_type': 'Ml', 'lat': 35.7835, 'lng': -117.6213333, 'depth': 8.74, 'x': 42.550595635815526, 'y': 64.32626506387703, 'z': 8.74}, {'mag': 1.09, 'mag_type': 'Ml', 'lat': 35.6198333, 'lng': -117.4475, 'depth': 4.57, 'x': 61.87997667769691, 'y': 46.12735836322079, 'z': 4.57}, {'mag': 0.75, 'mag_type': 'Ml', 'lat': 35.6503333, 'lng': -117.4528333, 'depth': 3.87, 'x': 61.28694077542465, 'y': 49.518803625879436, 'z': 3.87}, {'mag': 0.62, 'mag_type': 'Ml', 'lat': 35.9028333, 'lng': -117.7195, 'depth': 2.42, 'x': 31.634956630377896, 'y': 77.59552260363026, 'z': 2.42}, {'mag': 1.01, 'mag_type': 'Ml', 'lat': 35.8706667, 'lng': -117.7046667, 'depth': 5.27, 'x': 33.28434433577377, 'y': 74.01875987622579, 'z': 5.27}, {'mag': 0.39, 'mag_type': 'Ml', 'lat': 35.72, 'lng': -117.4996667, 'depth': 2.02, 'x': 56.07930429790812, 'y': 57.26538722194781, 'z': 2.02}, {'mag': 0.82, 'mag_type': 'Ml', 'lat': 35.6093333, 'lng': -117.4653333, 'depth': 5.38, 'x': 59.89700419236735, 'y': 44.95981163345288, 'z': 5.38}, {'mag': 1.04, 'mag_type': 'Ml', 'lat': 35.94, 'lng': -117.7065, 'depth': 2.35, 'x': 33.08049067675616, 'y': 81.72827108375061, 'z': 2.35}, {'mag': 0.7, 'mag_type': 'Ml', 'lat': 35.665, 'lng': -117.5333333, 'depth': 9.27, 'x': 52.33574918053759, 'y': 51.14966625649711, 'z': 9.27}, {'mag': 1.07, 'mag_type': 'Ml', 'lat': 35.719, 'lng': -117.491, 'depth': 4.16, 'x': 57.042997368659215, 'y': 57.15419229530351, 'z': 4.16}, {'mag': 0.99, 'mag_type': 'Ml', 'lat': 35.6913333, 'lng': -117.4805, 'depth': 4.27, 'x': 58.21054409842633, 'y': 54.077795618305984, 'z': 4.27}, {'mag': 1.14, 'mag_type': 'Ml', 'lat': 35.9075, 'lng': -117.6848333, 'depth': 1.77, 'x': 35.489717793887095, 'y': 78.11443596780258, 'z': 1.77}, {'mag': 0.56, 'mag_type': 'Ml', 'lat': 35.8113333, 'lng': -117.6316667, 'depth': 10.97, 'x': 41.40157398082739, 'y': 67.42118681565354, 'z': 10.97}, {'mag': 1.39, 'mag_type': 'Ml', 'lat': 35.6258333, 'lng': -117.4601667, 'depth': 8.64, 'x': 60.47150390036862, 'y': 46.79452792308738, 'z': 8.64}, {'mag': 1.09, 'mag_type': 'Ml', 'lat': 35.3583333, 'lng': -117.8218333, 'depth': 7.09, 'x': 20.2560128435825, 'y': 17.049885045668105, 'z': 7.09}, {'mag': 0.83, 'mag_type': 'Ml', 'lat': 36.036, 'lng': -117.7765, 'depth': 1.38, 'x': 25.29684581163781, 'y': 92.40298404162866, 'z': 1.38}, {'mag': 1.24, 'mag_type': 'Ml', 'lat': 35.8576667, 'lng': -117.6941667, 'depth': 5.43, 'x': 34.45189106554247, 'y': 72.57322582984673, 'z': 5.43}, {'mag': 1.23, 'mag_type': 'Ml', 'lat': 35.7556667, 'lng': -117.5801667, 'depth': 0.53, 'x': 47.12811270302107, 'y': 61.23134331210131, 'z': 0.53}, {'mag': 1.58, 'mag_type': 'Ml', 'lat': 35.8883333, 'lng': -117.7313333, 'depth': 4.25, 'x': 30.31915370491413, 'y': 75.98319616728436, 'z': 4.25}, {'mag': 1.8, 'mag_type': 'Ml', 'lat': 36.068, 'lng': -117.8598333, 'depth': 1.94, 'x': 16.030605631088054, 'y': 95.96122169425414, 'z': 1.94}, {'mag': 0.69, 'mag_type': 'Ml', 'lat': 35.781, 'lng': -117.6051667, 'depth': 7.28, 'x': 44.348239536908046, 'y': 64.04827774726589, 'z': 7.28}, {'mag': 0.54, 'mag_type': 'Ml', 'lat': 35.8961667, 'lng': -117.6891667, 'depth': 7.53, 'x': 35.00786569876476, 'y': 76.85423050566214, 'z': 7.53}, {'mag': 0.7, 'mag_type': 'Ml', 'lat': 35.605, 'lng': -117.4856667, 'depth': 7.48, 'x': 57.636033270933055, 'y': 44.477970657823334, 'z': 7.48}, {'mag': 1.31, 'mag_type': 'Ml', 'lat': 35.6951667, 'lng': -117.531, 'depth': 4.29, 'x': 52.595200302876165, 'y': 54.50405025010578, 'z': 4.29}, {'mag': 1.0, 'mag_type': 'Ml', 'lat': 35.7435, 'lng': -117.5571667, 'depth': 1.38, 'x': 49.68559601584707, 'y': 59.87846799809478, 'z': 1.38}, {'mag': 1.59, 'mag_type': 'Ml', 'lat': 35.5498333, 'lng': -117.4676667, 'depth': 3.65, 'x': 59.63754195053519, 'y': 38.34371349810165, 'z': 3.65}, {'mag': 3.44, 'mag_type': 'Ml', 'lat': 35.5418333, 'lng': -117.4508333, 'depth': 5.34, 'x': 61.50933062871324, 'y': 37.45415408494488, 'z': 5.34}, {'mag': 0.79, 'mag_type': 'Ml', 'lat': 35.6765, 'lng': -117.4746667, 'depth': 2.61, 'x': 58.85917746402272, 'y': 52.42840791290932, 'z': 2.61}, {'mag': 0.77, 'mag_type': 'Ml', 'lat': 35.9298333, 'lng': -117.7053333, 'depth': 2.12, 'x': 33.21022179767224, 'y': 80.59778562303346, 'z': 2.12}, {'mag': 1.07, 'mag_type': 'Ml', 'lat': 36.0696667, 'lng': -117.8658333, 'depth': 2.51, 'x': 15.363436071220676, 'y': 96.14655027849277, 'z': 2.51}, {'mag': 1.3, 'mag_type': 'Ml', 'lat': 35.633, 'lng': -117.4325, 'depth': 4.72, 'x': 63.547900577365354, 'y': 47.59142860387163, 'z': 4.72}, {'mag': 1.12, 'mag_type': 'Ml', 'lat': 35.6701667, 'lng': -117.4853333, 'depth': 3.21, 'x': 57.67310565947661, 'y': 51.72417708399197, 'z': 3.21}, {'mag': 0.91, 'mag_type': 'Ml', 'lat': 35.7123333, 'lng': -117.512, 'depth': 4.39, 'x': 54.70790390912339, 'y': 56.41288907784181, 'z': 4.39}, {'mag': 0.86, 'mag_type': 'Ml', 'lat': 35.6886667, 'lng': -117.5473333, 'depth': 4.51, 'x': 50.77902020751266, 'y': 53.78128322691586, 'z': 4.51}, {'mag': 1.5, 'mag_type': 'Ml', 'lat': 35.6648333, 'lng': -117.49, 'depth': 5.07, 'x': 57.1541922953043, 'y': 51.13113006222533, 'z': 5.07}, {'mag': 0.67, 'mag_type': 'Ml', 'lat': 35.9003333, 'lng': -117.6831667, 'depth': 2.42, 'x': 35.675035258632136, 'y': 77.31753528701911, 'z': 2.42}, {'mag': 1.69, 'mag_type': 'Ml', 'lat': 35.6338333, 'lng': -117.4293333, 'depth': 4.69, 'x': 63.90002155157161, 'y': 47.68408733624415, 'z': 4.69}, {'mag': 0.66, 'mag_type': 'Ml', 'lat': 35.8733333, 'lng': -117.6876667, 'depth': 8.96, 'x': 35.17465808873239, 'y': 74.31527226761592, 'z': 8.96}, {'mag': 1.06, 'mag_type': 'Ml', 'lat': 35.7745, 'lng': -117.5791667, 'depth': 10.11, 'x': 47.23930762966616, 'y': 63.32551072407676, 'z': 10.11}, {'mag': 1.54, 'mag_type': 'Ml', 'lat': 35.8335, 'lng': -117.6653333, 'depth': 0.61, 'x': 37.65801886345528, 'y': 69.88601139610545, 'z': 0.61}, {'mag': 1.05, 'mag_type': 'Ml', 'lat': 35.8795, 'lng': -117.6845, 'depth': 4.4, 'x': 35.526779062937074, 'y': 75.00097802175507, 'z': 4.4}, {'mag': 0.79, 'mag_type': 'Ml', 'lat': 35.9175, 'lng': -117.741, 'depth': 3.19, 'x': 29.244265707519528, 'y': 79.22638523424794, 'z': 3.19}, {'mag': 2.37, 'mag_type': 'Ml', 'lat': 35.6461667, 'lng': -117.4428333, 'depth': 8.23, 'x': 62.39889004186922, 'y': 49.05549884452246, 'z': 8.23}, {'mag': 1.13, 'mag_type': 'Ml', 'lat': 35.5688333, 'lng': -117.367, 'depth': 4.41, 'x': 70.83116827258397, 'y': 40.45641710434808, 'z': 4.41}, {'mag': 0.55, 'mag_type': 'Ml', 'lat': 35.8776667, 'lng': -117.6968333, 'depth': 6.54, 'x': 34.15537867415234, 'y': 74.79712436273746, 'z': 6.54}, {'mag': 0.76, 'mag_type': 'Ml', 'lat': 35.6788333, 'lng': -117.4681667, 'depth': 10.91, 'x': 59.581944487212645, 'y': 52.687859035249474, 'z': 10.91}, {'mag': 0.56, 'mag_type': 'Ml', 'lat': 35.8505, 'lng': -117.6466667, 'depth': 7.31, 'x': 39.73365008115895, 'y': 71.77632514906249, 'z': 7.31}, {'mag': 0.86, 'mag_type': 'Ml', 'lat': 35.7191667, 'lng': -117.4961667, 'depth': 2.65, 'x': 56.46848654116435, 'y': 57.17272848957529, 'z': 2.65}, {'mag': 1.03, 'mag_type': 'Ml', 'lat': 35.6743333, 'lng': -117.5483333, 'depth': 7.63, 'x': 50.66782528086915, 'y': 52.18748186534894, 'z': 7.63}, {'mag': 1.28, 'mag_type': 'Ml', 'lat': 35.7143333, 'lng': -117.577, 'depth': 6.74, 'x': 47.480233677227325, 'y': 56.6352789311312, 'z': 6.74}, {'mag': 2.33, 'mag_type': 'Ml', 'lat': 36.1936667, 'lng': -117.8851667, 'depth': 2.09, 'x': 13.213660076431474, 'y': 109.9347211824183, 'z': 2.09}, {'mag': 0.94, 'mag_type': 'Ml', 'lat': 35.8463333, 'lng': -117.6721667, 'depth': 10.95, 'x': 36.8981794517218, 'y': 71.31300924821272, 'z': 10.95}, {'mag': 0.63, 'mag_type': 'Ml', 'lat': 35.845, 'lng': -117.6728333, 'depth': 5.77, 'x': 36.82405691362185, 'y': 71.16475305251765, 'z': 5.77}, {'mag': 0.45, 'mag_type': 'Ml', 'lat': 35.9335, 'lng': -117.7028333, 'depth': 3.96, 'x': 33.48820911428496, 'y': 81.00550406056148, 'z': 3.96}]\n"
     ]
    }
   ],
   "source": [
    "from pathlib import Path\n",
    "\n",
    "with open(Path('../metadata_2/2019-09-22_meta.json'), 'rb') as fp:\n",
    "    events_meta = json.load(fp).get('events', [])\n",
    "    print(events_meta)\n",
    "    \n",
    "with open(Path('../metadata_2/2019-09-21_meta.json'), 'rb') as fp:\n",
    "    events_meta = json.load(fp).get('events', [])\n",
    "    print(events_meta)"
   ]
  },
  {
   "cell_type": "code",
   "execution_count": 54,
   "metadata": {},
   "outputs": [
    {
     "name": "stdout",
     "output_type": "stream",
     "text": [
      "../metadata/2019-07-06_meta.npy:\n",
      "1897\n",
      "1896\n",
      "../metadata/2019-07-11_meta.npy:\n",
      "1569\n",
      "1567\n",
      "../metadata/2019-07-12_meta.npy:\n",
      "1617\n",
      "1615\n",
      "../metadata/2019-07-17_meta.npy:\n",
      "739\n",
      "738\n",
      "../metadata/2019-07-24_meta.npy:\n",
      "473\n",
      "472\n",
      "../metadata/2019-07-26_meta.npy:\n",
      "645\n",
      "644\n",
      "../metadata/2019-07-29_meta.npy:\n",
      "371\n",
      "370\n",
      "../metadata/2019-08-06_meta.npy:\n",
      "227\n",
      "226\n",
      "../metadata/2019-08-19_meta.npy:\n",
      "258\n",
      "257\n",
      "../metadata/2019-08-20_meta.npy:\n",
      "229\n",
      "228\n",
      "../metadata/2019-08-22_meta.npy:\n",
      "358\n",
      "356\n",
      "../metadata/2019-08-23_meta.npy:\n",
      "424\n",
      "423\n",
      "../metadata/2019-08-29_meta.npy:\n",
      "213\n",
      "212\n",
      "../metadata/2019-08-30_meta.npy:\n",
      "203\n",
      "202\n",
      "../metadata/2019-09-01_meta.npy:\n",
      "240\n",
      "239\n",
      "../metadata/2019-09-13_meta.npy:\n",
      "158\n",
      "157\n",
      "../metadata/2019-09-14_meta.npy:\n",
      "171\n",
      "170\n",
      "../metadata/2019-09-23_meta.npy:\n",
      "132\n",
      "131\n"
     ]
    }
   ],
   "source": [
    "event_i = 0\n",
    "for i in range(len(metadata_files)):\n",
    "    f = metadata_files[i]\n",
    "    if f.as_posix() in ['../metadata/2019-09-22_meta.npy', '../metadata/2019-09-21_meta.npy']:\n",
    "        continue\n",
    "    n = event_files[event_i]\n",
    "    events_meta = None\n",
    "    events_npy = None\n",
    "    with open(f, 'rb') as fp:\n",
    "        events_meta = json.load(fp).get('events', [])\n",
    "    with open(n, 'rb') as fp:\n",
    "        events_npy = np.load(fp)\n",
    "    \n",
    "    event_i += 1\n",
    "    \n",
    "    if len(events_meta) - events_npy.shape[0] != 0:\n",
    "        print(f\"{f.as_posix()}:\")\n",
    "        print(len(events_meta))\n",
    "        print(events_npy.shape[0])"
   ]
  },
  {
   "cell_type": "code",
   "execution_count": null,
   "metadata": {},
   "outputs": [],
   "source": []
  }
 ],
 "metadata": {
  "kernelspec": {
   "display_name": "Python 3",
   "language": "python",
   "name": "python3"
  },
  "language_info": {
   "codemirror_mode": {
    "name": "ipython",
    "version": 3
   },
   "file_extension": ".py",
   "mimetype": "text/x-python",
   "name": "python",
   "nbconvert_exporter": "python",
   "pygments_lexer": "ipython3",
   "version": "3.7.4"
  }
 },
 "nbformat": 4,
 "nbformat_minor": 4
}
