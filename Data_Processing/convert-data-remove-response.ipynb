{
 "cells": [
  {
   "cell_type": "code",
   "execution_count": 1,
   "metadata": {},
   "outputs": [],
   "source": [
    "import obspy\n",
    "from pathlib import Path\n",
    "import datetime\n",
    "from tqdm import tqdm\n",
    "import pickle\n",
    "import numpy as np\n",
    "import multiprocessing\n",
    "import matplotlib\n",
    "import time\n",
    "import cProfile\n",
    "matplotlib.use('agg')\n",
    "one_day = datetime.timedelta(days=1)"
   ]
  },
  {
   "cell_type": "code",
   "execution_count": 2,
   "metadata": {},
   "outputs": [],
   "source": [
    "input_dir = Path(\"mseed\")\n",
    "output_dir = Path(\"data\")\n",
    "if not output_dir.exists():\n",
    "  output_dir.mkdir()\n",
    "figure_dir = Path(\"figure\")\n",
    "if not figure_dir.exists():\n",
    "  figure_dir.mkdir()"
   ]
  },
  {
   "cell_type": "code",
   "execution_count": 3,
   "metadata": {},
   "outputs": [],
   "source": [
    "from obspy.clients.fdsn import Client\n",
    "client = Client(\"SCEDC\")"
   ]
  },
  {
   "cell_type": "code",
   "execution_count": 4,
   "metadata": {},
   "outputs": [],
   "source": [
    "degree2km = np.pi*6371/180\n",
    "center = (35.705, -117.504)\n",
    "horizontal = 0.5\n",
    "vertical = 0.5"
   ]
  },
  {
   "cell_type": "code",
   "execution_count": 5,
   "metadata": {},
   "outputs": [],
   "source": [
    "def convert_event(raw):\n",
    "  event_list = []\n",
    "  for tmp in raw:\n",
    "    event_dict = {}\n",
    "    event_dict['time'] = tmp.origins[0].time\n",
    "    event_dict['mag'] = tmp.magnitudes[0].mag\n",
    "    event_dict['mag_type'] = tmp.magnitudes[0].magnitude_type\n",
    "    event_dict['lat'] = tmp.origins[0].latitude\n",
    "    event_dict['lng'] = tmp.origins[0].longitude\n",
    "    event_dict['depth'] = tmp.origins[0].depth / 1000\n",
    "    event_dict['x'] = (tmp.origins[0].longitude - (center[1]-horizontal))*degree2km\n",
    "    event_dict['y'] = (tmp.origins[0].latitude - (center[0]-vertical))*degree2km\n",
    "    event_dict['z'] = tmp.origins[0].depth / 1000\n",
    "#     print(\"Event: \", event_dict['x'], event_dict['y'], event_dict['depth'])\n",
    "    event_list.append(event_dict)\n",
    "  return event_list"
   ]
  },
  {
   "cell_type": "code",
   "execution_count": 6,
   "metadata": {},
   "outputs": [],
   "source": [
    "def convert_stream(stream, outfile):\n",
    "  stream = stream.sort(['network', 'station', 'channel'])\n",
    "  data_dict = {}\n",
    "  stations = {}\n",
    "  events = []\n",
    "  for trace in stream:\n",
    "#     print(trace)\n",
    "    station_id = \"{}.{}.{}\".format(trace.stats.network, trace.stats.station, trace.stats.location)\n",
    "    if station_id not in stations:\n",
    "      \n",
    "      if len(events) == 0:\n",
    "        try:\n",
    "          tmp_event = client.get_events(starttime=trace.stats.starttime, \n",
    "                                       endtime=trace.stats.endtime, \n",
    "                                       minlatitude=center[0]-vertical,\n",
    "                                       maxlatitude=center[0]+vertical,\n",
    "                                       minlongitude=center[1]-horizontal,\n",
    "                                       maxlongitude=center[1]+horizontal,\n",
    "                                       catalog=\"SCEDC\")\n",
    "          events = convert_event(tmp_event)\n",
    "        except Exception as e:\n",
    "          print(e)\n",
    "\n",
    "      stations[station_id] = {}\n",
    "      tmp_station = obspy.read_inventory(\"./stations.xml\").select(network=trace.stats.network,\n",
    "                                                                  station=trace.stats.station,\n",
    "                                                                  location=trace.stats.location)\n",
    "#       if station_id not in all_stations:\n",
    "#         tmp_station = client.get_stations(network = trace.stats.network,\n",
    "#                                    station = trace.stats.station,\n",
    "#                                    location = trace.stats.location,\n",
    "#                                    level=\"response\")\n",
    "#         all_stations[station_id] = tmp_station\n",
    "#       else:\n",
    "#         tmp_station = all_stations[station_id]\n",
    "        \n",
    "      stations[station_id]['lat'] = tmp_station[0][0].latitude\n",
    "      stations[station_id]['lng'] = tmp_station[0][0].longitude\n",
    "      stations[station_id]['x'] = (tmp_station[0][0].longitude - (center[1]-horizontal))*degree2km\n",
    "      stations[station_id]['y'] = (tmp_station[0][0].latitude - (center[0]-vertical))*degree2km\n",
    "# #       print(\"Station: \", stations[station_id]['x'], stations[station_id]['y'])\n",
    "      stations[station_id]['starttime'] = trace.stats.starttime\n",
    "      stations[station_id]['endtime'] = trace.stats.endtime\n",
    "      stations[station_id]['data'] = np.zeros([trace.data.shape[0], 3])\n",
    "    \n",
    "    trace = trace.remove_response(inventory=tmp_station, output='ACC')\n",
    "#     trace.plot(outfile = figure_dir.joinpath(outfile+\".{}.{}\".format(station_id, trace.stats.channel)+\".png\"))\n",
    "#     print(figure_dir.joinpath(outfile+\".{}.{}\".format(station_id, trace.stats.channel)+\".png\"))\n",
    "    if trace.stats.channel[-1] in ['E', '3']:\n",
    "      stations[station_id]['data'][:, 0] = np.float32(trace.data)\n",
    "    if trace.stats.channel[-1] in ['N', '2']:\n",
    "      stations[station_id]['data'][:, 1] = np.float32(trace.data)\n",
    "    if trace.stats.channel[-1] in ['Z', '1']:\n",
    "      stations[station_id]['data'][:, 2] = np.float32(trace.data)\n",
    "  \n",
    "  data_dict['events'] = events\n",
    "  data_dict['stations'] = stations\n",
    "  return data_dict"
   ]
  },
  {
   "cell_type": "code",
   "execution_count": 7,
   "metadata": {},
   "outputs": [],
   "source": [
    "def remove_short_trace(meta):\n",
    "  stream = obspy.Stream()\n",
    "  for trace in meta:\n",
    "    if trace.stats.endtime - trace.stats.starttime > 12*3600:\n",
    "      stream.append(trace)\n",
    "    else:\n",
    "      print(\"Remove trace: {}\".format(trace))\n",
    "  return stream"
   ]
  },
  {
   "cell_type": "code",
   "execution_count": 8,
   "metadata": {},
   "outputs": [],
   "source": [
    "def resample(meta, sampling_rate=100):\n",
    "  stream = obspy.Stream()\n",
    "  for trace in meta:\n",
    "    if trace.stats.sampling_rate == sampling_rate:\n",
    "      pass\n",
    "    elif (trace.stats.sampling_rate > sampling_rate) and (np.mod(trace.stats.sampling_rate, sampling_rate) == 0):\n",
    "      trace.decimate(int(trace.stats.sampling_rate/sampling_rate))\n",
    "    else:\n",
    "      print(\"Sampling rate of {} = {}\".format(trace, trace.stats.sampling_rate))\n",
    "      trace.resample(sampling_rate)\n",
    "    stream.append(trace)\n",
    "  return stream"
   ]
  },
  {
   "cell_type": "code",
   "execution_count": 9,
   "metadata": {
    "scrolled": false
   },
   "outputs": [
    {
     "name": "stderr",
     "output_type": "stream",
     "text": [
      "100%|██████████| 183/183 [00:00<00:00, 5865.89it/s]\n"
     ]
    }
   ],
   "source": [
    "files = sorted(input_dir.glob(\"*.mseed\"))\n",
    "\n",
    "# for f in tqdm(files):\n",
    "def process(f):\n",
    "#   print(str(f))\n",
    "  if output_dir.joinpath(f.name.rstrip('.mseed')+'.pkl').exists():\n",
    "#     print(\"Exist: {}\".format(output_dir.joinpath(f.name.rstrip('.mseed')+'.pkl')))\n",
    "    continue\n",
    "  else:\n",
    "    print(\"Processing: {}\".format(str(f)))\n",
    "\n",
    "  starttime = datetime.datetime.strptime(str(f).split('/')[-1].rstrip('.mseed'), \"%Y-%m-%d\")\n",
    "  starttime = obspy.UTCDateTime(starttime)\n",
    "  meta = obspy.read(str(f))\n",
    "  meta = meta.detrend('demean')\n",
    "  meta = meta.merge(fill_value=0)\n",
    "  meta = remove_short_trace(meta)\n",
    "#  meta.resample(sampling_rate=100)\n",
    "  meta = resample(meta)\n",
    "#   print(meta)\n",
    "  meta = meta.trim(starttime, starttime+one_day, pad=True, fill_value=0)\n",
    "  meta = meta.filter(\"highpass\", freq=1.0)\n",
    "#   meta.plot(outfile=figure_dir.joinpath(f.name.rstrip('.mseed')+'.png'))\n",
    "  data = convert_stream(meta, outfile=f.name.rstrip('.mseed'))\n",
    "  with open(output_dir.joinpath(f.name.rstrip('.mseed')+'.pkl'), 'wb') as fp:\n",
    "    pickle.dump(data, fp)\n",
    "  print(\"Write data: \", output_dir.joinpath(f.name.rstrip('.mseed')+'.pkl'))\n",
    "\n",
    "#   break"
   ]
  },
  {
   "cell_type": "code",
   "execution_count": null,
   "metadata": {},
   "outputs": [],
   "source": [
    "pool = multiprocessing.Pool(1)\n",
    "pool.map(process, files)"
   ]
  },
  {
   "cell_type": "raw",
   "metadata": {
    "lines_to_next_cell": 0
   },
   "source": [
    "cProfile.run(\"process(files[0])\", sort=\"cumtime\")"
   ]
  },
  {
   "cell_type": "code",
   "execution_count": null,
   "metadata": {},
   "outputs": [],
   "source": []
  }
 ],
 "metadata": {
  "jupytext": {
   "text_representation": {
    "extension": ".py",
    "format_name": "light",
    "format_version": "1.4",
    "jupytext_version": "1.2.4"
   }
  },
  "kernelspec": {
   "display_name": "Python 3",
   "language": "python",
   "name": "python3"
  },
  "language_info": {
   "codemirror_mode": {
    "name": "ipython",
    "version": 3
   },
   "file_extension": ".py",
   "mimetype": "text/x-python",
   "name": "python",
   "nbconvert_exporter": "python",
   "pygments_lexer": "ipython3",
   "version": "3.7.3"
  }
 },
 "nbformat": 4,
 "nbformat_minor": 2
}
