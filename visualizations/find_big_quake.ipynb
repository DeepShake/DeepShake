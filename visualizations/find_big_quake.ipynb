{
 "cells": [
  {
   "cell_type": "code",
   "execution_count": 1,
   "metadata": {},
   "outputs": [
    {
     "name": "stdout",
     "output_type": "stream",
     "text": [
      "Found earthquake with desired mag\n",
      "lat: 35.889, lng: -117.698, mag: 1.02, idx: 0\n",
      "Found earthquake with desired mag\n",
      "lat: 35.9631667, lng: -117.9906667, mag: 1.51, idx: 9\n",
      "Found earthquake with desired mag\n",
      "lat: 36.0733333, lng: -117.8491667, mag: 1.18, idx: 10\n",
      "Found earthquake with desired mag\n",
      "lat: 36.0738333, lng: -117.8541667, mag: 1.15, idx: 11\n",
      "Found earthquake with desired mag\n",
      "lat: 36.1141667, lng: -117.6651667, mag: 1.36, idx: 12\n",
      "Found earthquake with desired mag\n",
      "lat: 36.1171667, lng: -117.6668333, mag: 1.38, idx: 14\n",
      "Found earthquake with desired mag\n",
      "lat: 36.1203333, lng: -117.669, mag: 1.17, idx: 17\n",
      "Found earthquake with desired mag\n",
      "lat: 36.0475, lng: -117.6388333, mag: 1.37, idx: 18\n",
      "Found earthquake with desired mag\n",
      "lat: 35.9891667, lng: -117.0281667, mag: 1.64, idx: 19\n",
      "Found earthquake with desired mag\n",
      "lat: 35.9141667, lng: -117.2291667, mag: 1.1, idx: 28\n",
      "Found earthquake with desired mag\n",
      "lat: 36.119, lng: -117.6623333, mag: 1.2, idx: 32\n",
      "Found earthquake with desired mag\n",
      "lat: 36.1255, lng: -117.674, mag: 1.25, idx: 33\n",
      "Found earthquake with desired mag\n",
      "lat: 36.1175, lng: -117.6615, mag: 1.49, idx: 37\n",
      "Found earthquake with desired mag\n",
      "lat: 36.0193333, lng: -117.3968333, mag: 1.22, idx: 40\n",
      "Found earthquake with desired mag\n",
      "lat: 36.0136667, lng: -117.4036667, mag: 1.7, idx: 41\n",
      "Found earthquake with desired mag\n",
      "lat: 36.1566667, lng: -117.8636667, mag: 1.13, idx: 44\n",
      "Found earthquake with desired mag\n",
      "lat: 36.1566667, lng: -117.8596667, mag: 1.26, idx: 45\n",
      "Found earthquake with desired mag\n",
      "lat: 36.09, lng: -117.8766667, mag: 1.11, idx: 50\n",
      "Found earthquake with desired mag\n",
      "lat: 36.088, lng: -117.877, mag: 1.17, idx: 51\n",
      "Found earthquake with desired mag\n",
      "lat: 36.1171667, lng: -117.6698333, mag: 1.04, idx: 52\n",
      "Found earthquake with desired mag\n",
      "lat: 36.055, lng: -118.0033333, mag: 1.03, idx: 70\n",
      "Found earthquake with desired mag\n",
      "lat: 35.7505, lng: -117.6881667, mag: 1.45, idx: 74\n",
      "Found earthquake with desired mag\n",
      "lat: 36.1033333, lng: -117.8555, mag: 1.13, idx: 76\n",
      "Found earthquake with desired mag\n",
      "lat: 35.9878333, lng: -117.0288333, mag: 1.63, idx: 77\n",
      "Found earthquake with desired mag\n",
      "lat: 36.0725, lng: -117.8685, mag: 1.81, idx: 78\n",
      "Found earthquake with desired mag\n",
      "lat: 36.1216667, lng: -117.666, mag: 1.04, idx: 79\n",
      "Found earthquake with desired mag\n",
      "lat: 35.9281667, lng: -117.9493333, mag: 1.71, idx: 80\n",
      "Found earthquake with desired mag\n",
      "lat: 35.892, lng: -117.9795, mag: 1.85, idx: 81\n",
      "Found earthquake with desired mag\n",
      "lat: 36.1138333, lng: -117.671, mag: 1.26, idx: 91\n",
      "Found earthquake with desired mag\n",
      "lat: 36.1136667, lng: -117.6701667, mag: 1.06, idx: 94\n",
      "Found earthquake with desired mag\n",
      "lat: 36.1135, lng: -117.6741667, mag: 1.93, idx: 99\n",
      "Found earthquake with desired mag\n",
      "lat: 36.111, lng: -117.6713333, mag: 1.3, idx: 100\n",
      "Found earthquake with desired mag\n",
      "lat: 36.1123333, lng: -117.6731667, mag: 1.92, idx: 101\n"
     ]
    }
   ],
   "source": [
    "import json\n",
    "\n",
    "with open('../data/acc/compressed/event_metadata.json') as f:\n",
    "    meta = json.load(f)\n",
    "    for i in range(len(meta)):\n",
    "        quake = meta[i]\n",
    "        if float(quake['mag']) > 1.0 and float(quake['mag']) < 2.0:\n",
    "            print(\"Found earthquake with desired mag\")\n",
    "            print(f\"lat: {quake['lat']}, lng: {quake['lng']}, mag: {quake['mag']}, idx: {i}\")\n",
    "            if i > 100:\n",
    "                break"
   ]
  },
  {
   "cell_type": "code",
   "execution_count": null,
   "metadata": {},
   "outputs": [],
   "source": []
  }
 ],
 "metadata": {
  "kernelspec": {
   "display_name": "Python 3",
   "language": "python",
   "name": "python3"
  },
  "language_info": {
   "codemirror_mode": {
    "name": "ipython",
    "version": 3
   },
   "file_extension": ".py",
   "mimetype": "text/x-python",
   "name": "python",
   "nbconvert_exporter": "python",
   "pygments_lexer": "ipython3",
   "version": "3.7.4"
  }
 },
 "nbformat": 4,
 "nbformat_minor": 4
}
