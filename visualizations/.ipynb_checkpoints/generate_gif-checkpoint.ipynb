{
 "cells": [
  {
   "cell_type": "code",
   "execution_count": 6,
   "metadata": {},
   "outputs": [],
   "source": [
    "import sys\n",
    "from os.path import dirname\n",
    "sys.path.append(dirname(\"../\"))\n",
    "\n",
    "from utils.make_gif import generate_gifs\n",
    "import numpy as np"
   ]
  },
  {
   "cell_type": "code",
   "execution_count": 7,
   "metadata": {},
   "outputs": [
    {
     "name": "stderr",
     "output_type": "stream",
     "text": [
      "  0%|          | 0/60 [00:00<?, ?it/s]"
     ]
    },
    {
     "name": "stdout",
     "output_type": "stream",
     "text": [
      "(196, 60, 15)\n",
      "Generating plots for each timestep...\n"
     ]
    },
    {
     "name": "stderr",
     "output_type": "stream",
     "text": [
      "100%|██████████| 60/60 [00:26<00:00,  2.31it/s]\n",
      "  5%|▌         | 3/60 [00:00<00:02, 22.18it/s]"
     ]
    },
    {
     "name": "stdout",
     "output_type": "stream",
     "text": [
      "Combining plots to generate gif...\n"
     ]
    },
    {
     "name": "stderr",
     "output_type": "stream",
     "text": [
      "100%|██████████| 60/60 [00:02<00:00, 22.34it/s]\n"
     ]
    },
    {
     "name": "stdout",
     "output_type": "stream",
     "text": [
      "./figures/sample_gif.gif\n",
      "Clearing temp files...\n",
      "Gif stored at: ./figures/sample_gif.gif\n"
     ]
    }
   ],
   "source": [
    "data_file = '../data/compressed/2019-08-01.npy'\n",
    "\n",
    "with open(data_file, 'rb') as fd:\n",
    "    arr = np.load(fd)\n",
    "    arr = np.transpose(arr, [0, 2, 1])\n",
    "    print(arr.shape)\n",
    "    generate_gifs(\n",
    "        arr[5],\n",
    "        './figures',\n",
    "        'sample_gif.gif',\n",
    "        '../utils/ridgecrest.png',\n",
    "        predicted_intensities = np.ones(arr[5].shape) * 10,\n",
    "    )"
   ]
  },
  {
   "cell_type": "code",
   "execution_count": null,
   "metadata": {},
   "outputs": [],
   "source": []
  }
 ],
 "metadata": {
  "kernelspec": {
   "display_name": "Python 3",
   "language": "python",
   "name": "python3"
  },
  "language_info": {
   "codemirror_mode": {
    "name": "ipython",
    "version": 3
   },
   "file_extension": ".py",
   "mimetype": "text/x-python",
   "name": "python",
   "nbconvert_exporter": "python",
   "pygments_lexer": "ipython3",
   "version": "3.7.4"
  }
 },
 "nbformat": 4,
 "nbformat_minor": 4
}
