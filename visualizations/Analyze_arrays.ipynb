{
 "cells": [
  {
   "cell_type": "code",
   "execution_count": 4,
   "metadata": {},
   "outputs": [],
   "source": [
    "import numpy as np\n",
    "import matplotlib.pyplot as plt\n",
    "import seaborn as sns; sns.set()\n",
    "import os"
   ]
  },
  {
   "cell_type": "code",
   "execution_count": 5,
   "metadata": {},
   "outputs": [],
   "source": [
    "data_path = '../data/raw/'"
   ]
  },
  {
   "cell_type": "code",
   "execution_count": 6,
   "metadata": {},
   "outputs": [
    {
     "name": "stdout",
     "output_type": "stream",
     "text": [
      "2019-09-22.npy\n",
      "2019-06-12.npy\n",
      "2019-08-25.npy\n",
      "2019-07-31.npy\n",
      "2019-07-02.npy\n",
      "2019-07-07.npy\n",
      "2019-07-19.npy\n",
      "2019-07-17.npy\n",
      "2019-08-15.npy\n",
      "2019-08-04.npy\n",
      "2019-06-10.npy\n",
      "2019-08-10.npy\n",
      "2019-06-26.npy\n",
      "2019-09-30.npy\n",
      "2019-08-26.npy\n",
      "2019-09-13.npy\n",
      "2019-06-29.npy\n",
      "2019-08-13.npy\n",
      "2019-07-26.npy\n",
      "2019-07-21.npy\n",
      "2019-06-08.npy\n",
      "2019-07-15.npy\n",
      "2019-09-06.npy\n",
      "2019-09-11.npy\n",
      "2019-09-26.npy\n",
      "2019-06-04.npy\n",
      "2019-08-16.npy\n",
      "2019-07-18.npy\n",
      "2019-08-05.npy\n",
      "2019-07-08.npy\n",
      "2019-09-20.npy\n",
      "2019-08-12.npy\n",
      "2019-07-13.npy\n",
      "2019-09-16.npy\n",
      "2019-06-03.npy\n",
      "2019-06-30.npy\n",
      "2019-07-14.npy\n",
      "2019-07-22.npy\n",
      "2019-08-27.npy\n",
      "2019-07-25.npy\n",
      "2019-08-22.npy\n",
      "2019-06-19.npy\n",
      "2019-08-31.npy\n",
      "2019-08-11.npy\n",
      "2019-06-06.npy\n",
      "2019-06-27.npy\n",
      "2019-07-06.npy\n",
      "2019-06-07.npy\n",
      "2019-06-20.npy\n",
      "2019-08-24.npy\n",
      "2019-08-20.npy\n",
      "2019-09-23.npy\n",
      "2019-08-14.npy\n",
      "2019-06-16.npy\n",
      "2019-08-28.npy\n",
      "2019-09-29.npy\n",
      "2019-06-15.npy\n",
      "2019-07-28.npy\n",
      "2019-09-17.npy\n",
      "2019-08-23.npy\n",
      "2019-08-01.npy\n",
      "2019-09-02.npy\n",
      "2019-06-22.npy\n",
      "2019-09-04.npy\n",
      "2019-09-25.npy\n",
      "2019-09-19.npy\n",
      "2019-07-04.npy\n",
      "2019-07-16.npy\n",
      "2019-07-27.npy\n",
      "2019-09-09.npy\n",
      "2019-09-28.npy\n",
      "2019-07-11.npy\n",
      "2019-06-01.npy\n",
      "2019-06-11.npy\n",
      "2019-09-15.npy\n",
      "2019-08-30.npy\n",
      "2019-06-28.npy\n",
      "2019-07-23.npy\n",
      "2019-07-12.npy\n",
      "2019-06-09.npy\n",
      "2019-06-05.npy\n",
      "2019-09-03.npy\n",
      "2019-06-13.npy\n",
      "2019-09-27.npy\n",
      "2019-08-08.npy\n",
      "2019-09-07.npy\n",
      "2019-08-21.npy\n",
      "2019-09-08.npy\n",
      "2019-09-18.npy\n",
      "2019-09-24.npy\n",
      "2019-07-03.npy\n",
      "2019-06-18.npy\n",
      "2019-08-18.npy\n",
      "2019-08-03.npy\n",
      "2019-06-23.npy\n",
      "2019-06-02.npy\n",
      "2019-08-17.npy\n",
      "2019-09-21.npy\n",
      "2019-09-10.npy\n",
      "2019-08-09.npy\n",
      "2019-08-06.npy\n",
      "2019-07-05.npy\n",
      "2019-06-24.npy\n",
      "2019-07-09.npy\n",
      "2019-07-20.npy\n",
      "2019-09-14.npy\n",
      "2019-09-05.npy\n",
      "2019-08-29.npy\n",
      "2019-07-24.npy\n",
      "2019-09-01.npy\n",
      "2019-06-21.npy\n",
      "2019-07-29.npy\n",
      "2019-08-07.npy\n",
      "2019-07-01.npy\n",
      "2019-08-19.npy\n",
      "2019-08-02.npy\n",
      "2019-07-10.npy\n",
      "2019-07-30.npy\n",
      "2019-06-25.npy\n",
      "2019-06-14.npy\n",
      "2019-06-17.npy\n",
      "2019-09-12.npy\n"
     ]
    }
   ],
   "source": [
    "files = []\n",
    "with os.scandir(data_path) as it:\n",
    "    for entry in it:\n",
    "        print(entry.name)\n",
    "        files.append(entry)\n",
    "#         if not entry.name.startswith('.') and entry.is_file():\n",
    "#             print(entry.name)"
   ]
  },
  {
   "cell_type": "code",
   "execution_count": 7,
   "metadata": {},
   "outputs": [
    {
     "name": "stdout",
     "output_type": "stream",
     "text": [
      "(23, 94, 3, 6000)\n",
      "(16, 3, 3, 6000)\n",
      "(31, 267, 3, 6000)\n",
      "(28, 250, 3, 6000)\n",
      "(16, 12, 3, 6000)\n",
      "(19, 1235, 3, 6000)\n"
     ]
    },
    {
     "ename": "KeyboardInterrupt",
     "evalue": "",
     "output_type": "error",
     "traceback": [
      "\u001b[0;31m---------------------------------------------------------------------------\u001b[0m",
      "\u001b[0;31mKeyboardInterrupt\u001b[0m                         Traceback (most recent call last)",
      "\u001b[0;32m<ipython-input-7-257fd0623dfd>\u001b[0m in \u001b[0;36m<module>\u001b[0;34m\u001b[0m\n\u001b[1;32m      3\u001b[0m \u001b[0;32mfor\u001b[0m \u001b[0mfile\u001b[0m \u001b[0;32min\u001b[0m \u001b[0mfiles\u001b[0m\u001b[0;34m:\u001b[0m\u001b[0;34m\u001b[0m\u001b[0;34m\u001b[0m\u001b[0m\n\u001b[1;32m      4\u001b[0m \u001b[0;31m#     print(np.load(os.path.join(data_path, file)).shape)\u001b[0m\u001b[0;34m\u001b[0m\u001b[0;34m\u001b[0m\u001b[0;34m\u001b[0m\u001b[0m\n\u001b[0;32m----> 5\u001b[0;31m     \u001b[0mtemp\u001b[0m \u001b[0;34m=\u001b[0m \u001b[0mnp\u001b[0m\u001b[0;34m.\u001b[0m\u001b[0mload\u001b[0m\u001b[0;34m(\u001b[0m\u001b[0mfile\u001b[0m\u001b[0;34m)\u001b[0m\u001b[0;34m\u001b[0m\u001b[0;34m\u001b[0m\u001b[0m\n\u001b[0m\u001b[1;32m      6\u001b[0m     \u001b[0mprint\u001b[0m\u001b[0;34m(\u001b[0m\u001b[0mtemp\u001b[0m\u001b[0;34m.\u001b[0m\u001b[0mshape\u001b[0m\u001b[0;34m)\u001b[0m\u001b[0;34m\u001b[0m\u001b[0;34m\u001b[0m\u001b[0m\n\u001b[1;32m      7\u001b[0m     \u001b[0mstations\u001b[0m\u001b[0;34m.\u001b[0m\u001b[0mappend\u001b[0m\u001b[0;34m(\u001b[0m\u001b[0mtemp\u001b[0m\u001b[0;34m.\u001b[0m\u001b[0mshape\u001b[0m\u001b[0;34m[\u001b[0m\u001b[0;36m0\u001b[0m\u001b[0;34m]\u001b[0m\u001b[0;34m)\u001b[0m\u001b[0;34m\u001b[0m\u001b[0;34m\u001b[0m\u001b[0m\n",
      "\u001b[0;32m/opt/anaconda3/lib/python3.7/site-packages/numpy/lib/npyio.py\u001b[0m in \u001b[0;36mload\u001b[0;34m(file, mmap_mode, allow_pickle, fix_imports, encoding)\u001b[0m\n\u001b[1;32m    451\u001b[0m             \u001b[0;32melse\u001b[0m\u001b[0;34m:\u001b[0m\u001b[0;34m\u001b[0m\u001b[0;34m\u001b[0m\u001b[0m\n\u001b[1;32m    452\u001b[0m                 return format.read_array(fid, allow_pickle=allow_pickle,\n\u001b[0;32m--> 453\u001b[0;31m                                          pickle_kwargs=pickle_kwargs)\n\u001b[0m\u001b[1;32m    454\u001b[0m         \u001b[0;32melse\u001b[0m\u001b[0;34m:\u001b[0m\u001b[0;34m\u001b[0m\u001b[0;34m\u001b[0m\u001b[0m\n\u001b[1;32m    455\u001b[0m             \u001b[0;31m# Try a pickle\u001b[0m\u001b[0;34m\u001b[0m\u001b[0;34m\u001b[0m\u001b[0;34m\u001b[0m\u001b[0m\n",
      "\u001b[0;32m/opt/anaconda3/lib/python3.7/site-packages/numpy/lib/format.py\u001b[0m in \u001b[0;36mread_array\u001b[0;34m(fp, allow_pickle, pickle_kwargs)\u001b[0m\n\u001b[1;32m    736\u001b[0m         \u001b[0;32mif\u001b[0m \u001b[0misfileobj\u001b[0m\u001b[0;34m(\u001b[0m\u001b[0mfp\u001b[0m\u001b[0;34m)\u001b[0m\u001b[0;34m:\u001b[0m\u001b[0;34m\u001b[0m\u001b[0;34m\u001b[0m\u001b[0m\n\u001b[1;32m    737\u001b[0m             \u001b[0;31m# We can use the fast fromfile() function.\u001b[0m\u001b[0;34m\u001b[0m\u001b[0;34m\u001b[0m\u001b[0;34m\u001b[0m\u001b[0m\n\u001b[0;32m--> 738\u001b[0;31m             \u001b[0marray\u001b[0m \u001b[0;34m=\u001b[0m \u001b[0mnumpy\u001b[0m\u001b[0;34m.\u001b[0m\u001b[0mfromfile\u001b[0m\u001b[0;34m(\u001b[0m\u001b[0mfp\u001b[0m\u001b[0;34m,\u001b[0m \u001b[0mdtype\u001b[0m\u001b[0;34m=\u001b[0m\u001b[0mdtype\u001b[0m\u001b[0;34m,\u001b[0m \u001b[0mcount\u001b[0m\u001b[0;34m=\u001b[0m\u001b[0mcount\u001b[0m\u001b[0;34m)\u001b[0m\u001b[0;34m\u001b[0m\u001b[0;34m\u001b[0m\u001b[0m\n\u001b[0m\u001b[1;32m    739\u001b[0m         \u001b[0;32melse\u001b[0m\u001b[0;34m:\u001b[0m\u001b[0;34m\u001b[0m\u001b[0;34m\u001b[0m\u001b[0m\n\u001b[1;32m    740\u001b[0m             \u001b[0;31m# This is not a real file. We have to read it the\u001b[0m\u001b[0;34m\u001b[0m\u001b[0;34m\u001b[0m\u001b[0;34m\u001b[0m\u001b[0m\n",
      "\u001b[0;31mKeyboardInterrupt\u001b[0m: "
     ]
    }
   ],
   "source": [
    "# print(files)\n",
    "stations, events = [], []\n",
    "for file in files:\n",
    "#     print(np.load(os.path.join(data_path, file)).shape)\n",
    "    temp = np.load(file)\n",
    "    print(temp.shape)\n",
    "    stations.append(temp.shape[0])\n",
    "    events.append(temp.shape[1])\n",
    "    del temp\n"
   ]
  },
  {
   "cell_type": "code",
   "execution_count": null,
   "metadata": {},
   "outputs": [],
   "source": [
    "dates = [file.name for file in files]\n",
    "stat_evs = zip(stations, events)\n",
    "shapes = [(s, v, 3, 6000) for s, v in stat_evs]\n",
    "mapping = dict(zip(dates, shapes))\n",
    "print(mapping)"
   ]
  },
  {
   "cell_type": "code",
   "execution_count": 6,
   "metadata": {},
   "outputs": [],
   "source": [
    "import json\n",
    "with open('./misc/date_to_shape.json', 'w') as fp:\n",
    "    json.dump(mapping, fp)"
   ]
  },
  {
   "cell_type": "code",
   "execution_count": 7,
   "metadata": {},
   "outputs": [
    {
     "data": {
      "image/png": "[encoded data removed]",
      "text/plain": [
       "<Figure size 432x288 with 1 Axes>"
      ]
     },
     "metadata": {
      "needs_background": "light"
     },
     "output_type": "display_data"
    },
    {
     "data": {
      "image/png": "[encoded data removed]",
      "text/plain": [
       "<Figure size 432x288 with 1 Axes>"
      ]
     },
     "metadata": {
      "needs_background": "light"
     },
     "output_type": "display_data"
    }
   ],
   "source": [
    "plt.bar(dates, events)\n",
    "plt.ylabel(\"Events\")\n",
    "plt.show()\n",
    "\n",
    "plt.bar(dates, stations)\n",
    "plt.ylabel(\"Station counts\")\n",
    "plt.show()"
   ]
  },
  {
   "cell_type": "code",
   "execution_count": 8,
   "metadata": {},
   "outputs": [
    {
     "name": "stdout",
     "output_type": "stream",
     "text": [
      "35858\n"
     ]
    }
   ],
   "source": [
    "print(sum(events))"
   ]
  },
  {
   "cell_type": "code",
   "execution_count": 37,
   "metadata": {},
   "outputs": [
    {
     "name": "stdout",
     "output_type": "stream",
     "text": [
      "(16, 4, 3, 6000)\n"
     ]
    }
   ],
   "source": [
    "print(mapping['2019-06-07.npy'])"
   ]
  },
  {
   "cell_type": "code",
   "execution_count": 38,
   "metadata": {},
   "outputs": [],
   "source": [
    "rev_map = dict(zip(events, dates))"
   ]
  },
  {
   "cell_type": "code",
   "execution_count": 39,
   "metadata": {},
   "outputs": [
    {
     "name": "stdout",
     "output_type": "stream",
     "text": [
      "{94: '2019-09-22.npy', 3: '2019-06-23.npy', 267: '2019-08-25.npy', 250: '2019-07-31.npy', 12: '2019-06-15.npy', 1235: '2019-07-07.npy', 559: '2019-07-19.npy', 738: '2019-07-17.npy', 243: '2019-08-15.npy', 244: '2019-08-04.npy', 10: '2019-06-21.npy', 245: '2019-08-10.npy', 11: '2019-06-08.npy', 118: '2019-09-30.npy', 275: '2019-08-26.npy', 157: '2019-09-13.npy', 7: '2019-06-25.npy', 257: '2019-08-19.npy', 644: '2019-07-26.npy', 551: '2019-07-21.npy', 744: '2019-07-15.npy', 134: '2019-09-06.npy', 144: '2019-09-09.npy', 123: '2019-09-26.npy', 4: '2019-06-20.npy', 229: '2019-08-16.npy', 648: '2019-07-18.npy', 271: '2019-08-05.npy', 1335: '2019-07-08.npy', 99: '2019-09-20.npy', 316: '2019-08-12.npy', 836: '2019-07-13.npy', 83: '2019-09-16.npy', 2: '2019-06-11.npy', 5: '2019-06-17.npy', 731: '2019-07-14.npy', 545: '2019-07-22.npy', 251: '2019-08-27.npy', 463: '2019-07-25.npy', 356: '2019-08-22.npy', 6: '2019-06-24.npy', 233: '2019-08-28.npy', 290: '2019-08-11.npy', 15: '2019-06-06.npy', 1896: '2019-07-06.npy', 285: '2019-08-24.npy', 228: '2019-08-20.npy', 131: '2019-09-23.npy', 294: '2019-08-14.npy', 1: '2019-07-03.npy', 20: '2019-06-16.npy', 81: '2019-09-29.npy', 567: '2019-07-28.npy', 101: '2019-09-17.npy', 423: '2019-08-23.npy', 196: '2019-08-01.npy', 238: '2019-09-02.npy', 165: '2019-09-07.npy', 85: '2019-09-21.npy', 70: '2019-09-19.npy', 516: '2019-07-04.npy', 694: '2019-07-16.npy', 446: '2019-07-27.npy', 105: '2019-09-28.npy', 1567: '2019-07-11.npy', 114: '2019-09-15.npy', 202: '2019-08-30.npy', 495: '2019-07-23.npy', 1615: '2019-07-12.npy', 207: '2019-09-03.npy', 9: '2019-06-13.npy', 104: '2019-09-27.npy', 261: '2019-08-08.npy', 256: '2019-08-21.npy', 191: '2019-09-08.npy', 90: '2019-09-18.npy', 68: '2019-09-24.npy', 222: '2019-08-03.npy', 263: '2019-08-17.npy', 136: '2019-09-10.npy', 240: '2019-08-09.npy', 226: '2019-08-06.npy', 1224: '2019-07-05.npy', 1823: '2019-07-09.npy', 573: '2019-07-20.npy', 170: '2019-09-14.npy', 145: '2019-09-05.npy', 212: '2019-08-29.npy', 472: '2019-07-24.npy', 239: '2019-09-01.npy', 370: '2019-07-29.npy', 221: '2019-08-07.npy', 8: '2019-07-01.npy', 185: '2019-08-02.npy', 1831: '2019-07-10.npy', 398: '2019-07-30.npy', 173: '2019-09-12.npy'}\n"
     ]
    }
   ],
   "source": [
    "print(rev_map)"
   ]
  },
  {
   "cell_type": "code",
   "execution_count": null,
   "metadata": {},
   "outputs": [],
   "source": []
  }
 ],
 "metadata": {
  "kernelspec": {
   "display_name": "Python 3",
   "language": "python",
   "name": "python3"
  },
  "language_info": {
   "codemirror_mode": {
    "name": "ipython",
    "version": 3
   },
   "file_extension": ".py",
   "mimetype": "text/x-python",
   "name": "python",
   "nbconvert_exporter": "python",
   "pygments_lexer": "ipython3",
   "version": "3.7.6"
  }
 },
 "nbformat": 4,
 "nbformat_minor": 4
}
