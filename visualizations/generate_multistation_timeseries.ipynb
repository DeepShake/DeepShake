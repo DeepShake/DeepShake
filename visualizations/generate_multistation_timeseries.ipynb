{
 "cells": [
  {
   "cell_type": "code",
   "execution_count": 1,
   "metadata": {},
   "outputs": [],
   "source": [
    "import sys\n",
    "from os.path import dirname\n",
    "sys.path.append(dirname(\"../\"))\n",
    "\n",
    "from utils.make_timeplot import multi_step_plot\n",
    "import numpy as np\n",
    "import json"
   ]
  },
  {
   "cell_type": "code",
   "execution_count": 5,
   "metadata": {},
   "outputs": [
    {
     "name": "stderr",
     "output_type": "stream",
     "text": [
      "100%|██████████| 15/15 [00:00<00:00, 175.86it/s]\n"
     ]
    }
   ],
   "source": [
    "dataset = np.load('../data/compressed/full_data.npy')\n",
    "metadata = None\n",
    "with open('../data/compressed/event_metadata.json','r') as fd:\n",
    "    metadata = json.load(fd)\n",
    "\n",
    "# dataset = dataset.swapaxes(1, -1)\n",
    "# print(dataset.shape)\n",
    "\n",
    "history = dataset[420, :, :40]\n",
    "true_future = dataset[420, :, 40:]\n",
    "# print(history.shape)\n",
    "# print(true_future.shape)\n",
    "epicenter = (metadata[420]['lat'], metadata[420]['lng'])\n",
    "pred = np.ones(true_future.shape)\n",
    "pred = pred * np.mean(history, axis=1).reshape(-1, 1)\n",
    "multi_step_plot(history, true_future, './figures/sample_plot.png', epicenter, prediction = pred)"
   ]
  },
  {
   "cell_type": "code",
   "execution_count": null,
   "metadata": {},
   "outputs": [],
   "source": []
  }
 ],
 "metadata": {
  "kernelspec": {
   "display_name": "Python 3",
   "language": "python",
   "name": "python3"
  },
  "language_info": {
   "codemirror_mode": {
    "name": "ipython",
    "version": 3
   },
   "file_extension": ".py",
   "mimetype": "text/x-python",
   "name": "python",
   "nbconvert_exporter": "python",
   "pygments_lexer": "ipython3",
   "version": "3.7.4"
  }
 },
 "nbformat": 4,
 "nbformat_minor": 4
}
