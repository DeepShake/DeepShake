{
 "cells": [
  {
   "cell_type": "markdown",
   "metadata": {},
   "source": [
    "# Data Exploration"
   ]
  },
  {
   "cell_type": "markdown",
   "metadata": {},
   "source": [
    "Each numpy array corresponds to all earthquakes on a particular day, of the form\n",
    "(stations, events, 3 (axes), 6000 (time))"
   ]
  },
  {
   "cell_type": "code",
   "execution_count": 25,
   "metadata": {},
   "outputs": [],
   "source": [
    "import numpy as np\n",
    "import matplotlib.pyplot as plt\n",
    "import pandas as pd\n",
    "from tqdm import tqdm"
   ]
  },
  {
   "cell_type": "code",
   "execution_count": 26,
   "metadata": {},
   "outputs": [
    {
     "data": {
      "text/plain": [
       "(27, 196, 3, 6000)"
      ]
     },
     "execution_count": 26,
     "metadata": {},
     "output_type": "execute_result"
    }
   ],
   "source": [
    "data_path = '../arrays/2019-08-01.npy'\n",
    "data = np.load(data_path)\n",
    "data.shape"
   ]
  },
  {
   "cell_type": "code",
   "execution_count": 27,
   "metadata": {},
   "outputs": [],
   "source": [
    "#Helper function to plot an earthquake\n",
    "def plot_earthquake(quake):\n",
    "    num_stations, num_dims, time = quake.shape\n",
    "    fig, axs = plt.subplots(num_stations, figsize = (20, 10*num_stations))\n",
    "    for station_num in range(num_stations):\n",
    "        axs[station_num].plot(np.arange(time), quake[station_num].T)"
   ]
  },
  {
   "cell_type": "code",
   "execution_count": 28,
   "metadata": {},
   "outputs": [],
   "source": [
    "# plot_earthquake(data[:, 0])"
   ]
  },
  {
   "cell_type": "code",
   "execution_count": 29,
   "metadata": {},
   "outputs": [],
   "source": [
    "# freq = 100\n",
    "# window = 2000\n",
    "# vp = 6.5 \n",
    "# vs = 4.5\n",
    "# t = np.arange(window)/freq\n",
    "# channel = 2\n",
    "# degree2km = np.pi*6371/180\n",
    "# for event in data['events']:\n",
    "#   tmp_dist = []\n",
    "#   plt.figure(figsize=(15, 10))\n",
    "#   for sta in data['stations']:\n",
    "#     istart = int(freq * (event['time'] - data['stations'][sta]['starttime']))\n",
    "#     dist = np.sqrt((event['x'] - data['stations'][sta]['x'])**2 + (event['y'] - data['stations'][sta]['y'])**2 + event['depth']**2)\n",
    "#     tmp_dist.append(dist)\n",
    "#     tmp_data = data['stations'][sta]['data'][istart:istart+window,channel]\n",
    "#     mean = np.mean(tmp_data)\n",
    "#     std = np.std(tmp_data)\n",
    "#     plt.plot(t, (tmp_data - mean)/std/2 + dist, 'grey', linewidth=1)\n",
    "# #     plt.plot(t, tmp_data/std/2 + dist)\n",
    "#   plt.plot(t, t*vp, '--b', label=\"vp = 6.5 km/s\")\n",
    "#   plt.plot(t, t*vs, '--r', label=\"vs = 4.5 km/s\")\n",
    "#   plt.legend(loc=\"lower right\")\n",
    "#   plt.xlim([0, window/freq])\n",
    "#   plt.ylim([min(tmp_dist)-10, max(tmp_dist)+10])\n",
    "#   plt.title('Magnitude: {}, Time: {}'.format(event['mag'], str(event['time'])))\n",
    "#   plt.ylabel('Distance from hypocenter (km)')\n",
    "#   plt.xlabel('Time after earthquake (s)')\n",
    "#   plt.savefig(figure_dir.joinpath(\"{}.png\".format(event['time'])))\n",
    "#   plt.show()"
   ]
  },
  {
   "cell_type": "code",
   "execution_count": 30,
   "metadata": {},
   "outputs": [],
   "source": [
    "# import pickle\n",
    "# with open('../data/Ridgecrest/2019-06-07.pkl', 'rb') as f:\n",
    "#     data = pickle.load(f)"
   ]
  },
  {
   "cell_type": "code",
   "execution_count": 31,
   "metadata": {},
   "outputs": [],
   "source": [
    "# data['events'], len(data['events'])"
   ]
  },
  {
   "cell_type": "code",
   "execution_count": 32,
   "metadata": {},
   "outputs": [],
   "source": [
    "# data[\"stations\"], len(data['stations'])"
   ]
  },
  {
   "cell_type": "code",
   "execution_count": 33,
   "metadata": {},
   "outputs": [],
   "source": [
    "# data['stations']['CI.WVP2.']['data'].shape"
   ]
  },
  {
   "cell_type": "code",
   "execution_count": 34,
   "metadata": {},
   "outputs": [],
   "source": [
    "# from mpl_toolkits.basemap import Basemap\n",
    "# import matplotlib.pyplot as plt\n",
    "# # setup Lambert Conformal basemap.\n",
    "# # set resolution=None to skip processing of boundary datasets.\n",
    "# m = Basemap(width=1200000,height=900000,projection='lcc',\n",
    "#             resolution='f',lat_1=45.,lat_2=55,lat_0=35.705,lon_0=-117.504)\n",
    "# #m.shadedrelief()\n",
    "# # plt.show()"
   ]
  },
  {
   "cell_type": "code",
   "execution_count": 35,
   "metadata": {},
   "outputs": [],
   "source": [
    "# m.shadedrelief()\n",
    "# plt.show()"
   ]
  },
  {
   "cell_type": "code",
   "execution_count": 36,
   "metadata": {},
   "outputs": [],
   "source": [
    "%matplotlib inline"
   ]
  },
  {
   "cell_type": "code",
   "execution_count": 37,
   "metadata": {},
   "outputs": [],
   "source": [
    "# plt.figure(figsize=(30, 30))\n",
    "# img = plt.imread(\"ridgecrest.png\")\n",
    "# plt.imshow(img)"
   ]
  },
  {
   "cell_type": "code",
   "execution_count": 38,
   "metadata": {},
   "outputs": [],
   "source": [
    "def circles(x, y, s, c='b', vmin=None, vmax=None, **kwargs):\n",
    "    \"\"\"\n",
    "    Make a scatter plot of circles. \n",
    "    Similar to plt.scatter, but the size of circles are in data scale.\n",
    "    Parameters\n",
    "    ----------\n",
    "    x, y : scalar or array_like, shape (n, )\n",
    "        Input data\n",
    "    s : scalar or array_like, shape (n, ) \n",
    "        Radius of circles.\n",
    "    c : color or sequence of color, optional, default : 'b'\n",
    "        `c` can be a single color format string, or a sequence of color\n",
    "        specifications of length `N`, or a sequence of `N` numbers to be\n",
    "        mapped to colors using the `cmap` and `norm` specified via kwargs.\n",
    "        Note that `c` should not be a single numeric RGB or RGBA sequence \n",
    "        because that is indistinguishable from an array of values\n",
    "        to be colormapped. (If you insist, use `color` instead.)  \n",
    "        `c` can be a 2-D array in which the rows are RGB or RGBA, however. \n",
    "    vmin, vmax : scalar, optional, default: None\n",
    "        `vmin` and `vmax` are used in conjunction with `norm` to normalize\n",
    "        luminance data.  If either are `None`, the min and max of the\n",
    "        color array is used.\n",
    "    kwargs : `~matplotlib.collections.Collection` properties\n",
    "        Eg. alpha, edgecolor(ec), facecolor(fc), linewidth(lw), linestyle(ls), \n",
    "        norm, cmap, transform, etc.\n",
    "    Returns\n",
    "    -------\n",
    "    paths : `~matplotlib.collections.PathCollection`\n",
    "    Examples\n",
    "    --------\n",
    "    a = np.arange(11)\n",
    "    circles(a, a, s=a*0.2, c=a, alpha=0.5, ec='none')\n",
    "    plt.colorbar()\n",
    "    License\n",
    "    --------\n",
    "    This code is under [The BSD 3-Clause License]\n",
    "    (http://opensource.org/licenses/BSD-3-Clause)\n",
    "    \"\"\"\n",
    "    from matplotlib.patches import Circle\n",
    "    from matplotlib.collections import PatchCollection\n",
    "\n",
    "\n",
    "    if np.isscalar(c):\n",
    "        kwargs.setdefault('color', c)\n",
    "        c = None\n",
    "\n",
    "    if 'fc' in kwargs:\n",
    "        kwargs.setdefault('facecolor', kwargs.pop('fc'))\n",
    "    if 'ec' in kwargs:\n",
    "        kwargs.setdefault('edgecolor', kwargs.pop('ec'))\n",
    "    if 'ls' in kwargs:\n",
    "        kwargs.setdefault('linestyle', kwargs.pop('ls'))\n",
    "    if 'lw' in kwargs:\n",
    "        kwargs.setdefault('linewidth', kwargs.pop('lw'))\n",
    "    # You can set `facecolor` with an array for each patch,\n",
    "    # while you can only set `facecolors` with a value for all.\n",
    "\n",
    "    zipped = np.broadcast(x, y, s)\n",
    "    patches = [Circle((x_, y_), s_)\n",
    "               for x_, y_, s_ in zipped]\n",
    "    collection = PatchCollection(patches, **kwargs)\n",
    "    if c is not None:\n",
    "        c = np.broadcast_to(c, zipped.shape).ravel()\n",
    "        collection.set_array(c)\n",
    "        collection.set_clim(vmin, vmax)\n",
    "\n",
    "    ax = plt.gca()\n",
    "    ax.add_collection(collection)\n",
    "    ax.autoscale_view()\n",
    "    plt.draw_if_interactive()\n",
    "    if c is not None:\n",
    "        plt.sci(collection)\n",
    "    return collection"
   ]
  },
  {
   "cell_type": "code",
   "execution_count": 39,
   "metadata": {},
   "outputs": [],
   "source": [
    "def plot_coords(lats, lngs, intensity):\n",
    "    plt.figure(figsize=(30, 30))\n",
    "    plt.gca().axis('off')\n",
    "    img = plt.imread(\"ridgecrest.png\")\n",
    "    width = img.shape[0]\n",
    "    height = img.shape[1]\n",
    "    latmin = 36.235\n",
    "    lngmin = -118.046\n",
    "    \n",
    "    #Change the x and y to adjust to coords\n",
    "    y = [int((latmin - lat)*height) for lat in lats]\n",
    "    x = [int((lng - lngmin)*width) for lng in lngs]\n",
    "\n",
    "    plt.imshow(img)\n",
    "    \n",
    "    out = circles(x, y, intensity, c='r', alpha=0.5, edgecolor='none')\n",
    "    \n",
    "    plt.show()"
   ]
  },
  {
   "cell_type": "markdown",
   "metadata": {},
   "source": [
    "# Plot an earthquake"
   ]
  },
  {
   "cell_type": "code",
   "execution_count": 40,
   "metadata": {},
   "outputs": [
    {
     "data": {
      "text/plain": [
       "array(['CI.WVP2.', 'CI.WRV2.', 'CI.WRC2.', 'CI.WNM.', 'CI.WMF.',\n",
       "       'CI.WCS2.', 'CI.WBM.', 'CI.TOW2.', 'CI.SRT.', 'CI.SLA.', 'CI.MPM.',\n",
       "       'CI.LRL.', 'CI.DTP.', 'CI.CCC.', 'CI.JRC2.'], dtype='<U8')"
      ]
     },
     "execution_count": 40,
     "metadata": {},
     "output_type": "execute_result"
    }
   ],
   "source": [
    "#Get the order of stations\n",
    "stations = np.load(\"../extracted/stations.npy\")\n",
    "stations"
   ]
  },
  {
   "cell_type": "code",
   "execution_count": 41,
   "metadata": {},
   "outputs": [],
   "source": [
    "#Define the station coordinates\n",
    "station_coords = {\n",
    "    \"CI.CCC.\": (35.52495, -117.36453),\n",
    "    \"CI.DTP.\": (35.26742, -117.84581),\n",
    "    \"CI.JRC2.\": (35.98249, -117.80885),\n",
    "    \"CI.LRL.\": (35.47954, -117.68212),\n",
    "    \"CI.MPM.\": (36.05799 ,-117.48901),\n",
    "    \"CI.Q0072.\": (35.609617, -117.666721),\n",
    "    \"CI.SLA.\": (35.89095, -117.28332),\n",
    "    \"CI.SRT.\": (35.69235, -117.75051),\n",
    "    \"CI.TOW2.\": (35.80856, -117.76488),\n",
    "    \"CI.WBM.\": (35.60839, -117.89049),\n",
    "    \"CI.WCS2.\": (36.02521, -117.76526),\n",
    "    \"CI.WMF.\": (36.11758, -117.85486),\n",
    "    \"CI.WNM.\": (35.8422, -117.90616),\n",
    "    \"CI.WRC2.\": (35.9479, -117.65038),\n",
    "    \"CI.WRV2.\": (36.00774, -117.8904),\n",
    "    \"CI.WVP2.\": (35.94939, -117.81769)\n",
    "}\n",
    "\n",
    "lats = [station_coords[s][0] for s in stations]\n",
    "lngs = [station_coords[s][1] for s in stations]\n",
    "intensity = [10]*len(lngs)"
   ]
  },
  {
   "cell_type": "code",
   "execution_count": 42,
   "metadata": {},
   "outputs": [
    {
     "data": {
      "text/plain": [
       "(4, 15, 6000)"
      ]
     },
     "execution_count": 42,
     "metadata": {},
     "output_type": "execute_result"
    }
   ],
   "source": [
    "# Import a single dat of earthquakes\n",
    "quakes = np.load(\"../extracted/2019-06-04.npy\")\n",
    "quakes.shape"
   ]
  },
  {
   "cell_type": "code",
   "execution_count": 43,
   "metadata": {},
   "outputs": [],
   "source": [
    "# plot_coords(lats, lngs, intensity)"
   ]
  },
  {
   "cell_type": "code",
   "execution_count": 58,
   "metadata": {},
   "outputs": [],
   "source": [
    "def plot_earthquake_timeseries(lats, lngs, actual_intensities, save_path, predicted_intensities = None):\n",
    "    actual_intensities = actual_intensities / 10\n",
    "    if predicted_intensities is not None:\n",
    "        predicted_intensities = predicted_intensities / 10\n",
    "        assert(actual_intensities.shape[0] == predicted_intensities.shape[0])\n",
    "        \n",
    "    for i in tqdm(range(actual_intensities.shape[0])):\n",
    "        plt.figure(figsize=(15, 15))\n",
    "        plt.gca().axis('off')\n",
    "        img = plt.imread(\"ridgecrest.png\")\n",
    "        width = img.shape[0]\n",
    "        height = img.shape[1]\n",
    "        latmin = 36.235\n",
    "        lngmin = -118.046\n",
    "\n",
    "        #Change the x and y to adjust to coords\n",
    "        y = [int((latmin - lat)*height) for lat in lats]\n",
    "        x = [int((lng - lngmin)*width) for lng in lngs]\n",
    "\n",
    "        plt.imshow(img)\n",
    "\n",
    "        actual_outs = circles(x, y, actual_intensities[i], c='r', alpha=0.5, edgecolor='none')\n",
    "        if predicted_intensities is not None:\n",
    "            predicted_outs = circles(x, y, predicted_intensities[i], c='b', alpha=0.5, edgecolor='none')\n",
    "\n",
    "        plt.savefig(f\"{save_path}/{i}.png\")\n",
    "        plt.close()"
   ]
  },
  {
   "cell_type": "code",
   "execution_count": 59,
   "metadata": {},
   "outputs": [
    {
     "name": "stderr",
     "output_type": "stream",
     "text": [
      "100%|███████████████████████████████████████████████████████████████████████████████████████████████████| 60/60 [00:29<00:00,  2.02it/s]\n"
     ]
    }
   ],
   "source": [
    "with open('../compressed/2019-08-01.npy', 'rb') as fd:\n",
    "    arr = np.load(fd)\n",
    "    arr = np.transpose(arr, [0, 2, 1])\n",
    "    plot_earthquake_timeseries(lats, lngs, arr[5], \"./plot_test/tmp\", predicted_intensities = np.ones(arr[5].shape) * 10)"
   ]
  },
  {
   "cell_type": "code",
   "execution_count": 55,
   "metadata": {},
   "outputs": [
    {
     "name": "stdout",
     "output_type": "stream",
     "text": [
      "[PosixPath('plot_test/tmp/0.png'), PosixPath('plot_test/tmp/1.png'), PosixPath('plot_test/tmp/2.png'), PosixPath('plot_test/tmp/3.png'), PosixPath('plot_test/tmp/4.png'), PosixPath('plot_test/tmp/5.png'), PosixPath('plot_test/tmp/6.png'), PosixPath('plot_test/tmp/7.png'), PosixPath('plot_test/tmp/8.png'), PosixPath('plot_test/tmp/9.png'), PosixPath('plot_test/tmp/10.png'), PosixPath('plot_test/tmp/11.png'), PosixPath('plot_test/tmp/12.png'), PosixPath('plot_test/tmp/13.png'), PosixPath('plot_test/tmp/14.png'), PosixPath('plot_test/tmp/15.png'), PosixPath('plot_test/tmp/16.png'), PosixPath('plot_test/tmp/17.png'), PosixPath('plot_test/tmp/18.png'), PosixPath('plot_test/tmp/19.png'), PosixPath('plot_test/tmp/20.png'), PosixPath('plot_test/tmp/21.png'), PosixPath('plot_test/tmp/22.png'), PosixPath('plot_test/tmp/23.png'), PosixPath('plot_test/tmp/24.png'), PosixPath('plot_test/tmp/25.png'), PosixPath('plot_test/tmp/26.png'), PosixPath('plot_test/tmp/27.png'), PosixPath('plot_test/tmp/28.png'), PosixPath('plot_test/tmp/29.png'), PosixPath('plot_test/tmp/30.png'), PosixPath('plot_test/tmp/31.png'), PosixPath('plot_test/tmp/32.png'), PosixPath('plot_test/tmp/33.png'), PosixPath('plot_test/tmp/34.png'), PosixPath('plot_test/tmp/35.png'), PosixPath('plot_test/tmp/36.png'), PosixPath('plot_test/tmp/37.png'), PosixPath('plot_test/tmp/38.png'), PosixPath('plot_test/tmp/39.png'), PosixPath('plot_test/tmp/40.png'), PosixPath('plot_test/tmp/41.png'), PosixPath('plot_test/tmp/42.png'), PosixPath('plot_test/tmp/43.png'), PosixPath('plot_test/tmp/44.png'), PosixPath('plot_test/tmp/45.png'), PosixPath('plot_test/tmp/46.png'), PosixPath('plot_test/tmp/47.png'), PosixPath('plot_test/tmp/48.png'), PosixPath('plot_test/tmp/49.png'), PosixPath('plot_test/tmp/50.png'), PosixPath('plot_test/tmp/51.png'), PosixPath('plot_test/tmp/52.png'), PosixPath('plot_test/tmp/53.png'), PosixPath('plot_test/tmp/54.png'), PosixPath('plot_test/tmp/55.png'), PosixPath('plot_test/tmp/56.png'), PosixPath('plot_test/tmp/57.png'), PosixPath('plot_test/tmp/58.png'), PosixPath('plot_test/tmp/59.png')]\n"
     ]
    }
   ],
   "source": [
    "from pathlib import Path\n",
    "import os\n",
    "import glob\n",
    "\n",
    "filenames = sorted(Path(\"./plot_test/tmp/\").glob(\"*.png\"), key=lambda i: int(os.path.splitext(os.path.basename(i))[0]))\n",
    "print(filenames)"
   ]
  },
  {
   "cell_type": "code",
   "execution_count": 64,
   "metadata": {},
   "outputs": [
    {
     "name": "stderr",
     "output_type": "stream",
     "text": [
      "100%|███████████████████████████████████████████████████████████████████████████████████████████████████| 60/60 [00:02<00:00, 22.36it/s]\n"
     ]
    },
    {
     "ename": "FileNotFoundError",
     "evalue": "[Errno 2] No such file or directory: 'gifsicle': 'gifsicle'",
     "output_type": "error",
     "traceback": [
      "\u001b[0;31m---------------------------------------------------------------------------\u001b[0m",
      "\u001b[0;31mFileNotFoundError\u001b[0m                         Traceback (most recent call last)",
      "\u001b[0;32m<ipython-input-64-4e9023e74ce7>\u001b[0m in \u001b[0;36m<module>\u001b[0;34m\u001b[0m\n\u001b[1;32m     11\u001b[0m         \u001b[0mwriter\u001b[0m\u001b[0;34m.\u001b[0m\u001b[0mappend_data\u001b[0m\u001b[0;34m(\u001b[0m\u001b[0mimage\u001b[0m\u001b[0;34m)\u001b[0m\u001b[0;34m\u001b[0m\u001b[0;34m\u001b[0m\u001b[0m\n\u001b[1;32m     12\u001b[0m \u001b[0;34m\u001b[0m\u001b[0m\n\u001b[0;32m---> 13\u001b[0;31m \u001b[0moptimize\u001b[0m\u001b[0;34m(\u001b[0m\u001b[0mgif_path\u001b[0m\u001b[0;34m)\u001b[0m\u001b[0;34m\u001b[0m\u001b[0;34m\u001b[0m\u001b[0m\n\u001b[0m",
      "\u001b[0;32m/opt/anaconda3/lib/python3.7/site-packages/pygifsicle/pygifsicle.py\u001b[0m in \u001b[0;36moptimize\u001b[0;34m(source, *args, **kwargs)\u001b[0m\n\u001b[1;32m     62\u001b[0m         \u001b[0mPath\u001b[0m \u001b[0mto\u001b[0m \u001b[0mgif\u001b[0m \u001b[0mimage\u001b[0m \u001b[0mto\u001b[0m \u001b[0moptimize\u001b[0m\u001b[0;34m.\u001b[0m\u001b[0;34m\u001b[0m\u001b[0;34m\u001b[0m\u001b[0m\n\u001b[1;32m     63\u001b[0m     \"\"\"\n\u001b[0;32m---> 64\u001b[0;31m     \u001b[0mgifsicle\u001b[0m\u001b[0;34m(\u001b[0m\u001b[0msource\u001b[0m\u001b[0;34m,\u001b[0m \u001b[0;34m*\u001b[0m\u001b[0margs\u001b[0m\u001b[0;34m,\u001b[0m \u001b[0;34m**\u001b[0m\u001b[0mkwargs\u001b[0m\u001b[0;34m,\u001b[0m \u001b[0moptimize\u001b[0m\u001b[0;34m=\u001b[0m\u001b[0;32mTrue\u001b[0m\u001b[0;34m)\u001b[0m\u001b[0;34m\u001b[0m\u001b[0;34m\u001b[0m\u001b[0m\n\u001b[0m",
      "\u001b[0;32m/opt/anaconda3/lib/python3.7/site-packages/pygifsicle/pygifsicle.py\u001b[0m in \u001b[0;36mgifsicle\u001b[0;34m(sources, destination, optimize, colors, options)\u001b[0m\n\u001b[1;32m     51\u001b[0m         \u001b[0moptions\u001b[0m\u001b[0;34m.\u001b[0m\u001b[0mappend\u001b[0m\u001b[0;34m(\u001b[0m\u001b[0;34m\"--optimize\"\u001b[0m\u001b[0;34m)\u001b[0m\u001b[0;34m\u001b[0m\u001b[0;34m\u001b[0m\u001b[0m\n\u001b[1;32m     52\u001b[0m     subprocess.call([\"gifsicle\", *options, *sources, \"--colors\",\n\u001b[0;32m---> 53\u001b[0;31m                      str(colors), \"--output\", destination])\n\u001b[0m\u001b[1;32m     54\u001b[0m \u001b[0;34m\u001b[0m\u001b[0m\n\u001b[1;32m     55\u001b[0m \u001b[0;34m\u001b[0m\u001b[0m\n",
      "\u001b[0;32m/opt/anaconda3/lib/python3.7/subprocess.py\u001b[0m in \u001b[0;36mcall\u001b[0;34m(timeout, *popenargs, **kwargs)\u001b[0m\n\u001b[1;32m    321\u001b[0m     \u001b[0mretcode\u001b[0m \u001b[0;34m=\u001b[0m \u001b[0mcall\u001b[0m\u001b[0;34m(\u001b[0m\u001b[0;34m[\u001b[0m\u001b[0;34m\"ls\"\u001b[0m\u001b[0;34m,\u001b[0m \u001b[0;34m\"-l\"\u001b[0m\u001b[0;34m]\u001b[0m\u001b[0;34m)\u001b[0m\u001b[0;34m\u001b[0m\u001b[0;34m\u001b[0m\u001b[0m\n\u001b[1;32m    322\u001b[0m     \"\"\"\n\u001b[0;32m--> 323\u001b[0;31m     \u001b[0;32mwith\u001b[0m \u001b[0mPopen\u001b[0m\u001b[0;34m(\u001b[0m\u001b[0;34m*\u001b[0m\u001b[0mpopenargs\u001b[0m\u001b[0;34m,\u001b[0m \u001b[0;34m**\u001b[0m\u001b[0mkwargs\u001b[0m\u001b[0;34m)\u001b[0m \u001b[0;32mas\u001b[0m \u001b[0mp\u001b[0m\u001b[0;34m:\u001b[0m\u001b[0;34m\u001b[0m\u001b[0;34m\u001b[0m\u001b[0m\n\u001b[0m\u001b[1;32m    324\u001b[0m         \u001b[0;32mtry\u001b[0m\u001b[0;34m:\u001b[0m\u001b[0;34m\u001b[0m\u001b[0;34m\u001b[0m\u001b[0m\n\u001b[1;32m    325\u001b[0m             \u001b[0;32mreturn\u001b[0m \u001b[0mp\u001b[0m\u001b[0;34m.\u001b[0m\u001b[0mwait\u001b[0m\u001b[0;34m(\u001b[0m\u001b[0mtimeout\u001b[0m\u001b[0;34m=\u001b[0m\u001b[0mtimeout\u001b[0m\u001b[0;34m)\u001b[0m\u001b[0;34m\u001b[0m\u001b[0;34m\u001b[0m\u001b[0m\n",
      "\u001b[0;32m/opt/anaconda3/lib/python3.7/subprocess.py\u001b[0m in \u001b[0;36m__init__\u001b[0;34m(self, args, bufsize, executable, stdin, stdout, stderr, preexec_fn, close_fds, shell, cwd, env, universal_newlines, startupinfo, creationflags, restore_signals, start_new_session, pass_fds, encoding, errors, text)\u001b[0m\n\u001b[1;32m    773\u001b[0m                                 \u001b[0mc2pread\u001b[0m\u001b[0;34m,\u001b[0m \u001b[0mc2pwrite\u001b[0m\u001b[0;34m,\u001b[0m\u001b[0;34m\u001b[0m\u001b[0;34m\u001b[0m\u001b[0m\n\u001b[1;32m    774\u001b[0m                                 \u001b[0merrread\u001b[0m\u001b[0;34m,\u001b[0m \u001b[0merrwrite\u001b[0m\u001b[0;34m,\u001b[0m\u001b[0;34m\u001b[0m\u001b[0;34m\u001b[0m\u001b[0m\n\u001b[0;32m--> 775\u001b[0;31m                                 restore_signals, start_new_session)\n\u001b[0m\u001b[1;32m    776\u001b[0m         \u001b[0;32mexcept\u001b[0m\u001b[0;34m:\u001b[0m\u001b[0;34m\u001b[0m\u001b[0;34m\u001b[0m\u001b[0m\n\u001b[1;32m    777\u001b[0m             \u001b[0;31m# Cleanup if the child failed starting.\u001b[0m\u001b[0;34m\u001b[0m\u001b[0;34m\u001b[0m\u001b[0;34m\u001b[0m\u001b[0m\n",
      "\u001b[0;32m/opt/anaconda3/lib/python3.7/subprocess.py\u001b[0m in \u001b[0;36m_execute_child\u001b[0;34m(self, args, executable, preexec_fn, close_fds, pass_fds, cwd, env, startupinfo, creationflags, shell, p2cread, p2cwrite, c2pread, c2pwrite, errread, errwrite, restore_signals, start_new_session)\u001b[0m\n\u001b[1;32m   1520\u001b[0m                         \u001b[0;32mif\u001b[0m \u001b[0merrno_num\u001b[0m \u001b[0;34m==\u001b[0m \u001b[0merrno\u001b[0m\u001b[0;34m.\u001b[0m\u001b[0mENOENT\u001b[0m\u001b[0;34m:\u001b[0m\u001b[0;34m\u001b[0m\u001b[0;34m\u001b[0m\u001b[0m\n\u001b[1;32m   1521\u001b[0m                             \u001b[0merr_msg\u001b[0m \u001b[0;34m+=\u001b[0m \u001b[0;34m': '\u001b[0m \u001b[0;34m+\u001b[0m \u001b[0mrepr\u001b[0m\u001b[0;34m(\u001b[0m\u001b[0merr_filename\u001b[0m\u001b[0;34m)\u001b[0m\u001b[0;34m\u001b[0m\u001b[0;34m\u001b[0m\u001b[0m\n\u001b[0;32m-> 1522\u001b[0;31m                     \u001b[0;32mraise\u001b[0m \u001b[0mchild_exception_type\u001b[0m\u001b[0;34m(\u001b[0m\u001b[0merrno_num\u001b[0m\u001b[0;34m,\u001b[0m \u001b[0merr_msg\u001b[0m\u001b[0;34m,\u001b[0m \u001b[0merr_filename\u001b[0m\u001b[0;34m)\u001b[0m\u001b[0;34m\u001b[0m\u001b[0;34m\u001b[0m\u001b[0m\n\u001b[0m\u001b[1;32m   1523\u001b[0m                 \u001b[0;32mraise\u001b[0m \u001b[0mchild_exception_type\u001b[0m\u001b[0;34m(\u001b[0m\u001b[0merr_msg\u001b[0m\u001b[0;34m)\u001b[0m\u001b[0;34m\u001b[0m\u001b[0;34m\u001b[0m\u001b[0m\n\u001b[1;32m   1524\u001b[0m \u001b[0;34m\u001b[0m\u001b[0m\n",
      "\u001b[0;31mFileNotFoundError\u001b[0m: [Errno 2] No such file or directory: 'gifsicle': 'gifsicle'"
     ]
    }
   ],
   "source": [
    "import imageio\n",
    "from pygifsicle import optimize\n",
    "\n",
    "images = []\n",
    "for filename in tqdm(filenames):\n",
    "    images.append(imageio.imread(filename))\n",
    "    \n",
    "gif_path = './plot_test/sample.gif'\n",
    "with imageio.get_writer(gif_path, mode='I') as writer:\n",
    "    for image in images:\n",
    "        writer.append_data(image)\n",
    "\n",
    "optimize(gif_path)"
   ]
  },
  {
   "cell_type": "code",
   "execution_count": null,
   "metadata": {},
   "outputs": [],
   "source": []
  }
 ],
 "metadata": {
  "kernelspec": {
   "display_name": "Python 3",
   "language": "python",
   "name": "python3"
  },
  "language_info": {
   "codemirror_mode": {
    "name": "ipython",
    "version": 3
   },
   "file_extension": ".py",
   "mimetype": "text/x-python",
   "name": "python",
   "nbconvert_exporter": "python",
   "pygments_lexer": "ipython3",
   "version": "3.7.4"
  }
 },
 "nbformat": 4,
 "nbformat_minor": 4
}
