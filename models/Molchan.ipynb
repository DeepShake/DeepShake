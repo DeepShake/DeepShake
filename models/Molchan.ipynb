{
 "cells": [
  {
   "cell_type": "markdown",
   "metadata": {},
   "source": [
    "# Make molchan?"
   ]
  },
  {
   "cell_type": "code",
   "execution_count": 11,
   "metadata": {},
   "outputs": [],
   "source": [
    "import numpy as np\n",
    "from scipy.special import comb\n",
    "from matplotlib import pyplot as plt\n",
    "from scipy.optimize import fsolve\n"
   ]
  },
  {
   "cell_type": "code",
   "execution_count": null,
   "metadata": {},
   "outputs": [],
   "source": [
    "def plot_molchan(y_true, y_pred, threshold = 0.034):"
   ]
  },
  {
   "cell_type": "markdown",
   "metadata": {},
   "source": [
    "# The Math\n",
    "The confidence curves on the Molchan diagram result from solving\n",
    "$$\n",
    "\\alpha = \\sum_{i=h}^N\\left[{N \\choose i}\\tau^i(1-\\tau)^{N-i}\\right]\n",
    "$$\n",
    "Where $N = $ total number of alarmable spatiotemporal instances, $h = $ the number of these instances that were alarmed by chance, $\\tau = $ the fraction of space-time occupied by alarm (maybe seperated across space), and $\\alpha$ the confidence interval."
   ]
  },
  {
   "cell_type": "code",
   "execution_count": null,
   "metadata": {},
   "outputs": [],
   "source": [
    "#Function solves for taus with input hs\n",
    "def func(a, N, h, tau):\n",
    "    out = 0\n",
    "    for i in range(h, N+1):\n",
    "        out += comb(N, i) * (tau**i) * (1-tau)**(N-i)\n",
    "        \n",
    "    return out - a\n",
    "\n",
    "def get_tau(a, N, h):\n",
    "    sfunc = lambda tau : func(a, N, h, tau)\n",
    "    \n",
    "    x = np.arange(0, 1, 0.01)\n",
    "    y = np.array([sfunc(datum) for datum in x])\n",
    "    init_guess = np.argmax(y > 0)/100\n",
    "    \n",
    "    return fsolve(sfunc, init_guess)\n",
    "\n",
    "def get_taus(a, N, h = None):\n",
    "    if h == None:\n",
    "        h = np.arange(N + 1)\n",
    "    taus = np.zeros(h.shape)\n",
    "    \n",
    "    for i in range(len(h)):\n",
    "        taus[i] = get_tau(a, N, i)\n",
    "        \n",
    "    return taus\n",
    "        \n",
    "def plot_molchan(N):\n",
    "    plt.figure()\n",
    "    plt.plot(np.linspace(0, 1, N), np.linspace(0, N, N), 'r--')\n",
    "    for a in [0.001, 0.01, 0.05, 0.25, 0.50]:\n",
    "        plt.plot(get_taus(a, N), np.arange(N+1), 'k', label=r'$\\alpha$ = ' + str(a))\n",
    "    plt.xlim([0, 1])\n",
    "    plt.ylim([N, 0])\n",
    "    plt.legend()\n",
    "    plt.title(\"Molchan Diagram\")\n",
    "    plt.show()"
   ]
  },
  {
   "cell_type": "code",
   "execution_count": null,
   "metadata": {},
   "outputs": [],
   "source": [
    "plot_molchan(100)"
   ]
  },
  {
   "cell_type": "code",
   "execution_count": 63,
   "metadata": {},
   "outputs": [
    {
     "name": "stdout",
     "output_type": "stream",
     "text": [
      "0.57\n"
     ]
    },
    {
     "data": {
      "text/plain": [
       "[<matplotlib.lines.Line2D at 0x7f4390019390>]"
      ]
     },
     "execution_count": 63,
     "metadata": {},
     "output_type": "execute_result"
    },
    {
     "data": {
      "image/png": "[encoded data removed]",
      "text/plain": [
       "<Figure size 432x288 with 1 Axes>"
      ]
     },
     "metadata": {
      "needs_background": "light"
     },
     "output_type": "display_data"
    }
   ],
   "source": [
    "x = np.arange(0, 1, 0.01)\n",
    "y = np.array([func(0.3, 15, 10, datum) for datum in x])\n",
    "print(np.argmax(y > 0)/100)\n",
    "plt.plot(x, y)"
   ]
  },
  {
   "cell_type": "code",
   "execution_count": null,
   "metadata": {},
   "outputs": [],
   "source": []
  }
 ],
 "metadata": {
  "kernelspec": {
   "display_name": "Python 3",
   "language": "python",
   "name": "python3"
  },
  "language_info": {
   "codemirror_mode": {
    "name": "ipython",
    "version": 3
   },
   "file_extension": ".py",
   "mimetype": "text/x-python",
   "name": "python",
   "nbconvert_exporter": "python",
   "pygments_lexer": "ipython3",
   "version": "3.7.4"
  }
 },
 "nbformat": 4,
 "nbformat_minor": 4
}
