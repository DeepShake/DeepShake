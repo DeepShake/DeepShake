{
 "cells": [
  {
   "cell_type": "markdown",
   "metadata": {},
   "source": [
    "# Find Classwise Accuracy"
   ]
  },
  {
   "cell_type": "code",
   "execution_count": 1,
   "metadata": {},
   "outputs": [
    {
     "name": "stderr",
     "output_type": "stream",
     "text": [
      "/opt/anaconda3/lib/python3.7/site-packages/tensorflow/python/framework/dtypes.py:526: FutureWarning: Passing (type, 1) or '1type' as a synonym of type is deprecated; in a future version of numpy, it will be understood as (type, (1,)) / '(1,)type'.\n",
      "  _np_qint8 = np.dtype([(\"qint8\", np.int8, 1)])\n",
      "/opt/anaconda3/lib/python3.7/site-packages/tensorflow/python/framework/dtypes.py:527: FutureWarning: Passing (type, 1) or '1type' as a synonym of type is deprecated; in a future version of numpy, it will be understood as (type, (1,)) / '(1,)type'.\n",
      "  _np_quint8 = np.dtype([(\"quint8\", np.uint8, 1)])\n",
      "/opt/anaconda3/lib/python3.7/site-packages/tensorflow/python/framework/dtypes.py:528: FutureWarning: Passing (type, 1) or '1type' as a synonym of type is deprecated; in a future version of numpy, it will be understood as (type, (1,)) / '(1,)type'.\n",
      "  _np_qint16 = np.dtype([(\"qint16\", np.int16, 1)])\n",
      "/opt/anaconda3/lib/python3.7/site-packages/tensorflow/python/framework/dtypes.py:529: FutureWarning: Passing (type, 1) or '1type' as a synonym of type is deprecated; in a future version of numpy, it will be understood as (type, (1,)) / '(1,)type'.\n",
      "  _np_quint16 = np.dtype([(\"quint16\", np.uint16, 1)])\n",
      "/opt/anaconda3/lib/python3.7/site-packages/tensorflow/python/framework/dtypes.py:530: FutureWarning: Passing (type, 1) or '1type' as a synonym of type is deprecated; in a future version of numpy, it will be understood as (type, (1,)) / '(1,)type'.\n",
      "  _np_qint32 = np.dtype([(\"qint32\", np.int32, 1)])\n",
      "/opt/anaconda3/lib/python3.7/site-packages/tensorflow/python/framework/dtypes.py:535: FutureWarning: Passing (type, 1) or '1type' as a synonym of type is deprecated; in a future version of numpy, it will be understood as (type, (1,)) / '(1,)type'.\n",
      "  np_resource = np.dtype([(\"resource\", np.ubyte, 1)])\n"
     ]
    },
    {
     "data": {
      "text/plain": [
       "1"
      ]
     },
     "execution_count": 1,
     "metadata": {},
     "output_type": "execute_result"
    }
   ],
   "source": [
    "from __future__ import absolute_import, division, print_function, unicode_literals\n",
    "import sys\n",
    "sys.path.append(\"../utils/.\")\n",
    "\n",
    "\n",
    "import tensorflow as tf\n",
    "#tf.enable_eager_execution()\n",
    "\n",
    "import matplotlib as mpl\n",
    "import matplotlib.pyplot as plt\n",
    "import numpy as np\n",
    "import os\n",
    "import pandas as pd\n",
    "from utils import *\n",
    "\n",
    "mpl.rcParams['figure.figsize'] = (8, 6)\n",
    "mpl.rcParams['axes.grid'] = False\n",
    "\n",
    "tf.random.set_random_seed(13)\n",
    "\n",
    "import py3nvml\n",
    "py3nvml.grab_gpus(1)"
   ]
  },
  {
   "cell_type": "code",
   "execution_count": 2,
   "metadata": {},
   "outputs": [],
   "source": [
    "multi_step = True\n",
    "model_path = \"trained_models_acc/multistep/LSTM3_10steps.h5\""
   ]
  },
  {
   "cell_type": "markdown",
   "metadata": {},
   "source": [
    "# Load the dataset"
   ]
  },
  {
   "cell_type": "code",
   "execution_count": 3,
   "metadata": {},
   "outputs": [
    {
     "name": "stdout",
     "output_type": "stream",
     "text": [
      "Before:  (35679, 15, 60)\n",
      "After:  (35679, 60, 15)\n"
     ]
    }
   ],
   "source": [
    "dataset = np.load('../data/acc/compressed/full_data.npy')\n",
    "print(\"Before: \", dataset.shape)\n",
    "#Swap axes\n",
    "dataset = dataset.swapaxes(1, -1)\n",
    "\n",
    "#Combine station and xyz\n",
    "#dataset = dataset.reshape(dataset.shape[0], dataset.shape[1], -1)\n",
    "print(\"After: \", dataset.shape)"
   ]
  },
  {
   "cell_type": "code",
   "execution_count": 4,
   "metadata": {},
   "outputs": [
    {
     "name": "stdout",
     "output_type": "stream",
     "text": [
      "35679\n",
      "-0.49 7.1\n"
     ]
    }
   ],
   "source": [
    "richters_path = \"../data/metadata/richters.npy\"\n",
    "richters = np.load(richters_path)\n",
    "print(len(richters))\n",
    "print(min(richters), max(richters))\n",
    "\n",
    "classes = [0, 1, 2, 3]\n",
    "richters_discrete = np.zeros_like(richters)\n",
    "richters_discrete += np.where(richters >= 5., np.ones_like(richters), np.zeros_like(richters))\n",
    "richters_discrete += np.where(richters >= 3., np.ones_like(richters), np.zeros_like(richters))\n",
    "richters_discrete += np.where(richters >= 1., np.ones_like(richters), np.zeros_like(richters))"
   ]
  },
  {
   "cell_type": "code",
   "execution_count": 5,
   "metadata": {},
   "outputs": [
    {
     "data": {
      "text/plain": [
       "Text(0, 0.5, 'Num Earthquakes')"
      ]
     },
     "execution_count": 5,
     "metadata": {},
     "output_type": "execute_result"
    },
    {
     "data": {
      "image/png": "[encoded data removed]",
      "text/plain": [
       "<Figure size 720x360 with 2 Axes>"
      ]
     },
     "metadata": {
      "needs_background": "light"
     },
     "output_type": "display_data"
    }
   ],
   "source": [
    "# Characterize the magnitudes\n",
    "import seaborn as sns\n",
    "f,ax1 = plt.subplots(figsize=(10, 5))\n",
    "sns.distplot(richters,kde=False,ax=ax1, rug=True)\n",
    "ax2 = ax1.twinx()\n",
    "ax2.yaxis.set_ticks([])\n",
    "sns.kdeplot(richters,ax=ax2)\n",
    "plt.title(\"Earthquake Magnitudes in Dataset\")\n",
    "ax1.set_xlabel('Magnitude')\n",
    "ax1.set_ylabel('Num Earthquakes')"
   ]
  },
  {
   "cell_type": "code",
   "execution_count": 6,
   "metadata": {},
   "outputs": [],
   "source": [
    "dataset, richters_discrete = shuffle_together(dataset, richters_discrete, seed=10)"
   ]
  },
  {
   "cell_type": "code",
   "execution_count": 7,
   "metadata": {},
   "outputs": [
    {
     "name": "stdout",
     "output_type": "stream",
     "text": [
      "Distribution of discrete richter magnitudes (<1, 1-3, 3-5, >=5):\n",
      "Train set:  [8560, 19193, 786, 4]\n",
      "Val set:  [2168, 4778, 188, 2]\n"
     ]
    }
   ],
   "source": [
    "TRAIN_SPLIT_IDX = int(dataset.shape[0]*0.8)\n",
    "\n",
    "print(\"Distribution of discrete richter magnitudes (<1, 1-3, 3-5, >=5):\")\n",
    "print(\"Train set: \", [np.sum(richters_discrete[:TRAIN_SPLIT_IDX] == i) for i in range(4)])\n",
    "print(\"Val set: \", [np.sum(richters_discrete[TRAIN_SPLIT_IDX:] == i) for i in range(4)])\n"
   ]
  },
  {
   "cell_type": "code",
   "execution_count": 8,
   "metadata": {},
   "outputs": [],
   "source": [
    "data_mean = np.mean(dataset, axis = 1)\n",
    "data_var = np.linalg.norm(dataset - np.expand_dims(data_mean, 1), axis = 1)\n",
    "\n",
    "#Add some epsilon to make the divide by zero var work\n",
    "epsilon = 1\n",
    "data_var[data_var == 0] = epsilon\n",
    "data_var[data_var == 0] = epsilon\n",
    "\n",
    "dataset = (dataset - np.expand_dims(data_mean, 1))/np.expand_dims(data_var, 1)"
   ]
  },
  {
   "cell_type": "code",
   "execution_count": 9,
   "metadata": {
    "jupyter": {
     "source_hidden": true
    }
   },
   "outputs": [],
   "source": [
    "# def multivariate_data(dataset, history_size,\n",
    "#                       target_size, step, single_step=False):\n",
    "#     data = []\n",
    "#     labels = []\n",
    "    \n",
    "#     start_index = history_size\n",
    "#     end_index = dataset.shape[1] - target_size\n",
    "        \n",
    "#     for quake in dataset:\n",
    "\n",
    "#         for i in range(start_index, end_index):\n",
    "#             indices = range(i-history_size, i, step)\n",
    "#             data.append(quake[indices])\n",
    "\n",
    "#             if single_step:\n",
    "#                 labels.append(quake[i+target_size])\n",
    "#             else:\n",
    "#                 labels.append(quake[i:i+target_size])\n",
    "\n",
    "#     return np.array(data), np.array(labels)"
   ]
  },
  {
   "cell_type": "markdown",
   "metadata": {},
   "source": [
    "# Segment earthquakes by magnitude"
   ]
  },
  {
   "cell_type": "code",
   "execution_count": 10,
   "metadata": {},
   "outputs": [
    {
     "data": {
      "text/plain": [
       "(array([1.0728e+04, 0.0000e+00, 0.0000e+00, 2.3971e+04, 0.0000e+00,\n",
       "        0.0000e+00, 9.7400e+02, 0.0000e+00, 0.0000e+00, 6.0000e+00]),\n",
       " array([0. , 0.3, 0.6, 0.9, 1.2, 1.5, 1.8, 2.1, 2.4, 2.7, 3. ]),\n",
       " <a list of 10 Patch objects>)"
      ]
     },
     "execution_count": 10,
     "metadata": {},
     "output_type": "execute_result"
    },
    {
     "data": {
      "image/png": "[encoded data removed]",
      "text/plain": [
       "<Figure size 432x288 with 1 Axes>"
      ]
     },
     "metadata": {
      "needs_background": "light"
     },
     "output_type": "display_data"
    }
   ],
   "source": [
    "plt.hist(richters_discrete)"
   ]
  },
  {
   "cell_type": "code",
   "execution_count": 11,
   "metadata": {},
   "outputs": [
    {
     "data": {
      "text/plain": [
       "(2168, 4778, 188, 2)"
      ]
     },
     "execution_count": 11,
     "metadata": {},
     "output_type": "execute_result"
    }
   ],
   "source": [
    "TRAIN_SPLIT_IDX = int(dataset.shape[0]*0.8)\n",
    "val_dataset = dataset[TRAIN_SPLIT_IDX:]\n",
    "val_richters_discrete = richters_discrete[TRAIN_SPLIT_IDX:]\n",
    "val_data_mean = data_mean[TRAIN_SPLIT_IDX:]\n",
    "val_data_var = data_var[TRAIN_SPLIT_IDX:]\n",
    "\n",
    "\n",
    "quakes0 = val_dataset[val_richters_discrete == 0]\n",
    "val_data_mean0 = val_data_mean[val_richters_discrete == 0]\n",
    "val_data_var0 = val_data_var[val_richters_discrete == 0]\n",
    "\n",
    "quakes1 = val_dataset[val_richters_discrete == 1]\n",
    "val_data_mean1 = val_data_mean[val_richters_discrete == 1]\n",
    "val_data_var1 = val_data_var[val_richters_discrete == 1]\n",
    "\n",
    "quakes2 = val_dataset[val_richters_discrete == 2]\n",
    "val_data_mean2 = val_data_mean[val_richters_discrete == 2]\n",
    "val_data_var2 = val_data_var[val_richters_discrete == 2]\n",
    "\n",
    "quakes3 = val_dataset[val_richters_discrete == 3]\n",
    "val_data_mean3 = val_data_mean[val_richters_discrete == 3]\n",
    "val_data_var3 = val_data_var[val_richters_discrete == 3]\n",
    "\n",
    "len(quakes0), len(quakes1), len(quakes2), len(quakes3)"
   ]
  },
  {
   "cell_type": "code",
   "execution_count": 12,
   "metadata": {},
   "outputs": [
    {
     "data": {
      "text/plain": [
       "((75880, 15, 15), (167230, 15, 15), (6580, 15, 15), (70, 15, 15))"
      ]
     },
     "execution_count": 12,
     "metadata": {},
     "output_type": "execute_result"
    }
   ],
   "source": [
    "past_history = 15\n",
    "# future_target = 5 if multi_step else 1\n",
    "future_target = 10 if multi_step else 1\n",
    "STEP = 1\n",
    "\n",
    "x_0, y_0 = multivariate_data(quakes0,past_history,\n",
    "                                                   future_target, STEP,\n",
    "                                                   single_step=not multi_step)\n",
    "x_1, y_1 = multivariate_data(quakes1,past_history,\n",
    "                                                   future_target, STEP,\n",
    "                                                   single_step=not multi_step)\n",
    "x_2, y_2 = multivariate_data(quakes2,past_history,\n",
    "                                                   future_target, STEP,\n",
    "                                                   single_step=not multi_step)\n",
    "x_3, y_3 = multivariate_data(quakes3,past_history,\n",
    "                                                   future_target, STEP,\n",
    "                                                   single_step=not multi_step)\n",
    "\n",
    "x_0.shape, x_1.shape, x_2.shape, x_3.shape "
   ]
  },
  {
   "cell_type": "code",
   "execution_count": 13,
   "metadata": {},
   "outputs": [
    {
     "data": {
      "text/plain": [
       "(75880, 10, 15)"
      ]
     },
     "execution_count": 13,
     "metadata": {},
     "output_type": "execute_result"
    }
   ],
   "source": [
    "y_0.shape"
   ]
  },
  {
   "cell_type": "markdown",
   "metadata": {},
   "source": [
    "# Load the model"
   ]
  },
  {
   "cell_type": "markdown",
   "metadata": {},
   "source": [
    "### Single-step"
   ]
  },
  {
   "cell_type": "code",
   "execution_count": 14,
   "metadata": {
    "collapsed": true,
    "jupyter": {
     "outputs_hidden": true
    }
   },
   "outputs": [
    {
     "name": "stdout",
     "output_type": "stream",
     "text": [
      "WARNING:tensorflow:From /opt/anaconda3/lib/python3.7/site-packages/tensorflow/python/ops/resource_variable_ops.py:435: colocate_with (from tensorflow.python.framework.ops) is deprecated and will be removed in a future version.\n",
      "Instructions for updating:\n",
      "Colocations handled automatically by placer.\n"
     ]
    },
    {
     "ename": "ValueError",
     "evalue": "Shapes (15, 256) and (15, 512) are incompatible",
     "output_type": "error",
     "traceback": [
      "\u001b[0;31m---------------------------------------------------------------------------\u001b[0m",
      "\u001b[0;31mValueError\u001b[0m                                Traceback (most recent call last)",
      "\u001b[0;32m<ipython-input-14-ea1e802019c4>\u001b[0m in \u001b[0;36m<module>\u001b[0;34m\u001b[0m\n\u001b[1;32m      7\u001b[0m \u001b[0msingle_step_model\u001b[0m\u001b[0;34m.\u001b[0m\u001b[0madd\u001b[0m\u001b[0;34m(\u001b[0m\u001b[0mtf\u001b[0m\u001b[0;34m.\u001b[0m\u001b[0mkeras\u001b[0m\u001b[0;34m.\u001b[0m\u001b[0mlayers\u001b[0m\u001b[0;34m.\u001b[0m\u001b[0mDense\u001b[0m\u001b[0;34m(\u001b[0m\u001b[0;36m75\u001b[0m \u001b[0;32mif\u001b[0m \u001b[0mmulti_step\u001b[0m \u001b[0;32melse\u001b[0m \u001b[0;36m15\u001b[0m\u001b[0;34m)\u001b[0m\u001b[0;34m)\u001b[0m\u001b[0;34m\u001b[0m\u001b[0;34m\u001b[0m\u001b[0m\n\u001b[1;32m      8\u001b[0m \u001b[0;34m\u001b[0m\u001b[0m\n\u001b[0;32m----> 9\u001b[0;31m \u001b[0msingle_step_model\u001b[0m\u001b[0;34m.\u001b[0m\u001b[0mload_weights\u001b[0m\u001b[0;34m(\u001b[0m\u001b[0mmodel_path\u001b[0m\u001b[0;34m)\u001b[0m\u001b[0;34m\u001b[0m\u001b[0;34m\u001b[0m\u001b[0m\n\u001b[0m\u001b[1;32m     10\u001b[0m \u001b[0;34m\u001b[0m\u001b[0m\n\u001b[1;32m     11\u001b[0m \u001b[0msingle_step_model\u001b[0m\u001b[0;34m.\u001b[0m\u001b[0mcompile\u001b[0m\u001b[0;34m(\u001b[0m\u001b[0moptimizer\u001b[0m\u001b[0;34m=\u001b[0m\u001b[0;34m'nadam'\u001b[0m\u001b[0;34m,\u001b[0m \u001b[0mloss\u001b[0m\u001b[0;34m=\u001b[0m\u001b[0;34m'mae'\u001b[0m\u001b[0;34m,\u001b[0m \u001b[0mmetrics\u001b[0m\u001b[0;34m=\u001b[0m\u001b[0;34m[\u001b[0m\u001b[0;34m'mae'\u001b[0m\u001b[0;34m,\u001b[0m \u001b[0;34m'mse'\u001b[0m\u001b[0;34m]\u001b[0m\u001b[0;34m)\u001b[0m\u001b[0;34m\u001b[0m\u001b[0;34m\u001b[0m\u001b[0m\n",
      "\u001b[0;32m/opt/anaconda3/lib/python3.7/site-packages/tensorflow/python/keras/engine/network.py\u001b[0m in \u001b[0;36mload_weights\u001b[0;34m(self, filepath, by_name)\u001b[0m\n\u001b[1;32m   1514\u001b[0m         \u001b[0msaving\u001b[0m\u001b[0;34m.\u001b[0m\u001b[0mload_weights_from_hdf5_group_by_name\u001b[0m\u001b[0;34m(\u001b[0m\u001b[0mf\u001b[0m\u001b[0;34m,\u001b[0m \u001b[0mself\u001b[0m\u001b[0;34m.\u001b[0m\u001b[0mlayers\u001b[0m\u001b[0;34m)\u001b[0m\u001b[0;34m\u001b[0m\u001b[0;34m\u001b[0m\u001b[0m\n\u001b[1;32m   1515\u001b[0m       \u001b[0;32melse\u001b[0m\u001b[0;34m:\u001b[0m\u001b[0;34m\u001b[0m\u001b[0;34m\u001b[0m\u001b[0m\n\u001b[0;32m-> 1516\u001b[0;31m         \u001b[0msaving\u001b[0m\u001b[0;34m.\u001b[0m\u001b[0mload_weights_from_hdf5_group\u001b[0m\u001b[0;34m(\u001b[0m\u001b[0mf\u001b[0m\u001b[0;34m,\u001b[0m \u001b[0mself\u001b[0m\u001b[0;34m.\u001b[0m\u001b[0mlayers\u001b[0m\u001b[0;34m)\u001b[0m\u001b[0;34m\u001b[0m\u001b[0;34m\u001b[0m\u001b[0m\n\u001b[0m\u001b[1;32m   1517\u001b[0m \u001b[0;34m\u001b[0m\u001b[0m\n\u001b[1;32m   1518\u001b[0m   \u001b[0;32mdef\u001b[0m \u001b[0m_updated_config\u001b[0m\u001b[0;34m(\u001b[0m\u001b[0mself\u001b[0m\u001b[0;34m)\u001b[0m\u001b[0;34m:\u001b[0m\u001b[0;34m\u001b[0m\u001b[0;34m\u001b[0m\u001b[0m\n",
      "\u001b[0;32m/opt/anaconda3/lib/python3.7/site-packages/tensorflow/python/keras/engine/saving.py\u001b[0m in \u001b[0;36mload_weights_from_hdf5_group\u001b[0;34m(f, layers)\u001b[0m\n\u001b[1;32m    818\u001b[0m                        str(len(weight_values)) + ' elements.')\n\u001b[1;32m    819\u001b[0m     \u001b[0mweight_value_tuples\u001b[0m \u001b[0;34m+=\u001b[0m \u001b[0mzip\u001b[0m\u001b[0;34m(\u001b[0m\u001b[0msymbolic_weights\u001b[0m\u001b[0;34m,\u001b[0m \u001b[0mweight_values\u001b[0m\u001b[0;34m)\u001b[0m\u001b[0;34m\u001b[0m\u001b[0;34m\u001b[0m\u001b[0m\n\u001b[0;32m--> 820\u001b[0;31m   \u001b[0mK\u001b[0m\u001b[0;34m.\u001b[0m\u001b[0mbatch_set_value\u001b[0m\u001b[0;34m(\u001b[0m\u001b[0mweight_value_tuples\u001b[0m\u001b[0;34m)\u001b[0m\u001b[0;34m\u001b[0m\u001b[0;34m\u001b[0m\u001b[0m\n\u001b[0m\u001b[1;32m    821\u001b[0m \u001b[0;34m\u001b[0m\u001b[0m\n\u001b[1;32m    822\u001b[0m \u001b[0;34m\u001b[0m\u001b[0m\n",
      "\u001b[0;32m/opt/anaconda3/lib/python3.7/site-packages/tensorflow/python/keras/backend.py\u001b[0m in \u001b[0;36mbatch_set_value\u001b[0;34m(tuples)\u001b[0m\n\u001b[1;32m   2873\u001b[0m             assign_placeholder = array_ops.placeholder(tf_dtype,\n\u001b[1;32m   2874\u001b[0m                                                        shape=value.shape)\n\u001b[0;32m-> 2875\u001b[0;31m             \u001b[0massign_op\u001b[0m \u001b[0;34m=\u001b[0m \u001b[0mx\u001b[0m\u001b[0;34m.\u001b[0m\u001b[0massign\u001b[0m\u001b[0;34m(\u001b[0m\u001b[0massign_placeholder\u001b[0m\u001b[0;34m)\u001b[0m\u001b[0;34m\u001b[0m\u001b[0;34m\u001b[0m\u001b[0m\n\u001b[0m\u001b[1;32m   2876\u001b[0m             \u001b[0mx\u001b[0m\u001b[0;34m.\u001b[0m\u001b[0m_assign_placeholder\u001b[0m \u001b[0;34m=\u001b[0m \u001b[0massign_placeholder\u001b[0m\u001b[0;34m\u001b[0m\u001b[0;34m\u001b[0m\u001b[0m\n\u001b[1;32m   2877\u001b[0m             \u001b[0mx\u001b[0m\u001b[0;34m.\u001b[0m\u001b[0m_assign_op\u001b[0m \u001b[0;34m=\u001b[0m \u001b[0massign_op\u001b[0m\u001b[0;34m\u001b[0m\u001b[0;34m\u001b[0m\u001b[0m\n",
      "\u001b[0;32m/opt/anaconda3/lib/python3.7/site-packages/tensorflow/python/ops/resource_variable_ops.py\u001b[0m in \u001b[0;36massign\u001b[0;34m(self, value, use_locking, name, read_value)\u001b[0m\n\u001b[1;32m    913\u001b[0m     \u001b[0;32mwith\u001b[0m \u001b[0m_handle_graph\u001b[0m\u001b[0;34m(\u001b[0m\u001b[0mself\u001b[0m\u001b[0;34m.\u001b[0m\u001b[0mhandle\u001b[0m\u001b[0;34m)\u001b[0m\u001b[0;34m:\u001b[0m\u001b[0;34m\u001b[0m\u001b[0;34m\u001b[0m\u001b[0m\n\u001b[1;32m    914\u001b[0m       \u001b[0mvalue_tensor\u001b[0m \u001b[0;34m=\u001b[0m \u001b[0mops\u001b[0m\u001b[0;34m.\u001b[0m\u001b[0mconvert_to_tensor\u001b[0m\u001b[0;34m(\u001b[0m\u001b[0mvalue\u001b[0m\u001b[0;34m,\u001b[0m \u001b[0mdtype\u001b[0m\u001b[0;34m=\u001b[0m\u001b[0mself\u001b[0m\u001b[0;34m.\u001b[0m\u001b[0mdtype\u001b[0m\u001b[0;34m)\u001b[0m\u001b[0;34m\u001b[0m\u001b[0;34m\u001b[0m\u001b[0m\n\u001b[0;32m--> 915\u001b[0;31m       \u001b[0mself\u001b[0m\u001b[0;34m.\u001b[0m\u001b[0m_shape\u001b[0m\u001b[0;34m.\u001b[0m\u001b[0massert_is_compatible_with\u001b[0m\u001b[0;34m(\u001b[0m\u001b[0mvalue_tensor\u001b[0m\u001b[0;34m.\u001b[0m\u001b[0mshape\u001b[0m\u001b[0;34m)\u001b[0m\u001b[0;34m\u001b[0m\u001b[0;34m\u001b[0m\u001b[0m\n\u001b[0m\u001b[1;32m    916\u001b[0m       assign_op = gen_resource_variable_ops.assign_variable_op(\n\u001b[1;32m    917\u001b[0m           self.handle, value_tensor, name=name)\n",
      "\u001b[0;32m/opt/anaconda3/lib/python3.7/site-packages/tensorflow/python/framework/tensor_shape.py\u001b[0m in \u001b[0;36massert_is_compatible_with\u001b[0;34m(self, other)\u001b[0m\n\u001b[1;32m   1021\u001b[0m     \"\"\"\n\u001b[1;32m   1022\u001b[0m     \u001b[0;32mif\u001b[0m \u001b[0;32mnot\u001b[0m \u001b[0mself\u001b[0m\u001b[0;34m.\u001b[0m\u001b[0mis_compatible_with\u001b[0m\u001b[0;34m(\u001b[0m\u001b[0mother\u001b[0m\u001b[0;34m)\u001b[0m\u001b[0;34m:\u001b[0m\u001b[0;34m\u001b[0m\u001b[0;34m\u001b[0m\u001b[0m\n\u001b[0;32m-> 1023\u001b[0;31m       \u001b[0;32mraise\u001b[0m \u001b[0mValueError\u001b[0m\u001b[0;34m(\u001b[0m\u001b[0;34m\"Shapes %s and %s are incompatible\"\u001b[0m \u001b[0;34m%\u001b[0m \u001b[0;34m(\u001b[0m\u001b[0mself\u001b[0m\u001b[0;34m,\u001b[0m \u001b[0mother\u001b[0m\u001b[0;34m)\u001b[0m\u001b[0;34m)\u001b[0m\u001b[0;34m\u001b[0m\u001b[0;34m\u001b[0m\u001b[0m\n\u001b[0m\u001b[1;32m   1024\u001b[0m \u001b[0;34m\u001b[0m\u001b[0m\n\u001b[1;32m   1025\u001b[0m   \u001b[0;32mdef\u001b[0m \u001b[0mmost_specific_compatible_shape\u001b[0m\u001b[0;34m(\u001b[0m\u001b[0mself\u001b[0m\u001b[0;34m,\u001b[0m \u001b[0mother\u001b[0m\u001b[0;34m)\u001b[0m\u001b[0;34m:\u001b[0m\u001b[0;34m\u001b[0m\u001b[0;34m\u001b[0m\u001b[0m\n",
      "\u001b[0;31mValueError\u001b[0m: Shapes (15, 256) and (15, 512) are incompatible"
     ]
    }
   ],
   "source": [
    "single_step_model = tf.keras.models.Sequential()\n",
    "single_step_model.add(tf.keras.layers.LSTM(64,\n",
    "                                          return_sequences=True,\n",
    "                                          input_shape=x_0.shape[-2:]))\n",
    "single_step_model.add(tf.keras.layers.LSTM(32, return_sequences=True, activation='relu'))\n",
    "single_step_model.add(tf.keras.layers.LSTM(32, activation='relu'))\n",
    "single_step_model.add(tf.keras.layers.Dense(75 if multi_step else 15))\n",
    "\n",
    "single_step_model.load_weights(model_path)\n",
    "\n",
    "single_step_model.compile(optimizer='nadam', loss='mae', metrics=['mae', 'mse'])\n",
    "single_step_model.summary()\n",
    "\n",
    "y_pred_0 = single_step_model.predict(x_0, batch_size = 4096)\n",
    "y_pred_1 = single_step_model.predict(x_1, batch_size = 4096)\n",
    "y_pred_2 = single_step_model.predict(x_2, batch_size = 4096)\n",
    "y_pred_3 = single_step_model.predict(x_3, batch_size = 4096)"
   ]
  },
  {
   "cell_type": "markdown",
   "metadata": {},
   "source": [
    "### Multi-step"
   ]
  },
  {
   "cell_type": "code",
   "execution_count": 42,
   "metadata": {},
   "outputs": [
    {
     "name": "stdout",
     "output_type": "stream",
     "text": [
      "_________________________________________________________________\n",
      "Layer (type)                 Output Shape              Param #   \n",
      "=================================================================\n",
      "lstm_12 (LSTM)               (None, 15, 128)           73728     \n",
      "_________________________________________________________________\n",
      "lstm_13 (LSTM)               (None, 15, 64)            49408     \n",
      "_________________________________________________________________\n",
      "lstm_14 (LSTM)               (None, 64)                33024     \n",
      "_________________________________________________________________\n",
      "dense_4 (Dense)              (None, 150)               9750      \n",
      "=================================================================\n",
      "Total params: 165,910\n",
      "Trainable params: 165,910\n",
      "Non-trainable params: 0\n",
      "_________________________________________________________________\n"
     ]
    }
   ],
   "source": [
    "multi_step_model = tf.keras.models.Sequential()\n",
    "multi_step_model.add(tf.keras.layers.LSTM(128,\n",
    "                                          return_sequences=True,\n",
    "                                          input_shape=x_0.shape[-2:]))\n",
    "multi_step_model.add(tf.keras.layers.LSTM(64, return_sequences=True, activation='relu'))\n",
    "multi_step_model.add(tf.keras.layers.LSTM(64, activation='relu'))\n",
    "multi_step_model.add(tf.keras.layers.Dense(future_target*past_history))\n",
    "\n",
    "multi_step_model.load_weights(model_path)\n",
    "\n",
    "multi_step_model.compile(optimizer='nadam', loss='mae', metrics=['mae', 'mse'])\n",
    "multi_step_model.summary()\n",
    "\n",
    "y_pred_0 = multi_step_model.predict(x_0, batch_size = 4096).reshape((x_0.shape[0], -1, 15))[:, -1, :]\n",
    "y_pred_1 = multi_step_model.predict(x_1, batch_size = 4096).reshape((x_1.shape[0], -1, 15))[:, -1, :]\n",
    "y_pred_2 = multi_step_model.predict(x_2, batch_size = 4096).reshape((x_2.shape[0], -1, 15))[:, -1, :]\n",
    "y_pred_3 = multi_step_model.predict(x_3, batch_size = 4096).reshape((x_3.shape[0], -1, 15))[:, -1, :]\n",
    "\n",
    "y_0 = y_0[:, -1, :]\n",
    "y_1 = y_1[:, -1, :]\n",
    "y_2 = y_2[:, -1, :]\n",
    "y_3 = y_3[:, -1, :]"
   ]
  },
  {
   "cell_type": "code",
   "execution_count": 43,
   "metadata": {},
   "outputs": [
    {
     "name": "stdout",
     "output_type": "stream",
     "text": [
      "(75880, 15) (167230, 15) (6580, 15) (70, 15)\n"
     ]
    }
   ],
   "source": [
    "print(y_pred_0.shape, y_pred_1.shape, y_pred_2.shape, y_pred_3.shape)"
   ]
  },
  {
   "cell_type": "code",
   "execution_count": 44,
   "metadata": {},
   "outputs": [
    {
     "data": {
      "image/png": "[encoded data removed]",
      "text/plain": [
       "<Figure size 432x288 with 1 Axes>"
      ]
     },
     "metadata": {
      "needs_background": "light"
     },
     "output_type": "display_data"
    },
    {
     "data": {
      "image/png": "[encoded data removed]",
      "text/plain": [
       "<Figure size 432x288 with 1 Axes>"
      ]
     },
     "metadata": {
      "needs_background": "light"
     },
     "output_type": "display_data"
    },
    {
     "data": {
      "image/png": "[encoded data removed]",
      "text/plain": [
       "<Figure size 432x288 with 1 Axes>"
      ]
     },
     "metadata": {
      "needs_background": "light"
     },
     "output_type": "display_data"
    },
    {
     "data": {
      "image/png": "[encoded data removed]",
      "text/plain": [
       "<Figure size 432x288 with 1 Axes>"
      ]
     },
     "metadata": {
      "needs_background": "light"
     },
     "output_type": "display_data"
    }
   ],
   "source": [
    "y_0, y_pred_0, delta_0 = recover_quake(y_pred_0, y_0, val_data_mean0, val_data_var0, len(quakes0))\n",
    "y_1, y_pred_1, delta_1 = recover_quake(y_pred_1, y_1, val_data_mean1, val_data_var1, len(quakes1))\n",
    "y_2, y_pred_2, delta_2 = recover_quake(y_pred_2, y_2, val_data_mean2, val_data_var2, len(quakes2))\n",
    "y_3, y_pred_3, delta_3 = recover_quake(y_pred_3, y_3, val_data_mean3, val_data_var3, len(quakes3))\n",
    "\n",
    "plt.figure()\n",
    "plt.hist(delta_0)\n",
    "plt.show()\n",
    "\n",
    "plt.figure()\n",
    "plt.hist(delta_1)\n",
    "plt.show()\n",
    "\n",
    "plt.figure()\n",
    "plt.hist(delta_2)\n",
    "plt.show()\n",
    "\n",
    "plt.figure()\n",
    "plt.hist(delta_3)\n",
    "plt.show()"
   ]
  },
  {
   "cell_type": "code",
   "execution_count": 36,
   "metadata": {},
   "outputs": [
    {
     "data": {
      "image/png": "[encoded data removed]",
      "text/plain": [
       "<Figure size 432x288 with 1 Axes>"
      ]
     },
     "metadata": {
      "needs_background": "light"
     },
     "output_type": "display_data"
    }
   ],
   "source": [
    "plt.plot(delta_3)\n",
    "plt.show()"
   ]
  },
  {
   "cell_type": "code",
   "execution_count": 37,
   "metadata": {},
   "outputs": [
    {
     "data": {
      "text/plain": [
       "(10500,)"
      ]
     },
     "execution_count": 37,
     "metadata": {},
     "output_type": "execute_result"
    }
   ],
   "source": [
    "delta_3.shape"
   ]
  },
  {
   "cell_type": "code",
   "execution_count": 21,
   "metadata": {},
   "outputs": [
    {
     "data": {
      "text/plain": [
       "(11382000,)"
      ]
     },
     "execution_count": 21,
     "metadata": {},
     "output_type": "execute_result"
    }
   ],
   "source": [
    "delta_0.shape"
   ]
  },
  {
   "cell_type": "code",
   "execution_count": 47,
   "metadata": {},
   "outputs": [
    {
     "data": {
      "text/plain": [
       "(2456.505137651211, 210679.04251220662, 11952909.33265154, 2959383195.895107)"
      ]
     },
     "execution_count": 47,
     "metadata": {},
     "output_type": "execute_result"
    }
   ],
   "source": [
    "def mae(delta):\n",
    "    return np.mean(np.abs(delta))\n",
    "mae(delta_0), mae(delta_1), mae(delta_2), mae(delta_3)"
   ]
  },
  {
   "cell_type": "code",
   "execution_count": 48,
   "metadata": {},
   "outputs": [
    {
     "data": {
      "text/plain": [
       "(63.67665132279604, 981.4271538303974, 1977.8099553238198, 9417.537146257033)"
      ]
     },
     "execution_count": 48,
     "metadata": {},
     "output_type": "execute_result"
    }
   ],
   "source": [
    "mae(delta_0)/np.mean(val_data_var0), mae(delta_1)/np.mean(val_data_var1), mae(delta_2)/np.mean(val_data_var2), mae(delta_3)/np.mean(val_data_var3)"
   ]
  },
  {
   "cell_type": "code",
   "execution_count": 49,
   "metadata": {},
   "outputs": [
    {
     "name": "stdout",
     "output_type": "stream",
     "text": [
      "(2168, 35, 15)\n",
      "Explained Variance Score: 1.818025930422351e-05\n",
      "Max Error Score: 21680150.423668534\n",
      "Mean Absolute Error Score: 2456.845411694634\n",
      "Mean Squared Error Score: 15037425739.231228\n",
      "Median Absolute Error Score: 30.69660070309748\n",
      "R2 Score: -0.0003833780615658533\n",
      "(4778, 35, 15)\n",
      "Explained Variance Score: 3.7074884136067965e-06\n",
      "Max Error Score: 1855030037.4573417\n",
      "Mean Absolute Error Score: 210682.88815725577\n",
      "Mean Squared Error Score: 159382636907722.53\n",
      "Median Absolute Error Score: 188.72356987850202\n",
      "R2 Score: -0.0002748641238101701\n",
      "(188, 35, 15)\n",
      "Explained Variance Score: 1.7180030282615277e-05\n",
      "Max Error Score: 2377177719.3118577\n",
      "Mean Absolute Error Score: 11953053.92247261\n",
      "Mean Squared Error Score: 5981289444025951.0\n",
      "Median Absolute Error Score: 85193.24049548406\n",
      "R2 Score: -0.02445402817260378\n",
      "(2, 35, 15)\n",
      "Explained Variance Score: 3.163064806632754e-06\n",
      "Max Error Score: 13307216859.537344\n",
      "Mean Absolute Error Score: 2959408273.2379093\n",
      "Mean Squared Error Score: 1.8982746458780738e+19\n",
      "Median Absolute Error Score: 1934341787.833725\n",
      "R2 Score: -0.8565611564544413\n"
     ]
    }
   ],
   "source": [
    "from sklearn import metrics\n",
    "\n",
    "for y_true, y_pred in zip([y_0, y_1, y_2, y_3], [y_pred_0, y_pred_1, y_pred_2, y_pred_3]):\n",
    "    print(y_pred.shape)\n",
    "    y_true = y_true[:, -1, :].reshape((-1))\n",
    "    y_pred = y_pred[:, -1, :].reshape((-1))\n",
    "\n",
    "    print(\"Explained Variance Score:\", metrics.explained_variance_score(y_true, y_pred)) \n",
    "    print(\"Max Error Score:\", metrics.max_error(y_true, y_pred)) \n",
    "    print(\"Mean Absolute Error Score:\", metrics.mean_absolute_error(y_true, y_pred)) \n",
    "    print(\"Mean Squared Error Score:\", metrics.mean_squared_error(y_true, y_pred)) \n",
    "    print(\"Median Absolute Error Score:\", metrics.median_absolute_error(y_true, y_pred)) \n",
    "    print(\"R2 Score:\", metrics.r2_score(y_true, y_pred)) "
   ]
  },
  {
   "cell_type": "code",
   "execution_count": 34,
   "metadata": {},
   "outputs": [
    {
     "data": {
      "text/plain": [
       "0.05619508965883455"
      ]
     },
     "execution_count": 34,
     "metadata": {},
     "output_type": "execute_result"
    }
   ],
   "source": [
    "overall_mae = x_0.shape[0]*mae(delta_0)/np.mean(val_data_var0) + x_1.shape[0] * mae(delta_1)/np.mean(val_data_var1) + x_2.shape[0]*mae(delta_2)/np.mean(val_data_var2) + x_3.shape[0]*mae(delta_3)/np.mean(val_data_var3)\n",
    "overall_mae /= (x_0.shape[0] + x_1.shape[0] + x_2.shape[0] + x_3.shape[0])\n",
    "overall_mae"
   ]
  },
  {
   "cell_type": "code",
   "execution_count": 24,
   "metadata": {},
   "outputs": [
    {
     "name": "stdout",
     "output_type": "stream",
     "text": [
      "Total R2:  0.45173256379232474\n"
     ]
    }
   ],
   "source": [
    "r2 = 0\n",
    "for num, y_true, y_pred in zip([x_0.shape[0], x_1.shape[0], x_2.shape[0]], [y_0, y_1, y_2], [y_pred_0, y_pred_1, y_pred_2]):\n",
    "    r2 += num*metrics.r2_score(y_true, y_pred)\n",
    "    \n",
    "print(\"Total R2: \", r2 / sum([x_0.shape[0], x_1.shape[0], x_2.shape[0]]))"
   ]
  },
  {
   "cell_type": "code",
   "execution_count": null,
   "metadata": {},
   "outputs": [],
   "source": []
  }
 ],
 "metadata": {
  "kernelspec": {
   "display_name": "Python 3",
   "language": "python",
   "name": "python3"
  },
  "language_info": {
   "codemirror_mode": {
    "name": "ipython",
    "version": 3
   },
   "file_extension": ".py",
   "mimetype": "text/x-python",
   "name": "python",
   "nbconvert_exporter": "python",
   "pygments_lexer": "ipython3",
   "version": "3.7.4"
  }
 },
 "nbformat": 4,
 "nbformat_minor": 4
}
