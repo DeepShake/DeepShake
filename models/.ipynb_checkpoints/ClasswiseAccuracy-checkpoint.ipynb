{
 "cells": [
  {
   "cell_type": "markdown",
   "metadata": {},
   "source": [
    "# Find Classwise Accuracy"
   ]
  },
  {
   "cell_type": "code",
   "execution_count": 2,
   "metadata": {},
   "outputs": [
    {
     "data": {
      "text/plain": [
       "1"
      ]
     },
     "execution_count": 2,
     "metadata": {},
     "output_type": "execute_result"
    }
   ],
   "source": [
    "from __future__ import absolute_import, division, print_function, unicode_literals\n",
    "import tensorflow as tf\n",
    "#tf.enable_eager_execution()\n",
    "import sys\n",
    "sys.path.append(\"../../utils/.\")\n",
    "from utils import *\n",
    "\n",
    "import matplotlib as mpl\n",
    "import matplotlib.pyplot as plt\n",
    "import numpy as np\n",
    "import os\n",
    "import pandas as pd\n",
    "\n",
    "mpl.rcParams['figure.figsize'] = (8, 6)\n",
    "mpl.rcParams['axes.grid'] = False\n",
    "\n",
    "tf.random.set_random_seed(13)\n",
    "\n",
    "import py3nvml\n",
    "py3nvml.grab_gpus(1)"
   ]
  },
  {
   "cell_type": "code",
   "execution_count": 15,
   "metadata": {},
   "outputs": [],
   "source": [
    "multi_step = False\n",
    "model_path = \"../trained_models_acc/archive/LSTM3.h5\""
   ]
  },
  {
   "cell_type": "markdown",
   "metadata": {},
   "source": [
    "# Load the dataset"
   ]
  },
  {
   "cell_type": "code",
   "execution_count": 4,
   "metadata": {},
   "outputs": [
    {
     "name": "stdout",
     "output_type": "stream",
     "text": [
      "Before:  (35679, 15, 60)\n",
      "After:  (35679, 60, 15)\n"
     ]
    }
   ],
   "source": [
    "dataset = np.load('../../data/acc/compressed/full_data.npy')\n",
    "print(\"Before: \", dataset.shape)\n",
    "#Swap axes\n",
    "dataset = dataset.swapaxes(1, -1)\n",
    "\n",
    "#Combine station and xyz\n",
    "#dataset = dataset.reshape(dataset.shape[0], dataset.shape[1], -1)\n",
    "print(\"After: \", dataset.shape)"
   ]
  },
  {
   "cell_type": "code",
   "execution_count": 5,
   "metadata": {},
   "outputs": [
    {
     "name": "stdout",
     "output_type": "stream",
     "text": [
      "35679\n",
      "-0.49 7.1\n"
     ]
    }
   ],
   "source": [
    "richters_path = \"../../data/metadata/richters.npy\"\n",
    "richters = np.load(richters_path)\n",
    "print(len(richters))\n",
    "print(min(richters), max(richters))\n",
    "\n",
    "classes = [0, 1, 2, 3]\n",
    "richters_discrete = np.zeros_like(richters)\n",
    "richters_discrete += np.where(richters >= 5., np.ones_like(richters), np.zeros_like(richters))\n",
    "richters_discrete += np.where(richters >= 3., np.ones_like(richters), np.zeros_like(richters))\n",
    "richters_discrete += np.where(richters >= 1., np.ones_like(richters), np.zeros_like(richters))"
   ]
  },
  {
   "cell_type": "code",
   "execution_count": 6,
   "metadata": {},
   "outputs": [
    {
     "data": {
      "text/plain": [
       "Text(0, 0.5, 'Num Earthquakes')"
      ]
     },
     "execution_count": 6,
     "metadata": {},
     "output_type": "execute_result"
    },
    {
     "data": {
      "image/png": "[encoded data removed]",
      "text/plain": [
       "<Figure size 720x360 with 2 Axes>"
      ]
     },
     "metadata": {
      "needs_background": "light"
     },
     "output_type": "display_data"
    }
   ],
   "source": [
    "# Characterize the magnitudes\n",
    "import seaborn as sns\n",
    "f,ax1 = plt.subplots(figsize=(10, 5))\n",
    "sns.distplot(richters,kde=False,ax=ax1, rug=True)\n",
    "ax2 = ax1.twinx()\n",
    "ax2.yaxis.set_ticks([])\n",
    "sns.kdeplot(richters,ax=ax2)\n",
    "plt.title(\"Earthquake Magnitudes in Dataset\")\n",
    "ax1.set_xlabel('Magnitude')\n",
    "ax1.set_ylabel('Num Earthquakes')"
   ]
  },
  {
   "cell_type": "code",
   "execution_count": 7,
   "metadata": {},
   "outputs": [],
   "source": [
    "dataset, richters_discrete = shuffle_together(dataset, richters_discrete)"
   ]
  },
  {
   "cell_type": "code",
   "execution_count": 8,
   "metadata": {},
   "outputs": [],
   "source": [
    "data_mean = np.mean(dataset, axis = 1)\n",
    "data_var = np.linalg.norm(dataset - np.expand_dims(data_mean, 1), axis = 1)\n",
    "\n",
    "#Add some epsilon to make the divide by zero var work\n",
    "epsilon = 1\n",
    "data_var[data_var == 0] = epsilon\n",
    "data_var[data_var == 0] = epsilon\n",
    "\n",
    "dataset = (dataset - np.expand_dims(data_mean, 1))/np.expand_dims(data_var, 1)"
   ]
  },
  {
   "cell_type": "markdown",
   "metadata": {},
   "source": [
    "# Segment earthquakes by magnitude"
   ]
  },
  {
   "cell_type": "code",
   "execution_count": 10,
   "metadata": {},
   "outputs": [
    {
     "data": {
      "text/plain": [
       "(array([1.0728e+04, 0.0000e+00, 0.0000e+00, 2.3971e+04, 0.0000e+00,\n",
       "        0.0000e+00, 9.7400e+02, 0.0000e+00, 0.0000e+00, 6.0000e+00]),\n",
       " array([0. , 0.3, 0.6, 0.9, 1.2, 1.5, 1.8, 2.1, 2.4, 2.7, 3. ]),\n",
       " <a list of 10 Patch objects>)"
      ]
     },
     "execution_count": 10,
     "metadata": {},
     "output_type": "execute_result"
    },
    {
     "data": {
      "image/png": "[encoded data removed]",
      "text/plain": [
       "<Figure size 432x288 with 1 Axes>"
      ]
     },
     "metadata": {
      "needs_background": "light"
     },
     "output_type": "display_data"
    }
   ],
   "source": [
    "plt.hist(richters_discrete)"
   ]
  },
  {
   "cell_type": "code",
   "execution_count": 11,
   "metadata": {},
   "outputs": [
    {
     "data": {
      "text/plain": [
       "(2168, 4778, 188, 2)"
      ]
     },
     "execution_count": 11,
     "metadata": {},
     "output_type": "execute_result"
    }
   ],
   "source": [
    "TRAIN_SPLIT_IDX = int(dataset.shape[0]*0.8)\n",
    "val_dataset = dataset[TRAIN_SPLIT_IDX:]\n",
    "val_richters_discrete = richters_discrete[TRAIN_SPLIT_IDX:]\n",
    "val_data_mean = data_mean[TRAIN_SPLIT_IDX:]\n",
    "val_data_var = data_var[TRAIN_SPLIT_IDX:]\n",
    "\n",
    "\n",
    "quakes0 = val_dataset[val_richters_discrete == 0]\n",
    "val_data_mean0 = val_data_mean[val_richters_discrete == 0]\n",
    "val_data_var0 = val_data_var[val_richters_discrete == 0]\n",
    "\n",
    "quakes1 = val_dataset[val_richters_discrete == 1]\n",
    "val_data_mean1 = val_data_mean[val_richters_discrete == 1]\n",
    "val_data_var1 = val_data_var[val_richters_discrete == 1]\n",
    "\n",
    "quakes2 = val_dataset[val_richters_discrete == 2]\n",
    "val_data_mean2 = val_data_mean[val_richters_discrete == 2]\n",
    "val_data_var2 = val_data_var[val_richters_discrete == 2]\n",
    "\n",
    "quakes3 = val_dataset[val_richters_discrete == 3]\n",
    "val_data_mean3 = val_data_mean[val_richters_discrete == 3]\n",
    "val_data_var3 = val_data_var[val_richters_discrete == 3]\n",
    "\n",
    "len(quakes0), len(quakes1), len(quakes2), len(quakes3)"
   ]
  },
  {
   "cell_type": "code",
   "execution_count": 12,
   "metadata": {},
   "outputs": [
    {
     "data": {
      "text/plain": [
       "((95392, 15, 15), (210232, 15, 15), (8272, 15, 15), (88, 15, 15))"
      ]
     },
     "execution_count": 12,
     "metadata": {},
     "output_type": "execute_result"
    }
   ],
   "source": [
    "past_history = 15\n",
    "future_target = 5 if multi_step else 1\n",
    "STEP = 1\n",
    "\n",
    "x_0, y_0 = multivariate_data(quakes0,past_history,\n",
    "                                                   future_target, STEP,\n",
    "                                                   single_step=not multi_step)\n",
    "x_1, y_1 = multivariate_data(quakes1,past_history,\n",
    "                                                   future_target, STEP,\n",
    "                                                   single_step=not multi_step)\n",
    "x_2, y_2 = multivariate_data(quakes2,past_history,\n",
    "                                                   future_target, STEP,\n",
    "                                                   single_step=not multi_step)\n",
    "x_3, y_3 = multivariate_data(quakes3,past_history,\n",
    "                                                   future_target, STEP,\n",
    "                                                   single_step=not multi_step)\n",
    "\n",
    "x_0.shape, x_1.shape, x_2.shape, x_3.shape "
   ]
  },
  {
   "cell_type": "code",
   "execution_count": 13,
   "metadata": {},
   "outputs": [
    {
     "data": {
      "text/plain": [
       "(95392, 15)"
      ]
     },
     "execution_count": 13,
     "metadata": {},
     "output_type": "execute_result"
    }
   ],
   "source": [
    "y_0.shape"
   ]
  },
  {
   "cell_type": "markdown",
   "metadata": {},
   "source": [
    "# Load the model"
   ]
  },
  {
   "cell_type": "code",
   "execution_count": 16,
   "metadata": {},
   "outputs": [
    {
     "name": "stdout",
     "output_type": "stream",
     "text": [
      "_________________________________________________________________\n",
      "Layer (type)                 Output Shape              Param #   \n",
      "=================================================================\n",
      "lstm_3 (LSTM)                (None, 15, 64)            20480     \n",
      "_________________________________________________________________\n",
      "lstm_4 (LSTM)                (None, 15, 32)            12416     \n",
      "_________________________________________________________________\n",
      "lstm_5 (LSTM)                (None, 32)                8320      \n",
      "_________________________________________________________________\n",
      "dense_1 (Dense)              (None, 15)                495       \n",
      "=================================================================\n",
      "Total params: 41,711\n",
      "Trainable params: 41,711\n",
      "Non-trainable params: 0\n",
      "_________________________________________________________________\n"
     ]
    }
   ],
   "source": [
    "single_step_model = tf.keras.models.Sequential()\n",
    "single_step_model.add(tf.keras.layers.LSTM(64,\n",
    "                                          return_sequences=True,\n",
    "                                          input_shape=x_0.shape[-2:]))\n",
    "single_step_model.add(tf.keras.layers.LSTM(32, return_sequences=True, activation='relu'))\n",
    "single_step_model.add(tf.keras.layers.LSTM(32, activation='relu'))\n",
    "single_step_model.add(tf.keras.layers.Dense(75 if multi_step else 15))\n",
    "\n",
    "single_step_model.load_weights(model_path)\n",
    "\n",
    "single_step_model.compile(optimizer='nadam', loss='mae', metrics=['mae', 'mse'])\n",
    "single_step_model.summary()"
   ]
  },
  {
   "cell_type": "code",
   "execution_count": 17,
   "metadata": {},
   "outputs": [],
   "source": [
    "y_pred_0 = single_step_model.predict(x_0, batch_size = 4096)\n",
    "y_pred_1 = single_step_model.predict(x_1, batch_size = 4096)\n",
    "y_pred_2 = single_step_model.predict(x_2, batch_size = 4096)\n",
    "y_pred_3 = single_step_model.predict(x_3, batch_size = 4096)"
   ]
  },
  {
   "cell_type": "code",
   "execution_count": 18,
   "metadata": {},
   "outputs": [
    {
     "data": {
      "image/png": "[encoded data removed]",
      "text/plain": [
       "<Figure size 432x288 with 1 Axes>"
      ]
     },
     "metadata": {
      "needs_background": "light"
     },
     "output_type": "display_data"
    },
    {
     "data": {
      "image/png": "[encoded data removed]",
      "text/plain": [
       "<Figure size 432x288 with 1 Axes>"
      ]
     },
     "metadata": {
      "needs_background": "light"
     },
     "output_type": "display_data"
    },
    {
     "data": {
      "image/png": "[encoded data removed]",
      "text/plain": [
       "<Figure size 432x288 with 1 Axes>"
      ]
     },
     "metadata": {
      "needs_background": "light"
     },
     "output_type": "display_data"
    },
    {
     "data": {
      "image/png": "[encoded data removed]",
      "text/plain": [
       "<Figure size 432x288 with 1 Axes>"
      ]
     },
     "metadata": {
      "needs_background": "light"
     },
     "output_type": "display_data"
    }
   ],
   "source": [
    "recovered_y_0, recovered_y_pred_0, delta_0 = recover_quake(y_pred_0, y_0, val_data_mean0, val_data_var0, len(quakes0))\n",
    "recovered_y_1, recovered_y_pred_1, delta_1 = recover_quake(y_pred_1, y_1, val_data_mean1, val_data_var1, len(quakes1))\n",
    "recovered_y_2, recovered_y_pred_2, delta_2 = recover_quake(y_pred_2, y_2, val_data_mean2, val_data_var2, len(quakes2))\n",
    "recovered_y_3, recovered_y_pred_3, delta_3 = recover_quake(y_pred_3, y_3, val_data_mean3, val_data_var3, len(quakes3))\n",
    "\n",
    "plt.figure()\n",
    "plt.hist(delta_0)\n",
    "plt.show()\n",
    "\n",
    "plt.figure()\n",
    "plt.hist(delta_1)\n",
    "plt.show()\n",
    "\n",
    "plt.figure()\n",
    "plt.hist(delta_2)\n",
    "plt.show()\n",
    "\n",
    "plt.figure()\n",
    "plt.hist(delta_3)\n",
    "plt.show()"
   ]
  },
  {
   "cell_type": "code",
   "execution_count": 17,
   "metadata": {},
   "outputs": [
    {
     "data": {
      "text/plain": [
       "(1471140,)"
      ]
     },
     "execution_count": 17,
     "metadata": {},
     "output_type": "execute_result"
    }
   ],
   "source": [
    "delta_0.shape"
   ]
  },
  {
   "cell_type": "code",
   "execution_count": 18,
   "metadata": {},
   "outputs": [
    {
     "data": {
      "text/plain": [
       "(2.4407704933506555, 9.02661874414914, 228.49328712082567)"
      ]
     },
     "execution_count": 18,
     "metadata": {},
     "output_type": "execute_result"
    }
   ],
   "source": [
    "def mae(delta):\n",
    "    return np.mean(np.abs(delta))\n",
    "mae(delta_0), mae(delta_1), mae(delta_2)#, mae(delta_3)"
   ]
  },
  {
   "cell_type": "code",
   "execution_count": 19,
   "metadata": {},
   "outputs": [
    {
     "data": {
      "text/plain": [
       "(0.05351915330113796, 0.044827990852614415, 0.040088650203474546)"
      ]
     },
     "execution_count": 19,
     "metadata": {},
     "output_type": "execute_result"
    }
   ],
   "source": [
    "mae(delta_0)/np.mean(val_data_var0), mae(delta_1)/np.mean(val_data_var1), mae(delta_2)/np.mean(val_data_var2)#, mae(delta_3)/np.mean(val_data_var3)"
   ]
  },
  {
   "cell_type": "code",
   "execution_count": 22,
   "metadata": {},
   "outputs": [
    {
     "name": "stdout",
     "output_type": "stream",
     "text": [
      "\n",
      "Explained Variance Score: 0.36360684369785434\n",
      "Max Error Score: 1.0345686692603229\n",
      "Mean Absolute Error Score: 0.06686801007707084\n",
      "Mean Squared Error Score: 0.01217337479350094\n",
      "Median Absolute Error Score: 0.03545837218043525\n",
      "R2 Score: 0.3469841934544178\n",
      "\n",
      "Explained Variance Score: 0.5216751300379583\n",
      "Max Error Score: 1.057024127186733\n",
      "Mean Absolute Error Score: 0.051065925297787924\n",
      "Mean Squared Error Score: 0.00935696260909213\n",
      "Median Absolute Error Score: 0.020898166608767282\n",
      "R2 Score: 0.5068405943635172\n",
      "\n",
      "Explained Variance Score: 0.6113449051399055\n",
      "Max Error Score: 1.0416661935702347\n",
      "Mean Absolute Error Score: 0.04227206870021481\n",
      "Mean Squared Error Score: 0.007402679132428066\n",
      "Median Absolute Error Score: 0.016080832568010316\n",
      "R2 Score: 0.5973651526629721\n"
     ]
    }
   ],
   "source": [
    "from sklearn import metrics\n",
    "\n",
    "for y_true, y_pred in zip([y_0, y_1, y_2], [y_pred_0, y_pred_1, y_pred_2]):\n",
    "    print()\n",
    "    y_true = y_true.reshape(-1)\n",
    "    y_pred = y_pred.reshape(-1)\n",
    "    print(\"Explained Variance Score:\", metrics.explained_variance_score(y_true, y_pred)) \n",
    "    print(\"Max Error Score:\", metrics.max_error(y_true, y_pred)) \n",
    "    print(\"Mean Absolute Error Score:\", metrics.mean_absolute_error(y_true, y_pred)) \n",
    "    print(\"Mean Squared Error Score:\", metrics.mean_squared_error(y_true, y_pred)) \n",
    "    print(\"Median Absolute Error Score:\", metrics.median_absolute_error(y_true, y_pred)) \n",
    "    print(\"R2 Score:\", metrics.r2_score(y_true, y_pred)) "
   ]
  },
  {
   "cell_type": "code",
   "execution_count": 21,
   "metadata": {},
   "outputs": [
    {
     "data": {
      "text/plain": [
       "0.04740860384121205"
      ]
     },
     "execution_count": 21,
     "metadata": {},
     "output_type": "execute_result"
    }
   ],
   "source": [
    "overall_mae = x_0.shape[0]*mae(delta_0)/np.mean(val_data_var0) + x_1.shape[0] * mae(delta_1)/np.mean(val_data_var1) + x_2.shape[0]*mae(delta_2)/np.mean(val_data_var2)\n",
    "\n",
    "overall_mae /= x_0.shape[0] + x_1.shape[0] + x_2.shape[0]\n",
    "overall_mae"
   ]
  },
  {
   "cell_type": "code",
   "execution_count": 24,
   "metadata": {},
   "outputs": [
    {
     "name": "stdout",
     "output_type": "stream",
     "text": [
      "Total R2:  0.45173256379232474\n"
     ]
    }
   ],
   "source": [
    "r2 = 0\n",
    "for num, y_true, y_pred in zip([x_0.shape[0], x_1.shape[0], x_2.shape[0]], [y_0, y_1, y_2], [y_pred_0, y_pred_1, y_pred_2]):\n",
    "    r2 += num*metrics.r2_score(y_true, y_pred)\n",
    "    \n",
    "print(\"Total R2: \", r2 / sum([x_0.shape[0], x_1.shape[0], x_2.shape[0]]))"
   ]
  },
  {
   "cell_type": "code",
   "execution_count": null,
   "metadata": {},
   "outputs": [],
   "source": []
  }
 ],
 "metadata": {
  "kernelspec": {
   "display_name": "Python 3",
   "language": "python",
   "name": "python3"
  },
  "language_info": {
   "codemirror_mode": {
    "name": "ipython",
    "version": 3
   },
   "file_extension": ".py",
   "mimetype": "text/x-python",
   "name": "python",
   "nbconvert_exporter": "python",
   "pygments_lexer": "ipython3",
   "version": "3.7.4"
  }
 },
 "nbformat": 4,
 "nbformat_minor": 4
}
