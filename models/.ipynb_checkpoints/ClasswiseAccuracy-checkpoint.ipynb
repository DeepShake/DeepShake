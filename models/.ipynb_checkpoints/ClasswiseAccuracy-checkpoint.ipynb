{
 "cells": [
  {
   "cell_type": "markdown",
   "metadata": {},
   "source": [
    "# Find Classwise Accuracy"
   ]
  },
  {
   "cell_type": "code",
   "execution_count": 108,
   "metadata": {},
   "outputs": [
    {
     "data": {
      "text/plain": [
       "1"
      ]
     },
     "execution_count": 108,
     "metadata": {},
     "output_type": "execute_result"
    }
   ],
   "source": [
    "from __future__ import absolute_import, division, print_function, unicode_literals\n",
    "import tensorflow as tf\n",
    "#tf.enable_eager_execution()\n",
    "import sys\n",
    "sys.path.append(\"../utils/.\")\n",
    "from utils import *\n",
    "\n",
    "import matplotlib as mpl\n",
    "import matplotlib.pyplot as plt\n",
    "import numpy as np\n",
    "import os\n",
    "import pandas as pd\n",
    "\n",
    "mpl.rcParams['figure.figsize'] = (8, 6)\n",
    "mpl.rcParams['axes.grid'] = False\n",
    "\n",
    "tf.random.set_random_seed(13)\n",
    "\n",
    "import py3nvml\n",
    "py3nvml.grab_gpus(1)"
   ]
  },
  {
   "cell_type": "code",
   "execution_count": 109,
   "metadata": {},
   "outputs": [],
   "source": [
    "num_steps = 10\n",
    "# model_path = \"trained_models_acc/multistep/LSTM3_10steps.h5\"\n",
    "model_path = \"trained_models_acc/multistep/LSTM3_10steps_dropzero.h5\"\n",
    "\n",
    "# model_path = \"trained_models_acc/multistep/LSTM3_10steps_small_pool.h5\"\n"
   ]
  },
  {
   "cell_type": "markdown",
   "metadata": {},
   "source": [
    "# Load the dataset"
   ]
  },
  {
   "cell_type": "code",
   "execution_count": 110,
   "metadata": {},
   "outputs": [
    {
     "name": "stdout",
     "output_type": "stream",
     "text": [
      "Before:  (35679, 15, 60)\n",
      "After:  (35679, 60, 15)\n"
     ]
    }
   ],
   "source": [
    "dataset = np.load('../data/acc/compressed/full_data.npy')\n",
    "# dataset = np.load('../data/acc/compressed_pool/full_data.npy')\n",
    "print(\"Before: \", dataset.shape)\n",
    "#Swap axes\n",
    "dataset = dataset.swapaxes(1, -1)\n",
    "\n",
    "#Combine station and xyz\n",
    "#dataset = dataset.reshape(dataset.shape[0], dataset.shape[1], -1)\n",
    "print(\"After: \", dataset.shape)"
   ]
  },
  {
   "cell_type": "code",
   "execution_count": 111,
   "metadata": {},
   "outputs": [
    {
     "name": "stdout",
     "output_type": "stream",
     "text": [
      "35679\n",
      "-0.49 7.1\n"
     ]
    }
   ],
   "source": [
    "richters_path = \"../data/metadata/richters.npy\"\n",
    "richters = np.load(richters_path)\n",
    "print(len(richters))\n",
    "print(min(richters), max(richters))\n",
    "\n",
    "classes = [0, 1, 2, 3]\n",
    "richters_discrete = np.zeros_like(richters)\n",
    "richters_discrete += np.where(richters >= 5., np.ones_like(richters), np.zeros_like(richters))\n",
    "richters_discrete += np.where(richters >= 3., np.ones_like(richters), np.zeros_like(richters))\n",
    "richters_discrete += np.where(richters >= 1., np.ones_like(richters), np.zeros_like(richters))"
   ]
  },
  {
   "cell_type": "code",
   "execution_count": 112,
   "metadata": {},
   "outputs": [
    {
     "data": {
      "text/plain": [
       "Text(0, 0.5, 'Num Earthquakes')"
      ]
     },
     "execution_count": 112,
     "metadata": {},
     "output_type": "execute_result"
    },
    {
     "data": {
      "image/png": "[encoded data removed]",
      "text/plain": [
       "<Figure size 720x360 with 2 Axes>"
      ]
     },
     "metadata": {
      "needs_background": "light"
     },
     "output_type": "display_data"
    }
   ],
   "source": [
    "# Characterize the magnitudes\n",
    "import seaborn as sns\n",
    "f,ax1 = plt.subplots(figsize=(10, 5))\n",
    "sns.distplot(richters,kde=False,ax=ax1, rug=True)\n",
    "ax2 = ax1.twinx()\n",
    "ax2.yaxis.set_ticks([])\n",
    "sns.kdeplot(richters,ax=ax2)\n",
    "plt.title(\"Earthquake Magnitudes in Dataset\")\n",
    "ax1.set_xlabel('Magnitude')\n",
    "ax1.set_ylabel('Num Earthquakes')"
   ]
  },
  {
   "cell_type": "code",
   "execution_count": 113,
   "metadata": {},
   "outputs": [],
   "source": [
    "dataset, richters_discrete = shuffle_together(dataset, richters_discrete)"
   ]
  },
  {
   "cell_type": "code",
   "execution_count": 114,
   "metadata": {},
   "outputs": [],
   "source": [
    "data_mean = np.mean(dataset, axis = 1)\n",
    "data_var = np.linalg.norm(dataset - np.expand_dims(data_mean, 1), axis = 1)\n",
    "\n",
    "#Add some epsilon to make the divide by zero var work\n",
    "epsilon = 1\n",
    "data_var[data_var == 0] = epsilon\n",
    "data_var[data_var == 0] = epsilon\n",
    "\n",
    "dataset = (dataset - np.expand_dims(data_mean, 1))/np.expand_dims(data_var, 1)"
   ]
  },
  {
   "cell_type": "markdown",
   "metadata": {},
   "source": [
    "# Segment earthquakes by magnitude"
   ]
  },
  {
   "cell_type": "code",
   "execution_count": 115,
   "metadata": {},
   "outputs": [
    {
     "data": {
      "text/plain": [
       "(array([1.0728e+04, 0.0000e+00, 0.0000e+00, 2.3971e+04, 0.0000e+00,\n",
       "        0.0000e+00, 9.7400e+02, 0.0000e+00, 0.0000e+00, 6.0000e+00]),\n",
       " array([0. , 0.3, 0.6, 0.9, 1.2, 1.5, 1.8, 2.1, 2.4, 2.7, 3. ]),\n",
       " <a list of 10 Patch objects>)"
      ]
     },
     "execution_count": 115,
     "metadata": {},
     "output_type": "execute_result"
    },
    {
     "data": {
      "image/png": "[encoded data removed]",
      "text/plain": [
       "<Figure size 576x432 with 1 Axes>"
      ]
     },
     "metadata": {
      "needs_background": "light"
     },
     "output_type": "display_data"
    }
   ],
   "source": [
    "plt.hist(richters_discrete)"
   ]
  },
  {
   "cell_type": "code",
   "execution_count": 116,
   "metadata": {},
   "outputs": [
    {
     "data": {
      "text/plain": [
       "(2168, 4778, 188, 2)"
      ]
     },
     "execution_count": 116,
     "metadata": {},
     "output_type": "execute_result"
    }
   ],
   "source": [
    "TRAIN_SPLIT_IDX = int(dataset.shape[0]*0.8)\n",
    "val_dataset = dataset[TRAIN_SPLIT_IDX:]\n",
    "val_richters_discrete = richters_discrete[TRAIN_SPLIT_IDX:]\n",
    "val_data_mean = data_mean[TRAIN_SPLIT_IDX:]\n",
    "val_data_var = data_var[TRAIN_SPLIT_IDX:]\n",
    "\n",
    "\n",
    "quakes0 = val_dataset[val_richters_discrete == 0]\n",
    "val_data_mean0 = val_data_mean[val_richters_discrete == 0]\n",
    "val_data_var0 = val_data_var[val_richters_discrete == 0]\n",
    "\n",
    "quakes1 = val_dataset[val_richters_discrete == 1]\n",
    "val_data_mean1 = val_data_mean[val_richters_discrete == 1]\n",
    "val_data_var1 = val_data_var[val_richters_discrete == 1]\n",
    "\n",
    "quakes2 = val_dataset[val_richters_discrete == 2]\n",
    "val_data_mean2 = val_data_mean[val_richters_discrete == 2]\n",
    "val_data_var2 = val_data_var[val_richters_discrete == 2]\n",
    "\n",
    "quakes3 = val_dataset[val_richters_discrete == 3]\n",
    "val_data_mean3 = val_data_mean[val_richters_discrete == 3]\n",
    "val_data_var3 = val_data_var[val_richters_discrete == 3]\n",
    "\n",
    "len(quakes0), len(quakes1), len(quakes2), len(quakes3)"
   ]
  },
  {
   "cell_type": "code",
   "execution_count": 117,
   "metadata": {},
   "outputs": [
    {
     "data": {
      "text/plain": [
       "((75880, 15, 15), (167230, 15, 15), (6580, 15, 15), (70, 15, 15))"
      ]
     },
     "execution_count": 117,
     "metadata": {},
     "output_type": "execute_result"
    }
   ],
   "source": [
    "past_history = 15\n",
    "future_target =  num_steps\n",
    "STEP = 1\n",
    "\n",
    "x_0, y_0 = multivariate_data(quakes0,past_history,\n",
    "                                                   future_target, STEP,\n",
    "                                                   single_step= (num_steps == 1))\n",
    "x_1, y_1 = multivariate_data(quakes1,past_history,\n",
    "                                                   future_target, STEP,\n",
    "                                                   single_step= (num_steps == 1))\n",
    "x_2, y_2 = multivariate_data(quakes2,past_history,\n",
    "                                                   future_target, STEP,\n",
    "                                                   single_step= (num_steps == 1))\n",
    "x_3, y_3 = multivariate_data(quakes3,past_history,\n",
    "                                                   future_target, STEP,\n",
    "                                                   single_step= (num_steps == 1))\n",
    "\n",
    "x_0.shape, x_1.shape, x_2.shape, x_3.shape "
   ]
  },
  {
   "cell_type": "code",
   "execution_count": 118,
   "metadata": {},
   "outputs": [
    {
     "data": {
      "text/plain": [
       "((75880, 15, 15), (75880, 10, 15))"
      ]
     },
     "execution_count": 118,
     "metadata": {},
     "output_type": "execute_result"
    }
   ],
   "source": [
    "x_0.shape, y_0.shape"
   ]
  },
  {
   "cell_type": "markdown",
   "metadata": {},
   "source": [
    "# Load the model"
   ]
  },
  {
   "cell_type": "code",
   "execution_count": 119,
   "metadata": {},
   "outputs": [
    {
     "name": "stdout",
     "output_type": "stream",
     "text": [
      "_________________________________________________________________\n",
      "Layer (type)                 Output Shape              Param #   \n",
      "=================================================================\n",
      "lstm_12 (LSTM)               (None, 15, 128)           73728     \n",
      "_________________________________________________________________\n",
      "lstm_13 (LSTM)               (None, 15, 64)            49408     \n",
      "_________________________________________________________________\n",
      "lstm_14 (LSTM)               (None, 64)                33024     \n",
      "_________________________________________________________________\n",
      "dense_4 (Dense)              (None, 150)               9750      \n",
      "=================================================================\n",
      "Total params: 165,910\n",
      "Trainable params: 165,910\n",
      "Non-trainable params: 0\n",
      "_________________________________________________________________\n"
     ]
    }
   ],
   "source": [
    "# Smaller model\n",
    "inp_shape = (15, 15)\n",
    "single_step_model = tf.keras.models.Sequential()\n",
    "single_step_model.add(tf.keras.layers.LSTM(128,\n",
    "                                          return_sequences=True,\n",
    "                                          input_shape=inp_shape))\n",
    "single_step_model.add(tf.keras.layers.LSTM(64, return_sequences=True, activation='relu'))\n",
    "single_step_model.add(tf.keras.layers.LSTM(64, activation='relu'))\n",
    "single_step_model.add(tf.keras.layers.Dense(15*num_steps))\n",
    "\n",
    "single_step_model.load_weights(model_path)\n",
    "\n",
    "single_step_model.compile(optimizer='nadam', loss='mae', metrics=['mae', 'mse'])\n",
    "single_step_model.summary()"
   ]
  },
  {
   "cell_type": "code",
   "execution_count": 120,
   "metadata": {},
   "outputs": [],
   "source": [
    "# # Larger Model\n",
    "\n",
    "# single_step_model = tf.keras.models.Sequential()\n",
    "# single_step_model.add(tf.keras.layers.LSTM(256,\n",
    "#                                           return_sequences=True,\n",
    "#                                           input_shape=x_0.shape[-2:]))\n",
    "# single_step_model.add(tf.keras.layers.LSTM(128, return_sequences=True, activation='relu'))\n",
    "# single_step_model.add(tf.keras.layers.LSTM(128, activation='relu'))\n",
    "# single_step_model.add(tf.keras.layers.Dense(15*num_steps))\n",
    "\n",
    "# single_step_model.load_weights(model_path)\n",
    "\n",
    "# single_step_model.compile(optimizer='nadam', loss='mae', metrics=['mae', 'mse'])\n",
    "# single_step_model.summary()"
   ]
  },
  {
   "cell_type": "code",
   "execution_count": 121,
   "metadata": {},
   "outputs": [],
   "source": [
    "y_pred_0 = single_step_model.predict(x_0, batch_size = 4096).reshape((-1, 10, 15))[:, -1, :]\n",
    "y_pred_1 = single_step_model.predict(x_1, batch_size = 4096).reshape((-1, 10, 15))[:, -1, :]\n",
    "y_pred_2 = single_step_model.predict(x_2, batch_size = 4096).reshape((-1, 10, 15))[:, -1, :]\n",
    "y_pred_3 = single_step_model.predict(x_3, batch_size = 4096).reshape((-1, 10, 15))[:, -1, :]\n",
    "\n",
    "y_0 = y_0[:, -1, :]\n",
    "y_1 = y_1[:, -1, :]\n",
    "y_2 = y_2[:, -1, :]\n",
    "y_3 = y_3[:, -1, :]"
   ]
  },
  {
   "cell_type": "code",
   "execution_count": 122,
   "metadata": {},
   "outputs": [
    {
     "data": {
      "text/plain": [
       "(75880, 15)"
      ]
     },
     "execution_count": 122,
     "metadata": {},
     "output_type": "execute_result"
    }
   ],
   "source": [
    "y_0.shape"
   ]
  },
  {
   "cell_type": "code",
   "execution_count": 123,
   "metadata": {},
   "outputs": [
    {
     "data": {
      "image/png": "[encoded data removed]",
      "text/plain": [
       "<Figure size 576x432 with 1 Axes>"
      ]
     },
     "metadata": {
      "needs_background": "light"
     },
     "output_type": "display_data"
    },
    {
     "data": {
      "image/png": "[encoded data removed]",
      "text/plain": [
       "<Figure size 576x432 with 1 Axes>"
      ]
     },
     "metadata": {
      "needs_background": "light"
     },
     "output_type": "display_data"
    },
    {
     "data": {
      "image/png": "[encoded data removed]",
      "text/plain": [
       "<Figure size 576x432 with 1 Axes>"
      ]
     },
     "metadata": {
      "needs_background": "light"
     },
     "output_type": "display_data"
    },
    {
     "data": {
      "image/png": "[encoded data removed]",
      "text/plain": [
       "<Figure size 576x432 with 1 Axes>"
      ]
     },
     "metadata": {
      "needs_background": "light"
     },
     "output_type": "display_data"
    }
   ],
   "source": [
    "recovered_y_0, recovered_y_pred_0, delta_0 = recover_quake(y_pred_0, y_0, val_data_mean0, val_data_var0, len(quakes0))\n",
    "recovered_y_1, recovered_y_pred_1, delta_1 = recover_quake(y_pred_1, y_1, val_data_mean1, val_data_var1, len(quakes1))\n",
    "recovered_y_2, recovered_y_pred_2, delta_2 = recover_quake(y_pred_2, y_2, val_data_mean2, val_data_var2, len(quakes2))\n",
    "recovered_y_3, recovered_y_pred_3, delta_3 = recover_quake(y_pred_3, y_3, val_data_mean3, val_data_var3, len(quakes3))\n",
    "\n",
    "plt.figure()\n",
    "plt.hist(delta_0)\n",
    "plt.show()\n",
    "\n",
    "plt.figure()\n",
    "plt.hist(delta_1)\n",
    "plt.show()\n",
    "\n",
    "plt.figure()\n",
    "plt.hist(delta_2)\n",
    "plt.show()\n",
    "\n",
    "plt.figure()\n",
    "plt.hist(delta_3)\n",
    "plt.show()"
   ]
  },
  {
   "cell_type": "code",
   "execution_count": 124,
   "metadata": {},
   "outputs": [
    {
     "data": {
      "text/plain": [
       "(1138200,)"
      ]
     },
     "execution_count": 124,
     "metadata": {},
     "output_type": "execute_result"
    }
   ],
   "source": [
    "delta_0.shape"
   ]
  },
  {
   "cell_type": "code",
   "execution_count": 125,
   "metadata": {},
   "outputs": [
    {
     "data": {
      "text/plain": [
       "(5.419898286478012e-05,\n",
       " 7.795236902265659e-05,\n",
       " 0.0017449141082382439,\n",
       " 0.10055656827462466)"
      ]
     },
     "execution_count": 125,
     "metadata": {},
     "output_type": "execute_result"
    }
   ],
   "source": [
    "def mae(delta):\n",
    "    return np.mean(np.abs(delta))\n",
    "mae(delta_0), mae(delta_1), mae(delta_2), mae(delta_3)"
   ]
  },
  {
   "cell_type": "code",
   "execution_count": 102,
   "metadata": {},
   "outputs": [
    {
     "data": {
      "text/plain": [
       "(0.051335342616138896,\n",
       " 0.05870978733003937,\n",
       " 0.054163878671957114,\n",
       " 0.0696121938276936)"
      ]
     },
     "execution_count": 102,
     "metadata": {},
     "output_type": "execute_result"
    }
   ],
   "source": [
    "mae(delta_0)/np.mean(val_data_var0), mae(delta_1)/np.mean(val_data_var1), mae(delta_2)/np.mean(val_data_var2), mae(delta_3)/np.mean(val_data_var3)"
   ]
  },
  {
   "cell_type": "code",
   "execution_count": 126,
   "metadata": {},
   "outputs": [
    {
     "data": {
      "text/plain": [
       "(0.05206507329166346,\n",
       " 0.0674936430059016,\n",
       " 0.061877089629413955,\n",
       " 0.06856738454343776)"
      ]
     },
     "execution_count": 126,
     "metadata": {},
     "output_type": "execute_result"
    }
   ],
   "source": [
    "mae(delta_0)/np.mean(val_data_var0), mae(delta_1)/np.mean(val_data_var1), mae(delta_2)/np.mean(val_data_var2), mae(delta_3)/np.mean(val_data_var3)"
   ]
  },
  {
   "cell_type": "code",
   "execution_count": 103,
   "metadata": {},
   "outputs": [
    {
     "name": "stdout",
     "output_type": "stream",
     "text": [
      "\n",
      "Explained Variance Score: 0.12597027154622653\n",
      "Max Error Score: 1.0187752057129082\n",
      "Mean Absolute Error Score: 0.07124642067985844\n",
      "Mean Squared Error Score: 0.013278786865322951\n",
      "Median Absolute Error Score: 0.03950557876711811\n",
      "R2 Score: 0.1035068495877296\n",
      "\n",
      "Explained Variance Score: 0.2987994545921048\n",
      "Max Error Score: 1.0332766566680882\n",
      "Mean Absolute Error Score: 0.06141426821621295\n",
      "Mean Squared Error Score: 0.012039806193358642\n",
      "Median Absolute Error Score: 0.0276808868294087\n",
      "R2 Score: 0.2711263383859017\n",
      "\n",
      "Explained Variance Score: 0.45475568731101224\n",
      "Max Error Score: 1.0231747983308597\n",
      "Mean Absolute Error Score: 0.052176421992162554\n",
      "Mean Squared Error Score: 0.009706775212001644\n",
      "Median Absolute Error Score: 0.02234005811922141\n",
      "R2 Score: 0.43635255232216485\n",
      "\n",
      "Explained Variance Score: 0.5570147116077654\n",
      "Max Error Score: 0.5245725556142209\n",
      "Mean Absolute Error Score: 0.06416758623236007\n",
      "Mean Squared Error Score: 0.009595106903524558\n",
      "Median Absolute Error Score: 0.03792097784908973\n",
      "R2 Score: 0.4413200192574873\n"
     ]
    }
   ],
   "source": [
    "from sklearn import metrics\n",
    "\n",
    "for y_true, y_pred in zip([y_0, y_1, y_2, y_3], [y_pred_0, y_pred_1, y_pred_2, y_pred_3]):\n",
    "    print()\n",
    "    y_true = y_true.reshape(-1)\n",
    "    y_pred = y_pred.reshape(-1)\n",
    "    print(\"Explained Variance Score:\", metrics.explained_variance_score(y_true, y_pred)) \n",
    "    print(\"Max Error Score:\", metrics.max_error(y_true, y_pred)) \n",
    "    print(\"Mean Absolute Error Score:\", metrics.mean_absolute_error(y_true, y_pred)) \n",
    "    print(\"Mean Squared Error Score:\", metrics.mean_squared_error(y_true, y_pred)) \n",
    "    print(\"Median Absolute Error Score:\", metrics.median_absolute_error(y_true, y_pred)) \n",
    "    print(\"R2 Score:\", metrics.r2_score(y_true, y_pred)) "
   ]
  },
  {
   "cell_type": "code",
   "execution_count": 127,
   "metadata": {},
   "outputs": [
    {
     "name": "stdout",
     "output_type": "stream",
     "text": [
      "\n",
      "Explained Variance Score: 0.1060857770441539\n",
      "Max Error Score: 1.0245778519922433\n",
      "Mean Absolute Error Score: 0.07283531029130481\n",
      "Mean Squared Error Score: 0.013501580886088846\n",
      "Median Absolute Error Score: 0.0415267951802579\n",
      "R2 Score: 0.08846531638178368\n",
      "\n",
      "Explained Variance Score: 0.27962517262676545\n",
      "Max Error Score: 1.0415457165529438\n",
      "Mean Absolute Error Score: 0.06316287137363538\n",
      "Mean Squared Error Score: 0.012298841328300454\n",
      "Median Absolute Error Score: 0.029569121142874747\n",
      "R2 Score: 0.2554446999724953\n",
      "\n",
      "Explained Variance Score: 0.4175733533401248\n",
      "Max Error Score: 1.0216758942516608\n",
      "Mean Absolute Error Score: 0.05480322837207757\n",
      "Mean Squared Error Score: 0.010347543356240232\n",
      "Median Absolute Error Score: 0.02395192184160002\n",
      "R2 Score: 0.3991447957639632\n",
      "\n",
      "Explained Variance Score: 0.5493090200248509\n",
      "Max Error Score: 0.4884220992129309\n",
      "Mean Absolute Error Score: 0.06696359417421027\n",
      "Mean Squared Error Score: 0.010473479334088726\n",
      "Median Absolute Error Score: 0.03863667166328704\n",
      "R2 Score: 0.390176337636589\n"
     ]
    }
   ],
   "source": [
    "from sklearn import metrics\n",
    "\n",
    "for y_true, y_pred in zip([y_0, y_1, y_2, y_3], [y_pred_0, y_pred_1, y_pred_2, y_pred_3]):\n",
    "    print()\n",
    "    y_true = y_true.reshape(-1)\n",
    "    y_pred = y_pred.reshape(-1)\n",
    "    print(\"Explained Variance Score:\", metrics.explained_variance_score(y_true, y_pred)) \n",
    "    print(\"Max Error Score:\", metrics.max_error(y_true, y_pred)) \n",
    "    print(\"Mean Absolute Error Score:\", metrics.mean_absolute_error(y_true, y_pred)) \n",
    "    print(\"Mean Squared Error Score:\", metrics.mean_squared_error(y_true, y_pred)) \n",
    "    print(\"Median Absolute Error Score:\", metrics.median_absolute_error(y_true, y_pred)) \n",
    "    print(\"R2 Score:\", metrics.r2_score(y_true, y_pred)) "
   ]
  },
  {
   "cell_type": "code",
   "execution_count": 104,
   "metadata": {},
   "outputs": [
    {
     "data": {
      "text/plain": [
       "0.05634892007920454"
      ]
     },
     "execution_count": 104,
     "metadata": {},
     "output_type": "execute_result"
    }
   ],
   "source": [
    "overall_mae = x_0.shape[0]*mae(delta_0)/np.mean(val_data_var0) + x_1.shape[0] * mae(delta_1)/np.mean(val_data_var1) + x_2.shape[0]*mae(delta_2)/np.mean(val_data_var2)\n",
    "\n",
    "overall_mae /= x_0.shape[0] + x_1.shape[0] + x_2.shape[0]\n",
    "overall_mae"
   ]
  },
  {
   "cell_type": "code",
   "execution_count": 105,
   "metadata": {},
   "outputs": [
    {
     "name": "stdout",
     "output_type": "stream",
     "text": [
      "Total R2:  0.22108892566559352\n"
     ]
    }
   ],
   "source": [
    "r2 = 0\n",
    "for num, y_true, y_pred in zip([x_0.shape[0], x_1.shape[0], x_2.shape[0]], [y_0, y_1, y_2], [y_pred_0, y_pred_1, y_pred_2]):\n",
    "    r2 += num*metrics.r2_score(y_true, y_pred)\n",
    "    \n",
    "print(\"Total R2: \", r2 / sum([x_0.shape[0], x_1.shape[0], x_2.shape[0]]))"
   ]
  },
  {
   "cell_type": "markdown",
   "metadata": {},
   "source": [
    "## Calculate mean absolute peak difference across stations"
   ]
  },
  {
   "cell_type": "code",
   "execution_count": 106,
   "metadata": {},
   "outputs": [
    {
     "data": {
      "text/plain": [
       "(2, 35, 15)"
      ]
     },
     "execution_count": 106,
     "metadata": {},
     "output_type": "execute_result"
    }
   ],
   "source": [
    "recovered_y_pred_3.shape"
   ]
  },
  {
   "cell_type": "code",
   "execution_count": 107,
   "metadata": {},
   "outputs": [
    {
     "name": "stdout",
     "output_type": "stream",
     "text": [
      "[0.0001313373493473066, 0.0003419728806222997, 0.008769613063940362, 0.41877629854512965]\n"
     ]
    }
   ],
   "source": [
    "y_preds = [recovered_y_pred_0, recovered_y_pred_1, recovered_y_pred_2, recovered_y_pred_3]\n",
    "y_trues = [recovered_y_0, recovered_y_1, recovered_y_2, recovered_y_3]\n",
    "map_diffs = [0]*4\n",
    "\n",
    "for mag in range(4):\n",
    "    map_diffs[mag] = np.mean(np.abs(np.max(y_preds[mag], axis=1) - np.max(y_trues[mag], axis=1)))\n",
    "#     map_diffs[mag] = np.mean(y_trues[mag])\n",
    "\n",
    "print(map_diffs)"
   ]
  },
  {
   "cell_type": "code",
   "execution_count": 128,
   "metadata": {},
   "outputs": [
    {
     "name": "stdout",
     "output_type": "stream",
     "text": [
      "[0.0001366008272111435, 0.0003366356563818395, 0.009393421883285987, 0.45003422403927706]\n"
     ]
    }
   ],
   "source": [
    "y_preds = [recovered_y_pred_0, recovered_y_pred_1, recovered_y_pred_2, recovered_y_pred_3]\n",
    "y_trues = [recovered_y_0, recovered_y_1, recovered_y_2, recovered_y_3]\n",
    "map_diffs = [0]*4\n",
    "\n",
    "for mag in range(4):\n",
    "    map_diffs[mag] = np.mean(np.abs(np.max(y_preds[mag], axis=1) - np.max(y_trues[mag], axis=1)))\n",
    "#     map_diffs[mag] = np.mean(y_trues[mag])\n",
    "\n",
    "print(map_diffs)"
   ]
  },
  {
   "cell_type": "code",
   "execution_count": 54,
   "metadata": {},
   "outputs": [
    {
     "data": {
      "image/png": "[encoded data removed]",
      "text/plain": [
       "<Figure size 576x432 with 1 Axes>"
      ]
     },
     "metadata": {
      "needs_background": "light"
     },
     "output_type": "display_data"
    }
   ],
   "source": [
    "[0.0001313373493473066, 0.0003419728806222997, 0.008769613063940362, 0.41877629854512965]\n",
    "plt.plot(recovered_y_3[0])\n",
    "plt.show()"
   ]
  },
  {
   "cell_type": "code",
   "execution_count": null,
   "metadata": {},
   "outputs": [],
   "source": []
  }
 ],
 "metadata": {
  "kernelspec": {
   "display_name": "Python 3",
   "language": "python",
   "name": "python3"
  },
  "language_info": {
   "codemirror_mode": {
    "name": "ipython",
    "version": 3
   },
   "file_extension": ".py",
   "mimetype": "text/x-python",
   "name": "python",
   "nbconvert_exporter": "python",
   "pygments_lexer": "ipython3",
   "version": "3.7.4"
  }
 },
 "nbformat": 4,
 "nbformat_minor": 4
}
