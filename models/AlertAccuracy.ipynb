{
 "cells": [
  {
   "cell_type": "markdown",
   "metadata": {},
   "source": [
    "# Find Classwise Accuracy"
   ]
  },
  {
   "cell_type": "code",
   "execution_count": 1,
   "metadata": {},
   "outputs": [
    {
     "name": "stderr",
     "output_type": "stream",
     "text": [
      "/opt/anaconda3/lib/python3.7/site-packages/tensorflow/python/framework/dtypes.py:526: FutureWarning: Passing (type, 1) or '1type' as a synonym of type is deprecated; in a future version of numpy, it will be understood as (type, (1,)) / '(1,)type'.\n",
      "  _np_qint8 = np.dtype([(\"qint8\", np.int8, 1)])\n",
      "/opt/anaconda3/lib/python3.7/site-packages/tensorflow/python/framework/dtypes.py:527: FutureWarning: Passing (type, 1) or '1type' as a synonym of type is deprecated; in a future version of numpy, it will be understood as (type, (1,)) / '(1,)type'.\n",
      "  _np_quint8 = np.dtype([(\"quint8\", np.uint8, 1)])\n",
      "/opt/anaconda3/lib/python3.7/site-packages/tensorflow/python/framework/dtypes.py:528: FutureWarning: Passing (type, 1) or '1type' as a synonym of type is deprecated; in a future version of numpy, it will be understood as (type, (1,)) / '(1,)type'.\n",
      "  _np_qint16 = np.dtype([(\"qint16\", np.int16, 1)])\n",
      "/opt/anaconda3/lib/python3.7/site-packages/tensorflow/python/framework/dtypes.py:529: FutureWarning: Passing (type, 1) or '1type' as a synonym of type is deprecated; in a future version of numpy, it will be understood as (type, (1,)) / '(1,)type'.\n",
      "  _np_quint16 = np.dtype([(\"quint16\", np.uint16, 1)])\n",
      "/opt/anaconda3/lib/python3.7/site-packages/tensorflow/python/framework/dtypes.py:530: FutureWarning: Passing (type, 1) or '1type' as a synonym of type is deprecated; in a future version of numpy, it will be understood as (type, (1,)) / '(1,)type'.\n",
      "  _np_qint32 = np.dtype([(\"qint32\", np.int32, 1)])\n",
      "/opt/anaconda3/lib/python3.7/site-packages/tensorflow/python/framework/dtypes.py:535: FutureWarning: Passing (type, 1) or '1type' as a synonym of type is deprecated; in a future version of numpy, it will be understood as (type, (1,)) / '(1,)type'.\n",
      "  np_resource = np.dtype([(\"resource\", np.ubyte, 1)])\n"
     ]
    },
    {
     "data": {
      "text/plain": [
       "1"
      ]
     },
     "execution_count": 1,
     "metadata": {},
     "output_type": "execute_result"
    }
   ],
   "source": [
    "from __future__ import absolute_import, division, print_function, unicode_literals\n",
    "import tensorflow as tf\n",
    "#tf.enable_eager_execution()\n",
    "\n",
    "import matplotlib as mpl\n",
    "import matplotlib.pyplot as plt\n",
    "import numpy as np\n",
    "import os\n",
    "import pandas as pd\n",
    "import seaborn as sns\n",
    "\n",
    "mpl.rcParams['figure.figsize'] = (8, 6)\n",
    "mpl.rcParams['axes.grid'] = False\n",
    "\n",
    "tf.random.set_random_seed(13)\n",
    "\n",
    "import py3nvml\n",
    "py3nvml.grab_gpus(1)"
   ]
  },
  {
   "cell_type": "code",
   "execution_count": 2,
   "metadata": {},
   "outputs": [],
   "source": [
    "multi_step = True\n",
    "num_predicted_steps = 10\n",
    "model_path = \"trained_models_acc/multistep/LSTM3_10steps.h5\""
   ]
  },
  {
   "cell_type": "markdown",
   "metadata": {},
   "source": [
    "# Load the dataset"
   ]
  },
  {
   "cell_type": "code",
   "execution_count": 3,
   "metadata": {},
   "outputs": [
    {
     "name": "stdout",
     "output_type": "stream",
     "text": [
      "Before:  (35679, 15, 60)\n",
      "After:  (35679, 60, 15)\n"
     ]
    }
   ],
   "source": [
    "dataset = np.load('../data/acc/compressed/full_data.npy')\n",
    "print(\"Before: \", dataset.shape)\n",
    "#Swap axes\n",
    "dataset = dataset.swapaxes(1, -1)\n",
    "\n",
    "#Combine station and xyz\n",
    "#dataset = dataset.reshape(dataset.shape[0], dataset.shape[1], -1)\n",
    "print(\"After: \", dataset.shape)"
   ]
  },
  {
   "cell_type": "code",
   "execution_count": 4,
   "metadata": {},
   "outputs": [],
   "source": [
    "def shuffle(x):\n",
    "    ## Shuffle together two arrays of the exact same dimensions\n",
    "    idxs = np.arange(x.shape[0])\n",
    "    np.random.seed(10)\n",
    "    np.random.shuffle(idxs)\n",
    "    x = x[idxs]\n",
    "    return x\n",
    "\n",
    "dataset = shuffle(dataset)"
   ]
  },
  {
   "cell_type": "code",
   "execution_count": 5,
   "metadata": {},
   "outputs": [],
   "source": [
    "data_mean = np.mean(dataset, axis = 1)\n",
    "data_var = np.linalg.norm(dataset - np.expand_dims(data_mean, 1), axis = 1)\n",
    "\n",
    "#Add some epsilon to make the divide by zero var work\n",
    "epsilon = 1\n",
    "data_var[data_var == 0] = epsilon\n",
    "data_var[data_var == 0] = epsilon\n",
    "\n",
    "dataset = (dataset - np.expand_dims(data_mean, 1))/np.expand_dims(data_var, 1)"
   ]
  },
  {
   "cell_type": "code",
   "execution_count": 6,
   "metadata": {},
   "outputs": [],
   "source": [
    "def multivariate_data(dataset, history_size,\n",
    "                      target_size, step, single_step=False):\n",
    "    data = []\n",
    "    labels = []\n",
    "    \n",
    "    start_index = history_size\n",
    "    end_index = dataset.shape[1] - target_size\n",
    "        \n",
    "    for quake in dataset:\n",
    "\n",
    "        for i in range(start_index, end_index):\n",
    "            indices = range(i-history_size, i, step)\n",
    "            data.append(quake[indices])\n",
    "\n",
    "            if single_step:\n",
    "                labels.append(quake[i+target_size])\n",
    "            else:\n",
    "                labels.append(quake[i:i+target_size])\n",
    "\n",
    "    return np.array(data), np.array(labels)"
   ]
  },
  {
   "cell_type": "code",
   "execution_count": 7,
   "metadata": {},
   "outputs": [
    {
     "data": {
      "text/plain": [
       "(7136, 60, 15)"
      ]
     },
     "execution_count": 7,
     "metadata": {},
     "output_type": "execute_result"
    }
   ],
   "source": [
    "TRAIN_SPLIT_IDX = int(dataset.shape[0]*0.8)\n",
    "val_dataset = dataset[TRAIN_SPLIT_IDX:]\n",
    "val_data_mean = data_mean[TRAIN_SPLIT_IDX:]\n",
    "val_data_var = data_var[TRAIN_SPLIT_IDX:]\n",
    "\n",
    "val_dataset.shape"
   ]
  },
  {
   "cell_type": "code",
   "execution_count": 8,
   "metadata": {},
   "outputs": [
    {
     "data": {
      "text/plain": [
       "((249760, 15, 15), (249760, 10, 15))"
      ]
     },
     "execution_count": 8,
     "metadata": {},
     "output_type": "execute_result"
    }
   ],
   "source": [
    "past_history = 15\n",
    "STEP = 1\n",
    "\n",
    "x, y = multivariate_data(val_dataset,past_history,\n",
    "                                                   num_predicted_steps, STEP,\n",
    "                                                   single_step=not multi_step)\n",
    "\n",
    "x.shape, y.shape"
   ]
  },
  {
   "cell_type": "markdown",
   "metadata": {},
   "source": [
    "# Load the model"
   ]
  },
  {
   "cell_type": "code",
   "execution_count": 9,
   "metadata": {},
   "outputs": [
    {
     "name": "stdout",
     "output_type": "stream",
     "text": [
      "WARNING:tensorflow:From /opt/anaconda3/lib/python3.7/site-packages/tensorflow/python/ops/resource_variable_ops.py:435: colocate_with (from tensorflow.python.framework.ops) is deprecated and will be removed in a future version.\n",
      "Instructions for updating:\n",
      "Colocations handled automatically by placer.\n",
      "_________________________________________________________________\n",
      "Layer (type)                 Output Shape              Param #   \n",
      "=================================================================\n",
      "lstm (LSTM)                  (None, 15, 128)           73728     \n",
      "_________________________________________________________________\n",
      "lstm_1 (LSTM)                (None, 15, 64)            49408     \n",
      "_________________________________________________________________\n",
      "lstm_2 (LSTM)                (None, 64)                33024     \n",
      "_________________________________________________________________\n",
      "dense (Dense)                (None, 150)               9750      \n",
      "=================================================================\n",
      "Total params: 165,910\n",
      "Trainable params: 165,910\n",
      "Non-trainable params: 0\n",
      "_________________________________________________________________\n"
     ]
    }
   ],
   "source": [
    "single_step_model = tf.keras.models.Sequential()\n",
    "single_step_model.add(tf.keras.layers.LSTM(128,\n",
    "                                          return_sequences=True,\n",
    "                                          input_shape=x.shape[-2:]))\n",
    "single_step_model.add(tf.keras.layers.LSTM(64, return_sequences=True, activation='relu'))\n",
    "single_step_model.add(tf.keras.layers.LSTM(64, activation='relu'))\n",
    "single_step_model.add(tf.keras.layers.Dense(15*num_predicted_steps))\n",
    "\n",
    "single_step_model.load_weights(model_path)\n",
    "\n",
    "single_step_model.compile(optimizer='nadam', loss='mae', metrics=['mae', 'mse'])\n",
    "single_step_model.summary()"
   ]
  },
  {
   "cell_type": "code",
   "execution_count": null,
   "metadata": {
    "jupyter": {
     "source_hidden": true
    }
   },
   "outputs": [],
   "source": [
    "single_step_model = tf.keras.models.Sequential()\n",
    "single_step_model.add(tf.keras.layers.LSTM(64,\n",
    "                                          return_sequences=True,\n",
    "                                          input_shape=x.shape[-2:]))\n",
    "single_step_model.add(tf.keras.layers.LSTM(32, return_sequences=True, activation='relu'))\n",
    "single_step_model.add(tf.keras.layers.LSTM(32, activation='relu'))\n",
    "single_step_model.add(tf.keras.layers.Dense(15*num_predicted_steps))\n",
    "\n",
    "single_step_model.load_weights(model_path)\n",
    "\n",
    "single_step_model.compile(optimizer='nadam', loss='mae', metrics=['mae', 'mse'])\n",
    "single_step_model.summary()"
   ]
  },
  {
   "cell_type": "code",
   "execution_count": 10,
   "metadata": {},
   "outputs": [],
   "source": [
    "y_pred = single_step_model.predict(x, batch_size = 4096).reshape(y.shape)"
   ]
  },
  {
   "cell_type": "code",
   "execution_count": 11,
   "metadata": {},
   "outputs": [
    {
     "data": {
      "text/plain": [
       "((249760, 10, 15), (249760, 10, 15), 7136)"
      ]
     },
     "execution_count": 11,
     "metadata": {},
     "output_type": "execute_result"
    }
   ],
   "source": [
    "y_pred.shape, y.shape, len(val_dataset)"
   ]
  },
  {
   "cell_type": "code",
   "execution_count": 12,
   "metadata": {},
   "outputs": [
    {
     "data": {
      "text/plain": [
       "((249760, 15), (249760, 15), 7136)"
      ]
     },
     "execution_count": 12,
     "metadata": {},
     "output_type": "execute_result"
    }
   ],
   "source": [
    "#Optional, if multistep then take last one\n",
    "if num_predicted_steps > 1:\n",
    "    #y_pred = y_pred[:, -1, :]\n",
    "    #y = y[:, -1, :]\n",
    "    y_pred = np.max(y_pred, axis = 1)\n",
    "    y = np.max(y, axis = 1)\n",
    "    \n",
    "y_pred.shape, y.shape, len(val_dataset)"
   ]
  },
  {
   "cell_type": "code",
   "execution_count": 13,
   "metadata": {},
   "outputs": [
    {
     "data": {
      "image/png": "[encoded data removed]",
      "text/plain": [
       "<Figure size 432x288 with 1 Axes>"
      ]
     },
     "metadata": {
      "needs_background": "light"
     },
     "output_type": "display_data"
    }
   ],
   "source": [
    "def recover_quake(y_pred, y, means, norms, num_quakes):\n",
    "    y_pred = y_pred.reshape((num_quakes, -1, 15))\n",
    "    y = y.reshape((num_quakes, -1, 15))\n",
    "    \n",
    "    y = y*np.expand_dims(norms, 1) + np.expand_dims(means, 1)\n",
    "    y_pred = y_pred*np.expand_dims(norms, 1) + np.expand_dims(means, 1)\n",
    "\n",
    "    return y, y_pred, (y - y_pred).reshape((-1,))\n",
    "\n",
    "og_y, og_y_pred, delta = recover_quake(y_pred, y, val_data_mean, val_data_var, len(val_dataset))\n",
    "\n",
    "plt.figure()\n",
    "plt.hist(delta)\n",
    "plt.show()"
   ]
  },
  {
   "cell_type": "code",
   "execution_count": 14,
   "metadata": {},
   "outputs": [
    {
     "data": {
      "text/plain": [
       "(3746400,)"
      ]
     },
     "execution_count": 14,
     "metadata": {},
     "output_type": "execute_result"
    }
   ],
   "source": [
    "delta.shape"
   ]
  },
  {
   "cell_type": "code",
   "execution_count": 15,
   "metadata": {},
   "outputs": [
    {
     "data": {
      "text/plain": [
       "50.94150115377085"
      ]
     },
     "execution_count": 15,
     "metadata": {},
     "output_type": "execute_result"
    }
   ],
   "source": [
    "def mae(delta):\n",
    "    return np.mean(np.abs(delta))\n",
    "mae(delta)"
   ]
  },
  {
   "cell_type": "code",
   "execution_count": 16,
   "metadata": {},
   "outputs": [
    {
     "data": {
      "text/plain": [
       "0.1264863877163604"
      ]
     },
     "execution_count": 16,
     "metadata": {},
     "output_type": "execute_result"
    }
   ],
   "source": [
    "mae(delta)/np.mean(val_data_var)"
   ]
  },
  {
   "cell_type": "code",
   "execution_count": 17,
   "metadata": {},
   "outputs": [
    {
     "name": "stdout",
     "output_type": "stream",
     "text": [
      "\n",
      "Explained Variance Score: 0.38004639529810547\n",
      "Max Error Score: 1.0238174916686422\n",
      "Mean Absolute Error Score: 0.13697579331731113\n",
      "Mean Squared Error Score: 0.045485027278205525\n",
      "Median Absolute Error Score: 0.0724460356444764\n",
      "R2 Score: 0.08760834888352276\n"
     ]
    }
   ],
   "source": [
    "from sklearn import metrics\n",
    "\n",
    "for y_true, y_pred in [(y, y_pred)]:\n",
    "    print()\n",
    "    y_true = y_true.reshape(-1)\n",
    "    y_pred = y_pred.reshape(-1)\n",
    "    print(\"Explained Variance Score:\", metrics.explained_variance_score(y_true, y_pred)) \n",
    "    print(\"Max Error Score:\", metrics.max_error(y_true, y_pred)) \n",
    "    print(\"Mean Absolute Error Score:\", metrics.mean_absolute_error(y_true, y_pred)) \n",
    "    print(\"Mean Squared Error Score:\", metrics.mean_squared_error(y_true, y_pred)) \n",
    "    print(\"Median Absolute Error Score:\", metrics.median_absolute_error(y_true, y_pred)) \n",
    "    print(\"R2 Score:\", metrics.r2_score(y_true, y_pred)) "
   ]
  },
  {
   "cell_type": "markdown",
   "metadata": {},
   "source": [
    "# Alert accuracy"
   ]
  },
  {
   "cell_type": "code",
   "execution_count": 18,
   "metadata": {},
   "outputs": [],
   "source": [
    "#MMI accel cutoffs (cm/s^2) \n",
    "#              I,  II/III  IV        V      VI      VII       VIII      IX    X+\n",
    "MMI_cutoffs = [    1.667, 13.729, 38.246, 90.221, 176.520, 333.426, 637.432, 1216.025]"
   ]
  },
  {
   "cell_type": "code",
   "execution_count": 19,
   "metadata": {},
   "outputs": [
    {
     "name": "stdout",
     "output_type": "stream",
     "text": [
      "(7136, 35, 15) (7136, 35, 15) (3746400,) (3746400,)\n"
     ]
    }
   ],
   "source": [
    "og_MMI = np.searchsorted(MMI_cutoffs, og_y.reshape(-1), side = 'right')\n",
    "og_MMI_pred = np.searchsorted(MMI_cutoffs, og_y_pred.reshape(-1), side = 'right')\n",
    "print(og_y.shape, og_y_pred.shape, og_MMI.shape, og_MMI_pred.shape)"
   ]
  },
  {
   "cell_type": "code",
   "execution_count": 20,
   "metadata": {},
   "outputs": [
    {
     "data": {
      "text/plain": [
       "((array([0, 1, 2, 3, 4, 5, 6, 7, 8]),\n",
       "  array([ 237546, 2160168,  672593,  307617,  157402,   94127,   52834,\n",
       "           28735,   35378])),\n",
       " (array([0, 1, 2, 3, 4, 5, 6, 7, 8]),\n",
       "  array([ 338150, 2319129,  579488,  252079,  118916,   62193,   34803,\n",
       "           18562,   23080])))"
      ]
     },
     "execution_count": 20,
     "metadata": {},
     "output_type": "execute_result"
    }
   ],
   "source": [
    "np.unique(og_MMI, return_counts = True), np.unique(og_MMI_pred, return_counts = True)"
   ]
  },
  {
   "cell_type": "code",
   "execution_count": 21,
   "metadata": {},
   "outputs": [
    {
     "name": "stdout",
     "output_type": "stream",
     "text": [
      "[0, 1, 2, 3, 4, 5, 6, 7, 8]\n"
     ]
    },
    {
     "data": {
      "image/png": "[encoded data removed]",
      "text/plain": [
       "<Figure size 720x504 with 2 Axes>"
      ]
     },
     "metadata": {},
     "output_type": "display_data"
    }
   ],
   "source": [
    "def print_confusion_matrix(confusion_matrix, class_names = None, figsize = (10,7), fontsize=14, labels=None, title=None):\n",
    "    \"\"\"Prints a confusion matrix, as returned by sklearn.metrics.confusion_matrix, as a heatmap.\n",
    "    \n",
    "    Arguments\n",
    "    ---------\n",
    "    confusion_matrix: numpy.ndarray\n",
    "        The numpy.ndarray object returned from a call to sklearn.metrics.confusion_matrix. \n",
    "        Similarly constructed ndarrays can also be used.\n",
    "    class_names: list\n",
    "        An ordered list of class names, in the order they index the given confusion matrix.\n",
    "    figsize: tuple\n",
    "        A 2-long tuple, the first value determining the horizontal size of the ouputted figure,\n",
    "        the second determining the vertical size. Defaults to (10,7).\n",
    "    fontsize: int\n",
    "        Font size for axes labels. Defaults to 14.\n",
    "        \n",
    "    Returns\n",
    "    -------\n",
    "    matplotlib.figure.Figure\n",
    "        The resulting confusion matrix figure\n",
    "    \"\"\"\n",
    "    sns.set(font_scale=1)\n",
    "    if class_names == None:\n",
    "        class_names = list(np.arange(len(confusion_matrix)))\n",
    "        \n",
    "    print(class_names)\n",
    "    \n",
    "    df_cm = pd.DataFrame(\n",
    "        confusion_matrix, index=class_names, columns=class_names, \n",
    "    )\n",
    "    fig = plt.figure(figsize=figsize)\n",
    "    heatmap = sns.heatmap(df_cm, annot=True, fmt='.2f')\n",
    "    \n",
    "    if labels:\n",
    "        heatmap.yaxis.set_ticklabels(labels, rotation=0, ha='right', fontsize=fontsize)\n",
    "        heatmap.xaxis.set_ticklabels(labels, rotation=45, ha='right', fontsize=fontsize)\n",
    "    else:\n",
    "        heatmap.yaxis.set_ticklabels(heatmap.yaxis.get_ticklabels(), rotation=0, ha='right', fontsize=fontsize)\n",
    "        heatmap.xaxis.set_ticklabels(heatmap.xaxis.get_ticklabels(), rotation=45, ha='right', fontsize=fontsize)\n",
    "    plt.ylabel('True label')\n",
    "    plt.xlabel('Predicted label')\n",
    "    if title != None:\n",
    "        plt.title(title)\n",
    "    return fig\n",
    "\n",
    "cmat = metrics.confusion_matrix(og_MMI, og_MMI_pred)\n",
    "cmat = cmat / np.expand_dims(np.sum(cmat, axis = 1), 1)\n",
    "print_confusion_matrix(cmat, labels=[\"I\", \"II/III\", \"IV\", \"V\", \"VI\", \"VII\", \"VIII\", \"IX\", \"X+\"], title=\"MMI Confusion\");"
   ]
  },
  {
   "cell_type": "code",
   "execution_count": 22,
   "metadata": {},
   "outputs": [
    {
     "data": {
      "text/plain": [
       "(0.0016206848370537538, 0.1203280539302424)"
      ]
     },
     "execution_count": 22,
     "metadata": {},
     "output_type": "execute_result"
    }
   ],
   "source": [
    "alert_thresh = 3  #MMI V\n",
    "fpr = np.mean(og_MMI_pred[og_MMI < alert_thresh] > alert_thresh)\n",
    "tnr = np.mean(og_MMI_pred[og_MMI > alert_thresh] < alert_thresh)\n",
    "fpr, tnr"
   ]
  },
  {
   "cell_type": "code",
   "execution_count": null,
   "metadata": {},
   "outputs": [],
   "source": []
  }
 ],
 "metadata": {
  "kernelspec": {
   "display_name": "Python 3",
   "language": "python",
   "name": "python3"
  },
  "language_info": {
   "codemirror_mode": {
    "name": "ipython",
    "version": 3
   },
   "file_extension": ".py",
   "mimetype": "text/x-python",
   "name": "python",
   "nbconvert_exporter": "python",
   "pygments_lexer": "ipython3",
   "version": "3.7.4"
  }
 },
 "nbformat": 4,
 "nbformat_minor": 4
}
